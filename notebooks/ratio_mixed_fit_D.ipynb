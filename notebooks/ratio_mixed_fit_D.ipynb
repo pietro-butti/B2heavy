{
 "cells": [
  {
   "cell_type": "code",
   "execution_count": 8,
   "metadata": {},
   "outputs": [],
   "source": [
    "import numpy             as np\n",
    "import gvar              as gv\n",
    "import matplotlib.pyplot as plt\n",
    "import pandas            as pd\n",
    "import lsqfit\n",
    "import itertools\n",
    "from tqdm import tqdm"
   ]
  },
  {
   "cell_type": "code",
   "execution_count": 9,
   "metadata": {},
   "outputs": [],
   "source": [
    "from b2heavy.FnalHISQMetadata import params as mData"
   ]
  },
  {
   "cell_type": "code",
   "execution_count": 10,
   "metadata": {},
   "outputs": [],
   "source": [
    "from b2heavy.ThreePointFunctions.globalfit import RatioSet"
   ]
  },
  {
   "cell_type": "code",
   "execution_count": 11,
   "metadata": {},
   "outputs": [],
   "source": [
    "DATA_DIR = '/Users/pietro/code/data_analysis/BtoD/Alex/'\n",
    "DATA_2PT = '/Users/pietro/Desktop/lattice24/0.25/corr2_3'"
   ]
  },
  {
   "cell_type": "code",
   "execution_count": 12,
   "metadata": {},
   "outputs": [],
   "source": [
    "ENSEMBLE = 'Coarse-1'"
   ]
  },
  {
   "cell_type": "code",
   "execution_count": 13,
   "metadata": {},
   "outputs": [],
   "source": [
    "MOMLIST = ['000','100','200','300']\n",
    "RATLIST = ['QPLUS','RPLUS','RMINUS','XF']\n",
    "\n",
    "SMSLIST = ['1S','RW']\n",
    "\n",
    "cov_specs = dict(scale=True,shrink=True,cutsvd=1E-12)"
   ]
  },
  {
   "cell_type": "code",
   "execution_count": 14,
   "metadata": {},
   "outputs": [
    {
     "name": "stderr",
     "output_type": "stream",
     "text": [
      "100%|██████████| 10/10 [00:01<00:00,  6.87it/s]\n"
     ]
    }
   ],
   "source": [
    "rset = RatioSet(ENSEMBLE,MOMLIST,RATLIST,SMSLIST)\n",
    "rset.collect(DATA_DIR,DATA_2PT)"
   ]
  },
  {
   "cell_type": "code",
   "execution_count": 31,
   "metadata": {},
   "outputs": [],
   "source": [
    "from b2heavy.ThreePointFunctions.utils import read_config_fit, dump_fit_object\n",
    "\n",
    "de_Dst = {}\n",
    "de_D = {}\n",
    "de_B = {}\n",
    "for mom in MOMLIST:\n",
    "    tag = f'fit2pt_config_{ENSEMBLE}_D_{mom}'\n",
    "    fit,pars = read_config_fit(tag,path=DATA_2PT)\n",
    "    de_D[mom] = np.exp(pars['dE'][1])\n",
    "\n",
    "    tag = f'fit2pt_config_{ENSEMBLE}_Dst_{mom}'\n",
    "    fit,pars = read_config_fit(tag,path=DATA_2PT)\n",
    "    de_Dst[mom] = np.exp(pars['dE'][1])\n",
    "\n",
    "    tag = f'fit2pt_config_{ENSEMBLE}_B_{mom}'\n",
    "    fit,pars = read_config_fit(tag,path=DATA_2PT)\n",
    "    de_B[mom] = np.exp(pars['dE'][1])"
   ]
  },
  {
   "cell_type": "code",
   "execution_count": 33,
   "metadata": {},
   "outputs": [
    {
     "name": "stdout",
     "output_type": "stream",
     "text": [
      "B   {'000': 0.365(50), '100': 0.443(51), '200': 0.349(34), '300': 0.341(41)}\n",
      "D   {'000': 0.479(43), '100': 0.508(28), '200': 0.392(29), '300': 0.399(45)}\n",
      "Dst {'000': 0.26(13), '100': 0.173(79), '200': 0.217(84), '300': 0.212(47)}\n"
     ]
    }
   ],
   "source": [
    "print('B  ',de_B  )\n",
    "print('D  ',de_D  )\n",
    "print('Dst',de_Dst)"
   ]
  },
  {
   "cell_type": "code",
   "execution_count": 30,
   "metadata": {},
   "outputs": [
    {
     "ename": "NameError",
     "evalue": "name 'dE_D' is not defined",
     "output_type": "error",
     "traceback": [
      "\u001b[0;31m---------------------------------------------------------------------------\u001b[0m",
      "\u001b[0;31mNameError\u001b[0m                                 Traceback (most recent call last)",
      "Cell \u001b[0;32mIn[30], line 1\u001b[0m\n\u001b[0;32m----> 1\u001b[0m \u001b[43mdE_D\u001b[49m\n",
      "\u001b[0;31mNameError\u001b[0m: name 'dE_D' is not defined"
     ]
    }
   ],
   "source": [
    "de_D"
   ]
  },
  {
   "cell_type": "code",
   "execution_count": 97,
   "metadata": {},
   "outputs": [],
   "source": [
    "# rset.remove(\n",
    "#     ('100','QPLUS','RW'),\n",
    "#     ('200','QPLUS','RW'),\n",
    "#     ('300','QPLUS','RW'),\n",
    "# )"
   ]
  },
  {
   "cell_type": "code",
   "execution_count": 20,
   "metadata": {},
   "outputs": [],
   "source": [
    "priors = rset.params()"
   ]
  },
  {
   "cell_type": "code",
   "execution_count": 24,
   "metadata": {},
   "outputs": [
    {
     "data": {
      "text/html": [
       "<div>\n",
       "<style scoped>\n",
       "    .dataframe tbody tr th:only-of-type {\n",
       "        vertical-align: middle;\n",
       "    }\n",
       "\n",
       "    .dataframe tbody tr th {\n",
       "        vertical-align: top;\n",
       "    }\n",
       "\n",
       "    .dataframe thead th {\n",
       "        text-align: right;\n",
       "    }\n",
       "</style>\n",
       "<table border=\"1\" class=\"dataframe\">\n",
       "  <thead>\n",
       "    <tr style=\"text-align: right;\">\n",
       "      <th></th>\n",
       "      <th></th>\n",
       "      <th>f0</th>\n",
       "      <th>A_1S</th>\n",
       "      <th>A_RW</th>\n",
       "      <th>B_1S</th>\n",
       "      <th>B_RW</th>\n",
       "    </tr>\n",
       "    <tr>\n",
       "      <th>mom</th>\n",
       "      <th>ratio</th>\n",
       "      <th></th>\n",
       "      <th></th>\n",
       "      <th></th>\n",
       "      <th></th>\n",
       "      <th></th>\n",
       "    </tr>\n",
       "  </thead>\n",
       "  <tbody>\n",
       "    <tr>\n",
       "      <th>000</th>\n",
       "      <th>RPLUS</th>\n",
       "      <td>1.017(13)</td>\n",
       "      <td>[-0.015(10), -0.016(15)]</td>\n",
       "      <td>[-0.032(14), -0.017(15)]</td>\n",
       "      <td>[-0.015(10), -0.016(15)]</td>\n",
       "      <td>[-0.032(14), -0.017(15)]</td>\n",
       "    </tr>\n",
       "    <tr>\n",
       "      <th rowspan=\"3\" valign=\"top\">100</th>\n",
       "      <th>QPLUS</th>\n",
       "      <td>0.981(10)</td>\n",
       "      <td>[-0.0229(72), 0.029(15)]</td>\n",
       "      <td>[-0.0046(60), 0.021(13)]</td>\n",
       "      <td>[-0.0229(72), 0.029(15)]</td>\n",
       "      <td>[-0.0046(60), 0.021(13)]</td>\n",
       "    </tr>\n",
       "    <tr>\n",
       "      <th>RMINUS</th>\n",
       "      <td>-0.1025(51)</td>\n",
       "      <td>[0.0395(85), 0.0061(61)]</td>\n",
       "      <td>[0.0010(95), 0.0065(64)]</td>\n",
       "      <td>[0.0395(85), 0.0061(61)]</td>\n",
       "      <td>[0.0010(95), 0.0065(64)]</td>\n",
       "    </tr>\n",
       "    <tr>\n",
       "      <th>XF</th>\n",
       "      <td>-0.0900(19)</td>\n",
       "      <td>[0.0429(44), 0.0072(63)]</td>\n",
       "      <td>[-0.0087(49), 0.0095(76)]</td>\n",
       "      <td>[0.0429(44), 0.0072(63)]</td>\n",
       "      <td>[-0.0087(49), 0.0095(76)]</td>\n",
       "    </tr>\n",
       "    <tr>\n",
       "      <th rowspan=\"3\" valign=\"top\">200</th>\n",
       "      <th>QPLUS</th>\n",
       "      <td>0.951(10)</td>\n",
       "      <td>[-0.067(13), 0.007(20)]</td>\n",
       "      <td>[0.018(12), -0.011(16)]</td>\n",
       "      <td>[-0.067(13), 0.007(20)]</td>\n",
       "      <td>[0.018(12), -0.011(16)]</td>\n",
       "    </tr>\n",
       "    <tr>\n",
       "      <th>RMINUS</th>\n",
       "      <td>-0.1919(73)</td>\n",
       "      <td>[0.067(12), 0.0050(95)]</td>\n",
       "      <td>[0.0010(120), 0.0050(97)]</td>\n",
       "      <td>[0.067(12), 0.0050(95)]</td>\n",
       "      <td>[0.0010(120), 0.0050(97)]</td>\n",
       "    </tr>\n",
       "    <tr>\n",
       "      <th>XF</th>\n",
       "      <td>-0.1729(26)</td>\n",
       "      <td>[0.0799(61), 0.0068(98)]</td>\n",
       "      <td>[-0.0237(60), 0.013(11)]</td>\n",
       "      <td>[0.0799(61), 0.0068(98)]</td>\n",
       "      <td>[-0.0237(60), 0.013(11)]</td>\n",
       "    </tr>\n",
       "    <tr>\n",
       "      <th rowspan=\"3\" valign=\"top\">300</th>\n",
       "      <th>QPLUS</th>\n",
       "      <td>0.909(25)</td>\n",
       "      <td>[-0.166(23), -0.019(47)]</td>\n",
       "      <td>[0.024(20), -0.042(38)]</td>\n",
       "      <td>[-0.166(23), -0.019(47)]</td>\n",
       "      <td>[0.024(20), -0.042(38)]</td>\n",
       "    </tr>\n",
       "    <tr>\n",
       "      <th>RMINUS</th>\n",
       "      <td>-0.270(15)</td>\n",
       "      <td>[0.100(23), 0.009(21)]</td>\n",
       "      <td>[0.009(20), 0.005(21)]</td>\n",
       "      <td>[0.100(23), 0.009(21)]</td>\n",
       "      <td>[0.009(20), 0.005(21)]</td>\n",
       "    </tr>\n",
       "    <tr>\n",
       "      <th>XF</th>\n",
       "      <td>-0.2449(40)</td>\n",
       "      <td>[0.115(10), 0.024(26)]</td>\n",
       "      <td>[-0.0353(80), 0.016(19)]</td>\n",
       "      <td>[0.115(10), 0.024(26)]</td>\n",
       "      <td>[-0.0353(80), 0.016(19)]</td>\n",
       "    </tr>\n",
       "  </tbody>\n",
       "</table>\n",
       "</div>"
      ],
      "text/plain": [
       "                     f0                      A_1S                       A_RW  \\\n",
       "mom ratio                                                                      \n",
       "000 RPLUS     1.017(13)  [-0.015(10), -0.016(15)]   [-0.032(14), -0.017(15)]   \n",
       "100 QPLUS     0.981(10)  [-0.0229(72), 0.029(15)]   [-0.0046(60), 0.021(13)]   \n",
       "    RMINUS  -0.1025(51)  [0.0395(85), 0.0061(61)]   [0.0010(95), 0.0065(64)]   \n",
       "    XF      -0.0900(19)  [0.0429(44), 0.0072(63)]  [-0.0087(49), 0.0095(76)]   \n",
       "200 QPLUS     0.951(10)   [-0.067(13), 0.007(20)]    [0.018(12), -0.011(16)]   \n",
       "    RMINUS  -0.1919(73)   [0.067(12), 0.0050(95)]  [0.0010(120), 0.0050(97)]   \n",
       "    XF      -0.1729(26)  [0.0799(61), 0.0068(98)]   [-0.0237(60), 0.013(11)]   \n",
       "300 QPLUS     0.909(25)  [-0.166(23), -0.019(47)]    [0.024(20), -0.042(38)]   \n",
       "    RMINUS   -0.270(15)    [0.100(23), 0.009(21)]     [0.009(20), 0.005(21)]   \n",
       "    XF      -0.2449(40)    [0.115(10), 0.024(26)]   [-0.0353(80), 0.016(19)]   \n",
       "\n",
       "                                B_1S                       B_RW  \n",
       "mom ratio                                                        \n",
       "000 RPLUS   [-0.015(10), -0.016(15)]   [-0.032(14), -0.017(15)]  \n",
       "100 QPLUS   [-0.0229(72), 0.029(15)]   [-0.0046(60), 0.021(13)]  \n",
       "    RMINUS  [0.0395(85), 0.0061(61)]   [0.0010(95), 0.0065(64)]  \n",
       "    XF      [0.0429(44), 0.0072(63)]  [-0.0087(49), 0.0095(76)]  \n",
       "200 QPLUS    [-0.067(13), 0.007(20)]    [0.018(12), -0.011(16)]  \n",
       "    RMINUS   [0.067(12), 0.0050(95)]  [0.0010(120), 0.0050(97)]  \n",
       "    XF      [0.0799(61), 0.0068(98)]   [-0.0237(60), 0.013(11)]  \n",
       "300 QPLUS   [-0.166(23), -0.019(47)]    [0.024(20), -0.042(38)]  \n",
       "    RMINUS    [0.100(23), 0.009(21)]     [0.009(20), 0.005(21)]  \n",
       "    XF        [0.115(10), 0.024(26)]   [-0.0353(80), 0.016(19)]  "
      ]
     },
     "execution_count": 24,
     "metadata": {},
     "output_type": "execute_result"
    }
   ],
   "source": [
    "TMIN = 2\n",
    "\n",
    "fit = rset.fit(\n",
    "    tmin   = TMIN,\n",
    "    priors = priors,\n",
    "    **cov_specs\n",
    ")   \n",
    "\n",
    "rset.show(fit)\n"
   ]
  },
  {
   "cell_type": "code",
   "execution_count": 25,
   "metadata": {},
   "outputs": [
    {
     "name": "stdout",
     "output_type": "stream",
     "text": [
      "# ---------- Global fit in 2 for ens: Coarse-1 --------------\n",
      "Least Square Fit:\n",
      "  chi2/dof [dof] = 0.73 [180]    Q = 1    logGBF = 673.27\n",
      "\n",
      "Parameters:\n",
      "           dE_D     0.318 (16)      [    0.5 (1.0) ]  \n",
      "           dM_B     0.130 (67)      [    0.5 (1.0) ]  \n",
      "           dM_D      0.61 (48)      [    0.5 (1.0) ]  \n",
      "   RPLUS_000_f0     1.017 (13)      [    1.0 (1.5) ]  \n",
      " RPLUS_000_1S 0    -0.015 (10)      [      0 ± 1.0 ]  \n",
      "              1    -0.016 (15)      [      0 ± 1.0 ]  \n",
      " RPLUS_000_RW 0    -0.032 (14)      [      0 ± 1.0 ]  \n",
      "              1    -0.017 (15)      [      0 ± 1.0 ]  \n",
      "   QPLUS_100_f0     0.981 (10)      [    1.0 (1.5) ]  \n",
      " QPLUS_100_1S 0   -0.0229 (72)      [      0 ± 1.0 ]  \n",
      "              1     0.029 (15)      [      0 ± 1.0 ]  \n",
      " QPLUS_100_RW 0   -0.0046 (60)      [      0 ± 1.0 ]  \n",
      "              1     0.021 (13)      [      0 ± 1.0 ]  \n",
      "  RMINUS_100_f0   -0.1025 (51)      [ -0.10 (1.50) ]  \n",
      "RMINUS_100_1S 0    0.0395 (85)      [      0 ± 1.0 ]  \n",
      "              1    0.0061 (61)      [      0 ± 1.0 ]  \n",
      "RMINUS_100_RW 0    0.0010 (95)      [      0 ± 1.0 ]  \n",
      "              1    0.0065 (64)      [      0 ± 1.0 ]  \n",
      "      XF_100_f0   -0.0900 (19)      [ -0.09 (1.50) ]  \n",
      "    XF_100_1S 0    0.0429 (44)      [      0 ± 1.0 ]  \n",
      "              1    0.0072 (63)      [      0 ± 1.0 ]  \n",
      "    XF_100_RW 0   -0.0087 (49)      [      0 ± 1.0 ]  \n",
      "              1    0.0095 (76)      [      0 ± 1.0 ]  \n",
      "   QPLUS_200_f0     0.951 (10)      [    1.0 (1.5) ]  \n",
      " QPLUS_200_1S 0    -0.067 (13)      [      0 ± 1.0 ]  \n",
      "              1     0.007 (20)      [      0 ± 1.0 ]  \n",
      " QPLUS_200_RW 0     0.018 (12)      [      0 ± 1.0 ]  \n",
      "              1    -0.011 (16)      [      0 ± 1.0 ]  \n",
      "  RMINUS_200_f0   -0.1919 (73)      [   -0.2 (1.5) ]  \n",
      "RMINUS_200_1S 0     0.067 (12)      [      0 ± 1.0 ]  \n",
      "              1    0.0050 (95)      [      0 ± 1.0 ]  \n",
      "RMINUS_200_RW 0   0.0010 (120)      [      0 ± 1.0 ]  \n",
      "              1    0.0050 (97)      [      0 ± 1.0 ]  \n",
      "      XF_200_f0   -0.1729 (26)      [   -0.2 (1.5) ]  \n",
      "    XF_200_1S 0    0.0799 (61)      [      0 ± 1.0 ]  \n",
      "              1    0.0068 (98)      [      0 ± 1.0 ]  \n",
      "    XF_200_RW 0   -0.0237 (60)      [      0 ± 1.0 ]  \n",
      "              1     0.013 (11)      [      0 ± 1.0 ]  \n",
      "   QPLUS_300_f0     0.909 (25)      [    0.9 (1.5) ]  \n",
      " QPLUS_300_1S 0    -0.166 (23)      [      0 ± 1.0 ]  \n",
      "              1    -0.019 (47)      [      0 ± 1.0 ]  \n",
      " QPLUS_300_RW 0     0.024 (20)      [      0 ± 1.0 ]  \n",
      "              1    -0.042 (38)      [      0 ± 1.0 ]  \n",
      "  RMINUS_300_f0    -0.270 (15)      [   -0.3 (1.5) ]  \n",
      "RMINUS_300_1S 0     0.100 (23)      [      0 ± 1.0 ]  \n",
      "              1     0.009 (21)      [      0 ± 1.0 ]  \n",
      "RMINUS_300_RW 0     0.009 (20)      [      0 ± 1.0 ]  \n",
      "              1     0.005 (21)      [      0 ± 1.0 ]  \n",
      "      XF_300_f0   -0.2449 (40)      [   -0.2 (1.5) ]  \n",
      "    XF_300_1S 0     0.115 (10)      [      0 ± 1.0 ]  \n",
      "              1     0.024 (26)      [      0 ± 1.0 ]  \n",
      "    XF_300_RW 0   -0.0353 (80)      [      0 ± 1.0 ]  \n",
      "              1     0.016 (19)      [      0 ± 1.0 ]  \n",
      "\n",
      "Settings:\n",
      "  svdcut/n = 1e-12/0    tol = (1e-08,1e-10,1e-10*)    (itns/time = 61/0.3)\n",
      "  fitter = scipy_least_squares    method = trf\n",
      "\n",
      "# red chi2       = 131.00\n",
      "# aug chi2       = 131.26\n",
      "# chi2_exp       = 180.00\n",
      "# chi2/chi_exp   = 0.73\n",
      "# p-value (exp)  = 1.00\n",
      "# p-value (std)  = 0.77\n"
     ]
    },
    {
     "data": {
      "text/plain": [
       "{'fit': <lsqfit.nonlinear_fit at 0x1701e2750>,\n",
       " 'chi2red': 131.0029542767987,\n",
       " 'chi2aug': 131.26442684152195,\n",
       " 'chiexp': 179.9999999999996,\n",
       " 'pexp': 0.999,\n",
       " 'pstd': 0.7691583349955208}"
      ]
     },
     "execution_count": 25,
     "metadata": {},
     "output_type": "execute_result"
    }
   ],
   "source": [
    "rset.fit_result(TMIN,fit,priors=priors)"
   ]
  },
  {
   "cell_type": "code",
   "execution_count": 26,
   "metadata": {},
   "outputs": [
    {
     "data": {
      "image/png": "[encoded data removed]",
      "text/plain": [
       "<Figure size 1000x700 with 4 Axes>"
      ]
     },
     "metadata": {},
     "output_type": "display_data"
    }
   ],
   "source": [
    "plt.rcParams['text.usetex'] = True\n",
    "plt.rcParams['font.size'] = 12\n",
    "\n",
    "f, ax = plt.subplots(2,2,figsize=(10,7), sharex=True)\n",
    "\n",
    "rset.plot_fit('QPLUS' ,fit,ax[0,0])\n",
    "ax[0,0].set_title(r'$Q_{+}(\\mathbf{p})$')\n",
    "# ax[0,0].set_ylim(0.8,1.05)\n",
    "ax[0,0].set_ylim(ymax=1.05)\n",
    "ax[0,0].grid(alpha=0.1)\n",
    "\n",
    "rset.plot_fit('XF'    ,fit,ax[0,1])\n",
    "ax[0,1].yaxis.set_label_position(\"right\")\n",
    "ax[0,1].yaxis.tick_right()\n",
    "ax[0,1].set_title(r'$x_f(\\mathbf{p})$')\n",
    "# ax[0,1].set_ylim(ymin=-0.3)\n",
    "ax[0,1].grid(alpha=0.1)\n",
    "\n",
    "\n",
    "rset.plot_fit('RMINUS',fit,ax[1,0])\n",
    "ax[1,0].grid(alpha=0.1)\n",
    "# ax[1,0].set_ylim(ymin=-0.3)\n",
    "ax[1,0].set_title(r'$R_-(\\mathbf{p})$')\n",
    "ax[1,0].set_xlabel(r'$t/a$')\n",
    "\n",
    "rset.plot_fit('RPLUS' ,fit,ax[1,1])\n",
    "ax[1,1].yaxis.set_label_position(\"right\")\n",
    "ax[1,1].yaxis.tick_right()\n",
    "# ax[1,1].set_ylim(ymin=0.9)\n",
    "ax[1,1].grid(alpha=0.1)\n",
    "ax[1,1].set_title(r'$R_+(\\mathbf{p}=0)$')\n",
    "ax[1,1].set_xlabel(r'$t/a$')\n",
    "\n",
    "\n",
    "ax[1,1].errorbar([],[],color='C0',label=r'$p = \\frac{2\\pi}{L}(1,0,0)$')\n",
    "ax[1,1].errorbar([],[],color='C1',label=r'$p = \\frac{2\\pi}{L}(2,0,0)$')\n",
    "ax[1,1].errorbar([],[],color='C2',label=r'$p = \\frac{2\\pi}{L}(3,0,0)$')\n",
    "ax[1,1].errorbar([],[],color='C3',label=r'$p = \\frac{2\\pi}{L}(4,0,0)$')\n",
    "ax[1,1].legend(bbox_to_anchor=(1.15, 1.25))\n",
    "\n",
    "\n",
    "\n",
    "# plt.subplots_adjust(wspace=0.05, hspace=0.05)\n",
    "plt.subplots_adjust(wspace=0.05)\n",
    "\n",
    "plt.tight_layout()\n",
    "\n",
    "# plt.savefig(\n",
    "#     f'/Users/pietro/code/latex/Lattice2024/beamer-presentation-template/PLOTS/ratio_gfit_D.pdf',\n",
    "#     transparent=True\n",
    "# )\n",
    "\n",
    "\n"
   ]
  },
  {
   "cell_type": "markdown",
   "metadata": {},
   "source": [
    "# Stability test"
   ]
  },
  {
   "cell_type": "code",
   "execution_count": 27,
   "metadata": {},
   "outputs": [
    {
     "name": "stderr",
     "output_type": "stream",
     "text": [
      "100%|██████████| 4/4 [00:03<00:00,  1.03it/s]\n"
     ]
    }
   ],
   "source": [
    "tmins = [1,2,3,4]\n",
    "\n",
    "aux = []\n",
    "TIC = []\n",
    "pfs = []\n",
    "for tmin in tqdm(tmins):\n",
    "    fit = rset.fit(tmin=tmin, priors=priors,**cov_specs)   \n",
    "    aux.append(\n",
    "        {k: p for k,p in fit.p.items() if k.endswith('f0')}\n",
    "    )\n",
    "    \n",
    "    res = rset.fit_result(tmin,fit,priors=priors,verbose=False)\n",
    "    TIC.append(res['chi2aug'] - 2*res['chiexp'])\n",
    "    pfs.append(res['pstd'])"
   ]
  },
  {
   "cell_type": "code",
   "execution_count": 103,
   "metadata": {},
   "outputs": [
    {
     "name": "stdout",
     "output_type": "stream",
     "text": [
      "tmins[i] = 1,    weight = 0.9999995109485724,    pfs[i] = 0.6892831804385479\n",
      "tmins[i] = 2,    weight = 4.890513665820046e-07,    pfs[i] = 0.6699382512796499\n",
      "tmins[i] = 3,    weight = 6.109216310405352e-14,    pfs[i] = 0.7046525825989521\n",
      "tmins[i] = 4,    weight = 9.95102280250038e-21,    pfs[i] = 0.8576166454208465\n"
     ]
    }
   ],
   "source": [
    "w = np.exp(-np.array(TIC)/2)\n",
    "w /= sum(w)\n",
    "for i,weight in enumerate(w):\n",
    "    print(f'{tmins[i] = },    {weight = },    {pfs[i] = }')"
   ]
  },
  {
   "cell_type": "code",
   "execution_count": 104,
   "metadata": {},
   "outputs": [
    {
     "data": {
      "text/html": [
       "<div>\n",
       "<style scoped>\n",
       "    .dataframe tbody tr th:only-of-type {\n",
       "        vertical-align: middle;\n",
       "    }\n",
       "\n",
       "    .dataframe tbody tr th {\n",
       "        vertical-align: top;\n",
       "    }\n",
       "\n",
       "    .dataframe thead th {\n",
       "        text-align: right;\n",
       "    }\n",
       "</style>\n",
       "<table border=\"1\" class=\"dataframe\">\n",
       "  <thead>\n",
       "    <tr style=\"text-align: right;\">\n",
       "      <th></th>\n",
       "      <th>RPLUS_000_f0</th>\n",
       "      <th>QPLUS_100_f0</th>\n",
       "      <th>RMINUS_100_f0</th>\n",
       "      <th>XF_100_f0</th>\n",
       "      <th>QPLUS_200_f0</th>\n",
       "      <th>RMINUS_200_f0</th>\n",
       "      <th>XF_200_f0</th>\n",
       "      <th>QPLUS_300_f0</th>\n",
       "      <th>RMINUS_300_f0</th>\n",
       "      <th>XF_300_f0</th>\n",
       "    </tr>\n",
       "  </thead>\n",
       "  <tbody>\n",
       "    <tr>\n",
       "      <th>0</th>\n",
       "      <td>1.0174(49)</td>\n",
       "      <td>0.9766(29)</td>\n",
       "      <td>-0.1346(20)</td>\n",
       "      <td>-0.1165(12)</td>\n",
       "      <td>0.9150(98)</td>\n",
       "      <td>-0.2469(37)</td>\n",
       "      <td>-0.2200(22)</td>\n",
       "      <td>0.848(21)</td>\n",
       "      <td>-0.3299(90)</td>\n",
       "      <td>-0.3011(44)</td>\n",
       "    </tr>\n",
       "    <tr>\n",
       "      <th>1</th>\n",
       "      <td>1.060(53)</td>\n",
       "      <td>0.984(18)</td>\n",
       "      <td>-0.142(17)</td>\n",
       "      <td>-0.1175(15)</td>\n",
       "      <td>0.971(85)</td>\n",
       "      <td>-0.263(29)</td>\n",
       "      <td>-0.2229(26)</td>\n",
       "      <td>1.03(25)</td>\n",
       "      <td>-0.345(50)</td>\n",
       "      <td>-0.3063(56)</td>\n",
       "    </tr>\n",
       "    <tr>\n",
       "      <th>2</th>\n",
       "      <td>1.083(93)</td>\n",
       "      <td>1.010(53)</td>\n",
       "      <td>-0.183(74)</td>\n",
       "      <td>-0.1193(18)</td>\n",
       "      <td>1.02(18)</td>\n",
       "      <td>-0.34(13)</td>\n",
       "      <td>-0.2245(30)</td>\n",
       "      <td>1.15(46)</td>\n",
       "      <td>-0.47(21)</td>\n",
       "      <td>-0.3112(72)</td>\n",
       "    </tr>\n",
       "    <tr>\n",
       "      <th>3</th>\n",
       "      <td>1.0187(82)</td>\n",
       "      <td>0.9720(61)</td>\n",
       "      <td>-0.1340(61)</td>\n",
       "      <td>-0.1197(37)</td>\n",
       "      <td>0.898(16)</td>\n",
       "      <td>-0.248(12)</td>\n",
       "      <td>-0.2251(71)</td>\n",
       "      <td>0.822(45)</td>\n",
       "      <td>-0.354(26)</td>\n",
       "      <td>-0.319(16)</td>\n",
       "    </tr>\n",
       "  </tbody>\n",
       "</table>\n",
       "</div>"
      ],
      "text/plain": [
       "  RPLUS_000_f0 QPLUS_100_f0 RMINUS_100_f0    XF_100_f0 QPLUS_200_f0  \\\n",
       "0   1.0174(49)   0.9766(29)   -0.1346(20)  -0.1165(12)   0.9150(98)   \n",
       "1    1.060(53)    0.984(18)    -0.142(17)  -0.1175(15)    0.971(85)   \n",
       "2    1.083(93)    1.010(53)    -0.183(74)  -0.1193(18)     1.02(18)   \n",
       "3   1.0187(82)   0.9720(61)   -0.1340(61)  -0.1197(37)    0.898(16)   \n",
       "\n",
       "  RMINUS_200_f0    XF_200_f0 QPLUS_300_f0 RMINUS_300_f0    XF_300_f0  \n",
       "0   -0.2469(37)  -0.2200(22)    0.848(21)   -0.3299(90)  -0.3011(44)  \n",
       "1    -0.263(29)  -0.2229(26)     1.03(25)    -0.345(50)  -0.3063(56)  \n",
       "2     -0.34(13)  -0.2245(30)     1.15(46)     -0.47(21)  -0.3112(72)  \n",
       "3    -0.248(12)  -0.2251(71)    0.822(45)    -0.354(26)   -0.319(16)  "
      ]
     },
     "execution_count": 104,
     "metadata": {},
     "output_type": "execute_result"
    }
   ],
   "source": [
    "df = pd.DataFrame(aux)\n",
    "df"
   ]
  },
  {
   "cell_type": "code",
   "execution_count": 105,
   "metadata": {},
   "outputs": [
    {
     "name": "stderr",
     "output_type": "stream",
     "text": [
      "/var/folders/7m/b37v945d74n14brv9wkfxwpw0000gn/T/ipykernel_52471/4150968021.py:46: UserWarning: Matplotlib is currently using module://matplotlib_inline.backend_inline, which is a non-GUI backend, so cannot show the figure.\n",
      "  fig.show()\n"
     ]
    },
    {
     "data": {
      "image/png": "[encoded data removed]",
      "text/plain": [
       "<Figure size 1000x800 with 10 Axes>"
      ]
     },
     "metadata": {},
     "output_type": "display_data"
    }
   ],
   "source": [
    "import matplotlib.gridspec as gridspec\n",
    "\n",
    "fig = plt.figure(figsize=(10, 8))\n",
    "outer = gridspec.GridSpec(2, 2, wspace=0.2, hspace=0.2)\n",
    "\n",
    "\n",
    "inner = gridspec.GridSpecFromSubplotSpec(1, 1, subplot_spec=outer[0], wspace=0.1, hspace=0.1)\n",
    "ax = plt.Subplot(fig,inner[0])\n",
    "rs = df['RPLUS_000_f0'].values\n",
    "ax.errorbar(tmins, gv.mean(rs), gv.sdev(rs), fmt='.')\n",
    "fig.add_subplot(ax)\n",
    "\n",
    "\n",
    "\n",
    "\n",
    "inner1 = gridspec.GridSpecFromSubplotSpec(len(MOMLIST), 1, subplot_spec=outer[1], wspace=0.1, hspace=0.1)\n",
    "inner2 = gridspec.GridSpecFromSubplotSpec(len(MOMLIST), 1, subplot_spec=outer[2], wspace=0.1, hspace=0.1)\n",
    "inner3 = gridspec.GridSpecFromSubplotSpec(len(MOMLIST), 1, subplot_spec=outer[3], wspace=0.1, hspace=0.1)\n",
    "\n",
    "for j,mom in enumerate(MOMLIST):\n",
    "    if mom=='000':\n",
    "        continue\n",
    "\n",
    "    ax = plt.Subplot(fig,inner1[j])\n",
    "    rs = df[f'QPLUS_{mom}_f0'].values\n",
    "    ax.errorbar(tmins, gv.mean(rs), gv.sdev(rs), fmt='.')\n",
    "    if mom=='100':\n",
    "        ax.set_title('QPLUS')\n",
    "    fig.add_subplot(ax)\n",
    "\n",
    "    ax = plt.Subplot(fig,inner2[j])\n",
    "    rs = df[f'RMINUS_{mom}_f0'].values\n",
    "    ax.errorbar(tmins, gv.mean(rs), gv.sdev(rs), fmt='.')\n",
    "    if mom=='100':\n",
    "        ax.set_title('RMINUS')\n",
    "    fig.add_subplot(ax)\n",
    "\n",
    "    ax = plt.Subplot(fig,inner3[j])\n",
    "    rs = df[f'XF_{mom}_f0'].values\n",
    "    ax.errorbar(tmins, gv.mean(rs), gv.sdev(rs), fmt='.')\n",
    "    if mom=='100':\n",
    "        ax.set_title('XF')\n",
    "    fig.add_subplot(ax)\n",
    "\n",
    "\n",
    "fig.show()"
   ]
  },
  {
   "cell_type": "code",
   "execution_count": 106,
   "metadata": {},
   "outputs": [
    {
     "data": {
      "text/html": [
       "<div>\n",
       "<style scoped>\n",
       "    .dataframe tbody tr th:only-of-type {\n",
       "        vertical-align: middle;\n",
       "    }\n",
       "\n",
       "    .dataframe tbody tr th {\n",
       "        vertical-align: top;\n",
       "    }\n",
       "\n",
       "    .dataframe thead th {\n",
       "        text-align: right;\n",
       "    }\n",
       "</style>\n",
       "<table border=\"1\" class=\"dataframe\">\n",
       "  <thead>\n",
       "    <tr style=\"text-align: right;\">\n",
       "      <th></th>\n",
       "      <th>RPLUS_000_f0</th>\n",
       "      <th>QPLUS_100_f0</th>\n",
       "      <th>RMINUS_100_f0</th>\n",
       "      <th>XF_100_f0</th>\n",
       "      <th>QPLUS_200_f0</th>\n",
       "      <th>RMINUS_200_f0</th>\n",
       "      <th>XF_200_f0</th>\n",
       "      <th>QPLUS_300_f0</th>\n",
       "      <th>RMINUS_300_f0</th>\n",
       "      <th>XF_300_f0</th>\n",
       "    </tr>\n",
       "  </thead>\n",
       "  <tbody>\n",
       "    <tr>\n",
       "      <th>0</th>\n",
       "      <td>1.0174(49)</td>\n",
       "      <td>0.9766(29)</td>\n",
       "      <td>-0.1346(20)</td>\n",
       "      <td>-0.1165(12)</td>\n",
       "      <td>0.9150(98)</td>\n",
       "      <td>-0.2469(37)</td>\n",
       "      <td>-0.2200(22)</td>\n",
       "      <td>0.848(21)</td>\n",
       "      <td>-0.3299(90)</td>\n",
       "      <td>-0.3011(44)</td>\n",
       "    </tr>\n",
       "    <tr>\n",
       "      <th>1</th>\n",
       "      <td>1.060(53)</td>\n",
       "      <td>0.984(18)</td>\n",
       "      <td>-0.142(17)</td>\n",
       "      <td>-0.1175(15)</td>\n",
       "      <td>0.971(85)</td>\n",
       "      <td>-0.263(29)</td>\n",
       "      <td>-0.2229(26)</td>\n",
       "      <td>1.03(25)</td>\n",
       "      <td>-0.345(50)</td>\n",
       "      <td>-0.3063(56)</td>\n",
       "    </tr>\n",
       "    <tr>\n",
       "      <th>2</th>\n",
       "      <td>1.083(93)</td>\n",
       "      <td>1.010(53)</td>\n",
       "      <td>-0.183(74)</td>\n",
       "      <td>-0.1193(18)</td>\n",
       "      <td>1.02(18)</td>\n",
       "      <td>-0.34(13)</td>\n",
       "      <td>-0.2245(30)</td>\n",
       "      <td>1.15(46)</td>\n",
       "      <td>-0.47(21)</td>\n",
       "      <td>-0.3112(72)</td>\n",
       "    </tr>\n",
       "    <tr>\n",
       "      <th>3</th>\n",
       "      <td>1.0187(82)</td>\n",
       "      <td>0.9720(61)</td>\n",
       "      <td>-0.1340(61)</td>\n",
       "      <td>-0.1197(37)</td>\n",
       "      <td>0.898(16)</td>\n",
       "      <td>-0.248(12)</td>\n",
       "      <td>-0.2251(71)</td>\n",
       "      <td>0.822(45)</td>\n",
       "      <td>-0.354(26)</td>\n",
       "      <td>-0.319(16)</td>\n",
       "    </tr>\n",
       "  </tbody>\n",
       "</table>\n",
       "</div>"
      ],
      "text/plain": [
       "  RPLUS_000_f0 QPLUS_100_f0 RMINUS_100_f0    XF_100_f0 QPLUS_200_f0  \\\n",
       "0   1.0174(49)   0.9766(29)   -0.1346(20)  -0.1165(12)   0.9150(98)   \n",
       "1    1.060(53)    0.984(18)    -0.142(17)  -0.1175(15)    0.971(85)   \n",
       "2    1.083(93)    1.010(53)    -0.183(74)  -0.1193(18)     1.02(18)   \n",
       "3   1.0187(82)   0.9720(61)   -0.1340(61)  -0.1197(37)    0.898(16)   \n",
       "\n",
       "  RMINUS_200_f0    XF_200_f0 QPLUS_300_f0 RMINUS_300_f0    XF_300_f0  \n",
       "0   -0.2469(37)  -0.2200(22)    0.848(21)   -0.3299(90)  -0.3011(44)  \n",
       "1    -0.263(29)  -0.2229(26)     1.03(25)    -0.345(50)  -0.3063(56)  \n",
       "2     -0.34(13)  -0.2245(30)     1.15(46)     -0.47(21)  -0.3112(72)  \n",
       "3    -0.248(12)  -0.2251(71)    0.822(45)    -0.354(26)   -0.319(16)  "
      ]
     },
     "execution_count": 106,
     "metadata": {},
     "output_type": "execute_result"
    }
   ],
   "source": [
    "df"
   ]
  },
  {
   "cell_type": "markdown",
   "metadata": {},
   "source": [
    "# Fix tmin"
   ]
  },
  {
   "cell_type": "code",
   "execution_count": 81,
   "metadata": {},
   "outputs": [
    {
     "name": "stdout",
     "output_type": "stream",
     "text": [
      "MediumCoarse 1.6578243585110228 2\n",
      "Coarse-2 2.0 2\n",
      "Coarse-Phys 2.0481387784604266 2\n",
      "Coarse-1 2.030646910010842 2\n",
      "Fine-1 2.789880737260571 3\n",
      "Fine-Phys 2.8146006505240337 3\n",
      "SuperFine 4.354029634983736 4\n"
     ]
    }
   ],
   "source": [
    "ens = 'Coarse-2'\n",
    "a = mData(ens)['aSpc'].mean\n",
    "T = 2\n",
    "t = a*T\n",
    "\n",
    "for ens in ['MediumCoarse','Coarse-2','Coarse-Phys','Coarse-1','Fine-1','Fine-Phys','SuperFine']:\n",
    "    a = mData(ens)['aSpc'].mean\n",
    "\n",
    "    print(ens,t/a,round(t/a))"
   ]
  },
  {
   "cell_type": "code",
   "execution_count": null,
   "metadata": {},
   "outputs": [],
   "source": []
  }
 ],
 "metadata": {
  "kernelspec": {
   "display_name": "Python 3.11.4 ('stat')",
   "language": "python",
   "name": "python3"
  },
  "language_info": {
   "codemirror_mode": {
    "name": "ipython",
    "version": 3
   },
   "file_extension": ".py",
   "mimetype": "text/x-python",
   "name": "python",
   "nbconvert_exporter": "python",
   "pygments_lexer": "ipython3",
   "version": "3.11.4"
  },
  "orig_nbformat": 4,
  "vscode": {
   "interpreter": {
    "hash": "550906e9926f0f588aff226d3abadfa0c6a614c1c5eae7bfa21377021c1cb7ed"
   }
  }
 },
 "nbformat": 4,
 "nbformat_minor": 2
}
