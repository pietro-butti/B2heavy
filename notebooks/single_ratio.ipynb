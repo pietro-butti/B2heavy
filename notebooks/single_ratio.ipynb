{
 "cells": [
  {
   "cell_type": "code",
   "execution_count": 1,
   "metadata": {},
   "outputs": [],
   "source": [
    "import numpy             as np\n",
    "import gvar              as gv\n",
    "import matplotlib.pyplot as plt\n",
    "import lsqfit\n",
    "import itertools\n",
    "from tqdm import tqdm"
   ]
  },
  {
   "cell_type": "code",
   "execution_count": 2,
   "metadata": {},
   "outputs": [],
   "source": [
    "from b2heavy.FnalHISQMetadata import params as mData"
   ]
  },
  {
   "cell_type": "code",
   "execution_count": 3,
   "metadata": {},
   "outputs": [],
   "source": [
    "from b2heavy.ThreePointFunctions.types3pts  import Ratio, RatioIO, ratio_prerequisites\n",
    "from b2heavy.ThreePointFunctions.fitter3pts import RatioFitter, phys_energy_priors\n",
    "from b2heavy.ThreePointFunctions.utils      import read_config_fit, dump_fit_object"
   ]
  },
  {
   "cell_type": "code",
   "execution_count": 24,
   "metadata": {},
   "outputs": [],
   "source": [
    "DATA_DIR = '/Users/pietro/code/data_analysis/BtoD/Alex/'\n",
    "# DATA_2PT = '/Users/pietro/code/data_analysis/data/QCDNf2p1stag/B2heavy/lattice24'\n",
    "DATA_2PT = '/Users/pietro/Desktop/lattice24/0.25/corr2_3/'\n",
    "\n",
    "BINSIZE  = {\n",
    "    'MediumCoarse':13,\n",
    "    'Coarse-2':    16,\n",
    "    'Coarse-1':    11,\n",
    "    'Coarse-Phys': 19,\n",
    "    'Fine-1':      16,\n",
    "    'Fine-Phys':   16,\n",
    "    'SuperFine':   22\n",
    "}"
   ]
  },
  {
   "cell_type": "code",
   "execution_count": 25,
   "metadata": {},
   "outputs": [],
   "source": [
    "ENSEMBLE = 'Coarse-1'\n",
    "RATIO    = 'XF'\n",
    "MOMENTUM = '100'\n",
    "\n",
    "# SMSLIST  = ['1S','RW']\n",
    "SMSLIST  = ['1S']\n",
    "\n",
    "if RATIO in ['RMINUS','RPLUS','QPLUS','XF']:\n",
    "    meson = 'D'\n",
    "else:\n",
    "    meson = 'Dst'"
   ]
  },
  {
   "cell_type": "code",
   "execution_count": 26,
   "metadata": {},
   "outputs": [],
   "source": [
    "# Correlation matrix specifics\n",
    "DIAG   = False\n",
    "BLOCK  = False\n",
    "SCALE  = True\n",
    "SHRINK = True\n",
    "SVD    = 1E-12"
   ]
  },
  {
   "cell_type": "code",
   "execution_count": 27,
   "metadata": {},
   "outputs": [],
   "source": [
    "# Specifics of the analysis\n",
    "TMIN    = 1\n",
    "NSTATES = 1\n",
    "WPRIORS = True"
   ]
  },
  {
   "cell_type": "markdown",
   "metadata": {},
   "source": [
    "In the following we look for requisites for the ratio calculation"
   ]
  },
  {
   "cell_type": "code",
   "execution_count": 30,
   "metadata": {},
   "outputs": [
    {
     "ename": "KeyError",
     "evalue": "'E'",
     "output_type": "error",
     "traceback": [
      "\u001b[0;31m---------------------------------------------------------------------------\u001b[0m",
      "\u001b[0;31mKeyError\u001b[0m                                  Traceback (most recent call last)",
      "Cell \u001b[0;32mIn[30], line 1\u001b[0m\n\u001b[0;32m----> 1\u001b[0m requisites \u001b[38;5;241m=\u001b[39m \u001b[43mratio_prerequisites\u001b[49m\u001b[43m(\u001b[49m\n\u001b[1;32m      2\u001b[0m \u001b[43m    \u001b[49m\u001b[43mens\u001b[49m\u001b[43m      \u001b[49m\u001b[38;5;241;43m=\u001b[39;49m\u001b[43m \u001b[49m\u001b[43mENSEMBLE\u001b[49m\u001b[43m,\u001b[49m\n\u001b[1;32m      3\u001b[0m \u001b[43m    \u001b[49m\u001b[43mratio\u001b[49m\u001b[43m    \u001b[49m\u001b[38;5;241;43m=\u001b[39;49m\u001b[43m \u001b[49m\u001b[43mRATIO\u001b[49m\u001b[43m,\u001b[49m\n\u001b[1;32m      4\u001b[0m \u001b[43m    \u001b[49m\u001b[43mmom\u001b[49m\u001b[43m      \u001b[49m\u001b[38;5;241;43m=\u001b[39;49m\u001b[43m \u001b[49m\u001b[43mMOMENTUM\u001b[49m\u001b[43m,\u001b[49m\n\u001b[1;32m      5\u001b[0m \u001b[43m    \u001b[49m\u001b[43mreadfrom\u001b[49m\u001b[43m \u001b[49m\u001b[38;5;241;43m=\u001b[39;49m\u001b[43m \u001b[49m\u001b[43mDATA_2PT\u001b[49m\u001b[43m,\u001b[49m\n\u001b[1;32m      6\u001b[0m \u001b[43m    \u001b[49m\u001b[43mjk\u001b[49m\u001b[43m       \u001b[49m\u001b[38;5;241;43m=\u001b[39;49m\u001b[43m \u001b[49m\u001b[38;5;28;43;01mTrue\u001b[39;49;00m\n\u001b[1;32m      7\u001b[0m \u001b[43m)\u001b[49m\n",
      "File \u001b[0;32m~/code/software/B2heavy/b2heavy/ThreePointFunctions/types3pts.py:403\u001b[0m, in \u001b[0;36mratio_prerequisites\u001b[0;34m(ens, ratio, mom, smearing, readfrom, jk)\u001b[0m\n\u001b[1;32m    396\u001b[0m p2 \u001b[39m=\u001b[39m read_config_fit(\n\u001b[1;32m    397\u001b[0m     \u001b[39mf\u001b[39m\u001b[39m'\u001b[39m\u001b[39mfit2pt_config_\u001b[39m\u001b[39m{\u001b[39;00mens\u001b[39m}\u001b[39;00m\u001b[39m_\u001b[39m\u001b[39m{\u001b[39;00mmes\u001b[39m}\u001b[39;00m\u001b[39m_\u001b[39m\u001b[39m{\u001b[39;00mmom\u001b[39m}\u001b[39;00m\u001b[39m'\u001b[39m,\n\u001b[1;32m    398\u001b[0m path\u001b[39m=\u001b[39mreadfrom,jk\u001b[39m=\u001b[39mjk)\n\u001b[1;32m    399\u001b[0m p0 \u001b[39m=\u001b[39m read_config_fit(\n\u001b[1;32m    400\u001b[0m     \u001b[39mf\u001b[39m\u001b[39m'\u001b[39m\u001b[39mfit2pt_config_\u001b[39m\u001b[39m{\u001b[39;00mens\u001b[39m}\u001b[39;00m\u001b[39m_\u001b[39m\u001b[39m{\u001b[39;00mmes\u001b[39m}\u001b[39;00m\u001b[39m_000\u001b[39m\u001b[39m'\u001b[39m,\n\u001b[1;32m    401\u001b[0m path\u001b[39m=\u001b[39mreadfrom,jk\u001b[39m=\u001b[39mjk)\n\u001b[0;32m--> 403\u001b[0m req[\u001b[39m'\u001b[39m\u001b[39mE0\u001b[39m\u001b[39m'\u001b[39m] \u001b[39m=\u001b[39m p2[\u001b[39m'\u001b[39;49m\u001b[39mE\u001b[39;49m\u001b[39m'\u001b[39;49m][:,\u001b[39m0\u001b[39m] \u001b[39mif\u001b[39;00m jk \u001b[39melse\u001b[39;00m p2[\u001b[39m-\u001b[39m\u001b[39m1\u001b[39m][\u001b[39m'\u001b[39m\u001b[39mE\u001b[39m\u001b[39m'\u001b[39m][\u001b[39m0\u001b[39m]\u001b[39m.\u001b[39mmean\n\u001b[1;32m    404\u001b[0m req[\u001b[39m'\u001b[39m\u001b[39mm0\u001b[39m\u001b[39m'\u001b[39m] \u001b[39m=\u001b[39m p0[\u001b[39m'\u001b[39m\u001b[39mE\u001b[39m\u001b[39m'\u001b[39m][:,\u001b[39m0\u001b[39m] \u001b[39mif\u001b[39;00m jk \u001b[39melse\u001b[39;00m p0[\u001b[39m-\u001b[39m\u001b[39m1\u001b[39m][\u001b[39m'\u001b[39m\u001b[39mE\u001b[39m\u001b[39m'\u001b[39m][\u001b[39m0\u001b[39m]\u001b[39m.\u001b[39mmean\n\u001b[1;32m    406\u001b[0m \u001b[39mfor\u001b[39;00m sm \u001b[39min\u001b[39;00m smearing:\n",
      "\u001b[0;31mKeyError\u001b[0m: 'E'"
     ]
    }
   ],
   "source": [
    "requisites = ratio_prerequisites(\n",
    "    ens      = ENSEMBLE,\n",
    "    ratio    = RATIO,\n",
    "    mom      = MOMENTUM,\n",
    "    readfrom = DATA_2PT,\n",
    "    jk       = True\n",
    ")"
   ]
  },
  {
   "cell_type": "markdown",
   "metadata": {},
   "source": [
    "Here we initialize the master object that contains a ratio at given momentum for a given ensemble"
   ]
  },
  {
   "cell_type": "code",
   "execution_count": 48,
   "metadata": {},
   "outputs": [],
   "source": [
    "io = RatioIO(ENSEMBLE,RATIO,MOMENTUM,PathToDataDir=DATA_DIR)\n",
    "robj = RatioFitter(\n",
    "    io,\n",
    "    jkBin     = BINSIZE[ENSEMBLE],\n",
    "    smearing  = SMSLIST,\n",
    "    **requisites\n",
    ")"
   ]
  },
  {
   "cell_type": "code",
   "execution_count": 49,
   "metadata": {},
   "outputs": [],
   "source": [
    "trange = (TMIN, robj.Ta-TMIN)"
   ]
  },
  {
   "cell_type": "code",
   "execution_count": 50,
   "metadata": {},
   "outputs": [
    {
     "data": {
      "text/plain": [
       "{'diag': False, 'block': False, 'scale': True, 'shrink': True, 'cutsvd': 1e-12}"
      ]
     },
     "execution_count": 50,
     "metadata": {},
     "output_type": "execute_result"
    }
   ],
   "source": [
    "cov_specs = dict(\n",
    "    diag   = DIAG  ,\n",
    "    block  = BLOCK ,\n",
    "    scale  = SCALE ,\n",
    "    shrink = SHRINK,\n",
    "    cutsvd = 1E-12\n",
    ")\n",
    "\n",
    "cov_specs"
   ]
  },
  {
   "cell_type": "markdown",
   "metadata": {},
   "source": [
    "Here we compute fit priors"
   ]
  },
  {
   "cell_type": "code",
   "execution_count": 51,
   "metadata": {},
   "outputs": [
    {
     "data": {
      "text/plain": [
       "{'ratio': [0.90(10)],\n",
       " 'A_1S': [0 ± 1.0],\n",
       " 'B_1S': [0 ± 1.0],\n",
       " 'dE_src': [-1.8(1.0)]}"
      ]
     },
     "execution_count": 51,
     "metadata": {},
     "output_type": "execute_result"
    }
   ],
   "source": [
    "dE_src = phys_energy_priors(ENSEMBLE,meson,MOMENTUM,NSTATES,readfrom=DATA_2PT,error=1.0)\n",
    "dE_snk = phys_energy_priors(ENSEMBLE,'B',MOMENTUM,NSTATES,readfrom=DATA_2PT,error=1.0)\n",
    "\n",
    "pr = robj.priors(NSTATES, dE_src=dE_src, dE_snk=dE_snk)\n",
    "pr"
   ]
  },
  {
   "cell_type": "markdown",
   "metadata": {},
   "source": [
    "Here we perform the fit"
   ]
  },
  {
   "cell_type": "code",
   "execution_count": 52,
   "metadata": {},
   "outputs": [],
   "source": [
    "fit = robj.fit(\n",
    "    Nstates = NSTATES,\n",
    "    trange  = trange,\n",
    "    priors  = pr,\n",
    "    verbose = False,\n",
    "    **cov_specs,\n",
    ")"
   ]
  },
  {
   "cell_type": "code",
   "execution_count": 53,
   "metadata": {},
   "outputs": [
    {
     "name": "stdout",
     "output_type": "stream",
     "text": [
      "# ---------- chi^2_exp analysis -------------\n",
      "# chi2_exp = 11.000000000000405 +/- 4.690415759823342 \n",
      "# p-value [eval] = 0.9192\n",
      "# p-value [MC]   = 0.9101\n",
      "# ---------- 1+1 fit in (1, 11) for mes: RA1 of ens: Coarse-1 for mom: 100 --------------\n",
      "Least Square Fit:\n",
      "  chi2/dof [dof] = 0.49 [11]    Q = 0.91    logGBF = 41.569\n",
      "\n",
      "Parameters:\n",
      "        ratio 0   0.892 (37)     [  0.90 (10) ]  \n",
      "         A_1S 0   0.037 (15)     [    0 ± 1.0 ]  \n",
      "         B_1S 0   0.064 (31)     [    0 ± 1.0 ]  \n",
      "       dE_src 0   -0.55 (65)     [ -1.8 (1.0) ]  *\n",
      "\n",
      "Settings:\n",
      "  svdcut/n = 0/0    tol = (1e-08,1e-10,1e-10*)    (itns/time = 21/0.0)\n",
      "  fitter = scipy_least_squares    method = trf\n",
      "\n",
      "# red chi2       = 3.90\n",
      "# aug chi2       = 5.36\n",
      "# chi2_exp       = 11.00\n",
      "# chi2/chi_exp   = 0.49\n",
      "# p-value (exp)  = 0.92\n",
      "# p-value (std)  = 0.82\n"
     ]
    }
   ],
   "source": [
    "res = robj.fit_result(\n",
    "    Nexc   = NSTATES,\n",
    "    trange = trange,\n",
    "    verbose = True,\n",
    "    priors = pr \n",
    ")"
   ]
  },
  {
   "cell_type": "code",
   "execution_count": 54,
   "metadata": {},
   "outputs": [
    {
     "name": "stderr",
     "output_type": "stream",
     "text": [
      "No artists with labels found to put in legend.  Note that artists whose label start with an underscore are ignored when legend() is called with no argument.\n"
     ]
    },
    {
     "data": {
      "image/png": "[encoded data removed]",
      "text/plain": [
       "<Figure size 600x600 with 1 Axes>"
      ]
     },
     "metadata": {},
     "output_type": "display_data"
    }
   ],
   "source": [
    "plt.rcParams['text.usetex'] = True\n",
    "plt.rcParams['font.size'] = 12\n",
    "\n",
    "# f, ax = plt.subplots(1,1,figsize=(8,4))\n",
    "f, ax = plt.subplots(1,1,figsize=(6,6))\n",
    "\n",
    "robj.plot_fit(ax,NSTATES,trange)\n",
    "\n",
    "f0 = pr['ratio'][0]\n",
    "ax.axhspan(ymin=f0.mean-f0.sdev,ymax=f0.mean+f0.sdev,alpha=0.1,color='gray')\n",
    "\n",
    "# ax.set_xlim(-0.5,18)\n",
    "ax.grid(alpha=0.2)\n",
    "ax.legend()\n",
    "ax.set_title(f'{ENSEMBLE}_{RATIO}_{MOMENTUM}')\n",
    "plt.tight_layout()\n",
    "# plt.savefig('/Users/pietro/Desktop/bad_ratio.pdf')"
   ]
  },
  {
   "cell_type": "markdown",
   "metadata": {},
   "source": [
    "# Model average for `Nstates` and trange"
   ]
  },
  {
   "cell_type": "code",
   "execution_count": 55,
   "metadata": {},
   "outputs": [
    {
     "name": "stdout",
     "output_type": "stream",
     "text": [
      "Nstates=1,tmin=1\n",
      "# ---------- chi^2_exp analysis -------------\n",
      "# chi2_exp = 11.000000000000405 +/- 4.690415759823342 \n",
      "# p-value [eval] = 0.9094\n",
      "# p-value [MC]   = 0.9122\n",
      "Nstates=1,tmin=2\n",
      "# ---------- chi^2_exp analysis -------------\n",
      "# chi2_exp = 9.000000000000007 +/- 4.24264068711962 \n",
      "# p-value [eval] = 0.9083\n",
      "# p-value [MC]   = 0.9065\n",
      "Nstates=1,tmin=3\n",
      "# ---------- chi^2_exp analysis -------------\n",
      "# chi2_exp = 7.000000000000522 +/- 3.7416573867736713 \n",
      "# p-value [eval] = 0.9732\n",
      "# p-value [MC]   = 0.9725\n",
      "Nstates=1,tmin=4\n",
      "# ---------- chi^2_exp analysis -------------\n",
      "# chi2_exp = 5.000000000000396 +/- 3.1622776601683076 \n",
      "# p-value [eval] = 0.9737\n",
      "# p-value [MC]   = 0.9734\n",
      "Nstates=2,tmin=1\n",
      "# ---------- chi^2_exp analysis -------------\n",
      "# chi2_exp = 11.000000000003393 +/- 4.69041575982332 \n",
      "# p-value [eval] = 0.993\n",
      "# p-value [MC]   = 0.9937\n",
      "Nstates=2,tmin=2\n",
      "# ---------- chi^2_exp analysis -------------\n",
      "# chi2_exp = 8.999999999997767 +/- 4.242640687120778 \n",
      "# p-value [eval] = 0.9878\n",
      "# p-value [MC]   = 0.9888\n",
      "Nstates=2,tmin=3\n",
      "# ---------- chi^2_exp analysis -------------\n",
      "# chi2_exp = 6.999999999995957 +/- 3.7416573867734346 \n",
      "# p-value [eval] = 0.9992\n",
      "# p-value [MC]   = 0.9997\n",
      "Nstates=2,tmin=4\n",
      "# ---------- chi^2_exp analysis -------------\n",
      "# chi2_exp = 4.999999999999111 +/- 3.1622776601685567 \n",
      "# p-value [eval] = 0.9996\n",
      "# p-value [MC]   = 0.9992\n",
      "Nstates=3,tmin=1\n",
      "# ---------- chi^2_exp analysis -------------\n",
      "# chi2_exp = 11.000000000002421 +/- 4.690415759823608 \n",
      "# p-value [eval] = 0.9961\n",
      "# p-value [MC]   = 0.9956\n",
      "Nstates=3,tmin=2\n",
      "# ---------- chi^2_exp analysis -------------\n",
      "# chi2_exp = 9.000000000003894 +/- 4.242640687120457 \n",
      "# p-value [eval] = 0.997\n",
      "# p-value [MC]   = 0.9979\n",
      "Nstates=3,tmin=3\n",
      "# ---------- chi^2_exp analysis -------------\n",
      "# chi2_exp = 7.0000000000066045 +/- 3.7416573867735052 \n",
      "# p-value [eval] = 0.9998\n",
      "# p-value [MC]   = 0.9992\n",
      "Nstates=3,tmin=4\n",
      "# ---------- chi^2_exp analysis -------------\n",
      "# chi2_exp = 4.999999999996245 +/- 3.1622776601685625 \n",
      "# p-value [eval] = 0.9997\n",
      "# p-value [MC]   = 0.9996\n"
     ]
    }
   ],
   "source": [
    "TIC = {}\n",
    "pval = {}\n",
    "for Nstates in [1,2,3]:\n",
    "    dE_src = phys_energy_priors(ENSEMBLE,'Dst',MOMENTUM,Nstates,readfrom=DATA_2PT)\n",
    "    dE_snk = phys_energy_priors(ENSEMBLE,'B'  ,MOMENTUM,Nstates,readfrom=DATA_2PT)\n",
    "    x,ydata = robj.format(trange,flatten=True)\n",
    "    pr = robj.priors(Nstates, dE_src=dE_src, dE_snk=dE_snk)\n",
    "\n",
    "    for tmin in [1,2,3,4]:\n",
    "        print(f'{Nstates=},{tmin=}')\n",
    "\n",
    "        trange = (tmin, robj.Ta-tmin)\n",
    "\n",
    "        fit = robj.fit(\n",
    "            Nstates = Nstates,\n",
    "            trange  = trange,\n",
    "            priors  = pr,\n",
    "            verbose = False,\n",
    "            **cov_specs\n",
    "        )\n",
    "\n",
    "        res = robj.fit_result(\n",
    "            Nexc   = Nstates,\n",
    "            trange = trange,\n",
    "            priors = pr,\n",
    "            verbose = False\n",
    "        )\n",
    "        TIC[Nstates,trange] = float((res['chi2aug'] - 2*res['chiexp']))\n",
    "        pval[Nstates,trange] = res['pstd']"
   ]
  },
  {
   "cell_type": "code",
   "execution_count": 56,
   "metadata": {},
   "outputs": [
    {
     "name": "stdout",
     "output_type": "stream",
     "text": [
      "0.916(55) 0.012315410741088882\n"
     ]
    }
   ],
   "source": [
    "norm = np.exp(-np.array(list(TIC.values()))/2).sum()\n",
    "\n",
    "vals = np.array([f.p['ratio'][0] for k,f in robj.fits.items()])\n",
    "weig = np.array([np.exp(-TIC[k]/2)/norm for k in robj.fits]   )\n",
    "\n",
    "stat = sum(vals * weig)\n",
    "syst = np.sqrt(gv.mean(sum(weig*vals*vals) - (sum(weig*vals))**2))\n",
    "\n",
    "\n",
    "print(stat,syst)"
   ]
  },
  {
   "cell_type": "markdown",
   "metadata": {},
   "source": [
    "Print the results"
   ]
  },
  {
   "cell_type": "code",
   "execution_count": 57,
   "metadata": {},
   "outputs": [
    {
     "data": {
      "image/png": "[encoded data removed]",
      "text/plain": [
       "<Figure size 600x400 with 3 Axes>"
      ]
     },
     "metadata": {},
     "output_type": "display_data"
    }
   ],
   "source": [
    "f, ax = plt.subplots(2,1,figsize=(6,4),gridspec_kw={'height_ratios': [3, 1]},sharex=True)\n",
    "\n",
    "ts      = np.array([1,2,3,4])\n",
    "tranges = [((t,robj.Ta-t)) for t in ts]\n",
    "\n",
    "ax2 = ax[1].twinx()\n",
    "\n",
    "for i,n in enumerate([1,2,3]):\n",
    "    f0 = [robj.fits[n,tr].p['ratio'][0] for tr in tranges]\n",
    "    off = -0.05*i + 0.05\n",
    "    ax[0].errorbar(ts+off,gv.mean(f0),gv.sdev(f0),fmt='o', color=f'C{i}', capsize=2.5, label=f'({n+1}+{n+1})')\n",
    "\n",
    "    tic = [np.exp(-TIC[n,tr]/2)/norm for tr in tranges]\n",
    "    ax[1].plot(ts,tic,alpha=0.1,color=f'C{i}')\n",
    "    # ax[1].scatter(ts,tic,marker='o',color=f'C{i}')\n",
    "\n",
    "    pv = [pval[n,tr] for tr in tranges]\n",
    "    ax2.scatter(ts,pv,color=f'C{i}',marker='.')\n",
    "\n",
    "\n",
    "ax[0].axhspan(ymin=stat.mean-stat.sdev,ymax=stat.mean+stat.sdev,color='gray',alpha=0.2,label='model average')\n",
    "err = np.sqrt(stat.sdev**2+syst**2)\n",
    "ax[0].axhline(stat.mean-err,color='gray',alpha=0.2,linestyle=':')\n",
    "ax[0].axhline(stat.mean+err,color='gray',alpha=0.2,linestyle=':')\n",
    "\n",
    "ax[0].grid(alpha=0.2)\n",
    "ax[0].legend(loc='lower right')\n",
    "ax[0].set_ylabel(r'$F_0$')\n",
    "\n",
    "ax[1].grid(alpha=0.2)\n",
    "# ax[1].set_ylim(-0.1,1.1)\n",
    "ax[1].set_ylabel(r'TIC weight')\n",
    "ax[1].set_xlabel(r'$\\frac{t_{min}}{a}$')\n",
    "\n",
    "ax2.set_ylabel(r'$p$-value')\n",
    "\n",
    "ax[0].set_title(f'{ENSEMBLE}_{RATIO}')\n",
    "\n",
    "plt.tight_layout()\n",
    "# plt.savefig(f'/Users/pietro/Desktop/model_average_{ENSEMBLE}_{RATIO}_{MOMENTUM}.pdf')"
   ]
  },
  {
   "cell_type": "code",
   "execution_count": null,
   "metadata": {},
   "outputs": [],
   "source": []
  }
 ],
 "metadata": {
  "kernelspec": {
   "display_name": "Python 3.11.4 ('stat')",
   "language": "python",
   "name": "python3"
  },
  "language_info": {
   "codemirror_mode": {
    "name": "ipython",
    "version": 3
   },
   "file_extension": ".py",
   "mimetype": "text/x-python",
   "name": "python",
   "nbconvert_exporter": "python",
   "pygments_lexer": "ipython3",
   "version": "3.11.4"
  },
  "orig_nbformat": 4,
  "vscode": {
   "interpreter": {
    "hash": "550906e9926f0f588aff226d3abadfa0c6a614c1c5eae7bfa21377021c1cb7ed"
   }
  }
 },
 "nbformat": 4,
 "nbformat_minor": 2
}
