{
 "cells": [
  {
   "cell_type": "code",
   "execution_count": 1,
   "metadata": {},
   "outputs": [],
   "source": [
    "import argparse\n",
    "import pickle\n",
    "import sys\n",
    "import tomllib\n",
    "import os\n",
    "\n",
    "import datetime\n",
    "\n",
    "from b2heavy.TwoPointFunctions.types  import CorrelatorIO, Correlator\n",
    "from b2heavy.TwoPointFunctions.fitter import CorrFitter"
   ]
  },
  {
   "cell_type": "code",
   "execution_count": 2,
   "metadata": {},
   "outputs": [],
   "source": [
    "import numpy  as np\n",
    "import gvar   as gv\n",
    "import pandas as pd\n",
    "import xarray as xr\n",
    "import pickle\n",
    "import matplotlib.pyplot as plt\n",
    "import lsqfit\n",
    "import os\n",
    "import sys\n",
    "import h5py"
   ]
  },
  {
   "cell_type": "code",
   "execution_count": 9,
   "metadata": {},
   "outputs": [],
   "source": [
    "ens      = 'Coarse-1'\n",
    "data_dir = '/Users/pietro/code/data_analysis/BtoD/Alex'\n",
    "meson    = 'D'\n",
    "mom      = '000'\n",
    "binsize  = 11\n",
    "\n",
    "tag = f'{ens}_{meson}_{mom}'\n",
    "\n",
    "io = CorrelatorIO(ens,meson,mom,PathToDataDir=data_dir)\n",
    "corr = Correlator(io,jkBin=binsize,CrossSmearing=True)"
   ]
  },
  {
   "cell_type": "code",
   "execution_count": 11,
   "metadata": {},
   "outputs": [
    {
     "ename": "TypeError",
     "evalue": "unhashable type: 'list'",
     "output_type": "error",
     "traceback": [
      "\u001b[0;31m---------------------------------------------------------------------------\u001b[0m",
      "\u001b[0;31mTypeError\u001b[0m                                 Traceback (most recent call last)",
      "Cell \u001b[0;32mIn[11], line 2\u001b[0m\n\u001b[1;32m      1\u001b[0m fitter \u001b[38;5;241m=\u001b[39m CorrFitter(corr,smearing\u001b[38;5;241m=\u001b[39m[\u001b[38;5;124m'\u001b[39m\u001b[38;5;124md-d\u001b[39m\u001b[38;5;124m'\u001b[39m,\u001b[38;5;124m'\u001b[39m\u001b[38;5;124m1S-1S\u001b[39m\u001b[38;5;124m'\u001b[39m,\u001b[38;5;124m'\u001b[39m\u001b[38;5;124md-1S\u001b[39m\u001b[38;5;124m'\u001b[39m])\n\u001b[0;32m----> 2\u001b[0m \u001b[43mfitter\u001b[49m\u001b[38;5;241;43m.\u001b[39;49m\u001b[43mGEVP\u001b[49m\u001b[43m(\u001b[49m\u001b[38;5;241;43m10\u001b[39;49m\u001b[43m)\u001b[49m\n",
      "File \u001b[0;32m~/code/software/B2heavy/b2heavy/TwoPointFunctions/fitter.py:478\u001b[0m, in \u001b[0;36mCorrFitter.GEVP\u001b[0;34m(self, t0, smlist, polarization, order, jkbin)\u001b[0m\n\u001b[1;32m    476\u001b[0m aux \u001b[39m=\u001b[39m {}\n\u001b[1;32m    477\u001b[0m \u001b[39mfor\u001b[39;00m pol \u001b[39min\u001b[39;00m POL:\n\u001b[0;32m--> 478\u001b[0m     aux[pol] \u001b[39m=\u001b[39m np\u001b[39m.\u001b[39mlog(eigs[POL]\u001b[39m/\u001b[39mnp\u001b[39m.\u001b[39mroll(eigs[POL],\u001b[39m-\u001b[39m\u001b[39m1\u001b[39m,axis\u001b[39m=\u001b[39m\u001b[39m1\u001b[39m))[:,:\u001b[39m-\u001b[39m\u001b[39m1\u001b[39m]\n\u001b[1;32m    480\u001b[0m \u001b[39mif\u001b[39;00m jkbin:\n\u001b[1;32m    481\u001b[0m     \u001b[39mreturn\u001b[39;00m aux\n",
      "\u001b[0;31mTypeError\u001b[0m: unhashable type: 'list'"
     ]
    }
   ],
   "source": [
    "fitter = CorrFitter(corr,smearing=['d-d','1S-1S','d-1S'])\n",
    "fitter.GEVP(10)"
   ]
  },
  {
   "cell_type": "code",
   "execution_count": null,
   "metadata": {},
   "outputs": [],
   "source": []
  }
 ],
 "metadata": {
  "kernelspec": {
   "display_name": "Python 3.11.4 ('stat')",
   "language": "python",
   "name": "python3"
  },
  "language_info": {
   "codemirror_mode": {
    "name": "ipython",
    "version": 3
   },
   "file_extension": ".py",
   "mimetype": "text/x-python",
   "name": "python",
   "nbconvert_exporter": "python",
   "pygments_lexer": "ipython3",
   "version": "3.11.4"
  },
  "orig_nbformat": 4,
  "vscode": {
   "interpreter": {
    "hash": "550906e9926f0f588aff226d3abadfa0c6a614c1c5eae7bfa21377021c1cb7ed"
   }
  }
 },
 "nbformat": 4,
 "nbformat_minor": 2
}
