{
 "cells": [
  {
   "cell_type": "code",
   "execution_count": 44,
   "metadata": {},
   "outputs": [],
   "source": [
    "import h5py\n",
    "import os"
   ]
  },
  {
   "cell_type": "code",
   "execution_count": 45,
   "metadata": {},
   "outputs": [],
   "source": [
    "path = '/Users/pietro/code/data_analysis/BtoD/Alex/Ensembles/FnalHISQ/a0.12/'\n",
    "\n",
    "old = os.path.join(path,'l3264f211b600m00507m0507m628-HISQscript.hdf5')\n",
    "new = os.path.join(path,'l3264f211b600m00507m0507m628-HISQscript_new.hdf5')"
   ]
  },
  {
   "cell_type": "code",
   "execution_count": 46,
   "metadata": {},
   "outputs": [],
   "source": [
    "kold = list(h5py.File(old,'r')['data'].keys())\n",
    "knew = list(h5py.File(new,'r')['data'].keys())"
   ]
  },
  {
   "cell_type": "code",
   "execution_count": 52,
   "metadata": {},
   "outputs": [
    {
     "data": {
      "text/plain": [
       "['P5_A1_V1_T13_k0.08574_RW_RW_rot_rot_m0.0507_k0.12201_p000',\n",
       " 'P5_A2_V2_T12_k0.08574_RW_1S_rot_rot_m0.00507_k0.12201_p000',\n",
       " 'P5_A2_V2_T13_k0.08574_RW_1S_rot_rot_m0.0507_k0.12201_p000',\n",
       " 'P5_A2_V2_T13_k0.08574_RW_RW_rot_rot_m0.00507_k0.12201_p000',\n",
       " 'P5_A3_V3_T12_k0.08574_RW_1S_rot_rot_m0.0507_k0.12201_p000',\n",
       " 'P5_A3_V3_T13_k0.08574_RW_1S_rot_rot_m0.0507_k0.12201_p000',\n",
       " 'P5_A4_1S_RW_rot_d_k0.12201_m0.00507_p000',\n",
       " 'P5_A4_RW_RW_rot_d_k0.08574_m0.0507_p000',\n",
       " 'P5_A4_RW_RW_rot_rot_k0.08574_k0.12201_p000',\n",
       " 'P5_P5_1S_RW_d_d_k0.08574_m0.00507_p000',\n",
       " 'P5_P5_1S_RW_d_d_k0.08574_m0.0507_p000',\n",
       " 'P5_P5_RW_RW_1S_d_k0.08574_m0.00507_p000',\n",
       " 'P5_P5_RW_RW_1S_d_k0.08574_m0.0507_p000',\n",
       " 'P5_P5_RW_RW_d_d_k0.12201_m0.00507_p000',\n",
       " 'P5_P5_RW_RW_d_d_k0.12201_m0.0507_p000',\n",
       " 'P5_P5_rot_1S_rot_1S_k0.08574_k0.08574_p000',\n",
       " 'P5_P5_rot_1S_rot_rot_k0.08574_k0.12201_p000',\n",
       " 'P5_P5_rot_rot_rot_rot_k0.08574_k0.08574_p000',\n",
       " 'P5_P5_rot_rot_rot_rot_k0.12201_k0.12201_p000',\n",
       " 'P5_V4_P5_T12_k0.08574_RW_1S_rot_rot_m0.0507_k0.08574_p000',\n",
       " 'P5_V4_P5_T12_k0.08574_RW_RW_rot_rot_m0.00507_k0.12201_p000',\n",
       " 'P5_V4_P5_T12_k0.08574_RW_RW_rot_rot_m0.0507_k0.12201_p000',\n",
       " 'P5_V4_P5_T12_k0.12201_RW_1S_rot_rot_m0.0507_k0.12201_p000',\n",
       " 'P5_V4_P5_T12_k0.12201_RW_RW_rot_rot_m0.00507_k0.12201_p000',\n",
       " 'P5_V4_P5_T13_k0.08574_RW_1S_rot_rot_m0.00507_k0.12201_p000',\n",
       " 'P5_V4_P5_T13_k0.08574_RW_1S_rot_rot_m0.0507_k0.08574_p000',\n",
       " 'P5_V4_P5_T13_k0.08574_RW_RW_rot_rot_m0.00507_k0.12201_p000',\n",
       " 'P5_V4_P5_T13_k0.08574_RW_RW_rot_rot_m0.0507_k0.12201_p000',\n",
       " 'P5_V4_P5_T13_k0.12201_RW_1S_rot_rot_m0.00507_k0.12201_p000',\n",
       " 'P5_V4_P5_T13_k0.12201_RW_RW_rot_rot_m0.0507_k0.08574_p000',\n",
       " 'P5_V4_P5_T17_k0.08574_RW_RW_rot_d_m0.00507_m0.0507_p000',\n",
       " 'P5_V4_P5_T18_k0.08574_RW_RW_rot_d_m0.00507_m0.00507_p000',\n",
       " 'P5_V4_P5_T18_k0.08574_RW_RW_rot_d_m0.00507_m0.0507_p000',\n",
       " 'T14_T14_rot_1S_rot_1S_k0.08574_k0.12201_p000',\n",
       " 'T14_T14_rot_rot_rot_1S_k0.08574_k0.08574_p000',\n",
       " 'T14_T14_rot_rot_rot_1S_k0.12201_k0.12201_p000',\n",
       " 'T14_T14_rot_rot_rot_rot_k0.08574_k0.12201_p000',\n",
       " 'T24_T24_rot_1S_rot_1S_k0.08574_k0.12201_p000',\n",
       " 'T24_T24_rot_1S_rot_rot_k0.08574_k0.12201_p000',\n",
       " 'T24_T24_rot_rot_rot_rot_k0.08574_k0.08574_p000',\n",
       " 'T34_T34_rot_rot_rot_1S_k0.08574_k0.12201_p000',\n",
       " 'T34_T34_rot_rot_rot_rot_k0.08574_k0.08574_p000',\n",
       " 'T34_T34_rot_rot_rot_rot_k0.12201_k0.12201_p000',\n",
       " 'V1_T14_RW_RW_rot_d_k0.08574_m0.0507_p000',\n",
       " 'V1_T14_RW_RW_rot_d_k0.12201_m0.00507_p000',\n",
       " 'V1_V1_1S_RW_1S_d_k0.12201_m0.00507_p000',\n",
       " 'V1_V1_1S_RW_d_d_k0.08574_m0.0507_p000',\n",
       " 'V1_V1_1S_RW_d_d_k0.12201_m0.00507_p000',\n",
       " 'V1_V1_1S_RW_rot_d_k0.08574_m0.0507_p000',\n",
       " 'V1_V1_RW_RW_1S_d_k0.12201_m0.00507_p000',\n",
       " 'V1_V1_RW_RW_1S_d_k0.12201_m0.0507_p000',\n",
       " 'V1_V1_RW_RW_d_d_k0.12201_m0.0507_p000',\n",
       " 'V1_V1_RW_RW_rot_d_k0.08574_m0.0507_p000',\n",
       " 'V1_V1_RW_RW_rot_d_k0.12201_m0.00507_p000',\n",
       " 'V1_V1_rot_1S_rot_1S_k0.08574_k0.08574_p000',\n",
       " 'V1_V1_rot_1S_rot_1S_k0.12201_k0.12201_p000',\n",
       " 'V1_V1_rot_rot_rot_1S_k0.08574_k0.08574_p000',\n",
       " 'V1_V1_rot_rot_rot_1S_k0.12201_k0.12201_p000',\n",
       " 'V1_V1_rot_rot_rot_rot_k0.08574_k0.08574_p000',\n",
       " 'V1_V1_rot_rot_rot_rot_k0.12201_k0.12201_p000',\n",
       " 'V1_V4_V1_T12_k0.12201_RW_1S_rot_rot_m0.0507_k0.12201_p000',\n",
       " 'V1_V4_V2_T12_k0.12201_RW_1S_rot_rot_m0.00507_k0.12201_p000',\n",
       " 'V1_V4_V2_T12_k0.12201_RW_RW_rot_rot_m0.0507_k0.12201_p000',\n",
       " 'V1_V4_V2_T13_k0.12201_RW_RW_rot_rot_m0.00507_k0.12201_p000',\n",
       " 'V1_V4_V3_T13_k0.12201_RW_RW_rot_rot_m0.0507_k0.12201_p000',\n",
       " 'V2_T24_1S_RW_rot_d_k0.08574_m0.0507_p000',\n",
       " 'V2_T24_1S_RW_rot_d_k0.12201_m0.00507_p000',\n",
       " 'V2_T24_RW_RW_rot_d_k0.08574_m0.00507_p000',\n",
       " 'V2_T24_RW_RW_rot_d_k0.08574_m0.0507_p000',\n",
       " 'V2_V2_1S_RW_d_d_k0.08574_m0.00507_p000',\n",
       " 'V2_V2_RW_RW_1S_d_k0.08574_m0.0507_p000',\n",
       " 'V2_V2_RW_RW_1S_d_k0.12201_m0.00507_p000',\n",
       " 'V2_V2_RW_RW_d_d_k0.08574_m0.0507_p000',\n",
       " 'V2_V2_RW_RW_rot_d_k0.08574_m0.0507_p000',\n",
       " 'V2_V2_RW_RW_rot_d_k0.12201_m0.00507_p000',\n",
       " 'V2_V2_rot_1S_rot_1S_k0.12201_k0.12201_p000',\n",
       " 'V2_V2_rot_1S_rot_rot_k0.08574_k0.12201_p000',\n",
       " 'V2_V2_rot_rot_rot_1S_k0.08574_k0.08574_p000',\n",
       " 'V3_T34_1S_RW_rot_d_k0.08574_m0.00507_p000',\n",
       " 'V3_T34_1S_RW_rot_d_k0.12201_m0.0507_p000',\n",
       " 'V3_V3_1S_RW_1S_d_k0.08574_m0.0507_p000',\n",
       " 'V3_V3_1S_RW_d_d_k0.12201_m0.00507_p000',\n",
       " 'V3_V3_1S_RW_d_d_k0.12201_m0.0507_p000',\n",
       " 'V3_V3_1S_RW_rot_d_k0.12201_m0.00507_p000',\n",
       " 'V3_V3_RW_RW_1S_d_k0.12201_m0.00507_p000',\n",
       " 'V3_V3_RW_RW_1S_d_k0.12201_m0.0507_p000',\n",
       " 'V3_V3_RW_RW_d_d_k0.08574_m0.00507_p000',\n",
       " 'V3_V3_RW_RW_rot_d_k0.08574_m0.00507_p000',\n",
       " 'V3_V3_RW_RW_rot_d_k0.08574_m0.0507_p000',\n",
       " 'V3_V3_rot_1S_rot_rot_k0.08574_k0.12201_p000',\n",
       " 'V3_V3_rot_rot_rot_rot_k0.08574_k0.12201_p000']"
      ]
     },
     "execution_count": 52,
     "metadata": {},
     "output_type": "execute_result"
    }
   ],
   "source": [
    "[k for k in kold if k not in knew and k.endswith('000')]"
   ]
  },
  {
   "cell_type": "code",
   "execution_count": 55,
   "metadata": {},
   "outputs": [],
   "source": [
    "LL = [\n",
    "    ['V1_V1_1S_RW_rot_d_k0.12201_m0.00507_p000', 'V2_V2_1S_RW_rot_d_k0.12201_m0.00507_p000','V3_V3_1S_RW_rot_d_k0.12201_m0.00507_p000'],\n",
    "    ['V1_V1_1S_RW_1S_d_k0.12201_m0.00507_p000',  'V2_V2_1S_RW_1S_d_k0.12201_m0.00507_p000', 'V3_V3_1S_RW_1S_d_k0.12201_m0.00507_p000'],\n",
    "    ['V1_V1_1S_RW_d_d_k0.12201_m0.00507_p000',   'V2_V2_1S_RW_d_d_k0.12201_m0.00507_p000',  'V3_V3_1S_RW_d_d_k0.12201_m0.00507_p000'],\n",
    "    ['V1_V1_RW_RW_rot_d_k0.12201_m0.00507_p000', 'V2_V2_RW_RW_rot_d_k0.12201_m0.00507_p000','V3_V3_RW_RW_rot_d_k0.12201_m0.00507_p000'],\n",
    "    ['V1_V1_RW_RW_1S_d_k0.12201_m0.00507_p000',  'V2_V2_RW_RW_1S_d_k0.12201_m0.00507_p000', 'V3_V3_RW_RW_1S_d_k0.12201_m0.00507_p000'],\n",
    "    ['V1_V1_RW_RW_d_d_k0.12201_m0.00507_p000',   'V2_V2_RW_RW_d_d_k0.12201_m0.00507_p000',  'V3_V3_RW_RW_d_d_k0.12201_m0.00507_p000']\n",
    "]"
   ]
  },
  {
   "cell_type": "code",
   "execution_count": 65,
   "metadata": {},
   "outputs": [
    {
     "name": "stdout",
     "output_type": "stream",
     "text": [
      "V3_V3_1S_RW_rot_d_k0.12201_m0.00507_p000\n",
      "V1_V1_1S_RW_1S_d_k0.12201_m0.00507_p000\n",
      "V1_V1_1S_RW_d_d_k0.12201_m0.00507_p000\n",
      "V3_V3_1S_RW_d_d_k0.12201_m0.00507_p000\n",
      "V1_V1_RW_RW_rot_d_k0.12201_m0.00507_p000\n",
      "V2_V2_RW_RW_rot_d_k0.12201_m0.00507_p000\n",
      "V1_V1_RW_RW_1S_d_k0.12201_m0.00507_p000\n",
      "V2_V2_RW_RW_1S_d_k0.12201_m0.00507_p000\n",
      "V3_V3_RW_RW_1S_d_k0.12201_m0.00507_p000\n"
     ]
    }
   ],
   "source": [
    "for L in LL:\n",
    "    for l in L:\n",
    "        if l in kold and l not in knew:\n",
    "            print(l)"
   ]
  }
 ],
 "metadata": {
  "kernelspec": {
   "display_name": "Python 3.11.7 64-bit",
   "language": "python",
   "name": "python3"
  },
  "language_info": {
   "codemirror_mode": {
    "name": "ipython",
    "version": 3
   },
   "file_extension": ".py",
   "mimetype": "text/x-python",
   "name": "python",
   "nbconvert_exporter": "python",
   "pygments_lexer": "ipython3",
   "version": "3.11.7"
  },
  "orig_nbformat": 4,
  "vscode": {
   "interpreter": {
    "hash": "b0fa6594d8f4cbf19f97940f81e996739fb7646882a419484c72d19e05852a7e"
   }
  }
 },
 "nbformat": 4,
 "nbformat_minor": 2
}
