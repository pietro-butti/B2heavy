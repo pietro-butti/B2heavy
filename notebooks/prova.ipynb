{
 "cells": [
  {
   "cell_type": "code",
   "execution_count": 1,
   "metadata": {},
   "outputs": [],
   "source": [
    "from b2heavy.ThreePointFunctions.corr3pts import BINSIZE\n",
    "\n",
    "from b2heavy.TwoPointFunctions.utils     import Tmax\n",
    "from b2heavy.TwoPointFunctions.types2pts import CorrelatorIO, Correlator\n",
    "from b2heavy.TwoPointFunctions.fitter    import StagFitter, p_value, standard_p\n",
    "\n",
    "from b2heavy.FnalHISQMetadata import params\n",
    "\n",
    "import lsqfit\n",
    "import copy\n",
    "import h5py\n",
    "\n",
    "import numpy             as np\n",
    "import gvar              as gv\n",
    "import matplotlib.pyplot as plt\n",
    "import pandas            as pd\n",
    "import corrfitter        as cf\n",
    "\n",
    "from tqdm  import tqdm\n",
    "from scipy import linalg as la\n",
    "\n",
    "import jax \n",
    "import jax.numpy         as jnp\n",
    "jax.config.update(\"jax_enable_x64\", True)\n"
   ]
  },
  {
   "cell_type": "code",
   "execution_count": 9,
   "metadata": {},
   "outputs": [],
   "source": [
    "ens      = 'Coarse-Phys'\n",
    "mes      = 'Dst'\n",
    "mom      = '100'\n",
    "binsize  = 19\n",
    "data_dir = '/Users/pietro/code/data_analysis/BtoD/Alex/'\n",
    "smlist   = ['1S-1S','d-d','d-1S'] \n",
    "\n",
    "mdata = params(ens)\n",
    "\n",
    "cov_specs = dict(scale=True, shrink=True, cutsvd=1e-12)\n",
    "jkb       = BINSIZE[ens]"
   ]
  },
  {
   "cell_type": "code",
   "execution_count": 25,
   "metadata": {},
   "outputs": [],
   "source": [
    "io   = CorrelatorIO(ens,mes,mom,PathToDataDir=data_dir)\n",
    "self = Correlator(\n",
    "    io       = io,\n",
    "    jkBin    = binsize,\n",
    "    smearing = smlist\n",
    ")"
   ]
  },
  {
   "cell_type": "code",
   "execution_count": 36,
   "metadata": {},
   "outputs": [
    {
     "name": "stderr",
     "output_type": "stream",
     "text": [
      "/Users/pietro/code/software/B2heavy/b2heavy/TwoPointFunctions/types2pts.py:38: RuntimeWarning: invalid value encountered in sqrt\n",
      "  m = np.arccosh( (y[(it+1)%len(y)]+y[(it-1)%len(y)])/y[it]/2 )\n",
      "/Users/pietro/code/software/B2heavy/b2heavy/TwoPointFunctions/types2pts.py:38: RuntimeWarning: invalid value encountered in log\n",
      "  m = np.arccosh( (y[(it+1)%len(y)]+y[(it-1)%len(y)])/y[it]/2 )\n",
      "/Users/pietro/code/software/B2heavy/b2heavy/TwoPointFunctions/types2pts.py:38: RuntimeWarning: invalid value encountered in arccosh\n",
      "  m = np.arccosh( (y[(it+1)%len(y)]+y[(it-1)%len(y)])/y[it]/2 )\n"
     ]
    }
   ],
   "source": [
    "teff     = (12,25)\n",
    "tmin     = int(0.65//mdata['aSpc'].mean)\n",
    "# tmin     = int(1.//mdata['aSpc'].mean)\n",
    "tmax_all = 28\n",
    "Nstates = 3\n",
    "errmax  = 0.25\n",
    "\n",
    "effm,effa = stag.meff(teff,**cov_specs)\n",
    "\n"
   ]
  },
  {
   "cell_type": "code",
   "execution_count": 61,
   "metadata": {},
   "outputs": [],
   "source": [
    "def priors(self, Nstates, meff=None, aeff=None):\n",
    "    tmp = {}\n",
    "\n",
    "    tmp['dE']    = ['-0.7(1.)'] * Nstates\n",
    "    tmp['dE.o']  = ['-0.7(1.)'] * Nstates\n",
    "    tmp['dE'][0] = '1(1)' if meff is None else gv.gvar(meff.mean,0.5) \n",
    "\n",
    "    for sm,pl in self.keys:\n",
    "        s1,s2 = sm.split('-')\n",
    "        mix = s1!=s2\n",
    "\n",
    "        if s1==s2:\n",
    "            a = aeff[sm,pl].mean\n",
    "            tmp[f'Z.{s1}.{pl}'  ]    = ['0.2(1.5)'] * Nstates\n",
    "            tmp[f'Z.{s1}.{pl}.o']    = ['0.2(1.5)'] * Nstates\n",
    "            tmp[f'Z.{s1}.{pl}'][0] = gv.gvar(np.log(a)/2,1.)\n",
    "        else:\n",
    "            tmp[f'Z.{sm}.{pl}'  ] = ['0.2(1.5)'] * (Nstates-1)\n",
    "            tmp[f'Z.{sm}.{pl}.o'] = ['0.2(1.5)'] * (Nstates-1)\n",
    "\n",
    "    return gv.gvar(tmp)"
   ]
  },
  {
   "cell_type": "code",
   "execution_count": 62,
   "metadata": {},
   "outputs": [],
   "source": [
    "def fexp(Nt):\n",
    "    return lambda t,E,Z: Z * ( np.exp(-E*t) + np.exp(-E*(Nt-t)) )"
   ]
  },
  {
   "cell_type": "code",
   "execution_count": 74,
   "metadata": {},
   "outputs": [],
   "source": [
    "def corr2(Nstates,Nt,smr,pol):\n",
    "    s1,s2 = smr.split('-')\n",
    "    mix = s1!=s2\n",
    "\n",
    "    def _fcn(t,p):\n",
    "        erg    = np.exp(p[f'dE'  ])\n",
    "        ergo   = np.exp(p[f'dE.o'])\n",
    "        erg [0] = p[f'dE'][0]\n",
    "        ergo[0] = erg[0] + ergo[0]\n",
    "\n",
    "        c2 = 0.\n",
    "        for n in range(Nstates):\n",
    "            Z0 = np.exp(p[f'Z.{s1}.{pol}'  ][n]) * np.exp(p[f'Z.{s2}.{pol}'  ][n])\n",
    "            Z1 = np.exp(p[f'Z.{s1}.{pol}.o'][n]) * np.exp(p[f'Z.{s2}.{pol}.o'][n])\n",
    "\n",
    "            if n>0:\n",
    "                Z0 = p[f'Z.{smr if mix else s1}.{pol}'  ][n-1 if mix else n]**2\n",
    "                Z1 = p[f'Z.{smr if mix else s1}.{pol}.o'][n-1 if mix else n]**2\n",
    "\n",
    "            Ephy = sum(erg[ :n+1])\n",
    "            Eosc = sum(ergo[:n+1])\n",
    "\n",
    "            c2 += fexp(Nt)(t,Ephy,Z0) + fexp(Nt)(t,Eosc,Z1) * (-1)**((t+1))\n",
    "\n",
    "        return c2\n",
    "\n",
    "    return _fcn\n"
   ]
  },
  {
   "cell_type": "code",
   "execution_count": 75,
   "metadata": {},
   "outputs": [],
   "source": [
    "trange = (tmin,errmax)\n",
    "Nstates = 3"
   ]
  },
  {
   "cell_type": "code",
   "execution_count": 76,
   "metadata": {},
   "outputs": [],
   "source": [
    "tmin,tmax = trange\n",
    "xdata, ydata, yfull = self.format(alljk=True,**cov_specs)\n",
    "\n",
    "xfit, yfit, yjk = {},{},{}\n",
    "for smr,pol in self.keys:\n",
    "    maxt = tmax if isinstance(tmax,int) else \\\n",
    "        Tmax(ydata[smr,pol],errmax=tmax)\n",
    "\n",
    "    xfit[smr,pol] = xdata[tmin:(maxt+1)]\n",
    "    yfit[smr,pol] = ydata[smr,pol][tmin:(maxt+1)]\n",
    "    yjk [smr,pol] = yfull[smr,pol][:,tmin:(maxt+1)]\n",
    "\n",
    "yflat   = np.concatenate([yfit[k] for k in self.keys])\n",
    "yflatjk = np.hstack(      [yjk[k] for k in self.keys])"
   ]
  },
  {
   "cell_type": "code",
   "execution_count": 77,
   "metadata": {},
   "outputs": [],
   "source": [
    "def fitfcn(xd,p):\n",
    "    tmp = []\n",
    "    for sm,pl in self.keys:\n",
    "        fcn = corr2(Nstates,self.Nt,sm,pl)\n",
    "        tmp.append(fcn(xd[sm,pl], p))\n",
    "    return np.concatenate(tmp)"
   ]
  },
  {
   "cell_type": "code",
   "execution_count": 78,
   "metadata": {},
   "outputs": [],
   "source": [
    "pr = priors(self,Nstates,meff=effm,aeff=effa)"
   ]
  },
  {
   "cell_type": "code",
   "execution_count": 82,
   "metadata": {},
   "outputs": [],
   "source": [
    "fit = lsqfit.nonlinear_fit(\n",
    "    data = (xfit, yflat),\n",
    "    fcn  = fitfcn,\n",
    "    prior=pr\n",
    ")"
   ]
  },
  {
   "cell_type": "code",
   "execution_count": 83,
   "metadata": {},
   "outputs": [
    {
     "name": "stdout",
     "output_type": "stream",
     "text": [
      "Least Square Fit:\n",
      "  chi2/dof [dof] = 0.89 [113]    Q = 0.8    logGBF = 2098.7\n",
      "\n",
      "Parameters:\n",
      "           dE 0   1.0868 (26)     [  1.09 (50) ]  \n",
      "              1    -1.05 (18)     [ -0.7 (1.0) ]  \n",
      "              2    -0.44 (19)     [ -0.7 (1.0) ]  \n",
      "         dE.o 0    -1.79 (13)     [ -0.7 (1.0) ]  *\n",
      "              1    -1.91 (70)     [ -0.7 (1.0) ]  *\n",
      "              2    -0.61 (38)     [ -0.7 (1.0) ]  \n",
      "     Z.1S.Bot 0    0.384 (16)     [  0.4 (1.0) ]  \n",
      "              1    0.883 (94)     [  0.2 (1.5) ]  \n",
      "              2     0.7 (1.4)     [  0.2 (1.5) ]  \n",
      "   Z.1S.Bot.o 0     0.02 (14)     [  0.2 (1.5) ]  \n",
      "              1     0.2 (1.4)     [  0.2 (1.5) ]  \n",
      "              2     1.97 (83)     [  0.2 (1.5) ]  *\n",
      "     Z.1S.Par 0    0.396 (16)     [  0.4 (1.0) ]  \n",
      "              1     0.83 (11)     [  0.2 (1.5) ]  \n",
      "              2     1.9 (1.1)     [  0.2 (1.5) ]  *\n",
      "   Z.1S.Par.o 0    -0.16 (20)     [  0.2 (1.5) ]  \n",
      "              1     0.85 (18)     [  0.2 (1.5) ]  \n",
      "              2     0.2 (1.5)     [  0.2 (1.5) ]  \n",
      "   Z.d-1S.Bot 0    0.381 (47)     [  0.2 (1.5) ]  \n",
      "              1    -0.58 (23)     [  0.2 (1.5) ]  \n",
      " Z.d-1S.Bot.o 0    -0.17 (16)     [  0.2 (1.5) ]  \n",
      "              1     0.75 (23)     [  0.2 (1.5) ]  \n",
      "   Z.d-1S.Par 0    0.397 (39)     [  0.2 (1.5) ]  \n",
      "              1   0.03 (1.49)     [  0.2 (1.5) ]  \n",
      " Z.d-1S.Par.o 0     0.22 (11)     [  0.2 (1.5) ]  \n",
      "              1     0.82 (29)     [  0.2 (1.5) ]  \n",
      "      Z.d.Bot 0   -1.973 (20)     [ -2.0 (1.0) ]  \n",
      "              1    0.173 (34)     [  0.2 (1.5) ]  \n",
      "              2    -0.76 (23)     [  0.2 (1.5) ]  \n",
      "    Z.d.Bot.o 0    -2.31 (18)     [  0.2 (1.5) ]  *\n",
      "              1    0.079 (51)     [  0.2 (1.5) ]  \n",
      "              2     0.47 (19)     [  0.2 (1.5) ]  \n",
      "      Z.d.Par 0   -1.968 (21)     [ -1.9 (1.0) ]  \n",
      "              1    0.179 (32)     [  0.2 (1.5) ]  \n",
      "              2     0.72 (23)     [  0.2 (1.5) ]  \n",
      "    Z.d.Par.o 0    -2.34 (19)     [  0.2 (1.5) ]  *\n",
      "              1    0.072 (61)     [  0.2 (1.5) ]  \n",
      "              2     0.50 (20)     [  0.2 (1.5) ]  \n",
      "\n",
      "Settings:\n",
      "  svdcut/n = 1e-12/0    tol = (1e-08,1e-10,1e-10*)    (itns/time = 247/1.3)\n",
      "  fitter = scipy_least_squares    method = trf\n",
      "\n"
     ]
    }
   ],
   "source": [
    "print(fit)"
   ]
  },
  {
   "cell_type": "code",
   "execution_count": null,
   "metadata": {},
   "outputs": [],
   "source": []
  }
 ],
 "metadata": {
  "kernelspec": {
   "display_name": "Python 3.11.4 ('stat')",
   "language": "python",
   "name": "python3"
  },
  "language_info": {
   "codemirror_mode": {
    "name": "ipython",
    "version": 3
   },
   "file_extension": ".py",
   "mimetype": "text/x-python",
   "name": "python",
   "nbconvert_exporter": "python",
   "pygments_lexer": "ipython3",
   "version": "3.11.4"
  },
  "orig_nbformat": 4,
  "vscode": {
   "interpreter": {
    "hash": "550906e9926f0f588aff226d3abadfa0c6a614c1c5eae7bfa21377021c1cb7ed"
   }
  }
 },
 "nbformat": 4,
 "nbformat_minor": 2
}
