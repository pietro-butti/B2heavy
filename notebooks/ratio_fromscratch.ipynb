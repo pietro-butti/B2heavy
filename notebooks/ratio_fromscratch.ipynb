{
 "cells": [
  {
   "cell_type": "code",
   "execution_count": 35,
   "metadata": {},
   "outputs": [],
   "source": [
    "import os\n",
    "import h5py\n",
    "import gvar   as gv\n",
    "import numpy  as np\n",
    "import pandas as pd\n",
    "from matplotlib import pyplot as plt"
   ]
  },
  {
   "cell_type": "markdown",
   "metadata": {},
   "source": [
    "# $R_{A_1}(\\mathbb{p}>0)$"
   ]
  },
  {
   "cell_type": "markdown",
   "metadata": {},
   "source": [
    "$$\n",
    " R_{A_1} = \\frac{ C_{B_{1S}\\rightarrow D^*_a}^{A_j}(\\mathbf{p}_\\perp,t,T) \\,\\, C_{D^*_a\\rightarrow B_{1S}}^{A_j}(\\mathbf{p}_\\perp,t,T) }{  C_{D^*_a\\rightarrow D^*_{1S}}^{V_4}(\\mathbf{0},t,T) \\,\\,   C_{B_{1S}\\rightarrow B_{1S}}^{V_4}(\\mathbf{0},t,T) } \\frac{Z_{D^*_a}(\\mathbf p_\\perp)}{\\sqrt{Z_{D^*_a}(0)Z_{D_{1S}^*}(0)}} \\frac{{M_{D^*}}^2}{{E^2_{D^*}}(\\mathbb p)} e^{-({E_{D^*}}(\\mathbb p) - M_{D^*})T}\n",
    "$$ "
   ]
  },
  {
   "cell_type": "code",
   "execution_count": 88,
   "metadata": {},
   "outputs": [],
   "source": [
    "from b2heavy.ThreePointFunctions.types3pts import RatioFileString, RatioIO, Ratio, ratio_prerequisites, ratio_correction_factor\n",
    "from b2heavy.TwoPointFunctions.utils import jkCorr\n",
    "from b2heavy.FnalHISQMetadata import params\n",
    "\n",
    "ens = 'Coarse-1'\n",
    "mom = '300'\n",
    "jk  = 11\n",
    "\n",
    "mdata = params(ens)\n",
    "Ta,Tb = mdata['hSinks']\n",
    "\n",
    "heavy = '_k' + mdata['kBStr']\n",
    "light = '_k' + mdata['kDStr']\n",
    "qq    = '_m' + mdata['mlStr']\n",
    "\n",
    "data = h5py.File(f'/Users/pietro/code/data_analysis/BtoD/Alex/Ensembles/FnalHISQ/a0.12/{mdata[\"hdf5File2\"]}')\n",
    "data = data['data']"
   ]
  },
  {
   "cell_type": "markdown",
   "metadata": {},
   "source": [
    "## factor"
   ]
  },
  {
   "cell_type": "code",
   "execution_count": 89,
   "metadata": {},
   "outputs": [],
   "source": [
    "from b2heavy.ThreePointFunctions.utils import read_config_fit\n",
    "\n",
    "frm = '/Users/pietro/code/data_analysis/data/QCDNf2p1stag/B2heavy/lattice24'\n",
    "\n",
    "p2 = read_config_fit(f'fit2pt_config_{ens}_Dst_{mom}',jk=False,path=frm)[-1]\n",
    "p0 = read_config_fit(f'fit2pt_config_{ens}_Dst_000',jk=False,path=frm)[-1]\n",
    "\n",
    "e0 = p2['E'][0]\n",
    "m0 = p0['E'][0]\n",
    "Z0_1S = np.exp(p0['Z_1S_Unpol'][0])**2 * 2 * m0\n",
    "Z0_d = np.exp(p0['Z_d_Unpol'][0])**2 * 2 * m0\n",
    "Zp_1S = np.exp(p2['Z_1S_Bot'  ][0])**2 * 2 * e0\n",
    "Zp_d = np.exp(p2['Z_d_Bot'  ][0])**2 * 2 * e0\n"
   ]
  },
  {
   "cell_type": "code",
   "execution_count": 90,
   "metadata": {},
   "outputs": [],
   "source": [
    "req = dict(\n",
    "    E0 = e0.mean,\n",
    "    m0 = m0.mean,\n",
    "    Z0   = {'1S':gv.mean(Z0_1S),'d':gv.mean(Z0_d)},\n",
    "    Zbot = {'1S':gv.mean(Zp_1S),'d':gv.mean(Zp_d)},\n",
    "    wrecoil = e0.mean/m0.mean\n",
    ")"
   ]
  },
  {
   "cell_type": "code",
   "execution_count": 91,
   "metadata": {},
   "outputs": [
    {
     "data": {
      "text/plain": [
       "{'E0': 1.1795030243540996,\n",
       " 'm0': 1.0811885828863745,\n",
       " 'Z0': {'1S': 4.834848433376765, 'd': 0.04165271597466671},\n",
       " 'Zbot': {'1S': 1.1715987932859104, 'd': 0.026111483753158932},\n",
       " 'wrecoil': 1.0909318161733281}"
      ]
     },
     "execution_count": 91,
     "metadata": {},
     "output_type": "execute_result"
    }
   ],
   "source": [
    "req"
   ]
  },
  {
   "cell_type": "markdown",
   "metadata": {},
   "source": [
    "## built-in"
   ]
  },
  {
   "cell_type": "code",
   "execution_count": 92,
   "metadata": {},
   "outputs": [
    {
     "name": "stdout",
     "output_type": "stream",
     "text": [
      "P5_A2_V2_T12_k0.08574_RW_1S_rot_rot_m0.00507_k0.12201_p300 found in /Users/pietro/code/data_analysis/BtoD/Alex/Ensembles/FnalHISQ/a0.12/l3264f211b600m00507m0507m628-HISQscript.hdf5\n",
      "V1_V4_V1_T12_k0.12201_RW_1S_rot_rot_m0.00507_k0.12201_p000 found in /Users/pietro/code/data_analysis/BtoD/Alex/Ensembles/FnalHISQ/a0.12/l3264f211b600m00507m0507m628-HISQscript.hdf5\n",
      "P5_V4_P5_T12_k0.08574_RW_1S_rot_rot_m0.00507_k0.08574_p000 found in /Users/pietro/code/data_analysis/BtoD/Alex/Ensembles/FnalHISQ/a0.12/l3264f211b600m00507m0507m628-HISQscript.hdf5\n",
      "P5_A2_V2_T13_k0.08574_RW_1S_rot_rot_m0.00507_k0.12201_p300 found in /Users/pietro/code/data_analysis/BtoD/Alex/Ensembles/FnalHISQ/a0.12/l3264f211b600m00507m0507m628-HISQscript.hdf5\n",
      "V1_V4_V1_T13_k0.12201_RW_1S_rot_rot_m0.00507_k0.12201_p000 found in /Users/pietro/code/data_analysis/BtoD/Alex/Ensembles/FnalHISQ/a0.12/l3264f211b600m00507m0507m628-HISQscript.hdf5\n",
      "P5_V4_P5_T13_k0.08574_RW_1S_rot_rot_m0.00507_k0.08574_p000 found in /Users/pietro/code/data_analysis/BtoD/Alex/Ensembles/FnalHISQ/a0.12/l3264f211b600m00507m0507m628-HISQscript.hdf5\n",
      "P5_A2_V2_T12_k0.08574_RW_RW_rot_rot_m0.00507_k0.12201_p300 found in /Users/pietro/code/data_analysis/BtoD/Alex/Ensembles/FnalHISQ/a0.12/l3264f211b600m00507m0507m628-HISQscript.hdf5\n",
      "V1_V4_V1_T12_k0.12201_RW_RW_rot_rot_m0.00507_k0.12201_p000 found in /Users/pietro/code/data_analysis/BtoD/Alex/Ensembles/FnalHISQ/a0.12/l3264f211b600m00507m0507m628-HISQscript.hdf5\n",
      "P5_V4_P5_T12_k0.08574_RW_RW_rot_rot_m0.00507_k0.08574_p000 found in /Users/pietro/code/data_analysis/BtoD/Alex/Ensembles/FnalHISQ/a0.12/l3264f211b600m00507m0507m628-HISQscript.hdf5\n",
      "P5_A2_V2_T13_k0.08574_RW_RW_rot_rot_m0.00507_k0.12201_p300 found in /Users/pietro/code/data_analysis/BtoD/Alex/Ensembles/FnalHISQ/a0.12/l3264f211b600m00507m0507m628-HISQscript.hdf5\n",
      "V1_V4_V1_T13_k0.12201_RW_RW_rot_rot_m0.00507_k0.12201_p000 found in /Users/pietro/code/data_analysis/BtoD/Alex/Ensembles/FnalHISQ/a0.12/l3264f211b600m00507m0507m628-HISQscript.hdf5\n",
      "P5_V4_P5_T13_k0.08574_RW_RW_rot_rot_m0.00507_k0.08574_p000 found in /Users/pietro/code/data_analysis/BtoD/Alex/Ensembles/FnalHISQ/a0.12/l3264f211b600m00507m0507m628-HISQscript.hdf5\n",
      "P5_A2_V2_T12_k0.08574_RW_1S_rot_rot_m0.00507_k0.12201_p300 found in /Users/pietro/code/data_analysis/BtoD/Alex/Ensembles/FnalHISQ/a0.12/l3264f211b600m00507m0507m628-HISQscript.hdf5\n",
      "V1_V4_V1_T12_k0.12201_RW_1S_rot_rot_m0.00507_k0.12201_p000 found in /Users/pietro/code/data_analysis/BtoD/Alex/Ensembles/FnalHISQ/a0.12/l3264f211b600m00507m0507m628-HISQscript.hdf5\n",
      "P5_V4_P5_T12_k0.08574_RW_1S_rot_rot_m0.00507_k0.08574_p000 found in /Users/pietro/code/data_analysis/BtoD/Alex/Ensembles/FnalHISQ/a0.12/l3264f211b600m00507m0507m628-HISQscript.hdf5\n",
      "P5_A2_V2_T13_k0.08574_RW_1S_rot_rot_m0.00507_k0.12201_p300 found in /Users/pietro/code/data_analysis/BtoD/Alex/Ensembles/FnalHISQ/a0.12/l3264f211b600m00507m0507m628-HISQscript.hdf5\n",
      "V1_V4_V1_T13_k0.12201_RW_1S_rot_rot_m0.00507_k0.12201_p000 found in /Users/pietro/code/data_analysis/BtoD/Alex/Ensembles/FnalHISQ/a0.12/l3264f211b600m00507m0507m628-HISQscript.hdf5\n",
      "P5_V4_P5_T13_k0.08574_RW_1S_rot_rot_m0.00507_k0.08574_p000 found in /Users/pietro/code/data_analysis/BtoD/Alex/Ensembles/FnalHISQ/a0.12/l3264f211b600m00507m0507m628-HISQscript.hdf5\n",
      "P5_A2_V2_T12_k0.08574_RW_RW_rot_rot_m0.00507_k0.12201_p300 found in /Users/pietro/code/data_analysis/BtoD/Alex/Ensembles/FnalHISQ/a0.12/l3264f211b600m00507m0507m628-HISQscript.hdf5\n",
      "V1_V4_V1_T12_k0.12201_RW_RW_rot_rot_m0.00507_k0.12201_p000 found in /Users/pietro/code/data_analysis/BtoD/Alex/Ensembles/FnalHISQ/a0.12/l3264f211b600m00507m0507m628-HISQscript.hdf5\n",
      "P5_V4_P5_T12_k0.08574_RW_RW_rot_rot_m0.00507_k0.08574_p000 found in /Users/pietro/code/data_analysis/BtoD/Alex/Ensembles/FnalHISQ/a0.12/l3264f211b600m00507m0507m628-HISQscript.hdf5\n",
      "P5_A2_V2_T13_k0.08574_RW_RW_rot_rot_m0.00507_k0.12201_p300 found in /Users/pietro/code/data_analysis/BtoD/Alex/Ensembles/FnalHISQ/a0.12/l3264f211b600m00507m0507m628-HISQscript.hdf5\n",
      "V1_V4_V1_T13_k0.12201_RW_RW_rot_rot_m0.00507_k0.12201_p000 found in /Users/pietro/code/data_analysis/BtoD/Alex/Ensembles/FnalHISQ/a0.12/l3264f211b600m00507m0507m628-HISQscript.hdf5\n",
      "P5_V4_P5_T13_k0.08574_RW_RW_rot_rot_m0.00507_k0.08574_p000 found in /Users/pietro/code/data_analysis/BtoD/Alex/Ensembles/FnalHISQ/a0.12/l3264f211b600m00507m0507m628-HISQscript.hdf5\n"
     ]
    }
   ],
   "source": [
    "io = RatioIO(ens,'RA1',mom,PathToDataDir='/Users/pietro/code/data_analysis/BtoD/Alex/')\n",
    "ra1 = Ratio(io,jkBin=11,verbose=True,smearing=['1S','RW'],**req)"
   ]
  },
  {
   "cell_type": "markdown",
   "metadata": {},
   "source": [
    "## from scratch"
   ]
  },
  {
   "cell_type": "markdown",
   "metadata": {},
   "source": [
    "$C_{B_{1S}\\rightarrow D^*_a}^{A_j}(\\mathbf{p}_\\perp,t,T)$"
   ]
  },
  {
   "cell_type": "code",
   "execution_count": 93,
   "metadata": {},
   "outputs": [
    {
     "name": "stdout",
     "output_type": "stream",
     "text": [
      "file1 = 'P5_A2_V2_T12_k0.08574_RW_1S_rot_rot_m0.00507_k0.12201_p300'\n",
      "file2 = 'P5_A3_V3_T12_k0.08574_RW_1S_rot_rot_m0.00507_k0.12201_p300'\n"
     ]
    }
   ],
   "source": [
    "file1 = RatioFileString('P5_A2_V2_',Ta,heavy,'1S',qq,light,mom)\n",
    "file2 = RatioFileString('P5_A3_V3_',Ta,heavy,'1S',qq,light,mom)\n",
    "n1a = np.array([\n",
    "    jkCorr(data[file1][:,:Ta+1], bsize=jk),\n",
    "    jkCorr(data[file2][:,:Ta+1], bsize=jk),\n",
    "])\n",
    "\n",
    "print(f'{file1 = }')\n",
    "print(f'{file2 = }')\n",
    "\n",
    "\n",
    "# ==============================================================\n",
    "file1 = RatioFileString('P5_A2_V2_',Tb,heavy,'1S',qq,light,mom)\n",
    "file2 = RatioFileString('P5_A3_V3_',Tb,heavy,'1S',qq,light,mom)\n",
    "n1b = np.array([\n",
    "    jkCorr(data[file1][:,:Ta+1], bsize=jk),\n",
    "    jkCorr(data[file2][:,:Ta+1], bsize=jk),\n",
    "])"
   ]
  },
  {
   "cell_type": "code",
   "execution_count": 94,
   "metadata": {},
   "outputs": [],
   "source": [
    "# x = data[RatioFileString('P5_V3_V2_',Ta,heavy,'1S',qq,light,'100')][:]\n",
    "\n",
    "# plt.errorbar(\n",
    "#     range(x.shape[1]),\n",
    "#     x.mean(axis=0),\n",
    "#     x.std(axis=0),\n",
    "#     fmt='.'\n",
    "# )"
   ]
  },
  {
   "cell_type": "markdown",
   "metadata": {},
   "source": [
    "$C_{D^*_a\\rightarrow B_{1S}}^{A_j}(\\mathbf{p}_\\perp,t,T) \\longleftarrow C_{B_{1S}\\rightarrow D^*_a}^{A_j}(\\mathbf{p}_\\perp,T-t,T)$"
   ]
  },
  {
   "cell_type": "code",
   "execution_count": 95,
   "metadata": {},
   "outputs": [],
   "source": [
    "n2a = np.flip(n1a,axis=2)\n",
    "n2b = np.flip(n1b,axis=2)"
   ]
  },
  {
   "cell_type": "markdown",
   "metadata": {},
   "source": [
    "$C_{B_{1S}\\rightarrow B_{1S}}^{V_4}(\\mathbf{0},t,T)$"
   ]
  },
  {
   "cell_type": "code",
   "execution_count": 96,
   "metadata": {},
   "outputs": [
    {
     "name": "stdout",
     "output_type": "stream",
     "text": [
      "file1 = 'P5_V4_P5_T12_k0.08574_RW_1S_rot_rot_m0.00507_k0.08574_p000'\n",
      "file2 = 'P5_V4_P5_T13_k0.08574_RW_1S_rot_rot_m0.00507_k0.08574_p000'\n"
     ]
    }
   ],
   "source": [
    "file1 = RatioFileString('P5_V4_P5_',Ta,heavy,'1S',qq,heavy,'000')\n",
    "file2 = RatioFileString('P5_V4_P5_',Tb,heavy,'1S',qq,heavy,'000')\n",
    "\n",
    "d1a = jkCorr(data[file1][:,:Ta+1], bsize=jk)\n",
    "d1b = jkCorr(data[file2][:,:Ta+1], bsize=jk)\n",
    "\n",
    "print(f'{file1 = }')\n",
    "print(f'{file2 = }')"
   ]
  },
  {
   "cell_type": "markdown",
   "metadata": {},
   "source": [
    "$C_{D^*_a\\rightarrow D^*_{1S}}^{V_4}(\\mathbf{0},t,T)$"
   ]
  },
  {
   "cell_type": "code",
   "execution_count": 97,
   "metadata": {},
   "outputs": [
    {
     "name": "stdout",
     "output_type": "stream",
     "text": [
      "file1 = 'V1_V4_V1_T12_k0.12201_RW_1S_rot_rot_m0.00507_k0.12201_p000'\n",
      "file2 = 'V1_V4_V1_T13_k0.12201_RW_1S_rot_rot_m0.00507_k0.12201_p000'\n"
     ]
    }
   ],
   "source": [
    "file1 = RatioFileString('V1_V4_V1_',Ta,light,'1S',qq,light,'000')\n",
    "file2 = RatioFileString('V1_V4_V1_',Tb,light,'1S',qq,light,'000')\n",
    "\n",
    "d2a = jkCorr(data[file1][:,:Ta+1], bsize=jk)\n",
    "d2b = jkCorr(data[file2][:,:Ta+1], bsize=jk)\n",
    "\n",
    "print(f'{file1 = }')\n",
    "print(f'{file2 = }')"
   ]
  },
  {
   "cell_type": "code",
   "execution_count": 104,
   "metadata": {},
   "outputs": [],
   "source": [
    "ra = (n1a * n2a).sum(axis=0) / d1a / d2a\n",
    "rb = (n1b * n2b).sum(axis=0) / d1b / d2b"
   ]
  },
  {
   "cell_type": "code",
   "execution_count": 147,
   "metadata": {},
   "outputs": [],
   "source": [
    "e_deta = np.exp((req['E0']-req['m0'])*Ta)\n",
    "e_detb = np.exp((req['E0']-req['m0'])*Tb)\n",
    "\n",
    "fa = req['Zbot']['1S'] / np.sqrt(req['Z0']['1S'] * req['Z0']['1S']) * \\\n",
    "    req['m0']**2/req['E0']**2 / e_deta\n",
    "\n",
    "fb = req['Zbot']['1S'] / np.sqrt(req['Z0']['1S'] * req['Z0']['1S']) * \\\n",
    "    req['m0']**2/req['E0']**2 / e_detb"
   ]
  },
  {
   "cell_type": "code",
   "execution_count": 148,
   "metadata": {},
   "outputs": [],
   "source": [
    "ra *= fa\n",
    "rb *= fb"
   ]
  },
  {
   "cell_type": "markdown",
   "metadata": {},
   "source": [
    "### smooth"
   ]
  },
  {
   "cell_type": "code",
   "execution_count": 149,
   "metadata": {},
   "outputs": [],
   "source": [
    "ra1 = ra*e_deta /2 + rb*e_detb /4 + np.roll(rb*e_detb ,-1,axis=1)/4"
   ]
  },
  {
   "cell_type": "code",
   "execution_count": 150,
   "metadata": {},
   "outputs": [
    {
     "data": {
      "text/plain": [
       "<ErrorbarContainer object of 3 artists>"
      ]
     },
     "execution_count": 150,
     "metadata": {},
     "output_type": "execute_result"
    },
    {
     "data": {
      "image/png": "[encoded data removed]",
      "text/plain": [
       "<Figure size 640x480 with 1 Axes>"
      ]
     },
     "metadata": {},
     "output_type": "display_data"
    }
   ],
   "source": [
    "plt.errorbar(\n",
    "    range(ra1.shape[1]),\n",
    "    ra1.mean(axis=0),\n",
    "    ra1.std(axis=0) * np.sqrt(ra1.shape[0]-1),\n",
    "    fmt='.'\n",
    ")"
   ]
  },
  {
   "cell_type": "markdown",
   "metadata": {},
   "source": [
    "# $R_{A_1}(\\mathbb{p}=0)$"
   ]
  },
  {
   "cell_type": "markdown",
   "metadata": {},
   "source": [
    "$$\n",
    " R_{A_1} = \\frac{ C_{B_{1S}\\rightarrow D^*_a}^{A_j}(\\mathbf{0},t,T) \\,\\, C_{D^*_a\\rightarrow B_{1S}}^{A_j}(\\mathbf{0},t,T) }{  C_{D^*_a\\rightarrow D^*_{1S}}^{V_4}(\\mathbf{0},t,T) \\,\\,   C_{B_{1S}\\rightarrow B_{1S}}^{V_4}(\\mathbf{0},t,T) } \\frac{Z_{D^*_a}(\\mathbf 0)}{\\sqrt{Z_{D^*_a}(0)Z_{D_{1S}^*}(0)}}\n",
    "$$ "
   ]
  },
  {
   "cell_type": "code",
   "execution_count": 7,
   "metadata": {},
   "outputs": [
    {
     "name": "stdout",
     "output_type": "stream",
     "text": [
      "file1 = 'P5_A1_V1_T12_k0.08574_RW_1S_rot_rot_m0.00507_k0.12201_p000'\n",
      "file2 = 'P5_A2_V2_T12_k0.08574_RW_1S_rot_rot_m0.00507_k0.12201_p000'\n",
      "file3 = 'P5_A3_V3_T12_k0.08574_RW_1S_rot_rot_m0.00507_k0.12201_p000'\n"
     ]
    }
   ],
   "source": [
    "file1 = RatioFileString('P5_A1_V1_',Ta,heavy,'1S',qq,light,'000')\n",
    "file2 = RatioFileString('P5_A2_V2_',Ta,heavy,'1S',qq,light,'000')\n",
    "file3 = RatioFileString('P5_A3_V3_',Ta,heavy,'1S',qq,light,'000')\n",
    "\n",
    "print(f'{file1 = }')\n",
    "print(f'{file2 = }')\n",
    "print(f'{file3 = }')\n",
    "\n",
    "n1a = np.array([\n",
    "    jkCorr(data[file1][:,:Ta+1], bsize=jk),\n",
    "    jkCorr(data[file2][:,:Ta+1], bsize=jk),\n",
    "    jkCorr(data[file3][:,:Ta+1], bsize=jk),\n",
    "])\n",
    "\n",
    "# ===================================================================\n",
    "file1 = RatioFileString('P5_A1_V1_',Tb,heavy,'1S',qq,light,'000')\n",
    "file2 = RatioFileString('P5_A2_V2_',Tb,heavy,'1S',qq,light,'000')\n",
    "file3 = RatioFileString('P5_A3_V3_',Tb,heavy,'1S',qq,light,'000')\n",
    "\n",
    "n1b = np.array([\n",
    "    jkCorr(data[file1][:,:Ta+1], bsize=jk),\n",
    "    jkCorr(data[file2][:,:Ta+1], bsize=jk),\n",
    "    jkCorr(data[file3][:,:Ta+1], bsize=jk),\n",
    "])"
   ]
  },
  {
   "cell_type": "code",
   "execution_count": 8,
   "metadata": {},
   "outputs": [
    {
     "name": "stdout",
     "output_type": "stream",
     "text": [
      "file1 = 'V1_A1_P5_T12_k0.12201_RW_1S_rot_rot_m0.00507_k0.08574_p000'\n",
      "file2 = 'V1_A2_P5_T12_k0.12201_RW_1S_rot_rot_m0.00507_k0.08574_p000'\n",
      "file3 = 'V1_A3_P5_T12_k0.12201_RW_1S_rot_rot_m0.00507_k0.08574_p000'\n"
     ]
    }
   ],
   "source": [
    "file1 = RatioFileString('V1_A1_P5_',Ta,light,'1S',qq,heavy,'000')\n",
    "file2 = RatioFileString('V1_A2_P5_',Ta,light,'1S',qq,heavy,'000')\n",
    "file3 = RatioFileString('V1_A3_P5_',Ta,light,'1S',qq,heavy,'000')\n",
    "\n",
    "print(f'{file1 = }')\n",
    "print(f'{file2 = }')\n",
    "print(f'{file3 = }')\n",
    "\n",
    "n2a = np.array([\n",
    "    jkCorr(data[file1][:,:Ta+1], bsize=jk),\n",
    "    jkCorr(data[file2][:,:Ta+1], bsize=jk),\n",
    "    jkCorr(data[file3][:,:Ta+1], bsize=jk),\n",
    "])\n",
    "\n",
    "\n",
    "# ===================================================================\n",
    "file1 = RatioFileString('V1_A1_P5_',Tb,light,'1S',qq,heavy,'000')\n",
    "file2 = RatioFileString('V1_A2_P5_',Tb,light,'1S',qq,heavy,'000')\n",
    "file3 = RatioFileString('V1_A3_P5_',Tb,light,'1S',qq,heavy,'000')\n",
    "\n",
    "n2b = np.array([\n",
    "    jkCorr(data[file1][:,:Ta+1], bsize=jk),\n",
    "    jkCorr(data[file2][:,:Ta+1], bsize=jk),\n",
    "    jkCorr(data[file3][:,:Ta+1], bsize=jk),\n",
    "])"
   ]
  },
  {
   "cell_type": "code",
   "execution_count": 9,
   "metadata": {},
   "outputs": [
    {
     "name": "stdout",
     "output_type": "stream",
     "text": [
      "file1 = 'V1_V4_V1_T12_k0.12201_RW_1S_rot_rot_m0.00507_k0.12201_p000'\n"
     ]
    }
   ],
   "source": [
    "file1 = RatioFileString('V1_V4_V1_',Ta,light,'1S',qq,light,'000')\n",
    "\n",
    "print(f'{file1 = }')\n",
    "\n",
    "d1a = jkCorr(data[file1][:,:Ta+1], bsize=jk)\n",
    "\n",
    "\n",
    "# ================================================================\n",
    "file1 = RatioFileString('V1_V4_V1_',Tb,light,'1S',qq,light,'000')\n",
    "d1b = jkCorr(data[file1][:,:Ta+1], bsize=jk)"
   ]
  },
  {
   "cell_type": "code",
   "execution_count": 10,
   "metadata": {},
   "outputs": [
    {
     "name": "stdout",
     "output_type": "stream",
     "text": [
      "file1 = 'P5_V4_P5_T12_k0.08574_RW_1S_rot_rot_m0.00507_k0.08574_p000'\n"
     ]
    }
   ],
   "source": [
    "file1 = RatioFileString('P5_V4_P5_',Ta,heavy,'1S',qq,heavy,'000')\n",
    "\n",
    "print(f'{file1 = }')\n",
    "\n",
    "d2a = jkCorr(data[file1][:,:Ta+1],bsize=jk)\n",
    "\n",
    "\n",
    "# ================================================================\n",
    "file1 = RatioFileString('P5_V4_P5_',Tb,heavy,'1S',qq,heavy,'000')\n",
    "d2b = jkCorr(data[file1][:,:Ta+1],bsize=jk)"
   ]
  },
  {
   "cell_type": "code",
   "execution_count": 11,
   "metadata": {},
   "outputs": [],
   "source": [
    "ra = (n1a*n2a).sum(axis=0)/d1a/d2a\n",
    "rb = (n1b*n2b).sum(axis=0)/d1b/d2b"
   ]
  },
  {
   "cell_type": "markdown",
   "metadata": {},
   "source": [
    "### smooth"
   ]
  },
  {
   "cell_type": "code",
   "execution_count": 12,
   "metadata": {},
   "outputs": [],
   "source": [
    "ra1 = ra/2 + rb/4 + np.roll(rb,-1,axis=1)/4"
   ]
  },
  {
   "cell_type": "code",
   "execution_count": 13,
   "metadata": {},
   "outputs": [
    {
     "data": {
      "text/plain": [
       "array([-0.96981419, -0.83673726, -0.83158114, -0.82871928, -0.82533275,\n",
       "       -0.82561106, -0.82497621, -0.82858643, -0.83463746, -0.84075337,\n",
       "       -0.85173603, -0.86519267, -0.97390577])"
      ]
     },
     "execution_count": 13,
     "metadata": {},
     "output_type": "execute_result"
    }
   ],
   "source": [
    "ra1.mean(axis=0)"
   ]
  },
  {
   "cell_type": "markdown",
   "metadata": {},
   "source": [
    "## build-in"
   ]
  },
  {
   "cell_type": "code",
   "execution_count": 17,
   "metadata": {},
   "outputs": [],
   "source": [
    "io = RatioIO(ens,'ZRA1','000',PathToDataDir='/Users/pietro/code/data_analysis/BtoD/Alex/')\n",
    "\n",
    "req = ratio_prerequisites(ens,'ZRA1','000',readfrom=frm)\n",
    "zra1 = Ratio(io,jkBin=11,smearing=['1S','RW'],**req)"
   ]
  },
  {
   "cell_type": "code",
   "execution_count": 18,
   "metadata": {},
   "outputs": [
    {
     "data": {
      "text/plain": [
       "(array([ 0,  1,  2,  3,  4,  5,  6,  7,  8,  9, 10, 11, 12]),\n",
       " {'1S': array([-0.970(23), -0.837(19), -0.832(19), -0.829(19), -0.825(18),\n",
       "         -0.826(19), -0.825(19), -0.829(19), -0.835(19), -0.841(19),\n",
       "         -0.852(20), -0.865(20), -0.996(23)], dtype=object),\n",
       "  'RW': array([-0.1004(26), -0.0761(19), -0.0767(20), -0.0774(22), -0.0776(23),\n",
       "         -0.0779(24), -0.0786(27), -0.0795(29), -0.0804(30), -0.0810(30),\n",
       "         -0.0820(29), -0.0836(29), -0.0940(32)], dtype=object)})"
      ]
     },
     "execution_count": 18,
     "metadata": {},
     "output_type": "execute_result"
    }
   ],
   "source": [
    "zra1.format()"
   ]
  },
  {
   "cell_type": "code",
   "execution_count": 19,
   "metadata": {},
   "outputs": [
    {
     "data": {
      "text/plain": [
       "{'E0': 1.0811885828863745,\n",
       " 'm0': 1.0811885828863745,\n",
       " 'Z0': {'1S': 4.834848433376765, 'd': 0.04165271597466671},\n",
       " 'Zpar': {'1S': None, 'd': None},\n",
       " 'Zbot': {'1S': None, 'd': None},\n",
       " 'Zp': {'1S': None, 'd': None},\n",
       " 'wrecoil': 1.0,\n",
       " 'jk': False}"
      ]
     },
     "execution_count": 19,
     "metadata": {},
     "output_type": "execute_result"
    }
   ],
   "source": [
    "req"
   ]
  },
  {
   "cell_type": "markdown",
   "metadata": {},
   "source": [
    "# other checks"
   ]
  },
  {
   "cell_type": "code",
   "execution_count": 145,
   "metadata": {},
   "outputs": [
    {
     "data": {
      "text/plain": [
       "<ErrorbarContainer object of 3 artists>"
      ]
     },
     "execution_count": 145,
     "metadata": {},
     "output_type": "execute_result"
    },
    {
     "data": {
      "image/png": "[encoded data removed]",
      "text/plain": [
       "<Figure size 640x480 with 1 Axes>"
      ]
     },
     "metadata": {},
     "output_type": "display_data"
    }
   ],
   "source": [
    "file1 = RatioFileString('P5_A2_V2_',Ta,heavy,'1S',qq,light,'100')\n",
    "file2 = RatioFileString('P5_A2_V2_',Ta,heavy,'1S',qq,light,'200')\n",
    "file3 = RatioFileString('P5_A2_V2_',Ta,heavy,'1S',qq,light,'300')\n",
    "\n",
    "n1 = jkCorr(data[file1][:], bsize=jk)\n",
    "n2 = jkCorr(data[file2][:], bsize=jk)\n",
    "n3 = jkCorr(data[file3][:], bsize=jk)\n",
    "\n",
    "tmax = 15\n",
    "plt.errorbar(range(tmax),n1[:,:tmax].mean(axis=0),n1[:,:tmax].std(axis=0)*np.sqrt(tmax-1),fmt='.')\n",
    "plt.errorbar(range(tmax),n2[:,:tmax].mean(axis=0),n2[:,:tmax].std(axis=0)*np.sqrt(tmax-1),fmt='.')\n",
    "plt.errorbar(range(tmax),n3[:,:tmax].mean(axis=0),n3[:,:tmax].std(axis=0)*np.sqrt(tmax-1),fmt='.')"
   ]
  },
  {
   "cell_type": "code",
   "execution_count": 143,
   "metadata": {},
   "outputs": [
    {
     "data": {
      "text/plain": [
       "<ErrorbarContainer object of 3 artists>"
      ]
     },
     "execution_count": 143,
     "metadata": {},
     "output_type": "execute_result"
    },
    {
     "data": {
      "image/png": "[encoded data removed]",
      "text/plain": [
       "<Figure size 640x480 with 1 Axes>"
      ]
     },
     "metadata": {},
     "output_type": "display_data"
    }
   ],
   "source": [
    "file1 = RatioFileString('P5_V4_P5_',Ta,heavy,'1S',qq,heavy,'000')\n",
    "\n",
    "n1 = jkCorr(data[file1][:], bsize=jk)\n",
    "\n",
    "tmax = 15\n",
    "plt.errorbar(range(tmax),n1[:,:tmax].mean(axis=0),n1[:,:tmax].std(axis=0)*np.sqrt(tmax-1),fmt='.')"
   ]
  },
  {
   "cell_type": "code",
   "execution_count": 154,
   "metadata": {},
   "outputs": [
    {
     "name": "stdout",
     "output_type": "stream",
     "text": [
      "0.94(28)\n",
      "1.00(31)\n",
      "0.66(33)\n"
     ]
    }
   ],
   "source": [
    "frm = '/Users/pietro/code/data_analysis/data/QCDNf2p1stag/B2heavy/lattice24'\n",
    "\n",
    "p0 = read_config_fit(f'fit2pt_config_{ens}_Dst_000',jk=False,path=frm)[-1]\n",
    "m0 = p0['E'][0]\n",
    "Z0_1S = np.exp(p0['Z_1S_Unpol'][0])**2 * 2 * m0\n",
    "Z0_d  = np.exp(p0['Z_d_Unpol' ][0])**2 * 2 * m0\n",
    "\n",
    "for mom in ['100','200','300']:\n",
    "    p2 = read_config_fit(f'fit2pt_config_{ens}_Dst_{mom}',jk=False,path=frm)[-1]\n",
    "\n",
    "    e0 = p2['E'][0]\n",
    "    Zp_1S = np.exp(p2['Z_1S_Bot'][0])**2 * 2 * e0\n",
    "    Zp_d = np.exp(p2['Z_d_Bot'  ][0])**2 * 2 * e0\n",
    "\n",
    "    fa = Zp_1S / np.sqrt(Z0_1S * Z0_1S) * m0**2/e0**2 * np.exp((e0-m0)*Ta)\n",
    "\n",
    "    print(fa)\n"
   ]
  },
  {
   "cell_type": "code",
   "execution_count": null,
   "metadata": {},
   "outputs": [],
   "source": []
  }
 ],
 "metadata": {
  "kernelspec": {
   "display_name": "Python 3.11.4 ('stat')",
   "language": "python",
   "name": "python3"
  },
  "language_info": {
   "codemirror_mode": {
    "name": "ipython",
    "version": 3
   },
   "file_extension": ".py",
   "mimetype": "text/x-python",
   "name": "python",
   "nbconvert_exporter": "python",
   "pygments_lexer": "ipython3",
   "version": "3.11.4"
  },
  "orig_nbformat": 4,
  "vscode": {
   "interpreter": {
    "hash": "550906e9926f0f588aff226d3abadfa0c6a614c1c5eae7bfa21377021c1cb7ed"
   }
  }
 },
 "nbformat": 4,
 "nbformat_minor": 2
}
