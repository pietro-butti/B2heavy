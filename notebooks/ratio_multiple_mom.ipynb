{
 "cells": [
  {
   "cell_type": "code",
   "execution_count": 26,
   "metadata": {},
   "outputs": [],
   "source": [
    "import numpy             as np\n",
    "import gvar              as gv\n",
    "import matplotlib.pyplot as plt\n",
    "import lsqfit\n",
    "import itertools\n",
    "from tqdm import tqdm"
   ]
  },
  {
   "cell_type": "code",
   "execution_count": 27,
   "metadata": {},
   "outputs": [],
   "source": [
    "from b2heavy.FnalHISQMetadata import params as mData"
   ]
  },
  {
   "cell_type": "code",
   "execution_count": 28,
   "metadata": {},
   "outputs": [],
   "source": [
    "from b2heavy.ThreePointFunctions.types3pts  import Ratio, RatioIO, ratio_prerequisites, ratio_correction_factor\n",
    "from b2heavy.ThreePointFunctions.fitter3pts import RatioFitter, phys_energy_priors\n",
    "from b2heavy.ThreePointFunctions.utils      import read_config_fit, dump_fit_object"
   ]
  },
  {
   "cell_type": "code",
   "execution_count": 29,
   "metadata": {},
   "outputs": [],
   "source": [
    "DATA_DIR = '/Users/pietro/code/data_analysis/BtoD/Alex/'\n",
    "DATA_2PT = '/Users/pietro/code/data_analysis/data/QCDNf2p1stag/B2heavy/report'\n",
    "\n",
    "BINSIZE  = {\n",
    "    'MediumCoarse':13,\n",
    "    'Coarse-2':    16,\n",
    "    'Coarse-1':    11,\n",
    "    'Coarse-Phys': 19,\n",
    "    'Fine-1':      16,\n",
    "    'Fine-Phys':   16,\n",
    "    'SuperFine':   22\n",
    "}"
   ]
  },
  {
   "cell_type": "code",
   "execution_count": 36,
   "metadata": {},
   "outputs": [],
   "source": [
    "ENSEMBLE = 'Coarse-1'\n",
    "RATIO    = 'R0'\n",
    "SMSLIST  = ['1S','RW']\n",
    "# MOMLIST  = ['100','200','300','400']\n",
    "MOMLIST  = ['100','200','300']\n",
    "# MOMLIST  = ['100']"
   ]
  },
  {
   "cell_type": "code",
   "execution_count": 37,
   "metadata": {},
   "outputs": [],
   "source": [
    "if RATIO in ['RMINUS','RPLUS','QPLUS','XF']:\n",
    "    meson = 'D'\n",
    "else:\n",
    "    meson = 'Dst'"
   ]
  },
  {
   "cell_type": "code",
   "execution_count": 38,
   "metadata": {},
   "outputs": [],
   "source": [
    "TMIN    = 1\n",
    "NSTATES = 1"
   ]
  },
  {
   "cell_type": "code",
   "execution_count": 39,
   "metadata": {},
   "outputs": [
    {
     "name": "stdout",
     "output_type": "stream",
     "text": [
      "# ---------- chi^2_exp analysis -------------\n",
      "# chi2_exp = 21.999999999999844 +/- 6.63324958071081 \n",
      "# p-value [eval] = 0.742\n",
      "# p-value [MC]   = 0.7472\n",
      "# ---------- 1+1 fit in (1, 11) for mes: R0 of ens: Coarse-1 for mom: 100 --------------\n",
      "Least Square Fit:\n",
      "  chi2/dof [dof] = 0.79 [22]    Q = 0.74    logGBF = 85.466\n",
      "\n",
      "Parameters:\n",
      "        ratio 0   -0.146 (23)     [ -0.11 (10) ]  \n",
      "         A_1S 0   -0.530 (86)     [    0 ± 1.0 ]  \n",
      "         B_1S 0    -0.37 (14)     [    0 ± 1.0 ]  \n",
      "         A_RW 0    -0.43 (12)     [    0 ± 1.0 ]  \n",
      "         B_RW 0    -0.47 (18)     [    0 ± 1.0 ]  \n",
      "       dE_src 0    -2.14 (42)     [ -1.69 (50) ]  \n",
      "       dE_snk 0    -0.52 (41)     [ -0.81 (50) ]  \n",
      "\n",
      "Settings:\n",
      "  svdcut/n = 0/0    tol = (1e-08,1e-10,1e-10*)    (itns/time = 17/0.0)\n",
      "  fitter = scipy_least_squares    method = trf\n",
      "\n",
      "# red chi2       = 15.34\n",
      "# aug chi2       = 17.42\n",
      "# chi2_exp       = 22.00\n",
      "# chi2/chi_exp   = 0.79\n",
      "# p-value (exp)  = 0.74\n",
      "# p-value (std)  = 0.62\n",
      "# ---------- chi^2_exp analysis -------------\n",
      "# chi2_exp = 21.99999999999993 +/- 6.633249580710802 \n",
      "# p-value [eval] = 0.5198\n",
      "# p-value [MC]   = 0.5245\n",
      "# ---------- 1+1 fit in (1, 11) for mes: R0 of ens: Coarse-1 for mom: 200 --------------\n",
      "Least Square Fit:\n",
      "  chi2/dof [dof] = 0.95 [22]    Q = 0.52    logGBF = 73.536\n",
      "\n",
      "Parameters:\n",
      "        ratio 0   -0.279 (32)     [ -0.24 (10) ]  \n",
      "         A_1S 0   -0.447 (68)     [    0 ± 1.0 ]  \n",
      "         B_1S 0    -0.16 (12)     [    0 ± 1.0 ]  \n",
      "         A_RW 0   -0.358 (91)     [    0 ± 1.0 ]  \n",
      "         B_RW 0    -0.26 (13)     [    0 ± 1.0 ]  \n",
      "       dE_src 0    -1.97 (39)     [ -1.51 (50) ]  \n",
      "       dE_snk 0    -0.74 (45)     [ -1.05 (50) ]  \n",
      "\n",
      "Settings:\n",
      "  svdcut/n = 0/0    tol = (1e-08,1e-10,1e-10*)    (itns/time = 20/0.0)\n",
      "  fitter = scipy_least_squares    method = trf\n",
      "\n",
      "# red chi2       = 19.13\n",
      "# aug chi2       = 20.98\n",
      "# chi2_exp       = 22.00\n",
      "# chi2/chi_exp   = 0.95\n",
      "# p-value (exp)  = 0.52\n",
      "# p-value (std)  = 0.40\n",
      "# ---------- chi^2_exp analysis -------------\n",
      "# chi2_exp = 22.000000000000025 +/- 6.633249580710806 \n",
      "# p-value [eval] = 0.5765\n",
      "# p-value [MC]   = 0.5701\n",
      "# ---------- 1+1 fit in (1, 11) for mes: R0 of ens: Coarse-1 for mom: 300 --------------\n",
      "Least Square Fit:\n",
      "  chi2/dof [dof] = 0.92 [22]    Q = 0.57    logGBF = 60.736\n",
      "\n",
      "Parameters:\n",
      "        ratio 0   -0.397 (41)     [ -0.38 (10) ]  \n",
      "         A_1S 0   -0.315 (83)     [    0 ± 1.0 ]  \n",
      "         B_1S 0     0.10 (20)     [    0 ± 1.0 ]  \n",
      "         A_RW 0   -0.291 (84)     [    0 ± 1.0 ]  \n",
      "         B_RW 0    -0.07 (16)     [    0 ± 1.0 ]  \n",
      "       dE_src 0    -1.81 (44)     [ -1.53 (50) ]  \n",
      "       dE_snk 0    -1.04 (47)     [ -1.08 (50) ]  \n",
      "\n",
      "Settings:\n",
      "  svdcut/n = 0/0    tol = (1e-08,1e-10,1e-10*)    (itns/time = 14/0.0)\n",
      "  fitter = scipy_least_squares    method = trf\n",
      "\n",
      "# red chi2       = 19.63\n",
      "# aug chi2       = 20.19\n",
      "# chi2_exp       = 22.00\n",
      "# chi2/chi_exp   = 0.92\n",
      "# p-value (exp)  = 0.58\n",
      "# p-value (std)  = 0.38\n"
     ]
    },
    {
     "data": {
      "text/plain": [
       "Text(0.5, 1.0, 'Coarse-1 R0')"
      ]
     },
     "execution_count": 39,
     "metadata": {},
     "output_type": "execute_result"
    },
    {
     "data": {
      "image/png": "[encoded data removed]",
      "text/plain": [
       "<Figure size 500x500 with 1 Axes>"
      ]
     },
     "metadata": {},
     "output_type": "display_data"
    }
   ],
   "source": [
    "plt.rcParams['text.usetex'] = True\n",
    "plt.rcParams['font.size'] = 12\n",
    "\n",
    "f, ax = plt.subplots(1,1,figsize=(5,5))\n",
    "\n",
    "f0s = []\n",
    "for i,mom in enumerate(MOMLIST):\n",
    "    requisites = ratio_prerequisites(\n",
    "        ens      = ENSEMBLE,\n",
    "        ratio    = RATIO,\n",
    "        mom      = mom,\n",
    "        readfrom = DATA_2PT,\n",
    "        jk       = False\n",
    "    )\n",
    "\n",
    "    io = RatioIO(ENSEMBLE,RATIO,mom,PathToDataDir=DATA_DIR)\n",
    "    robj = RatioFitter(\n",
    "        io,\n",
    "        jkBin     = BINSIZE[ENSEMBLE],\n",
    "        smearing  = SMSLIST,\n",
    "        readfrom  = DATA_2PT,\n",
    "        **requisites\n",
    "    )\n",
    "\n",
    "    trange = (TMIN, robj.Ta-TMIN)\n",
    "\n",
    "    cov_specs = dict(\n",
    "        diag   = False,\n",
    "        block  = False,\n",
    "        scale  = True,\n",
    "        shrink = True,\n",
    "        cutsvd = 1E-12\n",
    "    )\n",
    "\n",
    "    dE_src = phys_energy_priors(ENSEMBLE,meson,mom,NSTATES,readfrom=DATA_2PT, error=0.5)\n",
    "    dE_snk = phys_energy_priors(ENSEMBLE,'B'  ,mom,NSTATES,readfrom=DATA_2PT, error=0.5)\n",
    "    x,ydata = robj.format(trange,flatten=True)\n",
    "    pr = robj.priors(NSTATES, dE_src=dE_src, dE_snk=dE_snk)\n",
    "\n",
    "    fit = robj.fit(\n",
    "        Nstates = NSTATES,\n",
    "        trange  = trange,\n",
    "        priors  = pr,\n",
    "        verbose = False,\n",
    "        **cov_specs\n",
    "    )\n",
    "\n",
    "    res = robj.fit_result(\n",
    "        Nexc   = NSTATES,\n",
    "        trange = trange,\n",
    "        priors = pr \n",
    "    )\n",
    "\n",
    "    alpha = 0.2 if mom=='400' else 1.\n",
    "    robj.plot_fit(ax,NSTATES,trange,color=f'C{i}',color_res=f'C{i}',alpha=alpha)\n",
    "\n",
    "    ax.scatter([],[], marker='o', color=f'C{i}', label=mom)\n",
    "\n",
    "\n",
    "    f0s.append(fit.p['ratio'][0])\n",
    "\n",
    "ax.errorbar([],[],[],fmt='o', ecolor='gray', mfc='w', color='gray', capsize=2.5, label='1S')\n",
    "ax.errorbar([],[],[],fmt='^', ecolor='gray', mfc='w', color='gray', capsize=2.5, label='d')\n",
    "\n",
    "# ax.set_xlim(-0.5,13)\n",
    "# ax.set_ylim(ymax=0.08)\n",
    "ax.grid(alpha=0.2)\n",
    "ax.legend()\n",
    "\n",
    "ax.set_xlabel(r'$t_{min}/a$')\n",
    "\n",
    "ax.set_title(f'{ENSEMBLE} {RATIO}')\n",
    "\n",
    "\n",
    "# plt.savefig(f'/Users/pietro/Desktop/{ENSEMBLE}_{RATIO}_multimom.pdf')"
   ]
  },
  {
   "cell_type": "code",
   "execution_count": null,
   "metadata": {},
   "outputs": [],
   "source": []
  }
 ],
 "metadata": {
  "kernelspec": {
   "display_name": "Python 3.11.4 ('stat')",
   "language": "python",
   "name": "python3"
  },
  "language_info": {
   "codemirror_mode": {
    "name": "ipython",
    "version": 3
   },
   "file_extension": ".py",
   "mimetype": "text/x-python",
   "name": "python",
   "nbconvert_exporter": "python",
   "pygments_lexer": "ipython3",
   "version": "3.11.4"
  },
  "orig_nbformat": 4,
  "vscode": {
   "interpreter": {
    "hash": "550906e9926f0f588aff226d3abadfa0c6a614c1c5eae7bfa21377021c1cb7ed"
   }
  }
 },
 "nbformat": 4,
 "nbformat_minor": 2
}
