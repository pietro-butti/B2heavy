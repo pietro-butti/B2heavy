{
 "cells": [
  {
   "cell_type": "code",
   "execution_count": 2,
   "metadata": {},
   "outputs": [],
   "source": [
    "import os\n",
    "import h5py\n",
    "import gvar   as gv\n",
    "import numpy  as np\n",
    "import pandas as pd\n",
    "from matplotlib import pyplot as plt\n",
    "\n",
    "import corrfitter as cf\n",
    "\n",
    "def format(v):\n",
    "    return gv.gvar(\n",
    "        v.mean(axis=0),\n",
    "        v.std(axis=0) * np.sqrt(v.shape[0]-1)\n",
    "    )\n",
    "    \n",
    "from b2heavy.ThreePointFunctions.types3pts import RatioFileString, RatioIO, Ratio, ratio_prerequisites, ratio_correction_factor\n",
    "from b2heavy.TwoPointFunctions.utils import jkCorr\n",
    "from b2heavy.FnalHISQMetadata import params\n",
    "\n",
    "frm = '/Users/pietro/code/data_analysis/data/QCDNf2p1stag/B2heavy/lattice24'\n",
    "datadir = '/Users/pietro/code/data_analysis/BtoD/Alex/'\n",
    "\n",
    "\n",
    "ens = 'Coarse-1'\n",
    "mom = '300'\n",
    "jk  = 11\n",
    "\n",
    "mdata = params(ens)\n",
    "Ta,Tb = mdata['hSinks']\n",
    "\n",
    "heavy = '_k' + mdata['kBStr']\n",
    "light = '_k' + mdata['kDStr']\n",
    "qq    = '_m' + mdata['mlStr']\n",
    "\n",
    "data = h5py.File(f'/Users/pietro/code/data_analysis/BtoD/Alex/Ensembles/FnalHISQ/a0.12/{mdata[\"hdf5File2\"]}')\n",
    "data = data['data']"
   ]
  },
  {
   "cell_type": "code",
   "execution_count": 3,
   "metadata": {},
   "outputs": [],
   "source": []
  },
  {
   "cell_type": "code",
   "execution_count": 8,
   "metadata": {},
   "outputs": [],
   "source": [
    "data3 = {}\n",
    "for k in data.keys():\n",
    "    st = k.split('_')\n",
    "    if len(st)==12:\n",
    "        src,cur,snk,tt,kh,s1,s2,s3,s4,mq,kl,pmom = st\n",
    "        \n",
    "        if snk in ['V2'] and \\\n",
    "            kh   == s_he   and \\\n",
    "            mq   == s_qq   and \\\n",
    "            kl   == s_li   and \\\n",
    "            pmom == 'p300' and cur[-1]==snk[-1]:\n",
    "\n",
    "            smr = '1S' if s2=='1S' else 'd'\n",
    "            data3[f'{src}.{cur}.{src}.{smr}.{tt}'] = jkCorr(data[k][:],bsize=jk)"
   ]
  },
  {
   "cell_type": "code",
   "execution_count": 12,
   "metadata": {},
   "outputs": [],
   "source": [
    "for key in data3:\n",
    "    src,cur,snk,smr,tt = key.split('.')\n",
    "\n",
    "    mdl = cf.Corr3(\n",
    "        datatag = key,\n",
    "        T       = int(tt[-2:]),\n",
    "        tmin    = 2,\n",
    "        a       = ('an','ao'),\n",
    "        b       = ('bn','bo'),\n",
    "        dEa     = ('dEan','dEao'),\n",
    "        dEb     = ('dEbn','dEbo'),\n",
    "        sa      = (1,-1),\n",
    "        sb      = (1,-1),\n",
    "        Vnn='Vnn', Vno='Vno', Von='Von', Voo='Voo',\n",
    "    )"
   ]
  },
  {
   "cell_type": "code",
   "execution_count": null,
   "metadata": {},
   "outputs": [],
   "source": []
  }
 ],
 "metadata": {
  "kernelspec": {
   "display_name": "Python 3.11.4 ('stat')",
   "language": "python",
   "name": "python3"
  },
  "language_info": {
   "codemirror_mode": {
    "name": "ipython",
    "version": 3
   },
   "file_extension": ".py",
   "mimetype": "text/x-python",
   "name": "python",
   "nbconvert_exporter": "python",
   "pygments_lexer": "ipython3",
   "version": "3.11.4"
  },
  "orig_nbformat": 4,
  "vscode": {
   "interpreter": {
    "hash": "550906e9926f0f588aff226d3abadfa0c6a614c1c5eae7bfa21377021c1cb7ed"
   }
  }
 },
 "nbformat": 4,
 "nbformat_minor": 2
}
