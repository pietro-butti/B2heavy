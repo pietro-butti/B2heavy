{
 "cells": [
  {
   "cell_type": "code",
   "execution_count": 38,
   "metadata": {},
   "outputs": [],
   "source": [
    "from b2heavy.TwoPointFunctions.utils     import correlation_diagnostics\n",
    "from b2heavy.TwoPointFunctions.types2pts import CorrelatorIO, plot_effective_coeffs\n",
    "from b2heavy.TwoPointFunctions.fitter    import StagFitter\n",
    "\n",
    "import numpy             as np\n",
    "import gvar              as gv\n",
    "import matplotlib.pyplot as plt\n",
    "\n",
    "import lsqfit\n",
    "\n",
    "from tqdm import tqdm\n",
    "\n",
    "from scipy import linalg as la\n",
    "\n",
    "import copy\n",
    "import corrfitter as cf"
   ]
  },
  {
   "cell_type": "code",
   "execution_count": 39,
   "metadata": {},
   "outputs": [],
   "source": [
    "BINSIZE  = {\n",
    "    'MediumCoarse':13,\n",
    "    'Coarse-2':    16,\n",
    "    'Coarse-1':    11,\n",
    "    'Coarse-Phys': 19,\n",
    "    'Fine-1':      16,\n",
    "    'Fine-Phys':   16,\n",
    "    'SuperFine':   22\n",
    "}"
   ]
  },
  {
   "cell_type": "code",
   "execution_count": 40,
   "metadata": {},
   "outputs": [],
   "source": [
    "# Correlator specifics\n",
    "ENSEMBLE = 'Coarse-1'\n",
    "MESON    = 'Dst'\n",
    "MOMENTUM = '300'\n",
    "\n",
    "DATA_DIR = '/Users/pietro/code/data_analysis/BtoD/Alex/'\n",
    "\n",
    "SMSLIST  = ['1S-1S','d-d','d-1S']\n",
    "\n",
    "# Specifics of the analysis\n",
    "TRANGE_EFF = (10,18) \n",
    "TRANGE     = (4,18)\n",
    "NSTATES    = 3\n",
    "JKFIT      = False"
   ]
  },
  {
   "cell_type": "code",
   "execution_count": 41,
   "metadata": {},
   "outputs": [],
   "source": [
    "io   = CorrelatorIO(ENSEMBLE,MESON,MOMENTUM,PathToDataDir=DATA_DIR)\n",
    "stag = StagFitter(\n",
    "    io       = io,\n",
    "    jkBin    = BINSIZE[ENSEMBLE],\n",
    "    smearing = SMSLIST\n",
    ")\n",
    "cov_specs = dict(scale=True, shrink=True, cutsvd=1e-12)"
   ]
  },
  {
   "cell_type": "code",
   "execution_count": 125,
   "metadata": {},
   "outputs": [
    {
     "name": "stderr",
     "output_type": "stream",
     "text": [
      "/Users/pietro/code/software/B2heavy/b2heavy/TwoPointFunctions/types2pts.py:38: RuntimeWarning: invalid value encountered in sqrt\n",
      "  m = np.arccosh( (y[(it+1)%len(y)]+y[(it-1)%len(y)])/y[it]/2 )\n",
      "/Users/pietro/code/software/B2heavy/b2heavy/TwoPointFunctions/types2pts.py:38: RuntimeWarning: invalid value encountered in log\n",
      "  m = np.arccosh( (y[(it+1)%len(y)]+y[(it-1)%len(y)])/y[it]/2 )\n",
      "/Users/pietro/code/software/B2heavy/b2heavy/TwoPointFunctions/types2pts.py:38: RuntimeWarning: invalid value encountered in arccosh\n",
      "  m = np.arccosh( (y[(it+1)%len(y)]+y[(it-1)%len(y)])/y[it]/2 )\n"
     ]
    }
   ],
   "source": [
    "effm,effa = stag.meff(TRANGE_EFF,**cov_specs)"
   ]
  },
  {
   "cell_type": "markdown",
   "metadata": {},
   "source": [
    "# eigen basis by hand (whole matrix)"
   ]
  },
  {
   "cell_type": "code",
   "execution_count": 166,
   "metadata": {},
   "outputs": [
    {
     "name": "stderr",
     "output_type": "stream",
     "text": [
      "100%|██████████| 90/90 [00:00<00:00, 2895.37it/s]\n"
     ]
    }
   ],
   "source": [
    "xdata,y,ysample = stag.format(alljk=True,**cov_specs)\n",
    "\n",
    "t0 = 1\n",
    "t1 = 3\n",
    "\n",
    "ebasis = np.array([\n",
    "    [ysample['1S-1S','Bot'],ysample['d-1S','Bot']],\n",
    "    [ysample['d-1S' ,'Bot'],ysample['d-d','Bot']]\n",
    "])\n",
    "ebasis = np.moveaxis(ebasis,[0,1],[-2,-1])\n",
    "\n",
    "Ct = ebasis.mean(axis=0)\n",
    "eval, evec = la.eigh(Ct[t1],b=Ct[t0])\n",
    "\n",
    "c00 = []\n",
    "c11 = []\n",
    "c01 = []\n",
    "c10 = []\n",
    "for jk in tqdm(range(ebasis.shape[0])):\n",
    "    _00,_11,_10,_01 = [],[],[],[]\n",
    "    for t in range(Ct.shape[0]):\n",
    "        _00.append( evec[:,0] @ ebasis[jk,t] @ evec[:,0] ) \n",
    "        _11.append( evec[:,1] @ ebasis[jk,t] @ evec[:,1] ) \n",
    "        _01.append( evec[:,0] @ ebasis[jk,t] @ evec[:,1] ) \n",
    "        _10.append( evec[:,1] @ ebasis[jk,t] @ evec[:,0] ) \n",
    "    c00.append(_00)\n",
    "    c11.append(_11)\n",
    "    c01.append(_01)\n",
    "    c10.append(_10)"
   ]
  },
  {
   "cell_type": "code",
   "execution_count": 169,
   "metadata": {},
   "outputs": [],
   "source": [
    "tmp = np.hstack([c00,c11,c01,c10])\n",
    "c1,c2,c3,c4 = gv.gvar(\n",
    "    tmp.mean(axis=0),\n",
    "    np.cov(tmp,rowvar=False) * (tmp.shape[0]-1)\n",
    ").reshape((4,tmp.shape[1]//4))\n",
    "\n",
    "ydata = {'c00':c1, 'c11':c2, 'c01':c3, 'c10':c4}"
   ]
  },
  {
   "cell_type": "code",
   "execution_count": null,
   "metadata": {},
   "outputs": [],
   "source": [
    "models = []\n",
    "for tag in ydata:\n",
    "    fcn = cf.Corr2(\n",
    "        datatag = tag,\n",
    "        tp      = stag.Nt,\n",
    "        s       = (1.,-1.),\n",
    "        tdata   = xdata,\n",
    "        tmin    = 4,\n",
    "        tmax    = 18,\n",
    "        dE      = ('dE','dE.o'),\n",
    "        a       = (f'Z_{tag}',f'Z_{tag}.o'),\n",
    "        b       = (f'Z_{tag}',f'Z_{tag}.o')\n",
    "    )\n",
    "    models.append(fcn)"
   ]
  },
  {
   "cell_type": "markdown",
   "metadata": {},
   "source": [
    "# eigen basis by hand 2"
   ]
  },
  {
   "cell_type": "code",
   "execution_count": 171,
   "metadata": {},
   "outputs": [],
   "source": [
    "xdata,y,ysample = stag.format(alljk=True,**cov_specs)"
   ]
  },
  {
   "cell_type": "code",
   "execution_count": 172,
   "metadata": {},
   "outputs": [],
   "source": [
    "t0 = 1\n",
    "t1 = 3"
   ]
  },
  {
   "cell_type": "code",
   "execution_count": 173,
   "metadata": {},
   "outputs": [],
   "source": [
    "ebasis = np.array([\n",
    "    [ysample['1S-1S','Bot'],ysample['d-1S','Bot']],\n",
    "    [ysample['d-1S' ,'Bot'],ysample['d-d','Bot']]\n",
    "])\n",
    "ebasis = np.moveaxis(ebasis,[0,1],[-2,-1])"
   ]
  },
  {
   "cell_type": "code",
   "execution_count": 174,
   "metadata": {},
   "outputs": [
    {
     "name": "stderr",
     "output_type": "stream",
     "text": [
      "100%|██████████| 90/90 [00:00<00:00, 5713.19it/s]\n"
     ]
    }
   ],
   "source": [
    "Ct = ebasis.mean(axis=0)\n",
    "eval, evec = la.eigh(Ct[t1],b=Ct[t0])\n",
    "\n",
    "Ctmax = []\n",
    "Ctmin = []\n",
    "for jk in tqdm(range(ebasis.shape[0])):\n",
    "    cmax,cmin = [],[]\n",
    "    for t in range(Ct.shape[0]):\n",
    "        cmin.append( evec[:,0] @ ebasis[jk,t] @ evec[:,0] ) \n",
    "        cmax.append( evec[:,1] @ ebasis[jk,t] @ evec[:,1] ) \n",
    "    Ctmax.append(cmax)\n",
    "    Ctmin.append(cmin)"
   ]
  },
  {
   "cell_type": "code",
   "execution_count": 175,
   "metadata": {},
   "outputs": [],
   "source": [
    "tmp = np.hstack([Ctmax,Ctmin])\n",
    "\n",
    "c1,c2 = gv.gvar(\n",
    "    tmp.mean(axis=0),\n",
    "    np.cov(tmp,rowvar=False) * (tmp.shape[0]-1)\n",
    ").reshape((2,tmp.shape[1]//2))\n",
    "\n",
    "ydata = {'cmax':c1, 'cmin':c2}"
   ]
  },
  {
   "cell_type": "code",
   "execution_count": 193,
   "metadata": {},
   "outputs": [],
   "source": [
    "ks = {'cmax':'cmin','cmin':'cmax'}\n",
    "\n",
    "models = []\n",
    "for tag in ydata:\n",
    "    fcn = cf.Corr2(\n",
    "        datatag = tag,\n",
    "        tp      = stag.Nt,\n",
    "        s       = (1.,-1.),\n",
    "        tdata   = xdata,\n",
    "        tmin    = 4,\n",
    "        tmax    = 18,\n",
    "        dE      = ('dE','dE.o'),\n",
    "        a       = (f'Z_{tag}',f'Z_{tag}.o'),\n",
    "        b       = (f'Z_{ks[tag]}',f'Z_{ks[tag]}.o')\n",
    "    )\n",
    "    models.append(fcn)"
   ]
  },
  {
   "cell_type": "code",
   "execution_count": 194,
   "metadata": {},
   "outputs": [],
   "source": [
    "NSTATES = 1\n",
    "priors = {\n",
    "    'log(dE)'      : gv.log(gv.gvar(NSTATES * ['0.5(5)'])),\n",
    "    'log(dE.o)'    : gv.log(gv.gvar(NSTATES * ['0.5(5)'])),\n",
    "    'log(Z_cmax)'  : gv.log(gv.gvar(NSTATES * ['1(1)'])),\n",
    "    'log(Z_cmin)'  : gv.log(gv.gvar(NSTATES * ['1(1)'])),\n",
    "    'log(Z_cmax.o)': gv.log(gv.gvar(NSTATES * ['1(1)'])),\n",
    "    'log(Z_cmin.o)': gv.log(gv.gvar(NSTATES * ['1(1)'])),\n",
    "}\n",
    "priors['log(dE)'][0] = gv.log(gv.gvar(effm.mean,0.1))"
   ]
  },
  {
   "cell_type": "code",
   "execution_count": 195,
   "metadata": {},
   "outputs": [],
   "source": [
    "fitter = cf.CorrFitter(models=models)\n",
    "fit = fitter.lsqfit(data=ydata, prior=priors)"
   ]
  },
  {
   "cell_type": "code",
   "execution_count": 196,
   "metadata": {},
   "outputs": [
    {
     "name": "stdout",
     "output_type": "stream",
     "text": [
      "Least Square Fit:\n",
      "  chi2/dof [dof] = 8.1e+03 [30]    Q = 0    logGBF = -1.2046e+05\n",
      "\n",
      "Parameters:\n",
      "  log(Z_cmax) 0     -0.06 (71)      [    0 ± 1.0 ]  \n",
      "  log(Z_cmin) 0     -0.06 (71)      [    0 ± 1.0 ]  \n",
      "      log(dE) 0    0.6990 (43)      [ 0.186 (83) ]  *****\n",
      "log(Z_cmax.o) 0    -11.70 (79)      [    0 ± 1.0 ]  *****\n",
      "log(Z_cmin.o) 0    -11.70 (79)      [    0 ± 1.0 ]  *****\n",
      "    log(dE.o) 0     -3.43 (86)      [ -0.7 (1.0) ]  **\n",
      "--------------------------------------------------\n",
      "       Z_cmax 0      0.94 (67)      [  1.0 (1.0) ]  \n",
      "       Z_cmin 0      0.94 (67)      [  1.0 (1.0) ]  \n",
      "           dE 0    2.0117 (86)      [  1.20 (10) ]  *****\n",
      "     Z_cmax.o 0   8.3(6.6)e-06      [  1.0 (1.0) ]  \n",
      "     Z_cmin.o 0   8.3(6.6)e-06      [  1.0 (1.0) ]  \n",
      "         dE.o 0     0.032 (28)      [  0.50 (50) ]  \n",
      "\n",
      "Settings:\n",
      "  svdcut/n = 1e-12/0    tol = (1e-08,1e-10,1e-10*)    (itns/time = 32/0.0)\n",
      "  fitter = scipy_least_squares    method = trf\n",
      "\n"
     ]
    }
   ],
   "source": [
    "print(fit)"
   ]
  },
  {
   "cell_type": "markdown",
   "metadata": {},
   "source": [
    "# Disentangled fit states"
   ]
  },
  {
   "cell_type": "code",
   "execution_count": 416,
   "metadata": {},
   "outputs": [],
   "source": [
    "def PeriodicExpDecay_jax(Nt):\n",
    "    return lambda t,E,Z: Z * ( np.exp(-E*t) + np.exp(-E*(Nt-t)) ) \n",
    "\n",
    "def _model(Nstates,Nt,sm,pol):\n",
    "    sm1,sm2 = sm.split('-')\n",
    "    mix = sm1!=sm2\n",
    "\n",
    "    def aux(t,p):\n",
    "        # E0, E1 = p['E'][0], p['E'][0] + np.exp(p['E'][1])\n",
    "        E0, E1 = p['E'][0], p['E'][1]\n",
    "        # Z0 = (np.exp(p[f'Z_{sm1}_{pol}'][0]) * np.exp(p[f'Z_{sm2}_{pol}'][0]))/2/E0\n",
    "        # Z1 = (np.exp(p[f'Z_{sm1}_{pol}'][1]) * np.exp(p[f'Z_{sm2}_{pol}'][1]))/2/E1\n",
    "        Z0 = (p[f'Z_{sm1}_{pol}'][0] * p[f'Z_{sm2}_{pol}'][0])/2/E0\n",
    "        Z1 = (p[f'Z_{sm1}_{pol}'][1] * p[f'Z_{sm2}_{pol}'][1])/2/E1\n",
    "\n",
    "        ans = PeriodicExpDecay_jax(Nt)(t,E0,Z0) + PeriodicExpDecay_jax(Nt)(t,E1,Z1) * (-1)**(t+1)\n",
    "\n",
    "        Es = [E0,E1]\n",
    "        for i in range(2,2*Nstates):\n",
    "            # Ei = Es[i-2] + np.exp(p['E'][i])\n",
    "            Ei = Es[i-2] + p['E'][i]\n",
    "            Z = p[f'Z_{sm if mix else sm1}_{pol}'][i-2 if mix else i]**2\n",
    "            ans += PeriodicExpDecay_jax(Nt)(t,Ei,Z) * (-1)**(i*(t+1))\n",
    "\n",
    "            Es.append(Ei)\n",
    "        return ans\n",
    "\n",
    "    return aux"
   ]
  },
  {
   "cell_type": "code",
   "execution_count": 419,
   "metadata": {},
   "outputs": [
    {
     "name": "stderr",
     "output_type": "stream",
     "text": [
      "/Users/pietro/code/software/B2heavy/b2heavy/TwoPointFunctions/types2pts.py:38: RuntimeWarning: invalid value encountered in sqrt\n",
      "  m = np.arccosh( (y[(it+1)%len(y)]+y[(it-1)%len(y)])/y[it]/2 )\n",
      "/Users/pietro/code/software/B2heavy/b2heavy/TwoPointFunctions/types2pts.py:38: RuntimeWarning: invalid value encountered in log\n",
      "  m = np.arccosh( (y[(it+1)%len(y)]+y[(it-1)%len(y)])/y[it]/2 )\n",
      "/Users/pietro/code/software/B2heavy/b2heavy/TwoPointFunctions/types2pts.py:38: RuntimeWarning: invalid value encountered in arccosh\n",
      "  m = np.arccosh( (y[(it+1)%len(y)]+y[(it-1)%len(y)])/y[it]/2 )\n"
     ]
    }
   ],
   "source": [
    "effm,effa = stag.meff(TRANGE_EFF,**cov_specs)\n",
    "\n",
    "pr = stag.priors(NSTATES,Meff=effm,Aeff=effa)\n",
    "# for n in [0,1]:\n",
    "#     e = pr['E'][0]\n",
    "#     if n==1:\n",
    "#         e += np.exp(pr['E'][1])\n",
    "\n",
    "#     for sm in ['1S','d']:\n",
    "#         for pol in ['Par','Bot']:\n",
    "#             z = np.log(effa[f'{sm}-{sm}',pol] * 2 * e)\n",
    "#             pr[f'Z_{sm}_{pol}'][n] = gv.gvar(z.mean,z.sdev*20)"
   ]
  },
  {
   "cell_type": "code",
   "execution_count": 428,
   "metadata": {},
   "outputs": [],
   "source": [
    "pr['E'][1:] = gv.log(np.exp(pr['E'][1:]))\n",
    "\n",
    "pr['Z_1S_Bot'][:2] = gv.log(np.exp(pr['Z_1S_Bot'][:2]))\n",
    "pr['Z_1S_Par'][:2] = gv.log(np.exp(pr['Z_1S_Par'][:2]))\n",
    "pr['Z_d_Bot'][:2]  = gv.log(np.exp(pr['Z_d_Bot'][:2]))\n",
    "pr['Z_d_Par'][:2]  = gv.log(np.exp(pr['Z_d_Par'][:2]))"
   ]
  },
  {
   "cell_type": "code",
   "execution_count": 430,
   "metadata": {},
   "outputs": [],
   "source": [
    "xdata, ydata = stag.format(TRANGE, flatten=True, **cov_specs)\n",
    "\n",
    "def model(xdata,pdict):\n",
    "    return np.concatenate([\n",
    "        _model(NSTATES,stag.Nt,smr,pol)(xdata,pdict) for smr,pol in stag.keys\n",
    "    ])  "
   ]
  },
  {
   "cell_type": "code",
   "execution_count": 436,
   "metadata": {},
   "outputs": [
    {
     "name": "stderr",
     "output_type": "stream",
     "text": [
      "/Users/pietro/opt/anaconda3/envs/stat/lib/python3.11/site-packages/scipy/optimize/_lsq/common.py:118: RuntimeWarning: overflow encountered in multiply\n",
      "  suf = s * uf\n",
      "/Users/pietro/opt/anaconda3/envs/stat/lib/python3.11/site-packages/scipy/optimize/_lsq/common.py:141: RuntimeWarning: invalid value encountered in scalar multiply\n",
      "  alpha = max(0.001 * alpha_upper, (alpha_lower * alpha_upper)**0.5)\n",
      "/Users/pietro/opt/anaconda3/envs/stat/lib/python3.11/site-packages/scipy/optimize/_lsq/common.py:112: RuntimeWarning: overflow encountered in square\n",
      "  denom = s**2 + alpha\n",
      "/Users/pietro/opt/anaconda3/envs/stat/lib/python3.11/site-packages/scipy/optimize/_lsq/common.py:113: RuntimeWarning: invalid value encountered in divide\n",
      "  p_norm = norm(suf / denom)\n",
      "/Users/pietro/opt/anaconda3/envs/stat/lib/python3.11/site-packages/scipy/optimize/_lsq/common.py:115: RuntimeWarning: invalid value encountered in divide\n",
      "  phi_prime = -np.sum(suf ** 2 / denom**3) / p_norm\n",
      "/Users/pietro/opt/anaconda3/envs/stat/lib/python3.11/site-packages/scipy/optimize/_lsq/common.py:161: RuntimeWarning: overflow encountered in square\n",
      "  p = -V.dot(suf / (s**2 + alpha))\n"
     ]
    },
    {
     "name": "stdout",
     "output_type": "stream",
     "text": [
      "Least Square Fit:\n",
      "  chi2/dof [dof] = inf [90]    Q = 0    logGBF = -inf\n",
      "\n",
      "Parameters:\n",
      "            E 0      1.20432 (0)       [   1.204 (48) ]  \n",
      "              1     -1.81356 (0)       [   -1.81 (58) ]  \n",
      "              2     -1.08762 (0)       [   -1.09 (80) ]  \n",
      "              3     -2.35255 (0)       [   -2.4 (2.5) ]  \n",
      "              4     -2.35255 (0)       [   -2.4 (2.5) ]  \n",
      "              5     -2.35255 (0)       [   -2.4 (2.5) ]  \n",
      "     Z_1S_Bot 0   -0.0955977 (0)       [ -0.10 (1.00) ]  \n",
      "              1         -1.2 (0)       [   -1.2 (1.2) ]  \n",
      "              2          0.5 (0)       [    0.5 (1.5) ]  \n",
      "              3          0.5 (0)       [    0.5 (1.5) ]  \n",
      "              4          0.5 (0)       [    0.5 (3.0) ]  \n",
      "              5          0.5 (0)       [    0.5 (3.0) ]  \n",
      "     Z_1S_Par 0    0.0645125 (0)       [  0.06 (1.00) ]  \n",
      "              1         -1.2 (0)       [   -1.2 (1.2) ]  \n",
      "              2          0.5 (0)       [    0.5 (1.5) ]  \n",
      "              3          0.5 (0)       [    0.5 (1.5) ]  \n",
      "              4          0.5 (0)       [    0.5 (3.0) ]  \n",
      "              5          0.5 (0)       [    0.5 (3.0) ]  \n",
      "   Z_d-1S_Bot 0          0.5 (0)       [    0.5 (1.7) ]  \n",
      "              1          0.5 (0)       [    0.5 (1.7) ]  \n",
      "              2          0.5 (0)       [    0.5 (1.7) ]  \n",
      "              3          0.5 (0)       [    0.5 (1.7) ]  \n",
      "   Z_d-1S_Par 0          0.5 (0)       [    0.5 (1.7) ]  \n",
      "              1          0.5 (0)       [    0.5 (1.7) ]  \n",
      "              2          0.5 (0)       [    0.5 (1.7) ]  \n",
      "              3          0.5 (0)       [    0.5 (1.7) ]  \n",
      "      Z_d_Bot 0     -2.00605 (0)       [   -2.0 (1.0) ]  \n",
      "              1           -3 (0)       [   -3.0 (1.5) ]  \n",
      "              2          0.5 (0)       [    0.5 (1.5) ]  \n",
      "              3          0.5 (0)       [    0.5 (1.5) ]  \n",
      "              4          0.5 (0)       [    0.5 (3.0) ]  \n",
      "              5          0.5 (0)       [    0.5 (3.0) ]  \n",
      "      Z_d_Par 0     -1.87478 (0)       [   -1.9 (1.0) ]  \n",
      "              1         -5.5 (0)       [   -5.5 (2.0) ]  \n",
      "              2          0.5 (0)       [    0.5 (1.5) ]  \n",
      "              3          0.5 (0)       [    0.5 (1.5) ]  \n",
      "              4          0.5 (0)       [    0.5 (3.0) ]  \n",
      "              5          0.5 (0)       [    0.5 (3.0) ]  \n",
      "\n",
      "Settings:\n",
      "  svdcut/n = 1e-12/0    tol = (1e-08,1e-10,1e-10)    (itns/time = 1000*/0.8)\n",
      "  fitter = scipy_least_squares    method = trf\n",
      "\n"
     ]
    },
    {
     "name": "stderr",
     "output_type": "stream",
     "text": [
      "/Users/pietro/opt/anaconda3/envs/stat/lib/python3.11/site-packages/lsqfit/_scipy.py:175: RuntimeWarning: overflow encountered in square\n",
      "  self.cov = numpy.dot(_VT.T / _s**2, _VT)\n",
      "/Users/pietro/opt/anaconda3/envs/stat/lib/python3.11/site-packages/lsqfit/__init__.py:729: RuntimeWarning: overflow encountered in square\n",
      "  self.chi2 = numpy.sum(fit.f**2)\n"
     ]
    }
   ],
   "source": [
    "fit = lsqfit.nonlinear_fit(\n",
    "    data   = (xdata,ydata),\n",
    "    fcn    = model,\n",
    "    prior  = pr,\n",
    ")\n",
    "\n",
    "print(fit)"
   ]
  },
  {
   "cell_type": "code",
   "execution_count": 432,
   "metadata": {},
   "outputs": [
    {
     "name": "stdout",
     "output_type": "stream",
     "text": [
      "0.90883(0)\n",
      "0.134519(0)\n"
     ]
    }
   ],
   "source": [
    "print( np.exp(fit.p['Z_1S_Bot'][0]))\n",
    "print( np.exp(fit.p['Z_d_Bot'][0] ))"
   ]
  },
  {
   "cell_type": "markdown",
   "metadata": {},
   "source": [
    "# Eigen basis by hand"
   ]
  },
  {
   "cell_type": "code",
   "execution_count": 328,
   "metadata": {},
   "outputs": [],
   "source": [
    "ebasis = np.array([\n",
    "    [ysample['1S-1S','Bot'],ysample['d-1S','Bot']],\n",
    "    [ysample['d-1S' ,'Bot'],ysample['d-d','Bot']]\n",
    "])\n",
    "ebasis = np.moveaxis(ebasis,[0,1],[-2,-1])\n",
    "\n",
    "C_t = ebasis.mean(axis=0)"
   ]
  },
  {
   "cell_type": "code",
   "execution_count": 280,
   "metadata": {},
   "outputs": [],
   "source": [
    "t0,t1 = 9, 18\n",
    "l,v = la.eigh(C_t[t1],b=C_t[t0])\n",
    "\n",
    "eC_t = []\n",
    "for t in range(C_t.shape[0]):\n",
    "    eC_t.append([\n",
    "        [v[0]@C_t[t]@v[0], v[0]@C_t[t]@v[1]], \n",
    "        [v[1]@C_t[t]@v[0], v[1]@C_t[t]@v[1]]\n",
    "    ]) \n",
    "eC_t = np.array(eC_t)"
   ]
  },
  {
   "cell_type": "code",
   "execution_count": 322,
   "metadata": {},
   "outputs": [
    {
     "name": "stdout",
     "output_type": "stream",
     "text": [
      "[1.08357916e-05 6.35224702e-05] [[ -94.35001733 -659.4854221 ]\n",
      " [-790.91806825 4663.86977389]]\n"
     ]
    }
   ],
   "source": [
    "eval, evec = la.eigh(C_t[t1],b=C_t[t0])\n",
    "print(eval,evec)"
   ]
  },
  {
   "cell_type": "markdown",
   "metadata": {},
   "source": [
    "# Eigen basis"
   ]
  },
  {
   "cell_type": "code",
   "execution_count": 189,
   "metadata": {},
   "outputs": [],
   "source": [
    "xdata,ydata = stag.format(scale=True,shrink=True)\n",
    "\n",
    "ydict = {}\n",
    "for sm,pol in ydata:\n",
    "    sm1,sm2 = sm.split('-')\n",
    "    k = f'{sm1}-{sm2}_{pol}'\n",
    "    ydict[k] = ydata[sm,pol]\n",
    "\n",
    "\n",
    "for pol in stag.data.polarization.values:\n",
    "    ydict[f'1S-d_{pol}'] = copy.deepcopy(ydict[f'd-1S_{pol}'])\n",
    "\n"
   ]
  },
  {
   "cell_type": "code",
   "execution_count": 200,
   "metadata": {},
   "outputs": [],
   "source": [
    "basis = cf.EigenBasis(\n",
    "    ydict,\n",
    "    keyfmt = '{s1}-{s2}_Bot',\n",
    "    srcs   = ['1S','d'],\n",
    "    t      = (11,17) ,\n",
    "    tdata  = xdata,\n",
    "    osc    = True\n",
    ")\n",
    "prior = basis.make_prior(nterm=2, keyfmt='m.{s1}')"
   ]
  },
  {
   "cell_type": "code",
   "execution_count": 201,
   "metadata": {},
   "outputs": [
    {
     "data": {
      "text/plain": [
       "BufferDict({'m.1S': array([-0.19(13), -1.26(38)], dtype=object), 'm.d': array([-0.012(19), -0.189(57)], dtype=object), 'log(m.dE)': array([0.03(22), -1.5(1.0)], dtype=object), 'o.1S': array([-0.3(1.3), -0.3(1.3)], dtype=object), 'o.d': array([-0.04(19), -0.04(19)], dtype=object), 'log(o.dE)': array([0.03(22), -1.5(1.0)], dtype=object)})"
      ]
     },
     "execution_count": 201,
     "metadata": {},
     "output_type": "execute_result"
    }
   ],
   "source": [
    "prior"
   ]
  },
  {
   "cell_type": "code",
   "execution_count": 172,
   "metadata": {},
   "outputs": [
    {
     "name": "stderr",
     "output_type": "stream",
     "text": [
      "/Users/pietro/code/software/B2heavy/b2heavy/TwoPointFunctions/types2pts.py:38: RuntimeWarning: invalid value encountered in sqrt\n",
      "  m = np.arccosh( (y[(it+1)%len(y)]+y[(it-1)%len(y)])/y[it]/2 )\n",
      "/Users/pietro/code/software/B2heavy/b2heavy/TwoPointFunctions/types2pts.py:38: RuntimeWarning: invalid value encountered in log\n",
      "  m = np.arccosh( (y[(it+1)%len(y)]+y[(it-1)%len(y)])/y[it]/2 )\n",
      "/Users/pietro/code/software/B2heavy/b2heavy/TwoPointFunctions/types2pts.py:38: RuntimeWarning: invalid value encountered in arccosh\n",
      "  m = np.arccosh( (y[(it+1)%len(y)]+y[(it-1)%len(y)])/y[it]/2 )\n"
     ]
    }
   ],
   "source": [
    "effm,effa = stag.meff(TRANGE_EFF,**cov_specs)"
   ]
  },
  {
   "cell_type": "code",
   "execution_count": 174,
   "metadata": {},
   "outputs": [
    {
     "data": {
      "text/plain": [
       "BufferDict({('1S-1S', 'Bot'): 0.826(30), ('1S-1S', 'Par'): 1.138(35), ('d-1S', 'Bot'): 0.1191(25), ('d-1S', 'Par'): 0.1609(28), ('d-d', 'Bot'): 0.01810(30), ('d-d', 'Par'): 0.02353(34)})"
      ]
     },
     "execution_count": 174,
     "metadata": {},
     "output_type": "execute_result"
    }
   ],
   "source": [
    "effa"
   ]
  },
  {
   "cell_type": "markdown",
   "metadata": {},
   "source": [
    "# Classical fit"
   ]
  },
  {
   "cell_type": "code",
   "execution_count": 409,
   "metadata": {},
   "outputs": [
    {
     "name": "stderr",
     "output_type": "stream",
     "text": [
      "/Users/pietro/code/software/B2heavy/b2heavy/TwoPointFunctions/types2pts.py:38: RuntimeWarning: invalid value encountered in sqrt\n",
      "  m = np.arccosh( (y[(it+1)%len(y)]+y[(it-1)%len(y)])/y[it]/2 )\n",
      "/Users/pietro/code/software/B2heavy/b2heavy/TwoPointFunctions/types2pts.py:38: RuntimeWarning: invalid value encountered in log\n",
      "  m = np.arccosh( (y[(it+1)%len(y)]+y[(it-1)%len(y)])/y[it]/2 )\n",
      "/Users/pietro/code/software/B2heavy/b2heavy/TwoPointFunctions/types2pts.py:38: RuntimeWarning: invalid value encountered in arccosh\n",
      "  m = np.arccosh( (y[(it+1)%len(y)]+y[(it-1)%len(y)])/y[it]/2 )\n"
     ]
    }
   ],
   "source": [
    "effm,effa = stag.meff(TRANGE_EFF,**cov_specs)"
   ]
  },
  {
   "cell_type": "code",
   "execution_count": 410,
   "metadata": {},
   "outputs": [],
   "source": [
    "priors = stag.priors(NSTATES,Meff=effm,Aeff=effa)"
   ]
  },
  {
   "cell_type": "code",
   "execution_count": 411,
   "metadata": {},
   "outputs": [],
   "source": [
    "fit = stag.fit(\n",
    "    Nstates = NSTATES,\n",
    "    trange  = TRANGE,\n",
    "    priors  = priors,\n",
    "    # jkfit   = True,\n",
    "    **cov_specs\n",
    ")"
   ]
  },
  {
   "cell_type": "code",
   "execution_count": 414,
   "metadata": {},
   "outputs": [
    {
     "name": "stdout",
     "output_type": "stream",
     "text": [
      "1.69(29)\n",
      "0.253(44)\n"
     ]
    }
   ],
   "source": [
    "print(np.exp(fit.p['Z_1S_Bot'][0]) * 2 * fit.p['E'][0])\n",
    "print(np.exp(fit.p['Z_d_Bot'][0]) * 2 * fit.p['E'][0] )"
   ]
  },
  {
   "cell_type": "code",
   "execution_count": 213,
   "metadata": {},
   "outputs": [
    {
     "data": {
      "text/plain": [
       "array([-0.26900711, -0.34088508, -0.29902848, -0.29014289, -0.2827814 ,\n",
       "       -0.30701615, -0.28690166, -0.26892883, -0.27147336, -0.29028904,\n",
       "       -0.26045125, -0.3033341 , -0.27198517, -0.29325767, -0.27802341,\n",
       "       -0.27532271, -0.29873589, -0.29654462, -0.27473161, -0.2987464 ,\n",
       "       -0.27360254, -0.30852834, -0.29267275, -0.29742953, -0.30713133,\n",
       "       -0.29979372, -0.26494197, -0.27408599, -0.27646433, -0.30653436,\n",
       "       -0.29504755, -0.27982753, -0.29115496, -0.29811514, -0.26293444,\n",
       "       -0.26594842, -0.28827323, -0.26201076, -0.29109627, -0.28976959,\n",
       "       -0.28301744, -0.25559455, -0.25780639, -0.28712346, -0.26927879,\n",
       "       -0.29313795, -0.2721663 , -0.279077  , -0.30858129, -0.28196101,\n",
       "       -0.2397884 , -0.25421923, -0.31897507, -0.25962441, -0.28062969,\n",
       "       -0.26692793, -0.31892599, -0.2950269 , -0.27931767, -0.30968731,\n",
       "       -0.28315379, -0.31007936, -0.31121948, -0.28510293, -0.29865923,\n",
       "       -0.30813806, -0.28657545, -0.29245278, -0.30151635, -0.31935123,\n",
       "       -0.28592597, -0.27087168, -0.26564179, -0.28557764, -0.24734233,\n",
       "       -0.26818784, -0.27246645, -0.32519238, -0.27360898, -0.30589715,\n",
       "       -0.27155432, -0.29128636, -0.25896077, -0.2774303 , -0.28752559,\n",
       "       -0.27508834, -0.32822518, -0.24856051, -0.27299917, -0.28655198])"
      ]
     },
     "execution_count": 213,
     "metadata": {},
     "output_type": "execute_result"
    }
   ],
   "source": [
    "fit['Z_1S_Bot'][:,0]"
   ]
  },
  {
   "cell_type": "code",
   "execution_count": 204,
   "metadata": {},
   "outputs": [
    {
     "name": "stdout",
     "output_type": "stream",
     "text": [
      "1.183(17)\n",
      "-2.92(46)\n",
      "--------------------------------------\n",
      "0.51(16)\n",
      "0.41(13)\n",
      "6.4(1.5)\n",
      "8.2(2.6)\n",
      "--------------------------------------\n",
      "0.70(23)\n",
      "0.214(70)\n",
      "9.6(2.4)\n",
      "5.1(1.6)\n"
     ]
    }
   ],
   "source": [
    "print(fitres['fit'].p['E'][0])\n",
    "print(fitres['fit'].p['E'][1])\n",
    "\n",
    "print('--------------------------------------')\n",
    "print(np.exp(fitres['fit'].p['Z_1S_Bot'][0])**2)\n",
    "print(np.exp(fitres['fit'].p['Z_1S_Bot'][1])**2)\n",
    "print(np.exp(fitres['fit'].p['Z_1S_Bot'][2])**2)\n",
    "print(np.exp(fitres['fit'].p['Z_1S_Bot'][3])**2)\n",
    "\n",
    "print('--------------------------------------')\n",
    "print(np.exp(fitres['fit'].p['Z_1S_Par'][0])**2)\n",
    "print(np.exp(fitres['fit'].p['Z_1S_Par'][1])**2)\n",
    "print(np.exp(fitres['fit'].p['Z_1S_Par'][2])**2)\n",
    "print(np.exp(fitres['fit'].p['Z_1S_Par'][3])**2)"
   ]
  },
  {
   "cell_type": "code",
   "execution_count": null,
   "metadata": {},
   "outputs": [],
   "source": []
  }
 ],
 "metadata": {
  "kernelspec": {
   "display_name": "Python 3.11.4 ('stat')",
   "language": "python",
   "name": "python3"
  },
  "language_info": {
   "codemirror_mode": {
    "name": "ipython",
    "version": 3
   },
   "file_extension": ".py",
   "mimetype": "text/x-python",
   "name": "python",
   "nbconvert_exporter": "python",
   "pygments_lexer": "ipython3",
   "version": "3.11.4"
  },
  "orig_nbformat": 4,
  "vscode": {
   "interpreter": {
    "hash": "550906e9926f0f588aff226d3abadfa0c6a614c1c5eae7bfa21377021c1cb7ed"
   }
  }
 },
 "nbformat": 4,
 "nbformat_minor": 2
}
