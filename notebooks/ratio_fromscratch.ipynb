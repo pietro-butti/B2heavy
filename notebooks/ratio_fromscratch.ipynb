{
 "cells": [
  {
   "cell_type": "code",
   "execution_count": 1,
   "metadata": {},
   "outputs": [],
   "source": [
    "import os\n",
    "import h5py\n",
    "import gvar   as gv\n",
    "import numpy  as np\n",
    "import pandas as pd\n",
    "from matplotlib import pyplot as plt\n",
    "\n",
    "def format(v):\n",
    "    return gv.gvar(\n",
    "        v.mean(axis=0),\n",
    "        v.std(axis=0) * np.sqrt(v.shape[0]-1)\n",
    "    )"
   ]
  },
  {
   "cell_type": "markdown",
   "metadata": {},
   "source": [
    "# $R_{A_1}(\\mathbb{p}>0)$"
   ]
  },
  {
   "cell_type": "markdown",
   "metadata": {},
   "source": [
    "$$\n",
    " R_{A_1} = \\frac{ C_{B_{1S}\\rightarrow D^*_a}^{A_j}(\\mathbf{p}_\\perp,t,T) \\,\\, C_{D^*_a\\rightarrow B_{1S}}^{A_j}(\\mathbf{p}_\\perp,t,T) }{  C_{D^*_a\\rightarrow D^*_{1S}}^{V_4}(\\mathbf{0},t,T) \\,\\,   C_{B_{1S}\\rightarrow B_{1S}}^{V_4}(\\mathbf{0},t,T) } / \\frac{Z_{D^*_a}(\\mathbf p_\\perp)}{\\sqrt{Z_{D^*_a}(0)Z_{D_{1S}^*}(0)}} \\frac{{M_{D^*}}^2}{{E^2_{D^*}}(\\mathbb p)} e^{-({E_{D^*}}(\\mathbb p) - M_{D^*})T}\n",
    "$$ "
   ]
  },
  {
   "cell_type": "code",
   "execution_count": 2,
   "metadata": {},
   "outputs": [],
   "source": [
    "from b2heavy.ThreePointFunctions.types3pts import RatioFileString, RatioIO, Ratio, ratio_prerequisites, ratio_correction_factor\n",
    "from b2heavy.TwoPointFunctions.utils import jkCorr\n",
    "from b2heavy.FnalHISQMetadata import params\n",
    "\n",
    "frm = '/Users/pietro/code/data_analysis/data/QCDNf2p1stag/B2heavy/lattice24'\n",
    "datadir = '/Users/pietro/code/data_analysis/BtoD/Alex/'\n",
    "\n",
    "\n",
    "ens = 'Coarse-1'\n",
    "mom = '300'\n",
    "jk  = 11\n",
    "\n",
    "mdata = params(ens)\n",
    "Ta,Tb = mdata['hSinks']\n",
    "\n",
    "heavy = '_k' + mdata['kBStr']\n",
    "light = '_k' + mdata['kDStr']\n",
    "qq    = '_m' + mdata['mlStr']\n",
    "\n",
    "data = h5py.File(f'/Users/pietro/code/data_analysis/BtoD/Alex/Ensembles/FnalHISQ/a0.12/{mdata[\"hdf5File2\"]}')\n",
    "data = data['data']"
   ]
  },
  {
   "cell_type": "markdown",
   "metadata": {},
   "source": [
    "$C_{B_{1S}\\rightarrow D^*_a}^{A_j}(\\mathbf{p}_\\perp,t,T)$"
   ]
  },
  {
   "cell_type": "code",
   "execution_count": 3,
   "metadata": {},
   "outputs": [
    {
     "name": "stdout",
     "output_type": "stream",
     "text": [
      "file1 = 'P5_A2_V2_T12_k0.08574_RW_1S_rot_rot_m0.00507_k0.12201_p300'\n",
      "file2 = 'P5_A3_V3_T12_k0.08574_RW_1S_rot_rot_m0.00507_k0.12201_p300'\n"
     ]
    }
   ],
   "source": [
    "file1 = RatioFileString('P5_A2_V2_',Ta,heavy,'1S',qq,light,mom)\n",
    "file2 = RatioFileString('P5_A3_V3_',Ta,heavy,'1S',qq,light,mom)\n",
    "n1a = np.array([\n",
    "    jkCorr(data[file1][:,:Ta+1], bsize=jk),\n",
    "    jkCorr(data[file2][:,:Ta+1], bsize=jk),\n",
    "])\n",
    "\n",
    "print(f'{file1 = }')\n",
    "print(f'{file2 = }')\n",
    "\n",
    "\n",
    "# ==============================================================\n",
    "file1 = RatioFileString('P5_A2_V2_',Tb,heavy,'1S',qq,light,mom)\n",
    "file2 = RatioFileString('P5_A3_V3_',Tb,heavy,'1S',qq,light,mom)\n",
    "n1b = np.array([\n",
    "    jkCorr(data[file1][:,:Ta+1], bsize=jk),\n",
    "    jkCorr(data[file2][:,:Ta+1], bsize=jk),\n",
    "])"
   ]
  },
  {
   "cell_type": "markdown",
   "metadata": {},
   "source": [
    "$C_{D^*_a\\rightarrow B_{1S}}^{A_j}(\\mathbf{p}_\\perp,t,T) \\longleftarrow C_{B_{1S}\\rightarrow D^*_a}^{A_j}(\\mathbf{p}_\\perp,T-t,T)$"
   ]
  },
  {
   "cell_type": "code",
   "execution_count": 4,
   "metadata": {},
   "outputs": [],
   "source": [
    "n2a = np.flip(n1a,axis=2)\n",
    "n2b = np.flip(n1b,axis=2)"
   ]
  },
  {
   "cell_type": "markdown",
   "metadata": {},
   "source": [
    "$C_{B_{1S}\\rightarrow B_{1S}}^{V_4}(\\mathbf{0},t,T)$"
   ]
  },
  {
   "cell_type": "code",
   "execution_count": 5,
   "metadata": {},
   "outputs": [
    {
     "name": "stdout",
     "output_type": "stream",
     "text": [
      "file1 = 'P5_V4_P5_T12_k0.08574_RW_1S_rot_rot_m0.00507_k0.08574_p000'\n",
      "file2 = 'P5_V4_P5_T13_k0.08574_RW_1S_rot_rot_m0.00507_k0.08574_p000'\n"
     ]
    }
   ],
   "source": [
    "file1 = RatioFileString('P5_V4_P5_',Ta,heavy,'1S',qq,heavy,'000')\n",
    "file2 = RatioFileString('P5_V4_P5_',Tb,heavy,'1S',qq,heavy,'000')\n",
    "\n",
    "d1a = jkCorr(data[file1][:,:Ta+1], bsize=jk)\n",
    "d1b = jkCorr(data[file2][:,:Ta+1], bsize=jk)\n",
    "\n",
    "print(f'{file1 = }')\n",
    "print(f'{file2 = }')"
   ]
  },
  {
   "cell_type": "markdown",
   "metadata": {},
   "source": [
    "$C_{D^*_a\\rightarrow D^*_{1S}}^{V_4}(\\mathbf{0},t,T)$"
   ]
  },
  {
   "cell_type": "code",
   "execution_count": 6,
   "metadata": {},
   "outputs": [
    {
     "name": "stdout",
     "output_type": "stream",
     "text": [
      "file1 = 'V1_V4_V1_T12_k0.12201_RW_1S_rot_rot_m0.00507_k0.12201_p000'\n",
      "file2 = 'V1_V4_V1_T13_k0.12201_RW_1S_rot_rot_m0.00507_k0.12201_p000'\n"
     ]
    }
   ],
   "source": [
    "file1 = RatioFileString('V1_V4_V1_',Ta,light,'1S',qq,light,'000')\n",
    "file2 = RatioFileString('V1_V4_V1_',Tb,light,'1S',qq,light,'000')\n",
    "\n",
    "d2a = jkCorr(data[file1][:,:Ta+1], bsize=jk)\n",
    "d2b = jkCorr(data[file2][:,:Ta+1], bsize=jk)\n",
    "\n",
    "print(f'{file1 = }')\n",
    "print(f'{file2 = }')"
   ]
  },
  {
   "cell_type": "code",
   "execution_count": 7,
   "metadata": {},
   "outputs": [],
   "source": [
    "# first, multiply corr at numerator\n",
    "# second, average numerator over directions\n",
    "\n",
    "ra = (n1a * n2a).mean(axis=0) / (d1a * d2a)\n",
    "rb = (n1b * n2b).mean(axis=0) / (d1b * d2b)"
   ]
  },
  {
   "cell_type": "code",
   "execution_count": 8,
   "metadata": {},
   "outputs": [
    {
     "data": {
      "text/plain": [
       "{'RW': 20.453929716505453, '1S': 4.91133054148262}"
      ]
     },
     "execution_count": 8,
     "metadata": {},
     "output_type": "execute_result"
    }
   ],
   "source": [
    "req = ratio_prerequisites(ens,'RA1',mom,readfrom=frm)\n",
    "ratio_correction_factor('RA1',**req)"
   ]
  },
  {
   "cell_type": "code",
   "execution_count": 9,
   "metadata": {},
   "outputs": [],
   "source": [
    "fa = req['Zbot']['1S'] / np.sqrt(req['Z0']['1S'] * req['Z0']['1S']) * req['m0']**2/req['E0']**2\n",
    "fb = req['Zbot']['1S'] / np.sqrt(req['Z0']['1S'] * req['Z0']['1S']) * req['m0']**2/req['E0']**2\n",
    "\n",
    "ra_corr = ra/fa\n",
    "rb_corr = ra/fb"
   ]
  },
  {
   "cell_type": "code",
   "execution_count": 10,
   "metadata": {},
   "outputs": [
    {
     "data": {
      "text/plain": [
       "array([0.0418(47), 0.0438(39), 0.0464(40), 0.0479(39), 0.0491(41),\n",
       "       0.0490(42), 0.0495(43), 0.0490(42), 0.0490(40), 0.0478(39),\n",
       "       0.0463(40), 0.0436(39), 0.0412(47)], dtype=object)"
      ]
     },
     "execution_count": 10,
     "metadata": {},
     "output_type": "execute_result"
    }
   ],
   "source": [
    "format(ra)"
   ]
  },
  {
   "cell_type": "code",
   "execution_count": 11,
   "metadata": {},
   "outputs": [
    {
     "data": {
      "text/plain": [
       "array([0.205(23), 0.215(19), 0.228(20), 0.235(19), 0.241(20), 0.241(21),\n",
       "       0.243(21), 0.241(21), 0.240(20), 0.235(19), 0.227(20), 0.214(19),\n",
       "       0.202(23)], dtype=object)"
      ]
     },
     "execution_count": 11,
     "metadata": {},
     "output_type": "execute_result"
    }
   ],
   "source": [
    "format(ra_corr)"
   ]
  },
  {
   "cell_type": "markdown",
   "metadata": {},
   "source": [
    "### smooth"
   ]
  },
  {
   "cell_type": "code",
   "execution_count": 12,
   "metadata": {},
   "outputs": [
    {
     "name": "stdout",
     "output_type": "stream",
     "text": [
      "e_deta = 3.2536365121100004\n",
      "e_detb = 3.589768583782076\n"
     ]
    }
   ],
   "source": [
    "e_deta = np.exp((req['E0']-req['m0'])*Ta)\n",
    "e_detb = np.exp((req['E0']-req['m0'])*Tb)\n",
    "\n",
    "print(f'{e_deta = }')\n",
    "print(f'{e_detb = }')"
   ]
  },
  {
   "cell_type": "code",
   "execution_count": 13,
   "metadata": {},
   "outputs": [],
   "source": [
    "ra1 = ra_corr*e_deta /2 + rb_corr*e_detb /4 + np.roll(rb_corr*e_detb ,-1,axis=1)/4"
   ]
  },
  {
   "cell_type": "code",
   "execution_count": 14,
   "metadata": {},
   "outputs": [
    {
     "data": {
      "text/plain": [
       "array([0.711(75), 0.747(66), 0.786(67), 0.810(67), 0.824(69), 0.826(71),\n",
       "       0.830(71), 0.824(70), 0.818(67), 0.796(66), 0.766(67), 0.723(68),\n",
       "       0.695(79)], dtype=object)"
      ]
     },
     "execution_count": 14,
     "metadata": {},
     "output_type": "execute_result"
    }
   ],
   "source": [
    "format(ra1)"
   ]
  },
  {
   "cell_type": "code",
   "execution_count": 19,
   "metadata": {},
   "outputs": [
    {
     "data": {
      "image/png": "[encoded data removed]",
      "text/plain": [
       "<Figure size 640x480 with 1 Axes>"
      ]
     },
     "metadata": {},
     "output_type": "display_data"
    }
   ],
   "source": [
    "fig, ax = plt.subplots(1,1)\n",
    "\n",
    "ax.errorbar(\n",
    "    np.arange(ra1.shape[1])+0.2,\n",
    "    ra1.mean(axis=0),\n",
    "    ra1.std(axis=0) * np.sqrt(ra1.shape[0]-1),\n",
    "    fmt='.'\n",
    ")\n",
    "\n",
    "\n",
    "io = RatioIO(ens,'RA1',mom,PathToDataDir=datadir)\n",
    "ra1obj = Ratio(io,jkBin=jk,**req,smearing=['1S'])\n",
    "ra1obj.plot(ax)"
   ]
  },
  {
   "cell_type": "markdown",
   "metadata": {},
   "source": [
    "## confront momenta"
   ]
  },
  {
   "cell_type": "code",
   "execution_count": 45,
   "metadata": {},
   "outputs": [],
   "source": [
    "file1 = RatioFileString('P5_A2_V2_',Ta,heavy,'1S',qq,light,'100')\n",
    "file2 = RatioFileString('P5_A3_V3_',Ta,heavy,'1S',qq,light,'100')\n",
    "n1 = np.array([\n",
    "    jkCorr(data[file1][:,:Ta+1], bsize=jk),\n",
    "    jkCorr(data[file2][:,:Ta+1], bsize=jk),\n",
    "])\n",
    "\n",
    "file1 = RatioFileString('P5_A2_V2_',Ta,heavy,'1S',qq,light,'300')\n",
    "file2 = RatioFileString('P5_A3_V3_',Ta,heavy,'1S',qq,light,'300')\n",
    "n2 = np.array([\n",
    "    jkCorr(data[file1][:,:Ta+1], bsize=jk),\n",
    "    jkCorr(data[file2][:,:Ta+1], bsize=jk),\n",
    "])"
   ]
  },
  {
   "cell_type": "code",
   "execution_count": 46,
   "metadata": {},
   "outputs": [
    {
     "data": {
      "text/plain": [
       "array([-9.88969179e-10, -2.11287834e-09, -4.69485661e-09, -1.04734922e-08,\n",
       "       -2.33956314e-08, -5.27287083e-08, -1.18105783e-07, -2.63717459e-07,\n",
       "       -5.88656909e-07, -1.31339180e-06, -2.93396101e-06, -6.52264548e-06,\n",
       "       -1.43327178e-05])"
      ]
     },
     "execution_count": 46,
     "metadata": {},
     "output_type": "execute_result"
    }
   ],
   "source": [
    "n1.sum(axis=0).mean(axis=0)"
   ]
  },
  {
   "cell_type": "code",
   "execution_count": 47,
   "metadata": {},
   "outputs": [
    {
     "data": {
      "text/plain": [
       "array([-4.91784192e-10, -9.49533041e-10, -1.96204433e-09, -4.02200146e-09,\n",
       "       -8.16236311e-09, -1.67090529e-08, -3.35534140e-08, -6.68157732e-08,\n",
       "       -1.36179967e-07, -2.69464036e-07, -5.32677728e-07, -1.03347372e-06,\n",
       "       -1.63828816e-06])"
      ]
     },
     "execution_count": 47,
     "metadata": {},
     "output_type": "execute_result"
    }
   ],
   "source": [
    "n2.sum(axis=0).mean(axis=0)"
   ]
  },
  {
   "cell_type": "markdown",
   "metadata": {},
   "source": [
    "# $R_{A_1}(\\mathbb{p}=0)$"
   ]
  },
  {
   "cell_type": "markdown",
   "metadata": {},
   "source": [
    "$$\n",
    " R_{A_1} = \\frac{ C_{B_{1S}\\rightarrow D^*_a}^{A_j}(\\mathbf{0},t,T) \\,\\, C_{D^*_a\\rightarrow B_{1S}}^{A_j}(\\mathbf{0},t,T) }{  C_{D^*_a\\rightarrow D^*_{1S}}^{V_4}(\\mathbf{0},t,T) \\,\\,   C_{B_{1S}\\rightarrow B_{1S}}^{V_4}(\\mathbf{0},t,T) } \\frac{Z_{D^*_a}(\\mathbf 0)}{\\sqrt{Z_{D^*_a}(0)Z_{D_{1S}^*}(0)}}\n",
    "$$ "
   ]
  },
  {
   "cell_type": "code",
   "execution_count": 7,
   "metadata": {},
   "outputs": [
    {
     "name": "stdout",
     "output_type": "stream",
     "text": [
      "file1 = 'P5_A1_V1_T12_k0.08574_RW_1S_rot_rot_m0.00507_k0.12201_p000'\n",
      "file2 = 'P5_A2_V2_T12_k0.08574_RW_1S_rot_rot_m0.00507_k0.12201_p000'\n",
      "file3 = 'P5_A3_V3_T12_k0.08574_RW_1S_rot_rot_m0.00507_k0.12201_p000'\n"
     ]
    }
   ],
   "source": [
    "file1 = RatioFileString('P5_A1_V1_',Ta,heavy,'1S',qq,light,'000')\n",
    "file2 = RatioFileString('P5_A2_V2_',Ta,heavy,'1S',qq,light,'000')\n",
    "file3 = RatioFileString('P5_A3_V3_',Ta,heavy,'1S',qq,light,'000')\n",
    "\n",
    "print(f'{file1 = }')\n",
    "print(f'{file2 = }')\n",
    "print(f'{file3 = }')\n",
    "\n",
    "n1a = np.array([\n",
    "    jkCorr(data[file1][:,:Ta+1], bsize=jk),\n",
    "    jkCorr(data[file2][:,:Ta+1], bsize=jk),\n",
    "    jkCorr(data[file3][:,:Ta+1], bsize=jk),\n",
    "])\n",
    "\n",
    "# ===================================================================\n",
    "file1 = RatioFileString('P5_A1_V1_',Tb,heavy,'1S',qq,light,'000')\n",
    "file2 = RatioFileString('P5_A2_V2_',Tb,heavy,'1S',qq,light,'000')\n",
    "file3 = RatioFileString('P5_A3_V3_',Tb,heavy,'1S',qq,light,'000')\n",
    "\n",
    "n1b = np.array([\n",
    "    jkCorr(data[file1][:,:Ta+1], bsize=jk),\n",
    "    jkCorr(data[file2][:,:Ta+1], bsize=jk),\n",
    "    jkCorr(data[file3][:,:Ta+1], bsize=jk),\n",
    "])"
   ]
  },
  {
   "cell_type": "code",
   "execution_count": 8,
   "metadata": {},
   "outputs": [
    {
     "name": "stdout",
     "output_type": "stream",
     "text": [
      "file1 = 'V1_A1_P5_T12_k0.12201_RW_1S_rot_rot_m0.00507_k0.08574_p000'\n",
      "file2 = 'V1_A2_P5_T12_k0.12201_RW_1S_rot_rot_m0.00507_k0.08574_p000'\n",
      "file3 = 'V1_A3_P5_T12_k0.12201_RW_1S_rot_rot_m0.00507_k0.08574_p000'\n"
     ]
    }
   ],
   "source": [
    "file1 = RatioFileString('V1_A1_P5_',Ta,light,'1S',qq,heavy,'000')\n",
    "file2 = RatioFileString('V1_A2_P5_',Ta,light,'1S',qq,heavy,'000')\n",
    "file3 = RatioFileString('V1_A3_P5_',Ta,light,'1S',qq,heavy,'000')\n",
    "\n",
    "print(f'{file1 = }')\n",
    "print(f'{file2 = }')\n",
    "print(f'{file3 = }')\n",
    "\n",
    "n2a = np.array([\n",
    "    jkCorr(data[file1][:,:Ta+1], bsize=jk),\n",
    "    jkCorr(data[file2][:,:Ta+1], bsize=jk),\n",
    "    jkCorr(data[file3][:,:Ta+1], bsize=jk),\n",
    "])\n",
    "\n",
    "\n",
    "# ===================================================================\n",
    "file1 = RatioFileString('V1_A1_P5_',Tb,light,'1S',qq,heavy,'000')\n",
    "file2 = RatioFileString('V1_A2_P5_',Tb,light,'1S',qq,heavy,'000')\n",
    "file3 = RatioFileString('V1_A3_P5_',Tb,light,'1S',qq,heavy,'000')\n",
    "\n",
    "n2b = np.array([\n",
    "    jkCorr(data[file1][:,:Ta+1], bsize=jk),\n",
    "    jkCorr(data[file2][:,:Ta+1], bsize=jk),\n",
    "    jkCorr(data[file3][:,:Ta+1], bsize=jk),\n",
    "])"
   ]
  },
  {
   "cell_type": "code",
   "execution_count": 9,
   "metadata": {},
   "outputs": [
    {
     "name": "stdout",
     "output_type": "stream",
     "text": [
      "file1 = 'V1_V4_V1_T12_k0.12201_RW_1S_rot_rot_m0.00507_k0.12201_p000'\n"
     ]
    }
   ],
   "source": [
    "file1 = RatioFileString('V1_V4_V1_',Ta,light,'1S',qq,light,'000')\n",
    "\n",
    "print(f'{file1 = }')\n",
    "\n",
    "d1a = jkCorr(data[file1][:,:Ta+1], bsize=jk)\n",
    "\n",
    "\n",
    "# ================================================================\n",
    "file1 = RatioFileString('V1_V4_V1_',Tb,light,'1S',qq,light,'000')\n",
    "d1b = jkCorr(data[file1][:,:Ta+1], bsize=jk)"
   ]
  },
  {
   "cell_type": "code",
   "execution_count": 10,
   "metadata": {},
   "outputs": [
    {
     "name": "stdout",
     "output_type": "stream",
     "text": [
      "file1 = 'P5_V4_P5_T12_k0.08574_RW_1S_rot_rot_m0.00507_k0.08574_p000'\n"
     ]
    }
   ],
   "source": [
    "file1 = RatioFileString('P5_V4_P5_',Ta,heavy,'1S',qq,heavy,'000')\n",
    "\n",
    "print(f'{file1 = }')\n",
    "\n",
    "d2a = jkCorr(data[file1][:,:Ta+1],bsize=jk)\n",
    "\n",
    "\n",
    "# ================================================================\n",
    "file1 = RatioFileString('P5_V4_P5_',Tb,heavy,'1S',qq,heavy,'000')\n",
    "d2b = jkCorr(data[file1][:,:Ta+1],bsize=jk)"
   ]
  },
  {
   "cell_type": "code",
   "execution_count": 11,
   "metadata": {},
   "outputs": [],
   "source": [
    "ra = (n1a*n2a).sum(axis=0)/d1a/d2a\n",
    "rb = (n1b*n2b).sum(axis=0)/d1b/d2b"
   ]
  },
  {
   "cell_type": "markdown",
   "metadata": {},
   "source": [
    "### smooth"
   ]
  },
  {
   "cell_type": "code",
   "execution_count": 12,
   "metadata": {},
   "outputs": [],
   "source": [
    "ra1 = ra/2 + rb/4 + np.roll(rb,-1,axis=1)/4"
   ]
  },
  {
   "cell_type": "code",
   "execution_count": 13,
   "metadata": {},
   "outputs": [
    {
     "data": {
      "text/plain": [
       "array([-0.96981419, -0.83673726, -0.83158114, -0.82871928, -0.82533275,\n",
       "       -0.82561106, -0.82497621, -0.82858643, -0.83463746, -0.84075337,\n",
       "       -0.85173603, -0.86519267, -0.97390577])"
      ]
     },
     "execution_count": 13,
     "metadata": {},
     "output_type": "execute_result"
    }
   ],
   "source": [
    "ra1.mean(axis=0)"
   ]
  },
  {
   "cell_type": "markdown",
   "metadata": {},
   "source": [
    "## build-in"
   ]
  },
  {
   "cell_type": "code",
   "execution_count": 17,
   "metadata": {},
   "outputs": [],
   "source": [
    "io = RatioIO(ens,'ZRA1','000',PathToDataDir='/Users/pietro/code/data_analysis/BtoD/Alex/')\n",
    "\n",
    "req = ratio_prerequisites(ens,'ZRA1','000',readfrom=frm)\n",
    "zra1 = Ratio(io,jkBin=11,smearing=['1S','RW'],**req)"
   ]
  },
  {
   "cell_type": "code",
   "execution_count": 18,
   "metadata": {},
   "outputs": [
    {
     "data": {
      "text/plain": [
       "(array([ 0,  1,  2,  3,  4,  5,  6,  7,  8,  9, 10, 11, 12]),\n",
       " {'1S': array([-0.970(23), -0.837(19), -0.832(19), -0.829(19), -0.825(18),\n",
       "         -0.826(19), -0.825(19), -0.829(19), -0.835(19), -0.841(19),\n",
       "         -0.852(20), -0.865(20), -0.996(23)], dtype=object),\n",
       "  'RW': array([-0.1004(26), -0.0761(19), -0.0767(20), -0.0774(22), -0.0776(23),\n",
       "         -0.0779(24), -0.0786(27), -0.0795(29), -0.0804(30), -0.0810(30),\n",
       "         -0.0820(29), -0.0836(29), -0.0940(32)], dtype=object)})"
      ]
     },
     "execution_count": 18,
     "metadata": {},
     "output_type": "execute_result"
    }
   ],
   "source": [
    "zra1.format()"
   ]
  },
  {
   "cell_type": "code",
   "execution_count": 19,
   "metadata": {},
   "outputs": [
    {
     "data": {
      "text/plain": [
       "{'E0': 1.0811885828863745,\n",
       " 'm0': 1.0811885828863745,\n",
       " 'Z0': {'1S': 4.834848433376765, 'd': 0.04165271597466671},\n",
       " 'Zpar': {'1S': None, 'd': None},\n",
       " 'Zbot': {'1S': None, 'd': None},\n",
       " 'Zp': {'1S': None, 'd': None},\n",
       " 'wrecoil': 1.0,\n",
       " 'jk': False}"
      ]
     },
     "execution_count": 19,
     "metadata": {},
     "output_type": "execute_result"
    }
   ],
   "source": [
    "req"
   ]
  },
  {
   "cell_type": "markdown",
   "metadata": {},
   "source": [
    "# other checks"
   ]
  },
  {
   "cell_type": "code",
   "execution_count": 145,
   "metadata": {},
   "outputs": [
    {
     "data": {
      "text/plain": [
       "<ErrorbarContainer object of 3 artists>"
      ]
     },
     "execution_count": 145,
     "metadata": {},
     "output_type": "execute_result"
    },
    {
     "data": {
      "image/png": "[encoded data removed]",
      "text/plain": [
       "<Figure size 640x480 with 1 Axes>"
      ]
     },
     "metadata": {},
     "output_type": "display_data"
    }
   ],
   "source": [
    "file1 = RatioFileString('P5_A2_V2_',Ta,heavy,'1S',qq,light,'100')\n",
    "file2 = RatioFileString('P5_A2_V2_',Ta,heavy,'1S',qq,light,'200')\n",
    "file3 = RatioFileString('P5_A2_V2_',Ta,heavy,'1S',qq,light,'300')\n",
    "\n",
    "n1 = jkCorr(data[file1][:], bsize=jk)\n",
    "n2 = jkCorr(data[file2][:], bsize=jk)\n",
    "n3 = jkCorr(data[file3][:], bsize=jk)\n",
    "\n",
    "tmax = 15\n",
    "plt.errorbar(range(tmax),n1[:,:tmax].mean(axis=0),n1[:,:tmax].std(axis=0)*np.sqrt(tmax-1),fmt='.')\n",
    "plt.errorbar(range(tmax),n2[:,:tmax].mean(axis=0),n2[:,:tmax].std(axis=0)*np.sqrt(tmax-1),fmt='.')\n",
    "plt.errorbar(range(tmax),n3[:,:tmax].mean(axis=0),n3[:,:tmax].std(axis=0)*np.sqrt(tmax-1),fmt='.')"
   ]
  },
  {
   "cell_type": "code",
   "execution_count": 143,
   "metadata": {},
   "outputs": [
    {
     "data": {
      "text/plain": [
       "<ErrorbarContainer object of 3 artists>"
      ]
     },
     "execution_count": 143,
     "metadata": {},
     "output_type": "execute_result"
    },
    {
     "data": {
      "image/png": "[encoded data removed]",
      "text/plain": [
       "<Figure size 640x480 with 1 Axes>"
      ]
     },
     "metadata": {},
     "output_type": "display_data"
    }
   ],
   "source": [
    "file1 = RatioFileString('P5_V4_P5_',Ta,heavy,'1S',qq,heavy,'000')\n",
    "\n",
    "n1 = jkCorr(data[file1][:], bsize=jk)\n",
    "\n",
    "tmax = 15\n",
    "plt.errorbar(range(tmax),n1[:,:tmax].mean(axis=0),n1[:,:tmax].std(axis=0)*np.sqrt(tmax-1),fmt='.')"
   ]
  },
  {
   "cell_type": "code",
   "execution_count": 154,
   "metadata": {},
   "outputs": [
    {
     "name": "stdout",
     "output_type": "stream",
     "text": [
      "0.94(28)\n",
      "1.00(31)\n",
      "0.66(33)\n"
     ]
    }
   ],
   "source": [
    "frm = '/Users/pietro/code/data_analysis/data/QCDNf2p1stag/B2heavy/lattice24'\n",
    "\n",
    "p0 = read_config_fit(f'fit2pt_config_{ens}_Dst_000',jk=False,path=frm)[-1]\n",
    "m0 = p0['E'][0]\n",
    "Z0_1S = np.exp(p0['Z_1S_Unpol'][0])**2 * 2 * m0\n",
    "Z0_d  = np.exp(p0['Z_d_Unpol' ][0])**2 * 2 * m0\n",
    "\n",
    "for mom in ['100','200','300']:\n",
    "    p2 = read_config_fit(f'fit2pt_config_{ens}_Dst_{mom}',jk=False,path=frm)[-1]\n",
    "\n",
    "    e0 = p2['E'][0]\n",
    "    Zp_1S = np.exp(p2['Z_1S_Bot'][0])**2 * 2 * e0\n",
    "    Zp_d = np.exp(p2['Z_d_Bot'  ][0])**2 * 2 * e0\n",
    "\n",
    "    fa = Zp_1S / np.sqrt(Z0_1S * Z0_1S) * m0**2/e0**2 * np.exp((e0-m0)*Ta)\n",
    "\n",
    "    print(fa)\n"
   ]
  },
  {
   "cell_type": "markdown",
   "metadata": {},
   "source": [
    "# $R_+$"
   ]
  },
  {
   "cell_type": "markdown",
   "metadata": {},
   "source": [
    "$$\n",
    "    \\frac{\n",
    "        C^{V_4}_{B_{1S}\\rightarrow D_a} (\\mathbf 0, t) C^{V_4}_{D_a\\rightarrow B_{1S}} (\\mathbf 0, t)\n",
    "    }{\n",
    "        C^{V_4}_{D_a\\rightarrow D_a} (\\mathbf 0, t) C^{V_4}_{B_{1S}\\rightarrow B_{1S}} (\\mathbf 0, t)\n",
    "    }\n",
    "$$"
   ]
  },
  {
   "cell_type": "markdown",
   "metadata": {},
   "source": [
    "### from scratch"
   ]
  },
  {
   "cell_type": "code",
   "execution_count": 7,
   "metadata": {},
   "outputs": [],
   "source": [
    "from b2heavy.ThreePointFunctions.types3pts import RatioFileString, RatioIO, Ratio, ratio_prerequisites, ratio_correction_factor\n",
    "from b2heavy.TwoPointFunctions.utils import jkCorr\n",
    "from b2heavy.FnalHISQMetadata import params\n",
    "\n",
    "ens = 'Coarse-1'\n",
    "mom = '300'\n",
    "jk  = 11\n",
    "\n",
    "mdata = params(ens)\n",
    "Ta,Tb = mdata['hSinks']\n",
    "\n",
    "heavy = '_k' + mdata['kBStr']\n",
    "light = '_k' + mdata['kDStr']\n",
    "qq    = '_m' + mdata['mlStr']\n",
    "\n",
    "data = h5py.File(f'/Users/pietro/code/data_analysis/BtoD/Alex/Ensembles/FnalHISQ/a0.12/{mdata[\"hdf5File2\"]}')\n",
    "data = data['data']"
   ]
  },
  {
   "cell_type": "code",
   "execution_count": 17,
   "metadata": {},
   "outputs": [
    {
     "name": "stdout",
     "output_type": "stream",
     "text": [
      "file1 = 'P5_V4_P5_T12_k0.08574_RW_1S_rot_rot_m0.00507_k0.12201_p000'\n",
      "file2 = 'P5_V4_P5_T12_k0.12201_RW_1S_rot_rot_m0.00507_k0.08574_p000'\n",
      "file3 = 'P5_V4_P5_T12_k0.08574_RW_1S_rot_rot_m0.00507_k0.08574_p000'\n",
      "file4 = 'P5_V4_P5_T12_k0.12201_RW_1S_rot_rot_m0.00507_k0.12201_p000'\n"
     ]
    }
   ],
   "source": [
    "file1 = RatioFileString('P5_V4_P5_',Ta,heavy,'1S',qq,light,'000')\n",
    "file2 = RatioFileString('P5_V4_P5_',Ta,light,'1S',qq,heavy,'000')\n",
    "file3 = RatioFileString('P5_V4_P5_',Ta,heavy,'1S',qq,heavy,'000')\n",
    "file4 = RatioFileString('P5_V4_P5_',Ta,light,'1S',qq,light,'000')\n",
    "print(f'{file1 = }')\n",
    "print(f'{file2 = }')\n",
    "print(f'{file3 = }')\n",
    "print(f'{file4 = }')\n",
    "\n",
    "n1a = jkCorr(data[file1][:,:Ta+1], bsize=jk)\n",
    "n2a = jkCorr(data[file2][:,:Ta+1], bsize=jk)\n",
    "d1a = jkCorr(data[file3][:,:Ta+1], bsize=jk)\n",
    "d2a = jkCorr(data[file4][:,:Ta+1], bsize=jk)\n",
    "\n",
    "\n",
    "\n",
    "# ==================================================================\n",
    "file1 = RatioFileString('P5_V4_P5_',Tb,heavy,'1S',qq,light,'000')\n",
    "file2 = RatioFileString('P5_V4_P5_',Tb,light,'1S',qq,heavy,'000')\n",
    "file3 = RatioFileString('P5_V4_P5_',Tb,heavy,'1S',qq,heavy,'000')\n",
    "file4 = RatioFileString('P5_V4_P5_',Tb,light,'1S',qq,light,'000')\n",
    "\n",
    "n1b = jkCorr(data[file1][:,:Ta+1], bsize=jk)\n",
    "n2b = jkCorr(data[file2][:,:Ta+1], bsize=jk)\n",
    "d1b = jkCorr(data[file3][:,:Ta+1], bsize=jk)\n",
    "d2b = jkCorr(data[file4][:,:Ta+1], bsize=jk)"
   ]
  },
  {
   "cell_type": "code",
   "execution_count": 23,
   "metadata": {},
   "outputs": [],
   "source": [
    "ra = n1a * n2a / d1a / d2a\n",
    "rb = n1b * n2b / d1b / d2b\n",
    "\n",
    "ratio = ra/2 + rb/4 + np.roll(rb,-1,axis=1)/4"
   ]
  },
  {
   "cell_type": "markdown",
   "metadata": {},
   "source": [
    "### custom"
   ]
  },
  {
   "cell_type": "code",
   "execution_count": 27,
   "metadata": {},
   "outputs": [],
   "source": [
    "req = {}"
   ]
  },
  {
   "cell_type": "code",
   "execution_count": 30,
   "metadata": {},
   "outputs": [],
   "source": [
    "io = RatioIO(ens,'RPLUS','000',PathToDataDir='/Users/pietro/code/data_analysis/BtoD/Alex/')\n",
    "r  = Ratio(io,jkBin=jk,smearing=['1S','RW'],**req)"
   ]
  },
  {
   "cell_type": "code",
   "execution_count": 32,
   "metadata": {},
   "outputs": [],
   "source": [
    "x,y,ally = r.format(alljk=True)"
   ]
  },
  {
   "cell_type": "code",
   "execution_count": 35,
   "metadata": {},
   "outputs": [
    {
     "data": {
      "text/plain": [
       "array([[0.9561461 , 0.99287618, 0.99814876, ..., 1.00466565, 1.0010547 ,\n",
       "        0.97927631],\n",
       "       [0.95652279, 0.99345901, 0.99874712, ..., 1.00425573, 1.00076433,\n",
       "        0.97898242],\n",
       "       [0.95600751, 0.99276406, 0.99789298, ..., 1.00326228, 0.99971866,\n",
       "        0.97828827],\n",
       "       ...,\n",
       "       [0.9561136 , 0.99309764, 0.9978351 , ..., 1.00324414, 1.00063135,\n",
       "        0.97915   ],\n",
       "       [0.95672069, 0.99384134, 0.99901697, ..., 1.00425852, 1.00108543,\n",
       "        0.97934073],\n",
       "       [0.95740169, 0.9945075 , 0.99991189, ..., 1.00440092, 1.00081593,\n",
       "        0.97934325]])"
      ]
     },
     "execution_count": 35,
     "metadata": {},
     "output_type": "execute_result"
    }
   ],
   "source": [
    "ally['RW']"
   ]
  },
  {
   "cell_type": "code",
   "execution_count": 37,
   "metadata": {},
   "outputs": [
    {
     "data": {
      "text/plain": [
       "array([0.9837(27), 1.0031(31), 1.0058(37), 1.0075(44), 1.0078(47),\n",
       "       1.0074(50), 1.0076(49), 1.0062(46), 1.0054(40), 1.0049(34),\n",
       "       1.0041(26), 1.0035(21), 0.9838(17)], dtype=object)"
      ]
     },
     "execution_count": 37,
     "metadata": {},
     "output_type": "execute_result"
    }
   ],
   "source": [
    "y['1S']"
   ]
  },
  {
   "cell_type": "code",
   "execution_count": 34,
   "metadata": {},
   "outputs": [
    {
     "data": {
      "text/plain": [
       "array([[0.9836884 , 1.00318526, 1.00613508, ..., 1.00434346, 1.00360958,\n",
       "        0.9827658 ],\n",
       "       [0.98324744, 1.00257811, 1.00529675, ..., 1.00414267, 1.0035227 ,\n",
       "        0.98263323],\n",
       "       [0.98372437, 1.0029683 , 1.00558839, ..., 1.00437818, 1.00371223,\n",
       "        0.98307041],\n",
       "       ...,\n",
       "       [0.98390153, 1.00335255, 1.00590368, ..., 1.00409954, 1.00356922,\n",
       "        0.98292618],\n",
       "       [0.98370048, 1.00291886, 1.00541615, ..., 1.0041642 , 1.00361514,\n",
       "        0.98281041],\n",
       "       [0.98391301, 1.0032247 , 1.00585661, ..., 1.00387815, 1.00330996,\n",
       "        0.98285926]])"
      ]
     },
     "execution_count": 34,
     "metadata": {},
     "output_type": "execute_result"
    }
   ],
   "source": [
    "ratio"
   ]
  },
  {
   "cell_type": "markdown",
   "metadata": {},
   "source": [
    "# $R_-$"
   ]
  },
  {
   "cell_type": "markdown",
   "metadata": {},
   "source": [
    "$$\n",
    "    \\frac{\n",
    "        C^{V_i}_{B_{1S}\\rightarrow D_a} (\\mathbf p, t) \n",
    "    }{\n",
    "        C^{V_4}_{B_{1S}\\rightarrow D_a} (\\mathbf p, t) \n",
    "    }\n",
    "$$"
   ]
  },
  {
   "cell_type": "code",
   "execution_count": 96,
   "metadata": {},
   "outputs": [],
   "source": [
    "from b2heavy.ThreePointFunctions.types3pts import RatioFileString, RatioIO, Ratio, ratio_prerequisites, ratio_correction_factor\n",
    "from b2heavy.TwoPointFunctions.utils import jkCorr\n",
    "from b2heavy.FnalHISQMetadata import params\n",
    "\n",
    "ens = 'SuperFine'\n",
    "mom = '100'\n",
    "jk  = 11\n",
    "\n",
    "mdata = params(ens)\n",
    "Ta,Tb = mdata['hSinks']\n",
    "\n",
    "heavy = '_k' + mdata['kBStr']\n",
    "light = '_k' + mdata['kDStr']\n",
    "qq    = '_m' + mdata['mlStr']\n",
    "\n",
    "data = h5py.File(f'/Users/pietro/code/data_analysis/BtoD/Alex/Ensembles/FnalHISQ/a0.057/{mdata[\"hdf5File2\"]}')\n",
    "data = data['data']"
   ]
  },
  {
   "cell_type": "code",
   "execution_count": 98,
   "metadata": {},
   "outputs": [
    {
     "name": "stdout",
     "output_type": "stream",
     "text": [
      "file1 = 'P5_V1_P5_T24_k0.10604_RW_1S_rot_rot_m0.0008_k0.129311_p100'\n",
      "file2 = 'P5_V4_P5_T24_k0.10604_RW_1S_rot_rot_m0.0008_k0.129311_p100'\n",
      "file1 = 'P5_V1_P5_T25_k0.10604_RW_1S_rot_rot_m0.0008_k0.129311_p100'\n",
      "file2 = 'P5_V4_P5_T25_k0.10604_RW_1S_rot_rot_m0.0008_k0.129311_p100'\n"
     ]
    }
   ],
   "source": [
    "file1 = RatioFileString('P5_V1_P5_',Ta,heavy,'1S',qq,light,mom)\n",
    "file2 = RatioFileString('P5_V4_P5_',Ta,heavy,'1S',qq,light,mom)\n",
    "print(f'{file1 = }')\n",
    "print(f'{file2 = }')\n",
    "\n",
    "n1a = jkCorr(data[file1][:,:Ta+1], bsize=jk)\n",
    "d1a = jkCorr(data[file2][:,:Ta+1], bsize=jk)\n",
    "\n",
    "\n",
    "# ==================================================================\n",
    "file1 = RatioFileString('P5_V1_P5_',Tb,heavy,'1S',qq,light,mom)\n",
    "file2 = RatioFileString('P5_V4_P5_',Tb,heavy,'1S',qq,light,mom)\n",
    "print(f'{file1 = }')\n",
    "print(f'{file2 = }')\n",
    "\n",
    "n1b = jkCorr(data[file1][:,:Ta+1], bsize=jk)\n",
    "d1b = jkCorr(data[file2][:,:Ta+1], bsize=jk)"
   ]
  },
  {
   "cell_type": "code",
   "execution_count": 101,
   "metadata": {},
   "outputs": [],
   "source": [
    "ra = n1a / d1a\n",
    "rb = n1b / d1b\n",
    "\n",
    "ratio = ra/2 + rb/4 + np.roll(rb,-1,axis=1)/4"
   ]
  },
  {
   "cell_type": "code",
   "execution_count": 102,
   "metadata": {},
   "outputs": [
    {
     "data": {
      "text/plain": [
       "array([[-0.10654557, -0.05023014, -0.05397524, ..., -0.06470621,\n",
       "        -0.06359836, -0.12315194],\n",
       "       [-0.10631624, -0.05056947, -0.05421862, ..., -0.06470421,\n",
       "        -0.06362187, -0.12383378],\n",
       "       [-0.10659962, -0.05044445, -0.05417375, ..., -0.06487772,\n",
       "        -0.06370537, -0.12402263],\n",
       "       ...,\n",
       "       [-0.10692535, -0.05080583, -0.05471515, ..., -0.06473423,\n",
       "        -0.06358821, -0.12353786],\n",
       "       [-0.10650663, -0.05059793, -0.05431058, ..., -0.0647516 ,\n",
       "        -0.06368461, -0.12342961],\n",
       "       [-0.10598105, -0.0511101 , -0.05469335, ..., -0.06480461,\n",
       "        -0.06369339, -0.12348902]])"
      ]
     },
     "execution_count": 102,
     "metadata": {},
     "output_type": "execute_result"
    }
   ],
   "source": [
    "ratio"
   ]
  },
  {
   "cell_type": "code",
   "execution_count": 103,
   "metadata": {},
   "outputs": [],
   "source": [
    "io = RatioIO(ens,'R-',mom,PathToDataDir='/Users/pietro/code/data_analysis/BtoD/Alex/')\n",
    "r  = Ratio(io,jkBin=jk,smearing=['1S','RW'],**{})"
   ]
  },
  {
   "cell_type": "code",
   "execution_count": 104,
   "metadata": {},
   "outputs": [
    {
     "data": {
      "text/plain": [
       "<ErrorbarContainer object of 3 artists>"
      ]
     },
     "execution_count": 104,
     "metadata": {},
     "output_type": "execute_result"
    },
    {
     "data": {
      "image/png": "[encoded data removed]",
      "text/plain": [
       "<Figure size 640x480 with 1 Axes>"
      ]
     },
     "metadata": {},
     "output_type": "display_data"
    }
   ],
   "source": [
    "plt.errorbar(\n",
    "    np.arange(ratio.shape[1]),\n",
    "    gv.mean(format(ratio)),\n",
    "    gv.sdev(format(ratio)),\n",
    "    fmt='.'\n",
    ")\n",
    "\n",
    "\n",
    "x = r.format()[1]['1S']\n",
    "plt.errorbar(\n",
    "    np.arange(ratio.shape[1])+0.1,\n",
    "    gv.mean(x),\n",
    "    gv.sdev(x),\n",
    "    fmt='.'\n",
    ")\n"
   ]
  },
  {
   "cell_type": "markdown",
   "metadata": {},
   "source": [
    "# $Q_+$"
   ]
  },
  {
   "cell_type": "code",
   "execution_count": 13,
   "metadata": {},
   "outputs": [],
   "source": [
    "from b2heavy.ThreePointFunctions.types3pts import RatioFileString, RatioIO, Ratio, ratio_prerequisites, ratio_correction_factor\n",
    "from b2heavy.TwoPointFunctions.utils import jkCorr\n",
    "from b2heavy.FnalHISQMetadata import params\n",
    "\n",
    "ens = 'SuperFine'\n",
    "mom = '300'\n",
    "jk  = 11\n",
    "\n",
    "mdata = params(ens)\n",
    "Ta,Tb = mdata['hSinks']\n",
    "\n",
    "heavy = '_k' + mdata['kBStr']\n",
    "light = '_k' + mdata['kDStr']\n",
    "qq    = '_m' + mdata['mlStr']\n",
    "\n",
    "data = h5py.File(f'/Users/pietro/code/data_analysis/BtoD/Alex/Ensembles/FnalHISQ/a0.057/{mdata[\"hdf5File2\"]}')\n",
    "data = data['data']"
   ]
  },
  {
   "cell_type": "code",
   "execution_count": 14,
   "metadata": {},
   "outputs": [
    {
     "name": "stdout",
     "output_type": "stream",
     "text": [
      "file1 = 'P5_V4_P5_T24_k0.10604_RW_1S_rot_rot_m0.0008_k0.129311_p300'\n",
      "file2 = 'P5_V4_P5_T24_k0.10604_RW_1S_rot_rot_m0.0008_k0.129311_p000'\n",
      "file1 = 'P5_V4_P5_T25_k0.10604_RW_1S_rot_rot_m0.0008_k0.129311_p300'\n",
      "file2 = 'P5_V4_P5_T25_k0.10604_RW_1S_rot_rot_m0.0008_k0.129311_p000'\n"
     ]
    }
   ],
   "source": [
    "file1 = RatioFileString('P5_V4_P5_',Ta,heavy,'1S',qq,light,mom)\n",
    "file2 = RatioFileString('P5_V4_P5_',Ta,heavy,'1S',qq,light,'000')\n",
    "print(f'{file1 = }')\n",
    "print(f'{file2 = }')\n",
    "\n",
    "n1a = jkCorr(data[file1][:,:Ta+1], bsize=jk)\n",
    "d1a = jkCorr(data[file2][:,:Ta+1], bsize=jk)\n",
    "\n",
    "\n",
    "# ==================================================================\n",
    "file1 = RatioFileString('P5_V4_P5_',Tb,heavy,'1S',qq,light,mom)\n",
    "file2 = RatioFileString('P5_V4_P5_',Tb,heavy,'1S',qq,light,'000')\n",
    "print(f'{file1 = }')\n",
    "print(f'{file2 = }')\n",
    "\n",
    "n1b = jkCorr(data[file1][:,:Ta+1], bsize=jk)\n",
    "d1b = jkCorr(data[file2][:,:Ta+1], bsize=jk)\n"
   ]
  },
  {
   "cell_type": "code",
   "execution_count": 15,
   "metadata": {},
   "outputs": [],
   "source": [
    "ra = n1a / d1a\n",
    "rb = n1b / d1b"
   ]
  },
  {
   "cell_type": "code",
   "execution_count": 16,
   "metadata": {},
   "outputs": [
    {
     "data": {
      "text/plain": [
       "array([[0.66467699, 0.6600799 , 0.64347036, ..., 0.34004892, 0.32976616,\n",
       "        0.34090969],\n",
       "       [0.66399642, 0.65955015, 0.64289757, ..., 0.33969193, 0.32944644,\n",
       "        0.34029372],\n",
       "       [0.66460021, 0.66002598, 0.64339474, ..., 0.34006424, 0.32977325,\n",
       "        0.3407044 ],\n",
       "       ...,\n",
       "       [0.6641293 , 0.65985623, 0.64318571, ..., 0.33998665, 0.32969927,\n",
       "        0.34059994],\n",
       "       [0.66294833, 0.65858201, 0.64202277, ..., 0.33947306, 0.32920382,\n",
       "        0.34007778],\n",
       "       [0.66374283, 0.65918263, 0.64246853, ..., 0.33978127, 0.32951031,\n",
       "        0.3406497 ]])"
      ]
     },
     "execution_count": 16,
     "metadata": {},
     "output_type": "execute_result"
    }
   ],
   "source": [
    "ra"
   ]
  },
  {
   "cell_type": "code",
   "execution_count": 17,
   "metadata": {},
   "outputs": [],
   "source": [
    "from b2heavy.ThreePointFunctions.utils import read_config_fit\n",
    "\n",
    "frm = '/Users/pietro/code/data_analysis/data/QCDNf2p1stag/B2heavy/lattice24'\n",
    "\n",
    "p2 = read_config_fit(f'fit2pt_config_{ens}_D_{mom}',jk=False,path=frm)[-1]\n",
    "p0 = read_config_fit(f'fit2pt_config_{ens}_D_000',  jk=False,path=frm)[-1]\n",
    "\n",
    "e0 = p2['E'][0].mean\n",
    "m0 = p0['E'][0].mean\n",
    "Z0 = (np.exp(p0['Z_1S_Unpol'][0])**2).mean * 2 * m0\n",
    "Zp = (np.exp(p2['Z_1S_Unpol'][0])**2).mean * 2 * e0\n",
    "\n",
    "fac   = e0/m0 * Z0/Zp\n",
    "fexp = np.exp((e0-m0)*np.arange(ra.shape[-1]))\n"
   ]
  },
  {
   "cell_type": "code",
   "execution_count": 18,
   "metadata": {},
   "outputs": [
    {
     "name": "stdout",
     "output_type": "stream",
     "text": [
      "e0 = 0.5538553818802874\n",
      "m0 = 0.519353506885909\n",
      "Z0 = 2.43979214056965\n",
      "Zp = 1.646283195725044\n"
     ]
    }
   ],
   "source": [
    "print(f'{e0 = }')\n",
    "print(f'{m0 = }')\n",
    "print(f'{Z0 = }')\n",
    "print(f'{Zp = }')"
   ]
  },
  {
   "cell_type": "code",
   "execution_count": 19,
   "metadata": {},
   "outputs": [
    {
     "data": {
      "text/plain": [
       "array([[1.06927937, 1.09340845, 1.10438275, ..., 1.17551197, 1.18036733,\n",
       "        1.55131707],\n",
       "       [1.06691279, 1.09106874, 1.1020096 , ..., 1.17522652, 1.18018425,\n",
       "        1.54835999],\n",
       "       [1.06874083, 1.09289612, 1.10387044, ..., 1.17512729, 1.1799285 ,\n",
       "        1.55017836],\n",
       "       ...,\n",
       "       [1.06794129, 1.09226868, 1.10306141, ..., 1.17458089, 1.17939425,\n",
       "        1.54927297],\n",
       "       [1.06744134, 1.09175239, 1.10282183, ..., 1.17534119, 1.18009513,\n",
       "        1.54962118],\n",
       "       [1.06838981, 1.09258402, 1.10349598, ..., 1.1755458 , 1.18034039,\n",
       "        1.55083548]])"
      ]
     },
     "execution_count": 19,
     "metadata": {},
     "output_type": "execute_result"
    }
   ],
   "source": [
    "ra_c = ra * fac\n",
    "rb_c = rb * fac\n",
    "\n",
    "ratio = (ra_c/2 + rb_c/4 + np.roll(rb_c,-1,axis=1)/4) * fexp\n",
    "\n",
    "ratio"
   ]
  },
  {
   "cell_type": "code",
   "execution_count": 20,
   "metadata": {},
   "outputs": [],
   "source": [
    "io = RatioIO(ens,'QPLUS',mom,PathToDataDir='/Users/pietro/code/data_analysis/BtoD/Alex/')\n",
    "req = ratio_prerequisites(ens,'QPLUS',mom,readfrom=frm)\n",
    "r  = Ratio(io,jkBin=jk,smearing=['1S','RW'],**req)"
   ]
  },
  {
   "cell_type": "code",
   "execution_count": 21,
   "metadata": {},
   "outputs": [
    {
     "data": {
      "text/plain": [
       "<matplotlib.legend.Legend at 0x141effdd0>"
      ]
     },
     "execution_count": 21,
     "metadata": {},
     "output_type": "execute_result"
    },
    {
     "data": {
      "image/png": "[encoded data removed]",
      "text/plain": [
       "<Figure size 640x480 with 1 Axes>"
      ]
     },
     "metadata": {},
     "output_type": "display_data"
    }
   ],
   "source": [
    "plt.errorbar(\n",
    "    np.arange(ratio.shape[1]),\n",
    "    gv.mean(format(ratio)),\n",
    "    gv.sdev(format(ratio)),\n",
    "    fmt='.',\n",
    "    label='from scratch'\n",
    ")\n",
    "\n",
    "\n",
    "x = r.format()[1]['1S']\n",
    "plt.errorbar(\n",
    "    np.arange(ratio.shape[1])+0.1,\n",
    "    gv.mean(x),\n",
    "    gv.sdev(x),\n",
    "    fmt='.'\n",
    ")\n",
    "\n",
    "plt.legend()"
   ]
  },
  {
   "cell_type": "code",
   "execution_count": null,
   "metadata": {},
   "outputs": [],
   "source": []
  }
 ],
 "metadata": {
  "kernelspec": {
   "display_name": "Python 3.11.4 ('stat')",
   "language": "python",
   "name": "python3"
  },
  "language_info": {
   "codemirror_mode": {
    "name": "ipython",
    "version": 3
   },
   "file_extension": ".py",
   "mimetype": "text/x-python",
   "name": "python",
   "nbconvert_exporter": "python",
   "pygments_lexer": "ipython3",
   "version": "3.11.4"
  },
  "orig_nbformat": 4,
  "vscode": {
   "interpreter": {
    "hash": "550906e9926f0f588aff226d3abadfa0c6a614c1c5eae7bfa21377021c1cb7ed"
   }
  }
 },
 "nbformat": 4,
 "nbformat_minor": 2
}
