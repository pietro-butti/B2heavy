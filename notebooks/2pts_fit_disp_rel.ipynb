{
 "cells": [
  {
   "cell_type": "code",
   "execution_count": 1,
   "metadata": {},
   "outputs": [],
   "source": [
    "import argparse\n",
    "import pickle\n",
    "import sys\n",
    "import tomllib\n",
    "import os\n",
    "import datetime\n",
    "import gvar as gv\n",
    "import numpy as np\n",
    "import matplotlib.pyplot as plt\n",
    "from scipy.optimize import curve_fit\n",
    "\n",
    "sys.path.append('..')\n",
    "from routines.corr_fit_dispersion_relation import *"
   ]
  },
  {
   "cell_type": "code",
   "execution_count": 42,
   "metadata": {},
   "outputs": [],
   "source": [
    "ensemble   = 'MediumCoarse'\n",
    "meson   = 'D'\n",
    "jk    = True\n",
    "readfrom = '/Users/pietro/code/data_analysis/BtoD/PROCESSED_DATA/01-01-2023/MediumCoarse' "
   ]
  },
  {
   "cell_type": "code",
   "execution_count": 51,
   "metadata": {},
   "outputs": [
    {
     "ename": "ValueError",
     "evalue": "not enough values to unpack (expected 2, got 1)",
     "output_type": "error",
     "traceback": [
      "\u001b[0;31m---------------------------------------------------------------------------\u001b[0m",
      "\u001b[0;31mValueError\u001b[0m                                Traceback (most recent call last)",
      "Cell \u001b[0;32mIn[51], line 1\u001b[0m\n\u001b[0;32m----> 1\u001b[0m E \u001b[38;5;241m=\u001b[39m \u001b[43mextract_energies\u001b[49m\u001b[43m(\u001b[49m\n\u001b[1;32m      2\u001b[0m \u001b[43m    \u001b[49m\u001b[43mensemble\u001b[49m\u001b[43m \u001b[49m\u001b[38;5;241;43m=\u001b[39;49m\u001b[43m \u001b[49m\u001b[43mensemble\u001b[49m\u001b[43m,\u001b[49m\n\u001b[1;32m      3\u001b[0m \u001b[43m    \u001b[49m\u001b[43mmeson\u001b[49m\u001b[43m    \u001b[49m\u001b[38;5;241;43m=\u001b[39;49m\u001b[43m \u001b[49m\u001b[43mmeson\u001b[49m\u001b[43m,\u001b[49m\n\u001b[1;32m      4\u001b[0m \u001b[43m    \u001b[49m\u001b[43mjk\u001b[49m\u001b[43m       \u001b[49m\u001b[38;5;241;43m=\u001b[39;49m\u001b[43m \u001b[49m\u001b[43mjk\u001b[49m\u001b[43m,\u001b[49m\n\u001b[1;32m      5\u001b[0m \u001b[43m    \u001b[49m\u001b[43mreadfrom\u001b[49m\u001b[43m \u001b[49m\u001b[38;5;241;43m=\u001b[39;49m\u001b[43m \u001b[49m\u001b[43mreadfrom\u001b[49m\n\u001b[1;32m      6\u001b[0m \u001b[43m)\u001b[49m\n",
      "File \u001b[0;32m~/code/software/B2heavy/routines/corr_fit_dispersion_relation.py:50\u001b[0m, in \u001b[0;36mextract_energies\u001b[0;34m(ensemble, meson, momlist, jk, readfrom, tag)\u001b[0m\n\u001b[1;32m     48\u001b[0m f \u001b[39m=\u001b[39m os\u001b[39m.\u001b[39mpath\u001b[39m.\u001b[39mjoin(readfrom,file)\n\u001b[1;32m     49\u001b[0m \u001b[39mif\u001b[39;00m file\u001b[39m.\u001b[39mstartswith(filename):\n\u001b[0;32m---> 50\u001b[0m     name,_ \u001b[39m=\u001b[39m f\u001b[39m.\u001b[39msplit(\u001b[39m'\u001b[39m\u001b[39m.pickle\u001b[39m\u001b[39m'\u001b[39m)\n\u001b[1;32m     51\u001b[0m     mom \u001b[39m=\u001b[39m name\u001b[39m.\u001b[39msplit(\u001b[39m'\u001b[39m\u001b[39m_\u001b[39m\u001b[39m'\u001b[39m)[\u001b[39m-\u001b[39m\u001b[39m1\u001b[39m]\n\u001b[1;32m     52\u001b[0m     E[mom] \u001b[39m=\u001b[39m extract_single_energy(f,N\u001b[39m=\u001b[39m\u001b[39m0\u001b[39m,jk\u001b[39m=\u001b[39mjk)\n",
      "\u001b[0;31mValueError\u001b[0m: not enough values to unpack (expected 2, got 1)"
     ]
    }
   ],
   "source": [
    "E = extract_energies(\n",
    "    ensemble = ensemble,\n",
    "    meson    = meson,\n",
    "    jk       = jk,\n",
    "    readfrom = readfrom\n",
    ")"
   ]
  }
 ],
 "metadata": {
  "kernelspec": {
   "display_name": "Python 3.11.4 ('stat')",
   "language": "python",
   "name": "python3"
  },
  "language_info": {
   "codemirror_mode": {
    "name": "ipython",
    "version": 3
   },
   "file_extension": ".py",
   "mimetype": "text/x-python",
   "name": "python",
   "nbconvert_exporter": "python",
   "pygments_lexer": "ipython3",
   "version": "3.11.4"
  },
  "orig_nbformat": 4,
  "vscode": {
   "interpreter": {
    "hash": "550906e9926f0f588aff226d3abadfa0c6a614c1c5eae7bfa21377021c1cb7ed"
   }
  }
 },
 "nbformat": 4,
 "nbformat_minor": 2
}
