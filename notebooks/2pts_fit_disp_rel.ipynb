{
 "cells": [
  {
   "cell_type": "code",
   "execution_count": 13,
   "metadata": {},
   "outputs": [],
   "source": [
    "import argparse\n",
    "import pickle\n",
    "import sys\n",
    "import tomllib\n",
    "import os\n",
    "import datetime\n",
    "import gvar as gv\n",
    "import numpy as np\n",
    "import matplotlib.pyplot as plt\n",
    "from scipy.optimize import curve_fit\n",
    "\n",
    "sys.path.append('/Users/pietro/code/software/B2heavy/')\n",
    "from routines.fit_2pts_dispersion_relation import format_energies\n",
    "from routines.fit_2pts_dispersion_relation import fit_dispersion_relation\n",
    "from routines.fit_2pts_dispersion_relation import plot_dispersion_relation\n",
    "\n",
    "from b2heavy.TwoPointFunctions.types2pts import CorrelatorIO, Correlator\n",
    "from b2heavy.TwoPointFunctions.fitter import CorrFitter"
   ]
  },
  {
   "cell_type": "code",
   "execution_count": 2,
   "metadata": {},
   "outputs": [],
   "source": [
    "ens = 'Coarse-1'\n",
    "mes = 'Dst'\n",
    "MOM_LIST = ['000','100','200','300','110','211']"
   ]
  },
  {
   "cell_type": "code",
   "execution_count": 3,
   "metadata": {},
   "outputs": [],
   "source": [
    "def load_toml(file) -> dict:\n",
    "    with open(file,'rb') as f:\n",
    "        toml_data: dict = tomllib.load(f)\n",
    "    return toml_data\n",
    "\n",
    "config = load_toml('/Users/pietro/code/software/B2heavy/routines/2pts_fit_config.toml')"
   ]
  },
  {
   "cell_type": "code",
   "execution_count": 5,
   "metadata": {},
   "outputs": [
    {
     "name": "stderr",
     "output_type": "stream",
     "text": [
      "/Users/pietro/opt/anaconda3/envs/stat/lib/python3.11/site-packages/autograd/tracer.py:48: RuntimeWarning: invalid value encountered in log\n",
      "  return f_raw(*args, **kwargs)\n"
     ]
    },
    {
     "name": "stdout",
     "output_type": "stream",
     "text": [
      "---------- 3+3 fit in (12, 17) for mes: Dst of ens: Coarse-1 for mom: 000 --------------\n",
      " De-augmented chi2 = 2.7052561364079635 with p-value = 0.0\n",
      "Least Square Fit:\n",
      "  chi2/dof [dof] = 0.24 [18]    Q = 1    logGBF = 339.85\n",
      "\n",
      "Parameters:\n",
      "            E 0     1.0807 (27)      [ 1.0812 (30) ]  \n",
      "              1      -2.03 (50)      [  -1.81 (58) ]  \n",
      "              2      -1.43 (62)      [  -1.09 (80) ]  \n",
      "              3      -3.4 (2.2)      [  -2.4 (2.5) ]  \n",
      "              4      -1.7 (1.3)      [  -2.4 (2.5) ]  \n",
      "              5      -1.37 (86)      [  -2.4 (2.5) ]  \n",
      "   Z_1S_Unpol 0      0.404 (24)      [   0.4 (1.2) ]  \n",
      "              1      -1.1 (1.2)      [  -1.2 (1.2) ]  \n",
      "              2       0.76 (84)      [   0.5 (1.5) ]  \n",
      "              3       0.79 (51)      [   0.5 (1.5) ]  \n",
      "              4       0.3 (3.0)      [   0.5 (3.0) ]  \n",
      "              5       0.2 (3.0)      [   0.5 (3.0) ]  \n",
      " Z_d-1S_Unpol 0     0.03 (1.59)      [   0.5 (1.7) ]  \n",
      "              1       0.03 (67)      [   0.5 (1.7) ]  \n",
      "              2       0.9 (1.3)      [   0.5 (1.7) ]  \n",
      "              3       1.2 (1.2)      [   0.5 (1.7) ]  \n",
      "    Z_d_Unpol 0     -1.973 (27)      [  -1.97 (39) ]  \n",
      "              1      -3.6 (1.3)      [  -3.0 (1.5) ]  \n",
      "              2       0.09 (11)      [   0.5 (1.5) ]  \n",
      "              3   0.001 (1.242)      [   0.5 (1.5) ]  \n",
      "              4     0.01 (2.77)      [   0.5 (3.0) ]  \n",
      "              5       0.35 (36)      [   0.5 (3.0) ]  \n",
      "\n",
      "Settings:\n",
      "  svdcut/n = 1e-12/0    tol = (1e-08,1e-10,1e-10*)    (itns/time = 1778/2.6)\n",
      "  fitter = scipy_least_squares    method = trf\n",
      "\n",
      "---------- 3+3 fit in (12, 15) for mes: Dst of ens: Coarse-1 for mom: 100 --------------\n"
     ]
    },
    {
     "name": "stderr",
     "output_type": "stream",
     "text": [
      "/Users/pietro/opt/anaconda3/envs/stat/lib/python3.11/site-packages/autograd/tracer.py:48: RuntimeWarning: invalid value encountered in log\n",
      "  return f_raw(*args, **kwargs)\n"
     ]
    },
    {
     "name": "stdout",
     "output_type": "stream",
     "text": [
      " De-augmented chi2 = 2.267748001028974 with p-value = 0.0\n",
      "Least Square Fit:\n",
      "  chi2/dof [dof] = 0.18 [24]    Q = 1    logGBF = 407.67\n",
      "\n",
      "Parameters:\n",
      "            E 0   1.0932 (32)     [ 1.0953 (37) ]  \n",
      "              1    -2.16 (49)     [  -1.81 (58) ]  \n",
      "              2    -1.34 (59)     [  -1.09 (80) ]  \n",
      "              3    -3.5 (2.3)     [  -2.4 (2.5) ]  \n",
      "              4    -1.8 (1.4)     [  -2.4 (2.5) ]  \n",
      "              5    -1.6 (1.7)     [  -2.4 (2.5) ]  \n",
      "     Z_1S_Bot 0    0.319 (25)     [   0.3 (1.2) ]  \n",
      "              1    -1.1 (1.2)     [  -1.2 (1.2) ]  \n",
      "              2     0.4 (1.2)     [   0.5 (1.5) ]  \n",
      "              3     0.77 (54)     [   0.5 (1.5) ]  \n",
      "              4     0.4 (3.0)     [   0.5 (3.0) ]  \n",
      "              5     0.9 (2.3)     [   0.5 (3.0) ]  \n",
      "     Z_1S_Par 0    0.337 (23)     [   0.3 (1.2) ]  \n",
      "              1    -1.0 (1.2)     [  -1.2 (1.2) ]  \n",
      "              2     0.3 (1.4)     [   0.5 (1.5) ]  \n",
      "              3     0.64 (50)     [   0.5 (1.5) ]  \n",
      "              4     0.4 (3.0)     [   0.5 (3.0) ]  \n",
      "              5     0.2 (3.0)     [   0.5 (3.0) ]  \n",
      "   Z_d-1S_Bot 0   0.06 (1.52)     [   0.5 (1.7) ]  \n",
      "              1     0.22 (15)     [   0.5 (1.7) ]  \n",
      "              2     1.0 (1.4)     [   0.5 (1.7) ]  \n",
      "              3   0.08 (1.57)     [   0.5 (1.7) ]  \n",
      "   Z_d-1S_Par 0     0.22 (43)     [   0.5 (1.7) ]  \n",
      "              1     0.14 (25)     [   0.5 (1.7) ]  \n",
      "              2     0.3 (1.6)     [   0.5 (1.7) ]  \n",
      "              3     0.60 (99)     [   0.5 (1.7) ]  \n",
      "      Z_d_Bot 0   -2.015 (33)     [  -1.99 (40) ]  \n",
      "              1    -3.2 (1.3)     [  -3.0 (1.5) ]  \n",
      "              2     0.17 (15)     [   0.5 (1.5) ]  \n",
      "              3   0.005 (944)     [   0.5 (1.5) ]  \n",
      "              4   0.02 (2.93)     [   0.5 (3.0) ]  \n",
      "              5     0.26 (42)     [   0.5 (3.0) ]  \n",
      "      Z_d_Par 0   -1.971 (35)     [  -1.96 (40) ]  \n",
      "              1    -5.5 (2.0)     [  -5.5 (2.0) ]  \n",
      "              2   0.03 (1.06)     [   0.5 (1.5) ]  \n",
      "              3     0.04 (10)     [   0.5 (1.5) ]  \n",
      "              4     0.29 (70)     [   0.5 (3.0) ]  \n",
      "              5     0.25 (39)     [   0.5 (3.0) ]  \n",
      "\n",
      "Settings:\n",
      "  svdcut/n = 1e-12/0    tol = (1e-08,1e-10,1e-10*)    (itns/time = 830/2.2)\n",
      "  fitter = scipy_least_squares    method = trf\n",
      "\n",
      "---------- 3+3 fit in (10, 17) for mes: Dst of ens: Coarse-1 for mom: 200 --------------\n"
     ]
    },
    {
     "name": "stderr",
     "output_type": "stream",
     "text": [
      "/Users/pietro/opt/anaconda3/envs/stat/lib/python3.11/site-packages/autograd/tracer.py:48: RuntimeWarning: invalid value encountered in log\n",
      "  return f_raw(*args, **kwargs)\n"
     ]
    },
    {
     "name": "stdout",
     "output_type": "stream",
     "text": [
      " De-augmented chi2 = 29.255006764045973 with p-value = 0.0024920635149828165\n",
      "Least Square Fit:\n",
      "  chi2/dof [dof] = 0.68 [48]    Q = 0.96    logGBF = 873.17\n",
      "\n",
      "Parameters:\n",
      "            E 0     1.1437 (25)      [ 1.1448 (26) ]  \n",
      "              1      -2.36 (42)      [  -1.81 (58) ]  \n",
      "              2      -1.31 (65)      [  -1.09 (80) ]  \n",
      "              3      -2.8 (1.4)      [  -2.4 (2.5) ]  \n",
      "              4      -2.0 (1.9)      [  -2.4 (2.5) ]  \n",
      "              5      -1.6 (1.7)      [  -2.4 (2.5) ]  \n",
      "     Z_1S_Bot 0      0.184 (19)      [   0.1 (1.2) ]  \n",
      "              1      -0.11 (45)      [  -1.2 (1.2) ]  \n",
      "              2       0.2 (1.3)      [   0.5 (1.5) ]  \n",
      "              3       0.5 (1.2)      [   0.5 (1.5) ]  \n",
      "              4       0.3 (2.8)      [   0.5 (3.0) ]  \n",
      "              5       0.6 (2.4)      [   0.5 (3.0) ]  \n",
      "     Z_1S_Par 0      0.247 (25)      [   0.3 (1.2) ]  \n",
      "              1      -1.0 (1.1)      [  -1.2 (1.2) ]  \n",
      "              2       0.7 (1.3)      [   0.5 (1.5) ]  \n",
      "              3       0.72 (80)      [   0.5 (1.5) ]  \n",
      "              4       1.8 (2.2)      [   0.5 (3.0) ]  \n",
      "              5       1.5 (1.9)      [   0.5 (3.0) ]  \n",
      "   Z_d-1S_Bot 0       0.18 (26)      [   0.5 (1.7) ]  \n",
      "              1       0.28 (24)      [   0.5 (1.7) ]  \n",
      "              2     0.07 (1.60)      [   0.5 (1.7) ]  \n",
      "              3       0.1 (1.2)      [   0.5 (1.7) ]  \n",
      "   Z_d-1S_Par 0       0.31 (35)      [   0.5 (1.7) ]  \n",
      "              1       0.18 (20)      [   0.5 (1.7) ]  \n",
      "              2       0.2 (1.5)      [   0.5 (1.7) ]  \n",
      "              3       0.57 (69)      [   0.5 (1.7) ]  \n",
      "      Z_d_Bot 0     -1.973 (23)      [  -1.99 (51) ]  \n",
      "              1      -3.0 (1.2)      [  -3.0 (1.5) ]  \n",
      "              2   0.009 (1.299)      [   0.5 (1.5) ]  \n",
      "              3      0.106 (79)      [   0.5 (1.5) ]  \n",
      "              4       0.24 (27)      [   0.5 (3.0) ]  \n",
      "              5       0.03 (93)      [   0.5 (3.0) ]  \n",
      "      Z_d_Par 0     -1.887 (22)      [  -1.90 (51) ]  \n",
      "              1      -5.5 (2.0)      [  -5.5 (2.0) ]  \n",
      "              2   0.008 (1.386)      [   0.5 (1.5) ]  \n",
      "              3     -0.095 (56)      [   0.5 (1.5) ]  \n",
      "              4       0.13 (32)      [   0.5 (3.0) ]  \n",
      "              5   0.007 (2.345)      [   0.5 (3.0) ]  \n",
      "\n",
      "Settings:\n",
      "  svdcut/n = 1e-12/0    tol = (1e-08,1e-10,1e-10*)    (itns/time = 907/2.9)\n",
      "  fitter = scipy_least_squares    method = trf\n",
      "\n",
      "---------- 3+3 fit in (10, 13) for mes: Dst of ens: Coarse-1 for mom: 300 --------------\n"
     ]
    },
    {
     "name": "stderr",
     "output_type": "stream",
     "text": [
      "/Users/pietro/opt/anaconda3/envs/stat/lib/python3.11/site-packages/autograd/tracer.py:48: RuntimeWarning: invalid value encountered in log\n",
      "  return f_raw(*args, **kwargs)\n"
     ]
    },
    {
     "name": "stdout",
     "output_type": "stream",
     "text": [
      " De-augmented chi2 = 4.642121631745437 with p-value = 0.0\n",
      "Least Square Fit:\n",
      "  chi2/dof [dof] = 0.36 [24]    Q = 1    logGBF = 375.87\n",
      "\n",
      "Parameters:\n",
      "            E 0     1.2067 (58)      [ 1.2102 (61) ]  \n",
      "              1      -2.57 (41)      [  -1.81 (58) ]  *\n",
      "              2      -1.17 (68)      [  -1.09 (80) ]  \n",
      "              3      -4.0 (2.3)      [  -2.4 (2.5) ]  \n",
      "              4      -1.9 (2.1)      [  -2.4 (2.5) ]  \n",
      "              5      -1.02 (64)      [  -2.4 (2.5) ]  \n",
      "     Z_1S_Bot 0     -0.112 (38)      [  -0.2 (1.2) ]  \n",
      "              1      -0.9 (1.2)      [  -1.2 (1.2) ]  \n",
      "              2       0.2 (1.4)      [   0.5 (1.5) ]  \n",
      "              3       0.89 (34)      [   0.5 (1.5) ]  \n",
      "              4       0.2 (2.9)      [   0.5 (3.0) ]  \n",
      "              5       1.5 (1.9)      [   0.5 (3.0) ]  \n",
      "     Z_1S_Par 0      0.054 (38)      [ 0.04 (1.20) ]  \n",
      "              1      -1.2 (1.2)      [  -1.2 (1.2) ]  \n",
      "              2       0.3 (1.4)      [   0.5 (1.5) ]  \n",
      "              3       0.62 (25)      [   0.5 (1.5) ]  \n",
      "              4       0.3 (2.9)      [   0.5 (3.0) ]  \n",
      "              5       0.4 (2.9)      [   0.5 (3.0) ]  \n",
      "   Z_d-1S_Bot 0     0.09 (1.19)      [   0.5 (1.7) ]  \n",
      "              1       0.26 (14)      [   0.5 (1.7) ]  \n",
      "              2       0.3 (1.3)      [   0.5 (1.7) ]  \n",
      "              3     0.06 (1.66)      [   0.5 (1.7) ]  \n",
      "   Z_d-1S_Par 0       0.1 (1.2)      [   0.5 (1.7) ]  \n",
      "              1   0.002 (1.656)      [   0.5 (1.7) ]  \n",
      "              2       0.7 (1.2)      [   0.5 (1.7) ]  \n",
      "              3       1.1 (1.3)      [   0.5 (1.7) ]  \n",
      "      Z_d_Bot 0     -2.021 (57)      [  -2.05 (83) ]  \n",
      "              1      -2.4 (1.2)      [  -3.0 (1.5) ]  \n",
      "              2       0.10 (64)      [   0.5 (1.5) ]  \n",
      "              3       0.05 (23)      [   0.5 (1.5) ]  \n",
      "              4       0.30 (73)      [   0.5 (3.0) ]  \n",
      "              5     0.01 (2.61)      [   0.5 (3.0) ]  \n",
      "      Z_d_Par 0     -1.901 (54)      [  -1.86 (83) ]  \n",
      "              1      -5.7 (2.0)      [  -5.5 (2.0) ]  \n",
      "              2       0.22 (23)      [   0.5 (1.5) ]  \n",
      "              3     -0.044 (30)      [   0.5 (1.5) ]  \n",
      "              4     0.03 (2.92)      [   0.5 (3.0) ]  \n",
      "              5       0.39 (44)      [   0.5 (3.0) ]  \n",
      "\n",
      "Settings:\n",
      "  svdcut/n = 1e-12/0    tol = (1e-08,1e-10,1e-10*)    (itns/time = 3150/8.8)\n",
      "  fitter = scipy_least_squares    method = trf\n",
      "\n",
      "---------- 3+3 fit in (10, 17) for mes: Dst of ens: Coarse-1 for mom: 110 --------------\n"
     ]
    },
    {
     "name": "stderr",
     "output_type": "stream",
     "text": [
      "/Users/pietro/opt/anaconda3/envs/stat/lib/python3.11/site-packages/autograd/tracer.py:48: RuntimeWarning: invalid value encountered in log\n",
      "  return f_raw(*args, **kwargs)\n"
     ]
    },
    {
     "name": "stdout",
     "output_type": "stream",
     "text": [
      " De-augmented chi2 = 4.155207779114988 with p-value = 0.24685608155435745\n",
      "Least Square Fit:\n",
      "  chi2/dof [dof] = 0.37 [24]    Q = 1    logGBF = 436.04\n",
      "\n",
      "Parameters:\n",
      "            E 0     1.1204 (23)      [ 1.1215 (25) ]  \n",
      "              1      -2.55 (32)      [  -1.81 (58) ]  *\n",
      "              2      -1.82 (47)      [  -1.09 (80) ]  \n",
      "              3      -2.4 (1.8)      [  -2.4 (2.5) ]  \n",
      "              4      -1.09 (75)      [  -2.4 (2.5) ]  \n",
      "              5      -2.1 (1.6)      [  -2.4 (2.5) ]  \n",
      "   Z_1S_Unpol 0      0.342 (21)      [   0.3 (1.2) ]  \n",
      "              1      -0.24 (19)      [  -1.2 (1.2) ]  \n",
      "              2       0.37 (46)      [   0.5 (1.5) ]  \n",
      "              3     0.09 (1.44)      [   0.5 (1.5) ]  \n",
      "              4       0.3 (3.0)      [   0.5 (3.0) ]  \n",
      "              5     0.05 (2.96)      [   0.5 (3.0) ]  \n",
      " Z_d-1S_Unpol 0   0.005 (1.649)      [   0.5 (1.7) ]  \n",
      "              1     0.02 (1.63)      [   0.5 (1.7) ]  \n",
      "              2       1.1 (1.4)      [   0.5 (1.7) ]  \n",
      "              3       0.56 (30)      [   0.5 (1.7) ]  \n",
      "    Z_d_Unpol 0     -1.933 (22)      [  -1.92 (42) ]  \n",
      "              1      -4.1 (1.3)      [  -3.0 (1.5) ]  \n",
      "              2      0.089 (31)      [   0.5 (1.5) ]  \n",
      "              3       0.09 (15)      [   0.5 (1.5) ]  \n",
      "              4   0.004 (2.956)      [   0.5 (3.0) ]  \n",
      "              5       0.10 (22)      [   0.5 (3.0) ]  \n",
      "\n",
      "Settings:\n",
      "  svdcut/n = 1e-12/0    tol = (1e-08,1e-10,1e-10*)    (itns/time = 678/1.0)\n",
      "  fitter = scipy_least_squares    method = trf\n",
      "\n",
      "---------- 3+3 fit in (10, 13) for mes: Dst of ens: Coarse-1 for mom: 211 --------------\n"
     ]
    },
    {
     "name": "stderr",
     "output_type": "stream",
     "text": [
      "/Users/pietro/opt/anaconda3/envs/stat/lib/python3.11/site-packages/autograd/tracer.py:48: RuntimeWarning: invalid value encountered in log\n",
      "  return f_raw(*args, **kwargs)\n"
     ]
    },
    {
     "name": "stdout",
     "output_type": "stream",
     "text": [
      " De-augmented chi2 = 1.1727480835196151 with p-value = 0.0\n",
      "Least Square Fit:\n",
      "  chi2/dof [dof] = 0.32 [12]    Q = 0.99    logGBF = 187.83\n",
      "\n",
      "Parameters:\n",
      "            E 0   1.1726 (44)     [ 1.1746 (49) ]  \n",
      "              1    -2.42 (41)     [  -1.81 (58) ]  *\n",
      "              2    -1.02 (70)     [  -1.09 (80) ]  \n",
      "              3    -2.2 (2.4)     [  -2.4 (2.5) ]  \n",
      "              4    -2.3 (2.5)     [  -2.4 (2.5) ]  \n",
      "              5    -2.2 (2.5)     [  -2.4 (2.5) ]  \n",
      "   Z_1S_Unpol 0    0.108 (29)     [ 0.05 (1.20) ]  \n",
      "              1    -0.11 (27)     [  -1.2 (1.2) ]  \n",
      "              2     0.5 (1.3)     [   0.5 (1.5) ]  \n",
      "              3     0.2 (1.4)     [   0.5 (1.5) ]  \n",
      "              4     0.6 (2.7)     [   0.5 (3.0) ]  \n",
      "              5     0.1 (2.9)     [   0.5 (3.0) ]  \n",
      " Z_d-1S_Unpol 0   0.04 (1.45)     [   0.5 (1.7) ]  \n",
      "              1   0.06 (1.09)     [   0.5 (1.7) ]  \n",
      "              2   0.09 (1.53)     [   0.5 (1.7) ]  \n",
      "              3   0.07 (1.44)     [   0.5 (1.7) ]  \n",
      "    Z_d_Unpol 0   -1.940 (32)     [  -1.94 (62) ]  \n",
      "              1    -2.61 (49)     [  -3.0 (1.5) ]  \n",
      "              2     0.14 (75)     [   0.5 (1.5) ]  \n",
      "              3     0.04 (50)     [   0.5 (1.5) ]  \n",
      "              4     0.2 (1.4)     [   0.5 (3.0) ]  \n",
      "              5     0.15 (20)     [   0.5 (3.0) ]  \n",
      "\n",
      "Settings:\n",
      "  svdcut/n = 1e-12/0    tol = (1e-08,1e-10,1e-10*)    (itns/time = 181/0.2)\n",
      "  fitter = scipy_least_squares    method = trf\n",
      "\n"
     ]
    }
   ],
   "source": [
    "E = {}\n",
    "for mom in MOM_LIST:\n",
    "    io = CorrelatorIO(ens,mes,mom,PathToDataDir='/Users/pietro/code/data_analysis/BtoD/Alex/')\n",
    "    corr = Correlator(io,jkBin=9)\n",
    "\n",
    "    trange = config['fit'][ens][mes]['mom'][mom]['trange']\n",
    "    smslist = config['fit'][ens][mes]['smlist']\n",
    "    NEXC = config['fit'][ens][mes]['nstates']\n",
    "\n",
    "    _,MEFF,AEFF,_,_ = corr.EffectiveCoeff(trange,smearing=smslist)\n",
    "\n",
    "    fitter = CorrFitter(corr,smearing=smslist)\n",
    "    fitter.fit(\n",
    "        Nstates = NEXC,\n",
    "        trange  = tuple(trange),\n",
    "        verbose = True,\n",
    "        pval    = True,\n",
    "        jkfit   = False,\n",
    "        priors  = fitter.set_priors_phys(NEXC,Meff=MEFF,Aeff=AEFF)\n",
    "    )\n",
    "\n",
    "    E[mom] = fitter.fits[NEXC,tuple(trange)].p['E'][0]\n",
    "\n"
   ]
  },
  {
   "cell_type": "code",
   "execution_count": 22,
   "metadata": {},
   "outputs": [
    {
     "name": "stdout",
     "output_type": "stream",
     "text": [
      "['000', '100', '110', '200', '211', '300']\n",
      "[1.0807(27) 1.0932(32) 1.1204(23) 1.1437(25) 1.1726(44) 1.2067(58)]\n"
     ]
    }
   ],
   "source": [
    "MOM,p2,e0 = format_energies(E)\n",
    "print(MOM)\n",
    "print(e0)"
   ]
  },
  {
   "cell_type": "code",
   "execution_count": null,
   "metadata": {},
   "outputs": [],
   "source": []
  },
  {
   "cell_type": "code",
   "execution_count": 30,
   "metadata": {},
   "outputs": [
    {
     "name": "stderr",
     "output_type": "stream",
     "text": [
      "/Users/pietro/code/software/B2heavy/routines/fit_2pts_dispersion_relation.py:97: OptimizeWarning: Covariance of the parameters could not be estimated\n",
      "  popt,pcov = curve_fit(\n"
     ]
    }
   ],
   "source": [
    "tofit = ['000','100','200','300']\n",
    "\n",
    "mom = [m for m in MOM if m in tofit]\n",
    "E0 = np.array([e for i,e in enumerate(e0) if MOM[i] in tofit])\n",
    "\n",
    "pars,chi2 = fit_dispersion_relation(mom,E0)\n"
   ]
  },
  {
   "cell_type": "code",
   "execution_count": 32,
   "metadata": {},
   "outputs": [
    {
     "ename": "ValueError",
     "evalue": "x and y must be the same size",
     "output_type": "error",
     "traceback": [
      "\u001b[0;31m---------------------------------------------------------------------------\u001b[0m",
      "\u001b[0;31mValueError\u001b[0m                                Traceback (most recent call last)",
      "Cell \u001b[0;32mIn[32], line 6\u001b[0m\n\u001b[1;32m      3\u001b[0m plt\u001b[38;5;241m.\u001b[39mfigure(figsize\u001b[38;5;241m=\u001b[39m(\u001b[38;5;241m6\u001b[39m, \u001b[38;5;241m4\u001b[39m))\n\u001b[1;32m      4\u001b[0m ax \u001b[38;5;241m=\u001b[39m plt\u001b[38;5;241m.\u001b[39msubplot(\u001b[38;5;241m1\u001b[39m,\u001b[38;5;241m1\u001b[39m,\u001b[38;5;241m1\u001b[39m)\n\u001b[0;32m----> 6\u001b[0m \u001b[43mplot_dispersion_relation\u001b[49m\u001b[43m(\u001b[49m\u001b[43max\u001b[49m\u001b[43m,\u001b[49m\u001b[43mmom\u001b[49m\u001b[43m,\u001b[49m\u001b[43mp2\u001b[49m\u001b[43m,\u001b[49m\u001b[43mE0\u001b[49m\u001b[43m,\u001b[49m\u001b[43mfitpar\u001b[49m\u001b[38;5;241;43m=\u001b[39;49m\u001b[43mpars\u001b[49m\u001b[43m,\u001b[49m\u001b[43mchi2\u001b[49m\u001b[38;5;241;43m=\u001b[39;49m\u001b[43mchi2\u001b[49m\u001b[43m)\u001b[49m\n\u001b[1;32m      8\u001b[0m ax\u001b[38;5;241m.\u001b[39mlegend()\n\u001b[1;32m      9\u001b[0m ax\u001b[38;5;241m.\u001b[39mgrid(alpha\u001b[38;5;241m=\u001b[39m\u001b[38;5;241m0.2\u001b[39m)\n",
      "File \u001b[0;32m~/code/software/B2heavy/routines/fit_2pts_dispersion_relation.py:114\u001b[0m, in \u001b[0;36mplot_dispersion_relation\u001b[0;34m(ax, mom, p2, E0, fitpar, chi2)\u001b[0m\n\u001b[1;32m    111\u001b[0m xfit \u001b[39m=\u001b[39m p2\n\u001b[1;32m    112\u001b[0m yfit \u001b[39m=\u001b[39m E0\u001b[39m*\u001b[39m\u001b[39m*\u001b[39m\u001b[39m2\u001b[39m\n\u001b[0;32m--> 114\u001b[0m ax\u001b[39m.\u001b[39;49mscatter(xfit,gv\u001b[39m.\u001b[39;49mmean(yfit),marker\u001b[39m=\u001b[39;49m\u001b[39m'\u001b[39;49m\u001b[39ms\u001b[39;49m\u001b[39m'\u001b[39;49m,facecolors\u001b[39m=\u001b[39;49m\u001b[39m'\u001b[39;49m\u001b[39mnone\u001b[39;49m\u001b[39m'\u001b[39;49m)\n\u001b[1;32m    115\u001b[0m ax\u001b[39m.\u001b[39merrorbar(xfit,gv\u001b[39m.\u001b[39mmean(yfit),yerr\u001b[39m=\u001b[39mgv\u001b[39m.\u001b[39msdev(yfit),fmt\u001b[39m=\u001b[39m\u001b[39m'\u001b[39m\u001b[39m.\u001b[39m\u001b[39m'\u001b[39m,capsize\u001b[39m=\u001b[39m\u001b[39m2\u001b[39m)\n\u001b[1;32m    117\u001b[0m \u001b[39mif\u001b[39;00m fitpar \u001b[39mis\u001b[39;00m \u001b[39mnot\u001b[39;00m \u001b[39mNone\u001b[39;00m \u001b[39mand\u001b[39;00m chi2 \u001b[39mis\u001b[39;00m \u001b[39mnot\u001b[39;00m \u001b[39mNone\u001b[39;00m:\n",
      "File \u001b[0;32m~/opt/anaconda3/envs/stat/lib/python3.11/site-packages/matplotlib/__init__.py:1465\u001b[0m, in \u001b[0;36m_preprocess_data.<locals>.inner\u001b[0;34m(ax, data, *args, **kwargs)\u001b[0m\n\u001b[1;32m   1462\u001b[0m \u001b[39m@functools\u001b[39m\u001b[39m.\u001b[39mwraps(func)\n\u001b[1;32m   1463\u001b[0m \u001b[39mdef\u001b[39;00m \u001b[39minner\u001b[39m(ax, \u001b[39m*\u001b[39margs, data\u001b[39m=\u001b[39m\u001b[39mNone\u001b[39;00m, \u001b[39m*\u001b[39m\u001b[39m*\u001b[39mkwargs):\n\u001b[1;32m   1464\u001b[0m     \u001b[39mif\u001b[39;00m data \u001b[39mis\u001b[39;00m \u001b[39mNone\u001b[39;00m:\n\u001b[0;32m-> 1465\u001b[0m         \u001b[39mreturn\u001b[39;00m func(ax, \u001b[39m*\u001b[39;49m\u001b[39mmap\u001b[39;49m(sanitize_sequence, args), \u001b[39m*\u001b[39;49m\u001b[39m*\u001b[39;49mkwargs)\n\u001b[1;32m   1467\u001b[0m     bound \u001b[39m=\u001b[39m new_sig\u001b[39m.\u001b[39mbind(ax, \u001b[39m*\u001b[39margs, \u001b[39m*\u001b[39m\u001b[39m*\u001b[39mkwargs)\n\u001b[1;32m   1468\u001b[0m     auto_label \u001b[39m=\u001b[39m (bound\u001b[39m.\u001b[39marguments\u001b[39m.\u001b[39mget(label_namer)\n\u001b[1;32m   1469\u001b[0m                   \u001b[39mor\u001b[39;00m bound\u001b[39m.\u001b[39mkwargs\u001b[39m.\u001b[39mget(label_namer))\n",
      "File \u001b[0;32m~/opt/anaconda3/envs/stat/lib/python3.11/site-packages/matplotlib/axes/_axes.py:4652\u001b[0m, in \u001b[0;36mAxes.scatter\u001b[0;34m(self, x, y, s, c, marker, cmap, norm, vmin, vmax, alpha, linewidths, edgecolors, plotnonfinite, **kwargs)\u001b[0m\n\u001b[1;32m   4650\u001b[0m y \u001b[39m=\u001b[39m np\u001b[39m.\u001b[39mma\u001b[39m.\u001b[39mravel(y)\n\u001b[1;32m   4651\u001b[0m \u001b[39mif\u001b[39;00m x\u001b[39m.\u001b[39msize \u001b[39m!=\u001b[39m y\u001b[39m.\u001b[39msize:\n\u001b[0;32m-> 4652\u001b[0m     \u001b[39mraise\u001b[39;00m \u001b[39mValueError\u001b[39;00m(\u001b[39m\"\u001b[39m\u001b[39mx and y must be the same size\u001b[39m\u001b[39m\"\u001b[39m)\n\u001b[1;32m   4654\u001b[0m \u001b[39mif\u001b[39;00m s \u001b[39mis\u001b[39;00m \u001b[39mNone\u001b[39;00m:\n\u001b[1;32m   4655\u001b[0m     s \u001b[39m=\u001b[39m (\u001b[39m20\u001b[39m \u001b[39mif\u001b[39;00m mpl\u001b[39m.\u001b[39mrcParams[\u001b[39m'\u001b[39m\u001b[39m_internal.classic_mode\u001b[39m\u001b[39m'\u001b[39m] \u001b[39melse\u001b[39;00m\n\u001b[1;32m   4656\u001b[0m          mpl\u001b[39m.\u001b[39mrcParams[\u001b[39m'\u001b[39m\u001b[39mlines.markersize\u001b[39m\u001b[39m'\u001b[39m] \u001b[39m*\u001b[39m\u001b[39m*\u001b[39m \u001b[39m2.0\u001b[39m)\n",
      "\u001b[0;31mValueError\u001b[0m: x and y must be the same size"
     ]
    },
    {
     "data": {
      "image/png": "[encoded data removed]",
      "text/plain": [
       "<Figure size 600x400 with 1 Axes>"
      ]
     },
     "metadata": {},
     "output_type": "display_data"
    }
   ],
   "source": [
    "plt.rcParams['text.usetex'] = True\n",
    "plt.rcParams['font.size'] = 12\n",
    "plt.figure(figsize=(6, 4))\n",
    "ax = plt.subplot(1,1,1)\n",
    "\n",
    "plot_dispersion_relation(ax,mom,p2,E0,fitpar=pars,chi2=chi2)\n",
    "\n",
    "ax.legend()\n",
    "ax.grid(alpha=0.2)\n",
    "\n",
    "ax.set_ylabel(r'$a^2 E^2(\\mathbf{p})$')\n",
    "ax.set_xlabel(r'$a^2\\mathbf{p}^2$')\n",
    "\n",
    "ax.set_xlim(xmin=-0.1)\n",
    "\n",
    "plt.tight_layout()"
   ]
  },
  {
   "cell_type": "code",
   "execution_count": 15,
   "metadata": {},
   "outputs": [
    {
     "data": {
      "text/plain": [
       "8.108958008410475"
      ]
     },
     "execution_count": 15,
     "metadata": {},
     "output_type": "execute_result"
    }
   ],
   "source": [
    "len(Npoint)"
   ]
  },
  {
   "cell_type": "code",
   "execution_count": null,
   "metadata": {},
   "outputs": [],
   "source": []
  }
 ],
 "metadata": {
  "kernelspec": {
   "display_name": "Python 3.11.4 ('stat')",
   "language": "python",
   "name": "python3"
  },
  "language_info": {
   "codemirror_mode": {
    "name": "ipython",
    "version": 3
   },
   "file_extension": ".py",
   "mimetype": "text/x-python",
   "name": "python",
   "nbconvert_exporter": "python",
   "pygments_lexer": "ipython3",
   "version": "3.11.4"
  },
  "orig_nbformat": 4,
  "vscode": {
   "interpreter": {
    "hash": "550906e9926f0f588aff226d3abadfa0c6a614c1c5eae7bfa21377021c1cb7ed"
   }
  }
 },
 "nbformat": 4,
 "nbformat_minor": 2
}
