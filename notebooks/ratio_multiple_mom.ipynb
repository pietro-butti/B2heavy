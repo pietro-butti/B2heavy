{
 "cells": [
  {
   "cell_type": "code",
   "execution_count": 1,
   "metadata": {},
   "outputs": [],
   "source": [
    "import numpy             as np\n",
    "import gvar              as gv\n",
    "import matplotlib.pyplot as plt\n",
    "import pandas            as pd\n",
    "import lsqfit\n",
    "import itertools\n",
    "from tqdm import tqdm"
   ]
  },
  {
   "cell_type": "code",
   "execution_count": 2,
   "metadata": {},
   "outputs": [],
   "source": [
    "from b2heavy.FnalHISQMetadata import params as mData"
   ]
  },
  {
   "cell_type": "code",
   "execution_count": 3,
   "metadata": {},
   "outputs": [],
   "source": [
    "from b2heavy.ThreePointFunctions.types3pts  import Ratio, RatioIO, ratio_prerequisites, ratio_correction_factor\n",
    "from b2heavy.ThreePointFunctions.fitter3pts import RatioFitter, phys_energy_priors\n",
    "from b2heavy.ThreePointFunctions.utils      import read_config_fit, dump_fit_object"
   ]
  },
  {
   "cell_type": "code",
   "execution_count": 4,
   "metadata": {},
   "outputs": [],
   "source": [
    "DATA_DIR = '/Users/pietro/code/data_analysis/BtoD/Alex/'\n",
    "# DATA_DIR = '/Users/pietro/code/data_analysis/data/QCDNf2p1stag/CORRELATORS'\n",
    "\n",
    "# DATA_2PT = '/Users/pietro/code/data_analysis/data/QCDNf2p1stag/B2heavy/report'\n",
    "DATA_2PT = '/Users/pietro/Desktop/lattice24/0.25/corr2_3'\n",
    "\n",
    "\n",
    "BINSIZE  = {\n",
    "    'MediumCoarse':13,\n",
    "    'Coarse-2':    16,\n",
    "    'Coarse-1':    11,\n",
    "    'Coarse-Phys': 19,\n",
    "    'Fine-1':      16,\n",
    "    'Fine-Phys':   16,\n",
    "    'SuperFine':   22\n",
    "}"
   ]
  },
  {
   "cell_type": "code",
   "execution_count": 15,
   "metadata": {},
   "outputs": [],
   "source": [
    "ENSEMBLE = 'MediumCoarse'\n",
    "RATIO    = 'XF'\n",
    "SMSLIST  = ['1S','RW']\n",
    "# SMSLIST  = ['1S']\n",
    "MOMLIST  = ['100','200','300','400']\n",
    "# MOMLIST  = ['000']"
   ]
  },
  {
   "cell_type": "code",
   "execution_count": 16,
   "metadata": {},
   "outputs": [],
   "source": [
    "if RATIO in ['RMINUS','RPLUS','QPLUS','XF']:\n",
    "    meson = 'D'\n",
    "else:\n",
    "    meson = 'Dst'"
   ]
  },
  {
   "cell_type": "code",
   "execution_count": 17,
   "metadata": {},
   "outputs": [],
   "source": [
    "TMIN    = 1\n",
    "NSTATES = 2"
   ]
  },
  {
   "cell_type": "code",
   "execution_count": 18,
   "metadata": {},
   "outputs": [],
   "source": [
    "JK = True"
   ]
  },
  {
   "cell_type": "code",
   "execution_count": 19,
   "metadata": {},
   "outputs": [
    {
     "name": "stdout",
     "output_type": "stream",
     "text": [
      "# ---------- chi^2_exp analysis -------------\n",
      "# chi2_exp = 17.999999999999886 +/- 6.000000000000002 \n",
      "# p-value [eval] = 0.7346\n",
      "# p-value [MC]   = 0.7392000000000001\n",
      "# ---------- 2+2 fit in (1, 9) for mes: XF of ens: MediumCoarse for mom: 100 --------------\n",
      "Least Square Fit:\n",
      "  chi2/dof [dof] = 0.23 [18]    Q = 1    logGBF = 86.058\n",
      "\n",
      "Parameters:\n",
      "        ratio 0   -0.0719 (13)      [ -0.07 (10) ]  \n",
      "         A_1S 0      0.29 (39)      [    0 ± 1.0 ]  \n",
      "              1    -0.477 (96)      [    0 ± 1.0 ]  \n",
      "         B_1S 0     -0.29 (31)      [    0 ± 1.0 ]  \n",
      "              1     0.015 (74)      [    0 ± 1.0 ]  \n",
      "         A_RW 0     -0.50 (44)      [    0 ± 1.0 ]  \n",
      "              1      0.30 (10)      [    0 ± 1.0 ]  \n",
      "         B_RW 0     -0.44 (38)      [    0 ± 1.0 ]  \n",
      "              1     0.079 (79)      [    0 ± 1.0 ]  \n",
      "       dE_src 0      0.90 (42)      [  1.20 (50) ]  \n",
      "              1     -0.56 (15)      [ -0.76 (50) ]  \n",
      "\n",
      "Settings:\n",
      "  svdcut/n = 0/0    tol = (1e-08,1e-10,1e-10*)    (itns/time = 32/0.0)\n",
      "  fitter = scipy_least_squares    method = trf\n",
      "\n",
      "# red chi2       = 2.69\n",
      "# aug chi2       = 4.14\n",
      "# chi2_exp       = 18.00\n",
      "# chi2/chi_exp   = 0.23\n",
      "# p-value (exp)  = 0.73\n",
      "# p-value (std)  = 0.92\n",
      "# ---------- chi^2_exp analysis -------------\n",
      "# chi2_exp = 17.999999999999847 +/- 6.000000000000001 \n",
      "# p-value [eval] = 0.5526\n",
      "# p-value [MC]   = 0.5549\n",
      "# ---------- 2+2 fit in (1, 9) for mes: XF of ens: MediumCoarse for mom: 200 --------------\n",
      "Least Square Fit:\n",
      "  chi2/dof [dof] = 0.31 [18]    Q = 1    logGBF = 77.204\n",
      "\n",
      "Parameters:\n",
      "        ratio 0   -0.1405 (19)      [ -0.14 (10) ]  \n",
      "         A_1S 0      0.37 (35)      [    0 ± 1.0 ]  \n",
      "              1    -0.502 (71)      [    0 ± 1.0 ]  \n",
      "         B_1S 0     -0.14 (23)      [    0 ± 1.0 ]  \n",
      "              1    -0.020 (55)      [    0 ± 1.0 ]  \n",
      "         A_RW 0     -0.41 (35)      [    0 ± 1.0 ]  \n",
      "              1     0.254 (62)      [    0 ± 1.0 ]  \n",
      "         B_RW 0     -0.32 (30)      [    0 ± 1.0 ]  \n",
      "              1     0.034 (54)      [    0 ± 1.0 ]  \n",
      "       dE_src 0      0.92 (42)      [  1.24 (50) ]  \n",
      "              1     -0.58 (11)      [ -0.67 (50) ]  \n",
      "\n",
      "Settings:\n",
      "  svdcut/n = 0/0    tol = (1e-08,1e-10,1e-10*)    (itns/time = 18/0.0)\n",
      "  fitter = scipy_least_squares    method = trf\n",
      "\n",
      "# red chi2       = 4.37\n",
      "# aug chi2       = 5.55\n",
      "# chi2_exp       = 18.00\n",
      "# chi2/chi_exp   = 0.31\n",
      "# p-value (exp)  = 0.55\n",
      "# p-value (std)  = 0.75\n",
      "# ---------- chi^2_exp analysis -------------\n",
      "# chi2_exp = 18.000000000000036 +/- 6.000000000000019 \n",
      "# p-value [eval] = 0.801\n",
      "# p-value [MC]   = 0.8025\n",
      "# ---------- 2+2 fit in (1, 9) for mes: XF of ens: MediumCoarse for mom: 300 --------------\n",
      "Least Square Fit:\n",
      "  chi2/dof [dof] = 0.49 [18]    Q = 0.96    logGBF = 69.272\n",
      "\n",
      "Parameters:\n",
      "        ratio 0   -0.1998 (29)      [ -0.20 (10) ]  \n",
      "         A_1S 0      0.23 (35)      [    0 ± 1.0 ]  \n",
      "              1    -0.461 (60)      [    0 ± 1.0 ]  \n",
      "         B_1S 0     -0.10 (35)      [    0 ± 1.0 ]  \n",
      "              1    -0.002 (62)      [    0 ± 1.0 ]  \n",
      "         A_RW 0     -0.43 (43)      [    0 ± 1.0 ]  \n",
      "              1     0.226 (49)      [    0 ± 1.0 ]  \n",
      "         B_RW 0     -0.31 (37)      [    0 ± 1.0 ]  \n",
      "              1     0.035 (52)      [    0 ± 1.0 ]  \n",
      "       dE_src 0      1.03 (42)      [  1.30 (50) ]  \n",
      "              1     -0.68 (10)      [ -0.78 (50) ]  \n",
      "\n",
      "Settings:\n",
      "  svdcut/n = 0/0    tol = (1e-08,1e-10,1e-10*)    (itns/time = 17/0.0)\n",
      "  fitter = scipy_least_squares    method = trf\n",
      "\n",
      "# red chi2       = 7.86\n",
      "# aug chi2       = 8.80\n",
      "# chi2_exp       = 18.00\n",
      "# chi2/chi_exp   = 0.49\n",
      "# p-value (exp)  = 0.80\n",
      "# p-value (std)  = 0.37\n",
      "# ---------- chi^2_exp analysis -------------\n",
      "# chi2_exp = 18.00000000000007 +/- 6.000000000000001 \n",
      "# p-value [eval] = 0.5984\n",
      "# p-value [MC]   = 0.5928\n",
      "# ---------- 2+2 fit in (1, 9) for mes: XF of ens: MediumCoarse for mom: 400 --------------\n",
      "Least Square Fit:\n",
      "  chi2/dof [dof] = 0.85 [18]    Q = 0.65    logGBF = 60.018\n",
      "\n",
      "Parameters:\n",
      "        ratio 0     -0.2454 (55)       [ -0.24 (10) ]  \n",
      "         A_1S 0       -0.18 (45)       [    0 ± 1.0 ]  \n",
      "              1      -0.395 (65)       [    0 ± 1.0 ]  \n",
      "         B_1S 0   -0.0006 (6000)       [    0 ± 1.0 ]  \n",
      "              1       0.054 (84)       [    0 ± 1.0 ]  \n",
      "         A_RW 0       -0.45 (52)       [    0 ± 1.0 ]  \n",
      "              1       0.211 (50)       [    0 ± 1.0 ]  \n",
      "         B_RW 0       -0.23 (44)       [    0 ± 1.0 ]  \n",
      "              1       0.063 (63)       [    0 ± 1.0 ]  \n",
      "       dE_src 0        1.12 (41)       [  1.38 (50) ]  \n",
      "              1       -0.85 (13)       [ -0.78 (50) ]  \n",
      "\n",
      "Settings:\n",
      "  svdcut/n = 0/0    tol = (1e-08,1e-10,1e-10*)    (itns/time = 16/0.0)\n",
      "  fitter = scipy_least_squares    method = trf\n",
      "\n",
      "# red chi2       = 14.46\n",
      "# aug chi2       = 15.24\n",
      "# chi2_exp       = 18.00\n",
      "# chi2/chi_exp   = 0.85\n",
      "# p-value (exp)  = 0.60\n",
      "# p-value (std)  = 0.05\n"
     ]
    },
    {
     "data": {
      "text/plain": [
       "Text(0, 0.5, 'abs($x_f$)')"
      ]
     },
     "execution_count": 19,
     "metadata": {},
     "output_type": "execute_result"
    },
    {
     "data": {
      "image/png": "[encoded data removed]",
      "text/plain": [
       "<Figure size 500x500 with 1 Axes>"
      ]
     },
     "metadata": {},
     "output_type": "display_data"
    }
   ],
   "source": [
    "plt.rcParams['text.usetex'] = True\n",
    "plt.rcParams['font.size'] = 12\n",
    "\n",
    "f, ax = plt.subplots(1,1,figsize=(5,5))\n",
    "\n",
    "fits = []\n",
    "f0s = []\n",
    "for i,mom in enumerate(MOMLIST):\n",
    "    requisites = ratio_prerequisites(\n",
    "        ens      = ENSEMBLE,\n",
    "        ratio    = RATIO,\n",
    "        mom      = mom,\n",
    "        readfrom = DATA_2PT,\n",
    "        jk       = JK\n",
    "    )\n",
    "\n",
    "    io = RatioIO(ENSEMBLE,RATIO,mom,PathToDataDir=DATA_DIR)\n",
    "    robj = RatioFitter(\n",
    "        io,\n",
    "        jkBin     = BINSIZE[ENSEMBLE],\n",
    "        smearing  = SMSLIST,\n",
    "        # readfrom  = DATA_2PT,\n",
    "        **requisites\n",
    "    )\n",
    "\n",
    "    trange = (TMIN, robj.Ta-TMIN)\n",
    "\n",
    "    cov_specs = dict(\n",
    "        diag   = False,\n",
    "        block  = False,\n",
    "        scale  = True,\n",
    "        shrink = True,\n",
    "        cutsvd = 1E-12\n",
    "    )\n",
    "\n",
    "    dE_src = phys_energy_priors(ENSEMBLE,meson,mom,NSTATES,readfrom=DATA_2PT, error=0.5)\n",
    "    dE_snk = phys_energy_priors(ENSEMBLE,'B'  ,mom,NSTATES,readfrom=DATA_2PT, error=0.5)\n",
    "    x,ydata = robj.format(trange,flatten=True)\n",
    "    pr = robj.priors(NSTATES, dE_src=dE_src, dE_snk=dE_snk)\n",
    "\n",
    "    fit = robj.fit(\n",
    "        Nstates = NSTATES,\n",
    "        trange  = trange,\n",
    "        priors  = pr,\n",
    "        verbose = False,\n",
    "        **cov_specs\n",
    "    )\n",
    "\n",
    "    res = robj.fit_result(\n",
    "        Nexc   = NSTATES,\n",
    "        trange = trange,\n",
    "        priors = pr \n",
    "    )\n",
    "\n",
    "    fits.append({\n",
    "        'ensemble': ENSEMBLE,\n",
    "        'ratio'   : RATIO,\n",
    "        'momentum': mom,\n",
    "        'f0'      : fit.p['ratio'][0],\n",
    "        'chiexp'  : res['chiexp'],\n",
    "        'pstd'    : res['pstd']\n",
    "    })\n",
    "\n",
    "\n",
    "    alpha = 0.2 if mom=='400' else 1.\n",
    "    robj.plot_fit(ax,NSTATES,trange,color=f'C{i}',color_res=f'C{i}',alpha=alpha,minus=False)\n",
    "\n",
    "    ax.scatter([],[], marker='o', color=f'C{i}', label=mom)\n",
    "\n",
    "\n",
    "    f0s.append(fit.p['ratio'][0])\n",
    "\n",
    "ax.errorbar([],[],[],fmt='o', ecolor='gray', mfc='w', color='gray', capsize=2.5, label='1S')\n",
    "ax.errorbar([],[],[],fmt='^', ecolor='gray', mfc='w', color='gray', capsize=2.5, label='d')\n",
    "\n",
    "# ax.set_xlim(-0.5,13)\n",
    "# ax.set_ylim(ymax=0.35,ymin=0.)\n",
    "ax.grid(alpha=0.2)\n",
    "ax.legend()\n",
    "\n",
    "ax.set_xlabel(r'$t_{min}/a$')\n",
    "\n",
    "ax.set_title(f'{ENSEMBLE} {RATIO}')\n",
    "\n",
    "# ax.set_ylabel(r'$Q_+$')\n",
    "ax.set_ylabel(r'abs($x_f$)')\n",
    "\n",
    "\n",
    "# plt.savefig(f'/Users/pietro/Desktop/{ENSEMBLE}_{RATIO}_multimom.pdf')"
   ]
  },
  {
   "cell_type": "code",
   "execution_count": 70,
   "metadata": {},
   "outputs": [
    {
     "name": "stdout",
     "output_type": "stream",
     "text": [
      "                                   f0  chiexp      pstd\n",
      "ensemble ratio  momentum                               \n",
      "Fine-1   RMINUS 100       -0.0880(15)    32.0  0.943642\n",
      "                200       -0.1790(38)    32.0  0.595768\n",
      "                300       -0.2584(64)    32.0  0.486708\n",
      "                400        -0.327(11)    32.0  0.405896\n"
     ]
    }
   ],
   "source": [
    "print(pd.DataFrame(fits).set_index(['ensemble','ratio','momentum']))"
   ]
  },
  {
   "cell_type": "code",
   "execution_count": null,
   "metadata": {},
   "outputs": [],
   "source": []
  }
 ],
 "metadata": {
  "kernelspec": {
   "display_name": "Python 3.11.4 ('stat')",
   "language": "python",
   "name": "python3"
  },
  "language_info": {
   "codemirror_mode": {
    "name": "ipython",
    "version": 3
   },
   "file_extension": ".py",
   "mimetype": "text/x-python",
   "name": "python",
   "nbconvert_exporter": "python",
   "pygments_lexer": "ipython3",
   "version": "3.11.4"
  },
  "orig_nbformat": 4,
  "vscode": {
   "interpreter": {
    "hash": "550906e9926f0f588aff226d3abadfa0c6a614c1c5eae7bfa21377021c1cb7ed"
   }
  }
 },
 "nbformat": 4,
 "nbformat_minor": 2
}
