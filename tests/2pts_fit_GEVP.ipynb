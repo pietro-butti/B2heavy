{
 "cells": [
  {
   "cell_type": "code",
   "execution_count": 114,
   "metadata": {},
   "outputs": [],
   "source": [
    "import numpy as np\n",
    "import gvar  as gv\n",
    "import matplotlib.pyplot as plt\n",
    "import pyerrors as pr"
   ]
  },
  {
   "cell_type": "code",
   "execution_count": 4,
   "metadata": {},
   "outputs": [],
   "source": [
    "from b2heavy.TwoPointFunctions.types2pts import CorrelatorIO, Correlator\n",
    "from b2heavy.TwoPointFunctions.fitter    import CorrFitter"
   ]
  },
  {
   "cell_type": "code",
   "execution_count": 168,
   "metadata": {},
   "outputs": [],
   "source": [
    "ens = 'Coarse-1'\n",
    "mes = 'Dsst'\n",
    "mom = '000'\n",
    "binsize = 11\n",
    "\n",
    "data_dir = '/Users/pietro/code/data_analysis/BtoD/Alex/'"
   ]
  },
  {
   "cell_type": "code",
   "execution_count": 177,
   "metadata": {},
   "outputs": [],
   "source": [
    "io     = CorrelatorIO(ens,mes,mom,PathToDataDir=data_dir)\n",
    "corr   = Correlator(io,jkBin=11,CrossSmearing=True)\n",
    "fitter = CorrFitter(corr,smearing=['d-d','1S-1S','d-1S'])"
   ]
  },
  {
   "cell_type": "code",
   "execution_count": 185,
   "metadata": {},
   "outputs": [
    {
     "name": "stdout",
     "output_type": "stream",
     "text": [
      "Fit for (2, (10, 19)) has already been performed. Returning...\n"
     ]
    }
   ],
   "source": [
    "trange = (10,19)\n",
    "Nstates = 2\n",
    "(X,m_eff,a_eff), MEFF, AEFF, Mpr, Apr = corr.EffectiveCoeff(trange,smearing=['d-d','1S-1S','d-1S'])\n",
    "priors = fitter.set_priors_phys(Nstates,Meff=MEFF, Aeff=AEFF)\n",
    "\n",
    "\n",
    "fitter.fit(Nstates,trange,priors=priors)\n",
    "f = fitter.fits[Nstates,trange]"
   ]
  },
  {
   "cell_type": "code",
   "execution_count": 186,
   "metadata": {},
   "outputs": [
    {
     "name": "stdout",
     "output_type": "stream",
     "text": [
      "Least Square Fit:\n",
      "  chi2/dof [dof] = 0.6 [30]    Q = 0.96    logGBF = 651.57\n",
      "\n",
      "Parameters:\n",
      "            E 0   1.14020 (30)      [ 1.14016 (35) ]  \n",
      "              1     -1.65 (11)      [   -1.66 (57) ]  \n",
      "              2     -0.67 (17)      [   -1.1 (1.0) ]  \n",
      "              3     -1.17 (67)      [   -1.1 (1.0) ]  \n",
      "   Z_1S_Unpol 0    0.5448 (23)      [   0.538 (13) ]  \n",
      "              1     -0.22 (13)      [   -1.2 (1.2) ]  \n",
      "              2      0.98 (57)      [    0.5 (1.5) ]  \n",
      "              3      0.3 (1.4)      [    0.5 (1.5) ]  \n",
      " Z_d-1S_Unpol 0      0.61 (19)      [    0.5 (1.7) ]  \n",
      "              1      0.39 (28)      [    0.5 (1.7) ]  \n",
      "    Z_d_Unpol 0   -1.7711 (27)      [ -1.7649 (74) ]  \n",
      "              1     -2.44 (18)      [   -3.0 (1.5) ]  \n",
      "              2      0.37 (15)      [    0.5 (1.5) ]  \n",
      "              3      0.23 (20)      [    0.5 (1.5) ]  \n",
      "\n",
      "Settings:\n",
      "  svdcut/n = 1e-12/0    tol = (1e-08,1e-10,1e-10*)    (itns/time = 26/0.0)\n",
      "  fitter = scipy_least_squares    method = trf\n",
      "\n"
     ]
    }
   ],
   "source": [
    "print(f)"
   ]
  },
  {
   "cell_type": "markdown",
   "metadata": {},
   "source": [
    "# Try use `pyerrors`"
   ]
  },
  {
   "cell_type": "code",
   "execution_count": 189,
   "metadata": {},
   "outputs": [],
   "source": [
    "corr   = Correlator(io,jkBin=0,CrossSmearing=True)"
   ]
  },
  {
   "cell_type": "code",
   "execution_count": 196,
   "metadata": {},
   "outputs": [],
   "source": [
    "sm,pol = 'd-d','Unpol'"
   ]
  },
  {
   "cell_type": "code",
   "execution_count": 197,
   "metadata": {},
   "outputs": [],
   "source": [
    "aux = [pr.Obs([corr.data.loc[sm,pol,:,t].to_numpy()],[ens]) for t in corr.data.timeslice]\n",
    "Cobs = pr.Corr(aux)"
   ]
  },
  {
   "cell_type": "code",
   "execution_count": 198,
   "metadata": {},
   "outputs": [],
   "source": [
    "Cobs.gamma_method()"
   ]
  },
  {
   "cell_type": "code",
   "execution_count": 200,
   "metadata": {},
   "outputs": [],
   "source": [
    "from b2heavy.TwoPointFunctions.utils import NplusN2ptModel\n",
    "model = NplusN2ptModel(2,fitter.Nt,sm,pol)"
   ]
  },
  {
   "cell_type": "code",
   "execution_count": 210,
   "metadata": {},
   "outputs": [
    {
     "data": {
      "text/plain": [
       "array([1.02325681e-01, 4.76839766e-02, 5.39745789e-03, 2.43269585e-03,\n",
       "       3.74559683e-04, 1.56250381e-04, 3.23711864e-05, 1.24073482e-05,\n",
       "       3.13216617e-06, 1.12632592e-06, 3.16477505e-07, 1.09184691e-07,\n",
       "       3.24100153e-08, 1.08928104e-08, 3.32884326e-09, 1.10025780e-09,\n",
       "       3.41825294e-10, 1.11756106e-10, 3.50671956e-11, 1.13823148e-11,\n",
       "       3.59414301e-12, 1.16097519e-12, 3.68106417e-13, 1.18517759e-13,\n",
       "       3.76809087e-14, 1.21051949e-14, 3.85574326e-15, 1.23683485e-15,\n",
       "       3.94484113e-16, 1.26532640e-16, 4.07659936e-17, 1.42398265e-17])"
      ]
     },
     "execution_count": 210,
     "metadata": {},
     "output_type": "execute_result"
    }
   ],
   "source": [
    "X = corr.data.timeslice.to_numpy()\n",
    "pars = gv.mean(f.p)\n",
    "model(X,pars)"
   ]
  },
  {
   "cell_type": "markdown",
   "metadata": {},
   "source": [
    "# Damp oscillating states"
   ]
  },
  {
   "cell_type": "code",
   "execution_count": 28,
   "metadata": {},
   "outputs": [
    {
     "ename": "NameError",
     "evalue": "name 'dataJk' is not defined",
     "output_type": "error",
     "traceback": [
      "\u001b[0;31m---------------------------------------------------------------------------\u001b[0m",
      "\u001b[0;31mNameError\u001b[0m                                 Traceback (most recent call last)",
      "Cell \u001b[0;32mIn[28], line 1\u001b[0m\n\u001b[0;32m----> 1\u001b[0m dataOut \u001b[38;5;241m=\u001b[39m \u001b[38;5;241m0.25\u001b[39m\u001b[38;5;241m*\u001b[39mtExpFac\u001b[38;5;241m*\u001b[39m(\u001b[43mdataJk\u001b[49m\u001b[38;5;241m/\u001b[39mtExpFac \u001b[38;5;241m+\u001b[39m \u001b[38;5;241m2\u001b[39m\u001b[38;5;241m*\u001b[39mnp\u001b[38;5;241m.\u001b[39mroll(dataJk, \u001b[38;5;241m-\u001b[39m\u001b[38;5;241m1\u001b[39m, axis\u001b[38;5;241m=\u001b[39m\u001b[38;5;241m1\u001b[39m)\u001b[38;5;241m/\u001b[39mnp\u001b[38;5;241m.\u001b[39mroll(tExpFac, \u001b[38;5;241m-\u001b[39m\u001b[38;5;241m1\u001b[39m, axis\u001b[38;5;241m=\u001b[39m\u001b[38;5;241m1\u001b[39m) \u001b[38;5;241m+\u001b[39m np\u001b[38;5;241m.\u001b[39mroll(dataJk, \u001b[38;5;241m-\u001b[39m\u001b[38;5;241m2\u001b[39m, axis\u001b[38;5;241m=\u001b[39m\u001b[38;5;241m1\u001b[39m)\u001b[38;5;241m/\u001b[39mnp\u001b[38;5;241m.\u001b[39mroll(tExpFac, \u001b[38;5;241m-\u001b[39m\u001b[38;5;241m2\u001b[39m, axis\u001b[38;5;241m=\u001b[39m\u001b[38;5;241m1\u001b[39m))\n",
      "\u001b[0;31mNameError\u001b[0m: name 'dataJk' is not defined"
     ]
    }
   ],
   "source": []
  },
  {
   "cell_type": "code",
   "execution_count": 29,
   "metadata": {},
   "outputs": [
    {
     "name": "stderr",
     "output_type": "stream",
     "text": [
      "/Users/pietro/opt/anaconda3/envs/stat/lib/python3.11/site-packages/autograd/tracer.py:48: RuntimeWarning: invalid value encountered in log\n",
      "  return f_raw(*args, **kwargs)\n"
     ]
    }
   ],
   "source": [
    "(X,meff,aeff), MEFF,AEFF, m_pr, apr = corr.EffectiveCoeff(trange=(10,20))"
   ]
  },
  {
   "cell_type": "code",
   "execution_count": 58,
   "metadata": {},
   "outputs": [],
   "source": [
    "tExpFac = np.exp(MEFF.mean * corr.data.timeslice.values)"
   ]
  },
  {
   "cell_type": "code",
   "execution_count": 105,
   "metadata": {},
   "outputs": [],
   "source": [
    "smr,pol = fitter.keys[0]\n",
    "aux     = [corr.data.loc[smr,pol,jk,:].to_numpy()/tExpFac for jk in corr.data.jkbin]\n",
    "Cdamp   = 0.25*tExpFac*(aux + 2*np.roll(aux,-1,axis=1) + np.roll(aux,-2,axis=1))\n",
    "Y       = gv.gvar(\n",
    "    Cdamp.mean(axis=0),\n",
    "    np.cov(Cdamp,rowvar=False) * (len(corr.data.jkbin)-1)\n",
    ")\n",
    "Yeff = np.log(Y/np.roll(Y,-1))/2 \n",
    "# meff[k] = np.arccosh(((np.roll(c,-1) + np.roll(c,1))/c/2))/2\n",
    "\n",
    "\n",
    "C = corr.format()[1][smr,pol]\n"
   ]
  },
  {
   "cell_type": "code",
   "execution_count": 106,
   "metadata": {},
   "outputs": [
    {
     "data": {
      "image/png": "[encoded data removed]",
      "text/plain": [
       "<Figure size 640x480 with 1 Axes>"
      ]
     },
     "metadata": {},
     "output_type": "display_data"
    }
   ],
   "source": [
    "k = (smr,pol)\n",
    "plt.errorbar(corr.data.timeslice[:27],gv.mean(meff[k])[:27],yerr=gv.sdev(meff[k])[:27],fmt='.')\n",
    "plt.errorbar(corr.data.timeslice[:27],gv.mean(Yeff)[:27],   yerr=gv.sdev(Yeff)[:27]   ,fmt='.')\n",
    "plt.savefig('/Users/pietro/Desktop/ciao.pdf')"
   ]
  },
  {
   "cell_type": "code",
   "execution_count": 103,
   "metadata": {},
   "outputs": [
    {
     "ename": "AxisError",
     "evalue": "axis 1 is out of bounds for array of dimension 1",
     "output_type": "error",
     "traceback": [
      "\u001b[0;31m---------------------------------------------------------------------------\u001b[0m",
      "\u001b[0;31mAxisError\u001b[0m                                 Traceback (most recent call last)",
      "Cell \u001b[0;32mIn[103], line 3\u001b[0m\n\u001b[1;32m      1\u001b[0m dataOut \u001b[38;5;241m=\u001b[39m \u001b[38;5;241m0.25\u001b[39m\u001b[38;5;241m*\u001b[39mtExpFac\u001b[38;5;241m*\u001b[39m(\n\u001b[1;32m      2\u001b[0m     dataJk\u001b[38;5;241m/\u001b[39mtExpFac \u001b[38;5;241m+\u001b[39m \\\n\u001b[0;32m----> 3\u001b[0m          \u001b[38;5;241m2\u001b[39m\u001b[38;5;241m*\u001b[39m\u001b[43mnp\u001b[49m\u001b[38;5;241;43m.\u001b[39;49m\u001b[43mroll\u001b[49m\u001b[43m(\u001b[49m\u001b[43mdataJk\u001b[49m\u001b[43m,\u001b[49m\u001b[43m \u001b[49m\u001b[38;5;241;43m-\u001b[39;49m\u001b[38;5;241;43m1\u001b[39;49m\u001b[43m,\u001b[49m\u001b[43m \u001b[49m\u001b[43maxis\u001b[49m\u001b[38;5;241;43m=\u001b[39;49m\u001b[38;5;241;43m1\u001b[39;49m\u001b[43m)\u001b[49m\u001b[38;5;241m/\u001b[39mnp\u001b[38;5;241m.\u001b[39mroll(tExpFac, \u001b[38;5;241m-\u001b[39m\u001b[38;5;241m1\u001b[39m, axis\u001b[38;5;241m=\u001b[39m\u001b[38;5;241m1\u001b[39m) \\\n\u001b[1;32m      4\u001b[0m          \u001b[38;5;241m+\u001b[39m np\u001b[38;5;241m.\u001b[39mroll(dataJk, \u001b[38;5;241m-\u001b[39m\u001b[38;5;241m2\u001b[39m, axis\u001b[38;5;241m=\u001b[39m\u001b[38;5;241m1\u001b[39m)\u001b[38;5;241m/\u001b[39mnp\u001b[38;5;241m.\u001b[39mroll(tExpFac, \u001b[38;5;241m-\u001b[39m\u001b[38;5;241m2\u001b[39m, axis\u001b[38;5;241m=\u001b[39m\u001b[38;5;241m1\u001b[39m)\n\u001b[1;32m      5\u001b[0m )\n",
      "File \u001b[0;32m~/opt/anaconda3/envs/stat/lib/python3.11/site-packages/numpy/core/numeric.py:1211\u001b[0m, in \u001b[0;36mroll\u001b[0;34m(a, shift, axis)\u001b[0m\n\u001b[1;32m   1208\u001b[0m     \u001b[39mreturn\u001b[39;00m roll(a\u001b[39m.\u001b[39mravel(), shift, \u001b[39m0\u001b[39m)\u001b[39m.\u001b[39mreshape(a\u001b[39m.\u001b[39mshape)\n\u001b[1;32m   1210\u001b[0m \u001b[39melse\u001b[39;00m:\n\u001b[0;32m-> 1211\u001b[0m     axis \u001b[39m=\u001b[39m normalize_axis_tuple(axis, a\u001b[39m.\u001b[39;49mndim, allow_duplicate\u001b[39m=\u001b[39;49m\u001b[39mTrue\u001b[39;49;00m)\n\u001b[1;32m   1212\u001b[0m     broadcasted \u001b[39m=\u001b[39m broadcast(shift, axis)\n\u001b[1;32m   1213\u001b[0m     \u001b[39mif\u001b[39;00m broadcasted\u001b[39m.\u001b[39mndim \u001b[39m>\u001b[39m \u001b[39m1\u001b[39m:\n",
      "File \u001b[0;32m~/opt/anaconda3/envs/stat/lib/python3.11/site-packages/numpy/core/numeric.py:1380\u001b[0m, in \u001b[0;36mnormalize_axis_tuple\u001b[0;34m(axis, ndim, argname, allow_duplicate)\u001b[0m\n\u001b[1;32m   1378\u001b[0m         \u001b[39mpass\u001b[39;00m\n\u001b[1;32m   1379\u001b[0m \u001b[39m# Going via an iterator directly is slower than via list comprehension.\u001b[39;00m\n\u001b[0;32m-> 1380\u001b[0m axis \u001b[39m=\u001b[39m \u001b[39mtuple\u001b[39m([normalize_axis_index(ax, ndim, argname) \u001b[39mfor\u001b[39;49;00m ax \u001b[39min\u001b[39;49;00m axis])\n\u001b[1;32m   1381\u001b[0m \u001b[39mif\u001b[39;00m \u001b[39mnot\u001b[39;00m allow_duplicate \u001b[39mand\u001b[39;00m \u001b[39mlen\u001b[39m(\u001b[39mset\u001b[39m(axis)) \u001b[39m!=\u001b[39m \u001b[39mlen\u001b[39m(axis):\n\u001b[1;32m   1382\u001b[0m     \u001b[39mif\u001b[39;00m argname:\n",
      "File \u001b[0;32m~/opt/anaconda3/envs/stat/lib/python3.11/site-packages/numpy/core/numeric.py:1380\u001b[0m, in \u001b[0;36m<listcomp>\u001b[0;34m(.0)\u001b[0m\n\u001b[1;32m   1378\u001b[0m         \u001b[39mpass\u001b[39;00m\n\u001b[1;32m   1379\u001b[0m \u001b[39m# Going via an iterator directly is slower than via list comprehension.\u001b[39;00m\n\u001b[0;32m-> 1380\u001b[0m axis \u001b[39m=\u001b[39m \u001b[39mtuple\u001b[39m([normalize_axis_index(ax, ndim, argname) \u001b[39mfor\u001b[39;00m ax \u001b[39min\u001b[39;00m axis])\n\u001b[1;32m   1381\u001b[0m \u001b[39mif\u001b[39;00m \u001b[39mnot\u001b[39;00m allow_duplicate \u001b[39mand\u001b[39;00m \u001b[39mlen\u001b[39m(\u001b[39mset\u001b[39m(axis)) \u001b[39m!=\u001b[39m \u001b[39mlen\u001b[39m(axis):\n\u001b[1;32m   1382\u001b[0m     \u001b[39mif\u001b[39;00m argname:\n",
      "\u001b[0;31mAxisError\u001b[0m: axis 1 is out of bounds for array of dimension 1"
     ]
    }
   ],
   "source": [
    "dataOut = 0.25*tExpFac*(\n",
    "    dataJk/tExpFac + \\\n",
    "         2*np.roll(dataJk, -1, axis=1)/np.roll(tExpFac, -1, axis=1) \\\n",
    "         + np.roll(dataJk, -2, axis=1)/np.roll(tExpFac, -2, axis=1)\n",
    ")\n"
   ]
  },
  {
   "cell_type": "markdown",
   "metadata": {},
   "source": [
    "# Old"
   ]
  },
  {
   "cell_type": "code",
   "execution_count": 64,
   "metadata": {},
   "outputs": [
    {
     "data": {
      "text/plain": [
       "<matplotlib.legend.Legend at 0x150a1e3d0>"
      ]
     },
     "execution_count": 64,
     "metadata": {},
     "output_type": "execute_result"
    },
    {
     "data": {
      "image/png": "[encoded data removed]",
      "text/plain": [
       "<Figure size 800x400 with 1 Axes>"
      ]
     },
     "metadata": {},
     "output_type": "display_data"
    }
   ],
   "source": [
    "plt.rcParams['text.usetex'] = True\n",
    "plt.rcParams['font.size'] = 12\n",
    "plt.figure(figsize=(8, 4))\n",
    "ax = plt.subplot(1,1,1)\n",
    "\n",
    "\n",
    "bestT0 = corr.Nt//2//2-2\n",
    "\n",
    "for t0 in range(bestT0-2,bestT0+2):\n",
    "    try:\n",
    "        y = fitter.GEVP(t0=t0,order=1)['Unpol']\n",
    "        x = np.arange(0,len(y))\n",
    "        ax.errorbar(x,gv.mean(y),yerr=gv.sdev(y),fmt='.',label=f'{t0}')\n",
    "\n",
    "    except:\n",
    "        continue\n",
    "\n",
    "ax.legend()"
   ]
  },
  {
   "cell_type": "code",
   "execution_count": null,
   "metadata": {},
   "outputs": [],
   "source": []
  }
 ],
 "metadata": {
  "kernelspec": {
   "display_name": "Python 3.11.4 ('stat')",
   "language": "python",
   "name": "python3"
  },
  "language_info": {
   "codemirror_mode": {
    "name": "ipython",
    "version": 3
   },
   "file_extension": ".py",
   "mimetype": "text/x-python",
   "name": "python",
   "nbconvert_exporter": "python",
   "pygments_lexer": "ipython3",
   "version": "3.11.4"
  },
  "orig_nbformat": 4,
  "vscode": {
   "interpreter": {
    "hash": "550906e9926f0f588aff226d3abadfa0c6a614c1c5eae7bfa21377021c1cb7ed"
   }
  }
 },
 "nbformat": 4,
 "nbformat_minor": 2
}
