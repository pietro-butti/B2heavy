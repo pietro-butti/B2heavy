{
 "cells": [
  {
   "cell_type": "code",
   "execution_count": 1,
   "metadata": {},
   "outputs": [],
   "source": [
    "import numpy             as np\n",
    "import gvar              as gv\n",
    "import matplotlib.pyplot as plt"
   ]
  },
  {
   "cell_type": "code",
   "execution_count": 2,
   "metadata": {},
   "outputs": [],
   "source": [
    "from b2heavy                             import FnalHISQMetadata\n",
    "from b2heavy.TwoPointFunctions.types2pts import CorrelatorIO, Correlator\n",
    "from fit_2pts_stability_test             import read_results_stability_test\n",
    "from DEFAULT_ANALYSIS_ROOT               import DEFAULT_ANALYSIS_ROOT"
   ]
  },
  {
   "cell_type": "code",
   "execution_count": 58,
   "metadata": {},
   "outputs": [],
   "source": [
    "ENS_LIST = ['Coarse-2','Coarse-1','Coarse-Phys','Fine-1']\n",
    "MOM_LIST = ['100','200','300']\n",
    "\n",
    "DATA_DIR = '/Users/pietro/code/data_analysis/BtoD/Alex/'\n",
    "\n",
    "BINSIZE = {\n",
    "    'MediumCoarse':13,\n",
    "    'Coarse-2':    16,\n",
    "    'Coarse-1':    11,\n",
    "    'Coarse-Phys': 19,\n",
    "    'Fine-1':      16,\n",
    "    'Fine-Phys':   16,\n",
    "    'SuperFine':   22\n",
    "}\n"
   ]
  },
  {
   "cell_type": "code",
   "execution_count": 3,
   "metadata": {},
   "outputs": [],
   "source": [
    "TMIN = {\n",
    "    3: 0.631,\n",
    "    3: 1.021\n",
    "}"
   ]
  },
  {
   "cell_type": "code",
   "execution_count": 59,
   "metadata": {},
   "outputs": [
    {
     "name": "stdout",
     "output_type": "stream",
     "text": [
      "('Coarse-2', '100') (5, 22) ---> p = 0.0\n",
      "('Coarse-1', '100') (5, 23) ---> p = 0.0\n",
      "('Coarse-1', '200') (5, 21) ---> p = 0.0\n",
      "('Coarse-1', '300') (5, 17) ---> p = 0.0\n",
      "('Coarse-Phys', '100') (5, 22) ---> p = 0.0\n",
      "('Coarse-Phys', '200') (5, 20) ---> p = 0.0\n",
      "('Coarse-Phys', '300') (5, 19) ---> p = 0.0\n",
      "('Fine-1', '100') (7, 33) ---> p = 0.0\n",
      "('Fine-1', '200') (7, 29) ---> p = 0.0\n",
      "('Fine-1', '300') (7, 25) ---> p = 0.0\n"
     ]
    }
   ],
   "source": [
    "pvalues = []\n",
    "\n",
    "for ens in ENS_LIST:\n",
    "    a_fm = FnalHISQMetadata.params(ens)['aSpc']\n",
    "    Tmin = int((TMIN_FM/a_fm).mean)\n",
    "\n",
    "    for mom in MOM_LIST:\n",
    "        io   = CorrelatorIO(ens,'Dst',mom,PathToDataDir=DATA_DIR)\n",
    "        stag = Correlator(\n",
    "            io       = io,\n",
    "            jkBin    = BINSIZE[ens],\n",
    "            smearing = ['1S-1S','d-d','d-1S']\n",
    "        )\n",
    "        Tmax = stag.tmax(threshold=0.25)\n",
    "\n",
    "\n",
    "        try:\n",
    "            file = f'{DEFAULT_ANALYSIS_ROOT}/stability_test_scan/fit2pt_stability_test_{ens}_Dst_{mom}.pickle'\n",
    "            df = read_results_stability_test(file,show=False)\n",
    "        except FileNotFoundError:\n",
    "            continue\n",
    "\n",
    "        p = float(df.loc[NSTATES,Tmin,Tmax]['pvalue'])\n",
    "        print(f'{ens,mom} {(Tmin,Tmax)} ---> {p = }')"
   ]
  },
  {
   "cell_type": "code",
   "execution_count": null,
   "metadata": {},
   "outputs": [],
   "source": []
  }
 ],
 "metadata": {
  "kernelspec": {
   "display_name": "Python 3.11.4 ('stat')",
   "language": "python",
   "name": "python3"
  },
  "language_info": {
   "codemirror_mode": {
    "name": "ipython",
    "version": 3
   },
   "file_extension": ".py",
   "mimetype": "text/x-python",
   "name": "python",
   "nbconvert_exporter": "python",
   "pygments_lexer": "ipython3",
   "version": "3.11.4"
  },
  "orig_nbformat": 4,
  "vscode": {
   "interpreter": {
    "hash": "550906e9926f0f588aff226d3abadfa0c6a614c1c5eae7bfa21377021c1cb7ed"
   }
  }
 },
 "nbformat": 4,
 "nbformat_minor": 2
}
