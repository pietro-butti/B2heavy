{
 "cells": [
  {
   "cell_type": "code",
   "execution_count": 53,
   "metadata": {},
   "outputs": [],
   "source": [
    "import numpy             as np\n",
    "import gvar              as gv\n",
    "import matplotlib.pyplot as plt\n",
    "import pandas            as pd\n",
    "import lsqfit\n",
    "import itertools\n",
    "from tqdm import tqdm"
   ]
  },
  {
   "cell_type": "code",
   "execution_count": 54,
   "metadata": {},
   "outputs": [],
   "source": [
    "from b2heavy.FnalHISQMetadata import params as mData"
   ]
  },
  {
   "cell_type": "code",
   "execution_count": 55,
   "metadata": {},
   "outputs": [],
   "source": [
    "from b2heavy.ThreePointFunctions.types3pts  import Ratio, RatioIO, ratio_prerequisites, ratio_correction_factor\n",
    "from b2heavy.ThreePointFunctions.fitter3pts import RatioFitter, phys_energy_priors\n",
    "from b2heavy.ThreePointFunctions.utils      import read_config_fit, dump_fit_object"
   ]
  },
  {
   "cell_type": "code",
   "execution_count": 56,
   "metadata": {},
   "outputs": [],
   "source": [
    "DATA_DIR = '/Users/pietro/code/data_analysis/BtoD/Alex/'\n",
    "DATA_2PT = '/Users/pietro/Desktop/lattice24/0.25/corr2_3'\n",
    "\n",
    "\n",
    "BINSIZE  = {\n",
    "    'MediumCoarse':13,\n",
    "    'Coarse-2':    16,\n",
    "    'Coarse-1':    11,\n",
    "    'Coarse-Phys': 19,\n",
    "    'Fine-1':      16,\n",
    "    'Fine-Phys':   16,\n",
    "    'SuperFine':   22\n",
    "}"
   ]
  },
  {
   "cell_type": "code",
   "execution_count": 57,
   "metadata": {},
   "outputs": [],
   "source": [
    "ENSEMBLE = 'Coarse-1'\n",
    "RATIO    = 'QPLUS'\n",
    "SMSLIST  = ['1S','RW']\n",
    "# SMSLIST  = ['1S']\n",
    "MOMLIST  = ['100','200','300','400']\n",
    "MOMLIST  = ['100','200','300']\n",
    "# MOMLIST  = ['000']"
   ]
  },
  {
   "cell_type": "code",
   "execution_count": 58,
   "metadata": {},
   "outputs": [],
   "source": [
    "if RATIO in ['RMINUS','RPLUS','QPLUS','XF']:\n",
    "    meson = 'D'\n",
    "else:\n",
    "    meson = 'Dst'"
   ]
  },
  {
   "cell_type": "code",
   "execution_count": 59,
   "metadata": {},
   "outputs": [],
   "source": [
    "TMIN    = 1\n",
    "NSTATES = 2"
   ]
  },
  {
   "cell_type": "code",
   "execution_count": 60,
   "metadata": {},
   "outputs": [],
   "source": [
    "JK = True"
   ]
  },
  {
   "cell_type": "code",
   "execution_count": 61,
   "metadata": {},
   "outputs": [
    {
     "name": "stdout",
     "output_type": "stream",
     "text": [
      "# ---------- chi^2_exp analysis -------------\n",
      "# chi2_exp = 22.000000000000284 +/- 6.633249580711021 \n",
      "# p-value [eval] = 0.8106\n",
      "# p-value [MC]   = 0.7983\n",
      "# ---------- 2+2 fit in (1, 11) for mes: QPLUS of ens: Coarse-1 for mom: 100 --------------\n",
      "Least Square Fit:\n",
      "  chi2/dof [dof] = 0.41 [22]    Q = 0.99    logGBF = 99.727\n",
      "\n",
      "Parameters:\n",
      "        ratio 0    0.9886 (31)      [  0.99 (10) ]  \n",
      "         A_1S 0      0.10 (13)      [    0 ± 1.0 ]  \n",
      "              1    -0.038 (14)      [    0 ± 1.0 ]  \n",
      "         B_1S 0     -0.34 (64)      [    0 ± 1.0 ]  \n",
      "              1    0.0152 (54)      [    0 ± 1.0 ]  \n",
      "         A_RW 0     0.013 (31)      [    0 ± 1.0 ]  \n",
      "              1   -0.0092 (69)      [    0 ± 1.0 ]  \n",
      "         B_RW 0     -0.18 (35)      [    0 ± 1.0 ]  \n",
      "              1    0.0097 (46)      [    0 ± 1.0 ]  \n",
      "       dE_src 0      1.09 (49)      [  1.02 (50) ]  \n",
      "              1     -0.35 (35)      [ -0.68 (50) ]  \n",
      "       dE_snk 0      1.72 (35)      [  1.92 (50) ]  \n",
      "              1     -1.01 (42)      [ -0.82 (50) ]  \n",
      "\n",
      "Settings:\n",
      "  svdcut/n = 0/0    tol = (1e-08,1e-10,1e-10*)    (itns/time = 28/0.0)\n",
      "  fitter = scipy_least_squares    method = trf\n",
      "\n",
      "# red chi2       = 8.04\n",
      "# aug chi2       = 8.96\n",
      "# chi2_exp       = 22.00\n",
      "# chi2/chi_exp   = 0.41\n",
      "# p-value (exp)  = 0.81\n",
      "# p-value (std)  = 0.61\n",
      "# ---------- chi^2_exp analysis -------------\n",
      "# chi2_exp = 21.99999999999758 +/- 6.633249580711039 \n",
      "# p-value [eval] = 0.5349\n",
      "# p-value [MC]   = 0.5247999999999999\n",
      "# ---------- 2+2 fit in (1, 11) for mes: QPLUS of ens: Coarse-1 for mom: 200 --------------\n",
      "Least Square Fit:\n",
      "  chi2/dof [dof] = 0.72 [22]    Q = 0.83    logGBF = 84.18\n",
      "\n",
      "Parameters:\n",
      "        ratio 0   0.9519 (62)     [  0.95 (10) ]  \n",
      "         A_1S 0     0.21 (25)     [    0 ± 1.0 ]  \n",
      "              1   -0.096 (22)     [    0 ± 1.0 ]  \n",
      "         B_1S 0    -0.39 (73)     [    0 ± 1.0 ]  \n",
      "              1    0.022 (13)     [    0 ± 1.0 ]  \n",
      "         A_RW 0   -0.033 (62)     [    0 ± 1.0 ]  \n",
      "              1    0.009 (14)     [    0 ± 1.0 ]  \n",
      "         B_RW 0     0.15 (40)     [    0 ± 1.0 ]  \n",
      "              1   0.0012 (99)     [    0 ± 1.0 ]  \n",
      "       dE_src 0     1.08 (47)     [  1.07 (50) ]  \n",
      "              1    -0.58 (25)     [ -0.94 (50) ]  \n",
      "       dE_snk 0     1.69 (34)     [  1.93 (50) ]  \n",
      "              1    -1.16 (44)     [ -1.05 (50) ]  \n",
      "\n",
      "Settings:\n",
      "  svdcut/n = 0/0    tol = (1e-08,1e-10,1e-10*)    (itns/time = 25/0.0)\n",
      "  fitter = scipy_least_squares    method = trf\n",
      "\n",
      "# red chi2       = 14.78\n",
      "# aug chi2       = 15.80\n",
      "# chi2_exp       = 22.00\n",
      "# chi2/chi_exp   = 0.72\n",
      "# p-value (exp)  = 0.53\n",
      "# p-value (std)  = 0.17\n",
      "# ---------- chi^2_exp analysis -------------\n",
      "# chi2_exp = 21.99999999999987 +/- 6.6332495807111815 \n",
      "# p-value [eval] = 0.4719\n",
      "# p-value [MC]   = 0.4777\n",
      "# ---------- 2+2 fit in (1, 11) for mes: QPLUS of ens: Coarse-1 for mom: 300 --------------\n",
      "Least Square Fit:\n",
      "  chi2/dof [dof] = 0.87 [22]    Q = 0.63    logGBF = 71.775\n",
      "\n",
      "Parameters:\n",
      "        ratio 0    0.896 (11)     [  0.89 (10) ]  \n",
      "         A_1S 0     0.29 (34)     [    0 ± 1.0 ]  \n",
      "              1   -0.204 (30)     [    0 ± 1.0 ]  \n",
      "         B_1S 0    -0.20 (75)     [    0 ± 1.0 ]  \n",
      "              1    0.031 (29)     [    0 ± 1.0 ]  \n",
      "         A_RW 0   -0.048 (84)     [    0 ± 1.0 ]  \n",
      "              1    0.027 (23)     [    0 ± 1.0 ]  \n",
      "         B_RW 0     0.42 (78)     [    0 ± 1.0 ]  \n",
      "              1   -0.004 (22)     [    0 ± 1.0 ]  \n",
      "       dE_src 0     1.04 (46)     [  1.14 (50) ]  \n",
      "              1    -0.83 (19)     [ -0.92 (50) ]  \n",
      "       dE_snk 0     1.65 (34)     [  1.95 (50) ]  \n",
      "              1    -1.03 (47)     [ -1.08 (50) ]  \n",
      "\n",
      "Settings:\n",
      "  svdcut/n = 0/0    tol = (1e-08,1e-10,1e-10*)    (itns/time = 32/0.0)\n",
      "  fitter = scipy_least_squares    method = trf\n",
      "\n",
      "# red chi2       = 18.44\n",
      "# aug chi2       = 19.21\n",
      "# chi2_exp       = 22.00\n",
      "# chi2/chi_exp   = 0.87\n",
      "# p-value (exp)  = 0.47\n",
      "# p-value (std)  = 0.07\n"
     ]
    },
    {
     "data": {
      "text/plain": [
       "Text(0.5, 1.0, 'Coarse-1 QPLUS')"
      ]
     },
     "execution_count": 61,
     "metadata": {},
     "output_type": "execute_result"
    },
    {
     "data": {
      "image/png": "[encoded data removed]",
      "text/plain": [
       "<Figure size 500x500 with 1 Axes>"
      ]
     },
     "metadata": {},
     "output_type": "display_data"
    }
   ],
   "source": [
    "plt.rcParams['text.usetex'] = True\n",
    "plt.rcParams['font.size'] = 12\n",
    "\n",
    "f, ax = plt.subplots(1,1,figsize=(5,5))\n",
    "\n",
    "fits = []\n",
    "f0s = []\n",
    "for i,mom in enumerate(MOMLIST):\n",
    "    requisites = ratio_prerequisites(\n",
    "        ens      = ENSEMBLE,\n",
    "        ratio    = RATIO,\n",
    "        mom      = mom,\n",
    "        readfrom = DATA_2PT,\n",
    "        jk       = JK\n",
    "    )\n",
    "\n",
    "    io = RatioIO(ENSEMBLE,RATIO,mom,PathToDataDir=DATA_DIR)\n",
    "    robj = RatioFitter(\n",
    "        io,\n",
    "        jkBin     = BINSIZE[ENSEMBLE],\n",
    "        smearing  = SMSLIST,\n",
    "        # readfrom  = DATA_2PT,\n",
    "        **requisites\n",
    "    )\n",
    "\n",
    "    trange = (TMIN, robj.Ta-TMIN)\n",
    "\n",
    "    cov_specs = dict(\n",
    "        diag   = False,\n",
    "        block  = False,\n",
    "        scale  = True,\n",
    "        shrink = True,\n",
    "        cutsvd = 1E-12\n",
    "    )\n",
    "\n",
    "    dE_src = phys_energy_priors(ENSEMBLE,meson,mom,NSTATES,readfrom=DATA_2PT, error=0.5)\n",
    "    dE_snk = phys_energy_priors(ENSEMBLE,'B'  ,mom,NSTATES,readfrom=DATA_2PT, error=0.5)\n",
    "    x,ydata = robj.format(trange,flatten=True)\n",
    "    pr = robj.priors(NSTATES, dE_src=dE_src, dE_snk=dE_snk)\n",
    "\n",
    "    fit = robj.fit(\n",
    "        Nstates = NSTATES,\n",
    "        trange  = trange,\n",
    "        priors  = pr,\n",
    "        verbose = False,\n",
    "        **cov_specs\n",
    "    )\n",
    "\n",
    "    res = robj.fit_result(\n",
    "        Nexc   = NSTATES,\n",
    "        trange = trange,\n",
    "        priors = pr \n",
    "    )\n",
    "\n",
    "    fits.append({\n",
    "        'ensemble': ENSEMBLE,\n",
    "        'ratio'   : RATIO,\n",
    "        'momentum': mom,\n",
    "        'f0'      : fit.p['ratio'][0],\n",
    "        'chiexp'  : res['chiexp'],\n",
    "        'pstd'    : res['pstd']\n",
    "    })\n",
    "\n",
    "\n",
    "    alpha = 0.2 if mom=='400' else 1.\n",
    "    robj.plot_fit(ax,NSTATES,trange,color=f'C{i}',color_res=f'C{i}',alpha=alpha,minus=False)\n",
    "\n",
    "    ax.scatter([],[], marker='o', color=f'C{i}', label=mom)\n",
    "\n",
    "\n",
    "    f0s.append(fit.p['ratio'][0])\n",
    "\n",
    "ax.errorbar([],[],[],fmt='o', ecolor='gray', mfc='w', color='gray', capsize=2.5, label='1S')\n",
    "ax.errorbar([],[],[],fmt='^', ecolor='gray', mfc='w', color='gray', capsize=2.5, label='d')\n",
    "\n",
    "# ax.set_xlim(-0.5,13)\n",
    "# ax.set_ylim(ymax=0.35,ymin=0.)\n",
    "ax.grid(alpha=0.2)\n",
    "ax.legend()\n",
    "\n",
    "ax.set_xlabel(r'$t_{min}/a$')\n",
    "\n",
    "ax.set_title(f'{ENSEMBLE} {RATIO}')\n",
    "\n",
    "# ax.set_ylabel(r'$Q_+$')\n",
    "# ax.set_ylabel(r'abs($x_f$)')\n",
    "\n",
    "\n",
    "# plt.savefig(f'/Users/pietro/Desktop/{ENSEMBLE}_{RATIO}_multimom.pdf')"
   ]
  },
  {
   "cell_type": "code",
   "execution_count": 62,
   "metadata": {},
   "outputs": [
    {
     "name": "stdout",
     "output_type": "stream",
     "text": [
      "                                 f0  chiexp      pstd\n",
      "ensemble ratio momentum                              \n",
      "Coarse-1 QPLUS 100       0.9886(31)    22.0  0.614128\n",
      "               200       0.9519(62)    22.0  0.170011\n",
      "               300        0.896(11)    22.0  0.071194\n"
     ]
    }
   ],
   "source": [
    "print(pd.DataFrame(fits).set_index(['ensemble','ratio','momentum']))"
   ]
  },
  {
   "cell_type": "code",
   "execution_count": null,
   "metadata": {},
   "outputs": [],
   "source": []
  }
 ],
 "metadata": {
  "kernelspec": {
   "display_name": "Python 3.11.4 ('stat')",
   "language": "python",
   "name": "python3"
  },
  "language_info": {
   "codemirror_mode": {
    "name": "ipython",
    "version": 3
   },
   "file_extension": ".py",
   "mimetype": "text/x-python",
   "name": "python",
   "nbconvert_exporter": "python",
   "pygments_lexer": "ipython3",
   "version": "3.11.4"
  },
  "orig_nbformat": 4,
  "vscode": {
   "interpreter": {
    "hash": "550906e9926f0f588aff226d3abadfa0c6a614c1c5eae7bfa21377021c1cb7ed"
   }
  }
 },
 "nbformat": 4,
 "nbformat_minor": 2
}
