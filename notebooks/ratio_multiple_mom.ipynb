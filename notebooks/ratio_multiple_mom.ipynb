{
 "cells": [
  {
   "cell_type": "code",
   "execution_count": 1,
   "metadata": {},
   "outputs": [],
   "source": [
    "import numpy             as np\n",
    "import gvar              as gv\n",
    "import matplotlib.pyplot as plt\n",
    "import lsqfit\n",
    "import itertools\n",
    "from tqdm import tqdm"
   ]
  },
  {
   "cell_type": "code",
   "execution_count": 2,
   "metadata": {},
   "outputs": [],
   "source": [
    "from b2heavy.FnalHISQMetadata import params as mData"
   ]
  },
  {
   "cell_type": "code",
   "execution_count": 3,
   "metadata": {},
   "outputs": [],
   "source": [
    "from b2heavy.ThreePointFunctions.types3pts  import Ratio, RatioIO, ratio_prerequisites, ratio_correction_factor\n",
    "from b2heavy.ThreePointFunctions.fitter3pts import RatioFitter, phys_energy_priors\n",
    "from b2heavy.ThreePointFunctions.utils      import read_config_fit, dump_fit_object"
   ]
  },
  {
   "cell_type": "code",
   "execution_count": 4,
   "metadata": {},
   "outputs": [],
   "source": [
    "DATA_DIR = '/Users/pietro/code/data_analysis/BtoD/Alex/'\n",
    "DATA_2PT = '/Users/pietro/code/data_analysis/data/QCDNf2p1stag/B2heavy/report'\n",
    "\n",
    "BINSIZE  = {\n",
    "    'MediumCoarse':13,\n",
    "    'Coarse-2':    16,\n",
    "    'Coarse-1':    11,\n",
    "    'Coarse-Phys': 19,\n",
    "    'Fine-1':      16,\n",
    "    'Fine-Phys':   16,\n",
    "    'SuperFine':   22\n",
    "}"
   ]
  },
  {
   "cell_type": "code",
   "execution_count": 10,
   "metadata": {},
   "outputs": [],
   "source": [
    "ENSEMBLE = 'Fine-1'\n",
    "RATIO    = 'R0'\n",
    "SMSLIST  = ['1S']\n",
    "MOMLIST  = ['100','200','300','400']\n",
    "# MOMLIST  = ['000']"
   ]
  },
  {
   "cell_type": "code",
   "execution_count": 18,
   "metadata": {},
   "outputs": [
    {
     "name": "stdout",
     "output_type": "stream",
     "text": [
      "0.9246253668174869\n",
      "0.5500994203692772\n",
      "0.2772860559079932\n",
      "0.1463317443980845\n"
     ]
    }
   ],
   "source": [
    "for mom in MOMLIST:\n",
    "    io = RatioIO(ENSEMBLE,RATIO,mom,PathToDataDir=DATA_DIR)\n",
    "\n",
    "    req = ratio_prerequisites(\n",
    "        ens      = ENSEMBLE,\n",
    "        ratio    = RATIO,\n",
    "        mom      = mom,\n",
    "        readfrom = DATA_2PT,\n",
    "        jk       = False\n",
    "    )\n",
    "\n",
    "    print(np.exp(-(req['E0']-req['m0'])*io.Ta))\n",
    "    print(np.exp(-(req['E0']-req['m0'])*io.Ta))\n",
    "\n",
    "    ff = ratio_correction_factor(RATIO,io.Ta,**req)\n",
    "\n",
    "    # print(ff)"
   ]
  },
  {
   "cell_type": "code",
   "execution_count": 7,
   "metadata": {},
   "outputs": [],
   "source": [
    "TMIN    = 2\n",
    "NSTATES = 1"
   ]
  },
  {
   "cell_type": "code",
   "execution_count": 8,
   "metadata": {},
   "outputs": [
    {
     "name": "stdout",
     "output_type": "stream",
     "text": [
      "Intel MKL WARNING: Support of Intel(R) Streaming SIMD Extensions 4.2 (Intel(R) SSE4.2) enabled only processors has been deprecated. Intel oneAPI Math Kernel Library 2025.0 will require Intel(R) Advanced Vector Extensions (Intel(R) AVX) instructions.\n",
      "# ---------- chi^2_exp analysis -------------\n",
      "# chi2_exp = 11.580895911691108 +/- 4.450713233293699 \n",
      "# p-value [eval] = 0.7312\n",
      "# p-value [MC]   = 0.7258\n",
      "# ---------- 1+1 fit in (2, 15) for mes: RA1 of ens: Fine-1 for mom: 100 --------------\n",
      "Least Square Fit:\n",
      "  chi2/dof [dof] = 0.62 [14]    Q = 0.86    logGBF = 64.822\n",
      "\n",
      "Parameters:\n",
      "        ratio 0   0.542 (23)     [  0.55 (10) ]  \n",
      "         A_1S 0   0.054 (37)     [    0 ± 1.0 ]  \n",
      "         B_1S 0   0.070 (39)     [    0 ± 1.0 ]  \n",
      "       dE_src 0   -1.38 (90)     [ -2.0 (1.0) ]  \n",
      "\n",
      "Settings:\n",
      "  svdcut/n = 0/0    tol = (1e-08,1e-10,1e-10*)    (itns/time = 44/0.2)\n",
      "  fitter = scipy_least_squares    method = trf\n",
      "\n",
      "# red chi2       = 8.21\n",
      "# aug chi2       = 8.61\n",
      "# chi2_exp       = 11.58\n",
      "# chi2/chi_exp   = 0.74\n",
      "# p-value (exp)  = 0.73\n",
      "# p-value (std)  = 0.73\n",
      "# ---------- chi^2_exp analysis -------------\n",
      "# chi2_exp = 11.655000474262797 +/- 4.472291602404301 \n",
      "# p-value [eval] = 0.8928\n",
      "# p-value [MC]   = 0.8949\n",
      "# ---------- 1+1 fit in (2, 15) for mes: RA1 of ens: Fine-1 for mom: 200 --------------\n",
      "Least Square Fit:\n",
      "  chi2/dof [dof] = 0.47 [14]    Q = 0.95    logGBF = 76.975\n",
      "\n",
      "Parameters:\n",
      "        ratio 0   0.1899 (92)     [  0.19 (10) ]  \n",
      "         A_1S 0    0.046 (43)     [    0 ± 1.0 ]  \n",
      "         B_1S 0    0.060 (51)     [    0 ± 1.0 ]  \n",
      "       dE_src 0    -1.33 (97)     [ -1.6 (1.0) ]  \n",
      "\n",
      "Settings:\n",
      "  svdcut/n = 0/0    tol = (1e-08,1e-10,1e-10*)    (itns/time = 16/0.0)\n",
      "  fitter = scipy_least_squares    method = trf\n",
      "\n",
      "# red chi2       = 6.50\n",
      "# aug chi2       = 6.57\n",
      "# chi2_exp       = 11.66\n",
      "# chi2/chi_exp   = 0.56\n",
      "# p-value (exp)  = 0.89\n",
      "# p-value (std)  = 0.85\n",
      "# ---------- chi^2_exp analysis -------------\n",
      "# chi2_exp = 11.462696616473224 +/- 4.394868428301057 \n",
      "# p-value [eval] = 0.9682\n",
      "# p-value [MC]   = 0.9651\n",
      "# ---------- 1+1 fit in (2, 15) for mes: RA1 of ens: Fine-1 for mom: 300 --------------\n",
      "Least Square Fit:\n",
      "  chi2/dof [dof] = 0.34 [14]    Q = 0.99    logGBF = 95.639\n",
      "\n",
      "Parameters:\n",
      "        ratio 0   0.0365 (27)     [  0.04 (10) ]  \n",
      "         A_1S 0    0.032 (65)     [    0 ± 1.0 ]  \n",
      "         B_1S 0    0.044 (85)     [    0 ± 1.0 ]  \n",
      "       dE_src 0    -1.26 (99)     [ -1.4 (1.0) ]  \n",
      "\n",
      "Settings:\n",
      "  svdcut/n = 0/0    tol = (1e-08,1e-10,1e-10*)    (itns/time = 13/0.0)\n",
      "  fitter = scipy_least_squares    method = trf\n",
      "\n",
      "# red chi2       = 4.78\n",
      "# aug chi2       = 4.81\n",
      "# chi2_exp       = 11.46\n",
      "# chi2/chi_exp   = 0.42\n",
      "# p-value (exp)  = 0.97\n",
      "# p-value (std)  = 0.94\n",
      "# ---------- chi^2_exp analysis -------------\n",
      "# chi2_exp = 11.658703983376618 +/- 4.467091489106423 \n",
      "# p-value [eval] = 0.9655\n",
      "# p-value [MC]   = 0.9643\n",
      "# ---------- 1+1 fit in (2, 15) for mes: RA1 of ens: Fine-1 for mom: 400 --------------\n",
      "Least Square Fit:\n",
      "  chi2/dof [dof] = 0.36 [14]    Q = 0.99    logGBF = 120.79\n",
      "\n",
      "Parameters:\n",
      "        ratio 0   0.00391 (85)      [ 0.004 (100) ]  \n",
      "         A_1S 0     -0.10 (21)      [     0 ± 1.0 ]  \n",
      "         B_1S 0     -0.11 (24)      [     0 ± 1.0 ]  \n",
      "       dE_src 0     -1.86 (99)      [  -1.9 (1.0) ]  \n",
      "\n",
      "Settings:\n",
      "  svdcut/n = 0/0    tol = (1e-08,1e-10,1e-10*)    (itns/time = 10/0.0)\n",
      "  fitter = scipy_least_squares    method = trf\n",
      "\n",
      "# red chi2       = 4.97\n",
      "# aug chi2       = 4.99\n",
      "# chi2_exp       = 11.66\n",
      "# chi2/chi_exp   = 0.43\n",
      "# p-value (exp)  = 0.97\n",
      "# p-value (std)  = 0.93\n"
     ]
    },
    {
     "data": {
      "text/plain": [
       "Text(0.5, 1.0, 'Fine-1 RA1')"
      ]
     },
     "execution_count": 8,
     "metadata": {},
     "output_type": "execute_result"
    },
    {
     "data": {
      "image/png": "[encoded data removed]",
      "text/plain": [
       "<Figure size 500x500 with 1 Axes>"
      ]
     },
     "metadata": {},
     "output_type": "display_data"
    }
   ],
   "source": [
    "plt.rcParams['text.usetex'] = True\n",
    "plt.rcParams['font.size'] = 12\n",
    "\n",
    "f, ax = plt.subplots(1,1,figsize=(5,5))\n",
    "\n",
    "f0s = []\n",
    "for i,mom in enumerate(MOMLIST):\n",
    "    requisites = ratio_prerequisites(\n",
    "        ens      = ENSEMBLE,\n",
    "        ratio    = RATIO,\n",
    "        mom      = mom,\n",
    "        readfrom = DATA_2PT,\n",
    "        jk       = False\n",
    "    )\n",
    "\n",
    "    io = RatioIO(ENSEMBLE,RATIO,mom,PathToDataDir=DATA_DIR)\n",
    "    robj = RatioFitter(\n",
    "        io,\n",
    "        jkBin     = BINSIZE[ENSEMBLE],\n",
    "        smearing  = SMSLIST,\n",
    "        readfrom  = DATA_2PT,\n",
    "        **requisites\n",
    "    )\n",
    "\n",
    "    trange = (TMIN, robj.Ta-TMIN)\n",
    "\n",
    "    cov_specs = dict(\n",
    "        diag   = False,\n",
    "        block  = False,\n",
    "        scale  = False,\n",
    "        shrink = True,\n",
    "        cutsvd = 1E-12\n",
    "    )\n",
    "\n",
    "    dE_src = phys_energy_priors(ENSEMBLE,'Dst',mom,NSTATES,readfrom=DATA_2PT)\n",
    "    dE_snk = phys_energy_priors(ENSEMBLE,'B'  ,mom,NSTATES,readfrom=DATA_2PT)\n",
    "    x,ydata = robj.format(trange,flatten=True)\n",
    "    pr = robj.priors(NSTATES, dE_src=dE_src, dE_snk=dE_snk)\n",
    "\n",
    "    fit = robj.fit(\n",
    "        Nstates = NSTATES,\n",
    "        trange  = trange,\n",
    "        priors  = pr,\n",
    "        verbose = False,\n",
    "        **cov_specs\n",
    "    )\n",
    "\n",
    "    res = robj.fit_result(\n",
    "        Nexc   = NSTATES,\n",
    "        trange = trange,\n",
    "        priors = pr \n",
    "    )\n",
    "\n",
    "    alpha = 0.2 if mom=='400' else 1.\n",
    "    robj.plot_fit(ax,NSTATES,trange,color=f'C{i}',color_res=f'C{i}',alpha=alpha)\n",
    "\n",
    "    ax.scatter([],[], marker='o', color=f'C{i}', label=mom)\n",
    "\n",
    "\n",
    "    f0s.append(fit.p['ratio'][0])\n",
    "\n",
    "ax.errorbar([],[],[],fmt='o', ecolor='gray', mfc='w', color='gray', capsize=2.5, label='1S')\n",
    "ax.errorbar([],[],[],fmt='^', ecolor='gray', mfc='w', color='gray', capsize=2.5, label='d')\n",
    "\n",
    "# ax.set_xlim(-0.5,13)\n",
    "# ax.set_ylim(ymax=0.08)\n",
    "ax.grid(alpha=0.2)\n",
    "ax.legend()\n",
    "\n",
    "ax.set_xlabel(r'$t_{min}/a$')\n",
    "\n",
    "ax.set_title(f'{ENSEMBLE} {RATIO}')\n",
    "\n",
    "\n",
    "# plt.savefig(f'/Users/pietro/Desktop/{ENSEMBLE}_{RATIO}_multimom.pdf')"
   ]
  },
  {
   "cell_type": "code",
   "execution_count": null,
   "metadata": {},
   "outputs": [],
   "source": []
  }
 ],
 "metadata": {
  "kernelspec": {
   "display_name": "Python 3.11.4 ('stat')",
   "language": "python",
   "name": "python3"
  },
  "language_info": {
   "codemirror_mode": {
    "name": "ipython",
    "version": 3
   },
   "file_extension": ".py",
   "mimetype": "text/x-python",
   "name": "python",
   "nbconvert_exporter": "python",
   "pygments_lexer": "ipython3",
   "version": "3.11.4"
  },
  "orig_nbformat": 4,
  "vscode": {
   "interpreter": {
    "hash": "550906e9926f0f588aff226d3abadfa0c6a614c1c5eae7bfa21377021c1cb7ed"
   }
  }
 },
 "nbformat": 4,
 "nbformat_minor": 2
}
