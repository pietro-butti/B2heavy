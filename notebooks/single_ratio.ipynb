{
 "cells": [
  {
   "cell_type": "code",
   "execution_count": 1,
   "metadata": {},
   "outputs": [],
   "source": [
    "import numpy             as np\n",
    "import gvar              as gv\n",
    "import matplotlib.pyplot as plt\n",
    "import lsqfit"
   ]
  },
  {
   "cell_type": "code",
   "execution_count": 2,
   "metadata": {},
   "outputs": [],
   "source": [
    "from b2heavy import FnalHISQMetadata"
   ]
  },
  {
   "cell_type": "code",
   "execution_count": 3,
   "metadata": {},
   "outputs": [],
   "source": [
    "from b2heavy.TwoPointFunctions.utils     import correlation_diagnostics\n",
    "from b2heavy.TwoPointFunctions.types2pts import CorrelatorIO, plot_effective_coeffs\n",
    "from b2heavy.TwoPointFunctions.fitter    import StagFitter"
   ]
  },
  {
   "cell_type": "code",
   "execution_count": 4,
   "metadata": {},
   "outputs": [],
   "source": [
    "from b2heavy.ThreePointFunctions.types3pts  import Ratio, RatioIO\n",
    "from b2heavy.ThreePointFunctions.fitter3pts import RatioFitter"
   ]
  },
  {
   "cell_type": "markdown",
   "metadata": {},
   "source": [
    "Select a case for which we want to calculate the recoil parameter"
   ]
  },
  {
   "cell_type": "code",
   "execution_count": 5,
   "metadata": {},
   "outputs": [],
   "source": [
    "ENSEMBLE = 'Coarse-1'\n",
    "DATA_DIR = '/Users/pietro/code/data_analysis/BtoD/Alex/'\n",
    "\n",
    "BINSIZE  = {\n",
    "    'MediumCoarse':13,\n",
    "    'Coarse-2':    16,\n",
    "    'Coarse-1':    11,\n",
    "    'Coarse-Phys': 19,\n",
    "    'Fine-1':      16,\n",
    "    'Fine-Phys':   16,\n",
    "    'SuperFine':   22\n",
    "}\n",
    "\n",
    "COV_SPECS = dict(\n",
    "    diag   = False,\n",
    "    block  = False,\n",
    "    scale  = True,\n",
    "    shrink = True,\n",
    "    cutsvd = 0.01\n",
    ")"
   ]
  },
  {
   "cell_type": "code",
   "execution_count": 6,
   "metadata": {},
   "outputs": [],
   "source": [
    "mdata = FnalHISQMetadata.params(ENSEMBLE)\n",
    "LVOL   = mdata['L']\n",
    "alphas = mdata['alphaS'] "
   ]
  },
  {
   "cell_type": "markdown",
   "metadata": {},
   "source": [
    "## Two-pts functions"
   ]
  },
  {
   "cell_type": "code",
   "execution_count": 9,
   "metadata": {},
   "outputs": [],
   "source": [
    "MESON      = 'Dst'\n",
    "SMSLIST  = ['1S-1S','d-d','d-1S']\n",
    "MOM_LIST   = ['000','100','200','300','110','211']\n",
    "\n",
    "TRANGE_EFF = {\n",
    "    'Coarse-1': {\n",
    "        '000': (13,20),\n",
    "        '100': (13,20),\n",
    "        '200': (13,20),\n",
    "        '300': (10,17),\n",
    "        '110': (11,19),\n",
    "        '211': (11,19)\n",
    "    }\n",
    "}\n",
    "TRANGE     = {\n",
    "    'Coarse-1': {\n",
    "        '000': (5,26),\n",
    "        '100': (5,23),\n",
    "        '200': (5,21),\n",
    "        '300': (5,17),\n",
    "        '110': (5,23),\n",
    "        '211': (5,19)\n",
    "    }\n",
    "}"
   ]
  },
  {
   "cell_type": "code",
   "execution_count": 10,
   "metadata": {},
   "outputs": [
    {
     "name": "stdout",
     "output_type": "stream",
     "text": [
      " mom = --------000---------\n"
     ]
    },
    {
     "name": "stderr",
     "output_type": "stream",
     "text": [
      "/Users/pietro/code/software/B2heavy/b2heavy/TwoPointFunctions/types2pts.py:38: RuntimeWarning: invalid value encountered in sqrt\n",
      "  m = np.arccosh( (y[(it+1)%len(y)]+y[(it-1)%len(y)])/y[it]/2 )\n",
      "/Users/pietro/code/software/B2heavy/b2heavy/TwoPointFunctions/types2pts.py:38: RuntimeWarning: invalid value encountered in log\n",
      "  m = np.arccosh( (y[(it+1)%len(y)]+y[(it-1)%len(y)])/y[it]/2 )\n",
      "/Users/pietro/code/software/B2heavy/b2heavy/TwoPointFunctions/types2pts.py:38: RuntimeWarning: invalid value encountered in arccosh\n",
      "  m = np.arccosh( (y[(it+1)%len(y)]+y[(it-1)%len(y)])/y[it]/2 )\n"
     ]
    },
    {
     "name": "stdout",
     "output_type": "stream",
     "text": [
      " mom = --------100---------\n"
     ]
    },
    {
     "name": "stderr",
     "output_type": "stream",
     "text": [
      "/Users/pietro/code/software/B2heavy/b2heavy/TwoPointFunctions/types2pts.py:38: RuntimeWarning: invalid value encountered in sqrt\n",
      "  m = np.arccosh( (y[(it+1)%len(y)]+y[(it-1)%len(y)])/y[it]/2 )\n",
      "/Users/pietro/code/software/B2heavy/b2heavy/TwoPointFunctions/types2pts.py:38: RuntimeWarning: invalid value encountered in log\n",
      "  m = np.arccosh( (y[(it+1)%len(y)]+y[(it-1)%len(y)])/y[it]/2 )\n",
      "/Users/pietro/code/software/B2heavy/b2heavy/TwoPointFunctions/types2pts.py:38: RuntimeWarning: invalid value encountered in arccosh\n",
      "  m = np.arccosh( (y[(it+1)%len(y)]+y[(it-1)%len(y)])/y[it]/2 )\n"
     ]
    },
    {
     "name": "stdout",
     "output_type": "stream",
     "text": [
      " mom = --------200---------\n"
     ]
    },
    {
     "name": "stderr",
     "output_type": "stream",
     "text": [
      "/Users/pietro/code/software/B2heavy/b2heavy/TwoPointFunctions/types2pts.py:38: RuntimeWarning: invalid value encountered in sqrt\n",
      "  m = np.arccosh( (y[(it+1)%len(y)]+y[(it-1)%len(y)])/y[it]/2 )\n",
      "/Users/pietro/code/software/B2heavy/b2heavy/TwoPointFunctions/types2pts.py:38: RuntimeWarning: invalid value encountered in log\n",
      "  m = np.arccosh( (y[(it+1)%len(y)]+y[(it-1)%len(y)])/y[it]/2 )\n",
      "/Users/pietro/code/software/B2heavy/b2heavy/TwoPointFunctions/types2pts.py:38: RuntimeWarning: invalid value encountered in arccosh\n",
      "  m = np.arccosh( (y[(it+1)%len(y)]+y[(it-1)%len(y)])/y[it]/2 )\n"
     ]
    },
    {
     "name": "stdout",
     "output_type": "stream",
     "text": [
      " mom = --------300---------\n"
     ]
    },
    {
     "name": "stderr",
     "output_type": "stream",
     "text": [
      "/Users/pietro/code/software/B2heavy/b2heavy/TwoPointFunctions/types2pts.py:38: RuntimeWarning: invalid value encountered in sqrt\n",
      "  m = np.arccosh( (y[(it+1)%len(y)]+y[(it-1)%len(y)])/y[it]/2 )\n",
      "/Users/pietro/code/software/B2heavy/b2heavy/TwoPointFunctions/types2pts.py:38: RuntimeWarning: invalid value encountered in log\n",
      "  m = np.arccosh( (y[(it+1)%len(y)]+y[(it-1)%len(y)])/y[it]/2 )\n",
      "/Users/pietro/code/software/B2heavy/b2heavy/TwoPointFunctions/types2pts.py:38: RuntimeWarning: invalid value encountered in arccosh\n",
      "  m = np.arccosh( (y[(it+1)%len(y)]+y[(it-1)%len(y)])/y[it]/2 )\n"
     ]
    },
    {
     "name": "stdout",
     "output_type": "stream",
     "text": [
      " mom = --------110---------\n"
     ]
    },
    {
     "name": "stderr",
     "output_type": "stream",
     "text": [
      "/Users/pietro/code/software/B2heavy/b2heavy/TwoPointFunctions/types2pts.py:38: RuntimeWarning: invalid value encountered in sqrt\n",
      "  m = np.arccosh( (y[(it+1)%len(y)]+y[(it-1)%len(y)])/y[it]/2 )\n",
      "/Users/pietro/code/software/B2heavy/b2heavy/TwoPointFunctions/types2pts.py:38: RuntimeWarning: invalid value encountered in log\n",
      "  m = np.arccosh( (y[(it+1)%len(y)]+y[(it-1)%len(y)])/y[it]/2 )\n",
      "/Users/pietro/code/software/B2heavy/b2heavy/TwoPointFunctions/types2pts.py:38: RuntimeWarning: invalid value encountered in arccosh\n",
      "  m = np.arccosh( (y[(it+1)%len(y)]+y[(it-1)%len(y)])/y[it]/2 )\n"
     ]
    },
    {
     "name": "stdout",
     "output_type": "stream",
     "text": [
      " mom = --------211---------\n"
     ]
    },
    {
     "name": "stderr",
     "output_type": "stream",
     "text": [
      "/Users/pietro/code/software/B2heavy/b2heavy/TwoPointFunctions/types2pts.py:38: RuntimeWarning: invalid value encountered in sqrt\n",
      "  m = np.arccosh( (y[(it+1)%len(y)]+y[(it-1)%len(y)])/y[it]/2 )\n",
      "/Users/pietro/code/software/B2heavy/b2heavy/TwoPointFunctions/types2pts.py:38: RuntimeWarning: invalid value encountered in log\n",
      "  m = np.arccosh( (y[(it+1)%len(y)]+y[(it-1)%len(y)])/y[it]/2 )\n",
      "/Users/pietro/code/software/B2heavy/b2heavy/TwoPointFunctions/types2pts.py:38: RuntimeWarning: invalid value encountered in arccosh\n",
      "  m = np.arccosh( (y[(it+1)%len(y)]+y[(it-1)%len(y)])/y[it]/2 )\n"
     ]
    }
   ],
   "source": [
    "fits = {}\n",
    "for mom in MOM_LIST:\n",
    "    print(f'{ mom = :-^20}')\n",
    "\n",
    "    io   = CorrelatorIO(ENSEMBLE,MESON,mom,PathToDataDir=DATA_DIR)\n",
    "    stag = StagFitter(\n",
    "        io       = io,\n",
    "        jkBin    = BINSIZE[ENSEMBLE],\n",
    "        smearing = SMSLIST\n",
    "    )\n",
    "\n",
    "    effm,effa = stag.meff(\n",
    "        TRANGE_EFF[ENSEMBLE][mom],\n",
    "        **COV_SPECS\n",
    "    )\n",
    "\n",
    "    fits[mom] = stag.fit(\n",
    "        Nstates = 3,\n",
    "        trange  = TRANGE[ENSEMBLE][mom],\n",
    "        **COV_SPECS\n",
    "    )"
   ]
  },
  {
   "cell_type": "code",
   "execution_count": 9,
   "metadata": {},
   "outputs": [],
   "source": [
    "if False:\n",
    "    params = {}\n",
    "    for mom in MOM_LIST:\n",
    "        print(f'{ mom = :-^20}')\n",
    "\n",
    "        io   = CorrelatorIO(ENSEMBLE,MESON,mom,PathToDataDir=DATA_DIR)\n",
    "        stag = StagFitter(\n",
    "            io       = io,\n",
    "            jkBin    = BINSIZE[ENSEMBLE],\n",
    "            smearing = SMSLIST\n",
    "        )\n",
    "\n",
    "        effm,effa = stag.meff(\n",
    "            TRANGE_EFF[ENSEMBLE][mom],\n",
    "            **COV_SPECS\n",
    "        )\n",
    "\n",
    "        jk = stag.fit(\n",
    "            Nstates = 3,\n",
    "            trange  = TRANGE[ENSEMBLE][mom],\n",
    "            jkfit   = True,\n",
    "            **COV_SPECS\n",
    "        )\n",
    "\n",
    "        params[mom] = jk\n",
    "\n",
    "    for m in params:\n",
    "        np.save(f'jkfit_{m}.npy',np.asarray(params[m]))"
   ]
  },
  {
   "cell_type": "markdown",
   "metadata": {},
   "source": [
    "## Three-pts functions"
   ]
  },
  {
   "cell_type": "code",
   "execution_count": 24,
   "metadata": {},
   "outputs": [],
   "source": [
    "MOM    = '100'\n",
    "SMLIST = ['1S']\n",
    "\n",
    "Nstates = 3\n",
    "trange  = (3,11)"
   ]
  },
  {
   "cell_type": "code",
   "execution_count": 25,
   "metadata": {},
   "outputs": [],
   "source": [
    "from routines import fit_2pts_utils as utils\n",
    "\n",
    "wherefrom = '/Users/pietro/code/data_analysis/data/QCDNf2p1stag/B2heavy/presentation'\n",
    "\n",
    "params = {}\n",
    "for mom in MOM_LIST:\n",
    "    f,p = utils.read_config_fit(f'fit2pt_config_{ENSEMBLE}_Dst_{mom}',path=wherefrom)\n",
    "    params[mom] = p"
   ]
  },
  {
   "cell_type": "markdown",
   "metadata": {},
   "source": [
    "### Recoil parameter $w = \\frac{1+x_f^2}{1-x_f^2}$"
   ]
  },
  {
   "cell_type": "code",
   "execution_count": 26,
   "metadata": {},
   "outputs": [],
   "source": [
    "RATIO  = 'xfstpar'\n",
    "\n",
    "io = RatioIO(ENSEMBLE,RATIO,MOM,PathToDataDir=DATA_DIR)\n",
    "ratio = RatioFitter(\n",
    "    io,\n",
    "    jkBin    = BINSIZE[ENSEMBLE],\n",
    "    smearing = SMLIST\n",
    ")"
   ]
  },
  {
   "cell_type": "code",
   "execution_count": 31,
   "metadata": {},
   "outputs": [
    {
     "name": "stdout",
     "output_type": "stream",
     "text": [
      "Least Square Fit:\n",
      "  chi2/dof [dof] = 0.65 [9]    Q = 0.76    logGBF = 31.003\n",
      "\n",
      "Parameters:\n",
      "        ratio 0   -0.094 (29)     [ -0.90 (50) ]  *\n",
      "       dE_src 0    -1.5 (1.0)     [ -1.5 (1.0) ]  \n",
      "              1    -1.5 (1.0)     [ -1.5 (1.0) ]  \n",
      "              2    -1.5 (1.0)     [ -1.5 (1.0) ]  \n",
      "         A_1S 0    -0.20 (82)     [    0 ± 1.0 ]  \n",
      "              1    -0.20 (82)     [    0 ± 1.0 ]  \n",
      "              2    -0.20 (82)     [    0 ± 1.0 ]  \n",
      "         B_1S 0    -0.10 (82)     [    0 ± 1.0 ]  \n",
      "              1    -0.10 (82)     [    0 ± 1.0 ]  \n",
      "              2    -0.10 (82)     [    0 ± 1.0 ]  \n",
      "\n",
      "Settings:\n",
      "  svdcut/n = 0/0    tol = (1e-08,1e-10,1e-10*)    (itns/time = 8/0.0)\n",
      "  fitter = scipy_least_squares    method = trf\n",
      "\n",
      "c2/ce = Array(0.75342594, dtype=float64)\n",
      "p = 0.5749\n"
     ]
    }
   ],
   "source": [
    "fit = ratio.fit(\n",
    "    Nstates = Nstates,\n",
    "    trange  = trange,\n",
    "    # priors  = ratio.priors(Nstates,K=Kpr),\n",
    "    **COV_SPECS\n",
    ")\n",
    "\n",
    "pr = fit.prior\n",
    "popt = dict(fit.pmean)\n",
    "fcov = gv.evalcov(fit.y)\n",
    "c2,ce,p = ratio.chi2exp(Nstates,trange,popt,fcov)\n",
    "\n",
    "print(f'{c2/ce = }')\n",
    "print(f'{p = }')"
   ]
  },
  {
   "cell_type": "code",
   "execution_count": 29,
   "metadata": {},
   "outputs": [
    {
     "data": {
      "image/png": "[encoded data removed]",
      "text/plain": [
       "<Figure size 640x480 with 1 Axes>"
      ]
     },
     "metadata": {},
     "output_type": "display_data"
    }
   ],
   "source": [
    "fig, ax = plt.subplots()\n",
    "ratio.plot_fit(ax,Nstates,trange)\n",
    "plt.title('X_f[Par]')\n",
    "plt.show()"
   ]
  },
  {
   "cell_type": "code",
   "execution_count": 14,
   "metadata": {},
   "outputs": [
    {
     "name": "stdout",
     "output_type": "stream",
     "text": [
      "Least Square Fit:\n",
      "  chi2/dof [dof] = 0.4 [9]    Q = 0.94    logGBF = 35.437\n",
      "\n",
      "Parameters:\n",
      "        ratio 0   -0.086 (25)     [ -0.074 (50) ]  \n",
      "       dE_src 0    -1.38 (85)     [  -1.5 (1.0) ]  \n",
      "         A_1S 0    -0.57 (20)     [     0 ± 1.0 ]  \n",
      "         B_1S 0    -0.23 (22)     [     0 ± 1.0 ]  \n",
      "\n",
      "Settings:\n",
      "  svdcut/n = 0/0    tol = (1e-08,1e-10,1e-10*)    (itns/time = 16/0.0)\n",
      "  fitter = scipy_least_squares    method = trf\n",
      "\n"
     ]
    },
    {
     "name": "stderr",
     "output_type": "stream",
     "text": [
      "100%|██████████| 90/90 [00:00<00:00, 195.06it/s]\n"
     ]
    }
   ],
   "source": [
    "fit = ratio.fit(\n",
    "    Nstates = Nstates,\n",
    "    trange  = trange,\n",
    "    priors  = ratio.priors(Nstates,K=Kpr),\n",
    "    jkfit   = True,\n",
    "    **COV_SPECS\n",
    ")"
   ]
  },
  {
   "cell_type": "code",
   "execution_count": 15,
   "metadata": {},
   "outputs": [],
   "source": [
    "xf = fit['ratio']\n",
    "w_recoil = (1+xf**2)/(1-xf**2)"
   ]
  },
  {
   "cell_type": "markdown",
   "metadata": {},
   "source": [
    "### $X_0$ and $X_1$"
   ]
  },
  {
   "cell_type": "code",
   "execution_count": 63,
   "metadata": {},
   "outputs": [],
   "source": [
    "from routines.fit_2pts_utils import read_config_fit\n",
    "fit,params = read_config_fit(f'fit2pt_config_{ENSEMBLE}_Dst_{mom}',path='/Users/pietro/code/data_analysis/data/QCDNf2p1stag/B2heavy/presentation')"
   ]
  },
  {
   "cell_type": "code",
   "execution_count": 64,
   "metadata": {},
   "outputs": [
    {
     "data": {
      "text/plain": [
       "{'1S': array([[0.0024779958599334064, -0.037703302595090804,\n",
       "         -0.038442677557949036, ..., -0.054493535376325286,\n",
       "         -0.05141143089595193, -0.09841124009933457],\n",
       "        [0.002865505876231309, -0.03700511835019638, -0.03799644819959379,\n",
       "         ..., -0.054466920490492954, -0.05119798433589513,\n",
       "         -0.09871747359838513],\n",
       "        [0.0034995665404560744, -0.037385278823663916,\n",
       "         -0.03831263473240967, ..., -0.054628907509883626,\n",
       "         -0.05139888492236519, -0.09909920069019257],\n",
       "        ...,\n",
       "        [0.0029872010456336385, -0.03755907428592063,\n",
       "         -0.03838265828883806, ..., -0.054443488896949076,\n",
       "         -0.051349625729565876, -0.09761485428868533],\n",
       "        [0.0020662242078027396, -0.0371467198192368, -0.03822703966131234,\n",
       "         ..., -0.05443331080540936, -0.051148546555575075,\n",
       "         -0.09748886179962794],\n",
       "        [0.002413078300951651, -0.037219470918455566,\n",
       "         -0.03808713700284961, ..., -0.05402522709360072,\n",
       "         -0.05091851050181224, -0.09699378251671362]], dtype=object)}"
      ]
     },
     "execution_count": 64,
     "metadata": {},
     "output_type": "execute_result"
    }
   ],
   "source": [
    "RATIO  = 'R0'\n",
    "\n",
    "Zpar = (params['Z_1S_Par'][0] * np.sqrt(2*params['E'][0])).mean\n",
    "Zbot = (params['Z_1S_Bot'][0] * np.sqrt(2*params['E'][0])).mean\n",
    "\n",
    "\n",
    "io = RatioIO(ENSEMBLE,RATIO,MOM,PathToDataDir=DATA_DIR)\n",
    "ratio = RatioFitter(\n",
    "    io,\n",
    "    jkBin    = BINSIZE[ENSEMBLE],\n",
    "    smearing = SMLIST,\n",
    "    Zpar = Zpar,\n",
    "    Zbot = Zbot\n",
    ")"
   ]
  },
  {
   "cell_type": "code",
   "execution_count": 33,
   "metadata": {},
   "outputs": [],
   "source": [
    "x,y = ratio.format()\n",
    "\n",
    "Kpr    = gv.gvar(y['1S'][x.tolist().index(ratio.Ta//2)].mean,0.05)\n",
    "dE_src = gv.gvar(\n",
    "    params[MOM]['E'][:,2].mean(),\n",
    "    np.sqrt(params[MOM]['E'][:,2].var())*3\n",
    ")\n",
    "\n",
    "priors = ratio.priors(Nstates,K=Kpr)"
   ]
  },
  {
   "cell_type": "code",
   "execution_count": 34,
   "metadata": {},
   "outputs": [
    {
     "name": "stdout",
     "output_type": "stream",
     "text": [
      "Least Square Fit:\n",
      "  chi2/dof [dof] = 0.63 [9]    Q = 0.77    logGBF = 39.421\n",
      "\n",
      "Parameters:\n",
      "        ratio 0   -0.075 (24)     [ -0.051 (50) ]  \n",
      "       dE_src 0    -1.97 (81)     [  -1.5 (1.0) ]  \n",
      "       dE_snk 0    -0.86 (72)     [  -1.5 (1.0) ]  \n",
      "         A_1S 0    -0.64 (14)     [     0 ± 1.0 ]  \n",
      "         B_1S 0    -0.39 (12)     [     0 ± 1.0 ]  \n",
      "\n",
      "Settings:\n",
      "  svdcut/n = 0/0    tol = (1e-08,1e-10,1e-10*)    (itns/time = 26/0.0)\n",
      "  fitter = scipy_least_squares    method = trf\n",
      "\n",
      "c2/ce = Array(1.30228208, dtype=float64)\n",
      "p = 0.2658\n"
     ]
    }
   ],
   "source": [
    "fit = ratio.fit(\n",
    "    Nstates = Nstates,\n",
    "    trange  = trange,\n",
    "    priors  = ratio.priors(Nstates,K=Kpr),\n",
    "    **COV_SPECS\n",
    ")\n",
    "\n",
    "pr = fit.prior\n",
    "popt = dict(fit.pmean)\n",
    "fcov = gv.evalcov(fit.y)\n",
    "c2,ce,p = ratio.chi2exp(Nstates,trange,popt,fcov)\n",
    "\n",
    "print(f'{c2/ce = }')\n",
    "print(f'{p = }')"
   ]
  },
  {
   "cell_type": "code",
   "execution_count": 35,
   "metadata": {},
   "outputs": [
    {
     "name": "stdout",
     "output_type": "stream",
     "text": [
      "Least Square Fit:\n",
      "  chi2/dof [dof] = 0.63 [9]    Q = 0.77    logGBF = 39.421\n",
      "\n",
      "Parameters:\n",
      "        ratio 0   -0.075 (24)     [ -0.051 (50) ]  \n",
      "       dE_src 0    -1.97 (81)     [  -1.5 (1.0) ]  \n",
      "       dE_snk 0    -0.86 (72)     [  -1.5 (1.0) ]  \n",
      "         A_1S 0    -0.64 (14)     [     0 ± 1.0 ]  \n",
      "         B_1S 0    -0.39 (12)     [     0 ± 1.0 ]  \n",
      "\n",
      "Settings:\n",
      "  svdcut/n = 0/0    tol = (1e-08,1e-10,1e-10*)    (itns/time = 26/0.0)\n",
      "  fitter = scipy_least_squares    method = trf\n",
      "\n"
     ]
    },
    {
     "name": "stderr",
     "output_type": "stream",
     "text": [
      "100%|██████████| 90/90 [00:00<00:00, 118.81it/s]\n"
     ]
    }
   ],
   "source": [
    "fit = ratio.fit(\n",
    "    Nstates = Nstates,\n",
    "    trange  = trange,\n",
    "    priors  = ratio.priors(Nstates,K=Kpr),\n",
    "    jkfit   = True,\n",
    "    **COV_SPECS\n",
    ")"
   ]
  },
  {
   "cell_type": "code",
   "execution_count": 37,
   "metadata": {},
   "outputs": [
    {
     "data": {
      "image/png": "[encoded data removed]",
      "text/plain": [
       "<Figure size 640x480 with 1 Axes>"
      ]
     },
     "metadata": {},
     "output_type": "display_data"
    }
   ],
   "source": [
    "fig, ax = plt.subplots()\n",
    "ratio.plot_fit(ax,Nstates,trange)\n",
    "plt.title('X_0')\n",
    "plt.show()"
   ]
  },
  {
   "cell_type": "code",
   "execution_count": null,
   "metadata": {},
   "outputs": [],
   "source": []
  }
 ],
 "metadata": {
  "kernelspec": {
   "display_name": "Python 3.11.4 ('stat')",
   "language": "python",
   "name": "python3"
  },
  "language_info": {
   "codemirror_mode": {
    "name": "ipython",
    "version": 3
   },
   "file_extension": ".py",
   "mimetype": "text/x-python",
   "name": "python",
   "nbconvert_exporter": "python",
   "pygments_lexer": "ipython3",
   "version": "3.11.4"
  },
  "orig_nbformat": 4,
  "vscode": {
   "interpreter": {
    "hash": "550906e9926f0f588aff226d3abadfa0c6a614c1c5eae7bfa21377021c1cb7ed"
   }
  }
 },
 "nbformat": 4,
 "nbformat_minor": 2
}
