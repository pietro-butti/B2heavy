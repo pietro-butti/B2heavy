{
 "cells": [
  {
   "cell_type": "code",
   "execution_count": 182,
   "metadata": {},
   "outputs": [],
   "source": [
    "import numpy             as np\n",
    "import gvar              as gv\n",
    "import matplotlib.pyplot as plt\n",
    "import pandas            as pd\n",
    "import lsqfit\n",
    "import itertools\n",
    "from tqdm import tqdm"
   ]
  },
  {
   "cell_type": "code",
   "execution_count": 183,
   "metadata": {},
   "outputs": [],
   "source": [
    "from b2heavy.FnalHISQMetadata import params as mData"
   ]
  },
  {
   "cell_type": "code",
   "execution_count": 184,
   "metadata": {},
   "outputs": [],
   "source": [
    "from b2heavy.ThreePointFunctions.globalfit import RatioSet"
   ]
  },
  {
   "cell_type": "code",
   "execution_count": 185,
   "metadata": {},
   "outputs": [],
   "source": [
    "DATA_DIR = '/Users/pietro/code/data_analysis/BtoD/Alex/'\n",
    "DATA_2PT = '/Users/pietro/Desktop/lattice24/0.25/corr2_3'"
   ]
  },
  {
   "cell_type": "code",
   "execution_count": 249,
   "metadata": {},
   "outputs": [
    {
     "name": "stdout",
     "output_type": "stream",
     "text": [
      "MediumCoarse 0.8289121792555114 1\n",
      "Coarse-2 1.0 1\n",
      "Coarse-Phys 1.0240693892302133 1\n",
      "Coarse-1 1.015323455005421 1\n",
      "Fine-1 1.3949403686302855 1\n",
      "Fine-Phys 1.4073003252620169 1\n",
      "SuperFine 2.177014817491868 2\n"
     ]
    }
   ],
   "source": [
    "ens = 'Coarse-2'\n",
    "a = mData(ens)['aSpc'].mean\n",
    "T = 1\n",
    "t = a*T\n",
    "\n",
    "for ens in ['MediumCoarse','Coarse-2','Coarse-Phys','Coarse-1','Fine-1','Fine-Phys','SuperFine']:\n",
    "    a = mData(ens)['aSpc'].mean\n",
    "\n",
    "    print(ens,t/a,round(t/a))"
   ]
  },
  {
   "cell_type": "code",
   "execution_count": 251,
   "metadata": {},
   "outputs": [
    {
     "data": {
      "text/plain": [
       "[0.2845379992695641, 1.1950595969321691]"
      ]
     },
     "execution_count": 251,
     "metadata": {},
     "output_type": "execute_result"
    }
   ],
   "source": [
    "[ 5*a, 21*a]"
   ]
  },
  {
   "cell_type": "code",
   "execution_count": 234,
   "metadata": {},
   "outputs": [],
   "source": [
    "ENSEMBLE = 'Coarse-2'"
   ]
  },
  {
   "cell_type": "code",
   "execution_count": 235,
   "metadata": {},
   "outputs": [],
   "source": [
    "MOMLIST = ['000','100','200','300']\n",
    "RATLIST = ['QPLUS','RPLUS','RMINUS','XF']\n",
    "\n",
    "SMSLIST = ['1S','RW']\n",
    "\n",
    "cov_specs = dict(scale=True,shrink=True,cutsvd=1E-12)"
   ]
  },
  {
   "cell_type": "code",
   "execution_count": 236,
   "metadata": {},
   "outputs": [
    {
     "name": "stderr",
     "output_type": "stream",
     "text": [
      "100%|██████████| 10/10 [00:01<00:00,  6.81it/s]\n"
     ]
    }
   ],
   "source": [
    "rset = RatioSet(ENSEMBLE,MOMLIST,RATLIST,SMSLIST)\n",
    "rset.collect(DATA_DIR,DATA_2PT)"
   ]
  },
  {
   "cell_type": "code",
   "execution_count": 237,
   "metadata": {},
   "outputs": [],
   "source": [
    "priors = rset.params()"
   ]
  },
  {
   "cell_type": "code",
   "execution_count": 245,
   "metadata": {},
   "outputs": [
    {
     "data": {
      "text/html": [
       "<div>\n",
       "<style scoped>\n",
       "    .dataframe tbody tr th:only-of-type {\n",
       "        vertical-align: middle;\n",
       "    }\n",
       "\n",
       "    .dataframe tbody tr th {\n",
       "        vertical-align: top;\n",
       "    }\n",
       "\n",
       "    .dataframe thead th {\n",
       "        text-align: right;\n",
       "    }\n",
       "</style>\n",
       "<table border=\"1\" class=\"dataframe\">\n",
       "  <thead>\n",
       "    <tr style=\"text-align: right;\">\n",
       "      <th></th>\n",
       "      <th></th>\n",
       "      <th>f0</th>\n",
       "      <th>A_1S</th>\n",
       "      <th>A_RW</th>\n",
       "      <th>B_1S</th>\n",
       "      <th>B_RW</th>\n",
       "    </tr>\n",
       "    <tr>\n",
       "      <th>mom</th>\n",
       "      <th>ratio</th>\n",
       "      <th></th>\n",
       "      <th></th>\n",
       "      <th></th>\n",
       "      <th></th>\n",
       "      <th></th>\n",
       "    </tr>\n",
       "  </thead>\n",
       "  <tbody>\n",
       "    <tr>\n",
       "      <th>000</th>\n",
       "      <th>RPLUS</th>\n",
       "      <td>1.0174(49)</td>\n",
       "      <td>[-0.0150(49), -0.0188(48)]</td>\n",
       "      <td>[-0.0243(62), -0.0192(51)]</td>\n",
       "      <td>[-0.0150(49), -0.0188(48)]</td>\n",
       "      <td>[-0.0243(62), -0.0192(51)]</td>\n",
       "    </tr>\n",
       "    <tr>\n",
       "      <th rowspan=\"3\" valign=\"top\">100</th>\n",
       "      <th>QPLUS</th>\n",
       "      <td>0.9766(29)</td>\n",
       "      <td>[-0.0372(63), 0.0077(26)]</td>\n",
       "      <td>[0.0019(45), 0.0071(22)]</td>\n",
       "      <td>[-0.0372(63), 0.0077(26)]</td>\n",
       "      <td>[0.0019(45), 0.0071(22)]</td>\n",
       "    </tr>\n",
       "    <tr>\n",
       "      <th>RMINUS</th>\n",
       "      <td>-0.1346(20)</td>\n",
       "      <td>[0.0462(60), 0.0138(33)]</td>\n",
       "      <td>[0.0067(77), 0.0153(27)]</td>\n",
       "      <td>[0.0462(60), 0.0138(33)]</td>\n",
       "      <td>[0.0067(77), 0.0153(27)]</td>\n",
       "    </tr>\n",
       "    <tr>\n",
       "      <th>XF</th>\n",
       "      <td>-0.1165(12)</td>\n",
       "      <td>[0.0523(22), 0.0154(72)]</td>\n",
       "      <td>[-0.0266(29), 0.0195(79)]</td>\n",
       "      <td>[0.0523(22), 0.0154(72)]</td>\n",
       "      <td>[-0.0266(29), 0.0195(79)]</td>\n",
       "    </tr>\n",
       "    <tr>\n",
       "      <th rowspan=\"3\" valign=\"top\">200</th>\n",
       "      <th>QPLUS</th>\n",
       "      <td>0.9150(98)</td>\n",
       "      <td>[-0.124(13), -0.0001(113)]</td>\n",
       "      <td>[0.022(13), 0.0057(65)]</td>\n",
       "      <td>[-0.124(13), -0.0001(113)]</td>\n",
       "      <td>[0.022(13), 0.0057(65)]</td>\n",
       "    </tr>\n",
       "    <tr>\n",
       "      <th>RMINUS</th>\n",
       "      <td>-0.2469(37)</td>\n",
       "      <td>[0.084(11), 0.0058(88)]</td>\n",
       "      <td>[0.011(10), 0.0141(65)]</td>\n",
       "      <td>[0.084(11), 0.0058(88)]</td>\n",
       "      <td>[0.011(10), 0.0141(65)]</td>\n",
       "    </tr>\n",
       "    <tr>\n",
       "      <th>XF</th>\n",
       "      <td>-0.2200(22)</td>\n",
       "      <td>[0.0947(48), 0.003(15)]</td>\n",
       "      <td>[-0.0456(37), 0.017(12)]</td>\n",
       "      <td>[0.0947(48), 0.003(15)]</td>\n",
       "      <td>[-0.0456(37), 0.017(12)]</td>\n",
       "    </tr>\n",
       "    <tr>\n",
       "      <th rowspan=\"3\" valign=\"top\">300</th>\n",
       "      <th>QPLUS</th>\n",
       "      <td>0.848(21)</td>\n",
       "      <td>[-0.230(22), -0.135(46)]</td>\n",
       "      <td>[0.048(29), -0.055(22)]</td>\n",
       "      <td>[-0.230(22), -0.135(46)]</td>\n",
       "      <td>[0.048(29), -0.055(22)]</td>\n",
       "    </tr>\n",
       "    <tr>\n",
       "      <th>RMINUS</th>\n",
       "      <td>-0.3299(90)</td>\n",
       "      <td>[0.119(21), -0.066(43)]</td>\n",
       "      <td>[0.016(15), -0.007(17)]</td>\n",
       "      <td>[0.119(21), -0.066(43)]</td>\n",
       "      <td>[0.016(15), -0.007(17)]</td>\n",
       "    </tr>\n",
       "    <tr>\n",
       "      <th>XF</th>\n",
       "      <td>-0.3011(44)</td>\n",
       "      <td>[0.1393(89), -0.125(98)]</td>\n",
       "      <td>[-0.0536(59), -0.043(38)]</td>\n",
       "      <td>[0.1393(89), -0.125(98)]</td>\n",
       "      <td>[-0.0536(59), -0.043(38)]</td>\n",
       "    </tr>\n",
       "  </tbody>\n",
       "</table>\n",
       "</div>"
      ],
      "text/plain": [
       "                     f0                        A_1S  \\\n",
       "mom ratio                                             \n",
       "000 RPLUS    1.0174(49)  [-0.0150(49), -0.0188(48)]   \n",
       "100 QPLUS    0.9766(29)   [-0.0372(63), 0.0077(26)]   \n",
       "    RMINUS  -0.1346(20)    [0.0462(60), 0.0138(33)]   \n",
       "    XF      -0.1165(12)    [0.0523(22), 0.0154(72)]   \n",
       "200 QPLUS    0.9150(98)  [-0.124(13), -0.0001(113)]   \n",
       "    RMINUS  -0.2469(37)     [0.084(11), 0.0058(88)]   \n",
       "    XF      -0.2200(22)     [0.0947(48), 0.003(15)]   \n",
       "300 QPLUS     0.848(21)    [-0.230(22), -0.135(46)]   \n",
       "    RMINUS  -0.3299(90)     [0.119(21), -0.066(43)]   \n",
       "    XF      -0.3011(44)    [0.1393(89), -0.125(98)]   \n",
       "\n",
       "                                  A_RW                        B_1S  \\\n",
       "mom ratio                                                            \n",
       "000 RPLUS   [-0.0243(62), -0.0192(51)]  [-0.0150(49), -0.0188(48)]   \n",
       "100 QPLUS     [0.0019(45), 0.0071(22)]   [-0.0372(63), 0.0077(26)]   \n",
       "    RMINUS    [0.0067(77), 0.0153(27)]    [0.0462(60), 0.0138(33)]   \n",
       "    XF       [-0.0266(29), 0.0195(79)]    [0.0523(22), 0.0154(72)]   \n",
       "200 QPLUS      [0.022(13), 0.0057(65)]  [-0.124(13), -0.0001(113)]   \n",
       "    RMINUS     [0.011(10), 0.0141(65)]     [0.084(11), 0.0058(88)]   \n",
       "    XF        [-0.0456(37), 0.017(12)]     [0.0947(48), 0.003(15)]   \n",
       "300 QPLUS      [0.048(29), -0.055(22)]    [-0.230(22), -0.135(46)]   \n",
       "    RMINUS     [0.016(15), -0.007(17)]     [0.119(21), -0.066(43)]   \n",
       "    XF       [-0.0536(59), -0.043(38)]    [0.1393(89), -0.125(98)]   \n",
       "\n",
       "                                  B_RW  \n",
       "mom ratio                               \n",
       "000 RPLUS   [-0.0243(62), -0.0192(51)]  \n",
       "100 QPLUS     [0.0019(45), 0.0071(22)]  \n",
       "    RMINUS    [0.0067(77), 0.0153(27)]  \n",
       "    XF       [-0.0266(29), 0.0195(79)]  \n",
       "200 QPLUS      [0.022(13), 0.0057(65)]  \n",
       "    RMINUS     [0.011(10), 0.0141(65)]  \n",
       "    XF        [-0.0456(37), 0.017(12)]  \n",
       "300 QPLUS      [0.048(29), -0.055(22)]  \n",
       "    RMINUS     [0.016(15), -0.007(17)]  \n",
       "    XF       [-0.0536(59), -0.043(38)]  "
      ]
     },
     "execution_count": 245,
     "metadata": {},
     "output_type": "execute_result"
    }
   ],
   "source": [
    "TMIN = 1\n",
    "\n",
    "fit = rset.fit(\n",
    "    tmin   = TMIN,\n",
    "    priors = priors,\n",
    "    **cov_specs\n",
    ")   \n",
    "\n",
    "rset.show(fit)\n"
   ]
  },
  {
   "cell_type": "code",
   "execution_count": 246,
   "metadata": {},
   "outputs": [
    {
     "name": "stdout",
     "output_type": "stream",
     "text": [
      "# ---------- Global fit in 1 for ens: Coarse-2 --------------\n",
      "Least Square Fit:\n",
      "  chi2/dof [dof] = 0.85 [220]    Q = 0.95    logGBF = 781.92\n",
      "\n",
      "Parameters:\n",
      "           dE_D      0.359 (13)      [  0.5 (1.0) ]  \n",
      "           dM_B       0.59 (16)      [  0.5 (1.0) ]  \n",
      "           dM_D       1.30 (55)      [  0.5 (1.0) ]  \n",
      "   RPLUS_000_f0     1.0174 (49)      [  1.0 (1.5) ]  \n",
      " RPLUS_000_1S 0    -0.0150 (49)      [    0 ± 1.0 ]  \n",
      "              1    -0.0188 (48)      [    0 ± 1.0 ]  \n",
      " RPLUS_000_RW 0    -0.0243 (62)      [    0 ± 1.0 ]  \n",
      "              1    -0.0192 (51)      [    0 ± 1.0 ]  \n",
      "   QPLUS_100_f0     0.9766 (29)      [  1.0 (1.5) ]  \n",
      " QPLUS_100_1S 0    -0.0372 (63)      [    0 ± 1.0 ]  \n",
      "              1     0.0077 (26)      [    0 ± 1.0 ]  \n",
      " QPLUS_100_RW 0     0.0019 (45)      [    0 ± 1.0 ]  \n",
      "              1     0.0071 (22)      [    0 ± 1.0 ]  \n",
      "  RMINUS_100_f0    -0.1346 (20)      [ -0.1 (1.5) ]  \n",
      "RMINUS_100_1S 0     0.0462 (60)      [    0 ± 1.0 ]  \n",
      "              1     0.0138 (33)      [    0 ± 1.0 ]  \n",
      "RMINUS_100_RW 0     0.0067 (77)      [    0 ± 1.0 ]  \n",
      "              1     0.0153 (27)      [    0 ± 1.0 ]  \n",
      "      XF_100_f0    -0.1165 (12)      [ -0.1 (1.5) ]  \n",
      "    XF_100_1S 0     0.0523 (22)      [    0 ± 1.0 ]  \n",
      "              1     0.0154 (72)      [    0 ± 1.0 ]  \n",
      "    XF_100_RW 0    -0.0266 (29)      [    0 ± 1.0 ]  \n",
      "              1     0.0195 (79)      [    0 ± 1.0 ]  \n",
      "   QPLUS_200_f0     0.9150 (98)      [  0.9 (1.5) ]  \n",
      " QPLUS_200_1S 0     -0.124 (13)      [    0 ± 1.0 ]  \n",
      "              1   -0.0001 (113)      [    0 ± 1.0 ]  \n",
      " QPLUS_200_RW 0      0.022 (13)      [    0 ± 1.0 ]  \n",
      "              1     0.0057 (65)      [    0 ± 1.0 ]  \n",
      "  RMINUS_200_f0    -0.2469 (37)      [ -0.2 (1.5) ]  \n",
      "RMINUS_200_1S 0      0.084 (11)      [    0 ± 1.0 ]  \n",
      "              1     0.0058 (88)      [    0 ± 1.0 ]  \n",
      "RMINUS_200_RW 0      0.011 (10)      [    0 ± 1.0 ]  \n",
      "              1     0.0141 (65)      [    0 ± 1.0 ]  \n",
      "      XF_200_f0    -0.2200 (22)      [ -0.2 (1.5) ]  \n",
      "    XF_200_1S 0     0.0947 (48)      [    0 ± 1.0 ]  \n",
      "              1      0.003 (15)      [    0 ± 1.0 ]  \n",
      "    XF_200_RW 0    -0.0456 (37)      [    0 ± 1.0 ]  \n",
      "              1      0.017 (12)      [    0 ± 1.0 ]  \n",
      "   QPLUS_300_f0      0.848 (21)      [  0.8 (1.5) ]  \n",
      " QPLUS_300_1S 0     -0.230 (22)      [    0 ± 1.0 ]  \n",
      "              1     -0.135 (46)      [    0 ± 1.0 ]  \n",
      " QPLUS_300_RW 0      0.048 (29)      [    0 ± 1.0 ]  \n",
      "              1     -0.055 (22)      [    0 ± 1.0 ]  \n",
      "  RMINUS_300_f0    -0.3299 (90)      [ -0.3 (1.5) ]  \n",
      "RMINUS_300_1S 0      0.119 (21)      [    0 ± 1.0 ]  \n",
      "              1     -0.066 (43)      [    0 ± 1.0 ]  \n",
      "RMINUS_300_RW 0      0.016 (15)      [    0 ± 1.0 ]  \n",
      "              1     -0.007 (17)      [    0 ± 1.0 ]  \n",
      "      XF_300_f0    -0.3011 (44)      [ -0.3 (1.5) ]  \n",
      "    XF_300_1S 0     0.1393 (89)      [    0 ± 1.0 ]  \n",
      "              1     -0.125 (98)      [    0 ± 1.0 ]  \n",
      "    XF_300_RW 0    -0.0536 (59)      [    0 ± 1.0 ]  \n",
      "              1     -0.043 (38)      [    0 ± 1.0 ]  \n",
      "\n",
      "Settings:\n",
      "  svdcut/n = 1e-12/0    tol = (1e-08,1e-10,1e-10*)    (itns/time = 48/0.3)\n",
      "  fitter = scipy_least_squares    method = trf\n",
      "\n",
      "# red chi2       = 186.43\n",
      "# aug chi2       = 187.28\n",
      "# chi2_exp       = 220.00\n",
      "# chi2/chi_exp   = 0.85\n",
      "# p-value (exp)  = 0.95\n",
      "# p-value (std)  = 0.69\n"
     ]
    },
    {
     "data": {
      "text/plain": [
       "{'fit': <lsqfit.nonlinear_fit at 0x18e514d50>,\n",
       " 'chi2red': 186.4258276341872,\n",
       " 'chi2aug': 187.2757074173134,\n",
       " 'chiexp': 219.99999999999886,\n",
       " 'pexp': 0.952,\n",
       " 'pstd': 0.6892831804385479}"
      ]
     },
     "execution_count": 246,
     "metadata": {},
     "output_type": "execute_result"
    }
   ],
   "source": [
    "rset.fit_result(TMIN,fit,priors=priors)"
   ]
  },
  {
   "cell_type": "code",
   "execution_count": 247,
   "metadata": {},
   "outputs": [
    {
     "data": {
      "image/png": "[encoded data removed]",
      "text/plain": [
       "<Figure size 1000x700 with 4 Axes>"
      ]
     },
     "metadata": {},
     "output_type": "display_data"
    }
   ],
   "source": [
    "plt.rcParams['text.usetex'] = True\n",
    "plt.rcParams['font.size'] = 12\n",
    "\n",
    "f, ax = plt.subplots(2,2,figsize=(10,7), sharex=True)\n",
    "\n",
    "rset.plot_fit('QPLUS' ,fit,ax[0,0])\n",
    "ax[0,0].set_title(r'$Q_{+}(\\mathbf{p})$')\n",
    "# ax[0,0].set_ylim(0.8,1.05)\n",
    "ax[0,0].set_ylim(ymax=1.05)\n",
    "ax[0,0].grid(alpha=0.1)\n",
    "\n",
    "rset.plot_fit('XF'    ,fit,ax[0,1])\n",
    "ax[0,1].yaxis.set_label_position(\"right\")\n",
    "ax[0,1].yaxis.tick_right()\n",
    "ax[0,1].set_title(r'$x_f(\\mathbf{p})$')\n",
    "# ax[0,1].set_ylim(ymin=-0.3)\n",
    "ax[0,1].grid(alpha=0.1)\n",
    "\n",
    "\n",
    "rset.plot_fit('RMINUS',fit,ax[1,0])\n",
    "ax[1,0].grid(alpha=0.1)\n",
    "# ax[1,0].set_ylim(ymin=-0.3)\n",
    "ax[1,0].set_title(r'$R_-(\\mathbf{p})$')\n",
    "ax[1,0].set_xlabel(r'$t/a$')\n",
    "\n",
    "rset.plot_fit('RPLUS' ,fit,ax[1,1])\n",
    "ax[1,1].yaxis.set_label_position(\"right\")\n",
    "ax[1,1].yaxis.tick_right()\n",
    "# ax[1,1].set_ylim(ymin=0.9)\n",
    "ax[1,1].grid(alpha=0.1)\n",
    "ax[1,1].set_title(r'$R_+(\\mathbf{p}=0)$')\n",
    "ax[1,1].set_xlabel(r'$t/a$')\n",
    "\n",
    "\n",
    "ax[1,1].errorbar([],[],color='C0',label=r'$p = \\frac{2\\pi}{L}(1,0,0)$')\n",
    "ax[1,1].errorbar([],[],color='C1',label=r'$p = \\frac{2\\pi}{L}(2,0,0)$')\n",
    "ax[1,1].errorbar([],[],color='C2',label=r'$p = \\frac{2\\pi}{L}(3,0,0)$')\n",
    "ax[1,1].errorbar([],[],color='C3',label=r'$p = \\frac{2\\pi}{L}(4,0,0)$')\n",
    "ax[1,1].legend(bbox_to_anchor=(1.15, 1.25))\n",
    "\n",
    "\n",
    "\n",
    "# plt.subplots_adjust(wspace=0.05, hspace=0.05)\n",
    "plt.subplots_adjust(wspace=0.05)\n",
    "\n",
    "plt.tight_layout()\n",
    "\n",
    "# plt.savefig(\n",
    "#     f'/Users/pietro/code/latex/Lattice2024/beamer-presentation-template/PLOTS/ratio_gfit_D.pdf',\n",
    "#     transparent=True\n",
    "# )\n",
    "\n",
    "\n"
   ]
  },
  {
   "cell_type": "markdown",
   "metadata": {},
   "source": [
    "# Stability test"
   ]
  },
  {
   "cell_type": "code",
   "execution_count": 241,
   "metadata": {},
   "outputs": [
    {
     "name": "stderr",
     "output_type": "stream",
     "text": [
      "100%|██████████| 4/4 [00:02<00:00,  1.41it/s]\n"
     ]
    }
   ],
   "source": [
    "tmins = [1,2,3,4]\n",
    "\n",
    "aux = []\n",
    "TIC = []\n",
    "pfs = []\n",
    "for tmin in tqdm(tmins):\n",
    "    fit = rset.fit(tmin=tmin, priors=priors,**cov_specs)   \n",
    "    aux.append(\n",
    "        {k: p for k,p in fit.p.items() if k.endswith('f0')}\n",
    "    )\n",
    "    \n",
    "    res = rset.fit_result(tmin,fit,priors=priors,verbose=False)\n",
    "    TIC.append(res['chi2aug'] - 2*res['chiexp'])\n",
    "    pfs.append(res['pstd'])"
   ]
  },
  {
   "cell_type": "code",
   "execution_count": 242,
   "metadata": {},
   "outputs": [
    {
     "name": "stdout",
     "output_type": "stream",
     "text": [
      "tmins[i] = 1,    weight = 0.9999995109485724,    pfs[i] = 0.6892831804385479\n",
      "tmins[i] = 2,    weight = 4.890513665820046e-07,    pfs[i] = 0.6699382512796499\n",
      "tmins[i] = 3,    weight = 6.109216310405352e-14,    pfs[i] = 0.7046525825989521\n",
      "tmins[i] = 4,    weight = 9.95102280250038e-21,    pfs[i] = 0.8576166454208465\n"
     ]
    }
   ],
   "source": [
    "w = np.exp(-np.array(TIC)/2)\n",
    "w /= sum(w)\n",
    "for i,weight in enumerate(w):\n",
    "    print(f'{tmins[i] = },    {weight = },    {pfs[i] = }')"
   ]
  },
  {
   "cell_type": "code",
   "execution_count": 243,
   "metadata": {},
   "outputs": [
    {
     "data": {
      "text/html": [
       "<div>\n",
       "<style scoped>\n",
       "    .dataframe tbody tr th:only-of-type {\n",
       "        vertical-align: middle;\n",
       "    }\n",
       "\n",
       "    .dataframe tbody tr th {\n",
       "        vertical-align: top;\n",
       "    }\n",
       "\n",
       "    .dataframe thead th {\n",
       "        text-align: right;\n",
       "    }\n",
       "</style>\n",
       "<table border=\"1\" class=\"dataframe\">\n",
       "  <thead>\n",
       "    <tr style=\"text-align: right;\">\n",
       "      <th></th>\n",
       "      <th>RPLUS_000_f0</th>\n",
       "      <th>QPLUS_100_f0</th>\n",
       "      <th>RMINUS_100_f0</th>\n",
       "      <th>XF_100_f0</th>\n",
       "      <th>QPLUS_200_f0</th>\n",
       "      <th>RMINUS_200_f0</th>\n",
       "      <th>XF_200_f0</th>\n",
       "      <th>QPLUS_300_f0</th>\n",
       "      <th>RMINUS_300_f0</th>\n",
       "      <th>XF_300_f0</th>\n",
       "    </tr>\n",
       "  </thead>\n",
       "  <tbody>\n",
       "    <tr>\n",
       "      <th>0</th>\n",
       "      <td>1.0174(49)</td>\n",
       "      <td>0.9766(29)</td>\n",
       "      <td>-0.1346(20)</td>\n",
       "      <td>-0.1165(12)</td>\n",
       "      <td>0.9150(98)</td>\n",
       "      <td>-0.2469(37)</td>\n",
       "      <td>-0.2200(22)</td>\n",
       "      <td>0.848(21)</td>\n",
       "      <td>-0.3299(90)</td>\n",
       "      <td>-0.3011(44)</td>\n",
       "    </tr>\n",
       "    <tr>\n",
       "      <th>1</th>\n",
       "      <td>1.060(53)</td>\n",
       "      <td>0.984(18)</td>\n",
       "      <td>-0.142(17)</td>\n",
       "      <td>-0.1175(15)</td>\n",
       "      <td>0.971(85)</td>\n",
       "      <td>-0.263(29)</td>\n",
       "      <td>-0.2229(26)</td>\n",
       "      <td>1.03(25)</td>\n",
       "      <td>-0.345(50)</td>\n",
       "      <td>-0.3063(56)</td>\n",
       "    </tr>\n",
       "    <tr>\n",
       "      <th>2</th>\n",
       "      <td>1.083(93)</td>\n",
       "      <td>1.010(53)</td>\n",
       "      <td>-0.183(74)</td>\n",
       "      <td>-0.1193(18)</td>\n",
       "      <td>1.02(18)</td>\n",
       "      <td>-0.34(13)</td>\n",
       "      <td>-0.2245(30)</td>\n",
       "      <td>1.15(46)</td>\n",
       "      <td>-0.47(21)</td>\n",
       "      <td>-0.3112(72)</td>\n",
       "    </tr>\n",
       "    <tr>\n",
       "      <th>3</th>\n",
       "      <td>1.0187(82)</td>\n",
       "      <td>0.9720(61)</td>\n",
       "      <td>-0.1340(61)</td>\n",
       "      <td>-0.1197(37)</td>\n",
       "      <td>0.898(16)</td>\n",
       "      <td>-0.248(12)</td>\n",
       "      <td>-0.2251(71)</td>\n",
       "      <td>0.822(45)</td>\n",
       "      <td>-0.354(26)</td>\n",
       "      <td>-0.319(16)</td>\n",
       "    </tr>\n",
       "  </tbody>\n",
       "</table>\n",
       "</div>"
      ],
      "text/plain": [
       "  RPLUS_000_f0 QPLUS_100_f0 RMINUS_100_f0    XF_100_f0 QPLUS_200_f0  \\\n",
       "0   1.0174(49)   0.9766(29)   -0.1346(20)  -0.1165(12)   0.9150(98)   \n",
       "1    1.060(53)    0.984(18)    -0.142(17)  -0.1175(15)    0.971(85)   \n",
       "2    1.083(93)    1.010(53)    -0.183(74)  -0.1193(18)     1.02(18)   \n",
       "3   1.0187(82)   0.9720(61)   -0.1340(61)  -0.1197(37)    0.898(16)   \n",
       "\n",
       "  RMINUS_200_f0    XF_200_f0 QPLUS_300_f0 RMINUS_300_f0    XF_300_f0  \n",
       "0   -0.2469(37)  -0.2200(22)    0.848(21)   -0.3299(90)  -0.3011(44)  \n",
       "1    -0.263(29)  -0.2229(26)     1.03(25)    -0.345(50)  -0.3063(56)  \n",
       "2     -0.34(13)  -0.2245(30)     1.15(46)     -0.47(21)  -0.3112(72)  \n",
       "3    -0.248(12)  -0.2251(71)    0.822(45)    -0.354(26)   -0.319(16)  "
      ]
     },
     "execution_count": 243,
     "metadata": {},
     "output_type": "execute_result"
    }
   ],
   "source": [
    "df = pd.DataFrame(aux)\n",
    "df"
   ]
  },
  {
   "cell_type": "code",
   "execution_count": 244,
   "metadata": {},
   "outputs": [
    {
     "name": "stderr",
     "output_type": "stream",
     "text": [
      "/var/folders/7m/b37v945d74n14brv9wkfxwpw0000gn/T/ipykernel_19822/4150968021.py:46: UserWarning: Matplotlib is currently using module://matplotlib_inline.backend_inline, which is a non-GUI backend, so cannot show the figure.\n",
      "  fig.show()\n"
     ]
    },
    {
     "data": {
      "image/png": "[encoded data removed]",
      "text/plain": [
       "<Figure size 1000x800 with 10 Axes>"
      ]
     },
     "metadata": {},
     "output_type": "display_data"
    }
   ],
   "source": [
    "import matplotlib.gridspec as gridspec\n",
    "\n",
    "fig = plt.figure(figsize=(10, 8))\n",
    "outer = gridspec.GridSpec(2, 2, wspace=0.2, hspace=0.2)\n",
    "\n",
    "\n",
    "inner = gridspec.GridSpecFromSubplotSpec(1, 1, subplot_spec=outer[0], wspace=0.1, hspace=0.1)\n",
    "ax = plt.Subplot(fig,inner[0])\n",
    "rs = df['RPLUS_000_f0'].values\n",
    "ax.errorbar(tmins, gv.mean(rs), gv.sdev(rs), fmt='.')\n",
    "fig.add_subplot(ax)\n",
    "\n",
    "\n",
    "\n",
    "\n",
    "inner1 = gridspec.GridSpecFromSubplotSpec(len(MOMLIST), 1, subplot_spec=outer[1], wspace=0.1, hspace=0.1)\n",
    "inner2 = gridspec.GridSpecFromSubplotSpec(len(MOMLIST), 1, subplot_spec=outer[2], wspace=0.1, hspace=0.1)\n",
    "inner3 = gridspec.GridSpecFromSubplotSpec(len(MOMLIST), 1, subplot_spec=outer[3], wspace=0.1, hspace=0.1)\n",
    "\n",
    "for j,mom in enumerate(MOMLIST):\n",
    "    if mom=='000':\n",
    "        continue\n",
    "\n",
    "    ax = plt.Subplot(fig,inner1[j])\n",
    "    rs = df[f'QPLUS_{mom}_f0'].values\n",
    "    ax.errorbar(tmins, gv.mean(rs), gv.sdev(rs), fmt='.')\n",
    "    if mom=='100':\n",
    "        ax.set_title('QPLUS')\n",
    "    fig.add_subplot(ax)\n",
    "\n",
    "    ax = plt.Subplot(fig,inner2[j])\n",
    "    rs = df[f'RMINUS_{mom}_f0'].values\n",
    "    ax.errorbar(tmins, gv.mean(rs), gv.sdev(rs), fmt='.')\n",
    "    if mom=='100':\n",
    "        ax.set_title('RMINUS')\n",
    "    fig.add_subplot(ax)\n",
    "\n",
    "    ax = plt.Subplot(fig,inner3[j])\n",
    "    rs = df[f'XF_{mom}_f0'].values\n",
    "    ax.errorbar(tmins, gv.mean(rs), gv.sdev(rs), fmt='.')\n",
    "    if mom=='100':\n",
    "        ax.set_title('XF')\n",
    "    fig.add_subplot(ax)\n",
    "\n",
    "\n",
    "fig.show()"
   ]
  },
  {
   "cell_type": "code",
   "execution_count": 92,
   "metadata": {},
   "outputs": [
    {
     "data": {
      "text/html": [
       "<div>\n",
       "<style scoped>\n",
       "    .dataframe tbody tr th:only-of-type {\n",
       "        vertical-align: middle;\n",
       "    }\n",
       "\n",
       "    .dataframe tbody tr th {\n",
       "        vertical-align: top;\n",
       "    }\n",
       "\n",
       "    .dataframe thead th {\n",
       "        text-align: right;\n",
       "    }\n",
       "</style>\n",
       "<table border=\"1\" class=\"dataframe\">\n",
       "  <thead>\n",
       "    <tr style=\"text-align: right;\">\n",
       "      <th></th>\n",
       "      <th>RPLUS_000_f0</th>\n",
       "      <th>QPLUS_100_f0</th>\n",
       "      <th>RMINUS_100_f0</th>\n",
       "      <th>XF_100_f0</th>\n",
       "      <th>QPLUS_200_f0</th>\n",
       "      <th>RMINUS_200_f0</th>\n",
       "      <th>XF_200_f0</th>\n",
       "      <th>QPLUS_300_f0</th>\n",
       "      <th>RMINUS_300_f0</th>\n",
       "      <th>XF_300_f0</th>\n",
       "      <th>QPLUS_400_f0</th>\n",
       "      <th>RMINUS_400_f0</th>\n",
       "      <th>XF_400_f0</th>\n",
       "    </tr>\n",
       "  </thead>\n",
       "  <tbody>\n",
       "    <tr>\n",
       "      <th>0</th>\n",
       "      <td>1.0416(54)</td>\n",
       "      <td>0.9806(21)</td>\n",
       "      <td>-0.0905(13)</td>\n",
       "      <td>-0.07650(71)</td>\n",
       "      <td>0.9498(39)</td>\n",
       "      <td>-0.1773(16)</td>\n",
       "      <td>-0.1499(10)</td>\n",
       "      <td>0.9109(79)</td>\n",
       "      <td>-0.2530(28)</td>\n",
       "      <td>-0.2186(18)</td>\n",
       "      <td>0.865(13)</td>\n",
       "      <td>-0.3160(54)</td>\n",
       "      <td>-0.2794(33)</td>\n",
       "    </tr>\n",
       "    <tr>\n",
       "      <th>1</th>\n",
       "      <td>1.0438(67)</td>\n",
       "      <td>0.9817(23)</td>\n",
       "      <td>-0.0886(15)</td>\n",
       "      <td>-0.07697(97)</td>\n",
       "      <td>0.9482(41)</td>\n",
       "      <td>-0.1770(20)</td>\n",
       "      <td>-0.1537(14)</td>\n",
       "      <td>0.9110(81)</td>\n",
       "      <td>-0.2552(37)</td>\n",
       "      <td>-0.2242(22)</td>\n",
       "      <td>0.870(13)</td>\n",
       "      <td>-0.3252(75)</td>\n",
       "      <td>-0.2876(38)</td>\n",
       "    </tr>\n",
       "    <tr>\n",
       "      <th>2</th>\n",
       "      <td>1.048(10)</td>\n",
       "      <td>0.9842(33)</td>\n",
       "      <td>-0.0886(24)</td>\n",
       "      <td>-0.0774(11)</td>\n",
       "      <td>0.9517(57)</td>\n",
       "      <td>-0.1812(44)</td>\n",
       "      <td>-0.1544(17)</td>\n",
       "      <td>0.919(10)</td>\n",
       "      <td>-0.268(10)</td>\n",
       "      <td>-0.2261(33)</td>\n",
       "      <td>0.875(17)</td>\n",
       "      <td>-0.355(21)</td>\n",
       "      <td>-0.2887(51)</td>\n",
       "    </tr>\n",
       "    <tr>\n",
       "      <th>3</th>\n",
       "      <td>1.0397(73)</td>\n",
       "      <td>0.9819(26)</td>\n",
       "      <td>-0.0892(23)</td>\n",
       "      <td>-0.0792(14)</td>\n",
       "      <td>0.9526(48)</td>\n",
       "      <td>-0.1786(36)</td>\n",
       "      <td>-0.1563(19)</td>\n",
       "      <td>0.9128(88)</td>\n",
       "      <td>-0.2610(67)</td>\n",
       "      <td>-0.2272(31)</td>\n",
       "      <td>0.856(15)</td>\n",
       "      <td>-0.340(13)</td>\n",
       "      <td>-0.2879(57)</td>\n",
       "    </tr>\n",
       "  </tbody>\n",
       "</table>\n",
       "</div>"
      ],
      "text/plain": [
       "  RPLUS_000_f0 QPLUS_100_f0 RMINUS_100_f0     XF_100_f0 QPLUS_200_f0  \\\n",
       "0   1.0416(54)   0.9806(21)   -0.0905(13)  -0.07650(71)   0.9498(39)   \n",
       "1   1.0438(67)   0.9817(23)   -0.0886(15)  -0.07697(97)   0.9482(41)   \n",
       "2    1.048(10)   0.9842(33)   -0.0886(24)   -0.0774(11)   0.9517(57)   \n",
       "3   1.0397(73)   0.9819(26)   -0.0892(23)   -0.0792(14)   0.9526(48)   \n",
       "\n",
       "  RMINUS_200_f0    XF_200_f0 QPLUS_300_f0 RMINUS_300_f0    XF_300_f0  \\\n",
       "0   -0.1773(16)  -0.1499(10)   0.9109(79)   -0.2530(28)  -0.2186(18)   \n",
       "1   -0.1770(20)  -0.1537(14)   0.9110(81)   -0.2552(37)  -0.2242(22)   \n",
       "2   -0.1812(44)  -0.1544(17)    0.919(10)    -0.268(10)  -0.2261(33)   \n",
       "3   -0.1786(36)  -0.1563(19)   0.9128(88)   -0.2610(67)  -0.2272(31)   \n",
       "\n",
       "  QPLUS_400_f0 RMINUS_400_f0    XF_400_f0  \n",
       "0    0.865(13)   -0.3160(54)  -0.2794(33)  \n",
       "1    0.870(13)   -0.3252(75)  -0.2876(38)  \n",
       "2    0.875(17)    -0.355(21)  -0.2887(51)  \n",
       "3    0.856(15)    -0.340(13)  -0.2879(57)  "
      ]
     },
     "execution_count": 92,
     "metadata": {},
     "output_type": "execute_result"
    }
   ],
   "source": [
    "df"
   ]
  },
  {
   "cell_type": "code",
   "execution_count": null,
   "metadata": {},
   "outputs": [],
   "source": []
  }
 ],
 "metadata": {
  "kernelspec": {
   "display_name": "Python 3.11.4 ('stat')",
   "language": "python",
   "name": "python3"
  },
  "language_info": {
   "codemirror_mode": {
    "name": "ipython",
    "version": 3
   },
   "file_extension": ".py",
   "mimetype": "text/x-python",
   "name": "python",
   "nbconvert_exporter": "python",
   "pygments_lexer": "ipython3",
   "version": "3.11.4"
  },
  "orig_nbformat": 4,
  "vscode": {
   "interpreter": {
    "hash": "550906e9926f0f588aff226d3abadfa0c6a614c1c5eae7bfa21377021c1cb7ed"
   }
  }
 },
 "nbformat": 4,
 "nbformat_minor": 2
}
