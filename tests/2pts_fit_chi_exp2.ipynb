{
 "cells": [
  {
   "cell_type": "code",
   "execution_count": 1,
   "metadata": {},
   "outputs": [],
   "source": [
    "from b2heavy.TwoPointFunctions.types2pts  import CorrelatorIO, Correlator\n",
    "from b2heavy.TwoPointFunctions.fitter     import CorrFitter\n",
    "from b2heavy.TwoPointFunctions.utils      import NplusN2ptModel, PeriodicExpDecay"
   ]
  },
  {
   "cell_type": "code",
   "execution_count": 2,
   "metadata": {},
   "outputs": [],
   "source": [
    "import copy\n",
    "import itertools\n",
    "import autograd\n",
    "import autograd.numpy    as anp\n",
    "import numpy             as np\n",
    "import gvar              as gv\n",
    "\n",
    "from scipy.linalg import issymmetric"
   ]
  },
  {
   "cell_type": "code",
   "execution_count": 3,
   "metadata": {},
   "outputs": [],
   "source": [
    "ens = 'Coarse-1'\n",
    "mes = 'Dst'\n",
    "mom = '200'\n",
    "binsize = 11\n",
    "\n",
    "data_dir = '/Users/pietro/code/data_analysis/BtoD/Alex/'\n",
    "\n",
    "io     = CorrelatorIO(ens,mes,mom,PathToDataDir=data_dir)\n",
    "corr   = Correlator(io,jkBin=binsize)"
   ]
  },
  {
   "cell_type": "code",
   "execution_count": 4,
   "metadata": {},
   "outputs": [],
   "source": [
    "NEXC = 3\n",
    "TLIM = (10,17)\n",
    "NT   = corr.Nt\n",
    "\n",
    "SMR = ['1S-1S','d-d','d-1S']\n",
    "POL = corr.data.polarization.values"
   ]
  },
  {
   "cell_type": "code",
   "execution_count": 5,
   "metadata": {},
   "outputs": [
    {
     "data": {
      "text/plain": [
       "[('1S-1S', 'Bot'),\n",
       " ('1S-1S', 'Par'),\n",
       " ('d-1S', 'Bot'),\n",
       " ('d-1S', 'Par'),\n",
       " ('d-d', 'Bot'),\n",
       " ('d-d', 'Par')]"
      ]
     },
     "execution_count": 5,
     "metadata": {},
     "output_type": "execute_result"
    }
   ],
   "source": [
    "Kdata = sorted(itertools.product(SMR,POL))\n",
    "Kdata"
   ]
  },
  {
   "cell_type": "markdown",
   "metadata": {},
   "source": [
    "# Custom fit"
   ]
  },
  {
   "cell_type": "code",
   "execution_count": 6,
   "metadata": {},
   "outputs": [
    {
     "name": "stderr",
     "output_type": "stream",
     "text": [
      "/Users/pietro/opt/anaconda3/envs/stat/lib/python3.11/site-packages/autograd/tracer.py:48: RuntimeWarning: invalid value encountered in log\n",
      "  return f_raw(*args, **kwargs)\n"
     ]
    },
    {
     "name": "stdout",
     "output_type": "stream",
     "text": [
      "Intel MKL WARNING: Support of Intel(R) Streaming SIMD Extensions 4.2 (Intel(R) SSE4.2) enabled only processors has been deprecated. Intel oneAPI Math Kernel Library 2025.0 will require Intel(R) Advanced Vector Extensions (Intel(R) AVX) instructions.\n",
      "1.1452(13)\n",
      "---------- 3+3 fit in (10, 17) for mes: Dst of ens: Coarse-1 for mom: 200 --------------\n",
      " De-augmented chi2/ndof [ndof] = 1.4 [11] with p-value = 0.1842642123184468\n",
      "Least Square Fit:\n",
      "  chi2/dof [dof] = 0.4 [48]    Q = 1    logGBF = 864.28\n",
      "\n",
      "Parameters:\n",
      "            E 0   1.1448 (12)     [ 1.1452 (13) ]  \n",
      "              1    -2.62 (40)     [  -1.81 (58) ]  *\n",
      "              2    -0.99 (61)     [  -1.09 (80) ]  \n",
      "              3    -3.5 (2.2)     [  -2.4 (2.5) ]  \n",
      "              4    -2.1 (2.4)     [  -2.4 (2.5) ]  \n",
      "              5    -1.3 (1.4)     [  -2.4 (2.5) ]  \n",
      "     Z_1S_Bot 0    0.189 (11)     [   0.13 (56) ]  \n",
      "              1    -0.21 (56)     [  -1.2 (1.2) ]  \n",
      "              2     0.4 (1.3)     [   0.5 (1.5) ]  \n",
      "              3     0.4 (1.1)     [   0.5 (1.5) ]  \n",
      "              4     0.4 (2.9)     [   0.5 (3.0) ]  \n",
      "              5     0.3 (2.9)     [   0.5 (3.0) ]  \n",
      "     Z_1S_Par 0    0.268 (14)     [   0.26 (45) ]  \n",
      "              1    -1.0 (1.1)     [  -1.2 (1.2) ]  \n",
      "              2     0.8 (1.3)     [   0.5 (1.5) ]  \n",
      "              3     0.60 (42)     [   0.5 (1.5) ]  \n",
      "              4     1.1 (2.7)     [   0.5 (3.0) ]  \n",
      "              5     0.3 (2.9)     [   0.5 (3.0) ]  \n",
      "   Z_d-1S_Bot 0     0.24 (74)     [   0.5 (1.7) ]  \n",
      "              1     0.12 (46)     [   0.5 (1.7) ]  \n",
      "              2     0.3 (1.6)     [   0.5 (1.7) ]  \n",
      "              3     0.58 (93)     [   0.5 (1.7) ]  \n",
      "   Z_d-1S_Par 0     0.23 (94)     [   0.5 (1.7) ]  \n",
      "              1     0.14 (13)     [   0.5 (1.7) ]  \n",
      "              2     0.5 (1.5)     [   0.5 (1.7) ]  \n",
      "              3     0.61 (98)     [   0.5 (1.7) ]  \n",
      "      Z_d_Bot 0   -1.963 (17)     [  -2.00 (38) ]  \n",
      "              1    -2.8 (1.4)     [  -3.0 (1.5) ]  \n",
      "              2   0.09 (1.04)     [   0.5 (1.5) ]  \n",
      "              3     0.06 (15)     [   0.5 (1.5) ]  \n",
      "              4     0.32 (92)     [   0.5 (3.0) ]  \n",
      "              5     0.19 (33)     [   0.5 (3.0) ]  \n",
      "      Z_d_Par 0   -1.881 (13)     [  -1.89 (34) ]  \n",
      "              1    -5.5 (2.0)     [  -5.5 (2.0) ]  \n",
      "              2   0.04 (1.34)     [   0.5 (1.5) ]  \n",
      "              3    0.057 (40)     [   0.5 (1.5) ]  \n",
      "              4     0.19 (91)     [   0.5 (3.0) ]  \n",
      "              5     0.20 (33)     [   0.5 (3.0) ]  \n",
      "\n",
      "Settings:\n",
      "  svdcut/n = 1e-12/0    tol = (1e-08,1e-10,1e-10*)    (itns/time = 301/1.0)\n",
      "  fitter = scipy_least_squares    method = trf\n",
      "\n"
     ]
    }
   ],
   "source": [
    "fitter = CorrFitter(corr,smearing=['d-d','1S-1S','d-1S'])\n",
    "\n",
    "(X,meff,aeff), MEFF,AEFF, m_pr, apr = corr.EffectiveCoeff(trange=TLIM,covariance=True)\n",
    "\n",
    "fitter.fit(\n",
    "    Nstates           = NEXC,\n",
    "    trange            = TLIM,\n",
    "    verbose           = True,\n",
    "    priors            = fitter.set_priors_phys(NEXC,Meff=MEFF,Aeff=AEFF),\n",
    "    # scale_covariance  = True,\n",
    "    # shrink_covariance = True,\n",
    "    covariance        = False,\n",
    "    override          = True\n",
    ")\n",
    "\n",
    "fit = fitter.fits[NEXC,TLIM]"
   ]
  },
  {
   "cell_type": "markdown",
   "metadata": {},
   "source": [
    "# Gradient computation"
   ]
  },
  {
   "cell_type": "code",
   "execution_count": 7,
   "metadata": {},
   "outputs": [],
   "source": [
    "def Energies(Evec):\n",
    "    erg = [Evec[0]]\n",
    "    for n in range(1,len(Evec)):\n",
    "        erg.append(anp.exp(Evec[n]) + erg[n-(1 if n==1 else 2)])\n",
    "    return erg"
   ]
  },
  {
   "cell_type": "code",
   "execution_count": 8,
   "metadata": {},
   "outputs": [],
   "source": [
    "Kpars = []\n",
    "for n in range(2*NEXC):\n",
    "    Kpars.append(('E',n))\n",
    "\n",
    "    for (sm,pol) in sorted(itertools.product(SMR,POL)):\n",
    "        sm1,sm2 = sm.split('-')\n",
    "        mix = sm1!=sm2\n",
    "        k = f'Z_{sm if mix else sm1}_{pol}'\n",
    "\n",
    "        if not (mix and n<2):\n",
    "            Kpars.append((k,n-2 if mix else n))\n",
    "\n",
    "kid   = {k:i for i,k in enumerate(Kpars)}\n"
   ]
  },
  {
   "cell_type": "code",
   "execution_count": 96,
   "metadata": {},
   "outputs": [
    {
     "data": {
      "text/plain": [
       "38"
      ]
     },
     "execution_count": 96,
     "metadata": {},
     "output_type": "execute_result"
    }
   ],
   "source": [
    "len(np.concatenate(fit.pmean.values()))"
   ]
  },
  {
   "cell_type": "code",
   "execution_count": 24,
   "metadata": {},
   "outputs": [
    {
     "name": "stdout",
     "output_type": "stream",
     "text": [
      "0      fit.p[     E      ][0]     1.1448(12)  1.1448(12)  1.14478779\n",
      "1      fit.p[  Z_1S_Bot  ][0]     0.189(11)    0.189(11)  1.20796827\n",
      "2      fit.p[  Z_1S_Par  ][0]     0.268(14)    0.268(14)  1.30752041\n",
      "3      fit.p[  Z_d_Bot   ][0]     -1.963(17)  -1.963(17)  0.14049192\n",
      "4      fit.p[  Z_d_Par   ][0]     -1.881(13)  -1.881(13)  0.15250724\n",
      "5      fit.p[     E      ][1]     -2.62(40)    -2.62(40)  1.21776281\n",
      "6      fit.p[  Z_1S_Bot  ][1]     -0.21(56)    -0.21(56)  0.81327987\n",
      "7      fit.p[  Z_1S_Par  ][1]     -1.0(1.1)    -1.0(1.1)  0.37824512\n",
      "8      fit.p[  Z_d_Bot   ][1]     -2.8(1.4)    -2.8(1.4)  0.05842998\n",
      "9      fit.p[  Z_d_Par   ][1]     -5.5(2.0)    -5.5(2.0)  0.00410654\n",
      "10     fit.p[     E      ][2]     -0.99(61)    -0.99(61)   1.5151665\n",
      "11     fit.p[  Z_1S_Bot  ][2]     0.4(1.3)      0.4(1.3)   0.4060087\n",
      "12     fit.p[  Z_1S_Par  ][2]     0.8(1.3)      0.8(1.3)   0.8212352\n",
      "13     fit.p[ Z_d-1S_Bot ][0]     0.24(74)      0.24(74)  0.24258262\n",
      "14     fit.p[ Z_d-1S_Par ][0]     0.23(94)      0.23(94)  0.23140972\n",
      "15     fit.p[  Z_d_Bot   ][2]     0.09(1.04)  0.09(1.04)  0.08502762\n",
      "16     fit.p[  Z_d_Par   ][2]     0.04(1.34)  0.04(1.34)  0.03844286\n",
      "17     fit.p[     E      ][3]     -3.5(2.2)    -3.5(2.2)  1.24778042\n",
      "18     fit.p[  Z_1S_Bot  ][3]     0.4(1.1)      0.4(1.1)  0.37910282\n",
      "19     fit.p[  Z_1S_Par  ][3]     0.60(42)      0.60(42)  0.59646115\n",
      "20     fit.p[ Z_d-1S_Bot ][1]     0.12(46)      0.12(46)  0.12458556\n",
      "21     fit.p[ Z_d-1S_Par ][1]     0.14(13)      0.14(13)  0.14484035\n",
      "22     fit.p[  Z_d_Bot   ][3]     0.06(15)      0.06(15)  0.05504195\n",
      "23     fit.p[  Z_d_Par   ][3]     0.057(40)    0.057(40)  0.05740356\n",
      "24     fit.p[     E      ][4]     -2.1(2.4)    -2.1(2.4)  1.63845184\n",
      "25     fit.p[  Z_1S_Bot  ][4]     0.4(2.9)      0.4(2.9)  0.40034158\n",
      "26     fit.p[  Z_1S_Par  ][4]     1.1(2.7)      1.1(2.7)   1.0640338\n",
      "27     fit.p[ Z_d-1S_Bot ][2]     0.3(1.6)      0.3(1.6)   0.3384194\n",
      "28     fit.p[ Z_d-1S_Par ][2]     0.5(1.5)      0.5(1.5)  0.48036449\n",
      "29     fit.p[  Z_d_Bot   ][4]     0.32(92)      0.32(92)  0.31717859\n",
      "30     fit.p[  Z_d_Par   ][4]     0.19(91)      0.19(91)  0.19349449\n",
      "31     fit.p[     E      ][5]     -1.3(1.4)    -1.3(1.4)  1.53295669\n",
      "32     fit.p[  Z_1S_Bot  ][5]     0.3(2.9)      0.3(2.9)  0.27345506\n",
      "33     fit.p[  Z_1S_Par  ][5]     0.3(2.9)      0.3(2.9)  0.28125207\n",
      "34     fit.p[ Z_d-1S_Bot ][3]     0.58(93)      0.58(93)  0.58367949\n",
      "35     fit.p[ Z_d-1S_Par ][3]     0.61(98)      0.61(98)  0.60690499\n",
      "36     fit.p[  Z_d_Bot   ][5]     0.19(33)      0.19(33)  0.19227206\n",
      "37     fit.p[  Z_d_Par   ][5]     0.20(33)      0.20(33)  0.19719151\n"
     ]
    }
   ],
   "source": [
    "erg = Energies(fit.pmean['E'])\n",
    "\n",
    "pVector = [None]*len(Kpars)\n",
    "diffpar = [None]*len(Kpars)\n",
    "for (k,n),i in kid.items():\n",
    "    pVector[i] = fit.p[k][n]\n",
    "    if k=='E':\n",
    "        diffpar[i] = erg[n]\n",
    "    elif k.startswith('Z') and n<2 and '-' not in k:\n",
    "        diffpar[i] = np.exp(fit.pmean[k][n])\n",
    "    else:\n",
    "        diffpar[i] = fit.pmean[k][n]\n",
    "\n",
    "    print(f'{i:<2}     fit.p[{k:^12}][{n}]     {fit.p[k][n]:<10}  {pVector[i]:>10}  {round(diffpar[i],8):>10}')\n",
    "    \n"
   ]
  },
  {
   "cell_type": "code",
   "execution_count": 25,
   "metadata": {},
   "outputs": [],
   "source": [
    "def ExpDecay(Nt, osc=False):\n",
    "    return lambda t,E,Z : Z * (anp.exp(-E*t) + anp.exp(-E*(Nt-t))) * ((-1)**(t+1) if osc else 1.)\n",
    "\n",
    "def StaggDecay2(Nt,Nexc):\n",
    "\n",
    "    def model(t,E0,Z0a,Z0b, E1,Z1a,Z1b, *high):\n",
    "        C_t  = ExpDecay(Nt)         ( t, E0, anp.exp(Z0a)*anp.exp(Z0b) )\n",
    "        C_t += ExpDecay(Nt,osc=True)( t, E1, anp.exp(Z1a)*anp.exp(Z1b) )\n",
    "        for n in range(2*Nexc-2):\n",
    "            en, zn = high[2*n], high[2*n+1]**2\n",
    "            C_t += ExpDecay(Nt,osc=(False if n%2==0 else True))( t, en, zn)\n",
    "        return C_t\n",
    "\n",
    "    return model\n",
    "\n",
    "def StaggDecay3(Nt,Nexc):\n",
    "\n",
    "    def model(t,E0,Z0a,Z0b, E1,Z1a,Z1b, *high):\n",
    "        C_t  = ExpDecay(Nt)         ( t, E0, Z0a * Z0b )\n",
    "        C_t += ExpDecay(Nt,osc=True)( t, E1, Z1a * Z1b )\n",
    "        for n in range(2*Nexc-2):\n",
    "            en, zn = high[2*n], high[2*n+1]**2\n",
    "            C_t += ExpDecay(Nt,osc=(False if n%2==0 else True))( t, en, zn)\n",
    "        return C_t\n",
    "\n",
    "    return model"
   ]
  },
  {
   "cell_type": "code",
   "execution_count": 98,
   "metadata": {},
   "outputs": [
    {
     "data": {
      "text/plain": [
       "array([['1S-1S', 'Bot'],\n",
       "       ['1S-1S', 'Par'],\n",
       "       ['d-1S', 'Bot'],\n",
       "       ['d-1S', 'Par'],\n",
       "       ['d-d', 'Bot'],\n",
       "       ['d-d', 'Par']], dtype='<U5')"
      ]
     },
     "execution_count": 98,
     "metadata": {},
     "output_type": "execute_result"
    }
   ],
   "source": [
    "Kdataa"
   ]
  },
  {
   "cell_type": "code",
   "execution_count": 26,
   "metadata": {},
   "outputs": [],
   "source": [
    "Kdataa = anp.array(sorted(itertools.product(SMR,POL)))\n",
    "\n",
    "def flat_pars_model_scalar2(tau,*params):  \n",
    "    i_sp   = int(anp.log10(tau))-1\n",
    "    t = tau/10**i_sp\n",
    "\n",
    "    sm,pol = Kdataa[i_sp] \n",
    "    sm1,sm2 = sm.split('-')\n",
    "    mix = sm1!=sm2\n",
    "\n",
    "    # Fundamental physical state\n",
    "    e0  = params[kid['E',0]]\n",
    "    z0a = params[kid[f'Z_{sm1}_{pol}',0]]\n",
    "    z0b = params[kid[f'Z_{sm2}_{pol}',0]]\n",
    "\n",
    "    # Oscillating physical state\n",
    "    e1  = anp.exp(params[kid['E',1]]) + e0\n",
    "    z1a = params[kid[f'Z_{sm1}_{pol}',1]]\n",
    "    z1b = params[kid[f'Z_{sm2}_{pol}',1]]\n",
    "\n",
    "    erg = [e0,e1]\n",
    "\n",
    "    # Excited stated\n",
    "    high = []\n",
    "    for n in range(2,2*NEXC):\n",
    "        en = anp.exp(params[kid['E',n]]) + erg[n-2]\n",
    "        Zn = params[kid[f'Z_{sm if mix else sm1}_{pol}',n-2 if mix else n]]\n",
    "        high.extend([en,Zn])\n",
    "\n",
    "        erg.append(en)\n",
    "    \n",
    "    return StaggDecay2(NT,NEXC)(t,e0,z0a,z0b,e1,z1a,z1b,*high)\n",
    "\n",
    "def flat_pars_model_scalar3(tau,*params):  \n",
    "    i_sp   = int(anp.log10(tau))-1\n",
    "    t = tau/10**i_sp\n",
    "\n",
    "    sm,pol = Kdataa[i_sp] \n",
    "    sm1,sm2 = sm.split('-')\n",
    "    mix = sm1!=sm2\n",
    "\n",
    "    # Fundamental physical state\n",
    "    e0  = params[kid['E',0]]\n",
    "    z0a = params[kid[f'Z_{sm1}_{pol}',0]]\n",
    "    z0b = params[kid[f'Z_{sm2}_{pol}',0]]\n",
    "\n",
    "    # Oscillating physical state\n",
    "    e1  = params[kid['E',1]]\n",
    "    z1a = params[kid[f'Z_{sm1}_{pol}',1]]\n",
    "    z1b = params[kid[f'Z_{sm2}_{pol}',1]]\n",
    "\n",
    "\n",
    "\n",
    "    # Excited stated\n",
    "    high = []\n",
    "    for n in range(2,2*NEXC):\n",
    "        en = params[kid['E',n]]\n",
    "        Zn = params[kid[f'Z_{sm if mix else sm1}_{pol}',n-2 if mix else n]]\n",
    "        high.extend([en,Zn])\n",
    "    \n",
    "\n",
    "\n",
    "    return StaggDecay3(NT,NEXC)(t,e0,z0a,z0b,e1,z1a,z1b,*high)"
   ]
  },
  {
   "cell_type": "code",
   "execution_count": 65,
   "metadata": {},
   "outputs": [],
   "source": [
    "xdata = [x*10**i for i,x in enumerate(fit.x)]\n",
    "for xr in xdata:\n",
    "    for x in xr:\n",
    "        flat_pars_model_scalar3(x,*pVector)\n",
    "xdatad = {tuple(k):xdata[i] for i,k in enumerate(Kdataa)}"
   ]
  },
  {
   "cell_type": "code",
   "execution_count": 36,
   "metadata": {},
   "outputs": [],
   "source": [
    "phi2 = np.array([flat_pars_model_scalar2(t,*pVector) for t in np.concatenate(xdata)])\n",
    "phi = np.array([flat_pars_model_scalar3(t,*diffpar) for t in np.concatenate(xdata)])\n",
    "\n",
    "assert np.allclose(gv.mean(phi2),phi,rtol=1e-15)"
   ]
  },
  {
   "cell_type": "markdown",
   "metadata": {},
   "source": [
    "Calculate the gradient matrix\n",
    "$$\n",
    "    \\Delta_{i \\alpha} = \\frac{\\partial}{\\partial a^\\alpha} \\phi(t_i;\\bar a) =: \\phi_\\alpha(t_i) \\qquad \\in (N_t \\times N_\\text{pars})\n",
    "$$"
   ]
  },
  {
   "cell_type": "code",
   "execution_count": 37,
   "metadata": {},
   "outputs": [],
   "source": [
    "# grads = {(k,n): autograd.grad(flat_pars_model_scalar2,argnum=(kid[k,n]+1)) for (k,n),i in kid.items()}\n",
    "grads = {(k,n): autograd.grad(flat_pars_model_scalar3,argnum=(kid[k,n]+1)) for (k,n),i in kid.items()}"
   ]
  },
  {
   "cell_type": "markdown",
   "metadata": {},
   "source": [
    "Let's make a check. The derivative \n",
    "$$\n",
    "\\frac{\\partial \\phi(t)}{\\partial Z_0^{(1S,Bot)}} = \\begin{cases} 2Z_0^{(1S,\\text{Bot})}(e^{-E_0t}+e^{-E_0(N_t-t)}) \\text{ for } t \\in t_{(1S-1S,\\text{Bot})} \\\\ 2Z_0^{(d,\\text{Bot})}(e^{-E_0t}+e^{-E_0(N_t-t)})\\text{ for } t \\in t_{(d-1S,\\text{Bot})} \\\\ 0 \\text{ elsewhere }  \\end{cases}\n",
    "$$"
   ]
  },
  {
   "cell_type": "code",
   "execution_count": 72,
   "metadata": {},
   "outputs": [
    {
     "data": {
      "text/plain": [
       "array([0., 0., 0., 0., 0., 0., 0., 0.])"
      ]
     },
     "execution_count": 72,
     "metadata": {},
     "output_type": "execute_result"
    }
   ],
   "source": [
    "t = xdatad['1S-1S','Bot']\n",
    "\n",
    "dcdz = 2*np.exp(fit.pmean['Z_1S_Bot'][0]) * (np.exp(- fit.pmean['E'][0] * t ) + np.exp(- fit.pmean['E'][0] * (NT-t) ))\n",
    "autod = np.array([grads[('Z_1S_Bot',0)](x,*diffpar) for x in t])\n",
    "assert np.allclose(dcdz,autod,atol=0.,rtol=1e-12)\n",
    "autod - dcdz"
   ]
  },
  {
   "cell_type": "code",
   "execution_count": 73,
   "metadata": {},
   "outputs": [
    {
     "name": "stderr",
     "output_type": "stream",
     "text": [
      "/Users/pietro/opt/anaconda3/envs/stat/lib/python3.11/site-packages/autograd/tracer.py:14: UserWarning: Output seems independent of input.\n",
      "  warnings.warn(\"Output seems independent of input.\")\n"
     ]
    }
   ],
   "source": [
    "g = []\n",
    "for (k,n),i in kid.items():\n",
    "    g.append(np.array([grads[k,n](t,*diffpar) for t in np.concatenate(xdata)]))\n",
    "g = np.array(g).T"
   ]
  },
  {
   "cell_type": "markdown",
   "metadata": {},
   "source": [
    "# Checks"
   ]
  },
  {
   "cell_type": "code",
   "execution_count": 74,
   "metadata": {},
   "outputs": [],
   "source": [
    "def issymm(M,rtol=1e-12,atol=0.):\n",
    "    return np.allclose(M,M.T,atol=atol,rtol=rtol)\n",
    "\n",
    "def rdist(M,N):\n",
    "    tol = 1e-30\n",
    "    while True:\n",
    "        if np.allclose(M,N,atol=0.,rtol=tol):\n",
    "            break\n",
    "        else:\n",
    "            tol *= 10\n",
    "    return 10**np.log10(tol)"
   ]
  },
  {
   "cell_type": "markdown",
   "metadata": {},
   "source": [
    "We have to use now the matrix of weights used to perform the fit, i.e. minimize\n",
    "$$\n",
    "    \\chi^2 = || W \\cdot (\\vec y - \\vec \\phi)||^2 = {}^t (\\vec y - \\vec \\phi)\\cdot w \\cdot (\\vec y - \\vec \\phi) \n",
    "$$\n",
    "where $w = {}^tW W = W^2$"
   ]
  },
  {
   "cell_type": "code",
   "execution_count": 75,
   "metadata": {},
   "outputs": [],
   "source": [
    "w = np.linalg.inv(gv.evalcov(fit.y))\n",
    "W = np.linalg.cholesky(w)"
   ]
  },
  {
   "cell_type": "code",
   "execution_count": 76,
   "metadata": {},
   "outputs": [],
   "source": [
    "res = gv.mean(phi) - gv.mean(fit.y)\n",
    "assert fit.chi2red == res.T @ w @ res"
   ]
  },
  {
   "cell_type": "code",
   "execution_count": 77,
   "metadata": {},
   "outputs": [
    {
     "data": {
      "text/plain": [
       "15.17348543665168"
      ]
     },
     "execution_count": 77,
     "metadata": {},
     "output_type": "execute_result"
    }
   ],
   "source": [
    "fit.chi2red"
   ]
  },
  {
   "cell_type": "markdown",
   "metadata": {},
   "source": [
    "$$\n",
    "    H_{\\alpha\\beta} = (W\\cdot\\phi^\\alpha,W\\cdot\\phi^\\beta) = \\phi^\\alpha\\cdot w\\cdot \\phi^\\beta\n",
    "$$"
   ]
  },
  {
   "cell_type": "code",
   "execution_count": 78,
   "metadata": {},
   "outputs": [],
   "source": [
    "Hmat = g.T @ w @ g\n",
    "Hinv = np.linalg.inv(Hmat)"
   ]
  },
  {
   "cell_type": "markdown",
   "metadata": {},
   "source": [
    "$$\n",
    "\\mathcal P = W \\phi^\\alpha \\,(H^{-1})^{\\alpha\\beta}\\, {}^t \\phi^\\beta W\n",
    "$$"
   ]
  },
  {
   "cell_type": "code",
   "execution_count": 79,
   "metadata": {},
   "outputs": [],
   "source": [
    "Wg = W @ g\n",
    "Proj = Wg @ ((Hinv+Hinv.T)/2.) @ Wg.T"
   ]
  },
  {
   "cell_type": "code",
   "execution_count": 84,
   "metadata": {},
   "outputs": [
    {
     "data": {
      "text/plain": [
       "37.99999990301794"
      ]
     },
     "execution_count": 84,
     "metadata": {},
     "output_type": "execute_result"
    }
   ],
   "source": [
    "np.trace(Proj)"
   ]
  },
  {
   "cell_type": "code",
   "execution_count": 83,
   "metadata": {},
   "outputs": [
    {
     "data": {
      "text/plain": [
       "0.10000000000000005"
      ]
     },
     "execution_count": 83,
     "metadata": {},
     "output_type": "execute_result"
    }
   ],
   "source": [
    "rdist(Proj@Proj,Proj)"
   ]
  },
  {
   "cell_type": "code",
   "execution_count": 81,
   "metadata": {},
   "outputs": [
    {
     "data": {
      "text/plain": [
       "2.2468850196018364"
      ]
     },
     "execution_count": 81,
     "metadata": {},
     "output_type": "execute_result"
    }
   ],
   "source": [
    "xx = (np.eye(W.shape[0])-Proj) @ W @ res\n",
    "(xx.T @ xx)"
   ]
  },
  {
   "cell_type": "markdown",
   "metadata": {},
   "source": [
    "# Junks"
   ]
  },
  {
   "cell_type": "code",
   "execution_count": 14,
   "metadata": {},
   "outputs": [],
   "source": [
    "w = np.linalg.inv(gv.evalcov(fit.y))"
   ]
  },
  {
   "cell_type": "markdown",
   "metadata": {},
   "source": [
    "\n",
    "$$\n",
    "\\mathcal C_{\\alpha\\beta} = (H^{-1})^{\\alpha\\alpha'} \\phi^{\\alpha'} w \\mathcal C w \\phi^\\beta (H^{-1})^{\\beta'\\beta}\n",
    "$$"
   ]
  },
  {
   "cell_type": "code",
   "execution_count": 85,
   "metadata": {},
   "outputs": [],
   "source": [
    "Hmat = g.T @ w @ g\n",
    "Hinv = np.linalg.inv(Hmat)"
   ]
  },
  {
   "cell_type": "code",
   "execution_count": 86,
   "metadata": {},
   "outputs": [],
   "source": [
    "wg = w @ g\n",
    "proj = w - wg @ Hinv @ wg.T"
   ]
  },
  {
   "cell_type": "code",
   "execution_count": 87,
   "metadata": {},
   "outputs": [],
   "source": [
    "xdata,ydata = corr.format(trange=TLIM,flatten=True,covariance=True,smearing=SMR)\n",
    "cov = gv.evalcov(ydata)"
   ]
  },
  {
   "cell_type": "code",
   "execution_count": 88,
   "metadata": {},
   "outputs": [
    {
     "ename": "ValueError",
     "evalue": "non-symmetric covariance matrix:\n[[2.51916892e-03 2.80756683e-02 3.19151990e-02 ... 1.13147446e-01\n  4.29933861e-02 4.36840972e-02]\n [2.80756682e-02 3.17436761e-01 3.59237178e-01 ... 1.23440762e+00\n  4.98205364e-01 4.77801440e-01]\n [3.19151987e-02 3.59237177e-01 4.13439585e-01 ... 1.39760574e+00\n  4.94733993e-01 5.39703688e-01]\n ...\n [1.13147446e-01 1.23440760e+00 1.39760572e+00 ... 3.45997801e+01\n  9.04728683e+00 1.06022209e+01]\n [4.29933850e-02 4.98205355e-01 4.94733954e-01 ... 9.04728684e+00\n  4.28920714e+00 2.88089478e+00]\n [4.36840985e-02 4.77801449e-01 5.39703714e-01 ... 1.06022212e+01\n  2.88089446e+00 3.50084234e+00]]",
     "output_type": "error",
     "traceback": [
      "\u001b[0;31m---------------------------------------------------------------------------\u001b[0m",
      "\u001b[0;31mValueError\u001b[0m                                Traceback (most recent call last)",
      "Cell \u001b[0;32mIn[88], line 2\u001b[0m\n\u001b[1;32m      1\u001b[0m cov_pars \u001b[38;5;241m=\u001b[39m Hinv \u001b[38;5;241m@\u001b[39m (wg\u001b[38;5;241m.\u001b[39mT \u001b[38;5;241m@\u001b[39m cov \u001b[38;5;241m@\u001b[39m wg) \u001b[38;5;241m@\u001b[39m Hinv\n\u001b[0;32m----> 2\u001b[0m \u001b[43mgv\u001b[49m\u001b[38;5;241;43m.\u001b[39;49m\u001b[43mgvar\u001b[49m\u001b[43m(\u001b[49m\u001b[43mgv\u001b[49m\u001b[38;5;241;43m.\u001b[39;49m\u001b[43mmean\u001b[49m\u001b[43m(\u001b[49m\u001b[43mpVector\u001b[49m\u001b[43m)\u001b[49m\u001b[43m,\u001b[49m\u001b[43mcov_pars\u001b[49m\u001b[43m)\u001b[49m\n",
      "File \u001b[0;32msrc/gvar/_gvarcore.pyx:1354\u001b[0m, in \u001b[0;36mgvar._gvarcore.GVarFactory.__call__\u001b[0;34m()\u001b[0m\n",
      "File \u001b[0;32msrc/gvar/_gvarcore.pyx:1356\u001b[0m, in \u001b[0;36mgvar._gvarcore.GVarFactory.__call__\u001b[0;34m()\u001b[0m\n",
      "\u001b[0;31mValueError\u001b[0m: non-symmetric covariance matrix:\n[[2.51916892e-03 2.80756683e-02 3.19151990e-02 ... 1.13147446e-01\n  4.29933861e-02 4.36840972e-02]\n [2.80756682e-02 3.17436761e-01 3.59237178e-01 ... 1.23440762e+00\n  4.98205364e-01 4.77801440e-01]\n [3.19151987e-02 3.59237177e-01 4.13439585e-01 ... 1.39760574e+00\n  4.94733993e-01 5.39703688e-01]\n ...\n [1.13147446e-01 1.23440760e+00 1.39760572e+00 ... 3.45997801e+01\n  9.04728683e+00 1.06022209e+01]\n [4.29933850e-02 4.98205355e-01 4.94733954e-01 ... 9.04728684e+00\n  4.28920714e+00 2.88089478e+00]\n [4.36840985e-02 4.77801449e-01 5.39703714e-01 ... 1.06022212e+01\n  2.88089446e+00 3.50084234e+00]]"
     ]
    }
   ],
   "source": [
    "cov_pars = Hinv @ (wg.T @ cov @ wg) @ Hinv\n",
    "gv.gvar(gv.mean(pVector),cov_pars)"
   ]
  },
  {
   "cell_type": "code",
   "execution_count": 89,
   "metadata": {},
   "outputs": [
    {
     "data": {
      "text/plain": [
       "2.793127312228611"
      ]
     },
     "execution_count": 89,
     "metadata": {},
     "output_type": "execute_result"
    }
   ],
   "source": [
    "chi_exp = np.trace(proj @ cov)\n",
    "chi_exp"
   ]
  },
  {
   "cell_type": "markdown",
   "metadata": {},
   "source": [
    "# Alternative implementation"
   ]
  },
  {
   "cell_type": "code",
   "execution_count": 107,
   "metadata": {},
   "outputs": [],
   "source": [
    "def Energies(Evec):\n",
    "    erg = [Evec[0]]\n",
    "    for n in range(1,len(Evec)):\n",
    "        erg.append(anp.exp(Evec[n]) + erg[n-(1 if n==1 else 2)])\n",
    "    return erg"
   ]
  },
  {
   "cell_type": "code",
   "execution_count": 109,
   "metadata": {},
   "outputs": [
    {
     "name": "stdout",
     "output_type": "stream",
     "text": [
      "0 ± 0\n",
      "0 ± 0\n",
      "0 ± 0\n",
      "0 ± 0\n",
      "0 ± 0\n",
      "0 ± 0\n",
      "0 ± 0\n",
      "0 ± 0\n",
      "0 ± 0\n",
      "0 ± 0\n",
      "0 ± 0\n",
      "0 ± 0\n",
      "0 ± 0\n",
      "0 ± 0\n",
      "0 ± 0\n",
      "0 ± 0\n",
      "0 ± 0\n",
      "0 ± 0\n",
      "0 ± 0\n",
      "0 ± 0\n",
      "0 ± 0\n",
      "0 ± 0\n",
      "0 ± 0\n",
      "0 ± 0\n",
      "0 ± 0\n",
      "0 ± 0\n",
      "0 ± 0\n",
      "0 ± 0\n",
      "0 ± 0\n",
      "0 ± 0\n",
      "0 ± 0\n",
      "0 ± 0\n",
      "0 ± 0\n",
      "0 ± 0\n",
      "0 ± 0\n",
      "0 ± 0\n",
      "0 ± 0\n",
      "0 ± 0\n",
      "0 ± 0\n",
      "0 ± 0\n",
      "0 ± 0\n",
      "0 ± 0\n",
      "0 ± 0\n",
      "0 ± 0\n",
      "0 ± 0\n",
      "0 ± 0\n",
      "0 ± 0\n",
      "0 ± 0\n"
     ]
    }
   ],
   "source": [
    "Kdataa = np.array(sorted(itertools.product(SMR,POL)))\n",
    "\n",
    "def flat_pars_model_scalar(tau,*params):  \n",
    "    i_sp   = int(anp.log10(tau))-1\n",
    "    t = tau/10**i_sp\n",
    "\n",
    "    sm,pol = Kdataa[i_sp] \n",
    "    sm1,sm2 = sm.split('-')\n",
    "    mix = sm1!=sm2\n",
    "\n",
    "    erg = Energies([params[kid['E',n]] for n in range(2*NEXC)])\n",
    "    Z0 = anp.exp(params[kid[f'Z_{sm1}_{pol}',0]]) * anp.exp(params[kid[f'Z_{sm2}_{pol}',0]])\n",
    "    Z1 = anp.exp(params[kid[f'Z_{sm1}_{pol}',1]]) * anp.exp(params[kid[f'Z_{sm2}_{pol}',1]])\n",
    "    \n",
    "    C_t = ExpDecay(NT)(t,erg[0],Z0) + ExpDecay(NT,osc=True)(t,erg[1],Z1)\n",
    "\n",
    "    for n in range(2,2*NEXC):\n",
    "        Zn = params[kid[f'Z_{sm if mix else sm1}_{pol}',n-2 if mix else n]] ** 2\n",
    "        C_t += ExpDecay(NT,osc=(False if n%2==0 else True))(t,erg[n],Zn)\n",
    "\n",
    "    return C_t\n",
    "\n",
    "for xr in xdata:\n",
    "    for x in xr:\n",
    "        print(flat_pars_model_scalar(x,*pVector)-flat_pars_model_scalar2(x,*pVector))"
   ]
  },
  {
   "cell_type": "code",
   "execution_count": null,
   "metadata": {},
   "outputs": [],
   "source": []
  }
 ],
 "metadata": {
  "kernelspec": {
   "display_name": "Python 3.11.4 ('stat')",
   "language": "python",
   "name": "python3"
  },
  "language_info": {
   "codemirror_mode": {
    "name": "ipython",
    "version": 3
   },
   "file_extension": ".py",
   "mimetype": "text/x-python",
   "name": "python",
   "nbconvert_exporter": "python",
   "pygments_lexer": "ipython3",
   "version": "3.11.4"
  },
  "orig_nbformat": 4,
  "vscode": {
   "interpreter": {
    "hash": "550906e9926f0f588aff226d3abadfa0c6a614c1c5eae7bfa21377021c1cb7ed"
   }
  }
 },
 "nbformat": 4,
 "nbformat_minor": 2
}
