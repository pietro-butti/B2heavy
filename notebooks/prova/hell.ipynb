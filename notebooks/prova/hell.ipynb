{
 "cells": [
  {
   "cell_type": "code",
   "execution_count": 19,
   "metadata": {},
   "outputs": [],
   "source": [
    "from b2heavy.ThreePointFunctions.corr3pts import BINSIZE\n",
    "\n",
    "from b2heavy.TwoPointFunctions.utils     import Tmax\n",
    "from b2heavy.TwoPointFunctions.types2pts import CorrelatorIO, Correlator\n",
    "from b2heavy.TwoPointFunctions.fitter    import StagFitter, p_value, standard_p\n",
    "\n",
    "from b2heavy.FnalHISQMetadata import params\n",
    "\n",
    "import lsqfit\n",
    "import copy\n",
    "import h5py\n",
    "\n",
    "import numpy             as np\n",
    "import gvar              as gv\n",
    "import matplotlib.pyplot as plt\n",
    "import pandas            as pd\n",
    "import corrfitter        as cf\n",
    "\n",
    "from tqdm  import tqdm\n",
    "from scipy import linalg as la\n",
    "\n",
    "import jax \n",
    "import jax.numpy         as jnp\n",
    "jax.config.update(\"jax_enable_x64\", True)\n"
   ]
  },
  {
   "cell_type": "code",
   "execution_count": 20,
   "metadata": {},
   "outputs": [],
   "source": [
    "def fexp(Nt):\n",
    "    return lambda t,E,Z: Z * ( jnp.exp(-E*t) + jnp.exp(-E*(Nt-t)) ) "
   ]
  },
  {
   "cell_type": "code",
   "execution_count": 21,
   "metadata": {},
   "outputs": [],
   "source": [
    "ensemble = 'Fine-Phys'\n",
    "mom      = '400'\n",
    "mes      = 'Dst'\n",
    "data_dir = '/Users/pietro/code/data_analysis/BtoD/Alex/'\n",
    "\n",
    "mdata = params(ensemble)\n",
    "\n",
    "cov_specs = dict(scale=True, shrink=True, cutsvd=1e-12)\n",
    "jkb       = BINSIZE[ensemble]"
   ]
  },
  {
   "cell_type": "code",
   "execution_count": 22,
   "metadata": {},
   "outputs": [],
   "source": [
    "io   = CorrelatorIO(ensemble,'Dst',mom,PathToDataDir=data_dir)\n",
    "stag = StagFitter(\n",
    "    io       = io,\n",
    "    jkBin    = BINSIZE[ensemble],\n",
    "    smearing = ['1S-1S','d-d','d-1S']\n",
    ")"
   ]
  },
  {
   "cell_type": "code",
   "execution_count": 23,
   "metadata": {},
   "outputs": [],
   "source": [
    "nconf = io.ReadCorrelator(jkBin=1).shape[-2]"
   ]
  },
  {
   "cell_type": "code",
   "execution_count": 24,
   "metadata": {},
   "outputs": [],
   "source": [
    "teff     = (17,28)\n",
    "tmin     = int(0.65//mdata['aSpc'].mean)\n",
    "# tmin     = int(1.//mdata['aSpc'].mean)\n",
    "tmax_all = 28\n",
    "Nstates = 3\n",
    "errmax  = 0.25"
   ]
  },
  {
   "cell_type": "code",
   "execution_count": 25,
   "metadata": {},
   "outputs": [
    {
     "name": "stderr",
     "output_type": "stream",
     "text": [
      "/Users/pietro/code/software/B2heavy/b2heavy/TwoPointFunctions/types2pts.py:38: RuntimeWarning: invalid value encountered in sqrt\n",
      "  m = np.arccosh( (y[(it+1)%len(y)]+y[(it-1)%len(y)])/y[it]/2 )\n",
      "/Users/pietro/code/software/B2heavy/b2heavy/TwoPointFunctions/types2pts.py:38: RuntimeWarning: invalid value encountered in log\n",
      "  m = np.arccosh( (y[(it+1)%len(y)]+y[(it-1)%len(y)])/y[it]/2 )\n",
      "/Users/pietro/code/software/B2heavy/b2heavy/TwoPointFunctions/types2pts.py:38: RuntimeWarning: invalid value encountered in arccosh\n",
      "  m = np.arccosh( (y[(it+1)%len(y)]+y[(it-1)%len(y)])/y[it]/2 )\n"
     ]
    }
   ],
   "source": [
    "effm,effa = stag.meff(teff,**cov_specs)"
   ]
  },
  {
   "cell_type": "code",
   "execution_count": 26,
   "metadata": {},
   "outputs": [],
   "source": [
    "def chi2red(fit):\n",
    "    chi2red = fit.chi2\n",
    "    for k,pr in fit.prior.items():\n",
    "        for i,p in enumerate(pr):\n",
    "            chi2red -= ((fit.pmean[k][i]-p.mean)/p.sdev)**2\n",
    "    return chi2red\n",
    "\n",
    "def ndof(fit):\n",
    "    return len(fit.y) - sum([len(pr) for k,pr in fit.prior.items()]) "
   ]
  },
  {
   "cell_type": "code",
   "execution_count": 27,
   "metadata": {},
   "outputs": [],
   "source": [
    "xdata, ydata, yfull = stag.format(alljk=True,**cov_specs)\n",
    "\n",
    "xfit, yfit, yjk = {},{},{}\n",
    "for smr,pol in stag.keys:\n",
    "    tmax = Tmax(ydata[smr,pol],errmax=errmax)\n",
    "    # tmax = tmax_all\n",
    "    \n",
    "    xfit[smr,pol] = xdata[tmin:tmax+1]\n",
    "    yfit[smr,pol] = ydata[smr,pol][tmin:tmax+1]\n",
    "    yjk [smr,pol] = yfull[smr,pol][:,tmin:tmax+1]\n",
    "\n",
    "yflat   = np.concatenate([yfit[k] for k in stag.keys])\n",
    "yflatjk = np.hstack([yjk[k] for k in stag.keys])\n",
    "\n",
    "\n",
    "def fitfcn(func):\n",
    "    def _fitfcn(xd,p):\n",
    "        tmp = []\n",
    "        for sm,pl in stag.keys:\n",
    "            fcn = func(Nstates,stag.Nt,sm,pl)\n",
    "            tmp.append(fcn(xfit[sm,pl],p))\n",
    "        return np.concatenate(tmp)\n",
    "    return _fitfcn "
   ]
  },
  {
   "cell_type": "code",
   "execution_count": 28,
   "metadata": {},
   "outputs": [],
   "source": [
    "def custom(Nstates,Nt,sm,pol):\n",
    "    sm1,sm2 = sm.split('-')\n",
    "    mix = sm1!=sm2\n",
    "\n",
    "    def aux(t,p):\n",
    "        E0, E1 = p['E'][0], p['E'][0] + jnp.exp(p['E'][1])\n",
    "        Z0 = jnp.exp(p[f'Z_{sm1}_{pol}'][0]) * jnp.exp(p[f'Z_{sm2}_{pol}'][0])\n",
    "        Z1 = jnp.exp(p[f'Z_{sm1}_{pol}'][1]) * jnp.exp(p[f'Z_{sm2}_{pol}'][1])\n",
    "        ans = fexp(Nt)(t,E0,Z0) + fexp(Nt)(t,E1,Z1) * (-1)**(t+1)\n",
    "\n",
    "        Es = [E0,E1]\n",
    "        for i in range(2,2*Nstates):\n",
    "            Ei = Es[i-2] + jnp.exp(p['E'][i])\n",
    "            Z = p[f'Z_{sm if mix else sm1}_{pol}'][i-2 if mix else i]**2\n",
    "\n",
    "            ans += fexp(Nt)(t,Ei,Z) * (-1)**(i*(t+1))\n",
    "\n",
    "            Es.append(Ei)\n",
    "        return ans\n",
    "\n",
    "    return aux\n",
    "\n",
    "cfcn = fitfcn(custom)"
   ]
  },
  {
   "cell_type": "code",
   "execution_count": 37,
   "metadata": {},
   "outputs": [],
   "source": [
    "def corrnew(Nstates,Nt,sm,pol):\n",
    "    sm1,sm2 = sm.split('-')\n",
    "    mix = sm1!=sm2\n",
    "\n",
    "    def aux(t,p):\n",
    "        erg    = jnp.exp(p[f'dE'  ])\n",
    "        ergo   = jnp.exp(p[f'dE.o'])\n",
    "        # erg [0] = p[f'dE'][0]\n",
    "        # ergo[0] = erg[0] + jnp.exp(p[f'dE.o'][0])\n",
    "\n",
    "        c2 = 0.\n",
    "        for n in range(Nstates):\n",
    "            Z0 = jnp.exp(p[f'Z.{sm1}.{pol}'  ][n]) * jnp.exp(p[f'Z.{sm2}.{pol}'  ][n])\n",
    "            Z1 = jnp.exp(p[f'Z.{sm1}.{pol}.o'][n]) * jnp.exp(p[f'Z.{sm2}.{pol}.o'][n])\n",
    "\n",
    "            if n>0:\n",
    "                Z0 = p[f'Z.{sm if mix else sm1}.{pol}'  ][n-1 if mix else n]**2\n",
    "                Z1 = p[f'Z.{sm if mix else sm1}.{pol}.o'][n-1 if mix else n]**2\n",
    "\n",
    "            Ephy = sum(erg[ :n+1])\n",
    "            Eosc = sum(ergo[:n+1])\n",
    "\n",
    "            c2 += fexp(Nt)(t,Ephy,Z0) + fexp(Nt)(t,Eosc,Z1) * (-1)**((t+1))\n",
    "\n",
    "        return c2\n",
    "    \n",
    "    return aux\n",
    "\n",
    "newf = fitfcn(corrnew)"
   ]
  },
  {
   "cell_type": "code",
   "execution_count": 38,
   "metadata": {},
   "outputs": [],
   "source": [
    "def to_new(p,fcn=lambda x: x):\n",
    "    pr = {}\n",
    "    pr['dE']    = fcn(p['E'][::2] ) \n",
    "    pr['dE.o']  = fcn(p['E'][1::2])\n",
    "    pr['dE'][0] = p['E'][0]\n",
    "\n",
    "    for sm in ['1S-1S','d-1S','d-d']:\n",
    "        for pol in ['Bot','Par']:\n",
    "            sm1,sm2 = sm.split('-')\n",
    "            smr = sm1 if sm1==sm2 else sm\n",
    "\n",
    "            pr[f'Z.{smr}.{pol}']   = fcn(p[f'Z_{smr}_{pol}'][::2] )\n",
    "            pr[f'Z.{smr}.{pol}.o'] = fcn(p[f'Z_{smr}_{pol}'][1::2])\n",
    "    \n",
    "    return pr"
   ]
  },
  {
   "cell_type": "code",
   "execution_count": 39,
   "metadata": {},
   "outputs": [],
   "source": [
    "def show_par(fitp,fcn=lambda x:x):\n",
    "    aux,idx = [],[]\n",
    "    for k in fitp:\n",
    "        if k.endswith('o'):\n",
    "            continue\n",
    "\n",
    "        tmp = {}\n",
    "        for n in range(len(fitp[k])):\n",
    "            ise0 = (n==0 and k.startswith('dE') and not k.endswith('o'))\n",
    "\n",
    "            mix = '-' in k\n",
    "\n",
    "            tmp[f'{n+1 if mix else n}']   = fcn(fitp[k][n])\n",
    "            tmp[f'{n+1 if mix else n}.o'] = fcn(fitp[f'{k}.o'][n])\n",
    "\n",
    "\n",
    "        aux.append(tmp)\n",
    "        idx.append(k)\n",
    "\n",
    "    return pd.DataFrame(aux,index=idx).transpose()"
   ]
  },
  {
   "cell_type": "code",
   "execution_count": 40,
   "metadata": {},
   "outputs": [],
   "source": [
    "# def chi2exp(fcn):\n",
    "    "
   ]
  },
  {
   "cell_type": "markdown",
   "metadata": {},
   "source": [
    "# Custom from `b2heavy`"
   ]
  },
  {
   "cell_type": "code",
   "execution_count": 41,
   "metadata": {},
   "outputs": [],
   "source": [
    "pr = stag.priors(Nstates,Meff=effm,Aeff=effa)\n",
    "cfit = stag.fit(Nstates,(tmin,tmax_all),priors=pr,**cov_specs)"
   ]
  },
  {
   "cell_type": "code",
   "execution_count": 42,
   "metadata": {},
   "outputs": [],
   "source": [
    "cpar = cfit.pmean\n",
    "fc = custom(3,stag.Nt,'1S-1S','Bot')\n",
    "\n",
    "npar = to_new(cpar)\n",
    "fn = corrnew(3,stag.Nt,'1S-1S','Bot')"
   ]
  },
  {
   "cell_type": "code",
   "execution_count": 43,
   "metadata": {},
   "outputs": [
    {
     "data": {
      "text/html": [
       "<div>\n",
       "<style scoped>\n",
       "    .dataframe tbody tr th:only-of-type {\n",
       "        vertical-align: middle;\n",
       "    }\n",
       "\n",
       "    .dataframe tbody tr th {\n",
       "        vertical-align: top;\n",
       "    }\n",
       "\n",
       "    .dataframe thead th {\n",
       "        text-align: right;\n",
       "    }\n",
       "</style>\n",
       "<table border=\"1\" class=\"dataframe\">\n",
       "  <thead>\n",
       "    <tr style=\"text-align: right;\">\n",
       "      <th></th>\n",
       "      <th>E</th>\n",
       "      <th>Z_1S_Bot</th>\n",
       "      <th>Z_1S_Par</th>\n",
       "      <th>Z_d-1S_Bot</th>\n",
       "      <th>Z_d-1S_Par</th>\n",
       "      <th>Z_d_Bot</th>\n",
       "      <th>Z_d_Par</th>\n",
       "    </tr>\n",
       "  </thead>\n",
       "  <tbody>\n",
       "    <tr>\n",
       "      <th>0</th>\n",
       "      <td>0.9024(67)</td>\n",
       "      <td>-0.148(65)</td>\n",
       "      <td>-0.002(68)</td>\n",
       "      <td>NaN</td>\n",
       "      <td>NaN</td>\n",
       "      <td>-2.551(71)</td>\n",
       "      <td>-2.442(71)</td>\n",
       "    </tr>\n",
       "    <tr>\n",
       "      <th>1</th>\n",
       "      <td>-3.05(29)</td>\n",
       "      <td>-0.25(14)</td>\n",
       "      <td>-0.47(11)</td>\n",
       "      <td>NaN</td>\n",
       "      <td>NaN</td>\n",
       "      <td>-3.06(15)</td>\n",
       "      <td>-6.9(1.7)</td>\n",
       "    </tr>\n",
       "    <tr>\n",
       "      <th>2</th>\n",
       "      <td>-1.76(17)</td>\n",
       "      <td>0.982(99)</td>\n",
       "      <td>1.139(88)</td>\n",
       "      <td>-0.269(35)</td>\n",
       "      <td>0.318(35)</td>\n",
       "      <td>0.090(14)</td>\n",
       "      <td>0.101(15)</td>\n",
       "    </tr>\n",
       "    <tr>\n",
       "      <th>3</th>\n",
       "      <td>-2.28(17)</td>\n",
       "      <td>0.60(21)</td>\n",
       "      <td>0.04(1.44)</td>\n",
       "      <td>0.202(37)</td>\n",
       "      <td>0.249(28)</td>\n",
       "      <td>0.065(10)</td>\n",
       "      <td>0.0763(93)</td>\n",
       "    </tr>\n",
       "    <tr>\n",
       "      <th>4</th>\n",
       "      <td>-0.82(24)</td>\n",
       "      <td>1.16(69)</td>\n",
       "      <td>0.2(2.8)</td>\n",
       "      <td>0.50(12)</td>\n",
       "      <td>0.48(11)</td>\n",
       "      <td>0.304(85)</td>\n",
       "      <td>0.318(87)</td>\n",
       "    </tr>\n",
       "    <tr>\n",
       "      <th>5</th>\n",
       "      <td>-1.00(22)</td>\n",
       "      <td>1.87(52)</td>\n",
       "      <td>2.14(53)</td>\n",
       "      <td>0.52(11)</td>\n",
       "      <td>0.410(91)</td>\n",
       "      <td>0.208(46)</td>\n",
       "      <td>0.175(39)</td>\n",
       "    </tr>\n",
       "  </tbody>\n",
       "</table>\n",
       "</div>"
      ],
      "text/plain": [
       "            E    Z_1S_Bot    Z_1S_Par  Z_d-1S_Bot Z_d-1S_Par     Z_d_Bot  \\\n",
       "0  0.9024(67)  -0.148(65)  -0.002(68)         NaN        NaN  -2.551(71)   \n",
       "1   -3.05(29)   -0.25(14)   -0.47(11)         NaN        NaN   -3.06(15)   \n",
       "2   -1.76(17)   0.982(99)   1.139(88)  -0.269(35)  0.318(35)   0.090(14)   \n",
       "3   -2.28(17)    0.60(21)  0.04(1.44)   0.202(37)  0.249(28)   0.065(10)   \n",
       "4   -0.82(24)    1.16(69)    0.2(2.8)    0.50(12)   0.48(11)   0.304(85)   \n",
       "5   -1.00(22)    1.87(52)    2.14(53)    0.52(11)  0.410(91)   0.208(46)   \n",
       "\n",
       "      Z_d_Par  \n",
       "0  -2.442(71)  \n",
       "1   -6.9(1.7)  \n",
       "2   0.101(15)  \n",
       "3  0.0763(93)  \n",
       "4   0.318(87)  \n",
       "5   0.175(39)  "
      ]
     },
     "execution_count": 43,
     "metadata": {},
     "output_type": "execute_result"
    }
   ],
   "source": [
    "aux,idx = [],[]\n",
    "for k in cfit.p:\n",
    "    if k.endswith('o'):\n",
    "        continue\n",
    "\n",
    "    tmp = {}\n",
    "    for n in range(len(cfit.p[k])):\n",
    "        ise0 = n==0 and k.startswith('E')\n",
    "        mix = '-' in k\n",
    "\n",
    "        # fcn = lambda x: (x if ise0 else np.exp(x)**2)\n",
    "        fcn = lambda x: x\n",
    "\n",
    "        tmp[f'{n+2 if mix else n}']   = fcn(cfit.p[k][n])\n",
    "\n",
    "\n",
    "    aux.append(tmp)\n",
    "    idx.append(k)\n",
    "\n",
    "cpar = pd.DataFrame(aux,index=idx).transpose()\n",
    "\n",
    "cpar"
   ]
  },
  {
   "cell_type": "markdown",
   "metadata": {},
   "source": [
    "# same results ? (yes!)"
   ]
  },
  {
   "cell_type": "code",
   "execution_count": 44,
   "metadata": {},
   "outputs": [
    {
     "ename": "TypeError",
     "evalue": "Dtype object is not a valid JAX array type. Only arrays of numeric types are supported by JAX.",
     "output_type": "error",
     "traceback": [
      "\u001b[0;31m---------------------------------------------------------------------------\u001b[0m",
      "\u001b[0;31mTypeError\u001b[0m                                 Traceback (most recent call last)",
      "Cell \u001b[0;32mIn[44], line 1\u001b[0m\n\u001b[0;32m----> 1\u001b[0m fit \u001b[38;5;241m=\u001b[39m \u001b[43mlsqfit\u001b[49m\u001b[38;5;241;43m.\u001b[39;49m\u001b[43mnonlinear_fit\u001b[49m\u001b[43m(\u001b[49m\n\u001b[1;32m      2\u001b[0m \u001b[43m    \u001b[49m\u001b[43mdata\u001b[49m\u001b[43m  \u001b[49m\u001b[38;5;241;43m=\u001b[39;49m\u001b[43m \u001b[49m\u001b[43m(\u001b[49m\u001b[43mxfit\u001b[49m\u001b[43m,\u001b[49m\u001b[43myflat\u001b[49m\u001b[43m)\u001b[49m\u001b[43m,\u001b[49m\n\u001b[1;32m      3\u001b[0m \u001b[43m    \u001b[49m\u001b[43mfcn\u001b[49m\u001b[43m   \u001b[49m\u001b[38;5;241;43m=\u001b[39;49m\u001b[43m \u001b[49m\u001b[43mnewf\u001b[49m\u001b[43m,\u001b[49m\n\u001b[1;32m      4\u001b[0m \u001b[43m    \u001b[49m\u001b[43mprior\u001b[49m\u001b[43m \u001b[49m\u001b[38;5;241;43m=\u001b[39;49m\u001b[43m \u001b[49m\u001b[43mto_new\u001b[49m\u001b[43m(\u001b[49m\u001b[43mpr\u001b[49m\u001b[43m)\u001b[49m\n\u001b[1;32m      5\u001b[0m \u001b[43m)\u001b[49m\n\u001b[1;32m      7\u001b[0m show_par(fit\u001b[38;5;241m.\u001b[39mp)\n",
      "File \u001b[0;32m~/opt/anaconda3/envs/stat/lib/python3.11/site-packages/lsqfit/__init__.py:724\u001b[0m, in \u001b[0;36mnonlinear_fit.__init__\u001b[0;34m(self, data, fcn, prior, p0, eps, svdcut, debug, tol, maxit, udata, _fdata, noise, add_svdnoise, add_priornoise, linear, fitter, **fitterargs)\u001b[0m\n\u001b[1;32m    722\u001b[0m     fit \u001b[39m=\u001b[39m \u001b[39mself\u001b[39m\u001b[39m.\u001b[39m_varpro_fit(p0\u001b[39m=\u001b[39mp0, nf\u001b[39m=\u001b[39mnf, tol\u001b[39m=\u001b[39mtol, maxit\u001b[39m=\u001b[39mmaxit)\n\u001b[1;32m    723\u001b[0m \u001b[39melse\u001b[39;00m:\n\u001b[0;32m--> 724\u001b[0m     fit \u001b[39m=\u001b[39m nonlinear_fit\u001b[39m.\u001b[39;49mFITTERS[\u001b[39mself\u001b[39;49m\u001b[39m.\u001b[39;49mfitter](\n\u001b[1;32m    725\u001b[0m         p0, nf, \u001b[39mself\u001b[39;49m\u001b[39m.\u001b[39;49m_chiv, tol\u001b[39m=\u001b[39;49mtol, maxit\u001b[39m=\u001b[39;49mmaxit, \u001b[39m*\u001b[39;49m\u001b[39m*\u001b[39;49m\u001b[39mself\u001b[39;49m\u001b[39m.\u001b[39;49mfitterargs\n\u001b[1;32m    726\u001b[0m     )\n\u001b[1;32m    727\u001b[0m \u001b[39mself\u001b[39m\u001b[39m.\u001b[39merror \u001b[39m=\u001b[39m fit\u001b[39m.\u001b[39merror\n\u001b[1;32m    728\u001b[0m \u001b[39mself\u001b[39m\u001b[39m.\u001b[39mcov \u001b[39m=\u001b[39m fit\u001b[39m.\u001b[39mcov\n",
      "File \u001b[0;32m~/opt/anaconda3/envs/stat/lib/python3.11/site-packages/lsqfit/_scipy.py:156\u001b[0m, in \u001b[0;36mscipy_least_squares.__init__\u001b[0;34m(self, x0, n, f, tol, maxit, **extra_args)\u001b[0m\n\u001b[1;32m    153\u001b[0m         ans[i, :] \u001b[39m=\u001b[39m fx[i]\u001b[39m.\u001b[39mder\n\u001b[1;32m    154\u001b[0m     \u001b[39mreturn\u001b[39;00m ans\n\u001b[0;32m--> 156\u001b[0m fit \u001b[39m=\u001b[39m least_squares(\n\u001b[1;32m    157\u001b[0m     fun\u001b[39m=\u001b[39;49mfunc, jac\u001b[39m=\u001b[39;49mDfun, x0\u001b[39m=\u001b[39;49mx0,\n\u001b[1;32m    158\u001b[0m     xtol\u001b[39m=\u001b[39;49mtol[\u001b[39m0\u001b[39;49m], gtol\u001b[39m=\u001b[39;49mtol[\u001b[39m1\u001b[39;49m], ftol\u001b[39m=\u001b[39;49mtol[\u001b[39m2\u001b[39;49m],\n\u001b[1;32m    159\u001b[0m     max_nfev\u001b[39m=\u001b[39;49mmaxit,\n\u001b[1;32m    160\u001b[0m     \u001b[39m*\u001b[39;49m\u001b[39m*\u001b[39;49mextra_args\n\u001b[1;32m    161\u001b[0m     )\n\u001b[1;32m    162\u001b[0m \u001b[39mif\u001b[39;00m fit\u001b[39m.\u001b[39mstatus \u001b[39m>\u001b[39m \u001b[39m4\u001b[39m:\n\u001b[1;32m    163\u001b[0m     \u001b[39mraise\u001b[39;00m \u001b[39mRuntimeError\u001b[39;00m(\u001b[39m'\u001b[39m\u001b[39mfit crashed -- \u001b[39m\u001b[39m'\u001b[39m \u001b[39m+\u001b[39m fit\u001b[39m.\u001b[39mmessage)\n",
      "File \u001b[0;32m~/opt/anaconda3/envs/stat/lib/python3.11/site-packages/scipy/optimize/_lsq/least_squares.py:861\u001b[0m, in \u001b[0;36mleast_squares\u001b[0;34m(fun, x0, jac, bounds, method, ftol, xtol, gtol, x_scale, loss, f_scale, diff_step, tr_solver, tr_options, jac_sparsity, max_nfev, verbose, args, kwargs)\u001b[0m\n\u001b[1;32m    858\u001b[0m     initial_cost \u001b[39m=\u001b[39m \u001b[39m0.5\u001b[39m \u001b[39m*\u001b[39m np\u001b[39m.\u001b[39mdot(f0, f0)\n\u001b[1;32m    860\u001b[0m \u001b[39mif\u001b[39;00m \u001b[39mcallable\u001b[39m(jac):\n\u001b[0;32m--> 861\u001b[0m     J0 \u001b[39m=\u001b[39m jac(x0, \u001b[39m*\u001b[39;49margs, \u001b[39m*\u001b[39;49m\u001b[39m*\u001b[39;49mkwargs)\n\u001b[1;32m    863\u001b[0m     \u001b[39mif\u001b[39;00m issparse(J0):\n\u001b[1;32m    864\u001b[0m         J0 \u001b[39m=\u001b[39m J0\u001b[39m.\u001b[39mtocsr()\n",
      "File \u001b[0;32m~/opt/anaconda3/envs/stat/lib/python3.11/site-packages/lsqfit/_scipy.py:150\u001b[0m, in \u001b[0;36mscipy_least_squares.__init__.<locals>.Dfun\u001b[0;34m(x)\u001b[0m\n\u001b[1;32m    149\u001b[0m \u001b[39mdef\u001b[39;00m \u001b[39mDfun\u001b[39m(x):\n\u001b[0;32m--> 150\u001b[0m     fx \u001b[39m=\u001b[39m f(_valder \u001b[39m+\u001b[39;49m x)\n\u001b[1;32m    151\u001b[0m     ans \u001b[39m=\u001b[39m numpy\u001b[39m.\u001b[39mempty(numpy\u001b[39m.\u001b[39mshape(fx) \u001b[39m+\u001b[39m numpy\u001b[39m.\u001b[39mshape(x), \u001b[39mfloat\u001b[39m)\n\u001b[1;32m    152\u001b[0m     \u001b[39mfor\u001b[39;00m i \u001b[39min\u001b[39;00m \u001b[39mrange\u001b[39m(\u001b[39mlen\u001b[39m(fx)):\n",
      "File \u001b[0;32msrc/lsqfit/_utilities.pyx:93\u001b[0m, in \u001b[0;36mlsqfit._utilities.chiv.__call__\u001b[0;34m()\u001b[0m\n",
      "File \u001b[0;32m~/opt/anaconda3/envs/stat/lib/python3.11/site-packages/lsqfit/__init__.py:2189\u001b[0m, in \u001b[0;36mflatfcn_ad\u001b[0;34m(p, x, fcn, po)\u001b[0m\n\u001b[1;32m   2187\u001b[0m \u001b[39mdef\u001b[39;00m \u001b[39mflatfcn_ad\u001b[39m(p, x, fcn, po):\n\u001b[1;32m   2188\u001b[0m     po\u001b[39m.\u001b[39mbuf \u001b[39m=\u001b[39m p\n\u001b[0;32m-> 2189\u001b[0m     ans \u001b[39m=\u001b[39m fcn(po) \u001b[39mif\u001b[39;00m x \u001b[39mis\u001b[39;00m \u001b[39mFalse\u001b[39;00m \u001b[39melse\u001b[39;00m fcn(x, po)\n\u001b[1;32m   2190\u001b[0m     \u001b[39mif\u001b[39;00m \u001b[39mhasattr\u001b[39m(ans, \u001b[39m'\u001b[39m\u001b[39mflat\u001b[39m\u001b[39m'\u001b[39m):\n\u001b[1;32m   2191\u001b[0m         \u001b[39mreturn\u001b[39;00m ans\u001b[39m.\u001b[39mflat\n",
      "Cell \u001b[0;32mIn[27], line 21\u001b[0m, in \u001b[0;36mfitfcn.<locals>._fitfcn\u001b[0;34m(xd, p)\u001b[0m\n\u001b[1;32m     19\u001b[0m \u001b[38;5;28;01mfor\u001b[39;00m sm,pl \u001b[38;5;129;01min\u001b[39;00m stag\u001b[38;5;241m.\u001b[39mkeys:\n\u001b[1;32m     20\u001b[0m     fcn \u001b[38;5;241m=\u001b[39m func(Nstates,stag\u001b[38;5;241m.\u001b[39mNt,sm,pl)\n\u001b[0;32m---> 21\u001b[0m     tmp\u001b[38;5;241m.\u001b[39mappend(\u001b[43mfcn\u001b[49m\u001b[43m(\u001b[49m\u001b[43mxfit\u001b[49m\u001b[43m[\u001b[49m\u001b[43msm\u001b[49m\u001b[43m,\u001b[49m\u001b[43mpl\u001b[49m\u001b[43m]\u001b[49m\u001b[43m,\u001b[49m\u001b[43mp\u001b[49m\u001b[43m)\u001b[49m)\n\u001b[1;32m     22\u001b[0m \u001b[38;5;28;01mreturn\u001b[39;00m np\u001b[38;5;241m.\u001b[39mconcatenate(tmp)\n",
      "Cell \u001b[0;32mIn[37], line 6\u001b[0m, in \u001b[0;36mcorrnew.<locals>.aux\u001b[0;34m(t, p)\u001b[0m\n\u001b[1;32m      5\u001b[0m \u001b[38;5;28;01mdef\u001b[39;00m \u001b[38;5;21maux\u001b[39m(t,p):\n\u001b[0;32m----> 6\u001b[0m     erg    \u001b[38;5;241m=\u001b[39m \u001b[43mjnp\u001b[49m\u001b[38;5;241;43m.\u001b[39;49m\u001b[43mexp\u001b[49m\u001b[43m(\u001b[49m\u001b[43mp\u001b[49m\u001b[43m[\u001b[49m\u001b[38;5;124;43mf\u001b[39;49m\u001b[38;5;124;43m'\u001b[39;49m\u001b[38;5;124;43mdE\u001b[39;49m\u001b[38;5;124;43m'\u001b[39;49m\u001b[43m  \u001b[49m\u001b[43m]\u001b[49m\u001b[43m)\u001b[49m\n\u001b[1;32m      7\u001b[0m     ergo   \u001b[38;5;241m=\u001b[39m jnp\u001b[38;5;241m.\u001b[39mexp(p[\u001b[38;5;124mf\u001b[39m\u001b[38;5;124m'\u001b[39m\u001b[38;5;124mdE.o\u001b[39m\u001b[38;5;124m'\u001b[39m])\n\u001b[1;32m      8\u001b[0m     erg \u001b[38;5;241m.\u001b[39mat[\u001b[38;5;241m0\u001b[39m]\u001b[38;5;241m.\u001b[39mset(p[\u001b[38;5;124mf\u001b[39m\u001b[38;5;124m'\u001b[39m\u001b[38;5;124mdE\u001b[39m\u001b[38;5;124m'\u001b[39m][\u001b[38;5;241m0\u001b[39m]                    )\n",
      "    \u001b[0;31m[... skipping hidden 7 frame]\u001b[0m\n",
      "File \u001b[0;32m~/opt/anaconda3/envs/stat/lib/python3.11/site-packages/jax/_src/dtypes.py:588\u001b[0m, in \u001b[0;36mcheck_valid_dtype\u001b[0;34m(dtype)\u001b[0m\n\u001b[1;32m    586\u001b[0m \u001b[39mdef\u001b[39;00m \u001b[39mcheck_valid_dtype\u001b[39m(dtype: DType) \u001b[39m-\u001b[39m\u001b[39m>\u001b[39m \u001b[39mNone\u001b[39;00m:\n\u001b[1;32m    587\u001b[0m   \u001b[39mif\u001b[39;00m dtype \u001b[39mnot\u001b[39;00m \u001b[39min\u001b[39;00m _jax_dtype_set:\n\u001b[0;32m--> 588\u001b[0m     \u001b[39mraise\u001b[39;00m \u001b[39mTypeError\u001b[39;00m(\u001b[39mf\u001b[39m\u001b[39m\"\u001b[39m\u001b[39mDtype \u001b[39m\u001b[39m{\u001b[39;00mdtype\u001b[39m}\u001b[39;00m\u001b[39m is not a valid JAX array \u001b[39m\u001b[39m\"\u001b[39m\n\u001b[1;32m    589\u001b[0m                     \u001b[39m\"\u001b[39m\u001b[39mtype. Only arrays of numeric types are supported by JAX.\u001b[39m\u001b[39m\"\u001b[39m)\n",
      "\u001b[0;31mTypeError\u001b[0m: Dtype object is not a valid JAX array type. Only arrays of numeric types are supported by JAX."
     ]
    }
   ],
   "source": [
    "fit = lsqfit.nonlinear_fit(\n",
    "    data  = (xfit,yflat),\n",
    "    fcn   = newf,\n",
    "    prior = to_new(pr)\n",
    ")\n",
    "\n",
    "show_par(fit.p)"
   ]
  },
  {
   "cell_type": "markdown",
   "metadata": {},
   "source": [
    "# costrained"
   ]
  },
  {
   "cell_type": "code",
   "execution_count": null,
   "metadata": {},
   "outputs": [],
   "source": [
    "def corr2(Nstates,Nt,sm,pol):\n",
    "    sm1,sm2 = sm.split('-')\n",
    "    mix = sm1!=sm2\n",
    "\n",
    "    def aux(t,p):\n",
    "        erg    = jnp.exp(p[f'dE'  ])\n",
    "        ergo   = jnp.exp(p[f'dE.o'])\n",
    "        erg [0] = p[f'dE'][0]\n",
    "        ergo[0] = erg[0] + jnp.exp(p[f'dE.o'][0])\n",
    "\n",
    "        c2 = 0.\n",
    "        for n in range(Nstates):\n",
    "            Z0 = jnp.exp(p[f'Z.{sm1}.{pol}'  ][n]) * jnp.exp(p[f'Z.{sm2}.{pol}'  ][n])\n",
    "            Z1 = jnp.exp(p[f'Z.{sm1}.{pol}.o'][n]) * jnp.exp(p[f'Z.{sm2}.{pol}.o'][n])\n",
    "\n",
    "            # if n>0:\n",
    "            #     Z0 = p[f'Z.{sm if mix else sm1}.{pol}'  ][n-1 if mix else n]**2\n",
    "            #     Z1 = p[f'Z.{sm if mix else sm1}.{pol}.o'][n-1 if mix else n]**2\n",
    "\n",
    "            Ephy = sum(erg[ :n+1])\n",
    "            Eosc = sum(ergo[:n+1])\n",
    "\n",
    "            c2 += fexp(Nt)(t,Ephy,Z0) + fexp(Nt)(t,Eosc,Z1) * (-1)**((t+1))\n",
    "\n",
    "        return c2\n",
    "    \n",
    "    return aux"
   ]
  },
  {
   "cell_type": "code",
   "execution_count": null,
   "metadata": {},
   "outputs": [
    {
     "ename": "TypeError",
     "evalue": "'<class 'jaxlib.xla_extension.ArrayImpl'>' object does not support item assignment. JAX arrays are immutable. Instead of ``x[idx] = y``, use ``x = x.at[idx].set(y)`` or another .at[] method: https://jax.readthedocs.io/en/latest/_autosummary/jax.numpy.ndarray.at.html",
     "output_type": "error",
     "traceback": [
      "\u001b[0;31m---------------------------------------------------------------------------\u001b[0m",
      "\u001b[0;31mTypeError\u001b[0m                                 Traceback (most recent call last)",
      "Cell \u001b[0;32mIn[30], line 1\u001b[0m\n\u001b[0;32m----> 1\u001b[0m nfit \u001b[38;5;241m=\u001b[39m \u001b[43mlsqfit\u001b[49m\u001b[38;5;241;43m.\u001b[39;49m\u001b[43mnonlinear_fit\u001b[49m\u001b[43m(\u001b[49m\n\u001b[1;32m      2\u001b[0m \u001b[43m    \u001b[49m\u001b[43mdata\u001b[49m\u001b[43m  \u001b[49m\u001b[38;5;241;43m=\u001b[39;49m\u001b[43m \u001b[49m\u001b[43m(\u001b[49m\u001b[43mxfit\u001b[49m\u001b[43m,\u001b[49m\u001b[43myflat\u001b[49m\u001b[43m)\u001b[49m\u001b[43m,\u001b[49m\n\u001b[1;32m      3\u001b[0m \u001b[43m    \u001b[49m\u001b[43mfcn\u001b[49m\u001b[43m   \u001b[49m\u001b[38;5;241;43m=\u001b[39;49m\u001b[43m \u001b[49m\u001b[43mfitfcn\u001b[49m\u001b[43m(\u001b[49m\u001b[43mcorr2\u001b[49m\u001b[43m)\u001b[49m\u001b[43m,\u001b[49m\n\u001b[1;32m      4\u001b[0m \u001b[43m    \u001b[49m\u001b[43mprior\u001b[49m\u001b[43m \u001b[49m\u001b[38;5;241;43m=\u001b[39;49m\u001b[43m \u001b[49m\u001b[43mto_new\u001b[49m\u001b[43m(\u001b[49m\u001b[43mpr\u001b[49m\u001b[43m)\u001b[49m\n\u001b[1;32m      5\u001b[0m \u001b[43m)\u001b[49m\n",
      "File \u001b[0;32m~/opt/anaconda3/envs/stat/lib/python3.11/site-packages/lsqfit/__init__.py:724\u001b[0m, in \u001b[0;36mnonlinear_fit.__init__\u001b[0;34m(self, data, fcn, prior, p0, eps, svdcut, debug, tol, maxit, udata, _fdata, noise, add_svdnoise, add_priornoise, linear, fitter, **fitterargs)\u001b[0m\n\u001b[1;32m    722\u001b[0m     fit \u001b[39m=\u001b[39m \u001b[39mself\u001b[39m\u001b[39m.\u001b[39m_varpro_fit(p0\u001b[39m=\u001b[39mp0, nf\u001b[39m=\u001b[39mnf, tol\u001b[39m=\u001b[39mtol, maxit\u001b[39m=\u001b[39mmaxit)\n\u001b[1;32m    723\u001b[0m \u001b[39melse\u001b[39;00m:\n\u001b[0;32m--> 724\u001b[0m     fit \u001b[39m=\u001b[39m nonlinear_fit\u001b[39m.\u001b[39;49mFITTERS[\u001b[39mself\u001b[39;49m\u001b[39m.\u001b[39;49mfitter](\n\u001b[1;32m    725\u001b[0m         p0, nf, \u001b[39mself\u001b[39;49m\u001b[39m.\u001b[39;49m_chiv, tol\u001b[39m=\u001b[39;49mtol, maxit\u001b[39m=\u001b[39;49mmaxit, \u001b[39m*\u001b[39;49m\u001b[39m*\u001b[39;49m\u001b[39mself\u001b[39;49m\u001b[39m.\u001b[39;49mfitterargs\n\u001b[1;32m    726\u001b[0m     )\n\u001b[1;32m    727\u001b[0m \u001b[39mself\u001b[39m\u001b[39m.\u001b[39merror \u001b[39m=\u001b[39m fit\u001b[39m.\u001b[39merror\n\u001b[1;32m    728\u001b[0m \u001b[39mself\u001b[39m\u001b[39m.\u001b[39mcov \u001b[39m=\u001b[39m fit\u001b[39m.\u001b[39mcov\n",
      "File \u001b[0;32m~/opt/anaconda3/envs/stat/lib/python3.11/site-packages/lsqfit/_scipy.py:156\u001b[0m, in \u001b[0;36mscipy_least_squares.__init__\u001b[0;34m(self, x0, n, f, tol, maxit, **extra_args)\u001b[0m\n\u001b[1;32m    153\u001b[0m         ans[i, :] \u001b[39m=\u001b[39m fx[i]\u001b[39m.\u001b[39mder\n\u001b[1;32m    154\u001b[0m     \u001b[39mreturn\u001b[39;00m ans\n\u001b[0;32m--> 156\u001b[0m fit \u001b[39m=\u001b[39m least_squares(\n\u001b[1;32m    157\u001b[0m     fun\u001b[39m=\u001b[39;49mfunc, jac\u001b[39m=\u001b[39;49mDfun, x0\u001b[39m=\u001b[39;49mx0,\n\u001b[1;32m    158\u001b[0m     xtol\u001b[39m=\u001b[39;49mtol[\u001b[39m0\u001b[39;49m], gtol\u001b[39m=\u001b[39;49mtol[\u001b[39m1\u001b[39;49m], ftol\u001b[39m=\u001b[39;49mtol[\u001b[39m2\u001b[39;49m],\n\u001b[1;32m    159\u001b[0m     max_nfev\u001b[39m=\u001b[39;49mmaxit,\n\u001b[1;32m    160\u001b[0m     \u001b[39m*\u001b[39;49m\u001b[39m*\u001b[39;49mextra_args\n\u001b[1;32m    161\u001b[0m     )\n\u001b[1;32m    162\u001b[0m \u001b[39mif\u001b[39;00m fit\u001b[39m.\u001b[39mstatus \u001b[39m>\u001b[39m \u001b[39m4\u001b[39m:\n\u001b[1;32m    163\u001b[0m     \u001b[39mraise\u001b[39;00m \u001b[39mRuntimeError\u001b[39;00m(\u001b[39m'\u001b[39m\u001b[39mfit crashed -- \u001b[39m\u001b[39m'\u001b[39m \u001b[39m+\u001b[39m fit\u001b[39m.\u001b[39mmessage)\n",
      "File \u001b[0;32m~/opt/anaconda3/envs/stat/lib/python3.11/site-packages/scipy/optimize/_lsq/least_squares.py:832\u001b[0m, in \u001b[0;36mleast_squares\u001b[0;34m(fun, x0, jac, bounds, method, ftol, xtol, gtol, x_scale, loss, f_scale, diff_step, tr_solver, tr_options, jac_sparsity, max_nfev, verbose, args, kwargs)\u001b[0m\n\u001b[1;32m    829\u001b[0m \u001b[39mdef\u001b[39;00m \u001b[39mfun_wrapped\u001b[39m(x):\n\u001b[1;32m    830\u001b[0m     \u001b[39mreturn\u001b[39;00m np\u001b[39m.\u001b[39matleast_1d(fun(x, \u001b[39m*\u001b[39margs, \u001b[39m*\u001b[39m\u001b[39m*\u001b[39mkwargs))\n\u001b[0;32m--> 832\u001b[0m f0 \u001b[39m=\u001b[39m fun_wrapped(x0)\n\u001b[1;32m    834\u001b[0m \u001b[39mif\u001b[39;00m f0\u001b[39m.\u001b[39mndim \u001b[39m!=\u001b[39m \u001b[39m1\u001b[39m:\n\u001b[1;32m    835\u001b[0m     \u001b[39mraise\u001b[39;00m \u001b[39mValueError\u001b[39;00m(\u001b[39m\"\u001b[39m\u001b[39m`fun` must return at most 1-d array_like. \u001b[39m\u001b[39m\"\u001b[39m\n\u001b[1;32m    836\u001b[0m                      \u001b[39m\"\u001b[39m\u001b[39mf0.shape: \u001b[39m\u001b[39m{}\u001b[39;00m\u001b[39m\"\u001b[39m\u001b[39m.\u001b[39mformat(f0\u001b[39m.\u001b[39mshape))\n",
      "File \u001b[0;32m~/opt/anaconda3/envs/stat/lib/python3.11/site-packages/scipy/optimize/_lsq/least_squares.py:830\u001b[0m, in \u001b[0;36mleast_squares.<locals>.fun_wrapped\u001b[0;34m(x)\u001b[0m\n\u001b[1;32m    829\u001b[0m \u001b[39mdef\u001b[39;00m \u001b[39mfun_wrapped\u001b[39m(x):\n\u001b[0;32m--> 830\u001b[0m     \u001b[39mreturn\u001b[39;00m np\u001b[39m.\u001b[39matleast_1d(fun(x, \u001b[39m*\u001b[39;49margs, \u001b[39m*\u001b[39;49m\u001b[39m*\u001b[39;49mkwargs))\n",
      "File \u001b[0;32m~/opt/anaconda3/envs/stat/lib/python3.11/site-packages/lsqfit/_scipy.py:147\u001b[0m, in \u001b[0;36mscipy_least_squares.__init__.<locals>.func\u001b[0;34m(x)\u001b[0m\n\u001b[1;32m    146\u001b[0m \u001b[39mdef\u001b[39;00m \u001b[39mfunc\u001b[39m(x):\n\u001b[0;32m--> 147\u001b[0m     \u001b[39mreturn\u001b[39;00m numpy\u001b[39m.\u001b[39masarray(f(x), \u001b[39mfloat\u001b[39m)\n",
      "File \u001b[0;32msrc/lsqfit/_utilities.pyx:93\u001b[0m, in \u001b[0;36mlsqfit._utilities.chiv.__call__\u001b[0;34m()\u001b[0m\n",
      "File \u001b[0;32m~/opt/anaconda3/envs/stat/lib/python3.11/site-packages/lsqfit/__init__.py:2189\u001b[0m, in \u001b[0;36mflatfcn_ad\u001b[0;34m(p, x, fcn, po)\u001b[0m\n\u001b[1;32m   2187\u001b[0m \u001b[39mdef\u001b[39;00m \u001b[39mflatfcn_ad\u001b[39m(p, x, fcn, po):\n\u001b[1;32m   2188\u001b[0m     po\u001b[39m.\u001b[39mbuf \u001b[39m=\u001b[39m p\n\u001b[0;32m-> 2189\u001b[0m     ans \u001b[39m=\u001b[39m fcn(po) \u001b[39mif\u001b[39;00m x \u001b[39mis\u001b[39;00m \u001b[39mFalse\u001b[39;00m \u001b[39melse\u001b[39;00m fcn(x, po)\n\u001b[1;32m   2190\u001b[0m     \u001b[39mif\u001b[39;00m \u001b[39mhasattr\u001b[39m(ans, \u001b[39m'\u001b[39m\u001b[39mflat\u001b[39m\u001b[39m'\u001b[39m):\n\u001b[1;32m   2191\u001b[0m         \u001b[39mreturn\u001b[39;00m ans\u001b[39m.\u001b[39mflat\n",
      "Cell \u001b[0;32mIn[19], line 21\u001b[0m, in \u001b[0;36mfitfcn.<locals>._fitfcn\u001b[0;34m(xd, p)\u001b[0m\n\u001b[1;32m     19\u001b[0m \u001b[38;5;28;01mfor\u001b[39;00m sm,pl \u001b[38;5;129;01min\u001b[39;00m stag\u001b[38;5;241m.\u001b[39mkeys:\n\u001b[1;32m     20\u001b[0m     fcn \u001b[38;5;241m=\u001b[39m func(Nstates,stag\u001b[38;5;241m.\u001b[39mNt,sm,pl)\n\u001b[0;32m---> 21\u001b[0m     tmp\u001b[38;5;241m.\u001b[39mappend(\u001b[43mfcn\u001b[49m\u001b[43m(\u001b[49m\u001b[43mxfit\u001b[49m\u001b[43m[\u001b[49m\u001b[43msm\u001b[49m\u001b[43m,\u001b[49m\u001b[43mpl\u001b[49m\u001b[43m]\u001b[49m\u001b[43m,\u001b[49m\u001b[43mp\u001b[49m\u001b[43m)\u001b[49m)\n\u001b[1;32m     22\u001b[0m \u001b[38;5;28;01mreturn\u001b[39;00m np\u001b[38;5;241m.\u001b[39mconcatenate(tmp)\n",
      "Cell \u001b[0;32mIn[29], line 8\u001b[0m, in \u001b[0;36mcorr2.<locals>.aux\u001b[0;34m(t, p)\u001b[0m\n\u001b[1;32m      6\u001b[0m erg    \u001b[38;5;241m=\u001b[39m np\u001b[38;5;241m.\u001b[39mexp(p[\u001b[38;5;124mf\u001b[39m\u001b[38;5;124m'\u001b[39m\u001b[38;5;124mdE\u001b[39m\u001b[38;5;124m'\u001b[39m  ])\n\u001b[1;32m      7\u001b[0m ergo   \u001b[38;5;241m=\u001b[39m np\u001b[38;5;241m.\u001b[39mexp(p[\u001b[38;5;124mf\u001b[39m\u001b[38;5;124m'\u001b[39m\u001b[38;5;124mdE.o\u001b[39m\u001b[38;5;124m'\u001b[39m])\n\u001b[0;32m----> 8\u001b[0m \u001b[43merg\u001b[49m\u001b[43m \u001b[49m\u001b[43m[\u001b[49m\u001b[38;5;241;43m0\u001b[39;49m\u001b[43m]\u001b[49m \u001b[38;5;241m=\u001b[39m p[\u001b[38;5;124mf\u001b[39m\u001b[38;5;124m'\u001b[39m\u001b[38;5;124mdE\u001b[39m\u001b[38;5;124m'\u001b[39m][\u001b[38;5;241m0\u001b[39m]\n\u001b[1;32m      9\u001b[0m ergo[\u001b[38;5;241m0\u001b[39m] \u001b[38;5;241m=\u001b[39m erg[\u001b[38;5;241m0\u001b[39m] \u001b[38;5;241m+\u001b[39m np\u001b[38;5;241m.\u001b[39mexp(p[\u001b[38;5;124mf\u001b[39m\u001b[38;5;124m'\u001b[39m\u001b[38;5;124mdE.o\u001b[39m\u001b[38;5;124m'\u001b[39m][\u001b[38;5;241m0\u001b[39m])\n\u001b[1;32m     11\u001b[0m c2 \u001b[38;5;241m=\u001b[39m \u001b[38;5;241m0.\u001b[39m\n",
      "File \u001b[0;32m~/opt/anaconda3/envs/stat/lib/python3.11/site-packages/jax/_src/numpy/array_methods.py:285\u001b[0m, in \u001b[0;36m_unimplemented_setitem\u001b[0;34m(self, i, x)\u001b[0m\n\u001b[1;32m    280\u001b[0m \u001b[39mdef\u001b[39;00m \u001b[39m_unimplemented_setitem\u001b[39m(\u001b[39mself\u001b[39m, i, x):\n\u001b[1;32m    281\u001b[0m   msg \u001b[39m=\u001b[39m (\u001b[39m\"\u001b[39m\u001b[39m'\u001b[39m\u001b[39m{}\u001b[39;00m\u001b[39m'\u001b[39m\u001b[39m object does not support item assignment. JAX arrays are \u001b[39m\u001b[39m\"\u001b[39m\n\u001b[1;32m    282\u001b[0m          \u001b[39m\"\u001b[39m\u001b[39mimmutable. Instead of ``x[idx] = y``, use ``x = x.at[idx].set(y)`` \u001b[39m\u001b[39m\"\u001b[39m\n\u001b[1;32m    283\u001b[0m          \u001b[39m\"\u001b[39m\u001b[39mor another .at[] method: \u001b[39m\u001b[39m\"\u001b[39m\n\u001b[1;32m    284\u001b[0m          \u001b[39m\"\u001b[39m\u001b[39mhttps://jax.readthedocs.io/en/latest/_autosummary/jax.numpy.ndarray.at.html\u001b[39m\u001b[39m\"\u001b[39m)\n\u001b[0;32m--> 285\u001b[0m   \u001b[39mraise\u001b[39;00m \u001b[39mTypeError\u001b[39;00m(msg\u001b[39m.\u001b[39mformat(\u001b[39mtype\u001b[39m(\u001b[39mself\u001b[39m)))\n",
      "\u001b[0;31mTypeError\u001b[0m: '<class 'jaxlib.xla_extension.ArrayImpl'>' object does not support item assignment. JAX arrays are immutable. Instead of ``x[idx] = y``, use ``x = x.at[idx].set(y)`` or another .at[] method: https://jax.readthedocs.io/en/latest/_autosummary/jax.numpy.ndarray.at.html"
     ]
    }
   ],
   "source": [
    "nfit = lsqfit.nonlinear_fit(\n",
    "    data  = (xfit,yflat),\n",
    "    fcn   = fitfcn(corr2),\n",
    "    prior = to_new(pr)\n",
    ")"
   ]
  },
  {
   "cell_type": "markdown",
   "metadata": {},
   "source": [
    "# free $E_0^{(osc)}$"
   ]
  },
  {
   "cell_type": "code",
   "execution_count": null,
   "metadata": {},
   "outputs": [],
   "source": [
    "def corr3(Nstates,Nt,sm,pol):\n",
    "    sm1,sm2 = sm.split('-')\n",
    "    mix = sm1!=sm2\n",
    "\n",
    "    def aux(t,p):\n",
    "        erg    = jnp.exp(p[f'dE'  ])\n",
    "        ergo   = jnp.exp(p[f'dE.o'])\n",
    "        erg [0] = p[f'dE'][0]\n",
    "        ergo[0] = p[f'dE.o'][0]\n",
    "\n",
    "        c2 = 0.\n",
    "        for n in range(Nstates):\n",
    "            Z0 = jnp.exp(p[f'Z.{sm1}.{pol}'  ][n]) * jnp.exp(p[f'Z.{sm2}.{pol}'  ][n])\n",
    "            Z1 = jnp.exp(p[f'Z.{sm1}.{pol}.o'][n]) * jnp.exp(p[f'Z.{sm2}.{pol}.o'][n])\n",
    "\n",
    "            if n>0:\n",
    "                Z0 = p[f'Z.{sm if mix else sm1}.{pol}'  ][n-1 if mix else n]**2\n",
    "                Z1 = p[f'Z.{sm if mix else sm1}.{pol}.o'][n-1 if mix else n]**2\n",
    "\n",
    "            Ephy = sum(erg[ :n+1])\n",
    "            Eosc = sum(ergo[:n+1])\n",
    "\n",
    "            c2 += fexp(Nt)(t,Ephy,Z0) + fexp(Nt)(t,Eosc,Z1) * (-1)**((t+1))\n",
    "\n",
    "        return c2\n",
    "    \n",
    "    return aux"
   ]
  },
  {
   "cell_type": "code",
   "execution_count": null,
   "metadata": {},
   "outputs": [
    {
     "data": {
      "text/plain": [
       "{'dE': [0.907(36), -1.36(76), -2.6(2.5)],\n",
       " 'dE.o': [1.031(81), -2.6(2.5), -2.6(2.5)],\n",
       " 'Z.1S.Bot': [0.09(1.00), 0.5(1.5), 0.5(3.0)],\n",
       " 'Z.1S.Bot.o': [-1.2(1.2), 0.5(1.5), 0.5(3.0)],\n",
       " 'Z.1S.Par': [0.2(1.0), 0.5(1.5), 0.5(3.0)],\n",
       " 'Z.1S.Par.o': [-1.2(1.2), 0.5(1.5), 0.5(3.0)],\n",
       " 'Z.d-1S.Bot': [0.5(1.7), 0.5(1.7)],\n",
       " 'Z.d-1S.Bot.o': [0.5(1.7), 0.5(1.7)],\n",
       " 'Z.d-1S.Par': [0.5(1.7), 0.5(1.7)],\n",
       " 'Z.d-1S.Par.o': [0.5(1.7), 0.5(1.7)],\n",
       " 'Z.d.Bot': [-2.3(1.0), 0.5(1.5), 0.5(3.0)],\n",
       " 'Z.d.Bot.o': [-3.0(1.5), 0.5(1.5), 0.5(3.0)],\n",
       " 'Z.d.Par': [-2.2(1.0), 0.5(1.5), 0.5(3.0)],\n",
       " 'Z.d.Par.o': [-5.5(2.0), 0.5(1.5), 0.5(3.0)]}"
      ]
     },
     "execution_count": 423,
     "metadata": {},
     "output_type": "execute_result"
    }
   ],
   "source": [
    "_prior = to_new(pr)\n",
    "_prior['dE.o'][0] = _prior['dE'][0] + np.exp(_prior['dE.o'][0])\n",
    "_prior"
   ]
  },
  {
   "cell_type": "code",
   "execution_count": null,
   "metadata": {},
   "outputs": [
    {
     "name": "stdout",
     "output_type": "stream",
     "text": [
      "Least Square Fit:\n",
      "  chi2/dof [dof] = 0.55 [112]    Q = 1    logGBF = 2063.2\n",
      "\n",
      "Parameters:\n",
      "           dE 0   0.9040 (64)     [  0.907 (36) ]  \n",
      "              1    -1.72 (16)     [  -1.36 (76) ]  \n",
      "              2    -0.76 (25)     [  -2.6 (2.5) ]  \n",
      "         dE.o 0    0.940 (23)     [  1.031 (81) ]  *\n",
      "              1    -2.22 (29)     [  -2.6 (2.5) ]  \n",
      "              2    -1.09 (25)     [  -2.6 (2.5) ]  \n",
      "     Z.1S.Bot 0   -0.132 (61)     [ 0.09 (1.00) ]  \n",
      "              1    0.986 (96)     [   0.5 (1.5) ]  \n",
      "              2     1.22 (78)     [   0.5 (3.0) ]  \n",
      "   Z.1S.Bot.o 0    -0.35 (26)     [  -1.2 (1.2) ]  \n",
      "              1     0.69 (33)     [   0.5 (1.5) ]  \n",
      "              2     1.69 (46)     [   0.5 (3.0) ]  \n",
      "     Z.1S.Par 0    0.015 (63)     [   0.2 (1.0) ]  \n",
      "              1    1.139 (80)     [   0.5 (1.5) ]  \n",
      "              2     0.1 (2.9)     [   0.5 (3.0) ]  \n",
      "   Z.1S.Par.o 0    -0.54 (25)     [  -1.2 (1.2) ]  \n",
      "              1     0.2 (1.1)     [   0.5 (1.5) ]  \n",
      "              2     1.99 (48)     [   0.5 (3.0) ]  \n",
      "   Z.d-1S.Bot 0   -0.269 (35)     [   0.5 (1.7) ]  \n",
      "              1     0.55 (15)     [   0.5 (1.7) ]  \n",
      " Z.d-1S.Bot.o 0    0.217 (69)     [   0.5 (1.7) ]  \n",
      "              1    0.470 (92)     [   0.5 (1.7) ]  \n",
      "   Z.d-1S.Par 0    0.318 (34)     [   0.5 (1.7) ]  \n",
      "              1     0.52 (14)     [   0.5 (1.7) ]  \n",
      " Z.d-1S.Par.o 0    0.242 (35)     [   0.5 (1.7) ]  \n",
      "              1    0.387 (83)     [   0.5 (1.7) ]  \n",
      "      Z.d.Bot 0   -2.536 (67)     [  -2.3 (1.0) ]  \n",
      "              1    0.092 (14)     [   0.5 (1.5) ]  \n",
      "              2     0.33 (11)     [   0.5 (3.0) ]  \n",
      "    Z.d.Bot.o 0    -3.16 (27)     [  -3.0 (1.5) ]  \n",
      "              1   -0.067 (17)     [   0.5 (1.5) ]  \n",
      "              2    0.189 (41)     [   0.5 (3.0) ]  \n",
      "      Z.d.Par 0   -2.427 (67)     [  -2.2 (1.0) ]  \n",
      "              1    0.103 (14)     [   0.5 (1.5) ]  \n",
      "              2     0.35 (11)     [   0.5 (3.0) ]  \n",
      "    Z.d.Par.o 0    -6.7 (1.7)     [  -5.5 (2.0) ]  \n",
      "              1    0.074 (12)     [   0.5 (1.5) ]  \n",
      "              2    0.161 (36)     [   0.5 (3.0) ]  \n",
      "\n",
      "Settings:\n",
      "  svdcut/n = 1e-12/0    tol = (1e-08,1e-10,1e-10*)    (itns/time = 89/0.4)\n",
      "  fitter = scipy_least_squares    method = trf\n",
      "\n"
     ]
    }
   ],
   "source": [
    "nfit3 = lsqfit.nonlinear_fit(\n",
    "    data  = (xfit,yflat),\n",
    "    fcn   = fitfcn(corr3),\n",
    "    prior = _prior\n",
    ")\n",
    "\n",
    "print(nfit3)"
   ]
  },
  {
   "cell_type": "markdown",
   "metadata": {},
   "source": [
    "# free $E_0^{(osc)}$ +  constrained coeff"
   ]
  },
  {
   "cell_type": "code",
   "execution_count": null,
   "metadata": {},
   "outputs": [],
   "source": [
    "def corr4(Nstates,Nt,sm,pol):\n",
    "    sm1,sm2 = sm.split('-')\n",
    "    mix = sm1!=sm2\n",
    "\n",
    "    def aux(t,p):\n",
    "        erg    = jnp.exp(p[f'dE'  ])\n",
    "        ergo   = jnp.exp(p[f'dE.o'])\n",
    "        erg [0] = p[f'dE'][0]\n",
    "        ergo[0] = p[f'dE.o'][0]\n",
    "\n",
    "        c2 = 0.\n",
    "        for n in range(Nstates):\n",
    "            Z0 = jnp.exp(p[f'Z.{sm1}.{pol}'  ][n]) * jnp.exp(p[f'Z.{sm2}.{pol}'  ][n])\n",
    "            Z1 = jnp.exp(p[f'Z.{sm1}.{pol}.o'][n]) * jnp.exp(p[f'Z.{sm2}.{pol}.o'][n])\n",
    "\n",
    "            Ephy = sum(erg[ :n+1])\n",
    "            Eosc = sum(ergo[:n+1])\n",
    "\n",
    "            c2 += fexp(Nt)(t,Ephy,Z0) + fexp(Nt)(t,Eosc,Z1) * (-1)**((t+1))\n",
    "\n",
    "        return c2\n",
    "    \n",
    "    return aux"
   ]
  },
  {
   "cell_type": "code",
   "execution_count": null,
   "metadata": {},
   "outputs": [],
   "source": [
    "_prior = to_new(pr)\n",
    "_prior['dE.o'][0] = _prior['dE'][0] + np.exp(_prior['dE.o'][0])"
   ]
  },
  {
   "cell_type": "code",
   "execution_count": null,
   "metadata": {},
   "outputs": [
    {
     "name": "stdout",
     "output_type": "stream",
     "text": [
      "Least Square Fit:\n",
      "  chi2/dof [dof] = 1.5 [112]    Q = 0.00097    logGBF = 2066.8\n",
      "\n",
      "Parameters:\n",
      "           dE 0   0.9058 (24)     [  0.907 (36) ]  \n",
      "              1   -1.200 (40)     [  -1.36 (76) ]  \n",
      "              2    -2.78 (43)     [  -2.6 (2.5) ]  \n",
      "         dE.o 0   0.9177 (87)     [  1.031 (81) ]  *\n",
      "              1   -1.929 (65)     [  -2.6 (2.5) ]  \n",
      "              2    -0.12 (14)     [  -2.6 (2.5) ]  *\n",
      "     Z.1S.Bot 0   -0.074 (17)     [ 0.09 (1.00) ]  \n",
      "              1    -2.0 (1.3)     [   0.5 (1.5) ]  *\n",
      "              2    0.538 (68)     [   0.5 (3.0) ]  \n",
      "   Z.1S.Bot.o 0   -0.588 (79)     [  -1.2 (1.2) ]  \n",
      "              1    0.047 (26)     [   0.5 (1.5) ]  \n",
      "              2    -1.7 (2.4)     [   0.5 (3.0) ]  \n",
      "     Z.1S.Par 0    0.073 (17)     [   0.2 (1.0) ]  \n",
      "              1     0.10 (18)     [   0.5 (1.5) ]  \n",
      "              2     0.28 (21)     [   0.5 (3.0) ]  \n",
      "   Z.1S.Par.o 0   -0.979 (79)     [  -1.2 (1.2) ]  \n",
      "              1   -0.119 (28)     [   0.5 (1.5) ]  \n",
      "              2     0.73 (43)     [   0.5 (3.0) ]  \n",
      "   Z.d-1S.Bot 0     0.5 (1.7)     [   0.5 (1.7) ]  \n",
      "              1     0.5 (1.7)     [   0.5 (1.7) ]  \n",
      " Z.d-1S.Bot.o 0     0.5 (1.7)     [   0.5 (1.7) ]  \n",
      "              1     0.5 (1.7)     [   0.5 (1.7) ]  \n",
      "   Z.d-1S.Par 0     0.5 (1.7)     [   0.5 (1.7) ]  \n",
      "              1     0.5 (1.7)     [   0.5 (1.7) ]  \n",
      " Z.d-1S.Par.o 0     0.5 (1.7)     [   0.5 (1.7) ]  \n",
      "              1     0.5 (1.7)     [   0.5 (1.7) ]  \n",
      "      Z.d.Bot 0   -2.493 (19)     [  -2.3 (1.0) ]  \n",
      "              1    -2.08 (10)     [   0.5 (1.5) ]  *\n",
      "              2    -2.10 (15)     [   0.5 (3.0) ]  \n",
      "    Z.d.Bot.o 0    -3.57 (11)     [  -3.0 (1.5) ]  \n",
      "              1   -2.342 (27)     [   0.5 (1.5) ]  *\n",
      "              2    -0.01 (42)     [   0.5 (3.0) ]  \n",
      "      Z.d.Par 0   -2.388 (18)     [  -2.2 (1.0) ]  \n",
      "              1   -1.749 (35)     [   0.5 (1.5) ]  *\n",
      "              2    -4.2 (2.4)     [   0.5 (3.0) ]  *\n",
      "    Z.d.Par.o 0    -6.7 (1.3)     [  -5.5 (2.0) ]  \n",
      "              1   -2.458 (41)     [   0.5 (1.5) ]  *\n",
      "              2   0.006 (420)     [   0.5 (3.0) ]  \n",
      "\n",
      "Settings:\n",
      "  svdcut/n = 1e-12/0    tol = (1e-08,1e-10,1e-10*)    (itns/time = 160/0.7)\n",
      "  fitter = scipy_least_squares    method = trf\n",
      "\n"
     ]
    }
   ],
   "source": [
    "nfit4 = lsqfit.nonlinear_fit(\n",
    "    data  = (xfit,yflat),\n",
    "    fcn   = fitfcn(corr4),\n",
    "    prior = _prior\n",
    ")\n",
    "\n",
    "print(nfit4)"
   ]
  },
  {
   "cell_type": "markdown",
   "metadata": {},
   "source": [
    "# Results"
   ]
  },
  {
   "cell_type": "code",
   "execution_count": null,
   "metadata": {},
   "outputs": [
    {
     "name": "stdout",
     "output_type": "stream",
     "text": [
      "============ Fine-Phys ========== 400 ============= Dst ============\n",
      "-------------------------------------- Old function ---------------------------------------\n",
      "             dE    Z.1S.Bot      Z.1S.Par  Z.d-1S.Bot Z.d-1S.Par     Z.d.Bot     Z.d.Par\n",
      "0    0.9024(66)  -0.147(65)  -0.0010(670)         NaN        NaN  -2.552(70)  -2.443(71)\n",
      "0.o   -3.06(30)   -0.25(15)     -0.47(11)         NaN        NaN   -3.06(15)   -6.8(1.7)\n",
      "1     -1.74(16)   0.995(96)     1.150(84)  -0.274(34)  0.322(34)   0.093(14)   0.103(14)\n",
      "1.o   -2.26(17)    0.59(22)    0.04(1.44)   0.202(39)  0.252(29)   0.065(11)  0.0773(98)\n",
      "2     -0.78(25)    1.18(77)      0.2(2.9)    0.52(14)   0.50(13)    0.32(10)    0.33(10)\n",
      "2.o   -1.03(23)    1.84(53)      2.09(54)    0.51(11)  0.389(95)   0.203(47)   0.169(40)\n",
      "p_value(chi2red(fit  ),nconf,ndof(fit  )) = 0.9605203983351072\n",
      "fit  .time = 0.5349334159400314\n",
      "chi2red(fit  )/ndof(fit  ) = 0.7631913457128525\n",
      "------------------------------------ free dE.o[0] --------------------------------------\n",
      "             dE    Z.1S.Bot   Z.1S.Par  Z.d-1S.Bot Z.d-1S.Par     Z.d.Bot     Z.d.Par\n",
      "0    0.9040(64)  -0.132(61)  0.015(63)         NaN        NaN  -2.536(67)  -2.427(67)\n",
      "0.o   0.940(23)   -0.35(26)  -0.54(25)         NaN        NaN   -3.16(27)   -6.7(1.7)\n",
      "1     -1.72(16)   0.986(96)  1.139(80)  -0.269(35)  0.318(34)   0.092(14)   0.103(14)\n",
      "1.o   -2.22(29)    0.69(33)   0.2(1.1)   0.217(69)  0.242(35)  -0.067(17)   0.074(12)\n",
      "2     -0.76(25)    1.22(78)   0.1(2.9)    0.55(15)   0.52(14)    0.33(11)    0.35(11)\n",
      "2.o   -1.09(25)    1.69(46)   1.99(48)   0.470(92)  0.387(83)   0.189(41)   0.161(36)\n",
      "p_value(chi2red(nfit3),nconf,ndof(nfit3)) = 0.9621180966238949\n",
      "nfit3.time = 0.3728428340982646\n",
      "chi2red(nfit3)/ndof(nfit3) = 0.760497521675595\n",
      "------------------------------------ constrained coeffs --------------------------------------\n",
      "             dE     Z.1S.Bot     Z.1S.Par Z.d-1S.Bot Z.d-1S.Par     Z.d.Bot     Z.d.Par\n",
      "0    0.9109(17)  -0.0389(98)    0.113(10)        NaN        NaN  -2.446(12)  -2.330(12)\n",
      "0.o   -4.30(42)   -0.377(38)   -0.687(39)        NaN        NaN  -3.241(42)   -4.31(10)\n",
      "1    -0.904(25)    -0.9(1.4)  -0.06(1.06)   0.5(1.7)   0.5(1.7)   -1.60(15)   -1.48(16)\n",
      "1.o  -1.444(28)    0.124(27)   -0.039(48)   0.5(1.7)   0.5(1.7)  -2.023(13)  -2.055(16)\n",
      "2     -5.6(2.4)    0.609(83)     0.59(30)   0.5(1.7)   0.5(1.7)   -2.35(68)   -2.8(2.0)\n",
      "2.o   -0.89(57)     0.58(80)     0.33(77)   0.5(1.7)   0.5(1.7)   -5.9(2.9)   -3.8(2.3)\n",
      "p_value(chi2red(nfit ),nconf,ndof(nfit )) = 3.673257106455607e-32\n",
      "nfit .time = 0.5187620420474559\n",
      "chi2red(nfit )/ndof(nfit ) = 4.926501739378031\n",
      "------------------------------------ free dE.o[0] + constr. coeff --------------------------------------\n",
      "             dE    Z.1S.Bot    Z.1S.Par Z.d-1S.Bot Z.d-1S.Par     Z.d.Bot     Z.d.Par\n",
      "0    0.9058(24)  -0.074(17)   0.073(17)        NaN        NaN  -2.493(19)  -2.388(18)\n",
      "0.o  0.9177(87)  -0.588(79)  -0.979(79)        NaN        NaN   -3.57(11)   -6.7(1.3)\n",
      "1    -1.200(40)   -2.0(1.3)    0.10(18)   0.5(1.7)   0.5(1.7)   -2.08(10)  -1.749(35)\n",
      "1.o  -1.929(65)   0.047(26)  -0.119(28)   0.5(1.7)   0.5(1.7)  -2.342(27)  -2.458(41)\n",
      "2     -2.78(43)   0.538(68)    0.28(21)   0.5(1.7)   0.5(1.7)   -2.10(15)   -4.2(2.4)\n",
      "2.o   -0.12(14)   -1.7(2.4)    0.73(43)   0.5(1.7)   0.5(1.7)   -0.01(42)  0.006(420)\n",
      "p_value(chi2red(nfit4),nconf,ndof(nfit4)) = 4.5303872059768686e-05\n",
      "nfit4.time = 0.7005874160677195\n",
      "chi2red(nfit4)/ndof(nfit4) = 1.900592616759358\n"
     ]
    }
   ],
   "source": [
    "pd.set_option('display.max_columns', None)\n",
    "pd.set_option('display.expand_frame_repr', False)\n",
    "\n",
    "\n",
    "print(f'============ {ensemble} ========== {mom} ============= {mes} ============')\n",
    "\n",
    "print('-------------------------------------- Old function ---------------------------------------')\n",
    "print(show_par(fit.p))\n",
    "print(f'{p_value(chi2red(fit  ),nconf,ndof(fit  )) = }')\n",
    "print(f'{fit  .time = }')\n",
    "print(f'{chi2red(fit  )/ndof(fit  ) = }')\n",
    "\n",
    "\n",
    "print('------------------------------------ free dE.o[0] --------------------------------------')\n",
    "print(show_par(nfit3.p))\n",
    "print(f'{p_value(chi2red(nfit3),nconf,ndof(nfit3)) = }')\n",
    "print(f'{nfit3.time = }')\n",
    "print(f'{chi2red(nfit3)/ndof(nfit3) = }')\n",
    "\n",
    "print('------------------------------------ constrained coeffs --------------------------------------')\n",
    "print(show_par(nfit.p))\n",
    "print(f'{p_value(chi2red(nfit ),nconf,ndof(nfit )) = }')\n",
    "print(f'{nfit .time = }')\n",
    "print(f'{chi2red(nfit )/ndof(nfit ) = }')\n",
    "\n",
    "print('------------------------------------ free dE.o[0] + constr. coeff --------------------------------------')\n",
    "print(show_par(nfit4.p))\n",
    "print(f'{p_value(chi2red(nfit4),nconf,ndof(nfit4)) = }')\n",
    "print(f'{nfit4.time = }')\n",
    "print(f'{chi2red(nfit4)/ndof(nfit4) = }')"
   ]
  }
 ],
 "metadata": {
  "kernelspec": {
   "display_name": "Python 3.11.4 ('stat')",
   "language": "python",
   "name": "python3"
  },
  "language_info": {
   "codemirror_mode": {
    "name": "ipython",
    "version": 3
   },
   "file_extension": ".py",
   "mimetype": "text/x-python",
   "name": "python",
   "nbconvert_exporter": "python",
   "pygments_lexer": "ipython3",
   "version": "3.11.4"
  },
  "orig_nbformat": 4,
  "vscode": {
   "interpreter": {
    "hash": "550906e9926f0f588aff226d3abadfa0c6a614c1c5eae7bfa21377021c1cb7ed"
   }
  }
 },
 "nbformat": 4,
 "nbformat_minor": 2
}
