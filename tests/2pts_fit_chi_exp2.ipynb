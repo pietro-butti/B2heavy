{
 "cells": [
  {
   "cell_type": "code",
   "execution_count": 26,
   "metadata": {},
   "outputs": [],
   "source": [
    "from b2heavy.TwoPointFunctions.types2pts  import CorrelatorIO, Correlator\n",
    "from b2heavy.TwoPointFunctions.fitter     import CorrFitter\n",
    "from b2heavy.TwoPointFunctions.utils      import NplusN2ptModel, PeriodicExpDecay"
   ]
  },
  {
   "cell_type": "code",
   "execution_count": 27,
   "metadata": {},
   "outputs": [],
   "source": [
    "import copy\n",
    "import itertools\n",
    "import jax\n",
    "import autograd\n",
    "import jax.numpy         as jnp\n",
    "import autograd.numpy    as anp\n",
    "import numpy             as np\n",
    "import gvar              as gv\n",
    "\n",
    "from scipy.linalg import issymmetric"
   ]
  },
  {
   "cell_type": "code",
   "execution_count": 28,
   "metadata": {},
   "outputs": [],
   "source": [
    "ens = 'Coarse-1'\n",
    "mes = 'Dst'\n",
    "mom = '200'\n",
    "binsize = 11\n",
    "\n",
    "data_dir = '/Users/pietro/code/data_analysis/BtoD/Alex/'\n",
    "\n",
    "io     = CorrelatorIO(ens,mes,mom,PathToDataDir=data_dir)\n",
    "corr   = Correlator(io,jkBin=binsize)"
   ]
  },
  {
   "cell_type": "code",
   "execution_count": 29,
   "metadata": {},
   "outputs": [],
   "source": [
    "NEXC = 3\n",
    "TLIM = (10,17)\n",
    "NT   = corr.Nt\n",
    "\n",
    "SMR = ['1S-1S','d-d','d-1S']\n",
    "POL = corr.data.polarization.values"
   ]
  },
  {
   "cell_type": "code",
   "execution_count": 30,
   "metadata": {},
   "outputs": [
    {
     "data": {
      "text/plain": [
       "[('1S-1S', 'Bot'),\n",
       " ('1S-1S', 'Par'),\n",
       " ('d-1S', 'Bot'),\n",
       " ('d-1S', 'Par'),\n",
       " ('d-d', 'Bot'),\n",
       " ('d-d', 'Par')]"
      ]
     },
     "execution_count": 30,
     "metadata": {},
     "output_type": "execute_result"
    }
   ],
   "source": [
    "Kdata = sorted(itertools.product(SMR,POL))\n",
    "Kdata"
   ]
  },
  {
   "cell_type": "markdown",
   "metadata": {},
   "source": [
    "# Custom fit"
   ]
  },
  {
   "cell_type": "code",
   "execution_count": 31,
   "metadata": {},
   "outputs": [
    {
     "name": "stderr",
     "output_type": "stream",
     "text": [
      "/Users/pietro/opt/anaconda3/envs/stat/lib/python3.11/site-packages/autograd/tracer.py:48: RuntimeWarning: invalid value encountered in log\n",
      "  return f_raw(*args, **kwargs)\n"
     ]
    },
    {
     "name": "stdout",
     "output_type": "stream",
     "text": [
      "1.1452(13)\n",
      "---------- 3+3 fit in (10, 17) for mes: Dst of ens: Coarse-1 for mom: 200 --------------\n",
      " De-augmented chi2/ndof [ndof] = 1.4 [11] with p-value = 0.1842642123184468\n",
      "Least Square Fit:\n",
      "  chi2/dof [dof] = 0.4 [48]    Q = 1    logGBF = 864.28\n",
      "\n",
      "Parameters:\n",
      "            E 0   1.1448 (12)     [ 1.1452 (13) ]  \n",
      "              1    -2.62 (40)     [  -1.81 (58) ]  *\n",
      "              2    -0.99 (61)     [  -1.09 (80) ]  \n",
      "              3    -3.5 (2.2)     [  -2.4 (2.5) ]  \n",
      "              4    -2.1 (2.4)     [  -2.4 (2.5) ]  \n",
      "              5    -1.3 (1.4)     [  -2.4 (2.5) ]  \n",
      "     Z_1S_Bot 0    0.189 (11)     [   0.13 (56) ]  \n",
      "              1    -0.21 (56)     [  -1.2 (1.2) ]  \n",
      "              2     0.4 (1.3)     [   0.5 (1.5) ]  \n",
      "              3     0.4 (1.1)     [   0.5 (1.5) ]  \n",
      "              4     0.4 (2.9)     [   0.5 (3.0) ]  \n",
      "              5     0.3 (2.9)     [   0.5 (3.0) ]  \n",
      "     Z_1S_Par 0    0.268 (14)     [   0.26 (45) ]  \n",
      "              1    -1.0 (1.1)     [  -1.2 (1.2) ]  \n",
      "              2     0.8 (1.3)     [   0.5 (1.5) ]  \n",
      "              3     0.60 (42)     [   0.5 (1.5) ]  \n",
      "              4     1.1 (2.7)     [   0.5 (3.0) ]  \n",
      "              5     0.3 (2.9)     [   0.5 (3.0) ]  \n",
      "   Z_d-1S_Bot 0     0.24 (74)     [   0.5 (1.7) ]  \n",
      "              1     0.12 (46)     [   0.5 (1.7) ]  \n",
      "              2     0.3 (1.6)     [   0.5 (1.7) ]  \n",
      "              3     0.58 (93)     [   0.5 (1.7) ]  \n",
      "   Z_d-1S_Par 0     0.23 (94)     [   0.5 (1.7) ]  \n",
      "              1     0.14 (13)     [   0.5 (1.7) ]  \n",
      "              2     0.5 (1.5)     [   0.5 (1.7) ]  \n",
      "              3     0.61 (98)     [   0.5 (1.7) ]  \n",
      "      Z_d_Bot 0   -1.963 (17)     [  -2.00 (38) ]  \n",
      "              1    -2.8 (1.4)     [  -3.0 (1.5) ]  \n",
      "              2   0.09 (1.04)     [   0.5 (1.5) ]  \n",
      "              3     0.06 (15)     [   0.5 (1.5) ]  \n",
      "              4     0.32 (92)     [   0.5 (3.0) ]  \n",
      "              5     0.19 (33)     [   0.5 (3.0) ]  \n",
      "      Z_d_Par 0   -1.881 (13)     [  -1.89 (34) ]  \n",
      "              1    -5.5 (2.0)     [  -5.5 (2.0) ]  \n",
      "              2   0.04 (1.34)     [   0.5 (1.5) ]  \n",
      "              3    0.057 (40)     [   0.5 (1.5) ]  \n",
      "              4     0.19 (91)     [   0.5 (3.0) ]  \n",
      "              5     0.20 (33)     [   0.5 (3.0) ]  \n",
      "\n",
      "Settings:\n",
      "  svdcut/n = 1e-12/0    tol = (1e-08,1e-10,1e-10*)    (itns/time = 301/1.3)\n",
      "  fitter = scipy_least_squares    method = trf\n",
      "\n"
     ]
    }
   ],
   "source": [
    "fitter = CorrFitter(corr,smearing=['d-d','1S-1S','d-1S'])\n",
    "\n",
    "(X,meff,aeff), MEFF,AEFF, m_pr, apr = corr.EffectiveCoeff(trange=TLIM,covariance=True)\n",
    "\n",
    "fitter.fit(\n",
    "    Nstates           = NEXC,\n",
    "    trange            = TLIM,\n",
    "    verbose           = True,\n",
    "    priors            = fitter.set_priors_phys(NEXC,Meff=MEFF,Aeff=AEFF),\n",
    "    # scale_covariance  = True,\n",
    "    # shrink_covariance = True,\n",
    "    covariance        = False,\n",
    "    override          = True\n",
    ")\n",
    "\n",
    "fit = fitter.fits[NEXC,TLIM]"
   ]
  },
  {
   "cell_type": "markdown",
   "metadata": {},
   "source": [
    "# Gradient with `jax`"
   ]
  },
  {
   "cell_type": "code",
   "execution_count": null,
   "metadata": {},
   "outputs": [],
   "source": [
    "from b2heavy.TwoPointFunctions.fitter_alt import StagFitter"
   ]
  },
  {
   "cell_type": "code",
   "execution_count": 75,
   "metadata": {},
   "outputs": [],
   "source": [
    "def ExpDecay(Nt, osc=False):\n",
    "    return lambda t,E,Z : Z * (jnp.exp(-E*t) + jnp.exp(-E*(Nt-t))) * ((-1)**(t+1) if osc else 1.)\n",
    "\n",
    "def StagDecay(Nt,Nexc):\n",
    "    def model(t,E0,Z0a,Z0b, E1,Z1a,Z1b, *high):\n",
    "        C_t  = ExpDecay(Nt)         ( t, E0, Z0a * Z0b )\n",
    "        C_t += ExpDecay(Nt,osc=True)( t, E1, Z1a * Z1b )\n",
    "        for n in range(2*Nexc-2):\n",
    "            en, zn = high[2*n], high[2*n+1]**2\n",
    "            C_t += ExpDecay(Nt,osc=(False if n%2==0 else True))( t, en, zn)\n",
    "        return C_t\n",
    "    return model\n",
    "\n",
    "def Energies(Evec):\n",
    "    '''\n",
    "        `Energies(Evec)`\n",
    "\n",
    "        Returns a vector `erg` of the same size of `Evec` with:\n",
    "        - `erg[0] = Evec[0]`\n",
    "        - `erg[1] = jnp.exp(Evec[1]) + erg[0]` \n",
    "        - `erg[2] = jnp.exp(Evec[2]) + erg[0]` \n",
    "        - `erg[3] = jnp.exp(Evec[3]) + erg[1]` \n",
    "        - `erg[4] = jnp.exp(Evec[3]) + erg[0]` \n",
    "        - `erg[5] = jnp.exp(Evec[3]) + erg[1]` \n",
    "    '''\n",
    "    erg = [Evec[0]]\n",
    "    for n in range(1,len(Evec)):\n",
    "        erg.append(jnp.exp(Evec[n]) + erg[n-(1 if n==1 else 2)])\n",
    "    return erg\n",
    "\n",
    "\n",
    "\n",
    "\n",
    "def PeriodicExpDecay(Nt):\n",
    "    return lambda t,E,Z: Z * ( jnp.exp(-E*t) + jnp.exp(-E*(Nt-t)) ) \n",
    "\n",
    "def NplusN2ptModel(Nstates,Nt,sm,pol):\n",
    "    sm1,sm2 = sm.split('-')\n",
    "    mix = sm1!=sm2\n",
    "\n",
    "    def aux(t,p):\n",
    "        E0, E1 = p['E'][0], p['E'][0] + jnp.exp(p['E'][1])\n",
    "        Z0 = jnp.exp(p[f'Z_{sm1}_{pol}'][0]) * jnp.exp(p[f'Z_{sm2}_{pol}'][0])\n",
    "        Z1 = jnp.exp(p[f'Z_{sm1}_{pol}'][1]) * jnp.exp(p[f'Z_{sm2}_{pol}'][1])\n",
    "        ans = PeriodicExpDecay(Nt)(t,E0,Z0) + PeriodicExpDecay(Nt)(t,E1,Z1) * (-1)**(t+1)\n",
    "\n",
    "        Es = [E0,E1]\n",
    "        for i in range(2,2*Nstates):\n",
    "            Ei = Es[i-2] + jnp.exp(p['E'][i])\n",
    "            Z = p[f'Z_{sm if mix else sm1}_{pol}'][i-2 if mix else i]**2\n",
    "            ans += PeriodicExpDecay(Nt)(t,Ei,Z) * (-1)**(i*(t+1))\n",
    "\n",
    "            Es.append(Ei)\n",
    "        return ans\n",
    "\n",
    "    return aux\n",
    "\n",
    "\n",
    "\n",
    "class StagFitter(Correlator):\n",
    "    def __init__(self, io:CorrelatorIO, smearing=None, polarization=None, **kwargs):\n",
    "        bsize = kwargs.get('jkBin')\n",
    "        super().__init__(io,jkBin=bsize)\n",
    "\n",
    "        self.smr = smearing     if not smearing==None     else list(self.data.smearing.values)\n",
    "        self.pol = polarization if not polarization==None else list(self.data.polarization.values)\n",
    "        self.keys = sorted(itertools.product(self.smr,self.pol))\n",
    "\n",
    "    def Kpars(self,Nexc):\n",
    "        '''\n",
    "            Builds all the keys for dictionary of parameters and returns a dictionary:\n",
    "            - keys are `(k,n)` where `k` is the name of the coefficient and the `n` is the index in the corresponding vector\n",
    "            - values are the index number of the corresponding element in a flattened array of parameters.\n",
    "\n",
    "            E.g.\n",
    "            #          k name   idx       flattened_idx\n",
    "                k = (    E     , 0)  ---> 0 \n",
    "                k = ( Z_1S_Bot , 0)  ---> 1 \n",
    "                k = ( Z_1S_Par , 0)  ---> 2 \n",
    "                k = ( Z_d_Bot  , 0)  ---> 3 \n",
    "                k = ( Z_d_Par  , 0)  ---> 4 \n",
    "                k = (    E     , 1)  ---> 5 \n",
    "                k = ( Z_1S_Bot , 1)  ---> 6 \n",
    "                k = ( Z_1S_Par , 1)  ---> 7 \n",
    "                k = ( Z_d_Bot  , 1)  ---> 8 \n",
    "                k = ( Z_d_Par  , 1)  ---> 9 \n",
    "                k = (    E     , 2)  ---> 10\n",
    "                k = ( Z_1S_Bot , 2)  ---> 11\n",
    "                k = ( Z_1S_Par , 2)  ---> 12\n",
    "                k = (Z_d-1S_Bot, 0)  ---> 13\n",
    "                k = (Z_d-1S_Par, 0)  ---> 14\n",
    "                k = ( Z_d_Bot  , 2)  ---> 15\n",
    "                k = ( Z_d_Par  , 2)  ---> 16\n",
    "                k = (    E     , 3)  ---> 17\n",
    "                k = ( Z_1S_Bot , 3)  ---> 18\n",
    "                k = ( Z_1S_Par , 3)  ---> 19\n",
    "                k = (Z_d-1S_Bot, 1)  ---> 20\n",
    "                k = (Z_d-1S_Par, 1)  ---> 21\n",
    "                k = ( Z_d_Bot  , 3)  ---> 22\n",
    "                k = ( Z_d_Par  , 3)  ---> 23\n",
    "        '''\n",
    "        keys = []\n",
    "        for n in range(2*Nexc):\n",
    "            keys.append(('E',n))\n",
    "            for (sm,pol) in self.keys:\n",
    "                sm1,sm2 = sm.split('-')\n",
    "                mix = sm1!=sm2\n",
    "\n",
    "                k = f'Z_{sm if mix else sm1}_{pol}'\n",
    "                if not (mix and n<2):\n",
    "                    keys.append((k,n-2 if mix else n))\n",
    "\n",
    "\n",
    "        return {k: i for i,k in enumerate(keys)}\n",
    "\n",
    "    def pars_from_dict(self, pdict):\n",
    "        '''\n",
    "            Given a dictionary of parameters `pdict` e.g.\n",
    "                `pdict['E']          = [ 1.14478779, -2.61763813, -0.99322927, -3.50597109, -2.09325374, -1.25464778]`\n",
    "                `pdict['Z_1S_Unpol'] = [ 0.18893983, -0.20667998,  0.4060087 ,  0.37910282,  0.40034158,  0.27345506]  `\n",
    "                ...\n",
    "            returns an array of all elements in pdict, flattened according to the mapping of `self.Kpars`\n",
    "        '''\n",
    "        erg = Energies(pdict['E'])\n",
    "        Nexc = len(erg)//2\n",
    "\n",
    "        kidx = self.Kpars(Nexc)\n",
    "\n",
    "        flatpar = [None]*len(np.concatenate(pdict.values()))\n",
    "        for (k,n),i in kidx.items():\n",
    "            if k=='E':\n",
    "                flatpar[i] = erg[n]\n",
    "            elif k.startswith('Z') and n<2 and '-' not in k:\n",
    "                flatpar[i] = jnp.exp(pdict[k][n])\n",
    "            else:\n",
    "                flatpar[i] = pdict[k][n]\n",
    "\n",
    "        return jnp.array(flatpar)\n",
    "\n",
    "    def scalar_model(self, Nexc):\n",
    "        '''\n",
    "            It returns a differentiable version of the correlator function `model(tau,*params)` where\n",
    "            - `tau` is the timeslice multiplied by 10**i, i being the position index of the key (`smr`,`pol`) in `self.keys`. E.g.\n",
    "                ('1S-1S','Unpol') ---> tau = [11  , 12  , 13  , 14  , 15  , 16  , 17  ]\n",
    "                ('d-1S' ,'Unpol') ---> tau = [110 , 120 , 130 , 140 , 150 , 160 , 170 ]\n",
    "                ('d-d'  ,'Unpol') ---> tau = [1100, 1200, 1300, 1400, 1500, 1600, 1700]\n",
    "            - `params` is the flattened vector of parameters. See documentation of `Kpars` and `pars_from_dict`\n",
    "        '''\n",
    "\n",
    "        kidx = self.Kpars(Nexc)\n",
    "\n",
    "        def _model(tau, *params):\n",
    "            i_sp   = int(jnp.log10(tau))-1\n",
    "            t = tau/10**i_sp\n",
    "\n",
    "            sm,pol = self.keys[i_sp] \n",
    "            sm1,sm2 = sm.split('-')\n",
    "            mix = sm1!=sm2\n",
    "\n",
    "            # Fundamental physical state\n",
    "            e0  = params[kidx['E',0]]\n",
    "            z0a = params[kidx[f'Z_{sm1}_{pol}',0]]\n",
    "            z0b = params[kidx[f'Z_{sm2}_{pol}',0]]\n",
    "\n",
    "            # Oscillating physical state\n",
    "            e1  = params[kidx['E',1]]\n",
    "            z1a = params[kidx[f'Z_{sm1}_{pol}',1]]\n",
    "            z1b = params[kidx[f'Z_{sm2}_{pol}',1]]\n",
    "\n",
    "            # Excited stated\n",
    "            high = []\n",
    "            for n in range(2,2*Nexc):\n",
    "                en = params[kidx['E',n]]\n",
    "                Zn = params[kidx[f'Z_{sm if mix else sm1}_{pol}',n-2 if mix else n]]\n",
    "                high.extend([en,Zn])\n",
    "\n",
    "            return StagDecay(self.Nt, Nexc)(t,e0,z0a,z0b,e1,z1a,z1b,*high)\n",
    "\n",
    "        return _model\n",
    "\n",
    "    def diff_model(self, Nexc, trange, wmat=None, **kwargs):\n",
    "        (xdata,ydata) = self.format(\n",
    "            trange       = trange,\n",
    "            smearing     = self.smr,\n",
    "            polarization = self.pol,\n",
    "            flatten      = False,\n",
    "            **kwargs\n",
    "        )\n",
    "\n",
    "        # xfit   = np.concatenate([xdata[k]*10**i for i,k in enumerate(self.keys)])\n",
    "        yfit   = np.concatenate([ydata[k]       for   k in self.keys])\n",
    "\n",
    "        w      = wmat if wmat is not None else jnp.linalg.inv(gv.evalcov(yfit))\n",
    "        U,S,Vh = np.linalg.svd(w,hermitian=True)\n",
    "        W      = U @ np.diag(np.sqrt(S)) @ Vh\n",
    "\n",
    "        def _model(pdict):  \n",
    "            return jnp.concatenate(\n",
    "                [NplusN2ptModel(Nexc,self.Nt,smr,pol)(xdata[smr,pol],pdict) for smr,pol in self.keys]\n",
    "            )\n",
    "\n",
    "        def _jac(pdict):\n",
    "            return jax.jacfwd(_model)(pdict)\n",
    "\n",
    "        def _hes(pdict):\n",
    "            return jax.jacfwd(jax.jacrev(_model))(pdict)\n",
    "\n",
    "\n",
    "        return _model, _jac, _hes\n"
   ]
  },
  {
   "cell_type": "code",
   "execution_count": 85,
   "metadata": {},
   "outputs": [],
   "source": [
    "self = StagFitter(\n",
    "    io       = io,\n",
    "    jkBin    = binsize,\n",
    "    smearing = ['1S-1S','d-d','d-1S']\n",
    ")\n",
    "\n",
    "# model, residual = self.diff_model(NEXC,TLIM)\n",
    "# p = self.pars_from_dict(gv.mean(fit.p))\n",
    "\n",
    "\n",
    "f = self.diff_model(NEXC,TLIM)\n",
    "\n",
    "# print(f(fit.pmean))\n",
    "\n",
    "\n",
    "jac = jax.jacfwd(f)(dict(fit.pmean))"
   ]
  },
  {
   "cell_type": "code",
   "execution_count": 91,
   "metadata": {},
   "outputs": [
    {
     "data": {
      "text/plain": [
       "Array([[ 0.00000000e+00,  0.00000000e+00,  0.00000000e+00,\n",
       "         0.00000000e+00,  0.00000000e+00,  0.00000000e+00],\n",
       "       [ 0.00000000e+00,  0.00000000e+00,  0.00000000e+00,\n",
       "         0.00000000e+00,  0.00000000e+00,  0.00000000e+00],\n",
       "       [ 0.00000000e+00,  0.00000000e+00,  0.00000000e+00,\n",
       "         0.00000000e+00,  0.00000000e+00,  0.00000000e+00],\n",
       "       [ 0.00000000e+00,  0.00000000e+00,  0.00000000e+00,\n",
       "         0.00000000e+00,  0.00000000e+00,  0.00000000e+00],\n",
       "       [ 0.00000000e+00,  0.00000000e+00,  0.00000000e+00,\n",
       "         0.00000000e+00,  0.00000000e+00,  0.00000000e+00],\n",
       "       [ 0.00000000e+00,  0.00000000e+00,  0.00000000e+00,\n",
       "         0.00000000e+00,  0.00000000e+00,  0.00000000e+00],\n",
       "       [ 0.00000000e+00,  0.00000000e+00,  0.00000000e+00,\n",
       "         0.00000000e+00,  0.00000000e+00,  0.00000000e+00],\n",
       "       [ 0.00000000e+00,  0.00000000e+00,  0.00000000e+00,\n",
       "         0.00000000e+00,  0.00000000e+00,  0.00000000e+00],\n",
       "       [ 3.64902444e-05, -1.47197284e-06,  4.31730939e-07,\n",
       "        -4.54538485e-06,  1.63034599e-07, -1.23759747e-07],\n",
       "       [ 1.16145329e-05,  4.35544052e-07,  9.48821182e-08,\n",
       "         1.30516764e-06,  3.16744355e-08,  2.67192704e-08],\n",
       "       [ 3.69680629e-06, -1.28873836e-07,  2.08523794e-08,\n",
       "        -3.74767552e-07,  6.15372375e-09, -5.76859183e-09],\n",
       "       [ 1.17666195e-06,  3.81326544e-08,  4.58276572e-09,\n",
       "         1.07611356e-07,  1.19555055e-09,  1.24541766e-09],\n",
       "       [ 3.74521449e-07, -1.12831220e-08,  1.00716102e-09,\n",
       "        -3.08996952e-08,  2.32272104e-10, -2.68881556e-10],\n",
       "       [ 1.19206867e-07,  3.33857497e-09,  2.21345636e-10,\n",
       "         8.87257023e-09,  4.51260175e-11,  5.80505366e-11],\n",
       "       [ 3.79425629e-08, -9.87856463e-10,  4.86454488e-11,\n",
       "        -2.54768406e-09,  8.76710250e-12, -1.25328957e-11],\n",
       "       [ 1.20768044e-08,  2.92298463e-10,  1.06908796e-11,\n",
       "         7.31546046e-10,  1.70327663e-12,  2.70580585e-12],\n",
       "       [ 0.00000000e+00,  0.00000000e+00,  0.00000000e+00,\n",
       "         0.00000000e+00,  0.00000000e+00,  0.00000000e+00],\n",
       "       [ 0.00000000e+00,  0.00000000e+00,  0.00000000e+00,\n",
       "         0.00000000e+00,  0.00000000e+00,  0.00000000e+00],\n",
       "       [ 0.00000000e+00,  0.00000000e+00,  0.00000000e+00,\n",
       "         0.00000000e+00,  0.00000000e+00,  0.00000000e+00],\n",
       "       [ 0.00000000e+00,  0.00000000e+00,  0.00000000e+00,\n",
       "         0.00000000e+00,  0.00000000e+00,  0.00000000e+00],\n",
       "       [ 0.00000000e+00,  0.00000000e+00,  0.00000000e+00,\n",
       "         0.00000000e+00,  0.00000000e+00,  0.00000000e+00],\n",
       "       [ 0.00000000e+00,  0.00000000e+00,  0.00000000e+00,\n",
       "         0.00000000e+00,  0.00000000e+00,  0.00000000e+00],\n",
       "       [ 0.00000000e+00,  0.00000000e+00,  0.00000000e+00,\n",
       "         0.00000000e+00,  0.00000000e+00,  0.00000000e+00],\n",
       "       [ 0.00000000e+00,  0.00000000e+00,  0.00000000e+00,\n",
       "         0.00000000e+00,  0.00000000e+00,  0.00000000e+00],\n",
       "       [ 2.12808391e-06, -7.99047761e-09,  0.00000000e+00,\n",
       "         0.00000000e+00,  0.00000000e+00,  0.00000000e+00],\n",
       "       [ 6.77350897e-07,  2.36431319e-09,  0.00000000e+00,\n",
       "         0.00000000e+00,  0.00000000e+00,  0.00000000e+00],\n",
       "       [ 2.15594994e-07, -6.99580505e-10,  0.00000000e+00,\n",
       "         0.00000000e+00,  0.00000000e+00,  0.00000000e+00],\n",
       "       [ 6.86220503e-08,  2.06999820e-10,  0.00000000e+00,\n",
       "         0.00000000e+00,  0.00000000e+00,  0.00000000e+00],\n",
       "       [ 2.18418119e-08, -6.12494569e-11,  0.00000000e+00,\n",
       "         0.00000000e+00,  0.00000000e+00,  0.00000000e+00],\n",
       "       [ 6.95205582e-09,  1.81231662e-11,  0.00000000e+00,\n",
       "         0.00000000e+00,  0.00000000e+00,  0.00000000e+00],\n",
       "       [ 2.21278196e-09, -5.36249344e-12,  0.00000000e+00,\n",
       "         0.00000000e+00,  0.00000000e+00,  0.00000000e+00],\n",
       "       [ 7.04310277e-10,  1.58671709e-12,  0.00000000e+00,\n",
       "         0.00000000e+00,  0.00000000e+00,  0.00000000e+00],\n",
       "       [ 0.00000000e+00,  0.00000000e+00,  0.00000000e+00,\n",
       "         0.00000000e+00,  0.00000000e+00,  0.00000000e+00],\n",
       "       [ 0.00000000e+00,  0.00000000e+00,  0.00000000e+00,\n",
       "         0.00000000e+00,  0.00000000e+00,  0.00000000e+00],\n",
       "       [ 0.00000000e+00,  0.00000000e+00,  0.00000000e+00,\n",
       "         0.00000000e+00,  0.00000000e+00,  0.00000000e+00],\n",
       "       [ 0.00000000e+00,  0.00000000e+00,  0.00000000e+00,\n",
       "         0.00000000e+00,  0.00000000e+00,  0.00000000e+00],\n",
       "       [ 0.00000000e+00,  0.00000000e+00,  0.00000000e+00,\n",
       "         0.00000000e+00,  0.00000000e+00,  0.00000000e+00],\n",
       "       [ 0.00000000e+00,  0.00000000e+00,  0.00000000e+00,\n",
       "         0.00000000e+00,  0.00000000e+00,  0.00000000e+00],\n",
       "       [ 0.00000000e+00,  0.00000000e+00,  0.00000000e+00,\n",
       "         0.00000000e+00,  0.00000000e+00,  0.00000000e+00],\n",
       "       [ 0.00000000e+00,  0.00000000e+00,  0.00000000e+00,\n",
       "         0.00000000e+00,  0.00000000e+00,  0.00000000e+00],\n",
       "       [ 0.00000000e+00,  0.00000000e+00,  0.00000000e+00,\n",
       "         0.00000000e+00,  0.00000000e+00,  0.00000000e+00],\n",
       "       [ 0.00000000e+00,  0.00000000e+00,  0.00000000e+00,\n",
       "         0.00000000e+00,  0.00000000e+00,  0.00000000e+00],\n",
       "       [ 0.00000000e+00,  0.00000000e+00,  0.00000000e+00,\n",
       "         0.00000000e+00,  0.00000000e+00,  0.00000000e+00],\n",
       "       [ 0.00000000e+00,  0.00000000e+00,  0.00000000e+00,\n",
       "         0.00000000e+00,  0.00000000e+00,  0.00000000e+00],\n",
       "       [ 0.00000000e+00,  0.00000000e+00,  0.00000000e+00,\n",
       "         0.00000000e+00,  0.00000000e+00,  0.00000000e+00],\n",
       "       [ 0.00000000e+00,  0.00000000e+00,  0.00000000e+00,\n",
       "         0.00000000e+00,  0.00000000e+00,  0.00000000e+00],\n",
       "       [ 0.00000000e+00,  0.00000000e+00,  0.00000000e+00,\n",
       "         0.00000000e+00,  0.00000000e+00,  0.00000000e+00],\n",
       "       [ 0.00000000e+00,  0.00000000e+00,  0.00000000e+00,\n",
       "         0.00000000e+00,  0.00000000e+00,  0.00000000e+00]],      dtype=float32)"
      ]
     },
     "execution_count": 91,
     "metadata": {},
     "output_type": "execute_result"
    }
   ],
   "source": [
    "jac['Z_1S_Par']"
   ]
  },
  {
   "cell_type": "markdown",
   "metadata": {},
   "source": [
    "# Gradient computation"
   ]
  },
  {
   "cell_type": "code",
   "execution_count": 17,
   "metadata": {},
   "outputs": [],
   "source": [
    "def Energies(Evec):\n",
    "    erg = [Evec[0]]\n",
    "    for n in range(1,len(Evec)):\n",
    "        erg.append(anp.exp(Evec[n]) + erg[n-(1 if n==1 else 2)])\n",
    "    return erg"
   ]
  },
  {
   "cell_type": "code",
   "execution_count": 18,
   "metadata": {},
   "outputs": [],
   "source": [
    "Kpars = []\n",
    "for n in range(2*NEXC):\n",
    "    Kpars.append(('E',n))\n",
    "\n",
    "    for (sm,pol) in sorted(itertools.product(SMR,POL)):\n",
    "        sm1,sm2 = sm.split('-')\n",
    "        mix = sm1!=sm2\n",
    "        k = f'Z_{sm if mix else sm1}_{pol}'\n",
    "\n",
    "        if not (mix and n<2):\n",
    "            Kpars.append((k,n-2 if mix else n))\n",
    "\n",
    "kid   = {k:i for i,k in enumerate(Kpars)}\n"
   ]
  },
  {
   "cell_type": "code",
   "execution_count": 19,
   "metadata": {},
   "outputs": [
    {
     "data": {
      "text/plain": [
       "38"
      ]
     },
     "execution_count": 19,
     "metadata": {},
     "output_type": "execute_result"
    }
   ],
   "source": [
    "len(np.concatenate(fit.pmean.values()))"
   ]
  },
  {
   "cell_type": "code",
   "execution_count": 9,
   "metadata": {},
   "outputs": [
    {
     "ename": "NameError",
     "evalue": "name 'fit' is not defined",
     "output_type": "error",
     "traceback": [
      "\u001b[0;31m---------------------------------------------------------------------------\u001b[0m",
      "\u001b[0;31mNameError\u001b[0m                                 Traceback (most recent call last)",
      "Cell \u001b[0;32mIn[9], line 1\u001b[0m\n\u001b[0;32m----> 1\u001b[0m erg \u001b[38;5;241m=\u001b[39m Energies(\u001b[43mfit\u001b[49m\u001b[38;5;241m.\u001b[39mpmean[\u001b[38;5;124m'\u001b[39m\u001b[38;5;124mE\u001b[39m\u001b[38;5;124m'\u001b[39m])\n\u001b[1;32m      3\u001b[0m pVector \u001b[38;5;241m=\u001b[39m [\u001b[38;5;28;01mNone\u001b[39;00m]\u001b[38;5;241m*\u001b[39m\u001b[38;5;28mlen\u001b[39m(Kpars)\n\u001b[1;32m      4\u001b[0m diffpar \u001b[38;5;241m=\u001b[39m [\u001b[38;5;28;01mNone\u001b[39;00m]\u001b[38;5;241m*\u001b[39m\u001b[38;5;28mlen\u001b[39m(Kpars)\n",
      "\u001b[0;31mNameError\u001b[0m: name 'fit' is not defined"
     ]
    }
   ],
   "source": [
    "erg = Energies(fit.pmean['E'])\n",
    "\n",
    "pVector = [None]*len(Kpars)\n",
    "diffpar = [None]*len(Kpars)\n",
    "for (k,n),i in kid.items():\n",
    "    pVector[i] = fit.p[k][n]\n",
    "    if k=='E':\n",
    "        diffpar[i] = erg[n]\n",
    "    elif k.startswith('Z') and n<2 and '-' not in k:\n",
    "        diffpar[i] = np.exp(fit.pmean[k][n])\n",
    "    else:\n",
    "        diffpar[i] = fit.pmean[k][n]\n",
    "\n",
    "    print(f'{i:<2}     fit.p[{k:^12}][{n}]     {fit.p[k][n]:<10}  {pVector[i]:>10}  {round(diffpar[i],8):>10}')\n",
    "    \n"
   ]
  },
  {
   "cell_type": "code",
   "execution_count": 10,
   "metadata": {},
   "outputs": [
    {
     "name": "stdout",
     "output_type": "stream",
     "text": [
      "\u001b[0;31mSignature:\u001b[0m \u001b[0mautograd\u001b[0m\u001b[0;34m.\u001b[0m\u001b[0mjacobian\u001b[0m\u001b[0;34m(\u001b[0m\u001b[0mfun\u001b[0m\u001b[0;34m,\u001b[0m \u001b[0margnum\u001b[0m\u001b[0;34m=\u001b[0m\u001b[0;36m0\u001b[0m\u001b[0;34m,\u001b[0m \u001b[0;34m*\u001b[0m\u001b[0mnary_op_args\u001b[0m\u001b[0;34m,\u001b[0m \u001b[0;34m**\u001b[0m\u001b[0mnary_op_kwargs\u001b[0m\u001b[0;34m)\u001b[0m\u001b[0;34m\u001b[0m\u001b[0;34m\u001b[0m\u001b[0m\n",
      "\u001b[0;31mDocstring:\u001b[0m\n",
      "Returns a function which computes the Jacobian of `fun` with respect to\n",
      "positional argument number `argnum`, which must be a scalar or array. Unlike\n",
      "`grad` it is not restricted to scalar-output functions, but also it cannot\n",
      "take derivatives with respect to some argument types (like lists or dicts).\n",
      "If the input to `fun` has shape (in1, in2, ...) and the output has shape\n",
      "(out1, out2, ...) then the Jacobian has shape (out1, out2, ..., in1, in2, ...).\n",
      "\u001b[0;31mFile:\u001b[0m      ~/opt/anaconda3/envs/stat/lib/python3.11/site-packages/autograd/wrap_util.py\n",
      "\u001b[0;31mType:\u001b[0m      function"
     ]
    }
   ],
   "source": [
    "?autograd.jacobian"
   ]
  },
  {
   "cell_type": "code",
   "execution_count": 25,
   "metadata": {},
   "outputs": [],
   "source": [
    "def ExpDecay(Nt, osc=False):\n",
    "    return lambda t,E,Z : Z * (anp.exp(-E*t) + anp.exp(-E*(Nt-t))) * ((-1)**(t+1) if osc else 1.)\n",
    "\n",
    "def StaggDecay2(Nt,Nexc):\n",
    "\n",
    "    def model(t,E0,Z0a,Z0b, E1,Z1a,Z1b, *high):\n",
    "        C_t  = ExpDecay(Nt)         ( t, E0, anp.exp(Z0a)*anp.exp(Z0b) )\n",
    "        C_t += ExpDecay(Nt,osc=True)( t, E1, anp.exp(Z1a)*anp.exp(Z1b) )\n",
    "        for n in range(2*Nexc-2):\n",
    "            en, zn = high[2*n], high[2*n+1]**2\n",
    "            C_t += ExpDecay(Nt,osc=(False if n%2==0 else True))( t, en, zn)\n",
    "        return C_t\n",
    "\n",
    "    return model\n",
    "\n",
    "def StaggDecay3(Nt,Nexc):\n",
    "\n",
    "    def model(t,E0,Z0a,Z0b, E1,Z1a,Z1b, *high):\n",
    "        C_t  = ExpDecay(Nt)         ( t, E0, Z0a * Z0b )\n",
    "        C_t += ExpDecay(Nt,osc=True)( t, E1, Z1a * Z1b )\n",
    "        for n in range(2*Nexc-2):\n",
    "            en, zn = high[2*n], high[2*n+1]**2\n",
    "            C_t += ExpDecay(Nt,osc=(False if n%2==0 else True))( t, en, zn)\n",
    "        return C_t\n",
    "\n",
    "    return model"
   ]
  },
  {
   "cell_type": "code",
   "execution_count": 98,
   "metadata": {},
   "outputs": [
    {
     "data": {
      "text/plain": [
       "array([['1S-1S', 'Bot'],\n",
       "       ['1S-1S', 'Par'],\n",
       "       ['d-1S', 'Bot'],\n",
       "       ['d-1S', 'Par'],\n",
       "       ['d-d', 'Bot'],\n",
       "       ['d-d', 'Par']], dtype='<U5')"
      ]
     },
     "execution_count": 98,
     "metadata": {},
     "output_type": "execute_result"
    }
   ],
   "source": [
    "Kdataa"
   ]
  },
  {
   "cell_type": "code",
   "execution_count": 26,
   "metadata": {},
   "outputs": [],
   "source": [
    "Kdataa = anp.array(sorted(itertools.product(SMR,POL)))\n",
    "\n",
    "def flat_pars_model_scalar2(tau,*params):  \n",
    "    i_sp   = int(anp.log10(tau))-1\n",
    "    t = tau/10**i_sp\n",
    "\n",
    "    sm,pol = Kdataa[i_sp] \n",
    "    sm1,sm2 = sm.split('-')\n",
    "    mix = sm1!=sm2\n",
    "\n",
    "    # Fundamental physical state\n",
    "    e0  = params[kid['E',0]]\n",
    "    z0a = params[kid[f'Z_{sm1}_{pol}',0]]\n",
    "    z0b = params[kid[f'Z_{sm2}_{pol}',0]]\n",
    "\n",
    "    # Oscillating physical state\n",
    "    e1  = anp.exp(params[kid['E',1]]) + e0\n",
    "    z1a = params[kid[f'Z_{sm1}_{pol}',1]]\n",
    "    z1b = params[kid[f'Z_{sm2}_{pol}',1]]\n",
    "\n",
    "    erg = [e0,e1]\n",
    "\n",
    "    # Excited stated\n",
    "    high = []\n",
    "    for n in range(2,2*NEXC):\n",
    "        en = anp.exp(params[kid['E',n]]) + erg[n-2]\n",
    "        Zn = params[kid[f'Z_{sm if mix else sm1}_{pol}',n-2 if mix else n]]\n",
    "        high.extend([en,Zn])\n",
    "\n",
    "        erg.append(en)\n",
    "    \n",
    "    return StaggDecay2(NT,NEXC)(t,e0,z0a,z0b,e1,z1a,z1b,*high)\n",
    "\n",
    "def flat_pars_model_scalar3(tau,*params):  \n",
    "    i_sp   = int(anp.log10(tau))-1\n",
    "    t = tau/10**i_sp\n",
    "\n",
    "    sm,pol = Kdataa[i_sp] \n",
    "    sm1,sm2 = sm.split('-')\n",
    "    mix = sm1!=sm2\n",
    "\n",
    "    # Fundamental physical state\n",
    "    e0  = params[kid['E',0]]\n",
    "    z0a = params[kid[f'Z_{sm1}_{pol}',0]]\n",
    "    z0b = params[kid[f'Z_{sm2}_{pol}',0]]\n",
    "\n",
    "    # Oscillating physical state\n",
    "    e1  = params[kid['E',1]]\n",
    "    z1a = params[kid[f'Z_{sm1}_{pol}',1]]\n",
    "    z1b = params[kid[f'Z_{sm2}_{pol}',1]]\n",
    "\n",
    "\n",
    "\n",
    "    # Excited stated\n",
    "    high = []\n",
    "    for n in range(2,2*NEXC):\n",
    "        en = params[kid['E',n]]\n",
    "        Zn = params[kid[f'Z_{sm if mix else sm1}_{pol}',n-2 if mix else n]]\n",
    "        high.extend([en,Zn])\n",
    "    \n",
    "\n",
    "\n",
    "    return StaggDecay3(NT,NEXC)(t,e0,z0a,z0b,e1,z1a,z1b,*high)"
   ]
  },
  {
   "cell_type": "code",
   "execution_count": 65,
   "metadata": {},
   "outputs": [],
   "source": [
    "xdata = [x*10**i for i,x in enumerate(fit.x)]\n",
    "for xr in xdata:\n",
    "    for x in xr:\n",
    "        flat_pars_model_scalar3(x,*pVector)\n",
    "xdatad = {tuple(k):xdata[i] for i,k in enumerate(Kdataa)}"
   ]
  },
  {
   "cell_type": "code",
   "execution_count": 36,
   "metadata": {},
   "outputs": [],
   "source": [
    "phi2 = np.array([flat_pars_model_scalar2(t,*pVector) for t in np.concatenate(xdata)])\n",
    "phi = np.array([flat_pars_model_scalar3(t,*diffpar) for t in np.concatenate(xdata)])\n",
    "\n",
    "assert np.allclose(gv.mean(phi2),phi,rtol=1e-15)"
   ]
  },
  {
   "cell_type": "markdown",
   "metadata": {},
   "source": [
    "Calculate the gradient matrix\n",
    "$$\n",
    "    \\Delta_{i \\alpha} = \\frac{\\partial}{\\partial a^\\alpha} \\phi(t_i;\\bar a) =: \\phi_\\alpha(t_i) \\qquad \\in (N_t \\times N_\\text{pars})\n",
    "$$"
   ]
  },
  {
   "cell_type": "code",
   "execution_count": 37,
   "metadata": {},
   "outputs": [],
   "source": [
    "# grads = {(k,n): autograd.grad(flat_pars_model_scalar2,argnum=(kid[k,n]+1)) for (k,n),i in kid.items()}\n",
    "grads = {(k,n): autograd.grad(flat_pars_model_scalar3,argnum=(kid[k,n]+1)) for (k,n),i in kid.items()}"
   ]
  },
  {
   "cell_type": "markdown",
   "metadata": {},
   "source": [
    "Let's make a check. The derivative \n",
    "$$\n",
    "\\frac{\\partial \\phi(t)}{\\partial Z_0^{(1S,Bot)}} = \\begin{cases} 2Z_0^{(1S,\\text{Bot})}(e^{-E_0t}+e^{-E_0(N_t-t)}) \\text{ for } t \\in t_{(1S-1S,\\text{Bot})} \\\\ 2Z_0^{(d,\\text{Bot})}(e^{-E_0t}+e^{-E_0(N_t-t)})\\text{ for } t \\in t_{(d-1S,\\text{Bot})} \\\\ 0 \\text{ elsewhere }  \\end{cases}\n",
    "$$"
   ]
  },
  {
   "cell_type": "code",
   "execution_count": 72,
   "metadata": {},
   "outputs": [
    {
     "data": {
      "text/plain": [
       "array([0., 0., 0., 0., 0., 0., 0., 0.])"
      ]
     },
     "execution_count": 72,
     "metadata": {},
     "output_type": "execute_result"
    }
   ],
   "source": [
    "t = xdatad['1S-1S','Bot']\n",
    "\n",
    "dcdz = 2*np.exp(fit.pmean['Z_1S_Bot'][0]) * (np.exp(- fit.pmean['E'][0] * t ) + np.exp(- fit.pmean['E'][0] * (NT-t) ))\n",
    "autod = np.array([grads[('Z_1S_Bot',0)](x,*diffpar) for x in t])\n",
    "assert np.allclose(dcdz,autod,atol=0.,rtol=1e-12)\n",
    "autod - dcdz"
   ]
  },
  {
   "cell_type": "code",
   "execution_count": 73,
   "metadata": {},
   "outputs": [
    {
     "name": "stderr",
     "output_type": "stream",
     "text": [
      "/Users/pietro/opt/anaconda3/envs/stat/lib/python3.11/site-packages/autograd/tracer.py:14: UserWarning: Output seems independent of input.\n",
      "  warnings.warn(\"Output seems independent of input.\")\n"
     ]
    }
   ],
   "source": [
    "g = []\n",
    "for (k,n),i in kid.items():\n",
    "    g.append(np.array([grads[k,n](t,*diffpar) for t in np.concatenate(xdata)]))\n",
    "g = np.array(g).T"
   ]
  },
  {
   "cell_type": "markdown",
   "metadata": {},
   "source": [
    "# Checks"
   ]
  },
  {
   "cell_type": "code",
   "execution_count": 74,
   "metadata": {},
   "outputs": [],
   "source": [
    "def issymm(M,rtol=1e-12,atol=0.):\n",
    "    return np.allclose(M,M.T,atol=atol,rtol=rtol)\n",
    "\n",
    "def rdist(M,N):\n",
    "    tol = 1e-30\n",
    "    while True:\n",
    "        if np.allclose(M,N,atol=0.,rtol=tol):\n",
    "            break\n",
    "        else:\n",
    "            tol *= 10\n",
    "    return 10**np.log10(tol)"
   ]
  },
  {
   "cell_type": "markdown",
   "metadata": {},
   "source": [
    "We have to use now the matrix of weights used to perform the fit, i.e. minimize\n",
    "$$\n",
    "    \\chi^2 = || W \\cdot (\\vec y - \\vec \\phi)||^2 = {}^t (\\vec y - \\vec \\phi)\\cdot w \\cdot (\\vec y - \\vec \\phi) \n",
    "$$\n",
    "where $w = {}^tW W = W^2$"
   ]
  },
  {
   "cell_type": "code",
   "execution_count": 75,
   "metadata": {},
   "outputs": [],
   "source": [
    "w = np.linalg.inv(gv.evalcov(fit.y))\n",
    "W = np.linalg.cholesky(w)"
   ]
  },
  {
   "cell_type": "code",
   "execution_count": 76,
   "metadata": {},
   "outputs": [],
   "source": [
    "res = gv.mean(phi) - gv.mean(fit.y)\n",
    "assert fit.chi2red == res.T @ w @ res"
   ]
  },
  {
   "cell_type": "code",
   "execution_count": 77,
   "metadata": {},
   "outputs": [
    {
     "data": {
      "text/plain": [
       "15.17348543665168"
      ]
     },
     "execution_count": 77,
     "metadata": {},
     "output_type": "execute_result"
    }
   ],
   "source": [
    "fit.chi2red"
   ]
  },
  {
   "cell_type": "markdown",
   "metadata": {},
   "source": [
    "$$\n",
    "    H_{\\alpha\\beta} = (W\\cdot\\phi^\\alpha,W\\cdot\\phi^\\beta) = \\phi^\\alpha\\cdot w\\cdot \\phi^\\beta\n",
    "$$"
   ]
  },
  {
   "cell_type": "code",
   "execution_count": 78,
   "metadata": {},
   "outputs": [],
   "source": [
    "Hmat = g.T @ w @ g\n",
    "Hinv = np.linalg.inv(Hmat)"
   ]
  },
  {
   "cell_type": "markdown",
   "metadata": {},
   "source": [
    "$$\n",
    "\\mathcal P = W \\phi^\\alpha \\,(H^{-1})^{\\alpha\\beta}\\, {}^t \\phi^\\beta W\n",
    "$$"
   ]
  },
  {
   "cell_type": "code",
   "execution_count": 79,
   "metadata": {},
   "outputs": [],
   "source": [
    "Wg = W @ g\n",
    "Proj = Wg @ ((Hinv+Hinv.T)/2.) @ Wg.T"
   ]
  },
  {
   "cell_type": "code",
   "execution_count": 84,
   "metadata": {},
   "outputs": [
    {
     "data": {
      "text/plain": [
       "37.99999990301794"
      ]
     },
     "execution_count": 84,
     "metadata": {},
     "output_type": "execute_result"
    }
   ],
   "source": [
    "np.trace(Proj)"
   ]
  },
  {
   "cell_type": "code",
   "execution_count": 83,
   "metadata": {},
   "outputs": [
    {
     "data": {
      "text/plain": [
       "0.10000000000000005"
      ]
     },
     "execution_count": 83,
     "metadata": {},
     "output_type": "execute_result"
    }
   ],
   "source": [
    "rdist(Proj@Proj,Proj)"
   ]
  },
  {
   "cell_type": "code",
   "execution_count": 81,
   "metadata": {},
   "outputs": [
    {
     "data": {
      "text/plain": [
       "2.2468850196018364"
      ]
     },
     "execution_count": 81,
     "metadata": {},
     "output_type": "execute_result"
    }
   ],
   "source": [
    "xx = (np.eye(W.shape[0])-Proj) @ W @ res\n",
    "(xx.T @ xx)"
   ]
  },
  {
   "cell_type": "markdown",
   "metadata": {},
   "source": [
    "# Junks"
   ]
  },
  {
   "cell_type": "code",
   "execution_count": 14,
   "metadata": {},
   "outputs": [],
   "source": [
    "w = np.linalg.inv(gv.evalcov(fit.y))"
   ]
  },
  {
   "cell_type": "markdown",
   "metadata": {},
   "source": [
    "\n",
    "$$\n",
    "\\mathcal C_{\\alpha\\beta} = (H^{-1})^{\\alpha\\alpha'} \\phi^{\\alpha'} w \\mathcal C w \\phi^\\beta (H^{-1})^{\\beta'\\beta}\n",
    "$$"
   ]
  },
  {
   "cell_type": "code",
   "execution_count": 85,
   "metadata": {},
   "outputs": [],
   "source": [
    "Hmat = g.T @ w @ g\n",
    "Hinv = np.linalg.inv(Hmat)"
   ]
  },
  {
   "cell_type": "code",
   "execution_count": 86,
   "metadata": {},
   "outputs": [],
   "source": [
    "wg = w @ g\n",
    "proj = w - wg @ Hinv @ wg.T"
   ]
  },
  {
   "cell_type": "code",
   "execution_count": 87,
   "metadata": {},
   "outputs": [],
   "source": [
    "xdata,ydata = corr.format(trange=TLIM,flatten=True,covariance=True,smearing=SMR)\n",
    "cov = gv.evalcov(ydata)"
   ]
  },
  {
   "cell_type": "code",
   "execution_count": 88,
   "metadata": {},
   "outputs": [
    {
     "ename": "ValueError",
     "evalue": "non-symmetric covariance matrix:\n[[2.51916892e-03 2.80756683e-02 3.19151990e-02 ... 1.13147446e-01\n  4.29933861e-02 4.36840972e-02]\n [2.80756682e-02 3.17436761e-01 3.59237178e-01 ... 1.23440762e+00\n  4.98205364e-01 4.77801440e-01]\n [3.19151987e-02 3.59237177e-01 4.13439585e-01 ... 1.39760574e+00\n  4.94733993e-01 5.39703688e-01]\n ...\n [1.13147446e-01 1.23440760e+00 1.39760572e+00 ... 3.45997801e+01\n  9.04728683e+00 1.06022209e+01]\n [4.29933850e-02 4.98205355e-01 4.94733954e-01 ... 9.04728684e+00\n  4.28920714e+00 2.88089478e+00]\n [4.36840985e-02 4.77801449e-01 5.39703714e-01 ... 1.06022212e+01\n  2.88089446e+00 3.50084234e+00]]",
     "output_type": "error",
     "traceback": [
      "\u001b[0;31m---------------------------------------------------------------------------\u001b[0m",
      "\u001b[0;31mValueError\u001b[0m                                Traceback (most recent call last)",
      "Cell \u001b[0;32mIn[88], line 2\u001b[0m\n\u001b[1;32m      1\u001b[0m cov_pars \u001b[38;5;241m=\u001b[39m Hinv \u001b[38;5;241m@\u001b[39m (wg\u001b[38;5;241m.\u001b[39mT \u001b[38;5;241m@\u001b[39m cov \u001b[38;5;241m@\u001b[39m wg) \u001b[38;5;241m@\u001b[39m Hinv\n\u001b[0;32m----> 2\u001b[0m \u001b[43mgv\u001b[49m\u001b[38;5;241;43m.\u001b[39;49m\u001b[43mgvar\u001b[49m\u001b[43m(\u001b[49m\u001b[43mgv\u001b[49m\u001b[38;5;241;43m.\u001b[39;49m\u001b[43mmean\u001b[49m\u001b[43m(\u001b[49m\u001b[43mpVector\u001b[49m\u001b[43m)\u001b[49m\u001b[43m,\u001b[49m\u001b[43mcov_pars\u001b[49m\u001b[43m)\u001b[49m\n",
      "File \u001b[0;32msrc/gvar/_gvarcore.pyx:1354\u001b[0m, in \u001b[0;36mgvar._gvarcore.GVarFactory.__call__\u001b[0;34m()\u001b[0m\n",
      "File \u001b[0;32msrc/gvar/_gvarcore.pyx:1356\u001b[0m, in \u001b[0;36mgvar._gvarcore.GVarFactory.__call__\u001b[0;34m()\u001b[0m\n",
      "\u001b[0;31mValueError\u001b[0m: non-symmetric covariance matrix:\n[[2.51916892e-03 2.80756683e-02 3.19151990e-02 ... 1.13147446e-01\n  4.29933861e-02 4.36840972e-02]\n [2.80756682e-02 3.17436761e-01 3.59237178e-01 ... 1.23440762e+00\n  4.98205364e-01 4.77801440e-01]\n [3.19151987e-02 3.59237177e-01 4.13439585e-01 ... 1.39760574e+00\n  4.94733993e-01 5.39703688e-01]\n ...\n [1.13147446e-01 1.23440760e+00 1.39760572e+00 ... 3.45997801e+01\n  9.04728683e+00 1.06022209e+01]\n [4.29933850e-02 4.98205355e-01 4.94733954e-01 ... 9.04728684e+00\n  4.28920714e+00 2.88089478e+00]\n [4.36840985e-02 4.77801449e-01 5.39703714e-01 ... 1.06022212e+01\n  2.88089446e+00 3.50084234e+00]]"
     ]
    }
   ],
   "source": [
    "cov_pars = Hinv @ (wg.T @ cov @ wg) @ Hinv\n",
    "gv.gvar(gv.mean(pVector),cov_pars)"
   ]
  },
  {
   "cell_type": "code",
   "execution_count": 89,
   "metadata": {},
   "outputs": [
    {
     "data": {
      "text/plain": [
       "2.793127312228611"
      ]
     },
     "execution_count": 89,
     "metadata": {},
     "output_type": "execute_result"
    }
   ],
   "source": [
    "chi_exp = np.trace(proj @ cov)\n",
    "chi_exp"
   ]
  },
  {
   "cell_type": "markdown",
   "metadata": {},
   "source": [
    "# Alternative implementation"
   ]
  },
  {
   "cell_type": "code",
   "execution_count": 107,
   "metadata": {},
   "outputs": [],
   "source": [
    "def Energies(Evec):\n",
    "    erg = [Evec[0]]\n",
    "    for n in range(1,len(Evec)):\n",
    "        erg.append(anp.exp(Evec[n]) + erg[n-(1 if n==1 else 2)])\n",
    "    return erg"
   ]
  },
  {
   "cell_type": "code",
   "execution_count": 109,
   "metadata": {},
   "outputs": [
    {
     "name": "stdout",
     "output_type": "stream",
     "text": [
      "0 ± 0\n",
      "0 ± 0\n",
      "0 ± 0\n",
      "0 ± 0\n",
      "0 ± 0\n",
      "0 ± 0\n",
      "0 ± 0\n",
      "0 ± 0\n",
      "0 ± 0\n",
      "0 ± 0\n",
      "0 ± 0\n",
      "0 ± 0\n",
      "0 ± 0\n",
      "0 ± 0\n",
      "0 ± 0\n",
      "0 ± 0\n",
      "0 ± 0\n",
      "0 ± 0\n",
      "0 ± 0\n",
      "0 ± 0\n",
      "0 ± 0\n",
      "0 ± 0\n",
      "0 ± 0\n",
      "0 ± 0\n",
      "0 ± 0\n",
      "0 ± 0\n",
      "0 ± 0\n",
      "0 ± 0\n",
      "0 ± 0\n",
      "0 ± 0\n",
      "0 ± 0\n",
      "0 ± 0\n",
      "0 ± 0\n",
      "0 ± 0\n",
      "0 ± 0\n",
      "0 ± 0\n",
      "0 ± 0\n",
      "0 ± 0\n",
      "0 ± 0\n",
      "0 ± 0\n",
      "0 ± 0\n",
      "0 ± 0\n",
      "0 ± 0\n",
      "0 ± 0\n",
      "0 ± 0\n",
      "0 ± 0\n",
      "0 ± 0\n",
      "0 ± 0\n"
     ]
    }
   ],
   "source": [
    "Kdataa = np.array(sorted(itertools.product(SMR,POL)))\n",
    "\n",
    "def flat_pars_model_scalar(tau,*params):  \n",
    "    i_sp   = int(anp.log10(tau))-1\n",
    "    t = tau/10**i_sp\n",
    "\n",
    "    sm,pol = Kdataa[i_sp] \n",
    "    sm1,sm2 = sm.split('-')\n",
    "    mix = sm1!=sm2\n",
    "\n",
    "    erg = Energies([params[kid['E',n]] for n in range(2*NEXC)])\n",
    "    Z0 = anp.exp(params[kid[f'Z_{sm1}_{pol}',0]]) * anp.exp(params[kid[f'Z_{sm2}_{pol}',0]])\n",
    "    Z1 = anp.exp(params[kid[f'Z_{sm1}_{pol}',1]]) * anp.exp(params[kid[f'Z_{sm2}_{pol}',1]])\n",
    "    \n",
    "    C_t = ExpDecay(NT)(t,erg[0],Z0) + ExpDecay(NT,osc=True)(t,erg[1],Z1)\n",
    "\n",
    "    for n in range(2,2*NEXC):\n",
    "        Zn = params[kid[f'Z_{sm if mix else sm1}_{pol}',n-2 if mix else n]] ** 2\n",
    "        C_t += ExpDecay(NT,osc=(False if n%2==0 else True))(t,erg[n],Zn)\n",
    "\n",
    "    return C_t\n",
    "\n",
    "for xr in xdata:\n",
    "    for x in xr:\n",
    "        print(flat_pars_model_scalar(x,*pVector)-flat_pars_model_scalar2(x,*pVector))"
   ]
  },
  {
   "cell_type": "code",
   "execution_count": null,
   "metadata": {},
   "outputs": [],
   "source": []
  }
 ],
 "metadata": {
  "kernelspec": {
   "display_name": "Python 3.11.4 ('stat')",
   "language": "python",
   "name": "python3"
  },
  "language_info": {
   "codemirror_mode": {
    "name": "ipython",
    "version": 3
   },
   "file_extension": ".py",
   "mimetype": "text/x-python",
   "name": "python",
   "nbconvert_exporter": "python",
   "pygments_lexer": "ipython3",
   "version": "3.11.4"
  },
  "orig_nbformat": 4,
  "vscode": {
   "interpreter": {
    "hash": "550906e9926f0f588aff226d3abadfa0c6a614c1c5eae7bfa21377021c1cb7ed"
   }
  }
 },
 "nbformat": 4,
 "nbformat_minor": 2
}
