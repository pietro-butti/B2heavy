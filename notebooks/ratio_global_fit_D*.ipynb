{
 "cells": [
  {
   "cell_type": "code",
   "execution_count": 56,
   "metadata": {},
   "outputs": [],
   "source": [
    "import numpy             as np\n",
    "import gvar              as gv\n",
    "import matplotlib.pyplot as plt\n",
    "import pandas            as pd\n",
    "import lsqfit\n",
    "import itertools\n",
    "from tqdm import tqdm"
   ]
  },
  {
   "cell_type": "code",
   "execution_count": 57,
   "metadata": {},
   "outputs": [],
   "source": [
    "from b2heavy.FnalHISQMetadata import params as mData"
   ]
  },
  {
   "cell_type": "code",
   "execution_count": 58,
   "metadata": {},
   "outputs": [],
   "source": [
    "from b2heavy.ThreePointFunctions.globalfit import RatioSet"
   ]
  },
  {
   "cell_type": "code",
   "execution_count": 59,
   "metadata": {},
   "outputs": [],
   "source": [
    "DATA_DIR = '/Users/pietro/code/data_analysis/BtoD/Alex/'\n",
    "DATA_2PT = '/Users/pietro/Desktop/lattice24/0.25/corr2_3'"
   ]
  },
  {
   "cell_type": "code",
   "execution_count": 60,
   "metadata": {},
   "outputs": [],
   "source": [
    "ENSEMBLE = 'Coarse-Phys'"
   ]
  },
  {
   "cell_type": "code",
   "execution_count": 61,
   "metadata": {},
   "outputs": [],
   "source": [
    "MOMLIST = ['000','100','200','300','400']\n",
    "RATLIST = ['ZRA1','RA1','XFSTPAR','XV','R0','R1']\n",
    "\n",
    "SMSLIST = ['1S','RW']\n",
    "\n",
    "cov_specs = dict(scale=True,shrink=True,cutsvd=1E-12)"
   ]
  },
  {
   "cell_type": "code",
   "execution_count": 62,
   "metadata": {},
   "outputs": [
    {
     "name": "stderr",
     "output_type": "stream",
     "text": [
      "100%|██████████| 21/21 [00:04<00:00,  5.21it/s]\n"
     ]
    }
   ],
   "source": [
    "rset = RatioSet(ENSEMBLE,MOMLIST,RATLIST,SMSLIST)\n",
    "rset.collect(DATA_DIR,DATA_2PT)"
   ]
  },
  {
   "cell_type": "code",
   "execution_count": 43,
   "metadata": {},
   "outputs": [],
   "source": [
    "rset.remove(\n",
    "    ('000','ZRA1','RW'),\n",
    ")"
   ]
  },
  {
   "cell_type": "code",
   "execution_count": 44,
   "metadata": {},
   "outputs": [],
   "source": [
    "priors = rset.params()"
   ]
  },
  {
   "cell_type": "code",
   "execution_count": 45,
   "metadata": {},
   "outputs": [
    {
     "data": {
      "text/html": [
       "<div>\n",
       "<style scoped>\n",
       "    .dataframe tbody tr th:only-of-type {\n",
       "        vertical-align: middle;\n",
       "    }\n",
       "\n",
       "    .dataframe tbody tr th {\n",
       "        vertical-align: top;\n",
       "    }\n",
       "\n",
       "    .dataframe thead th {\n",
       "        text-align: right;\n",
       "    }\n",
       "</style>\n",
       "<table border=\"1\" class=\"dataframe\">\n",
       "  <thead>\n",
       "    <tr style=\"text-align: right;\">\n",
       "      <th></th>\n",
       "      <th></th>\n",
       "      <th>f0</th>\n",
       "      <th>A_1S</th>\n",
       "      <th>A_RW</th>\n",
       "      <th>B_1S</th>\n",
       "      <th>B_RW</th>\n",
       "    </tr>\n",
       "    <tr>\n",
       "      <th>mom</th>\n",
       "      <th>ratio</th>\n",
       "      <th></th>\n",
       "      <th></th>\n",
       "      <th></th>\n",
       "      <th></th>\n",
       "      <th></th>\n",
       "    </tr>\n",
       "  </thead>\n",
       "  <tbody>\n",
       "    <tr>\n",
       "      <th>000</th>\n",
       "      <th>ZRA1</th>\n",
       "      <td>0.8329(85)</td>\n",
       "      <td>[0.030(13), 0.039(14)]</td>\n",
       "      <td>None</td>\n",
       "      <td>[0.030(13), 0.039(14)]</td>\n",
       "      <td>None</td>\n",
       "    </tr>\n",
       "    <tr>\n",
       "      <th rowspan=\"5\" valign=\"top\">100</th>\n",
       "      <th>RA1</th>\n",
       "      <td>0.795(17)</td>\n",
       "      <td>[0.065(16), 0.065(16)]</td>\n",
       "      <td>[0.198(30), 0.177(28)]</td>\n",
       "      <td>[0.065(16), 0.065(16)]</td>\n",
       "      <td>[0.198(30), 0.177(28)]</td>\n",
       "    </tr>\n",
       "    <tr>\n",
       "      <th>XFSTPAR</th>\n",
       "      <td>0.0548(37)</td>\n",
       "      <td>[-0.024(10), -0.003(16)]</td>\n",
       "      <td>[0.001(13), -0.013(21)]</td>\n",
       "      <td>[-0.024(10), -0.003(16)]</td>\n",
       "      <td>[0.001(13), -0.013(21)]</td>\n",
       "    </tr>\n",
       "    <tr>\n",
       "      <th>XV</th>\n",
       "      <td>0.0780(45)</td>\n",
       "      <td>[-0.0099(85), 0.0033(70)]</td>\n",
       "      <td>[-0.0025(89), 0.0063(86)]</td>\n",
       "      <td>[-0.0099(85), 0.0033(70)]</td>\n",
       "      <td>[-0.0025(89), 0.0063(86)]</td>\n",
       "    </tr>\n",
       "    <tr>\n",
       "      <th>R0</th>\n",
       "      <td>-0.0709(60)</td>\n",
       "      <td>[0.020(13), -0.005(11)]</td>\n",
       "      <td>[0.022(14), -0.003(10)]</td>\n",
       "      <td>[0.020(13), -0.005(11)]</td>\n",
       "      <td>[0.022(14), -0.003(10)]</td>\n",
       "    </tr>\n",
       "    <tr>\n",
       "      <th>R1</th>\n",
       "      <td>1.0202(96)</td>\n",
       "      <td>[-0.040(15), -0.021(13)]</td>\n",
       "      <td>[-0.010(20), 0.007(18)]</td>\n",
       "      <td>[-0.040(15), -0.021(13)]</td>\n",
       "      <td>[-0.010(20), 0.007(18)]</td>\n",
       "    </tr>\n",
       "    <tr>\n",
       "      <th rowspan=\"5\" valign=\"top\">200</th>\n",
       "      <th>RA1</th>\n",
       "      <td>0.777(21)</td>\n",
       "      <td>[0.052(21), 0.051(21)]</td>\n",
       "      <td>[0.193(33), 0.173(31)]</td>\n",
       "      <td>[0.052(21), 0.051(21)]</td>\n",
       "      <td>[0.193(33), 0.173(31)]</td>\n",
       "    </tr>\n",
       "    <tr>\n",
       "      <th>XFSTPAR</th>\n",
       "      <td>0.1071(40)</td>\n",
       "      <td>[-0.044(11), -0.006(20)]</td>\n",
       "      <td>[0.011(13), -0.004(22)]</td>\n",
       "      <td>[-0.044(11), -0.006(20)]</td>\n",
       "      <td>[0.011(13), -0.004(22)]</td>\n",
       "    </tr>\n",
       "    <tr>\n",
       "      <th>XV</th>\n",
       "      <td>0.1527(58)</td>\n",
       "      <td>[-0.024(10), -0.0027(96)]</td>\n",
       "      <td>[-0.010(11), 0.007(11)]</td>\n",
       "      <td>[-0.024(10), -0.0027(96)]</td>\n",
       "      <td>[-0.010(11), 0.007(11)]</td>\n",
       "    </tr>\n",
       "    <tr>\n",
       "      <th>R0</th>\n",
       "      <td>-0.1440(77)</td>\n",
       "      <td>[0.035(15), 0.005(13)]</td>\n",
       "      <td>[0.032(16), 0.003(12)]</td>\n",
       "      <td>[0.035(15), 0.005(13)]</td>\n",
       "      <td>[0.032(16), 0.003(12)]</td>\n",
       "    </tr>\n",
       "    <tr>\n",
       "      <th>R1</th>\n",
       "      <td>1.013(11)</td>\n",
       "      <td>[-0.032(17), -0.009(17)]</td>\n",
       "      <td>[-0.035(20), 0.032(21)]</td>\n",
       "      <td>[-0.032(17), -0.009(17)]</td>\n",
       "      <td>[-0.035(20), 0.032(21)]</td>\n",
       "    </tr>\n",
       "    <tr>\n",
       "      <th rowspan=\"5\" valign=\"top\">300</th>\n",
       "      <th>RA1</th>\n",
       "      <td>0.690(61)</td>\n",
       "      <td>[0.040(31), 0.040(31)]</td>\n",
       "      <td>[0.161(40), 0.144(37)]</td>\n",
       "      <td>[0.040(31), 0.040(31)]</td>\n",
       "      <td>[0.161(40), 0.144(37)]</td>\n",
       "    </tr>\n",
       "    <tr>\n",
       "      <th>XFSTPAR</th>\n",
       "      <td>0.1568(51)</td>\n",
       "      <td>[-0.064(13), -0.0008(343)]</td>\n",
       "      <td>[0.018(15), 0.033(38)]</td>\n",
       "      <td>[-0.064(13), -0.0008(343)]</td>\n",
       "      <td>[0.018(15), 0.033(38)]</td>\n",
       "    </tr>\n",
       "    <tr>\n",
       "      <th>XV</th>\n",
       "      <td>0.2174(77)</td>\n",
       "      <td>[-0.031(13), -0.007(14)]</td>\n",
       "      <td>[-0.013(14), 0.016(14)]</td>\n",
       "      <td>[-0.031(13), -0.007(14)]</td>\n",
       "      <td>[-0.013(14), 0.016(14)]</td>\n",
       "    </tr>\n",
       "    <tr>\n",
       "      <th>R0</th>\n",
       "      <td>-0.201(10)</td>\n",
       "      <td>[0.049(20), 0.010(18)]</td>\n",
       "      <td>[0.033(19), -0.008(17)]</td>\n",
       "      <td>[0.049(20), 0.010(18)]</td>\n",
       "      <td>[0.033(19), -0.008(17)]</td>\n",
       "    </tr>\n",
       "    <tr>\n",
       "      <th>R1</th>\n",
       "      <td>0.999(18)</td>\n",
       "      <td>[-0.038(21), -0.010(25)]</td>\n",
       "      <td>[-0.044(25), 0.059(31)]</td>\n",
       "      <td>[-0.038(21), -0.010(25)]</td>\n",
       "      <td>[-0.044(25), 0.059(31)]</td>\n",
       "    </tr>\n",
       "    <tr>\n",
       "      <th rowspan=\"5\" valign=\"top\">400</th>\n",
       "      <th>RA1</th>\n",
       "      <td>0.690(39)</td>\n",
       "      <td>[-0.010(40), -0.009(40)]</td>\n",
       "      <td>[0.161(42), 0.142(39)]</td>\n",
       "      <td>[-0.010(40), -0.009(40)]</td>\n",
       "      <td>[0.161(42), 0.142(39)]</td>\n",
       "    </tr>\n",
       "    <tr>\n",
       "      <th>XFSTPAR</th>\n",
       "      <td>0.2063(80)</td>\n",
       "      <td>[-0.096(17), 0.022(70)]</td>\n",
       "      <td>[0.019(18), 0.100(87)]</td>\n",
       "      <td>[-0.096(17), 0.022(70)]</td>\n",
       "      <td>[0.019(18), 0.100(87)]</td>\n",
       "    </tr>\n",
       "    <tr>\n",
       "      <th>XV</th>\n",
       "      <td>0.277(10)</td>\n",
       "      <td>[-0.047(17), -0.014(20)]</td>\n",
       "      <td>[-0.027(18), 0.033(18)]</td>\n",
       "      <td>[-0.047(17), -0.014(20)]</td>\n",
       "      <td>[-0.027(18), 0.033(18)]</td>\n",
       "    </tr>\n",
       "    <tr>\n",
       "      <th>R0</th>\n",
       "      <td>-0.259(15)</td>\n",
       "      <td>[0.082(26), 0.015(28)]</td>\n",
       "      <td>[0.071(26), 0.019(27)]</td>\n",
       "      <td>[0.082(26), 0.015(28)]</td>\n",
       "      <td>[0.071(26), 0.019(27)]</td>\n",
       "    </tr>\n",
       "    <tr>\n",
       "      <th>R1</th>\n",
       "      <td>0.971(26)</td>\n",
       "      <td>[-0.018(26), -0.025(46)]</td>\n",
       "      <td>[-0.069(28), 0.072(50)]</td>\n",
       "      <td>[-0.018(26), -0.025(46)]</td>\n",
       "      <td>[-0.069(28), 0.072(50)]</td>\n",
       "    </tr>\n",
       "  </tbody>\n",
       "</table>\n",
       "</div>"
      ],
      "text/plain": [
       "                      f0                        A_1S  \\\n",
       "mom ratio                                              \n",
       "000 ZRA1      0.8329(85)      [0.030(13), 0.039(14)]   \n",
       "100 RA1        0.795(17)      [0.065(16), 0.065(16)]   \n",
       "    XFSTPAR   0.0548(37)    [-0.024(10), -0.003(16)]   \n",
       "    XV        0.0780(45)   [-0.0099(85), 0.0033(70)]   \n",
       "    R0       -0.0709(60)     [0.020(13), -0.005(11)]   \n",
       "    R1        1.0202(96)    [-0.040(15), -0.021(13)]   \n",
       "200 RA1        0.777(21)      [0.052(21), 0.051(21)]   \n",
       "    XFSTPAR   0.1071(40)    [-0.044(11), -0.006(20)]   \n",
       "    XV        0.1527(58)   [-0.024(10), -0.0027(96)]   \n",
       "    R0       -0.1440(77)      [0.035(15), 0.005(13)]   \n",
       "    R1         1.013(11)    [-0.032(17), -0.009(17)]   \n",
       "300 RA1        0.690(61)      [0.040(31), 0.040(31)]   \n",
       "    XFSTPAR   0.1568(51)  [-0.064(13), -0.0008(343)]   \n",
       "    XV        0.2174(77)    [-0.031(13), -0.007(14)]   \n",
       "    R0        -0.201(10)      [0.049(20), 0.010(18)]   \n",
       "    R1         0.999(18)    [-0.038(21), -0.010(25)]   \n",
       "400 RA1        0.690(39)    [-0.010(40), -0.009(40)]   \n",
       "    XFSTPAR   0.2063(80)     [-0.096(17), 0.022(70)]   \n",
       "    XV         0.277(10)    [-0.047(17), -0.014(20)]   \n",
       "    R0        -0.259(15)      [0.082(26), 0.015(28)]   \n",
       "    R1         0.971(26)    [-0.018(26), -0.025(46)]   \n",
       "\n",
       "                                  A_RW                        B_1S  \\\n",
       "mom ratio                                                            \n",
       "000 ZRA1                          None      [0.030(13), 0.039(14)]   \n",
       "100 RA1         [0.198(30), 0.177(28)]      [0.065(16), 0.065(16)]   \n",
       "    XFSTPAR    [0.001(13), -0.013(21)]    [-0.024(10), -0.003(16)]   \n",
       "    XV       [-0.0025(89), 0.0063(86)]   [-0.0099(85), 0.0033(70)]   \n",
       "    R0         [0.022(14), -0.003(10)]     [0.020(13), -0.005(11)]   \n",
       "    R1         [-0.010(20), 0.007(18)]    [-0.040(15), -0.021(13)]   \n",
       "200 RA1         [0.193(33), 0.173(31)]      [0.052(21), 0.051(21)]   \n",
       "    XFSTPAR    [0.011(13), -0.004(22)]    [-0.044(11), -0.006(20)]   \n",
       "    XV         [-0.010(11), 0.007(11)]   [-0.024(10), -0.0027(96)]   \n",
       "    R0          [0.032(16), 0.003(12)]      [0.035(15), 0.005(13)]   \n",
       "    R1         [-0.035(20), 0.032(21)]    [-0.032(17), -0.009(17)]   \n",
       "300 RA1         [0.161(40), 0.144(37)]      [0.040(31), 0.040(31)]   \n",
       "    XFSTPAR     [0.018(15), 0.033(38)]  [-0.064(13), -0.0008(343)]   \n",
       "    XV         [-0.013(14), 0.016(14)]    [-0.031(13), -0.007(14)]   \n",
       "    R0         [0.033(19), -0.008(17)]      [0.049(20), 0.010(18)]   \n",
       "    R1         [-0.044(25), 0.059(31)]    [-0.038(21), -0.010(25)]   \n",
       "400 RA1         [0.161(42), 0.142(39)]    [-0.010(40), -0.009(40)]   \n",
       "    XFSTPAR     [0.019(18), 0.100(87)]     [-0.096(17), 0.022(70)]   \n",
       "    XV         [-0.027(18), 0.033(18)]    [-0.047(17), -0.014(20)]   \n",
       "    R0          [0.071(26), 0.019(27)]      [0.082(26), 0.015(28)]   \n",
       "    R1         [-0.069(28), 0.072(50)]    [-0.018(26), -0.025(46)]   \n",
       "\n",
       "                                  B_RW  \n",
       "mom ratio                               \n",
       "000 ZRA1                          None  \n",
       "100 RA1         [0.198(30), 0.177(28)]  \n",
       "    XFSTPAR    [0.001(13), -0.013(21)]  \n",
       "    XV       [-0.0025(89), 0.0063(86)]  \n",
       "    R0         [0.022(14), -0.003(10)]  \n",
       "    R1         [-0.010(20), 0.007(18)]  \n",
       "200 RA1         [0.193(33), 0.173(31)]  \n",
       "    XFSTPAR    [0.011(13), -0.004(22)]  \n",
       "    XV         [-0.010(11), 0.007(11)]  \n",
       "    R0          [0.032(16), 0.003(12)]  \n",
       "    R1         [-0.035(20), 0.032(21)]  \n",
       "300 RA1         [0.161(40), 0.144(37)]  \n",
       "    XFSTPAR     [0.018(15), 0.033(38)]  \n",
       "    XV         [-0.013(14), 0.016(14)]  \n",
       "    R0         [0.033(19), -0.008(17)]  \n",
       "    R1         [-0.044(25), 0.059(31)]  \n",
       "400 RA1         [0.161(42), 0.142(39)]  \n",
       "    XFSTPAR     [0.019(18), 0.100(87)]  \n",
       "    XV         [-0.027(18), 0.033(18)]  \n",
       "    R0          [0.071(26), 0.019(27)]  \n",
       "    R1         [-0.069(28), 0.072(50)]  "
      ]
     },
     "execution_count": 45,
     "metadata": {},
     "output_type": "execute_result"
    }
   ],
   "source": [
    "TMIN     = 2\n",
    "\n",
    "fit = rset.fit(\n",
    "    tmin   = TMIN,\n",
    "    priors = priors,\n",
    "    **cov_specs\n",
    ")   \n",
    "\n",
    "rset.show(fit)\n"
   ]
  },
  {
   "cell_type": "code",
   "execution_count": 46,
   "metadata": {},
   "outputs": [
    {
     "name": "stdout",
     "output_type": "stream",
     "text": [
      "# ---------- Global fit in 2 for ens: Coarse-Phys --------------\n",
      "Least Square Fit:\n",
      "  chi2/dof [dof] = 1.3 [369]    Q = 0.00027    logGBF = 1091\n",
      "\n",
      "Parameters:\n",
      "            dE_D      0.292 (23)      [    0.5 (1.0) ]  \n",
      "            dM_B      0.272 (26)      [    0.5 (1.0) ]  \n",
      "            dM_D       0.76 (49)      [    0.5 (1.0) ]  \n",
      "     ZRA1_000_f0     0.8329 (85)      [    1.0 (1.5) ]  \n",
      "   ZRA1_000_1S 0      0.030 (13)      [      0 ± 1.0 ]  \n",
      "               1      0.039 (14)      [      0 ± 1.0 ]  \n",
      "      RA1_100_f0      0.795 (17)      [    0.9 (1.5) ]  \n",
      "    RA1_100_1S 0      0.065 (16)      [      0 ± 1.0 ]  \n",
      "               1      0.065 (16)      [      0 ± 1.0 ]  \n",
      "    RA1_100_RW 0      0.198 (30)      [      0 ± 1.0 ]  \n",
      "               1      0.177 (28)      [      0 ± 1.0 ]  \n",
      "  XFSTPAR_100_f0     0.0548 (37)      [  0.06 (1.50) ]  \n",
      "XFSTPAR_100_1S 0     -0.024 (10)      [      0 ± 1.0 ]  \n",
      "               1     -0.003 (16)      [      0 ± 1.0 ]  \n",
      "XFSTPAR_100_RW 0      0.001 (13)      [      0 ± 1.0 ]  \n",
      "               1     -0.013 (21)      [      0 ± 1.0 ]  \n",
      "       XV_100_f0     0.0780 (45)      [  0.08 (1.50) ]  \n",
      "     XV_100_1S 0    -0.0099 (85)      [      0 ± 1.0 ]  \n",
      "               1     0.0033 (70)      [      0 ± 1.0 ]  \n",
      "     XV_100_RW 0    -0.0025 (89)      [      0 ± 1.0 ]  \n",
      "               1     0.0063 (86)      [      0 ± 1.0 ]  \n",
      "       R0_100_f0    -0.0709 (60)      [ -0.07 (1.50) ]  \n",
      "     R0_100_1S 0      0.020 (13)      [      0 ± 1.0 ]  \n",
      "               1     -0.005 (11)      [      0 ± 1.0 ]  \n",
      "     R0_100_RW 0      0.022 (14)      [      0 ± 1.0 ]  \n",
      "               1     -0.003 (10)      [      0 ± 1.0 ]  \n",
      "       R1_100_f0     1.0202 (96)      [    1.0 (1.5) ]  \n",
      "     R1_100_1S 0     -0.040 (15)      [      0 ± 1.0 ]  \n",
      "               1     -0.021 (13)      [      0 ± 1.0 ]  \n",
      "     R1_100_RW 0     -0.010 (20)      [      0 ± 1.0 ]  \n",
      "               1      0.007 (18)      [      0 ± 1.0 ]  \n",
      "      RA1_200_f0      0.777 (21)      [    0.8 (1.5) ]  \n",
      "    RA1_200_1S 0      0.052 (21)      [      0 ± 1.0 ]  \n",
      "               1      0.051 (21)      [      0 ± 1.0 ]  \n",
      "    RA1_200_RW 0      0.193 (33)      [      0 ± 1.0 ]  \n",
      "               1      0.173 (31)      [      0 ± 1.0 ]  \n",
      "  XFSTPAR_200_f0     0.1071 (40)      [    0.1 (1.5) ]  \n",
      "XFSTPAR_200_1S 0     -0.044 (11)      [      0 ± 1.0 ]  \n",
      "               1     -0.006 (20)      [      0 ± 1.0 ]  \n",
      "XFSTPAR_200_RW 0      0.011 (13)      [      0 ± 1.0 ]  \n",
      "               1     -0.004 (22)      [      0 ± 1.0 ]  \n",
      "       XV_200_f0     0.1527 (58)      [    0.2 (1.5) ]  \n",
      "     XV_200_1S 0     -0.024 (10)      [      0 ± 1.0 ]  \n",
      "               1    -0.0027 (96)      [      0 ± 1.0 ]  \n",
      "     XV_200_RW 0     -0.010 (11)      [      0 ± 1.0 ]  \n",
      "               1      0.007 (11)      [      0 ± 1.0 ]  \n",
      "       R0_200_f0    -0.1440 (77)      [   -0.1 (1.5) ]  \n",
      "     R0_200_1S 0      0.035 (15)      [      0 ± 1.0 ]  \n",
      "               1      0.005 (13)      [      0 ± 1.0 ]  \n",
      "     R0_200_RW 0      0.032 (16)      [      0 ± 1.0 ]  \n",
      "               1      0.003 (12)      [      0 ± 1.0 ]  \n",
      "       R1_200_f0      1.013 (11)      [    1.0 (1.5) ]  \n",
      "     R1_200_1S 0     -0.032 (17)      [      0 ± 1.0 ]  \n",
      "               1     -0.009 (17)      [      0 ± 1.0 ]  \n",
      "     R1_200_RW 0     -0.035 (20)      [      0 ± 1.0 ]  \n",
      "               1      0.032 (21)      [      0 ± 1.0 ]  \n",
      "      RA1_300_f0      0.690 (61)      [    0.9 (1.5) ]  \n",
      "    RA1_300_1S 0      0.040 (31)      [      0 ± 1.0 ]  \n",
      "               1      0.040 (31)      [      0 ± 1.0 ]  \n",
      "    RA1_300_RW 0      0.161 (40)      [      0 ± 1.0 ]  \n",
      "               1      0.144 (37)      [      0 ± 1.0 ]  \n",
      "  XFSTPAR_300_f0     0.1568 (51)      [    0.2 (1.5) ]  \n",
      "XFSTPAR_300_1S 0     -0.064 (13)      [      0 ± 1.0 ]  \n",
      "               1   -0.0008 (343)      [      0 ± 1.0 ]  \n",
      "XFSTPAR_300_RW 0      0.018 (15)      [      0 ± 1.0 ]  \n",
      "               1      0.033 (38)      [      0 ± 1.0 ]  \n",
      "       XV_300_f0     0.2174 (77)      [    0.2 (1.5) ]  \n",
      "     XV_300_1S 0     -0.031 (13)      [      0 ± 1.0 ]  \n",
      "               1     -0.007 (14)      [      0 ± 1.0 ]  \n",
      "     XV_300_RW 0     -0.013 (14)      [      0 ± 1.0 ]  \n",
      "               1      0.016 (14)      [      0 ± 1.0 ]  \n",
      "       R0_300_f0     -0.201 (10)      [   -0.2 (1.5) ]  \n",
      "     R0_300_1S 0      0.049 (20)      [      0 ± 1.0 ]  \n",
      "               1      0.010 (18)      [      0 ± 1.0 ]  \n",
      "     R0_300_RW 0      0.033 (19)      [      0 ± 1.0 ]  \n",
      "               1     -0.008 (17)      [      0 ± 1.0 ]  \n",
      "       R1_300_f0      0.999 (18)      [    1.0 (1.5) ]  \n",
      "     R1_300_1S 0     -0.038 (21)      [      0 ± 1.0 ]  \n",
      "               1     -0.010 (25)      [      0 ± 1.0 ]  \n",
      "     R1_300_RW 0     -0.044 (25)      [      0 ± 1.0 ]  \n",
      "               1      0.059 (31)      [      0 ± 1.0 ]  \n",
      "      RA1_400_f0      0.690 (39)      [    0.8 (1.5) ]  \n",
      "    RA1_400_1S 0     -0.010 (40)      [      0 ± 1.0 ]  \n",
      "               1     -0.009 (40)      [      0 ± 1.0 ]  \n",
      "    RA1_400_RW 0      0.161 (42)      [      0 ± 1.0 ]  \n",
      "               1      0.142 (39)      [      0 ± 1.0 ]  \n",
      "  XFSTPAR_400_f0     0.2063 (80)      [    0.2 (1.5) ]  \n",
      "XFSTPAR_400_1S 0     -0.096 (17)      [      0 ± 1.0 ]  \n",
      "               1      0.022 (70)      [      0 ± 1.0 ]  \n",
      "XFSTPAR_400_RW 0      0.019 (18)      [      0 ± 1.0 ]  \n",
      "               1      0.100 (87)      [      0 ± 1.0 ]  \n",
      "       XV_400_f0      0.277 (10)      [    0.3 (1.5) ]  \n",
      "     XV_400_1S 0     -0.047 (17)      [      0 ± 1.0 ]  \n",
      "               1     -0.014 (20)      [      0 ± 1.0 ]  \n",
      "     XV_400_RW 0     -0.027 (18)      [      0 ± 1.0 ]  \n",
      "               1      0.033 (18)      [      0 ± 1.0 ]  \n",
      "       R0_400_f0     -0.259 (15)      [   -0.2 (1.5) ]  \n",
      "     R0_400_1S 0      0.082 (26)      [      0 ± 1.0 ]  \n",
      "               1      0.015 (28)      [      0 ± 1.0 ]  \n",
      "     R0_400_RW 0      0.071 (26)      [      0 ± 1.0 ]  \n",
      "               1      0.019 (27)      [      0 ± 1.0 ]  \n",
      "       R1_400_f0      0.971 (26)      [    1.0 (1.5) ]  \n",
      "     R1_400_1S 0     -0.018 (26)      [      0 ± 1.0 ]  \n",
      "               1     -0.025 (46)      [      0 ± 1.0 ]  \n",
      "     R1_400_RW 0     -0.069 (28)      [      0 ± 1.0 ]  \n",
      "               1      0.072 (50)      [      0 ± 1.0 ]  \n",
      "\n",
      "Settings:\n",
      "  svdcut/n = 1e-12/0    tol = (1e-08,1e-10,1e-10*)    (itns/time = 22/0.3)\n",
      "  fitter = scipy_least_squares    method = trf\n",
      "\n",
      "# red chi2       = 469.99\n",
      "# aug chi2       = 470.52\n",
      "# chi2_exp       = 369.00\n",
      "# chi2/chi_exp   = 1.27\n",
      "# p-value (exp)  = 0.00\n",
      "# p-value (std)  = 0.00\n"
     ]
    },
    {
     "data": {
      "text/plain": [
       "{'fit': <lsqfit.nonlinear_fit at 0x183651d90>,\n",
       " 'chi2red': 469.988886357251,\n",
       " 'chi2aug': 470.5155163025783,\n",
       " 'chiexp': 368.9999999999908,\n",
       " 'pexp': 0.0,\n",
       " 'pstd': 0.003146051670914272}"
      ]
     },
     "execution_count": 46,
     "metadata": {},
     "output_type": "execute_result"
    }
   ],
   "source": [
    "rset.fit_result(TMIN,fit,priors=priors)"
   ]
  },
  {
   "cell_type": "code",
   "execution_count": 47,
   "metadata": {},
   "outputs": [
    {
     "data": {
      "text/plain": [
       "<matplotlib.legend.Legend at 0x1739a6350>"
      ]
     },
     "execution_count": 47,
     "metadata": {},
     "output_type": "execute_result"
    },
    {
     "data": {
      "image/png": "[encoded data removed]",
      "text/plain": [
       "<Figure size 1000x500 with 6 Axes>"
      ]
     },
     "metadata": {},
     "output_type": "display_data"
    }
   ],
   "source": [
    "plt.rcParams['text.usetex'] = True\n",
    "plt.rcParams['font.size'] = 12\n",
    "\n",
    "f, ax = plt.subplots(2,3,figsize=(10,5), sharex=True)\n",
    "\n",
    "rset.plot_fit('ZRA1'   ,fit,ax[0,0])\n",
    "ax[0,0].set_title(r'$R_{A_1}^2(\\mathbf{p}=0)$')\n",
    "ax[0,0].grid(alpha=0.2)\n",
    "\n",
    "rset.plot_fit('RA1'    ,fit,ax[0,1])\n",
    "ax[0,1].set_title(r'$R_{A_1}^2(\\mathbf{p}>0)$')\n",
    "ax[0,1].grid(alpha=0.2)\n",
    "\n",
    "rset.plot_fit('XFSTPAR',fit,ax[0,2])\n",
    "ax[0,2].yaxis.set_label_position('right')\n",
    "ax[0,2].yaxis.tick_right()\n",
    "ax[0,2].set_title(r'$x_f(\\mathbf{p}_\\parallel)$')\n",
    "ax[0,2].grid(alpha=0.2)\n",
    "\n",
    "\n",
    "rset.plot_fit('XV'     ,fit,ax[1,0])\n",
    "ax[1,0].set_title(r'$X_V$')\n",
    "ax[1,0].set_xlabel(r'$t/a$')\n",
    "ax[1,0].grid(alpha=0.2)\n",
    "\n",
    "rset.plot_fit('R0'     ,fit,ax[1,1])\n",
    "ax[1,1].set_title(r'$X_0$')\n",
    "ax[1,1].set_xlabel(r'$t/a$')\n",
    "ax[1,1].grid(alpha=0.2)\n",
    "\n",
    "rset.plot_fit('R1'     ,fit,ax[1,2])\n",
    "ax[1,2].yaxis.set_label_position('right')\n",
    "ax[1,2].yaxis.tick_right()\n",
    "ax[1,2].set_title(r'$X_1$')\n",
    "ax[1,2].set_xlabel(r'$t/a$')\n",
    "ax[1,2].grid(alpha=0.2)\n",
    "\n",
    "\n",
    "ax[1,2].errorbar([],[],color='C0',label=r'$p = \\frac{2\\pi}{L}(1,0,0)$')\n",
    "ax[1,2].errorbar([],[],color='C1',label=r'$p = \\frac{2\\pi}{L}(2,0,0)$')\n",
    "ax[1,2].errorbar([],[],color='C2',label=r'$p = \\frac{2\\pi}{L}(3,0,0)$')\n",
    "ax[1,2].legend(bbox_to_anchor=(1.15, 1.25))\n",
    "\n",
    "\n",
    "# plt.tight_layout()\n",
    "# plt.savefig(\n",
    "#     f'/Users/pietro/code/latex/Lattice2024/beamer-presentation-template/PLOTS/ratio_gfit_Dst.pdf',\n",
    "#     transparent=True\n",
    "# )\n",
    "# plt.subplots_adjust(hspace=0.05)"
   ]
  },
  {
   "cell_type": "markdown",
   "metadata": {},
   "source": [
    "# Form factors"
   ]
  },
  {
   "cell_type": "code",
   "execution_count": 48,
   "metadata": {},
   "outputs": [],
   "source": [
    "rs = {m: {} for m in MOMLIST}\n",
    "\n",
    "for k in fit.p:\n",
    "    if k.endswith('f0'):\n",
    "        rat,mom,_ = k.split('_')\n",
    "        rs[mom][rat] = fit.p[k]\n",
    "\n",
    "df = pd.DataFrame(rs).transpose()\n",
    "df['w'  ] = (1+df['XFSTPAR']**2)/(1-df['XFSTPAR']**2)\n",
    "df.loc['000','w']   =  gv.gvar('1.0(0.00001)')\n",
    "df.loc['000','RA1'] =  df.loc['000','ZRA1']\n",
    "df.drop('ZRA1',axis=1,inplace=True)\n",
    "\n",
    "df['RA1'] = df['RA1']**0.5"
   ]
  },
  {
   "cell_type": "code",
   "execution_count": 49,
   "metadata": {},
   "outputs": [
    {
     "name": "stdout",
     "output_type": "stream",
     "text": [
      "            RA1     XFSTPAR          XV           R0          R1             w\n",
      "000  0.9126(47)         NaN         NaN          NaN         NaN  1.000000(10)\n",
      "100  0.8917(95)  0.0548(37)  0.0780(45)  -0.0709(60)  1.0202(96)   1.00602(82)\n",
      "200   0.881(12)  0.1071(40)  0.1527(58)  -0.1440(77)   1.013(11)    1.0232(17)\n",
      "300   0.831(37)  0.1568(51)  0.2174(77)   -0.201(10)   0.999(18)    1.0504(34)\n",
      "400   0.831(24)  0.2063(80)   0.277(10)   -0.259(15)   0.971(26)    1.0889(72)\n"
     ]
    }
   ],
   "source": [
    "print(df)"
   ]
  },
  {
   "cell_type": "markdown",
   "metadata": {},
   "source": [
    "### $h_{A_1}(w) = \\rho_{A_j}\\frac{2R_{A_1}}{w+1}$"
   ]
  },
  {
   "cell_type": "code",
   "execution_count": 50,
   "metadata": {},
   "outputs": [
    {
     "data": {
      "text/plain": [
       "000    0.9126(47)\n",
       "100    0.8891(95)\n",
       "200     0.871(12)\n",
       "300     0.810(36)\n",
       "400     0.795(23)\n",
       "dtype: object"
      ]
     },
     "execution_count": 50,
     "metadata": {},
     "output_type": "execute_result"
    }
   ],
   "source": [
    "ha1 = 2*df['RA1']/(df['w']+1)\n",
    "ha1"
   ]
  },
  {
   "cell_type": "code",
   "execution_count": 51,
   "metadata": {},
   "outputs": [],
   "source": [
    "pmask = [p for p in MOMLIST if p!='000']\n",
    "dfz = df.loc[pmask]"
   ]
  },
  {
   "cell_type": "markdown",
   "metadata": {},
   "source": [
    "### $h_{A_2}(w) = \\frac{2R_{A_1}}{{w^2-1}} (w R_1 -\\frac{\\rho_{A_4}}{\\rho_{A_j}} \\sqrt{w^2-1}R_0 - 1)$"
   ]
  },
  {
   "cell_type": "code",
   "execution_count": 52,
   "metadata": {},
   "outputs": [
    {
     "data": {
      "text/plain": [
       "100     2.7(1.4)\n",
       "200     0.19(43)\n",
       "300    -0.25(31)\n",
       "400    -0.48(26)\n",
       "dtype: object"
      ]
     },
     "execution_count": 52,
     "metadata": {},
     "output_type": "execute_result"
    }
   ],
   "source": [
    "ha2 = 2*dfz['RA1']/(dfz['w']**2-1) * ((dfz['w']*dfz['R1']) - (dfz['w']**2-1.)**0.5 * (-1) * dfz['R0'] - 1)\n",
    "ha2"
   ]
  },
  {
   "cell_type": "markdown",
   "metadata": {},
   "source": [
    "### $h_{A_3}(w) = \\frac{2R_{A_1}}{w^2-1}(w-R_1)$"
   ]
  },
  {
   "cell_type": "code",
   "execution_count": 53,
   "metadata": {},
   "outputs": [
    {
     "data": {
      "text/plain": [
       "100    -2.1(1.5)\n",
       "200     0.39(42)\n",
       "300     0.83(30)\n",
       "400     1.05(23)\n",
       "dtype: object"
      ]
     },
     "execution_count": 53,
     "metadata": {},
     "output_type": "execute_result"
    }
   ],
   "source": [
    "ha3 = 2*dfz['RA1']/(dfz['w']**2-1) * (dfz['w'] - dfz['R1'])\n",
    "ha3"
   ]
  },
  {
   "cell_type": "markdown",
   "metadata": {},
   "source": [
    "### $h_V(w) = \\frac{2R_{A_1}}{\\sqrt{w^2-1}}X_V$"
   ]
  },
  {
   "cell_type": "code",
   "execution_count": 54,
   "metadata": {},
   "outputs": [
    {
     "data": {
      "text/plain": [
       "100     1.27(11)\n",
       "200    1.242(68)\n",
       "300    1.123(75)\n",
       "400    1.067(68)\n",
       "dtype: object"
      ]
     },
     "execution_count": 54,
     "metadata": {},
     "output_type": "execute_result"
    }
   ],
   "source": [
    "hv = 2*dfz['RA1']/((dfz['w']**2-1)**0.5) * dfz['XV']\n",
    "hv"
   ]
  },
  {
   "cell_type": "markdown",
   "metadata": {},
   "source": [
    "### all together"
   ]
  },
  {
   "cell_type": "code",
   "execution_count": 55,
   "metadata": {},
   "outputs": [
    {
     "data": {
      "text/html": [
       "<div>\n",
       "<style scoped>\n",
       "    .dataframe tbody tr th:only-of-type {\n",
       "        vertical-align: middle;\n",
       "    }\n",
       "\n",
       "    .dataframe tbody tr th {\n",
       "        vertical-align: top;\n",
       "    }\n",
       "\n",
       "    .dataframe thead th {\n",
       "        text-align: right;\n",
       "    }\n",
       "</style>\n",
       "<table border=\"1\" class=\"dataframe\">\n",
       "  <thead>\n",
       "    <tr style=\"text-align: right;\">\n",
       "      <th></th>\n",
       "      <th>hA1</th>\n",
       "      <th>hA2</th>\n",
       "      <th>hA3</th>\n",
       "      <th>hV</th>\n",
       "    </tr>\n",
       "  </thead>\n",
       "  <tbody>\n",
       "    <tr>\n",
       "      <th>000</th>\n",
       "      <td>0.9126(47)</td>\n",
       "      <td>NaN</td>\n",
       "      <td>NaN</td>\n",
       "      <td>NaN</td>\n",
       "    </tr>\n",
       "    <tr>\n",
       "      <th>100</th>\n",
       "      <td>0.8891(95)</td>\n",
       "      <td>2.7(1.4)</td>\n",
       "      <td>-2.1(1.5)</td>\n",
       "      <td>1.27(11)</td>\n",
       "    </tr>\n",
       "    <tr>\n",
       "      <th>200</th>\n",
       "      <td>0.871(12)</td>\n",
       "      <td>0.19(43)</td>\n",
       "      <td>0.39(42)</td>\n",
       "      <td>1.242(68)</td>\n",
       "    </tr>\n",
       "    <tr>\n",
       "      <th>300</th>\n",
       "      <td>0.810(36)</td>\n",
       "      <td>-0.25(31)</td>\n",
       "      <td>0.83(30)</td>\n",
       "      <td>1.123(75)</td>\n",
       "    </tr>\n",
       "    <tr>\n",
       "      <th>400</th>\n",
       "      <td>0.795(23)</td>\n",
       "      <td>-0.48(26)</td>\n",
       "      <td>1.05(23)</td>\n",
       "      <td>1.067(68)</td>\n",
       "    </tr>\n",
       "  </tbody>\n",
       "</table>\n",
       "</div>"
      ],
      "text/plain": [
       "            hA1        hA2        hA3         hV\n",
       "000  0.9126(47)        NaN        NaN        NaN\n",
       "100  0.8891(95)   2.7(1.4)  -2.1(1.5)   1.27(11)\n",
       "200   0.871(12)   0.19(43)   0.39(42)  1.242(68)\n",
       "300   0.810(36)  -0.25(31)   0.83(30)  1.123(75)\n",
       "400   0.795(23)  -0.48(26)   1.05(23)  1.067(68)"
      ]
     },
     "execution_count": 55,
     "metadata": {},
     "output_type": "execute_result"
    }
   ],
   "source": [
    "ff = pd.concat([ha1,ha2,ha3,hv],axis=1)\n",
    "ff.rename(columns={0:'hA1',1:'hA2',2:'hA3',3:'hV'},inplace=True)\n",
    "ff"
   ]
  }
 ],
 "metadata": {
  "kernelspec": {
   "display_name": "Python 3.11.4 ('stat')",
   "language": "python",
   "name": "python3"
  },
  "language_info": {
   "codemirror_mode": {
    "name": "ipython",
    "version": 3
   },
   "file_extension": ".py",
   "mimetype": "text/x-python",
   "name": "python",
   "nbconvert_exporter": "python",
   "pygments_lexer": "ipython3",
   "version": "3.11.4"
  },
  "orig_nbformat": 4,
  "vscode": {
   "interpreter": {
    "hash": "550906e9926f0f588aff226d3abadfa0c6a614c1c5eae7bfa21377021c1cb7ed"
   }
  }
 },
 "nbformat": 4,
 "nbformat_minor": 2
}
