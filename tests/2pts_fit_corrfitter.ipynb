{
 "cells": [
  {
   "cell_type": "code",
   "execution_count": 48,
   "metadata": {},
   "outputs": [],
   "source": [
    "import lsqfit\n",
    "import jax\n",
    "import jax.numpy  as jnp\n",
    "import gvar       as gv\n",
    "import corrfitter as cf\n",
    "import numpy      as np"
   ]
  },
  {
   "cell_type": "code",
   "execution_count": 8,
   "metadata": {},
   "outputs": [],
   "source": [
    "from b2heavy.TwoPointFunctions.types2pts  import CorrelatorIO, Correlator\n",
    "from b2heavy.TwoPointFunctions.fitter     import CorrFitter"
   ]
  },
  {
   "cell_type": "code",
   "execution_count": 19,
   "metadata": {},
   "outputs": [
    {
     "data": {
      "text/plain": [
       "{'E': [1.161(52), -1.81(58), -1.09(80), -2.4(2.5)],\n",
       " 'Z_1S_Bot': [0 ± 1.2, -1.2(1.2), 0.5(1.5), 0.5(1.5)],\n",
       " 'Z_1S_Par': [0 ± 1.2, -1.2(1.2), 0.5(1.5), 0.5(1.5)],\n",
       " 'Z_d-1S_Bot': [0.5(1.7), 0.5(1.7)],\n",
       " 'Z_d-1S_Par': [0.5(1.7), 0.5(1.7)],\n",
       " 'Z_d_Bot': [-1.93(51), -3.0(1.5), 0.5(1.5), 0.5(1.5)],\n",
       " 'Z_d_Par': [-1.93(51), -5.5(2.0), 0.5(1.5), 0.5(1.5)]}"
      ]
     },
     "execution_count": 19,
     "metadata": {},
     "output_type": "execute_result"
    }
   ],
   "source": [
    "ens = 'Coarse-1'\n",
    "mes = 'Dst'\n",
    "mom = '200'\n",
    "binsize = 11\n",
    "data_dir = '/Users/pietro/code/data_analysis/BtoD/Alex/'\n",
    "\n",
    "io     = CorrelatorIO(ens,mes,mom,PathToDataDir=data_dir)\n",
    "corr   = Correlator(io,jkBin=binsize)\n",
    "\n",
    "\n",
    "Nexc   = 2\n",
    "trange = (10,19) \n",
    "fitter = CorrFitter(corr,smearing=['1S-1S','d-d','d-1S'])"
   ]
  },
  {
   "cell_type": "code",
   "execution_count": 52,
   "metadata": {},
   "outputs": [],
   "source": [
    "# single model for corrfitter\n",
    "x,y = corr.format(smearing=['1S-1S'], polarization=['Par'])\n",
    "data = {'1S-1S.Par': y['1S-1S','Par']}\n",
    "\n",
    "\n",
    "p = fitter.set_priors_phys(Nstates=2)\n",
    "pr = {\n",
    "    'dE' : [p['E'][0], np.exp(p['E'][2])],\n",
    "    'dEo': [p['E'][0] + np.exp(p['E'][0]), np.exp(p['E'][3])],\n",
    "    'Z_1S_Par' : [np.exp(p['Z_1S_Par'][0]),np.exp(p['Z_1S_Par'][2])],\n",
    "    'Z_1S_Paro': [np.exp(p['Z_1S_Par'][1]),np.exp(p['Z_1S_Par'][3])],\n",
    "}\n",
    "\n",
    "\n",
    "model = cf.Corr2(\n",
    "    datatag = '1S-1S.Par',\n",
    "    a       = (f'Z_1S_Par',f'Z_1S_Paro'),\n",
    "    b       = (f'Z_1S_Par',f'Z_1S_Paro'),\n",
    "    dE      = ('dE'       ,'dEo'      ),\n",
    "    s       = (1,-1.),\n",
    "    tdata   = x['1S-1S','Par'],\n",
    "    tfit    = np.arange(min(trange),max(trange)+1),\n",
    "    tp      = corr.Nt,\n",
    ")\n",
    "\n",
    "cfitter = cf.CorrFitter(models=model)"
   ]
  },
  {
   "cell_type": "code",
   "execution_count": 72,
   "metadata": {},
   "outputs": [],
   "source": [
    "# Multiple model corrfitter\n",
    "p = fitter.set_priors_phys(Nstates=2)\n",
    "pr = {\n",
    "    'dE' : [p['E'][0], np.exp(p['E'][2])],\n",
    "    'dEo': [p['E'][0] + np.exp(p['E'][0]), np.exp(p['E'][3])],\n",
    "    'Z_1S_Par'   : [np.exp(p['Z_1S_Par'][0])  ,p['Z_1S_Par'][2]],\n",
    "    'Z_1S_Paro'  : [np.exp(p['Z_1S_Par'][1])  ,p['Z_1S_Par'][3]],\n",
    "    'Z_d_Par'    : [np.exp(p['Z_d_Par'][0])   ,p['Z_d_Par'][2]],\n",
    "    'Z_d_Paro'   : [np.exp(p['Z_d_Par'][1])   ,p['Z_d_Par'][3]],\n",
    "    'Z_d-1S_Par' : [np.sqrt(np.exp(p['Z_d_Par']+p['Z_1S_Par'])),p['Z_d-1S_Par'][0]],\n",
    "    'Z_d-1S_Paro': [np.sqrt(np.exp(p['Z_d_Par']+p['Z_1S_Par'])),p['Z_d-1S_Par'][1]],\n",
    "    'Z_1S_Bot'   : [np.exp(p['Z_1S_Bot'][0])  ,p['Z_1S_Bot'][2]],\n",
    "    'Z_1S_Boto'  : [np.exp(p['Z_1S_Bot'][1])  ,p['Z_1S_Bot'][3]],\n",
    "    'Z_d_Bot'    : [np.exp(p['Z_d_Bot'][0])   ,p['Z_d_Bot'][2]],\n",
    "    'Z_d_Boto'   : [np.exp(p['Z_d_Bot'][1])   ,p['Z_d_Bot'][3]],\n",
    "    'Z_d-1S_Bot' : [np.sqrt(np.exp(p['Z_d_Bot']+p['Z_1S_Bot'])),p['Z_d-1S_Bot'][0]],\n",
    "    'Z_d-1S_Boto': [np.sqrt(np.exp(p['Z_d_Bot']+p['Z_1S_Bot'])),p['Z_d-1S_Bot'][1]],\n",
    "}\n",
    "\n",
    "models = []\n",
    "data   = {}\n",
    "for (sm,pol) in fitter.keys:\n",
    "    sm1,sm2 = sm.split('-')\n",
    "    mix = sm1!=sm2\n",
    "\n",
    "    x,y = corr.format(smearing=[sm], polarization=[pol])\n",
    "    data[f'{sm}.{pol}'] = y[sm,pol]\n",
    "\n",
    "    model = cf.Corr2(\n",
    "        datatag = f'{sm}.{pol}',\n",
    "        a       = (f'Z_{sm1}_{pol}',f'Z_{sm1}_{pol}o'),\n",
    "        b       = (f'Z_{sm2}_{pol}',f'Z_{sm2}_{pol}o'),\n",
    "        dE      = ('dE'       ,'dEo'      ),\n",
    "        s       = (1,-1.),\n",
    "        tdata   = x[sm,pol],\n",
    "        tfit    = np.arange(min(trange),max(trange)+1),\n",
    "        tp      = corr.Nt,\n",
    "    )\n",
    "\n",
    "    models.append(model)\n",
    "\n",
    "cfitter = cf.CorrFitter(models=models)\n"
   ]
  },
  {
   "cell_type": "code",
   "execution_count": 73,
   "metadata": {},
   "outputs": [],
   "source": [
    "fit = cfitter.lsqfit(data=data, prior=pr)"
   ]
  },
  {
   "cell_type": "code",
   "execution_count": 74,
   "metadata": {},
   "outputs": [
    {
     "name": "stdout",
     "output_type": "stream",
     "text": [
      "Least Square Fit:\n",
      "  chi2/dof [dof] = 43 [60]    Q = 0    logGBF = -80.512\n",
      "\n",
      "Parameters:\n",
      "     Z_1S_Bot 0     0.89 (14)     [   1.0 (1.2) ]  \n",
      "              1    -0.15 (76)     [   0.5 (1.5) ]  \n",
      "           dE 0    1.098 (11)     [  1.161 (52) ]  *\n",
      "              1    0.033 (17)     [   0.34 (27) ]  *\n",
      "    Z_1S_Boto 0     0.30 (36)     [   0.30 (36) ]  \n",
      "              1     0.5 (1.5)     [   0.5 (1.5) ]  \n",
      "          dEo 0    4.088 (44)     [   4.35 (22) ]  *\n",
      "              1     0.10 (24)     [   0.10 (24) ]  \n",
      "     Z_1S_Par 0     0.35 (51)     [   1.0 (1.2) ]  \n",
      "              1     1.13 (16)     [   0.5 (1.5) ]  \n",
      "    Z_1S_Paro 0     0.30 (36)     [   0.30 (36) ]  \n",
      "              1     0.5 (1.5)     [   0.5 (1.5) ]  \n",
      "      Z_d_Bot 0    0.104 (25)     [  0.145 (73) ]  \n",
      "              1   -0.033 (88)     [   0.5 (1.5) ]  \n",
      "     Z_d_Boto 0    0.050 (75)     [  0.050 (75) ]  \n",
      "              1     0.5 (1.5)     [   0.5 (1.5) ]  \n",
      "      Z_d_Par 0    0.035 (62)     [  0.145 (73) ]  *\n",
      "              1    0.134 (15)     [   0.5 (1.5) ]  \n",
      "     Z_d_Paro 0   0.0041 (82)     [ 0.0041 (82) ]  \n",
      "              1     0.5 (1.5)     [   0.5 (1.5) ]  \n",
      "\n",
      "Settings:\n",
      "  svdcut/n = 1e-12/1    tol = (1e-08,1e-10,1e-10*)    (itns/time = 74/0.1)\n",
      "  fitter = scipy_least_squares    method = trf\n",
      "\n"
     ]
    }
   ],
   "source": [
    "print(fit)"
   ]
  },
  {
   "cell_type": "code",
   "execution_count": null,
   "metadata": {},
   "outputs": [],
   "source": []
  }
 ],
 "metadata": {
  "kernelspec": {
   "display_name": "Python 3.11.4 ('stat')",
   "language": "python",
   "name": "python3"
  },
  "language_info": {
   "codemirror_mode": {
    "name": "ipython",
    "version": 3
   },
   "file_extension": ".py",
   "mimetype": "text/x-python",
   "name": "python",
   "nbconvert_exporter": "python",
   "pygments_lexer": "ipython3",
   "version": "3.11.4"
  },
  "orig_nbformat": 4,
  "vscode": {
   "interpreter": {
    "hash": "550906e9926f0f588aff226d3abadfa0c6a614c1c5eae7bfa21377021c1cb7ed"
   }
  }
 },
 "nbformat": 4,
 "nbformat_minor": 2
}
