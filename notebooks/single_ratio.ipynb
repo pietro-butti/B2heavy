{
 "cells": [
  {
   "cell_type": "code",
   "execution_count": 20,
   "metadata": {},
   "outputs": [],
   "source": [
    "import numpy             as np\n",
    "import gvar              as gv\n",
    "import matplotlib.pyplot as plt\n",
    "import lsqfit\n",
    "import itertools\n",
    "from tqdm import tqdm"
   ]
  },
  {
   "cell_type": "code",
   "execution_count": 21,
   "metadata": {},
   "outputs": [],
   "source": [
    "from b2heavy.FnalHISQMetadata import params as mData"
   ]
  },
  {
   "cell_type": "code",
   "execution_count": 22,
   "metadata": {},
   "outputs": [],
   "source": [
    "from b2heavy.ThreePointFunctions.types3pts  import Ratio, RatioIO, ratio_prerequisites\n",
    "from b2heavy.ThreePointFunctions.fitter3pts import RatioFitter, phys_energy_priors\n",
    "from b2heavy.ThreePointFunctions.utils      import read_config_fit, dump_fit_object"
   ]
  },
  {
   "cell_type": "code",
   "execution_count": 23,
   "metadata": {},
   "outputs": [],
   "source": [
    "DATA_DIR = '/Users/pietro/code/data_analysis/BtoD/Alex/'\n",
    "DATA_2PT = '/Users/pietro/code/data_analysis/data/QCDNf2p1stag/B2heavy/report'\n",
    "\n",
    "BINSIZE  = {\n",
    "    'MediumCoarse':13,\n",
    "    'Coarse-2':    16,\n",
    "    'Coarse-1':    11,\n",
    "    'Coarse-Phys': 19,\n",
    "    'Fine-1':      16,\n",
    "    'Fine-Phys':   16,\n",
    "    'SuperFine':   22\n",
    "}"
   ]
  },
  {
   "cell_type": "code",
   "execution_count": 24,
   "metadata": {},
   "outputs": [],
   "source": [
    "ENSEMBLE = 'Coarse-Phys'\n",
    "RATIO    = 'QPLUS'\n",
    "MOMENTUM = '100'\n",
    "\n",
    "# SMSLIST  = ['1S','RW']\n",
    "SMSLIST  = ['1S', 'RW']"
   ]
  },
  {
   "cell_type": "code",
   "execution_count": 25,
   "metadata": {},
   "outputs": [],
   "source": [
    "# Correlation matrix specifics\n",
    "DIAG   = False\n",
    "BLOCK  = False\n",
    "SCALE  = True\n",
    "SHRINK = True\n",
    "SVD    = 1E-12"
   ]
  },
  {
   "cell_type": "code",
   "execution_count": 26,
   "metadata": {},
   "outputs": [],
   "source": [
    "# Specifics of the analysis\n",
    "TMIN    = 1\n",
    "NSTATES = 2\n",
    "WPRIORS = True\n",
    "JKFIT   = False"
   ]
  },
  {
   "cell_type": "markdown",
   "metadata": {},
   "source": [
    "In the following we look for requisites for the ratio calculation"
   ]
  },
  {
   "cell_type": "code",
   "execution_count": 27,
   "metadata": {},
   "outputs": [
    {
     "data": {
      "text/plain": [
       "{'E0': 1.0078553977756999,\n",
       " 'm0': 0.9998950589461969,\n",
       " 'Z0': {'1S': 2.45951731300508, 'd': 0.31293272782761744},\n",
       " 'Zpar': None,\n",
       " 'Zbot': None,\n",
       " 'Zp': {'1S': 2.401489249186158, 'd': 0.31306106360711355},\n",
       " 'wrecoil': None,\n",
       " 'jk': False}"
      ]
     },
     "execution_count": 27,
     "metadata": {},
     "output_type": "execute_result"
    }
   ],
   "source": [
    "requisites = ratio_prerequisites(\n",
    "    ens      = ENSEMBLE,\n",
    "    ratio    = RATIO,\n",
    "    mom      = MOMENTUM,\n",
    "    readfrom = DATA_2PT,\n",
    "    jk       = JKFIT\n",
    ")\n",
    "\n",
    "requisites"
   ]
  },
  {
   "cell_type": "markdown",
   "metadata": {},
   "source": [
    "Here we initialize the master object that contains a ratio at given momentum for a given ensemble"
   ]
  },
  {
   "cell_type": "code",
   "execution_count": 28,
   "metadata": {},
   "outputs": [],
   "source": [
    "io = RatioIO(ENSEMBLE,RATIO,MOMENTUM,PathToDataDir=DATA_DIR)\n",
    "robj = RatioFitter(\n",
    "    io,\n",
    "    jkBin     = BINSIZE[ENSEMBLE],\n",
    "    smearing  = SMSLIST,\n",
    "    readfrom  = DATA_2PT,\n",
    "    **requisites\n",
    ")"
   ]
  },
  {
   "cell_type": "code",
   "execution_count": 29,
   "metadata": {},
   "outputs": [],
   "source": [
    "trange = (TMIN, robj.Ta-TMIN)"
   ]
  },
  {
   "cell_type": "markdown",
   "metadata": {},
   "source": [
    "Here we elaborate the optimal $\\epsilon$ cut for correlation matrix"
   ]
  },
  {
   "cell_type": "code",
   "execution_count": 30,
   "metadata": {},
   "outputs": [
    {
     "data": {
      "text/plain": [
       "{'diag': False, 'block': False, 'scale': True, 'shrink': True, 'cutsvd': 1e-12}"
      ]
     },
     "execution_count": 30,
     "metadata": {},
     "output_type": "execute_result"
    }
   ],
   "source": [
    "cov_specs = dict(\n",
    "    diag   = DIAG  ,\n",
    "    block  = BLOCK ,\n",
    "    scale  = SCALE ,\n",
    "    shrink = SHRINK,\n",
    "    # cutsvd = find_eps_cut(robj,trange)\n",
    "    cutsvd = 1E-12\n",
    ")\n",
    "\n",
    "cov_specs"
   ]
  },
  {
   "cell_type": "markdown",
   "metadata": {},
   "source": [
    "Here we compute fit priors"
   ]
  },
  {
   "cell_type": "code",
   "execution_count": 31,
   "metadata": {},
   "outputs": [
    {
     "data": {
      "text/plain": [
       "{'ratio': [0.99(10)],\n",
       " 'A_1S': [0 ± 1.0, 0 ± 1.0],\n",
       " 'B_1S': [0 ± 1.0, 0 ± 1.0],\n",
       " 'A_RW': [0 ± 1.0, 0 ± 1.0],\n",
       " 'B_RW': [0 ± 1.0, 0 ± 1.0],\n",
       " 'dE_src': [-0.74(50), -0.26(50)],\n",
       " 'dE_snk': [-0.91(50), -0.52(50)]}"
      ]
     },
     "execution_count": 31,
     "metadata": {},
     "output_type": "execute_result"
    }
   ],
   "source": [
    "dE_src = phys_energy_priors(ENSEMBLE,'D',MOMENTUM,NSTATES,readfrom=DATA_2PT,error=0.5)\n",
    "dE_snk = phys_energy_priors(ENSEMBLE,'B'  ,MOMENTUM,NSTATES,readfrom=DATA_2PT,error=0.5)\n",
    "\n",
    "pr = robj.priors(NSTATES, dE_src=dE_src, dE_snk=dE_snk)\n",
    "pr"
   ]
  },
  {
   "cell_type": "code",
   "execution_count": 32,
   "metadata": {},
   "outputs": [
    {
     "data": {
      "text/plain": [
       "{'ratio': [0.99(10)],\n",
       " 'A_1S': [0 ± 1.0, 0 ± 1.0],\n",
       " 'B_1S': [0 ± 1.0, 0 ± 1.0],\n",
       " 'A_RW': [0 ± 1.0, 0 ± 1.0],\n",
       " 'B_RW': [0 ± 1.0, 0 ± 1.0],\n",
       " 'dE_src': [-1.5(1.0), -1.5(1.0)],\n",
       " 'dE_snk': [-1.5(1.0), -1.5(1.0)]}"
      ]
     },
     "execution_count": 32,
     "metadata": {},
     "output_type": "execute_result"
    }
   ],
   "source": [
    "robj.priors(NSTATES)"
   ]
  },
  {
   "cell_type": "markdown",
   "metadata": {},
   "source": [
    "Here we perform the fit"
   ]
  },
  {
   "cell_type": "code",
   "execution_count": 33,
   "metadata": {},
   "outputs": [
    {
     "name": "stdout",
     "output_type": "stream",
     "text": [
      "# ---------- chi^2_exp analysis -------------\n",
      "# chi2_exp = 22.000000000004867 +/- 6.633249580710691 \n",
      "# p-value [eval] = 0.4488\n",
      "# p-value [MC]   = 0.4546\n",
      "# ---------- 2+2 fit in (1, 11) for mes: QPLUS of ens: Coarse-Phys for mom: 100 --------------\n",
      "Least Square Fit:\n",
      "  chi2/dof [dof] = 1 [22]    Q = 0.45    logGBF = 98.124\n",
      "\n",
      "Parameters:\n",
      "        ratio 0    0.9954 (28)      [  0.99 (10) ]  \n",
      "         A_1S 0   -0.0134 (71)      [    0 ± 1.0 ]  \n",
      "              1   -0.0034 (65)      [    0 ± 1.0 ]  \n",
      "         B_1S 0      0.21 (64)      [    0 ± 1.0 ]  \n",
      "              1     -0.21 (64)      [    0 ± 1.0 ]  \n",
      "         A_RW 0   -0.0007 (55)      [    0 ± 1.0 ]  \n",
      "              1    0.0013 (40)      [    0 ± 1.0 ]  \n",
      "         B_RW 0     0.019 (68)      [    0 ± 1.0 ]  \n",
      "              1    -0.014 (69)      [    0 ± 1.0 ]  \n",
      "       dE_src 0     -1.19 (42)      [ -0.74 (50) ]  \n",
      "              1     -0.16 (48)      [ -0.26 (50) ]  \n",
      "       dE_snk 0     -1.27 (25)      [ -0.91 (50) ]  \n",
      "              1     -1.37 (26)      [ -0.52 (50) ]  *\n",
      "\n",
      "Settings:\n",
      "  svdcut/n = 0/0    tol = (1e-08,1e-10,1e-10*)    (itns/time = 35/0.0)\n",
      "  fitter = scipy_least_squares    method = trf\n",
      "\n",
      "# red chi2       = 17.84\n",
      "# aug chi2       = 22.14\n",
      "# chi2_exp       = 22.00\n",
      "# chi2/chi_exp   = 1.01\n",
      "# p-value (exp)  = 0.45\n",
      "# p-value (std)  = 0.14\n"
     ]
    }
   ],
   "source": [
    "fit = robj.fit(\n",
    "    Nstates = NSTATES,\n",
    "    trange  = trange,\n",
    "    priors  = robj.priors(NSTATES,**pr),\n",
    "    verbose = False,\n",
    "    **cov_specs,\n",
    ")\n",
    "\n",
    "res = robj.fit_result(\n",
    "    Nexc   = NSTATES,\n",
    "    trange = trange,\n",
    "    verbose = True,\n",
    "    priors = pr \n",
    ")"
   ]
  },
  {
   "cell_type": "code",
   "execution_count": 34,
   "metadata": {},
   "outputs": [
    {
     "name": "stderr",
     "output_type": "stream",
     "text": [
      "No artists with labels found to put in legend.  Note that artists whose label start with an underscore are ignored when legend() is called with no argument.\n"
     ]
    },
    {
     "data": {
      "image/png": "[encoded data removed]",
      "text/plain": [
       "<Figure size 600x600 with 1 Axes>"
      ]
     },
     "metadata": {},
     "output_type": "display_data"
    }
   ],
   "source": [
    "plt.rcParams['text.usetex'] = True\n",
    "plt.rcParams['font.size'] = 12\n",
    "\n",
    "# f, ax = plt.subplots(1,1,figsize=(8,4))\n",
    "f, ax = plt.subplots(1,1,figsize=(6,6))\n",
    "\n",
    "robj.plot_fit(ax,NSTATES,trange)\n",
    "\n",
    "f0 = pr['ratio'][0]\n",
    "ax.axhspan(ymin=f0.mean-f0.sdev,ymax=f0.mean+f0.sdev,alpha=0.1,color='gray')\n",
    "\n",
    "# ax.set_xlim(-0.5,18)\n",
    "ax.grid(alpha=0.2)\n",
    "ax.legend()\n",
    "ax.set_title(f'{ENSEMBLE}_{RATIO}_{MOMENTUM}')\n",
    "plt.tight_layout()\n",
    "# plt.savefig('/Users/pietro/Desktop/bad_ratio.pdf')"
   ]
  },
  {
   "cell_type": "markdown",
   "metadata": {},
   "source": [
    "# Model average for `Nstates` and trange"
   ]
  },
  {
   "cell_type": "code",
   "execution_count": 35,
   "metadata": {},
   "outputs": [
    {
     "name": "stdout",
     "output_type": "stream",
     "text": [
      "Nstates=1,tmin=1\n",
      "# ---------- chi^2_exp analysis -------------\n",
      "# chi2_exp = 20.000000000000725 +/- 6.32455532033659 \n",
      "# p-value [eval] = 0.2898\n",
      "# p-value [MC]   = 0.28979999999999995\n",
      "Nstates=1,tmin=2\n",
      "# ---------- chi^2_exp analysis -------------\n",
      "# chi2_exp = 15.999999999999899 +/- 5.656854249492332 \n",
      "# p-value [eval] = 0.5531\n",
      "# p-value [MC]   = 0.5581\n",
      "Nstates=1,tmin=3\n",
      "# ---------- chi^2_exp analysis -------------\n",
      "# chi2_exp = 12.000000000000153 +/- 4.89897948556635 \n",
      "# p-value [eval] = 0.3741\n",
      "# p-value [MC]   = 0.37670000000000003\n",
      "Nstates=1,tmin=4\n",
      "# ---------- chi^2_exp analysis -------------\n",
      "# chi2_exp = 8.000000000000147 +/- 4.00000000000003 \n",
      "# p-value [eval] = 0.6992\n",
      "# p-value [MC]   = 0.6991\n",
      "Nstates=2,tmin=1\n",
      "# ---------- chi^2_exp analysis -------------\n",
      "# chi2_exp = 19.99999999999968 +/- 6.324555320336248 \n",
      "# p-value [eval] = 0.7631\n",
      "# p-value [MC]   = 0.764\n",
      "Nstates=2,tmin=2\n",
      "# ---------- chi^2_exp analysis -------------\n",
      "# chi2_exp = 15.999999999999101 +/- 5.656854249492329 \n",
      "# p-value [eval] = 0.6501\n",
      "# p-value [MC]   = 0.6481\n",
      "Nstates=2,tmin=3\n",
      "# ---------- chi^2_exp analysis -------------\n",
      "# chi2_exp = 12.00000000000172 +/- 4.898979485566348 \n",
      "# p-value [eval] = 0.9994\n",
      "# p-value [MC]   = 0.9992\n",
      "Nstates=2,tmin=4\n",
      "# ---------- chi^2_exp analysis -------------\n",
      "# chi2_exp = 8.000000000001858 +/- 4.000000000000001 \n",
      "# p-value [eval] = 1.0\n",
      "# p-value [MC]   = 1.0\n",
      "Nstates=3,tmin=1\n",
      "# ---------- chi^2_exp analysis -------------\n",
      "# chi2_exp = 19.99999999995195 +/- 6.324555320336305 \n",
      "# p-value [eval] = 0.934\n",
      "# p-value [MC]   = 0.9334\n",
      "Nstates=3,tmin=2\n",
      "# ---------- chi^2_exp analysis -------------\n",
      "# chi2_exp = 16.00000000012083 +/- 5.656854249492288 \n",
      "# p-value [eval] = 0.9996\n",
      "# p-value [MC]   = 0.9995\n",
      "Nstates=3,tmin=3\n",
      "# ---------- chi^2_exp analysis -------------\n",
      "# chi2_exp = 11.999999999934548 +/- 4.898979485566344 \n",
      "# p-value [eval] = 1.0\n",
      "# p-value [MC]   = 1.0\n",
      "Nstates=3,tmin=4\n",
      "# ---------- chi^2_exp analysis -------------\n",
      "# chi2_exp = 8.000000000005244 +/- 4.0 \n",
      "# p-value [eval] = 1.0\n",
      "# p-value [MC]   = 1.0\n"
     ]
    }
   ],
   "source": [
    "TIC = {}\n",
    "pval = {}\n",
    "for Nstates in [1,2,3]:\n",
    "    dE_src = phys_energy_priors(ENSEMBLE,'Dst',MOMENTUM,Nstates,readfrom=DATA_2PT)\n",
    "    dE_snk = phys_energy_priors(ENSEMBLE,'B'  ,MOMENTUM,Nstates,readfrom=DATA_2PT)\n",
    "    x,ydata = robj.format(trange,flatten=True)\n",
    "    f_0    = gv.gvar(np.mean(ydata).mean,0.05)\n",
    "    pr = robj.priors(Nstates, K=f_0, dE_src=dE_src, dE_snk=dE_snk)\n",
    "\n",
    "    for tmin in [1,2,3,4]:\n",
    "        print(f'{Nstates=},{tmin=}')\n",
    "\n",
    "        trange = (tmin, robj.Ta-tmin-1)\n",
    "\n",
    "        fit = robj.fit(\n",
    "            Nstates = Nstates,\n",
    "            trange  = trange,\n",
    "            priors  = pr,\n",
    "            verbose = False,\n",
    "            **cov_specs\n",
    "        )\n",
    "\n",
    "        res = robj.fit_result(\n",
    "            Nexc   = Nstates,\n",
    "            trange = trange,\n",
    "            priors = pr,\n",
    "            verbose = False\n",
    "        )\n",
    "        TIC[Nstates,trange] = float((res['chi2aug'] - 2*res['chiexp']))\n",
    "        pval[Nstates,trange] = res['pstd']"
   ]
  },
  {
   "cell_type": "code",
   "execution_count": 39,
   "metadata": {},
   "outputs": [
    {
     "data": {
      "text/plain": [
       "{(1, (1, 10)): -17.150014373925508,\n",
       " (1, (2, 9)): -17.438172982631006,\n",
       " (1, (3, 8)): -11.113150657572037,\n",
       " (1, (4, 7)): -10.432256667572435,\n",
       " (2, (1, 10)): -24.79341678182741,\n",
       " (2, (2, 9)): -18.57412053921475,\n",
       " (2, (3, 8)): -21.898179068601674,\n",
       " (2, (4, 7)): -15.783073749584357,\n",
       " (3, (1, 10)): -28.53960101216539,\n",
       " (3, (2, 9)): -28.635474678796445,\n",
       " (3, (3, 8)): -22.548759508621515,\n",
       " (3, (4, 7)): -15.954302448728498}"
      ]
     },
     "execution_count": 39,
     "metadata": {},
     "output_type": "execute_result"
    }
   ],
   "source": [
    "TIC"
   ]
  },
  {
   "cell_type": "code",
   "execution_count": 38,
   "metadata": {},
   "outputs": [
    {
     "ename": "KeyError",
     "evalue": "(2, (1, 11))",
     "output_type": "error",
     "traceback": [
      "\u001b[0;31m---------------------------------------------------------------------------\u001b[0m",
      "\u001b[0;31mKeyError\u001b[0m                                  Traceback (most recent call last)",
      "Cell \u001b[0;32mIn[38], line 4\u001b[0m\n\u001b[1;32m      1\u001b[0m norm \u001b[38;5;241m=\u001b[39m np\u001b[38;5;241m.\u001b[39mexp(\u001b[38;5;241m-\u001b[39mnp\u001b[38;5;241m.\u001b[39marray(\u001b[38;5;28mlist\u001b[39m(TIC\u001b[38;5;241m.\u001b[39mvalues()))\u001b[38;5;241m/\u001b[39m\u001b[38;5;241m2\u001b[39m)\u001b[38;5;241m.\u001b[39msum()\n\u001b[1;32m      3\u001b[0m vals \u001b[38;5;241m=\u001b[39m np\u001b[38;5;241m.\u001b[39marray([f\u001b[38;5;241m.\u001b[39mp[\u001b[38;5;124m'\u001b[39m\u001b[38;5;124mratio\u001b[39m\u001b[38;5;124m'\u001b[39m][\u001b[38;5;241m0\u001b[39m] \u001b[38;5;28;01mfor\u001b[39;00m k,f \u001b[38;5;129;01min\u001b[39;00m robj\u001b[38;5;241m.\u001b[39mfits\u001b[38;5;241m.\u001b[39mitems()])\n\u001b[0;32m----> 4\u001b[0m weig \u001b[38;5;241m=\u001b[39m np\u001b[38;5;241m.\u001b[39marray(\u001b[43m[\u001b[49m\u001b[43mnp\u001b[49m\u001b[38;5;241;43m.\u001b[39;49m\u001b[43mexp\u001b[49m\u001b[43m(\u001b[49m\u001b[38;5;241;43m-\u001b[39;49m\u001b[43mTIC\u001b[49m\u001b[43m[\u001b[49m\u001b[43mk\u001b[49m\u001b[43m]\u001b[49m\u001b[38;5;241;43m/\u001b[39;49m\u001b[38;5;241;43m2\u001b[39;49m\u001b[43m)\u001b[49m\u001b[38;5;241;43m/\u001b[39;49m\u001b[43mnorm\u001b[49m\u001b[43m \u001b[49m\u001b[38;5;28;43;01mfor\u001b[39;49;00m\u001b[43m \u001b[49m\u001b[43mk\u001b[49m\u001b[43m \u001b[49m\u001b[38;5;129;43;01min\u001b[39;49;00m\u001b[43m \u001b[49m\u001b[43mrobj\u001b[49m\u001b[38;5;241;43m.\u001b[39;49m\u001b[43mfits\u001b[49m\u001b[43m]\u001b[49m   )\n\u001b[1;32m      6\u001b[0m stat \u001b[38;5;241m=\u001b[39m \u001b[38;5;28msum\u001b[39m(vals \u001b[38;5;241m*\u001b[39m weig)\n\u001b[1;32m      7\u001b[0m syst \u001b[38;5;241m=\u001b[39m np\u001b[38;5;241m.\u001b[39msqrt(gv\u001b[38;5;241m.\u001b[39mmean(\u001b[38;5;28msum\u001b[39m(weig\u001b[38;5;241m*\u001b[39mvals\u001b[38;5;241m*\u001b[39mvals) \u001b[38;5;241m-\u001b[39m (\u001b[38;5;28msum\u001b[39m(weig\u001b[38;5;241m*\u001b[39mvals))\u001b[38;5;241m*\u001b[39m\u001b[38;5;241m*\u001b[39m\u001b[38;5;241m2\u001b[39m))\n",
      "Cell \u001b[0;32mIn[38], line 4\u001b[0m, in \u001b[0;36m<listcomp>\u001b[0;34m(.0)\u001b[0m\n\u001b[1;32m      1\u001b[0m norm \u001b[38;5;241m=\u001b[39m np\u001b[38;5;241m.\u001b[39mexp(\u001b[38;5;241m-\u001b[39mnp\u001b[38;5;241m.\u001b[39marray(\u001b[38;5;28mlist\u001b[39m(TIC\u001b[38;5;241m.\u001b[39mvalues()))\u001b[38;5;241m/\u001b[39m\u001b[38;5;241m2\u001b[39m)\u001b[38;5;241m.\u001b[39msum()\n\u001b[1;32m      3\u001b[0m vals \u001b[38;5;241m=\u001b[39m np\u001b[38;5;241m.\u001b[39marray([f\u001b[38;5;241m.\u001b[39mp[\u001b[38;5;124m'\u001b[39m\u001b[38;5;124mratio\u001b[39m\u001b[38;5;124m'\u001b[39m][\u001b[38;5;241m0\u001b[39m] \u001b[38;5;28;01mfor\u001b[39;00m k,f \u001b[38;5;129;01min\u001b[39;00m robj\u001b[38;5;241m.\u001b[39mfits\u001b[38;5;241m.\u001b[39mitems()])\n\u001b[0;32m----> 4\u001b[0m weig \u001b[38;5;241m=\u001b[39m np\u001b[38;5;241m.\u001b[39marray([np\u001b[38;5;241m.\u001b[39mexp(\u001b[38;5;241m-\u001b[39m\u001b[43mTIC\u001b[49m\u001b[43m[\u001b[49m\u001b[43mk\u001b[49m\u001b[43m]\u001b[49m\u001b[38;5;241m/\u001b[39m\u001b[38;5;241m2\u001b[39m)\u001b[38;5;241m/\u001b[39mnorm \u001b[38;5;28;01mfor\u001b[39;00m k \u001b[38;5;129;01min\u001b[39;00m robj\u001b[38;5;241m.\u001b[39mfits]   )\n\u001b[1;32m      6\u001b[0m stat \u001b[38;5;241m=\u001b[39m \u001b[38;5;28msum\u001b[39m(vals \u001b[38;5;241m*\u001b[39m weig)\n\u001b[1;32m      7\u001b[0m syst \u001b[38;5;241m=\u001b[39m np\u001b[38;5;241m.\u001b[39msqrt(gv\u001b[38;5;241m.\u001b[39mmean(\u001b[38;5;28msum\u001b[39m(weig\u001b[38;5;241m*\u001b[39mvals\u001b[38;5;241m*\u001b[39mvals) \u001b[38;5;241m-\u001b[39m (\u001b[38;5;28msum\u001b[39m(weig\u001b[38;5;241m*\u001b[39mvals))\u001b[38;5;241m*\u001b[39m\u001b[38;5;241m*\u001b[39m\u001b[38;5;241m2\u001b[39m))\n",
      "\u001b[0;31mKeyError\u001b[0m: (2, (1, 11))"
     ]
    }
   ],
   "source": [
    "norm = np.exp(-np.array(list(TIC.values()))/2).sum()\n",
    "\n",
    "vals = np.array([f.p['ratio'][0] for k,f in robj.fits.items()])\n",
    "weig = np.array([np.exp(-TIC[k]/2)/norm for k in robj.fits]   )\n",
    "\n",
    "stat = sum(vals * weig)\n",
    "syst = np.sqrt(gv.mean(sum(weig*vals*vals) - (sum(weig*vals))**2))\n",
    "\n",
    "\n",
    "print(stat,syst)"
   ]
  },
  {
   "cell_type": "markdown",
   "metadata": {},
   "source": [
    "Print the results"
   ]
  },
  {
   "cell_type": "code",
   "execution_count": 37,
   "metadata": {},
   "outputs": [
    {
     "ename": "NameError",
     "evalue": "name 'stat' is not defined",
     "output_type": "error",
     "traceback": [
      "\u001b[0;31m---------------------------------------------------------------------------\u001b[0m",
      "\u001b[0;31mNameError\u001b[0m                                 Traceback (most recent call last)",
      "Cell \u001b[0;32mIn[37], line 21\u001b[0m\n\u001b[1;32m     17\u001b[0m     pv \u001b[38;5;241m=\u001b[39m [pval[n,tr] \u001b[38;5;28;01mfor\u001b[39;00m tr \u001b[38;5;129;01min\u001b[39;00m tranges]\n\u001b[1;32m     18\u001b[0m     ax2\u001b[38;5;241m.\u001b[39mscatter(ts,pv,color\u001b[38;5;241m=\u001b[39m\u001b[38;5;124mf\u001b[39m\u001b[38;5;124m'\u001b[39m\u001b[38;5;124mC\u001b[39m\u001b[38;5;132;01m{\u001b[39;00mi\u001b[38;5;132;01m}\u001b[39;00m\u001b[38;5;124m'\u001b[39m,marker\u001b[38;5;241m=\u001b[39m\u001b[38;5;124m'\u001b[39m\u001b[38;5;124m.\u001b[39m\u001b[38;5;124m'\u001b[39m)\n\u001b[0;32m---> 21\u001b[0m ax[\u001b[38;5;241m0\u001b[39m]\u001b[38;5;241m.\u001b[39maxhspan(ymin\u001b[38;5;241m=\u001b[39m\u001b[43mstat\u001b[49m\u001b[38;5;241m.\u001b[39mmean\u001b[38;5;241m-\u001b[39mstat\u001b[38;5;241m.\u001b[39msdev,ymax\u001b[38;5;241m=\u001b[39mstat\u001b[38;5;241m.\u001b[39mmean\u001b[38;5;241m+\u001b[39mstat\u001b[38;5;241m.\u001b[39msdev,color\u001b[38;5;241m=\u001b[39m\u001b[38;5;124m'\u001b[39m\u001b[38;5;124mgray\u001b[39m\u001b[38;5;124m'\u001b[39m,alpha\u001b[38;5;241m=\u001b[39m\u001b[38;5;241m0.2\u001b[39m,label\u001b[38;5;241m=\u001b[39m\u001b[38;5;124m'\u001b[39m\u001b[38;5;124mmodel average\u001b[39m\u001b[38;5;124m'\u001b[39m)\n\u001b[1;32m     22\u001b[0m err \u001b[38;5;241m=\u001b[39m np\u001b[38;5;241m.\u001b[39msqrt(stat\u001b[38;5;241m.\u001b[39msdev\u001b[38;5;241m*\u001b[39m\u001b[38;5;241m*\u001b[39m\u001b[38;5;241m2\u001b[39m\u001b[38;5;241m+\u001b[39msyst\u001b[38;5;241m*\u001b[39m\u001b[38;5;241m*\u001b[39m\u001b[38;5;241m2\u001b[39m)\n\u001b[1;32m     23\u001b[0m ax[\u001b[38;5;241m0\u001b[39m]\u001b[38;5;241m.\u001b[39maxhline(stat\u001b[38;5;241m.\u001b[39mmean\u001b[38;5;241m-\u001b[39merr,color\u001b[38;5;241m=\u001b[39m\u001b[38;5;124m'\u001b[39m\u001b[38;5;124mgray\u001b[39m\u001b[38;5;124m'\u001b[39m,alpha\u001b[38;5;241m=\u001b[39m\u001b[38;5;241m0.2\u001b[39m,linestyle\u001b[38;5;241m=\u001b[39m\u001b[38;5;124m'\u001b[39m\u001b[38;5;124m:\u001b[39m\u001b[38;5;124m'\u001b[39m)\n",
      "\u001b[0;31mNameError\u001b[0m: name 'stat' is not defined"
     ]
    },
    {
     "data": {
      "image/png": "[encoded data removed]",
      "text/plain": [
       "<Figure size 400x400 with 3 Axes>"
      ]
     },
     "metadata": {},
     "output_type": "display_data"
    }
   ],
   "source": [
    "f, ax = plt.subplots(2,1,figsize=(4,4),gridspec_kw={'height_ratios': [3, 1]},sharex=True)\n",
    "\n",
    "ts      = np.array([1,2,3,4])\n",
    "tranges = [((t,robj.Ta-t-1)) for t in ts]\n",
    "\n",
    "ax2 = ax[1].twinx()\n",
    "\n",
    "for i,n in enumerate([1,2,3]):\n",
    "    f0 = [robj.fits[n,tr].p['ratio'][0] for tr in tranges]\n",
    "    off = -0.05*i + 0.05\n",
    "    ax[0].errorbar(ts+off,gv.mean(f0),gv.sdev(f0),fmt='o', color=f'C{i}', capsize=2.5, label=f'({n+1}+{n+1})')\n",
    "\n",
    "    tic = [np.exp(-TIC[n,tr]/2)/norm for tr in tranges]\n",
    "    ax[1].plot(ts,tic,alpha=0.1,color=f'C{i}')\n",
    "    # ax[1].scatter(ts,tic,marker='o',color=f'C{i}')\n",
    "\n",
    "    pv = [pval[n,tr] for tr in tranges]\n",
    "    ax2.scatter(ts,pv,color=f'C{i}',marker='.')\n",
    "\n",
    "\n",
    "ax[0].axhspan(ymin=stat.mean-stat.sdev,ymax=stat.mean+stat.sdev,color='gray',alpha=0.2,label='model average')\n",
    "err = np.sqrt(stat.sdev**2+syst**2)\n",
    "ax[0].axhline(stat.mean-err,color='gray',alpha=0.2,linestyle=':')\n",
    "ax[0].axhline(stat.mean+err,color='gray',alpha=0.2,linestyle=':')\n",
    "\n",
    "ax[0].grid(alpha=0.2)\n",
    "ax[0].legend(loc='lower right')\n",
    "ax[0].set_ylabel(r'$F_0$')\n",
    "\n",
    "ax[1].grid(alpha=0.2)\n",
    "# ax[1].set_ylim(-0.1,1.1)\n",
    "ax[1].set_ylabel(r'TIC weight')\n",
    "ax[1].set_xlabel(r'$\\frac{t_{min}}{a}$')\n",
    "\n",
    "ax2.set_ylabel(r'$p$-value')\n",
    "\n",
    "ax[0].set_title(f'{ENSEMBLE}_{RATIO}')\n",
    "\n",
    "plt.tight_layout()\n",
    "plt.savefig(f'/Users/pietro/Desktop/model_average_{ENSEMBLE}_{RATIO}_{MOMENTUM}.pdf')"
   ]
  },
  {
   "cell_type": "code",
   "execution_count": null,
   "metadata": {},
   "outputs": [],
   "source": []
  }
 ],
 "metadata": {
  "kernelspec": {
   "display_name": "Python 3.11.4 ('stat')",
   "language": "python",
   "name": "python3"
  },
  "language_info": {
   "codemirror_mode": {
    "name": "ipython",
    "version": 3
   },
   "file_extension": ".py",
   "mimetype": "text/x-python",
   "name": "python",
   "nbconvert_exporter": "python",
   "pygments_lexer": "ipython3",
   "version": "3.11.4"
  },
  "orig_nbformat": 4,
  "vscode": {
   "interpreter": {
    "hash": "550906e9926f0f588aff226d3abadfa0c6a614c1c5eae7bfa21377021c1cb7ed"
   }
  }
 },
 "nbformat": 4,
 "nbformat_minor": 2
}
