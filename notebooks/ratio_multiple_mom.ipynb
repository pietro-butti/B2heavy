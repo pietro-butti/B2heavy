{
 "cells": [
  {
   "cell_type": "code",
   "execution_count": 51,
   "metadata": {},
   "outputs": [],
   "source": [
    "import numpy             as np\n",
    "import gvar              as gv\n",
    "import matplotlib.pyplot as plt\n",
    "import pandas            as pd\n",
    "import lsqfit\n",
    "import itertools\n",
    "from tqdm import tqdm"
   ]
  },
  {
   "cell_type": "code",
   "execution_count": 52,
   "metadata": {},
   "outputs": [],
   "source": [
    "from b2heavy.FnalHISQMetadata import params as mData"
   ]
  },
  {
   "cell_type": "code",
   "execution_count": 53,
   "metadata": {},
   "outputs": [],
   "source": [
    "from b2heavy.ThreePointFunctions.types3pts  import Ratio, RatioIO, ratio_prerequisites, ratio_correction_factor\n",
    "from b2heavy.ThreePointFunctions.fitter3pts import RatioFitter, phys_energy_priors\n",
    "from b2heavy.ThreePointFunctions.utils      import read_config_fit, dump_fit_object"
   ]
  },
  {
   "cell_type": "code",
   "execution_count": 54,
   "metadata": {},
   "outputs": [],
   "source": [
    "DATA_DIR = '/Users/pietro/code/data_analysis/BtoD/Alex/'\n",
    "# DATA_2PT = '/Users/pietro/code/data_analysis/data/QCDNf2p1stag/B2heavy/report'\n",
    "DATA_2PT = '/Users/pietro/code/data_analysis/data/QCDNf2p1stag/B2heavy/lattice24_old'\n",
    "\n",
    "BINSIZE  = {\n",
    "    'MediumCoarse':13,\n",
    "    'Coarse-2':    16,\n",
    "    'Coarse-1':    11,\n",
    "    'Coarse-Phys': 19,\n",
    "    'Fine-1':      16,\n",
    "    'Fine-Phys':   16,\n",
    "    'SuperFine':   22\n",
    "}"
   ]
  },
  {
   "cell_type": "code",
   "execution_count": 55,
   "metadata": {},
   "outputs": [],
   "source": [
    "ENSEMBLE = 'MediumCoarse'\n",
    "RATIO    = 'QPLUS'\n",
    "SMSLIST  = ['1S','RW']\n",
    "# SMSLIST  = ['1S']\n",
    "MOMLIST  = ['100','200','300','400']\n",
    "# MOMLIST  = ['100','200','300']\n",
    "# MOMLIST  = ['000']"
   ]
  },
  {
   "cell_type": "code",
   "execution_count": 56,
   "metadata": {},
   "outputs": [],
   "source": [
    "if RATIO in ['RMINUS','RPLUS','QPLUS','XF']:\n",
    "    meson = 'D'\n",
    "else:\n",
    "    meson = 'Dst'"
   ]
  },
  {
   "cell_type": "code",
   "execution_count": 57,
   "metadata": {},
   "outputs": [],
   "source": [
    "TMIN    = 1\n",
    "NSTATES = 1"
   ]
  },
  {
   "cell_type": "code",
   "execution_count": 58,
   "metadata": {},
   "outputs": [],
   "source": [
    "requisites = ratio_prerequisites(\n",
    "    ens      = ENSEMBLE,\n",
    "    ratio    = RATIO,\n",
    "    mom      = '200',\n",
    "    readfrom = DATA_2PT,\n",
    "    jk       = False\n",
    ")"
   ]
  },
  {
   "cell_type": "code",
   "execution_count": 60,
   "metadata": {},
   "outputs": [
    {
     "data": {
      "text/plain": [
       "{'E0': 1.2408150500867592,\n",
       " 'm0': 1.1850570505776856,\n",
       " 'Z0': {'1S': 6.981485916478365, 'd': 0.1875886196484679},\n",
       " 'Zpar': {'1S': None, 'd': None},\n",
       " 'Zbot': {'1S': None, 'd': None},\n",
       " 'Zp': {'1S': 5.349652947846599, 'd': 0.19087252928272566},\n",
       " 'wrecoil': 1.0470508989266745,\n",
       " 'jk': False}"
      ]
     },
     "execution_count": 60,
     "metadata": {},
     "output_type": "execute_result"
    }
   ],
   "source": [
    "requisites"
   ]
  },
  {
   "cell_type": "code",
   "execution_count": 61,
   "metadata": {},
   "outputs": [],
   "source": [
    "io = RatioIO(ENSEMBLE,RATIO,'200',PathToDataDir=DATA_DIR)\n",
    "robj = RatioFitter(\n",
    "    io,\n",
    "    jkBin     = BINSIZE[ENSEMBLE],\n",
    "    smearing  = SMSLIST,\n",
    "    readfrom  = DATA_2PT,\n",
    "    **req\n",
    ")"
   ]
  },
  {
   "cell_type": "code",
   "execution_count": 62,
   "metadata": {},
   "outputs": [
    {
     "data": {
      "text/plain": [
       "(array([ 0,  1,  2,  3,  4,  5,  6,  7,  8,  9, 10]),\n",
       " {'1S': array([0.7579(57), 0.7338(52), 0.7015(47), 0.6678(44), 0.6334(39),\n",
       "         0.6011(36), 0.5721(32), 0.5433(29), 0.5157(27), 0.4902(26),\n",
       "         0.4784(28)], dtype=object),\n",
       "  'RW': array([0.9230(22), 0.8782(25), 0.8315(26), 0.7867(26), 0.7439(26),\n",
       "         0.7045(25), 0.6684(23), 0.6336(22), 0.6009(20), 0.5707(20),\n",
       "         0.5563(21)], dtype=object)})"
      ]
     },
     "execution_count": 62,
     "metadata": {},
     "output_type": "execute_result"
    }
   ],
   "source": [
    "robj.format()"
   ]
  },
  {
   "cell_type": "code",
   "execution_count": 63,
   "metadata": {},
   "outputs": [
    {
     "name": "stderr",
     "output_type": "stream",
     "text": [
      "<>:2: SyntaxWarning: 'float' object is not callable; perhaps you missed a comma?\n",
      "<>:2: SyntaxWarning: 'float' object is not callable; perhaps you missed a comma?\n",
      "<>:2: SyntaxWarning: 'float' object is not callable; perhaps you missed a comma?\n",
      "<>:2: SyntaxWarning: 'float' object is not callable; perhaps you missed a comma?\n",
      "<>:2: SyntaxWarning: 'float' object is not callable; perhaps you missed a comma?\n",
      "<>:3: SyntaxWarning: 'float' object is not callable; perhaps you missed a comma?\n",
      "<>:3: SyntaxWarning: 'float' object is not callable; perhaps you missed a comma?\n",
      "<>:3: SyntaxWarning: 'float' object is not callable; perhaps you missed a comma?\n",
      "<>:3: SyntaxWarning: 'float' object is not callable; perhaps you missed a comma?\n",
      "<>:3: SyntaxWarning: 'float' object is not callable; perhaps you missed a comma?\n",
      "<>:4: SyntaxWarning: 'float' object is not callable; perhaps you missed a comma?\n",
      "<>:5: SyntaxWarning: 'float' object is not callable; perhaps you missed a comma?\n",
      "<>:5: SyntaxWarning: 'float' object is not callable; perhaps you missed a comma?\n",
      "<>:5: SyntaxWarning: 'float' object is not callable; perhaps you missed a comma?\n",
      "<>:5: SyntaxWarning: 'float' object is not callable; perhaps you missed a comma?\n",
      "<>:5: SyntaxWarning: 'float' object is not callable; perhaps you missed a comma?\n",
      "<>:6: SyntaxWarning: 'float' object is not callable; perhaps you missed a comma?\n",
      "<>:6: SyntaxWarning: 'float' object is not callable; perhaps you missed a comma?\n",
      "<>:6: SyntaxWarning: 'float' object is not callable; perhaps you missed a comma?\n",
      "<>:6: SyntaxWarning: 'float' object is not callable; perhaps you missed a comma?\n",
      "<>:6: SyntaxWarning: 'float' object is not callable; perhaps you missed a comma?\n",
      "<>:7: SyntaxWarning: 'float' object is not callable; perhaps you missed a comma?\n",
      "<>:2: SyntaxWarning: 'float' object is not callable; perhaps you missed a comma?\n",
      "<>:2: SyntaxWarning: 'float' object is not callable; perhaps you missed a comma?\n",
      "<>:2: SyntaxWarning: 'float' object is not callable; perhaps you missed a comma?\n",
      "<>:2: SyntaxWarning: 'float' object is not callable; perhaps you missed a comma?\n",
      "<>:2: SyntaxWarning: 'float' object is not callable; perhaps you missed a comma?\n",
      "<>:3: SyntaxWarning: 'float' object is not callable; perhaps you missed a comma?\n",
      "<>:3: SyntaxWarning: 'float' object is not callable; perhaps you missed a comma?\n",
      "<>:3: SyntaxWarning: 'float' object is not callable; perhaps you missed a comma?\n",
      "<>:3: SyntaxWarning: 'float' object is not callable; perhaps you missed a comma?\n",
      "<>:3: SyntaxWarning: 'float' object is not callable; perhaps you missed a comma?\n",
      "<>:4: SyntaxWarning: 'float' object is not callable; perhaps you missed a comma?\n",
      "<>:5: SyntaxWarning: 'float' object is not callable; perhaps you missed a comma?\n",
      "<>:5: SyntaxWarning: 'float' object is not callable; perhaps you missed a comma?\n",
      "<>:5: SyntaxWarning: 'float' object is not callable; perhaps you missed a comma?\n",
      "<>:5: SyntaxWarning: 'float' object is not callable; perhaps you missed a comma?\n",
      "<>:5: SyntaxWarning: 'float' object is not callable; perhaps you missed a comma?\n",
      "<>:6: SyntaxWarning: 'float' object is not callable; perhaps you missed a comma?\n",
      "<>:6: SyntaxWarning: 'float' object is not callable; perhaps you missed a comma?\n",
      "<>:6: SyntaxWarning: 'float' object is not callable; perhaps you missed a comma?\n",
      "<>:6: SyntaxWarning: 'float' object is not callable; perhaps you missed a comma?\n",
      "<>:6: SyntaxWarning: 'float' object is not callable; perhaps you missed a comma?\n",
      "<>:7: SyntaxWarning: 'float' object is not callable; perhaps you missed a comma?\n",
      "/var/folders/7m/b37v945d74n14brv9wkfxwpw0000gn/T/ipykernel_25631/789396316.py:2: SyntaxWarning: 'float' object is not callable; perhaps you missed a comma?\n",
      "  {'1S': array([0.7579(57), 0.7338(52), 0.7015(47), 0.6678(44), 0.6334(39),\n",
      "/var/folders/7m/b37v945d74n14brv9wkfxwpw0000gn/T/ipykernel_25631/789396316.py:2: SyntaxWarning: 'float' object is not callable; perhaps you missed a comma?\n",
      "  {'1S': array([0.7579(57), 0.7338(52), 0.7015(47), 0.6678(44), 0.6334(39),\n",
      "/var/folders/7m/b37v945d74n14brv9wkfxwpw0000gn/T/ipykernel_25631/789396316.py:2: SyntaxWarning: 'float' object is not callable; perhaps you missed a comma?\n",
      "  {'1S': array([0.7579(57), 0.7338(52), 0.7015(47), 0.6678(44), 0.6334(39),\n",
      "/var/folders/7m/b37v945d74n14brv9wkfxwpw0000gn/T/ipykernel_25631/789396316.py:2: SyntaxWarning: 'float' object is not callable; perhaps you missed a comma?\n",
      "  {'1S': array([0.7579(57), 0.7338(52), 0.7015(47), 0.6678(44), 0.6334(39),\n",
      "/var/folders/7m/b37v945d74n14brv9wkfxwpw0000gn/T/ipykernel_25631/789396316.py:2: SyntaxWarning: 'float' object is not callable; perhaps you missed a comma?\n",
      "  {'1S': array([0.7579(57), 0.7338(52), 0.7015(47), 0.6678(44), 0.6334(39),\n",
      "/var/folders/7m/b37v945d74n14brv9wkfxwpw0000gn/T/ipykernel_25631/789396316.py:3: SyntaxWarning: 'float' object is not callable; perhaps you missed a comma?\n",
      "  0.6011(36), 0.5721(32), 0.5433(29), 0.5157(27), 0.4902(26),\n",
      "/var/folders/7m/b37v945d74n14brv9wkfxwpw0000gn/T/ipykernel_25631/789396316.py:3: SyntaxWarning: 'float' object is not callable; perhaps you missed a comma?\n",
      "  0.6011(36), 0.5721(32), 0.5433(29), 0.5157(27), 0.4902(26),\n",
      "/var/folders/7m/b37v945d74n14brv9wkfxwpw0000gn/T/ipykernel_25631/789396316.py:3: SyntaxWarning: 'float' object is not callable; perhaps you missed a comma?\n",
      "  0.6011(36), 0.5721(32), 0.5433(29), 0.5157(27), 0.4902(26),\n",
      "/var/folders/7m/b37v945d74n14brv9wkfxwpw0000gn/T/ipykernel_25631/789396316.py:3: SyntaxWarning: 'float' object is not callable; perhaps you missed a comma?\n",
      "  0.6011(36), 0.5721(32), 0.5433(29), 0.5157(27), 0.4902(26),\n",
      "/var/folders/7m/b37v945d74n14brv9wkfxwpw0000gn/T/ipykernel_25631/789396316.py:3: SyntaxWarning: 'float' object is not callable; perhaps you missed a comma?\n",
      "  0.6011(36), 0.5721(32), 0.5433(29), 0.5157(27), 0.4902(26),\n",
      "/var/folders/7m/b37v945d74n14brv9wkfxwpw0000gn/T/ipykernel_25631/789396316.py:4: SyntaxWarning: 'float' object is not callable; perhaps you missed a comma?\n",
      "  0.4784(28)], dtype=object),\n",
      "/var/folders/7m/b37v945d74n14brv9wkfxwpw0000gn/T/ipykernel_25631/789396316.py:5: SyntaxWarning: 'float' object is not callable; perhaps you missed a comma?\n",
      "  'RW': array([0.9230(22), 0.8782(25), 0.8315(26), 0.7867(26), 0.7439(26),\n",
      "/var/folders/7m/b37v945d74n14brv9wkfxwpw0000gn/T/ipykernel_25631/789396316.py:5: SyntaxWarning: 'float' object is not callable; perhaps you missed a comma?\n",
      "  'RW': array([0.9230(22), 0.8782(25), 0.8315(26), 0.7867(26), 0.7439(26),\n",
      "/var/folders/7m/b37v945d74n14brv9wkfxwpw0000gn/T/ipykernel_25631/789396316.py:5: SyntaxWarning: 'float' object is not callable; perhaps you missed a comma?\n",
      "  'RW': array([0.9230(22), 0.8782(25), 0.8315(26), 0.7867(26), 0.7439(26),\n",
      "/var/folders/7m/b37v945d74n14brv9wkfxwpw0000gn/T/ipykernel_25631/789396316.py:5: SyntaxWarning: 'float' object is not callable; perhaps you missed a comma?\n",
      "  'RW': array([0.9230(22), 0.8782(25), 0.8315(26), 0.7867(26), 0.7439(26),\n",
      "/var/folders/7m/b37v945d74n14brv9wkfxwpw0000gn/T/ipykernel_25631/789396316.py:5: SyntaxWarning: 'float' object is not callable; perhaps you missed a comma?\n",
      "  'RW': array([0.9230(22), 0.8782(25), 0.8315(26), 0.7867(26), 0.7439(26),\n",
      "/var/folders/7m/b37v945d74n14brv9wkfxwpw0000gn/T/ipykernel_25631/789396316.py:6: SyntaxWarning: 'float' object is not callable; perhaps you missed a comma?\n",
      "  0.7045(25), 0.6684(23), 0.6336(22), 0.6009(20), 0.5707(20),\n",
      "/var/folders/7m/b37v945d74n14brv9wkfxwpw0000gn/T/ipykernel_25631/789396316.py:6: SyntaxWarning: 'float' object is not callable; perhaps you missed a comma?\n",
      "  0.7045(25), 0.6684(23), 0.6336(22), 0.6009(20), 0.5707(20),\n",
      "/var/folders/7m/b37v945d74n14brv9wkfxwpw0000gn/T/ipykernel_25631/789396316.py:6: SyntaxWarning: 'float' object is not callable; perhaps you missed a comma?\n",
      "  0.7045(25), 0.6684(23), 0.6336(22), 0.6009(20), 0.5707(20),\n",
      "/var/folders/7m/b37v945d74n14brv9wkfxwpw0000gn/T/ipykernel_25631/789396316.py:6: SyntaxWarning: 'float' object is not callable; perhaps you missed a comma?\n",
      "  0.7045(25), 0.6684(23), 0.6336(22), 0.6009(20), 0.5707(20),\n",
      "/var/folders/7m/b37v945d74n14brv9wkfxwpw0000gn/T/ipykernel_25631/789396316.py:6: SyntaxWarning: 'float' object is not callable; perhaps you missed a comma?\n",
      "  0.7045(25), 0.6684(23), 0.6336(22), 0.6009(20), 0.5707(20),\n",
      "/var/folders/7m/b37v945d74n14brv9wkfxwpw0000gn/T/ipykernel_25631/789396316.py:7: SyntaxWarning: 'float' object is not callable; perhaps you missed a comma?\n",
      "  0.5563(21)], dtype=object)})\n"
     ]
    },
    {
     "ename": "NameError",
     "evalue": "name 'array' is not defined",
     "output_type": "error",
     "traceback": [
      "\u001b[0;31m---------------------------------------------------------------------------\u001b[0m",
      "\u001b[0;31mNameError\u001b[0m                                 Traceback (most recent call last)",
      "Cell \u001b[0;32mIn[63], line 1\u001b[0m\n\u001b[0;32m----> 1\u001b[0m (\u001b[43marray\u001b[49m([ \u001b[38;5;241m0\u001b[39m,  \u001b[38;5;241m1\u001b[39m,  \u001b[38;5;241m2\u001b[39m,  \u001b[38;5;241m3\u001b[39m,  \u001b[38;5;241m4\u001b[39m,  \u001b[38;5;241m5\u001b[39m,  \u001b[38;5;241m6\u001b[39m,  \u001b[38;5;241m7\u001b[39m,  \u001b[38;5;241m8\u001b[39m,  \u001b[38;5;241m9\u001b[39m, \u001b[38;5;241m10\u001b[39m]),\n\u001b[1;32m      2\u001b[0m  {\u001b[38;5;124m'\u001b[39m\u001b[38;5;124m1S\u001b[39m\u001b[38;5;124m'\u001b[39m: array([\u001b[38;5;241m0.7579\u001b[39m(\u001b[38;5;241m57\u001b[39m), \u001b[38;5;241m0.7338\u001b[39m(\u001b[38;5;241m52\u001b[39m), \u001b[38;5;241m0.7015\u001b[39m(\u001b[38;5;241m47\u001b[39m), \u001b[38;5;241m0.6678\u001b[39m(\u001b[38;5;241m44\u001b[39m), \u001b[38;5;241m0.6334\u001b[39m(\u001b[38;5;241m39\u001b[39m),\n\u001b[1;32m      3\u001b[0m          \u001b[38;5;241m0.6011\u001b[39m(\u001b[38;5;241m36\u001b[39m), \u001b[38;5;241m0.5721\u001b[39m(\u001b[38;5;241m32\u001b[39m), \u001b[38;5;241m0.5433\u001b[39m(\u001b[38;5;241m29\u001b[39m), \u001b[38;5;241m0.5157\u001b[39m(\u001b[38;5;241m27\u001b[39m), \u001b[38;5;241m0.4902\u001b[39m(\u001b[38;5;241m26\u001b[39m),\n\u001b[1;32m      4\u001b[0m          \u001b[38;5;241m0.4784\u001b[39m(\u001b[38;5;241m28\u001b[39m)], dtype\u001b[38;5;241m=\u001b[39m\u001b[38;5;28mobject\u001b[39m),\n\u001b[1;32m      5\u001b[0m   \u001b[38;5;124m'\u001b[39m\u001b[38;5;124mRW\u001b[39m\u001b[38;5;124m'\u001b[39m: array([\u001b[38;5;241m0.9230\u001b[39m(\u001b[38;5;241m22\u001b[39m), \u001b[38;5;241m0.8782\u001b[39m(\u001b[38;5;241m25\u001b[39m), \u001b[38;5;241m0.8315\u001b[39m(\u001b[38;5;241m26\u001b[39m), \u001b[38;5;241m0.7867\u001b[39m(\u001b[38;5;241m26\u001b[39m), \u001b[38;5;241m0.7439\u001b[39m(\u001b[38;5;241m26\u001b[39m),\n\u001b[1;32m      6\u001b[0m          \u001b[38;5;241m0.7045\u001b[39m(\u001b[38;5;241m25\u001b[39m), \u001b[38;5;241m0.6684\u001b[39m(\u001b[38;5;241m23\u001b[39m), \u001b[38;5;241m0.6336\u001b[39m(\u001b[38;5;241m22\u001b[39m), \u001b[38;5;241m0.6009\u001b[39m(\u001b[38;5;241m20\u001b[39m), \u001b[38;5;241m0.5707\u001b[39m(\u001b[38;5;241m20\u001b[39m),\n\u001b[1;32m      7\u001b[0m          \u001b[38;5;241m0.5563\u001b[39m(\u001b[38;5;241m21\u001b[39m)], dtype\u001b[38;5;241m=\u001b[39m\u001b[38;5;28mobject\u001b[39m)})\n",
      "\u001b[0;31mNameError\u001b[0m: name 'array' is not defined"
     ]
    }
   ],
   "source": [
    "(array([ 0,  1,  2,  3,  4,  5,  6,  7,  8,  9, 10]),\n",
    " {'1S': array([0.7579(57), 0.7338(52), 0.7015(47), 0.6678(44), 0.6334(39),\n",
    "         0.6011(36), 0.5721(32), 0.5433(29), 0.5157(27), 0.4902(26),\n",
    "         0.4784(28)], dtype=object),\n",
    "  'RW': array([0.9230(22), 0.8782(25), 0.8315(26), 0.7867(26), 0.7439(26),\n",
    "         0.7045(25), 0.6684(23), 0.6336(22), 0.6009(20), 0.5707(20),\n",
    "         0.5563(21)], dtype=object)})"
   ]
  },
  {
   "cell_type": "code",
   "execution_count": 64,
   "metadata": {},
   "outputs": [
    {
     "name": "stdout",
     "output_type": "stream",
     "text": [
      "# ---------- chi^2_exp analysis -------------\n",
      "# chi2_exp = 18.00000000000026 +/- 6.0000000000000435 \n",
      "# p-value [eval] = 0.352\n",
      "# p-value [MC]   = 0.35629999999999995\n",
      "# ---------- 1+1 fit in (1, 9) for mes: QPLUS of ens: MediumCoarse for mom: 100 --------------\n",
      "Least Square Fit:\n",
      "  chi2/dof [dof] = 1 [18]    Q = 0.42    logGBF = 84.089\n",
      "\n",
      "Parameters:\n",
      "        ratio 0    0.9905 (19)      [  0.99 (10) ]  \n",
      "         A_1S 0   -0.0086 (37)      [    0 ± 1.0 ]  \n",
      "         B_1S 0    0.0030 (16)      [    0 ± 1.0 ]  \n",
      "         A_RW 0    0.0038 (22)      [    0 ± 1.0 ]  \n",
      "         B_RW 0    0.0034 (14)      [    0 ± 1.0 ]  \n",
      "       dE_src 0     -1.27 (30)      [ -0.76 (50) ]  *\n",
      "       dE_snk 0     -1.03 (46)      [ -1.08 (50) ]  \n",
      "\n",
      "Settings:\n",
      "  svdcut/n = 0/0    tol = (1e-08,1e-10,1e-10*)    (itns/time = 15/0.0)\n",
      "  fitter = scipy_least_squares    method = trf\n",
      "\n",
      "# red chi2       = 17.56\n",
      "# aug chi2       = 18.59\n",
      "# chi2_exp       = 18.00\n",
      "# chi2/chi_exp   = 1.03\n",
      "# p-value (exp)  = 0.35\n",
      "# p-value (std)  = 0.12\n",
      "# ---------- chi^2_exp analysis -------------\n",
      "# chi2_exp = 18.000000000000217 +/- 5.999999999999916 \n",
      "# p-value [eval] = 0.2142\n",
      "# p-value [MC]   = 0.21340000000000003\n",
      "# ---------- 1+1 fit in (1, 9) for mes: QPLUS of ens: MediumCoarse for mom: 200 --------------\n",
      "Least Square Fit:\n",
      "  chi2/dof [dof] = 0.93 [18]    Q = 0.54    logGBF = 73.414\n",
      "\n",
      "Parameters:\n",
      "        ratio 0    0.9643 (53)      [  0.96 (10) ]  \n",
      "         A_1S 0   -0.0495 (80)      [    0 ± 1.0 ]  \n",
      "         B_1S 0    0.0168 (50)      [    0 ± 1.0 ]  \n",
      "         A_RW 0   -0.0017 (56)      [    0 ± 1.0 ]  \n",
      "         B_RW 0    0.0196 (44)      [    0 ± 1.0 ]  \n",
      "       dE_src 0     -1.19 (20)      [ -0.67 (50) ]  *\n",
      "       dE_snk 0     -0.97 (34)      [ -0.85 (50) ]  \n",
      "\n",
      "Settings:\n",
      "  svdcut/n = 0/0    tol = (1e-08,1e-10,1e-10*)    (itns/time = 15/0.0)\n",
      "  fitter = scipy_least_squares    method = trf\n",
      "\n",
      "# red chi2       = 15.65\n",
      "# aug chi2       = 16.79\n",
      "# chi2_exp       = 18.00\n",
      "# chi2/chi_exp   = 0.93\n",
      "# p-value (exp)  = 0.21\n",
      "# p-value (std)  = 0.19\n",
      "# ---------- chi^2_exp analysis -------------\n",
      "# chi2_exp = 18.00000000000004 +/- 6.000000000000026 \n",
      "# p-value [eval] = 0.5602\n",
      "# p-value [MC]   = 0.5634\n",
      "# ---------- 1+1 fit in (1, 9) for mes: QPLUS of ens: MediumCoarse for mom: 300 --------------\n",
      "Least Square Fit:\n",
      "  chi2/dof [dof] = 0.82 [18]    Q = 0.68    logGBF = 66.091\n",
      "\n",
      "Parameters:\n",
      "        ratio 0   0.9266 (84)     [  0.92 (10) ]  \n",
      "         A_1S 0   -0.096 (13)     [    0 ± 1.0 ]  \n",
      "         B_1S 0   0.0102 (98)     [    0 ± 1.0 ]  \n",
      "         A_RW 0   0.0116 (96)     [    0 ± 1.0 ]  \n",
      "         B_RW 0   0.0205 (72)     [    0 ± 1.0 ]  \n",
      "       dE_src 0    -1.23 (17)     [ -0.78 (50) ]  \n",
      "       dE_snk 0    -0.87 (41)     [ -1.05 (50) ]  \n",
      "\n",
      "Settings:\n",
      "  svdcut/n = 0/0    tol = (1e-08,1e-10,1e-10*)    (itns/time = 12/0.0)\n",
      "  fitter = scipy_least_squares    method = trf\n",
      "\n",
      "# red chi2       = 13.85\n",
      "# aug chi2       = 14.80\n",
      "# chi2_exp       = 18.00\n",
      "# chi2/chi_exp   = 0.82\n",
      "# p-value (exp)  = 0.56\n",
      "# p-value (std)  = 0.28\n",
      "# ---------- chi^2_exp analysis -------------\n",
      "# chi2_exp = 17.999999999999876 +/- 5.999999999999987 \n",
      "# p-value [eval] = 0.8499\n",
      "# p-value [MC]   = 0.846\n",
      "# ---------- 1+1 fit in (1, 9) for mes: QPLUS of ens: MediumCoarse for mom: 400 --------------\n",
      "Least Square Fit:\n",
      "  chi2/dof [dof] = 0.65 [18]    Q = 0.86    logGBF = 59.879\n",
      "\n",
      "Parameters:\n",
      "        ratio 0    0.893 (13)     [  0.87 (10) ]  \n",
      "         A_1S 0   -0.170 (19)     [    0 ± 1.0 ]  \n",
      "         B_1S 0   -0.009 (24)     [    0 ± 1.0 ]  \n",
      "         A_RW 0    0.013 (16)     [    0 ± 1.0 ]  \n",
      "         B_RW 0    0.012 (14)     [    0 ± 1.0 ]  \n",
      "       dE_src 0    -1.23 (18)     [ -0.78 (50) ]  \n",
      "       dE_snk 0    -0.88 (47)     [ -1.07 (50) ]  \n",
      "\n",
      "Settings:\n",
      "  svdcut/n = 0/0    tol = (1e-08,1e-10,1e-10*)    (itns/time = 10/0.0)\n",
      "  fitter = scipy_least_squares    method = trf\n",
      "\n",
      "# red chi2       = 10.68\n",
      "# aug chi2       = 11.71\n",
      "# chi2_exp       = 18.00\n",
      "# chi2/chi_exp   = 0.65\n",
      "# p-value (exp)  = 0.85\n",
      "# p-value (std)  = 0.51\n"
     ]
    },
    {
     "data": {
      "text/plain": [
       "Text(0.5, 1.0, 'MediumCoarse QPLUS')"
      ]
     },
     "execution_count": 64,
     "metadata": {},
     "output_type": "execute_result"
    },
    {
     "data": {
      "image/png": "[encoded data removed]",
      "text/plain": [
       "<Figure size 500x500 with 1 Axes>"
      ]
     },
     "metadata": {},
     "output_type": "display_data"
    }
   ],
   "source": [
    "plt.rcParams['text.usetex'] = True\n",
    "plt.rcParams['font.size'] = 12\n",
    "\n",
    "f, ax = plt.subplots(1,1,figsize=(5,5))\n",
    "\n",
    "fits = []\n",
    "f0s = []\n",
    "for i,mom in enumerate(MOMLIST):\n",
    "    requisites = ratio_prerequisites(\n",
    "        ens      = ENSEMBLE,\n",
    "        ratio    = RATIO,\n",
    "        mom      = mom,\n",
    "        readfrom = DATA_2PT,\n",
    "        jk       = False\n",
    "    )\n",
    "\n",
    "    io = RatioIO(ENSEMBLE,RATIO,mom,PathToDataDir=DATA_DIR)\n",
    "    robj = RatioFitter(\n",
    "        io,\n",
    "        jkBin     = BINSIZE[ENSEMBLE],\n",
    "        smearing  = SMSLIST,\n",
    "        readfrom  = DATA_2PT,\n",
    "        **requisites\n",
    "    )\n",
    "\n",
    "    trange = (TMIN, robj.Ta-TMIN)\n",
    "\n",
    "    cov_specs = dict(\n",
    "        diag   = False,\n",
    "        block  = False,\n",
    "        scale  = True,\n",
    "        shrink = True,\n",
    "        cutsvd = 1E-12\n",
    "    )\n",
    "\n",
    "    dE_src = phys_energy_priors(ENSEMBLE,meson,mom,NSTATES,readfrom=DATA_2PT, error=0.5)\n",
    "    dE_snk = phys_energy_priors(ENSEMBLE,'B'  ,mom,NSTATES,readfrom=DATA_2PT, error=0.5)\n",
    "    x,ydata = robj.format(trange,flatten=True)\n",
    "    pr = robj.priors(NSTATES, dE_src=dE_src, dE_snk=dE_snk)\n",
    "\n",
    "    fit = robj.fit(\n",
    "        Nstates = NSTATES,\n",
    "        trange  = trange,\n",
    "        priors  = pr,\n",
    "        verbose = False,\n",
    "        **cov_specs\n",
    "    )\n",
    "\n",
    "    res = robj.fit_result(\n",
    "        Nexc   = NSTATES,\n",
    "        trange = trange,\n",
    "        priors = pr \n",
    "    )\n",
    "\n",
    "    fits.append({\n",
    "        'ensemble': ENSEMBLE,\n",
    "        'ratio'   : RATIO,\n",
    "        'momentum': mom,\n",
    "        'f0'      : fit.p['ratio'][0],\n",
    "        'chiexp'  : res['chiexp'],\n",
    "        'pstd'    : res['pstd']\n",
    "    })\n",
    "\n",
    "\n",
    "    alpha = 0.2 if mom=='400' else 1.\n",
    "    robj.plot_fit(ax,NSTATES,trange,color=f'C{i}',color_res=f'C{i}',alpha=alpha)\n",
    "\n",
    "    ax.scatter([],[], marker='o', color=f'C{i}', label=mom)\n",
    "\n",
    "\n",
    "    f0s.append(fit.p['ratio'][0])\n",
    "\n",
    "ax.errorbar([],[],[],fmt='o', ecolor='gray', mfc='w', color='gray', capsize=2.5, label='1S')\n",
    "ax.errorbar([],[],[],fmt='^', ecolor='gray', mfc='w', color='gray', capsize=2.5, label='d')\n",
    "\n",
    "# ax.set_xlim(-0.5,13)\n",
    "# ax.set_ylim(ymax=0.08)\n",
    "ax.grid(alpha=0.2)\n",
    "ax.legend()\n",
    "\n",
    "ax.set_xlabel(r'$t_{min}/a$')\n",
    "\n",
    "ax.set_title(f'{ENSEMBLE} {RATIO}')\n",
    "\n",
    "\n",
    "# plt.savefig(f'/Users/pietro/Desktop/{ENSEMBLE}_{RATIO}_multimom.pdf')"
   ]
  },
  {
   "cell_type": "code",
   "execution_count": 65,
   "metadata": {},
   "outputs": [
    {
     "name": "stdout",
     "output_type": "stream",
     "text": [
      "                                     f0  chiexp      pstd\n",
      "ensemble     ratio momentum                              \n",
      "MediumCoarse QPLUS 100       0.9905(19)    18.0  0.119354\n",
      "                   200       0.9643(53)    18.0  0.188349\n",
      "                   300       0.9266(84)    18.0  0.280449\n",
      "                   400        0.893(13)    18.0  0.509228\n"
     ]
    }
   ],
   "source": [
    "print(pd.DataFrame(fits).set_index(['ensemble','ratio','momentum']))"
   ]
  },
  {
   "cell_type": "code",
   "execution_count": 50,
   "metadata": {},
   "outputs": [
    {
     "data": {
      "image/png": "[encoded data removed]",
      "text/plain": [
       "<Figure size 500x500 with 1 Axes>"
      ]
     },
     "metadata": {},
     "output_type": "display_data"
    }
   ],
   "source": [
    "f, ax = plt.subplots(1,1,figsize=(5,5))\n",
    "\n",
    "robj.plot(ax)"
   ]
  },
  {
   "cell_type": "code",
   "execution_count": null,
   "metadata": {},
   "outputs": [],
   "source": []
  }
 ],
 "metadata": {
  "kernelspec": {
   "display_name": "Python 3.11.4 ('stat')",
   "language": "python",
   "name": "python3"
  },
  "language_info": {
   "codemirror_mode": {
    "name": "ipython",
    "version": 3
   },
   "file_extension": ".py",
   "mimetype": "text/x-python",
   "name": "python",
   "nbconvert_exporter": "python",
   "pygments_lexer": "ipython3",
   "version": "3.11.4"
  },
  "orig_nbformat": 4,
  "vscode": {
   "interpreter": {
    "hash": "550906e9926f0f588aff226d3abadfa0c6a614c1c5eae7bfa21377021c1cb7ed"
   }
  }
 },
 "nbformat": 4,
 "nbformat_minor": 2
}
