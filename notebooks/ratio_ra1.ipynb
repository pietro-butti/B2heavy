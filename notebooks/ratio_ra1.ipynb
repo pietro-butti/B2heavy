{
 "cells": [
  {
   "cell_type": "code",
   "execution_count": 43,
   "metadata": {},
   "outputs": [],
   "source": [
    "import os\n",
    "import h5py\n",
    "import gvar   as gv\n",
    "import numpy  as np\n",
    "import pandas as pd\n",
    "from   matplotlib import pyplot as plt\n",
    "\n",
    "def RatioFileString(name,ts,h,hss,q,l,p):\n",
    "    return f'{name}T{ts}{h}_RW_{hss}_rot_rot{q}{l}_p{p}'\n",
    "\n",
    "def format(v):\n",
    "    return gv.gvar(\n",
    "        v.mean(axis=0),\n",
    "        v.std(axis=0) * np.sqrt(v.shape[0]-1)\n",
    "    )\n",
    "\n",
    "def plot(v):\n",
    "    plt.errorbar(\n",
    "        np.arange(len(v)),\n",
    "        gv.mean(v),\n",
    "        gv.sdev(v),\n",
    "        fmt='.'\n",
    "    )\n",
    "\n",
    "def jkCorr(data, bsize=1):\n",
    "    if bsize==0:\n",
    "        return data\n",
    "    else:\n",
    "        rData = (data.shape[0]//bsize)\n",
    "        nData = rData*bsize\n",
    "        dIn   = data[0:nData,:]\n",
    "\n",
    "        avg   = dIn.mean(axis=0)\n",
    "\n",
    "        base  = dIn.sum(axis=0) # avg * nData\n",
    "\n",
    "        dOut  = dIn * 0.0\n",
    "\n",
    "        for cf in range(rData):\n",
    "            pvg = dIn[cf*bsize:(cf+1)*bsize,:].sum(axis=0)\n",
    "            dOut[cf,:] = (base - pvg)/(nData - bsize)\n",
    "\n",
    "        return dOut[:rData,:]"
   ]
  },
  {
   "cell_type": "markdown",
   "metadata": {},
   "source": [
    "In the following cell import `FnalHISQMetadata` module giving the correct path"
   ]
  },
  {
   "cell_type": "code",
   "execution_count": 44,
   "metadata": {},
   "outputs": [],
   "source": [
    "from b2heavy.FnalHISQMetadata import params # change\n",
    "\n",
    "ens = 'Coarse-1'\n",
    "mom = '300'\n",
    "jk  = 11\n",
    "\n",
    "mdata = params(ens)\n",
    "Ta,Tb = mdata['hSinks']\n",
    "\n",
    "heavy = '_k' + mdata['kBStr']\n",
    "light = '_k' + mdata['kDStr']\n",
    "qq    = '_m' + mdata['mlStr']\n",
    "\n",
    "data = h5py.File(f'/Users/pietro/code/data_analysis/BtoD/Alex/Ensembles/FnalHISQ/a0.12/{mdata[\"hdf5File2\"]}')\n",
    "data = data['data']"
   ]
  },
  {
   "cell_type": "markdown",
   "metadata": {},
   "source": [
    "$$\n",
    " R_{A_1}(\\mathbf{p}_\\perp,t,T) = \\frac{ C_{B_{1S}\\rightarrow D^*_a}^{A_j}(\\mathbf{p}_\\perp,t,T) \\,\\, C_{D^*_a\\rightarrow B_{1S}}^{A_j}(\\mathbf{p}_\\perp,t,T) }{  C_{D^*_a\\rightarrow D^*_{1S}}^{V_4}(\\mathbf{0},t,T) \\,\\,   C_{B_{1S}\\rightarrow B_{1S}}^{V_4}(\\mathbf{0},t,T) } / \\Biggl[\\frac{Z_{D^*_a}(\\mathbf p_\\perp)}{\\sqrt{Z_{D^*_a}(0)Z_{D_{1S}^*}(0)}} \\frac{{M_{D^*}}^2}{{E^2_{D^*}}(\\mathbb p)} e^{-({E_{D^*}}(\\mathbb p) - M_{D^*})T}\\Biggr]\n",
    "$$ "
   ]
  },
  {
   "cell_type": "markdown",
   "metadata": {},
   "source": [
    "## Reading\n",
    "\n",
    "in the following cells we read the data from the archive and we build the uncorrected ratio for each smearing and each sink time and we put it in a dictionary `data_read`"
   ]
  },
  {
   "cell_type": "code",
   "execution_count": 65,
   "metadata": {},
   "outputs": [
    {
     "name": "stdout",
     "output_type": "stream",
     "text": [
      "------------- tsink = 12 --------- smr = '1S' -------------------\n",
      "P5_A2_V2_T12_k0.08574_RW_1S_rot_rot_m0.00507_k0.12201_p300\n",
      "V1_V4_V1_T12_k0.12201_RW_1S_rot_rot_m0.00507_k0.12201_p000\n",
      "P5_V4_P5_T12_k0.08574_RW_1S_rot_rot_m0.00507_k0.08574_p000\n",
      "------------- tsink = 13 --------- smr = '1S' -------------------\n",
      "P5_A2_V2_T13_k0.08574_RW_1S_rot_rot_m0.00507_k0.12201_p300\n",
      "V1_V4_V1_T13_k0.12201_RW_1S_rot_rot_m0.00507_k0.12201_p000\n",
      "P5_V4_P5_T13_k0.08574_RW_1S_rot_rot_m0.00507_k0.08574_p000\n",
      "------------- tsink = 12 --------- smr = 'RW' -------------------\n",
      "P5_A2_V2_T12_k0.08574_RW_RW_rot_rot_m0.00507_k0.12201_p300\n",
      "V1_V4_V1_T12_k0.12201_RW_RW_rot_rot_m0.00507_k0.12201_p000\n",
      "P5_V4_P5_T12_k0.08574_RW_RW_rot_rot_m0.00507_k0.08574_p000\n",
      "------------- tsink = 13 --------- smr = 'RW' -------------------\n",
      "P5_A2_V2_T13_k0.08574_RW_RW_rot_rot_m0.00507_k0.12201_p300\n",
      "V1_V4_V1_T13_k0.12201_RW_RW_rot_rot_m0.00507_k0.12201_p000\n",
      "P5_V4_P5_T13_k0.08574_RW_RW_rot_rot_m0.00507_k0.08574_p000\n"
     ]
    }
   ],
   "source": [
    "data_read = {}\n",
    "for smr in ['1S','RW']:\n",
    "    data_read[smr] = {}\n",
    "    for tsink in [Ta,Tb]:\n",
    "        print(f'------------- {tsink = } --------- {smr = } -------------------')\n",
    "\n",
    "        # Numerator 1\n",
    "        corr = RatioFileString('P5_A2_V2_',tsink,heavy,smr,qq,light,mom) # T sink 1\n",
    "        num1 = jkCorr(data[corr][:,:Ta+1])\n",
    "        print(corr)\n",
    "\n",
    "        # Numerator 2\n",
    "        num2 = np.flip(num1,axis=-1)\n",
    "\n",
    "        # Denominator 1\n",
    "        corr = RatioFileString('V1_V4_V1_',tsink,light,smr,qq,light,'000') # T sink 1\n",
    "        den1 = jkCorr(data[corr][:,:Ta+1])\n",
    "        print(corr)\n",
    "\n",
    "        # Denominator 2\n",
    "        corr = RatioFileString('P5_V4_P5_',tsink,heavy,smr,qq,heavy,'000') # T sink 1\n",
    "        den2 = jkCorr(data[corr][:,:Ta+1])\n",
    "        print(corr)\n",
    "\n",
    "\n",
    "        data_read[smr][tsink] = num1 * num2 / den1 / den2"
   ]
  },
  {
   "cell_type": "code",
   "execution_count": 81,
   "metadata": {},
   "outputs": [
    {
     "name": "stdout",
     "output_type": "stream",
     "text": [
      "-------------- tsink = 12 smr = '1S' --------------\n",
      "[0.0401(54) 0.0434(43) 0.0463(44) 0.0484(44) 0.0487(45) 0.0489(46)\n",
      " 0.0485(47) 0.0489(46) 0.0486(45) 0.0483(44) 0.0462(44) 0.0432(43)\n",
      " 0.0395(53)]\n",
      "-------------- tsink = 13 smr = '1S' --------------\n",
      "[0.0249(30) 0.0219(26) 0.0229(25) 0.0236(26) 0.0240(27) 0.0241(28)\n",
      " 0.0244(28) 0.0242(28) 0.0241(27) 0.0235(26) 0.0228(25) 0.0218(25)\n",
      " 0.0222(27)]\n",
      "-------------- tsink = 12 smr = 'RW' --------------\n",
      "[0.144(13) 0.1013(77) 0.0988(71) 0.0954(67) 0.0916(65) 0.0934(66)\n",
      " 0.0950(69) 0.0928(66) 0.0908(64) 0.0946(66) 0.0959(69) 0.0960(73)\n",
      " 0.109(10)]\n",
      "-------------- tsink = 13 smr = 'RW' --------------\n",
      "[0.0846(70) 0.0547(44) 0.0509(40) 0.0478(38) 0.0469(38) 0.0462(39)\n",
      " 0.0464(40) 0.0462(39) 0.0466(38) 0.0480(38) 0.0500(39) 0.0518(42)\n",
      " 0.0595(49)]\n"
     ]
    }
   ],
   "source": [
    "for smr in data_read:\n",
    "    for tsink in data_read[smr]:\n",
    "        print(f'-------------- {tsink = } {smr = } --------------')\n",
    "        print(format(data_read[smr][tsink]))"
   ]
  },
  {
   "cell_type": "markdown",
   "metadata": {},
   "source": [
    "## Build correction factor\n",
    "\n",
    "In the following cell we build the correction factor\n",
    "$$\\frac{Z_{D^*_a}(\\mathbf p_\\perp)}{\\sqrt{Z_{D^*_a}(0)Z_{D_{1S}^*}(0)}} \\frac{{M_{D^*}}^2}{{E^2_{D^*}}(\\mathbf p)}$$"
   ]
  },
  {
   "cell_type": "code",
   "execution_count": 68,
   "metadata": {},
   "outputs": [],
   "source": [
    "# This cell has only to be evaluated if next python cell is not\n",
    "\n",
    "from b2heavy.ThreePointFunctions.types3pts import ratio_prerequisites\n",
    "\n",
    "frm = '/Users/pietro/code/data_analysis/data/QCDNf2p1stag/B2heavy/lattice24_old'\n",
    "req = ratio_prerequisites(ens,'RA1',mom,readfrom=frm)"
   ]
  },
  {
   "cell_type": "markdown",
   "metadata": {},
   "source": [
    "Fill the following cells with appropriate values"
   ]
  },
  {
   "cell_type": "code",
   "execution_count": 69,
   "metadata": {},
   "outputs": [],
   "source": [
    "req = {\n",
    "    'E0': 1.1795030243540996,\n",
    "    'm0': 1.0811885828863745,\n",
    "    'Z0':   {'1S': 4.834848433376765,  'd': 0.04165271597466671},\n",
    "    'Zpar': {'1S': 1.65041624880138,   'd': 0.03411249733835417},\n",
    "    'Zbot': {'1S': 1.1715987932859104, 'd': 0.026111483753158932},\n",
    "}"
   ]
  },
  {
   "cell_type": "code",
   "execution_count": 72,
   "metadata": {},
   "outputs": [
    {
     "data": {
      "text/plain": [
       "{'1S': 0.2036108120912836, 'RW': 0.048890360623124775}"
      ]
     },
     "execution_count": 72,
     "metadata": {},
     "output_type": "execute_result"
    }
   ],
   "source": [
    "factor = {\n",
    "    '1S': req['Zbot']['1S']/np.sqrt( req['Z0']['1S'] * req['Z0']['1S']) * (req['m0']/req['E0'])**2,\n",
    "    'RW': req['Zbot']['d' ]/np.sqrt( req['Z0']['d' ] * req['Z0']['1S']) * (req['m0']/req['E0'])**2,\n",
    "}\n",
    "\n",
    "factor"
   ]
  },
  {
   "cell_type": "markdown",
   "metadata": {},
   "source": [
    "here we divide the data that we read by the correction factor"
   ]
  },
  {
   "cell_type": "code",
   "execution_count": 82,
   "metadata": {},
   "outputs": [
    {
     "name": "stdout",
     "output_type": "stream",
     "text": [
      "-------------- tsink = 12 smr = '1S' --------------\n",
      "[0.197(27) 0.213(21) 0.227(22) 0.238(22) 0.239(22) 0.240(23) 0.238(23)\n",
      " 0.240(23) 0.238(22) 0.237(22) 0.227(21) 0.212(21) 0.194(26)]\n",
      "-------------- tsink = 13 smr = '1S' --------------\n",
      "[0.122(15) 0.108(13) 0.112(12) 0.116(13) 0.118(13) 0.119(14) 0.120(14)\n",
      " 0.119(14) 0.119(13) 0.116(13) 0.112(12) 0.107(13) 0.109(13)]\n",
      "-------------- tsink = 12 smr = 'RW' --------------\n",
      "[2.94(27) 2.07(16) 2.02(14) 1.95(14) 1.87(13) 1.91(14) 1.94(14) 1.90(13)\n",
      " 1.86(13) 1.93(14) 1.96(14) 1.96(15) 2.23(21)]\n",
      "-------------- tsink = 13 smr = 'RW' --------------\n",
      "[1.73(14) 1.119(90) 1.041(82) 0.978(77) 0.958(78) 0.944(80) 0.949(83)\n",
      " 0.945(80) 0.954(78) 0.981(78) 1.023(81) 1.059(87) 1.22(10)]\n"
     ]
    }
   ],
   "source": [
    "data_corr = {smr: {} for smr in data_read}\n",
    "\n",
    "for smr in data_read:\n",
    "    for tsink in data_read[smr]:\n",
    "        data_corr[smr][tsink] = data_read[smr][tsink] / factor[smr]\n",
    "        print(f'-------------- {tsink = } {smr = } --------------')\n",
    "        print(format(data_corr[smr][tsink]))"
   ]
  },
  {
   "cell_type": "markdown",
   "metadata": {},
   "source": [
    "## Exponentials + smoothening\n",
    "\n",
    "$$\n",
    "\\bar R_{A_1}(t,T) = \\frac{1}{2}R_{A_1}(t,T) e^{(E-M)T} + \\frac{1}{4}R_{A_1}(t,T+1) e^{(E-M)(T+1)} + \\frac{1}{4}R_{A_1}(t+1,T+1) e^{(E-M)(T+1)}\n",
    "$$"
   ]
  },
  {
   "cell_type": "code",
   "execution_count": 98,
   "metadata": {},
   "outputs": [],
   "source": [
    "exp = np.exp(req['E0']-req['m0'])\n",
    "\n",
    "barR = {}\n",
    "barR['1S'] = data_corr['1S'][Ta  ]/2 * exp**Ta     +     data_corr['1S'][Tb]/4 * exp**Tb  +  np.roll(data_corr['1S'][Tb],-1,axis=0)/4 * exp**Tb\n",
    "barR['RW'] = data_corr['RW'][Ta  ]/2 * exp**Ta     +     data_corr['RW'][Tb]/4 * exp**Tb  +  np.roll(data_corr['RW'][Tb],-1,axis=0)/4 * exp**Tb"
   ]
  },
  {
   "cell_type": "code",
   "execution_count": 102,
   "metadata": {},
   "outputs": [
    {
     "name": "stdout",
     "output_type": "stream",
     "text": [
      "------------ sm = '1S' -------------\n",
      "[0.540(49) 0.540(40) 0.571(40) 0.594(40) 0.601(41) 0.603(42) 0.602(43)\n",
      " 0.604(42) 0.601(41) 0.593(40) 0.570(40) 0.538(40) 0.512(48)]\n",
      "------------ sm = 'RW' -------------\n",
      "[7.88(50) 5.38(29) 5.16(27) 4.93(25) 4.77(24) 4.80(25) 4.86(26) 4.78(25)\n",
      " 4.73(24) 4.91(25) 5.03(26) 5.09(28) 5.82(38)]\n"
     ]
    }
   ],
   "source": [
    "for sm in ['1S','RW']:\n",
    "    print(f'------------ {sm = } -------------')\n",
    "    print(format(barR[sm]))"
   ]
  }
 ],
 "metadata": {
  "kernelspec": {
   "display_name": "Python 3.11.4 ('stat')",
   "language": "python",
   "name": "python3"
  },
  "language_info": {
   "codemirror_mode": {
    "name": "ipython",
    "version": 3
   },
   "file_extension": ".py",
   "mimetype": "text/x-python",
   "name": "python",
   "nbconvert_exporter": "python",
   "pygments_lexer": "ipython3",
   "version": "3.11.4"
  },
  "orig_nbformat": 4,
  "vscode": {
   "interpreter": {
    "hash": "550906e9926f0f588aff226d3abadfa0c6a614c1c5eae7bfa21377021c1cb7ed"
   }
  }
 },
 "nbformat": 4,
 "nbformat_minor": 2
}
