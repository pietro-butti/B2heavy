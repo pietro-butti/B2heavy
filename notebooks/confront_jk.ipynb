{
 "cells": [
  {
   "cell_type": "code",
   "execution_count": 4,
   "metadata": {},
   "outputs": [],
   "source": [
    "import numpy             as np\n",
    "import gvar              as gv\n",
    "import matplotlib.pyplot as plt\n",
    "import pandas            as pd\n",
    "import lsqfit\n",
    "import itertools\n",
    "import sys\n",
    "from tqdm import tqdm\n"
   ]
  },
  {
   "cell_type": "code",
   "execution_count": 5,
   "metadata": {},
   "outputs": [],
   "source": [
    "from b2heavy.ThreePointFunctions.utils import read_config_fit, dump_fit_object\n",
    "from b2heavy.FnalHISQMetadata import params as mdata\n",
    "\n",
    "sys.path.append('/Users/pietro/code/software/B2heavy/routines')\n",
    "from routines.fit_2pts_dispersion_relation import mom_to_p2, extract_energies\n",
    "from routines.fit_2pts_dispersion_relation import dispersion_relation_lsqfit as disprel\n",
    "from routines.fit_2pts_dispersion_relation import dispersion_relation        as disprel_plot"
   ]
  },
  {
   "cell_type": "code",
   "execution_count": 6,
   "metadata": {},
   "outputs": [],
   "source": [
    "frm = '/Users/pietro/code/data_analysis/data/QCDNf2p1stag/B2heavy/report'\n",
    "ens = 'SuperFine'\n",
    "mes = 'B'\n",
    "\n",
    "tag = f'{ens}_{mes}'\n",
    "\n",
    "momlist = ['000','100','200','300','400','100','211','222']\n",
    "# momlist = ['000','100','200','300','100','211']\n",
    "# momlist = ['000','100','200','300','400','100','211']\n",
    "\n",
    "Lvol   = mdata(ens)['L']"
   ]
  },
  {
   "cell_type": "code",
   "execution_count": 218,
   "metadata": {},
   "outputs": [],
   "source": [
    "e0 = extract_energies(ens,mes,momlist,readfrom=frm)"
   ]
  },
  {
   "cell_type": "code",
   "execution_count": 219,
   "metadata": {},
   "outputs": [
    {
     "name": "stdout",
     "output_type": "stream",
     "text": [
      "Least Square Fit:\n",
      "  chi2/dof [dof] = 0.56 [8]    Q = 0.81    logGBF = 38.86\n",
      "\n",
      "Parameters:\n",
      "             M1   1.09309 (52)      [  0.5 (1.5) ]  \n",
      "             M2      2.42 (66)      [  0.5 (1.5) ]  *\n",
      "             M4     0.424 (91)      [  0.5 (1.5) ]  \n",
      "             w4      0.2 (1.5)      [  0.5 (1.5) ]  \n",
      "\n",
      "Settings:\n",
      "  svdcut/n = 1e-12/1    tol = (1e-08,1e-10,1e-10*)    (itns/time = 14/0.0)\n",
      "  fitter = scipy_least_squares    method = trf\n",
      "\n"
     ]
    }
   ],
   "source": [
    "priors = dict(\n",
    "    M1 = gv.gvar(0.5,1.5),\n",
    "    M2 = gv.gvar(0.5,1.5),\n",
    "    M4 = gv.gvar(0.5,1.5),\n",
    "    w4 = gv.gvar(0.5,1.5)\n",
    ")\n",
    "\n",
    "pv = [2*np.pi/Lvol*np.array([float(px) for px in m]) for m in momlist]\n",
    "yf = np.array([e0[m] for m in momlist])\n",
    "\n",
    "fit = lsqfit.nonlinear_fit(\n",
    "    data  = (pv,yf),\n",
    "    fcn   = disprel,\n",
    "    prior = priors\n",
    ")\n",
    "\n",
    "print(fit)"
   ]
  },
  {
   "cell_type": "markdown",
   "metadata": {},
   "source": [
    "Load jackknife data"
   ]
  },
  {
   "cell_type": "code",
   "execution_count": 220,
   "metadata": {},
   "outputs": [
    {
     "ename": "FileNotFoundError",
     "evalue": "[Errno 2] No such file or directory: '/Users/pietro/code/data_analysis/data/QCDNf2p1stag/B2heavy/report/fit2pt_config_SuperFine_B_000_jk_fit.pickle'",
     "output_type": "error",
     "traceback": [
      "\u001b[0;31m---------------------------------------------------------------------------\u001b[0m",
      "\u001b[0;31mFileNotFoundError\u001b[0m                         Traceback (most recent call last)",
      "Cell \u001b[0;32mIn[220], line 1\u001b[0m\n\u001b[0;32m----> 1\u001b[0m e0j \u001b[38;5;241m=\u001b[39m \u001b[43mextract_energies\u001b[49m\u001b[43m(\u001b[49m\u001b[43mens\u001b[49m\u001b[43m,\u001b[49m\u001b[43mmes\u001b[49m\u001b[43m,\u001b[49m\u001b[43mmomlist\u001b[49m\u001b[43m,\u001b[49m\u001b[43mreadfrom\u001b[49m\u001b[38;5;241;43m=\u001b[39;49m\u001b[43mfrm\u001b[49m\u001b[43m,\u001b[49m\u001b[43mjk\u001b[49m\u001b[38;5;241;43m=\u001b[39;49m\u001b[38;5;28;43;01mTrue\u001b[39;49;00m\u001b[43m)\u001b[49m\n\u001b[1;32m      3\u001b[0m tmp \u001b[38;5;241m=\u001b[39m np\u001b[38;5;241m.\u001b[39marray([e0j[m] \u001b[38;5;28;01mfor\u001b[39;00m m \u001b[38;5;129;01min\u001b[39;00m momlist])\n\u001b[1;32m      4\u001b[0m tmp \u001b[38;5;241m=\u001b[39m gv\u001b[38;5;241m.\u001b[39mgvar(\n\u001b[1;32m      5\u001b[0m     tmp\u001b[38;5;241m.\u001b[39mmean(axis\u001b[38;5;241m=\u001b[39m\u001b[38;5;241m1\u001b[39m),\n\u001b[1;32m      6\u001b[0m     np\u001b[38;5;241m.\u001b[39mcov(tmp)\u001b[38;5;241m*\u001b[39m(tmp\u001b[38;5;241m.\u001b[39mshape[\u001b[38;5;241m-\u001b[39m\u001b[38;5;241m1\u001b[39m]\u001b[38;5;241m-\u001b[39m\u001b[38;5;241m1\u001b[39m)\n\u001b[1;32m      7\u001b[0m )\n",
      "File \u001b[0;32m~/code/software/B2heavy/routines/fit_2pts_dispersion_relation.py:72\u001b[0m, in \u001b[0;36mextract_energies\u001b[0;34m(ensemble, meson, momlist, jk, readfrom, tag, key)\u001b[0m\n\u001b[1;32m     70\u001b[0m     \u001b[39mfor\u001b[39;00m mom \u001b[39min\u001b[39;00m momlist:\n\u001b[1;32m     71\u001b[0m         f \u001b[39m=\u001b[39m os\u001b[39m.\u001b[39mpath\u001b[39m.\u001b[39mjoin(readfrom,\u001b[39mf\u001b[39m\u001b[39m'\u001b[39m\u001b[39m{\u001b[39;00mfilename\u001b[39m}\u001b[39;00m\u001b[39m{\u001b[39;00mmom\u001b[39m}\u001b[39;00m\u001b[39m'\u001b[39m)\n\u001b[0;32m---> 72\u001b[0m         E[mom] \u001b[39m=\u001b[39m extract_single_energy(f,N\u001b[39m=\u001b[39;49m\u001b[39m0\u001b[39;49m,jk\u001b[39m=\u001b[39;49mjk,key\u001b[39m=\u001b[39;49mkey)\n\u001b[1;32m     74\u001b[0m \u001b[39mreturn\u001b[39;00m E\n",
      "File \u001b[0;32m~/code/software/B2heavy/routines/fit_2pts_dispersion_relation.py:38\u001b[0m, in \u001b[0;36mextract_single_energy\u001b[0;34m(tag, path, N, jk, key)\u001b[0m\n\u001b[1;32m     37\u001b[0m \u001b[39mdef\u001b[39;00m \u001b[39mextract_single_energy\u001b[39m(tag,path\u001b[39m=\u001b[39m\u001b[39mNone\u001b[39;00m,N\u001b[39m=\u001b[39m\u001b[39m0\u001b[39m,jk\u001b[39m=\u001b[39m\u001b[39mFalse\u001b[39;00m,key\u001b[39m=\u001b[39m\u001b[39m'\u001b[39m\u001b[39mE\u001b[39m\u001b[39m'\u001b[39m):\n\u001b[0;32m---> 38\u001b[0m     ret \u001b[39m=\u001b[39m read_config_fit(tag,jk\u001b[39m=\u001b[39;49mjk,path\u001b[39m=\u001b[39;49mpath)\n\u001b[1;32m     40\u001b[0m     \u001b[39mif\u001b[39;00m \u001b[39mnot\u001b[39;00m jk:\n\u001b[1;32m     41\u001b[0m         \u001b[39mreturn\u001b[39;00m ret[\u001b[39m1\u001b[39m][key][N]\n",
      "File \u001b[0;32m~/code/software/B2heavy/b2heavy/ThreePointFunctions/utils.py:12\u001b[0m, in \u001b[0;36mread_config_fit\u001b[0;34m(tag, jk, path)\u001b[0m\n\u001b[1;32m     10\u001b[0m \u001b[39mif\u001b[39;00m jk: \n\u001b[1;32m     11\u001b[0m     file \u001b[39m=\u001b[39m \u001b[39mf\u001b[39m\u001b[39m'\u001b[39m\u001b[39m{\u001b[39;00mbase\u001b[39m}\u001b[39;00m\u001b[39m_jk_fit.pickle\u001b[39m\u001b[39m'\u001b[39m\n\u001b[0;32m---> 12\u001b[0m     \u001b[39mwith\u001b[39;00m \u001b[39mopen\u001b[39m(file,\u001b[39m'\u001b[39m\u001b[39mrb\u001b[39m\u001b[39m'\u001b[39m) \u001b[39mas\u001b[39;00m f:\n\u001b[1;32m     13\u001b[0m         aux \u001b[39m=\u001b[39m pickle\u001b[39m.\u001b[39mload(f)\n\u001b[1;32m     14\u001b[0m \u001b[39melse\u001b[39;00m:\n",
      "\u001b[0;31mFileNotFoundError\u001b[0m: [Errno 2] No such file or directory: '/Users/pietro/code/data_analysis/data/QCDNf2p1stag/B2heavy/report/fit2pt_config_SuperFine_B_000_jk_fit.pickle'"
     ]
    }
   ],
   "source": [
    "e0j = extract_energies(ens,mes,momlist,readfrom=frm,jk=True)\n",
    "\n",
    "tmp = np.array([e0j[m] for m in momlist])\n",
    "tmp = gv.gvar(\n",
    "    tmp.mean(axis=1),\n",
    "    np.cov(tmp)*(tmp.shape[-1]-1)\n",
    ")\n",
    "e0j = {m: tmp[i] for i,m in enumerate(momlist)}"
   ]
  },
  {
   "cell_type": "code",
   "execution_count": null,
   "metadata": {},
   "outputs": [
    {
     "name": "stdout",
     "output_type": "stream",
     "text": [
      "Least Square Fit:\n",
      "  chi2/dof [dof] = 2.3 [8]    Q = 0.02    logGBF = 33.127\n",
      "\n",
      "Parameters:\n",
      "             M1   1.25031 (47)      [  0.5 (1.5) ]  \n",
      "             M2      4.12 (66)      [  0.5 (1.5) ]  **\n",
      "             M4      0.80 (18)      [  0.5 (1.5) ]  \n",
      "             w4      0.66 (76)      [  0.5 (1.5) ]  \n",
      "\n",
      "Settings:\n",
      "  svdcut/n = 1e-12/1    tol = (1e-08,1e-10,1e-10*)    (itns/time = 16/0.0)\n",
      "  fitter = scipy_least_squares    method = trf\n",
      "\n"
     ]
    }
   ],
   "source": [
    "yfj = np.array([e0j[m] for m in momlist])\n",
    "\n",
    "fitj = lsqfit.nonlinear_fit(\n",
    "    data  = (pv,yfj),\n",
    "    fcn   = disprel,\n",
    "    prior = priors\n",
    ")\n",
    "\n",
    "print(fitj)"
   ]
  },
  {
   "cell_type": "code",
   "execution_count": null,
   "metadata": {},
   "outputs": [
    {
     "data": {
      "image/png": "[encoded data removed]",
      "text/plain": [
       "<Figure size 400x300 with 1 Axes>"
      ]
     },
     "metadata": {},
     "output_type": "display_data"
    }
   ],
   "source": [
    "plt.rcParams['text.usetex'] = True\n",
    "plt.rcParams['font.size'] = 12\n",
    "\n",
    "plt.figure(figsize=(4,3))\n",
    "ax = plt.subplot(1,1,1)\n",
    "\n",
    "\n",
    "p2 = np.array([mom_to_p2(m,L=Lvol) for m in momlist])\n",
    "\n",
    "\n",
    "# Full\n",
    "yplot = [e0[m] for m in momlist]\n",
    "ax.errorbar(p2-0.0025,gv.mean(yplot),gv.sdev(yplot),fmt='o', ecolor='C0', mfc='w', capsize=2.5)\n",
    "\n",
    "plist = [np.sqrt([x/3,x/3,x/3]) for x in np.arange(0,max(p2)+0.1,0.01)]\n",
    "xplot = [sum(p**2) for p in plist]\n",
    "fitpar = [fit.p[k] for k in ['M1','M2','M4','w4']]\n",
    "fplot = [disprel_plot(p,*fitpar) for p in plist]\n",
    "ax.plot(xplot,gv.mean(fplot),alpha=0.2,color='C0')\n",
    "ax.fill_between(xplot,gv.mean(fplot)-gv.sdev(fplot),gv.mean(fplot)+gv.sdev(fplot),alpha=0.2,color='C0')\n",
    "\n",
    "\n",
    "\n",
    "\n",
    "\n",
    "# With jk\n",
    "yplot = [e0j[m] for m in momlist]\n",
    "ax.errorbar(p2+0.0025,gv.mean(yplot),gv.sdev(yplot),fmt='o', ecolor='C1', mfc='w', capsize=2.5)\n",
    "\n",
    "\n",
    "plist = [np.sqrt([x/3,x/3,x/3]) for x in np.arange(0,max(p2)+0.1,0.01)]\n",
    "xplot = [sum(p**2) for p in plist]\n",
    "fitpar = [fitj.p[k] for k in ['M1','M2','M4','w4']]\n",
    "fplot = [disprel_plot(p,*fitpar) for p in plist]\n",
    "ax.plot(xplot,gv.mean(fplot),alpha=0.2,color='C1')\n",
    "ax.fill_between(xplot,gv.mean(fplot)-gv.sdev(fplot),gv.mean(fplot)+gv.sdev(fplot),alpha=0.2,color='C1')\n",
    "\n",
    "\n",
    "# ax.set_xlim(xmax=0.08)\n",
    "ax.grid(alpha=0.2)\n"
   ]
  },
  {
   "cell_type": "code",
   "execution_count": 10,
   "metadata": {},
   "outputs": [],
   "source": [
    "d = read_config_fit('fit3pt_config_Coarse-1_xfstpar_100',jk=True,path=frm)"
   ]
  },
  {
   "cell_type": "code",
   "execution_count": 18,
   "metadata": {},
   "outputs": [
    {
     "data": {
      "text/plain": [
       "-0.0963(24)"
      ]
     },
     "execution_count": 18,
     "metadata": {},
     "output_type": "execute_result"
    }
   ],
   "source": [
    "f0 = d['ratio']\n",
    "\n",
    "\n",
    "gv.gvar(f0.mean(),f0.std())"
   ]
  },
  {
   "cell_type": "code",
   "execution_count": null,
   "metadata": {},
   "outputs": [],
   "source": []
  }
 ],
 "metadata": {
  "kernelspec": {
   "display_name": "Python 3.11.4 ('stat')",
   "language": "python",
   "name": "python3"
  },
  "language_info": {
   "codemirror_mode": {
    "name": "ipython",
    "version": 3
   },
   "file_extension": ".py",
   "mimetype": "text/x-python",
   "name": "python",
   "nbconvert_exporter": "python",
   "pygments_lexer": "ipython3",
   "version": "3.11.4"
  },
  "orig_nbformat": 4,
  "vscode": {
   "interpreter": {
    "hash": "550906e9926f0f588aff226d3abadfa0c6a614c1c5eae7bfa21377021c1cb7ed"
   }
  }
 },
 "nbformat": 4,
 "nbformat_minor": 2
}
