{
 "cells": [
  {
   "cell_type": "code",
   "execution_count": 1,
   "metadata": {},
   "outputs": [],
   "source": [
    "import numpy             as np\n",
    "import gvar              as gv\n",
    "import matplotlib.pyplot as plt\n",
    "import lsqfit\n",
    "import itertools\n",
    "from tqdm import tqdm"
   ]
  },
  {
   "cell_type": "code",
   "execution_count": 2,
   "metadata": {},
   "outputs": [],
   "source": [
    "from b2heavy.FnalHISQMetadata import params as mData"
   ]
  },
  {
   "cell_type": "code",
   "execution_count": 3,
   "metadata": {},
   "outputs": [],
   "source": [
    "from b2heavy.ThreePointFunctions.types3pts  import Ratio, RatioIO, ratio_prerequisites\n",
    "from b2heavy.ThreePointFunctions.fitter3pts import RatioFitter, phys_energy_priors\n",
    "from b2heavy.ThreePointFunctions.utils      import read_config_fit, dump_fit_object"
   ]
  },
  {
   "cell_type": "code",
   "execution_count": 4,
   "metadata": {},
   "outputs": [],
   "source": [
    "DATA_DIR = '/Users/pietro/code/data_analysis/BtoD/Alex/'\n",
    "# DATA_DIR = '/Users/pietro/code/data_analysis/data/QCDNf2p1stag/CORRELATORS'\n",
    "# DATA_2PT = '/Users/pietro/code/data_analysis/data/QCDNf2p1stag/B2heavy/lattice24'\n",
    "DATA_2PT = '/Users/pietro/Desktop/lattice24/0.25/corr2_3'\n",
    "\n",
    "BINSIZE  = {\n",
    "    'MediumCoarse':13,\n",
    "    'Coarse-2':    16,\n",
    "    'Coarse-1':    11,\n",
    "    'Coarse-Phys': 19,\n",
    "    'Fine-1':      16,\n",
    "    'Fine-Phys':   16,\n",
    "    'SuperFine':   22\n",
    "}"
   ]
  },
  {
   "cell_type": "code",
   "execution_count": 5,
   "metadata": {},
   "outputs": [],
   "source": [
    "ENSEMBLE = 'Fine-1'\n",
    "RATIO    = 'R1'\n",
    "MOMENTUM = '300'\n",
    "\n",
    "SMSLIST  = ['1S','RW']\n",
    "# SMSLIST  = ['1S']\n",
    "\n",
    "if RATIO in ['RMINUS','RPLUS','QPLUS','XF']:\n",
    "    meson = 'D'\n",
    "elif RATIO in ['RA1','ZRA1','XFSTPAR','XV','R0','R1']:\n",
    "    meson = 'Dst'\n",
    "elif RATIO in ['RA1S','ZRA1S','XFSSTPAR','XVS','R0S','R1S']:\n",
    "    meson = 'Dsst'"
   ]
  },
  {
   "cell_type": "code",
   "execution_count": 6,
   "metadata": {},
   "outputs": [],
   "source": [
    "# Correlation matrix specifics\n",
    "DIAG   = False\n",
    "BLOCK  = False\n",
    "SCALE  = True\n",
    "SHRINK = True\n",
    "SVD    = 1E-12"
   ]
  },
  {
   "cell_type": "code",
   "execution_count": 8,
   "metadata": {},
   "outputs": [],
   "source": [
    "# Specifics of the analysis\n",
    "TMIN    = 2\n",
    "NSTATES = 2\n",
    "WPRIORS = True"
   ]
  },
  {
   "cell_type": "markdown",
   "metadata": {},
   "source": [
    "In the following we look for requisites for the ratio calculation"
   ]
  },
  {
   "cell_type": "code",
   "execution_count": 9,
   "metadata": {},
   "outputs": [],
   "source": [
    "requisites = ratio_prerequisites(\n",
    "    ens      = ENSEMBLE,\n",
    "    ratio    = RATIO,\n",
    "    mom      = MOMENTUM,\n",
    "    readfrom = DATA_2PT,\n",
    "    jk       = True\n",
    ")"
   ]
  },
  {
   "cell_type": "markdown",
   "metadata": {},
   "source": [
    "Here we initialize the master object that contains a ratio at given momentum for a given ensemble"
   ]
  },
  {
   "cell_type": "code",
   "execution_count": 10,
   "metadata": {},
   "outputs": [],
   "source": [
    "io = RatioIO(ENSEMBLE,RATIO,MOMENTUM,PathToDataDir=DATA_DIR)\n",
    "robj = RatioFitter(\n",
    "    io,\n",
    "    jkBin     = BINSIZE[ENSEMBLE],\n",
    "    smearing  = SMSLIST,\n",
    "    **requisites\n",
    ")"
   ]
  },
  {
   "cell_type": "code",
   "execution_count": 11,
   "metadata": {},
   "outputs": [],
   "source": [
    "trange = (TMIN, robj.Ta-TMIN)"
   ]
  },
  {
   "cell_type": "code",
   "execution_count": 12,
   "metadata": {},
   "outputs": [
    {
     "data": {
      "text/plain": [
       "{'diag': False, 'block': False, 'scale': True, 'shrink': True, 'cutsvd': 1e-12}"
      ]
     },
     "execution_count": 12,
     "metadata": {},
     "output_type": "execute_result"
    }
   ],
   "source": [
    "cov_specs = dict(\n",
    "    diag   = DIAG  ,\n",
    "    block  = BLOCK ,\n",
    "    scale  = SCALE ,\n",
    "    shrink = SHRINK,\n",
    "    cutsvd = 1E-12\n",
    ")\n",
    "\n",
    "cov_specs"
   ]
  },
  {
   "cell_type": "markdown",
   "metadata": {},
   "source": [
    "Here we compute fit priors"
   ]
  },
  {
   "cell_type": "code",
   "execution_count": 13,
   "metadata": {},
   "outputs": [],
   "source": [
    "fit,p = read_config_fit(\n",
    "    tag  = f'fit2pt_config_{ENSEMBLE}_Dst_100',\n",
    "    path = DATA_2PT\n",
    ")"
   ]
  },
  {
   "cell_type": "code",
   "execution_count": 14,
   "metadata": {},
   "outputs": [
    {
     "data": {
      "text/plain": [
       "BufferDict({'dE': array([0.8434(42), -2.09(65), -1.11(25)], dtype=object), 'dE.o': array([-2.65(42), -2.08(27), -0.70(27)], dtype=object), 'Z.d.Par': array([-2.385(56), 0.043(20), -0.222(20)], dtype=object), 'Z.d.Par.o': array([-6.2(1.4), -0.0955(68), 0.224(86)], dtype=object), 'Z.d.Bot': array([-2.411(62), 0.051(17), -0.211(20)], dtype=object), 'Z.d.Bot.o': array([-3.67(32), -0.0878(81), 0.26(10)], dtype=object), 'Z.1S.Par': array([0.347(58), 0.76(19), 0.63(78)], dtype=object), 'Z.1S.Par.o': array([-0.70(31), 0.96(19), 2.40(96)], dtype=object), 'Z.1S.Bot': array([0.339(54), 0.61(24), 1.19(30)], dtype=object), 'Z.1S.Bot.o': array([-0.52(30), 0.98(23), -1.7(1.0)], dtype=object), 'Z.d-1S.Par': array([0.180(59), -0.440(54)], dtype=object), 'Z.d-1S.Par.o': array([0.343(21), 0.15(57)], dtype=object), 'Z.d-1S.Bot': array([0.177(58), -0.442(48)], dtype=object), 'Z.d-1S.Bot.o': array([0.301(36), -0.49(15)], dtype=object)})"
      ]
     },
     "execution_count": 14,
     "metadata": {},
     "output_type": "execute_result"
    }
   ],
   "source": [
    "p"
   ]
  },
  {
   "cell_type": "code",
   "execution_count": 15,
   "metadata": {},
   "outputs": [
    {
     "data": {
      "text/plain": [
       "{'ratio': [0.98(10)],\n",
       " 'A_1S': [0 ± 1.0, 0 ± 1.0],\n",
       " 'B_1S': [0 ± 1.0, 0 ± 1.0],\n",
       " 'A_RW': [0 ± 1.0, 0 ± 1.0],\n",
       " 'B_RW': [0 ± 1.0, 0 ± 1.0],\n",
       " 'dE_src': [0.9(1.0), -1.4(1.0)],\n",
       " 'dE_snk': [1.6(1.0), -1.3(1.0)]}"
      ]
     },
     "execution_count": 15,
     "metadata": {},
     "output_type": "execute_result"
    }
   ],
   "source": [
    "dE_src = phys_energy_priors(ENSEMBLE,meson,MOMENTUM,NSTATES,readfrom=DATA_2PT,error=1.0)\n",
    "dE_snk = phys_energy_priors(ENSEMBLE,'B',MOMENTUM,NSTATES,readfrom=DATA_2PT,error=1.0)\n",
    "\n",
    "pr = robj.priors(NSTATES, dE_src=dE_src, dE_snk=dE_snk)\n",
    "pr"
   ]
  },
  {
   "cell_type": "markdown",
   "metadata": {},
   "source": [
    "Here we perform the fit"
   ]
  },
  {
   "cell_type": "code",
   "execution_count": 16,
   "metadata": {},
   "outputs": [
    {
     "name": "stdout",
     "output_type": "stream",
     "text": [
      "Intel MKL WARNING: Support of Intel(R) Streaming SIMD Extensions 4.2 (Intel(R) SSE4.2) enabled only processors has been deprecated. Intel oneAPI Math Kernel Library 2025.0 will require Intel(R) Advanced Vector Extensions (Intel(R) AVX) instructions.\n"
     ]
    }
   ],
   "source": [
    "fit = robj.fit(\n",
    "    Nstates = NSTATES,\n",
    "    trange  = trange,\n",
    "    priors  = pr,\n",
    "    verbose = False,\n",
    "    **cov_specs,\n",
    ")"
   ]
  },
  {
   "cell_type": "code",
   "execution_count": 17,
   "metadata": {},
   "outputs": [
    {
     "name": "stdout",
     "output_type": "stream",
     "text": [
      "# ---------- chi^2_exp analysis -------------\n",
      "# chi2_exp = 27.99999999999938 +/- 7.483314773547775 \n",
      "# p-value [eval] = 0.8734\n",
      "# p-value [MC]   = 0.8731\n",
      "# ---------- 2+2 fit in (2, 15) for mes: R1 of ens: Fine-1 for mom: 300 --------------\n",
      "Least Square Fit:\n",
      "  chi2/dof [dof] = 0.71 [28]    Q = 0.87    logGBF = 90.9\n",
      "\n",
      "Parameters:\n",
      "        ratio 0         0.964 (27)        [  0.98 (10) ]  \n",
      "         A_1S 0         -0.13 (30)        [    0 ± 1.0 ]  \n",
      "              1         0.042 (50)        [    0 ± 1.0 ]  \n",
      "         B_1S 0     -0.001 (1.000)        [    0 ± 1.0 ]  \n",
      "              1         0.022 (52)        [    0 ± 1.0 ]  \n",
      "         A_RW 0         -0.14 (31)        [    0 ± 1.0 ]  \n",
      "              1        -0.006 (44)        [    0 ± 1.0 ]  \n",
      "         B_RW 0   -0.0001 (1.0000)        [    0 ± 1.0 ]  \n",
      "              1         0.003 (44)        [    0 ± 1.0 ]  \n",
      "       dE_src 0          0.41 (89)        [  0.9 (1.0) ]  \n",
      "              1         -1.66 (88)        [ -1.4 (1.0) ]  \n",
      "       dE_snk 0          1.6 (1.0)        [  1.6 (1.0) ]  \n",
      "              1         -1.32 (98)        [ -1.3 (1.0) ]  \n",
      "\n",
      "Settings:\n",
      "  svdcut/n = 0/0    tol = (1e-08,1e-10,1e-10*)    (itns/time = 26/0.2)\n",
      "  fitter = scipy_least_squares    method = trf\n",
      "\n",
      "# red chi2       = 19.38\n",
      "# aug chi2       = 19.78\n",
      "# chi2_exp       = 28.00\n",
      "# chi2/chi_exp   = 0.71\n",
      "# p-value (exp)  = 0.87\n",
      "# p-value (std)  = 0.49\n"
     ]
    }
   ],
   "source": [
    "res = robj.fit_result(\n",
    "    Nexc   = NSTATES,\n",
    "    trange = trange,\n",
    "    verbose = True,\n",
    "    priors = pr \n",
    ")"
   ]
  },
  {
   "cell_type": "code",
   "execution_count": 18,
   "metadata": {},
   "outputs": [
    {
     "name": "stderr",
     "output_type": "stream",
     "text": [
      "No artists with labels found to put in legend.  Note that artists whose label start with an underscore are ignored when legend() is called with no argument.\n"
     ]
    },
    {
     "data": {
      "image/png": "[encoded data removed]",
      "text/plain": [
       "<Figure size 600x600 with 1 Axes>"
      ]
     },
     "metadata": {},
     "output_type": "display_data"
    }
   ],
   "source": [
    "plt.rcParams['text.usetex'] = True\n",
    "plt.rcParams['font.size'] = 12\n",
    "\n",
    "# f, ax = plt.subplots(1,1,figsize=(8,4))\n",
    "f, ax = plt.subplots(1,1,figsize=(6,6))\n",
    "\n",
    "robj.plot_fit(ax,NSTATES,trange)\n",
    "\n",
    "f0 = pr['ratio'][0]\n",
    "ax.axhspan(ymin=f0.mean-f0.sdev,ymax=f0.mean+f0.sdev,alpha=0.1,color='gray')\n",
    "\n",
    "# ax.set_xlim(-0.5,18)\n",
    "ax.grid(alpha=0.2)\n",
    "ax.legend()\n",
    "ax.set_title(f'{ENSEMBLE}_{RATIO}_{MOMENTUM}')\n",
    "plt.tight_layout()\n",
    "# plt.savefig('/Users/pietro/Desktop/bad_ratio.pdf')"
   ]
  },
  {
   "cell_type": "markdown",
   "metadata": {},
   "source": [
    "# Model average for `Nstates` and trange"
   ]
  },
  {
   "cell_type": "code",
   "execution_count": 61,
   "metadata": {},
   "outputs": [],
   "source": [
    "nstates = [1,2]\n",
    "tmins   = [1,2,3,4,5,6,7,8,9]"
   ]
  },
  {
   "cell_type": "code",
   "execution_count": 62,
   "metadata": {},
   "outputs": [
    {
     "name": "stdout",
     "output_type": "stream",
     "text": [
      "Nstates=1,tmin=1\n",
      "# ---------- chi^2_exp analysis -------------\n",
      "# chi2_exp = 32.00000000000004 +/- 8.000000000000027 \n",
      "# p-value [eval] = 0.0\n",
      "# p-value [MC]   = 0.0\n",
      "Nstates=1,tmin=2\n",
      "# ---------- chi^2_exp analysis -------------\n",
      "# chi2_exp = 28.000000000000004 +/- 7.483314773547889 \n",
      "# p-value [eval] = 0.0157\n",
      "# p-value [MC]   = 0.015900000000000025\n",
      "Nstates=1,tmin=3\n",
      "# ---------- chi^2_exp analysis -------------\n",
      "# chi2_exp = 23.99999999999999 +/- 6.928203230275488 \n",
      "# p-value [eval] = 0.0071\n",
      "# p-value [MC]   = 0.005900000000000016\n",
      "Nstates=1,tmin=4\n",
      "# ---------- chi^2_exp analysis -------------\n",
      "# chi2_exp = 20.000000000000007 +/- 6.324555320336761 \n",
      "# p-value [eval] = 0.0\n",
      "# p-value [MC]   = 0.0\n",
      "Nstates=1,tmin=5\n",
      "# ---------- chi^2_exp analysis -------------\n",
      "# chi2_exp = 16.000000000000025 +/- 5.656854249492379 \n",
      "# p-value [eval] = 0.0032\n",
      "# p-value [MC]   = 0.0031999999999999806\n",
      "Nstates=1,tmin=6\n",
      "# ---------- chi^2_exp analysis -------------\n",
      "# chi2_exp = 12.000000000000002 +/- 4.898979485566348 \n",
      "# p-value [eval] = 0.0177\n",
      "# p-value [MC]   = 0.015199999999999991\n",
      "Nstates=1,tmin=7\n",
      "# ---------- chi^2_exp analysis -------------\n",
      "# chi2_exp = 7.9999999999999964 +/- 4.000000000000005 \n",
      "# p-value [eval] = 0.008\n",
      "# p-value [MC]   = 0.007600000000000051\n",
      "Nstates=1,tmin=8\n",
      "# ---------- chi^2_exp analysis -------------\n",
      "# chi2_exp = 4.000000000000005 +/- 2.828427124746193 \n",
      "# p-value [eval] = 0.1349\n",
      "# p-value [MC]   = 0.13349999999999995\n",
      "Nstates=1,tmin=9\n",
      "# ---------- chi^2_exp analysis -------------\n",
      "# chi2_exp = 4.000000000000005 +/- 2.828427124746193 \n",
      "# p-value [eval] = 0.1367\n",
      "# p-value [MC]   = 0.13539999999999996\n",
      "Nstates=2,tmin=1\n",
      "# ---------- chi^2_exp analysis -------------\n",
      "# chi2_exp = 32.00000000000014 +/- 7.999999999999986 \n",
      "# p-value [eval] = 0.1226\n",
      "# p-value [MC]   = 0.1149\n",
      "Nstates=2,tmin=2\n",
      "# ---------- chi^2_exp analysis -------------\n",
      "# chi2_exp = 27.999999999999424 +/- 7.483314773547898 \n",
      "# p-value [eval] = 0.4902\n",
      "# p-value [MC]   = 0.48319999999999996\n",
      "Nstates=2,tmin=3\n",
      "# ---------- chi^2_exp analysis -------------\n",
      "# chi2_exp = 23.999999999999726 +/- 6.928203230275503 \n",
      "# p-value [eval] = 0.4955\n",
      "# p-value [MC]   = 0.49450000000000005\n",
      "Nstates=2,tmin=4\n",
      "# ---------- chi^2_exp analysis -------------\n",
      "# chi2_exp = 19.999999999999986 +/- 6.324555320336761 \n",
      "# p-value [eval] = 0.872\n",
      "# p-value [MC]   = 0.8698\n",
      "Nstates=2,tmin=5\n",
      "# ---------- chi^2_exp analysis -------------\n",
      "# chi2_exp = 16.000000000000032 +/- 5.656854249492368 \n",
      "# p-value [eval] = 0.961\n",
      "# p-value [MC]   = 0.9614\n",
      "Nstates=2,tmin=6\n",
      "# ---------- chi^2_exp analysis -------------\n",
      "# chi2_exp = 11.99999999999998 +/- 4.8989794855663416 \n",
      "# p-value [eval] = 0.9784\n",
      "# p-value [MC]   = 0.978\n",
      "Nstates=2,tmin=7\n",
      "# ---------- chi^2_exp analysis -------------\n",
      "# chi2_exp = 7.999999999999925 +/- 4.000000000000005 \n",
      "# p-value [eval] = 0.9877\n",
      "# p-value [MC]   = 0.9858\n",
      "Nstates=2,tmin=8\n",
      "# ---------- chi^2_exp analysis -------------\n",
      "# chi2_exp = 3.9999999999999036 +/- 2.8284271247461903 \n",
      "# p-value [eval] = 0.999\n",
      "# p-value [MC]   = 0.9982\n",
      "Nstates=2,tmin=9\n",
      "# ---------- chi^2_exp analysis -------------\n",
      "# chi2_exp = 3.9999999999999036 +/- 2.8284271247461903 \n",
      "# p-value [eval] = 0.9989\n",
      "# p-value [MC]   = 0.9985\n"
     ]
    }
   ],
   "source": [
    "TIC = {}\n",
    "pval = {}\n",
    "for Nstates in nstates:\n",
    "    dE_src = phys_energy_priors(ENSEMBLE,'Dst',MOMENTUM,Nstates,readfrom=DATA_2PT)\n",
    "    dE_snk = phys_energy_priors(ENSEMBLE,'B'  ,MOMENTUM,Nstates,readfrom=DATA_2PT)\n",
    "    x,ydata = robj.format(trange,flatten=True)\n",
    "    pr = robj.priors(Nstates, dE_src=dE_src, dE_snk=dE_snk)\n",
    "\n",
    "    for tmin in tmins:\n",
    "        print(f'{Nstates=},{tmin=}')\n",
    "\n",
    "        trange = (tmin, robj.Ta-tmin)\n",
    "\n",
    "        fit = robj.fit(\n",
    "            Nstates = Nstates,\n",
    "            trange  = trange,\n",
    "            priors  = pr,\n",
    "            verbose = False,\n",
    "            **cov_specs\n",
    "        )\n",
    "\n",
    "        res = robj.fit_result(\n",
    "            Nexc   = Nstates,\n",
    "            trange = trange,\n",
    "            priors = pr,\n",
    "            verbose = False\n",
    "        )\n",
    "        TIC[Nstates,trange] = float((res['chi2aug'] - 2*res['chiexp']))\n",
    "        pval[Nstates,trange] = res['pstd']"
   ]
  },
  {
   "cell_type": "code",
   "execution_count": 63,
   "metadata": {},
   "outputs": [
    {
     "data": {
      "text/plain": [
       "{(1, (1, 16)): -16.751743936792337,\n",
       " (1, (2, 15)): -9.910375717342092,\n",
       " (1, (3, 14)): -3.902970341117225,\n",
       " (1, (4, 13)): 47.73991894389546,\n",
       " (1, (5, 12)): 3.8148363344508383,\n",
       " (1, (6, 11)): 0.6064053516450265,\n",
       " (1, (7, 10)): 4.697518021120601,\n",
       " (1, (8, 9)): -0.9592452741344424,\n",
       " (1, (9, 8)): -0.9592452741344424,\n",
       " (2, (1, 16)): -36.859494010027,\n",
       " (2, (2, 15)): -30.206309447824683,\n",
       " (2, (3, 14)): -26.874052752641887,\n",
       " (2, (4, 13)): -32.44580526355716,\n",
       " (2, (5, 12)): -26.16235462462927,\n",
       " (2, (6, 11)): -20.417453200181594,\n",
       " (2, (7, 10)): -14.527073988640588,\n",
       " (2, (8, 9)): -7.930992029260799,\n",
       " (2, (9, 8)): -7.930992029260799}"
      ]
     },
     "execution_count": 63,
     "metadata": {},
     "output_type": "execute_result"
    }
   ],
   "source": [
    "TIC"
   ]
  },
  {
   "cell_type": "code",
   "execution_count": 64,
   "metadata": {},
   "outputs": [
    {
     "name": "stdout",
     "output_type": "stream",
     "text": [
      "-0.265(15) 0.0012648638826176907\n"
     ]
    }
   ],
   "source": [
    "norm = np.exp(-np.array(list(TIC.values()))/2).sum()\n",
    "\n",
    "vals = np.array([f.p['ratio'][0] for k,f in robj.fits.items()])\n",
    "weig = np.array([np.exp(-TIC[k]/2)/norm for k in robj.fits]   )\n",
    "\n",
    "stat = sum(vals * weig)\n",
    "syst = np.sqrt(gv.mean(sum(weig*vals*vals) - (sum(weig*vals))**2))\n",
    "\n",
    "\n",
    "print(stat,syst)"
   ]
  },
  {
   "cell_type": "markdown",
   "metadata": {},
   "source": [
    "Print the results"
   ]
  },
  {
   "cell_type": "code",
   "execution_count": 65,
   "metadata": {},
   "outputs": [
    {
     "data": {
      "image/png": "[encoded data removed]",
      "text/plain": [
       "<Figure size 450x600 with 3 Axes>"
      ]
     },
     "metadata": {},
     "output_type": "display_data"
    }
   ],
   "source": [
    "MINUS = -1.\n",
    "\n",
    "\n",
    "f, ax = plt.subplots(2,1,figsize=(4.5,6),gridspec_kw={'height_ratios': [3, 1]},sharex=True)\n",
    "\n",
    "# ts      = np.array([1,2,3,4])\n",
    "ts      = np.array(tmins)\n",
    "tranges = [((t,robj.Ta-t)) for t in ts]\n",
    "\n",
    "ax2 = ax[1].twinx()\n",
    "\n",
    "# for i,n in enumerate([1,2,3]):\n",
    "for i,n in enumerate(nstates):\n",
    "    f0 = [MINUS*robj.fits[n,tr].p['ratio'][0] for tr in tranges]\n",
    "    off = -0.05*i + 0.05\n",
    "    ax[0].errorbar(ts+off,gv.mean(f0),gv.sdev(f0),fmt='o', color=f'C{i}', capsize=2.5, label=f'({n+1}+{n+1})')\n",
    "\n",
    "    tic = [np.exp(-TIC[n,tr]/2)/norm for tr in tranges]\n",
    "    ax[1].plot(ts,tic,alpha=0.1,color=f'C{i}')\n",
    "    # ax[1].scatter(ts,tic,marker='o',color=f'C{i}')\n",
    "\n",
    "    pv = [pval[n,tr] for tr in tranges]\n",
    "    ax2.scatter(ts,pv,color=f'C{i}',marker='.',label='p')\n",
    "\n",
    "\n",
    "ax[0].axhspan(ymin=MINUS*stat.mean-stat.sdev,ymax=MINUS*stat.mean+stat.sdev,color='gray',alpha=0.2,label='model average')\n",
    "err = np.sqrt(stat.sdev**2+syst**2)\n",
    "ax[0].axhline(MINUS*stat.mean-err,color='gray',alpha=0.2,linestyle=':')\n",
    "ax[0].axhline(MINUS*stat.mean+err,color='gray',alpha=0.2,linestyle=':')\n",
    "\n",
    "ax[0].grid(alpha=0.2)\n",
    "ax[0].legend(loc='lower right')\n",
    "# ax[0].legend(loc='upper left')\n",
    "# ax[0].legend(loc='lower left')\n",
    "ax[0].set_ylabel(r'$F_0$')\n",
    "\n",
    "ax[1].grid(alpha=0.2)\n",
    "# ax[1].set_ylim(-0.1,1.1)\n",
    "ax[1].set_ylabel(r'TIC weight')\n",
    "ax[1].set_xlabel(r'$\\frac{t_{min}}{a}$')\n",
    "\n",
    "ax2.set_ylabel(r'$p$-value')\n",
    "\n",
    "ax[0].set_title(f'{ENSEMBLE}_{RATIO}')\n",
    "\n",
    "plt.tight_layout()\n",
    "plt.savefig(f'/Users/pietro/Desktop/model_average_{ENSEMBLE}_{RATIO}_{MOMENTUM}.pdf')"
   ]
  },
  {
   "cell_type": "code",
   "execution_count": null,
   "metadata": {},
   "outputs": [],
   "source": []
  }
 ],
 "metadata": {
  "kernelspec": {
   "display_name": "Python 3.11.4 ('stat')",
   "language": "python",
   "name": "python3"
  },
  "language_info": {
   "codemirror_mode": {
    "name": "ipython",
    "version": 3
   },
   "file_extension": ".py",
   "mimetype": "text/x-python",
   "name": "python",
   "nbconvert_exporter": "python",
   "pygments_lexer": "ipython3",
   "version": "3.11.4"
  },
  "orig_nbformat": 4,
  "vscode": {
   "interpreter": {
    "hash": "550906e9926f0f588aff226d3abadfa0c6a614c1c5eae7bfa21377021c1cb7ed"
   }
  }
 },
 "nbformat": 4,
 "nbformat_minor": 2
}
