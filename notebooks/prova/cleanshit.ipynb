{
 "cells": [
  {
   "cell_type": "code",
   "execution_count": 1,
   "metadata": {},
   "outputs": [],
   "source": [
    "import copy\n",
    "import lsqfit\n",
    "import h5py\n",
    "import numpy             as np\n",
    "import gvar              as gv\n",
    "import matplotlib.pyplot as plt\n",
    "import corrfitter        as cf\n",
    "from scipy import linalg as la\n",
    "from tqdm  import tqdm"
   ]
  },
  {
   "cell_type": "code",
   "execution_count": 2,
   "metadata": {},
   "outputs": [],
   "source": [
    "from b2heavy.TwoPointFunctions.utils     import correlation_diagnostics\n",
    "from b2heavy.TwoPointFunctions.types2pts import CorrelatorIO, plot_effective_coeffs\n",
    "from b2heavy.TwoPointFunctions.fitter    import StagFitter"
   ]
  },
  {
   "cell_type": "code",
   "execution_count": 3,
   "metadata": {},
   "outputs": [],
   "source": [
    "BINSIZE  = {\n",
    "    'MediumCoarse':13,\n",
    "    'Coarse-2':    16,\n",
    "    'Coarse-1':    11,\n",
    "    'Coarse-Phys': 19,\n",
    "    'Fine-1':      16,\n",
    "    'Fine-Phys':   16,\n",
    "    'SuperFine':   22\n",
    "}\n",
    "def Tmax(y,errmax=0.3):\n",
    "    for i,el in enumerate(y):\n",
    "        if abs(gv.sdev(el)/gv.mean(el))>errmax:\n",
    "            return i\n",
    "    return len(y)"
   ]
  },
  {
   "cell_type": "code",
   "execution_count": 4,
   "metadata": {},
   "outputs": [],
   "source": [
    "ENSEMBLE = 'Coarse-1'\n",
    "MOMENTUM = '300'\n",
    "DATA_DIR = '/Users/pietro/code/data_analysis/BtoD/Alex/'\n",
    "\n",
    "cov_specs = dict(scale=True, shrink=True, cutsvd=1e-12)"
   ]
  },
  {
   "cell_type": "code",
   "execution_count": 5,
   "metadata": {},
   "outputs": [],
   "source": [
    "iod = CorrelatorIO(ENSEMBLE,'Dst',MOMENTUM,PathToDataDir=DATA_DIR)\n",
    "Dst = StagFitter(\n",
    "    io       = iod,\n",
    "    jkBin    = BINSIZE[ENSEMBLE],\n",
    "    smearing = ['1S-1S','d-d','d-1S']\n",
    ")\n",
    "\n",
    "iob = CorrelatorIO(ENSEMBLE,'B','000',PathToDataDir=DATA_DIR)\n",
    "B  = StagFitter(\n",
    "    io       = iob,\n",
    "    jkBin    = BINSIZE[ENSEMBLE],\n",
    "    smearing = ['1S-1S']\n",
    ")"
   ]
  },
  {
   "cell_type": "markdown",
   "metadata": {},
   "source": [
    "# Priors"
   ]
  },
  {
   "cell_type": "code",
   "execution_count": 6,
   "metadata": {},
   "outputs": [
    {
     "name": "stdout",
     "output_type": "stream",
     "text": [
      "Intel MKL WARNING: Support of Intel(R) Streaming SIMD Extensions 4.2 (Intel(R) SSE4.2) enabled only processors has been deprecated. Intel oneAPI Math Kernel Library 2025.0 will require Intel(R) Advanced Vector Extensions (Intel(R) AVX) instructions.\n"
     ]
    },
    {
     "name": "stderr",
     "output_type": "stream",
     "text": [
      "/Users/pietro/code/software/B2heavy/b2heavy/TwoPointFunctions/types2pts.py:38: RuntimeWarning: invalid value encountered in sqrt\n",
      "  m = np.arccosh( (y[(it+1)%len(y)]+y[(it-1)%len(y)])/y[it]/2 )\n",
      "/Users/pietro/code/software/B2heavy/b2heavy/TwoPointFunctions/types2pts.py:38: RuntimeWarning: invalid value encountered in log\n",
      "  m = np.arccosh( (y[(it+1)%len(y)]+y[(it-1)%len(y)])/y[it]/2 )\n",
      "/Users/pietro/code/software/B2heavy/b2heavy/TwoPointFunctions/types2pts.py:38: RuntimeWarning: invalid value encountered in arccosh\n",
      "  m = np.arccosh( (y[(it+1)%len(y)]+y[(it-1)%len(y)])/y[it]/2 )\n",
      "/Users/pietro/code/software/B2heavy/b2heavy/TwoPointFunctions/types2pts.py:38: RuntimeWarning: invalid value encountered in sqrt\n",
      "  m = np.arccosh( (y[(it+1)%len(y)]+y[(it-1)%len(y)])/y[it]/2 )\n",
      "/Users/pietro/code/software/B2heavy/b2heavy/TwoPointFunctions/types2pts.py:38: RuntimeWarning: invalid value encountered in log\n",
      "  m = np.arccosh( (y[(it+1)%len(y)]+y[(it-1)%len(y)])/y[it]/2 )\n",
      "/Users/pietro/code/software/B2heavy/b2heavy/TwoPointFunctions/types2pts.py:38: RuntimeWarning: invalid value encountered in arccosh\n",
      "  m = np.arccosh( (y[(it+1)%len(y)]+y[(it-1)%len(y)])/y[it]/2 )\n"
     ]
    }
   ],
   "source": [
    "effm_d,effa_d = Dst.meff((12,28),**cov_specs)\n",
    "effm_b,effa_b = B.meff(  (14,22),**cov_specs)\n",
    "\n",
    "\n",
    "effm = {'Dst':effm_d, 'B':effm_b}\n",
    "effa = {'Dst':effa_d, 'B':effa_b}"
   ]
  },
  {
   "cell_type": "code",
   "execution_count": 7,
   "metadata": {},
   "outputs": [],
   "source": [
    "NEXC = 3"
   ]
  },
  {
   "cell_type": "code",
   "execution_count": 8,
   "metadata": {},
   "outputs": [],
   "source": [
    "pr = {}\n",
    "\n",
    "for m in ['Dst','B']:\n",
    "    pr[f'dE.{m}']   = ['0.5(5)' for n in range(NEXC)]; pr[f'dE.{m}'][0] = f'{effm[m].mean:.2f}(0.5)'\n",
    "    pr[f'dE.{m}.o'] = ['0.5(5)' for n in range(NEXC)]"
   ]
  },
  {
   "cell_type": "code",
   "execution_count": 9,
   "metadata": {},
   "outputs": [],
   "source": [
    "ampl = {\n",
    "    '1S': '1(1)',\n",
    "    'd' : '0.01(50)'\n",
    "}\n",
    "\n",
    "for mes in ['Dst','B']:\n",
    "    for smr,pol in effa[mes]:\n",
    "        s1,s2 = smr.split('-')\n",
    "        if s1==s2:\n",
    "            aux = effa[mes][smr,pol] # * 2 * effm\n",
    "\n",
    "            z0 = f'{aux.mean:.6f}({\"1.0\" if s1==\"1S\" else \"0.5\"})'\n",
    "\n",
    "            pr[f'Z.{mes}.{s1}.{pol}']    = ['1(1)' if s1=='1S' else '0.01(50)' for n in range(NEXC)]\n",
    "            pr[f'Z.{mes}.{s1}.{pol}'][0] = z0 \n",
    "            pr[f'Z.{mes}.{s1}.{pol}.o']  = ['1(1)' if s1=='1S' else '0.01(50)' for n in range(NEXC)]"
   ]
  },
  {
   "cell_type": "code",
   "execution_count": 10,
   "metadata": {},
   "outputs": [],
   "source": [
    "nV = int((NEXC * (NEXC + 1)) / 2)\n",
    "pr['Vnn'] = gv.gvar(nV * ['0.0(5)'])\n",
    "pr['Voo'] = gv.gvar(nV * ['0.0(5)'])\n",
    "pr['Vno'] = gv.gvar(NEXC * [NEXC * ['0.0(5)']])\n",
    "pr['Von'] = gv.gvar(NEXC * [NEXC * ['0.0(5)']])"
   ]
  },
  {
   "cell_type": "code",
   "execution_count": 11,
   "metadata": {},
   "outputs": [
    {
     "name": "stdout",
     "output_type": "stream",
     "text": [
      "dE.Dst [1.16(50) 0.50(50) 0.50(50)]\n",
      "dE.Dst.o [0.50(50) 0.50(50) 0.50(50)]\n",
      "dE.B [1.93(50) 0.50(50) 0.50(50)]\n",
      "dE.B.o [0.50(50) 0.50(50) 0.50(50)]\n",
      "Z.Dst.1S.Bot [0.5(1.0) 1.0(1.0) 1.0(1.0)]\n",
      "Z.Dst.1S.Bot.o [1.0(1.0) 1.0(1.0) 1.0(1.0)]\n",
      "Z.Dst.1S.Par [0.7(1.0) 1.0(1.0) 1.0(1.0)]\n",
      "Z.Dst.1S.Par.o [1.0(1.0) 1.0(1.0) 1.0(1.0)]\n",
      "Z.Dst.d.Bot [0.01(50) 0.01(50) 0.01(50)]\n",
      "Z.Dst.d.Bot.o [0.01(50) 0.01(50) 0.01(50)]\n",
      "Z.Dst.d.Par [0.01(50) 0.01(50) 0.01(50)]\n",
      "Z.Dst.d.Par.o [0.01(50) 0.01(50) 0.01(50)]\n",
      "Z.B.1S.Unpol [2.4(1.0) 1.0(1.0) 1.0(1.0)]\n",
      "Z.B.1S.Unpol.o [1.0(1.0) 1.0(1.0) 1.0(1.0)]\n",
      "Vnn [0 ± 0.50 0 ± 0.50 0 ± 0.50 0 ± 0.50 0 ± 0.50 0 ± 0.50]\n",
      "Voo [0 ± 0.50 0 ± 0.50 0 ± 0.50 0 ± 0.50 0 ± 0.50 0 ± 0.50]\n",
      "Vno [[0 ± 0.50 0 ± 0.50 0 ± 0.50]\n",
      " [0 ± 0.50 0 ± 0.50 0 ± 0.50]\n",
      " [0 ± 0.50 0 ± 0.50 0 ± 0.50]]\n",
      "Von [[0 ± 0.50 0 ± 0.50 0 ± 0.50]\n",
      " [0 ± 0.50 0 ± 0.50 0 ± 0.50]\n",
      " [0 ± 0.50 0 ± 0.50 0 ± 0.50]]\n"
     ]
    }
   ],
   "source": [
    "# logprior = gv.BufferDict()\n",
    "# for k,p in pr.items():\n",
    "#     logprior[f'log({k})'] = gv.log(gv.gvar(p))\n",
    "\n",
    "prior = gv.BufferDict()\n",
    "for k,p in pr.items():\n",
    "    prior[k] = gv.gvar(p)\n",
    "\n",
    "for k,p in prior.items():\n",
    "    print(k,p)"
   ]
  },
  {
   "cell_type": "code",
   "execution_count": 60,
   "metadata": {},
   "outputs": [
    {
     "data": {
      "text/plain": [
       "array([[2.5e+00, 3.5e+00, 4.5e+00],\n",
       "       [2.5e+01, 3.5e+01, 4.5e+01],\n",
       "       [2.5e+02, 3.5e+02, 4.5e+02],\n",
       "       [2.5e+03, 3.5e+03, 4.5e+03]])"
      ]
     },
     "execution_count": 60,
     "metadata": {},
     "output_type": "execute_result"
    }
   ],
   "source": [
    "x = np.array([[1   , 2   , 3   ], [4   , 5   , 6   ]])\n",
    "y = np.array([[10  , 20  , 30  ], [40  , 50  , 60  ]])\n",
    "w = np.array([[100 , 200 , 300 ], [400 , 500 , 600 ]])\n",
    "z = np.array([[1000, 2000, 3000], [4000, 5000, 6000]])\n",
    "zz = np.array([x,y,w,z])\n",
    "\n",
    "np.hstack(zz).mean(axis=0).reshape((4,3))"
   ]
  },
  {
   "cell_type": "markdown",
   "metadata": {},
   "source": [
    "# Model building"
   ]
  },
  {
   "cell_type": "code",
   "execution_count": 12,
   "metadata": {},
   "outputs": [],
   "source": [
    "from b2heavy.FnalHISQMetadata import params\n",
    "from b2heavy.TwoPointFunctions.utils import jkCorr, compute_covariance\n",
    "\n",
    "mdata = params(ENSEMBLE)\n",
    "\n",
    "data = h5py.File(f'/Users/pietro/code/data_analysis/BtoD/Alex/Ensembles/FnalHISQ/a{mdata[\"naSpc\"]}/{mdata[\"hdf5File2\"]}')\n",
    "data = data['data']"
   ]
  },
  {
   "cell_type": "code",
   "execution_count": 13,
   "metadata": {},
   "outputs": [],
   "source": [
    "def format(v):\n",
    "    return gv.gvar(\n",
    "        v.mean(axis=0),\n",
    "        np.cov(v,rowvar=False) * (v.shape[0]-1)\n",
    "    )"
   ]
  },
  {
   "cell_type": "code",
   "execution_count": 14,
   "metadata": {},
   "outputs": [
    {
     "name": "stdout",
     "output_type": "stream",
     "text": [
      "P5_A1_V1_T12_k0.08574_RW_1S_rot_rot_m0.00507_k0.12201_p300\n",
      "P5_A1_V1_T12_k0.08574_RW_RW_rot_rot_m0.00507_k0.12201_p300\n",
      "P5_A1_V1_T13_k0.08574_RW_1S_rot_rot_m0.00507_k0.12201_p300\n",
      "P5_A1_V1_T13_k0.08574_RW_RW_rot_rot_m0.00507_k0.12201_p300\n",
      "P5_A2_V2_T12_k0.08574_RW_1S_rot_rot_m0.00507_k0.12201_p300\n",
      "P5_A2_V2_T12_k0.08574_RW_RW_rot_rot_m0.00507_k0.12201_p300\n",
      "P5_A2_V2_T13_k0.08574_RW_1S_rot_rot_m0.00507_k0.12201_p300\n",
      "P5_A2_V2_T13_k0.08574_RW_RW_rot_rot_m0.00507_k0.12201_p300\n",
      "P5_A3_V3_T12_k0.08574_RW_1S_rot_rot_m0.00507_k0.12201_p300\n",
      "P5_A3_V3_T12_k0.08574_RW_RW_rot_rot_m0.00507_k0.12201_p300\n",
      "P5_A3_V3_T13_k0.08574_RW_1S_rot_rot_m0.00507_k0.12201_p300\n",
      "P5_A3_V3_T13_k0.08574_RW_RW_rot_rot_m0.00507_k0.12201_p300\n"
     ]
    }
   ],
   "source": [
    "s_he = 'k' + mdata['kBStr']\n",
    "s_li = 'k' + mdata['kDStr']\n",
    "s_qq = 'm' + mdata['mlStr']\n",
    "\n",
    "data3 = {}\n",
    "data3all = {}\n",
    "for k in data.keys():\n",
    "    st = k.split('_')\n",
    "    if len(st)==12:\n",
    "        src,cur,snk,tt,kh,s1,s2,s3,s4,mq,kl,pmom = st\n",
    "\n",
    "        B_to_Dst  = kh==s_he and mq==s_qq  and kl==s_li\n",
    "        collinear = cur[-1]==snk[-1]\n",
    "        par       = collinear and cur[-1]=='1'\n",
    "\n",
    "        if B_to_Dst and collinear and pmom=='p300':\n",
    "            pol = 'Par' if par else 'Bot'\n",
    "            smr = '1S' if s2=='1S' else 'd'\n",
    "            data3[f'{src}->{cur}->{snk}.{tt}.{smr}.{pol}'] = format(jkCorr(data[k][:],bsize=BINSIZE[ENSEMBLE]))\n",
    "\n",
    "            print(k)"
   ]
  },
  {
   "cell_type": "code",
   "execution_count": 45,
   "metadata": {},
   "outputs": [],
   "source": [
    "models = []\n",
    "for k in data3:\n",
    "    corr,tt,smr,pol = k.split('.')\n",
    "    src,cur,snk     = corr.split('->')\n",
    "\n",
    "    if corr.endswith('3'):\n",
    "        continue\n",
    "    \n",
    "    if corr.endswith('2'):\n",
    "        othertag = f'{src}->{cur[0]}3->{snk[0]}3.{tt}.{smr}.{pol}'\n",
    "\n",
    "    fcn = cf.Corr3(\n",
    "        datatag   = k,\n",
    "        T         = int(tt[1:]),\n",
    "        tmin      = 2,\n",
    "        dEa       = (f'dE.B'  ,f'dE.B.o'),\n",
    "        dEb       = (f'dE.Dst',f'dE.Dst.o'),\n",
    "        # a         = (f'Z.B.1S.{pol}',f'Z.B.1S.{pol}.o'),\n",
    "        a         = (f'Z.B.1S.Unpol',f'Z.B.1S.Unpol.o'),\n",
    "        b         = (f'Z.Dst.{smr}.{pol}',f'Z.Dst.{smr}.{pol}.o'),\n",
    "        sa        = (1,-1),\n",
    "        sb        = (1,-1),\n",
    "        # otherdata = othertag if pol=='Bot' else None,\n",
    "        Vnn='Vnn', Vno='Vno', Von='Von', Voo='Voo',\n",
    "    )\n",
    "\n",
    "    models.append(fcn)"
   ]
  },
  {
   "cell_type": "code",
   "execution_count": 46,
   "metadata": {},
   "outputs": [],
   "source": [
    "xdatad,ydatad = Dst.format(**cov_specs)\n",
    "\n",
    "\n",
    "for smr,pol in ydatad:\n",
    "    sm1,sm2 = smr.split('-')\n",
    "    \n",
    "    data3['Dst',smr,pol] = ydatad\n",
    "\n",
    "    fcn = cf.Corr2(\n",
    "        datatag = ('Dst',smr,pol),\n",
    "        tp      = Dst.Nt,\n",
    "        s       = (1.,-1.),\n",
    "        tdata   = xdatad,\n",
    "        tmin    = 4,\n",
    "        tmax    = Tmax(ydatad[smr,pol]),\n",
    "        dE      = (f'dE.Dst',f'dE.Dst.o'),\n",
    "        a       = (f'Z.Dst.{sm1}.{pol}',f'Z.Dst.{sm1}.{pol}.o'),\n",
    "        b       = (f'Z.Dst.{sm2}.{pol}',f'Z.Dst.{sm2}.{pol}.o')\n",
    "    )\n",
    "\n",
    "    models.append(fcn)"
   ]
  },
  {
   "cell_type": "code",
   "execution_count": 47,
   "metadata": {},
   "outputs": [],
   "source": [
    "xdatab,ydatab = B.format(**cov_specs)\n",
    "\n",
    "for smr,pol in ydatab:\n",
    "    sm1,sm2 = smr.split('-')\n",
    "\n",
    "    data3['B',smr,pol] = ydatab\n",
    "\n",
    "    fcn = cf.Corr2(\n",
    "        datatag = ('B',smr,pol),\n",
    "        tp      = Dst.Nt,\n",
    "        s       = (1.,-1.),\n",
    "        tdata   = xdatad,\n",
    "        tmin    = 4,\n",
    "        tmax    = Tmax(ydatab[smr,pol]),\n",
    "        dE      = (f'dE.B',f'dE.B.o'),\n",
    "        a       = (f'Z.B.{sm1}.{pol}',f'Z.B.{sm1}.{pol}.o'),\n",
    "        b       = (f'Z.B.{sm2}.{pol}',f'Z.B.{sm2}.{pol}.o')\n",
    "    )\n",
    "\n",
    "    models.append(fcn)"
   ]
  },
  {
   "cell_type": "code",
   "execution_count": 48,
   "metadata": {},
   "outputs": [
    {
     "ename": "IndexError",
     "evalue": "too many indices for array: array is 1-dimensional, but 2 were indexed",
     "output_type": "error",
     "traceback": [
      "\u001b[0;31m---------------------------------------------------------------------------\u001b[0m",
      "\u001b[0;31mIndexError\u001b[0m                                Traceback (most recent call last)",
      "Cell \u001b[0;32mIn[48], line 2\u001b[0m\n\u001b[1;32m      1\u001b[0m fitter \u001b[38;5;241m=\u001b[39m cf\u001b[38;5;241m.\u001b[39mCorrFitter(models\u001b[38;5;241m=\u001b[39mmodels)\n\u001b[0;32m----> 2\u001b[0m cfit \u001b[38;5;241m=\u001b[39m \u001b[43mfitter\u001b[49m\u001b[38;5;241;43m.\u001b[39;49m\u001b[43mlsqfit\u001b[49m\u001b[43m(\u001b[49m\u001b[43mdata\u001b[49m\u001b[38;5;241;43m=\u001b[39;49m\u001b[43mdata3\u001b[49m\u001b[43m,\u001b[49m\u001b[43mprior\u001b[49m\u001b[38;5;241;43m=\u001b[39;49m\u001b[43mprior\u001b[49m\u001b[43m)\u001b[49m\n",
      "File \u001b[0;32m~/opt/anaconda3/envs/stat/lib/python3.11/site-packages/corrfitter/_corrfitter.py:964\u001b[0m, in \u001b[0;36mCorrFitter.lsqfit\u001b[0;34m(self, data, prior, pdata, p0, **kargs)\u001b[0m\n\u001b[1;32m    962\u001b[0m     kargs[\u001b[39m'\u001b[39m\u001b[39mmopt\u001b[39m\u001b[39m'\u001b[39m] \u001b[39m=\u001b[39m kargs[\u001b[39m'\u001b[39m\u001b[39mnterm\u001b[39m\u001b[39m'\u001b[39m]\n\u001b[1;32m    963\u001b[0m     \u001b[39mdel\u001b[39;00m kargs[\u001b[39m'\u001b[39m\u001b[39mnterm\u001b[39m\u001b[39m'\u001b[39m]\n\u001b[0;32m--> 964\u001b[0m \u001b[39mreturn\u001b[39;00m \u001b[39msuper\u001b[39;49m(CorrFitter, \u001b[39mself\u001b[39;49m)\u001b[39m.\u001b[39;49mlsqfit(\n\u001b[1;32m    965\u001b[0m     data\u001b[39m=\u001b[39;49mdata, prior\u001b[39m=\u001b[39;49mprior, pdata\u001b[39m=\u001b[39;49mpdata, p0\u001b[39m=\u001b[39;49mp0, \u001b[39m*\u001b[39;49m\u001b[39m*\u001b[39;49mkargs\n\u001b[1;32m    966\u001b[0m     )\n",
      "File \u001b[0;32m~/opt/anaconda3/envs/stat/lib/python3.11/site-packages/lsqfit/_extras.py:1157\u001b[0m, in \u001b[0;36mMultiFitter.lsqfit\u001b[0;34m(self, data, pdata, prior, p0, chained, **kargs)\u001b[0m\n\u001b[1;32m   1150\u001b[0m fitter_args_kargs \u001b[39m=\u001b[39m (\n\u001b[1;32m   1151\u001b[0m     \u001b[39mself\u001b[39m\u001b[39m.\u001b[39mlsqfit,\n\u001b[1;32m   1152\u001b[0m     \u001b[39mdict\u001b[39m(data\u001b[39m=\u001b[39mdata, prior\u001b[39m=\u001b[39mprior, pdata\u001b[39m=\u001b[39mpdata, models\u001b[39m=\u001b[39m\u001b[39mself\u001b[39m\u001b[39m.\u001b[39mmodels),\n\u001b[1;32m   1153\u001b[0m     \u001b[39mdict\u001b[39m(kargs),\n\u001b[1;32m   1154\u001b[0m     )\n\u001b[1;32m   1156\u001b[0m \u001b[39m# build prior, data and function\u001b[39;00m\n\u001b[0;32m-> 1157\u001b[0m fitprior \u001b[39m=\u001b[39m \u001b[39mself\u001b[39;49m\u001b[39m.\u001b[39;49mbuildprior(prior\u001b[39m=\u001b[39;49mprior, mopt\u001b[39m=\u001b[39;49m\u001b[39mself\u001b[39;49m\u001b[39m.\u001b[39;49mmopt)\n\u001b[1;32m   1158\u001b[0m fitdata \u001b[39m=\u001b[39m \u001b[39mself\u001b[39m\u001b[39m.\u001b[39mbuilddata(\n\u001b[1;32m   1159\u001b[0m     mopt\u001b[39m=\u001b[39m\u001b[39mself\u001b[39m\u001b[39m.\u001b[39mmopt, data\u001b[39m=\u001b[39mdata, pdata\u001b[39m=\u001b[39mpdata, prior\u001b[39m=\u001b[39mprior\n\u001b[1;32m   1160\u001b[0m     )\n\u001b[1;32m   1161\u001b[0m fitfcn \u001b[39m=\u001b[39m \u001b[39mself\u001b[39m\u001b[39m.\u001b[39mbuildfitfcn()\n",
      "File \u001b[0;32m~/opt/anaconda3/envs/stat/lib/python3.11/site-packages/lsqfit/_extras.py:1064\u001b[0m, in \u001b[0;36mMultiFitter.buildprior\u001b[0;34m(self, prior, mopt)\u001b[0m\n\u001b[1;32m   1062\u001b[0m nprior \u001b[39m=\u001b[39m gvar\u001b[39m.\u001b[39mBufferDict()\n\u001b[1;32m   1063\u001b[0m \u001b[39mfor\u001b[39;00m m \u001b[39min\u001b[39;00m \u001b[39mself\u001b[39m\u001b[39m.\u001b[39mflatmodels:\n\u001b[0;32m-> 1064\u001b[0m     nprior\u001b[39m.\u001b[39mupdate(m\u001b[39m.\u001b[39;49mbuildprior(\n\u001b[1;32m   1065\u001b[0m         prior, mopt\u001b[39m=\u001b[39;49mmopt,\n\u001b[1;32m   1066\u001b[0m         ))\n\u001b[1;32m   1067\u001b[0m \u001b[39mif\u001b[39;00m \u001b[39mnot\u001b[39;00m \u001b[39mself\u001b[39m\u001b[39m.\u001b[39mfast:\n\u001b[1;32m   1068\u001b[0m     \u001b[39mfor\u001b[39;00m k \u001b[39min\u001b[39;00m prior:\n",
      "File \u001b[0;32m~/opt/anaconda3/envs/stat/lib/python3.11/site-packages/corrfitter/_corrfitter.py:701\u001b[0m, in \u001b[0;36mCorr3.buildprior\u001b[0;34m(self, prior, mopt, nterm)\u001b[0m\n\u001b[1;32m    699\u001b[0m                 ans[vij] \u001b[39m=\u001b[39m prior[vij][\u001b[39mNone\u001b[39;00m:nterm[j], \u001b[39mNone\u001b[39;00m:nterm[i]]\n\u001b[1;32m    700\u001b[0m             \u001b[39melse\u001b[39;00m:\n\u001b[0;32m--> 701\u001b[0m                 ans[vij] \u001b[39m=\u001b[39m prior[vij][\u001b[39mNone\u001b[39;49;00m:nterm[i], \u001b[39mNone\u001b[39;49;00m:nterm[j]]\n\u001b[1;32m    703\u001b[0m \u001b[39m# verify dimensions\u001b[39;00m\n\u001b[1;32m    704\u001b[0m \u001b[39mfor\u001b[39;00m ai, dEai \u001b[39min\u001b[39;00m \u001b[39mzip\u001b[39m(\u001b[39mself\u001b[39m\u001b[39m.\u001b[39ma, \u001b[39mself\u001b[39m\u001b[39m.\u001b[39mdEa):\n",
      "\u001b[0;31mIndexError\u001b[0m: too many indices for array: array is 1-dimensional, but 2 were indexed"
     ]
    }
   ],
   "source": [
    "fitter = cf.CorrFitter(models=models)\n",
    "cfit = fitter.lsqfit(data=data3,prior=prior)"
   ]
  },
  {
   "cell_type": "code",
   "execution_count": null,
   "metadata": {},
   "outputs": [],
   "source": []
  }
 ],
 "metadata": {
  "kernelspec": {
   "display_name": "Python 3.11.4 ('stat')",
   "language": "python",
   "name": "python3"
  },
  "language_info": {
   "codemirror_mode": {
    "name": "ipython",
    "version": 3
   },
   "file_extension": ".py",
   "mimetype": "text/x-python",
   "name": "python",
   "nbconvert_exporter": "python",
   "pygments_lexer": "ipython3",
   "version": "3.11.4"
  },
  "orig_nbformat": 4,
  "vscode": {
   "interpreter": {
    "hash": "550906e9926f0f588aff226d3abadfa0c6a614c1c5eae7bfa21377021c1cb7ed"
   }
  }
 },
 "nbformat": 4,
 "nbformat_minor": 2
}
