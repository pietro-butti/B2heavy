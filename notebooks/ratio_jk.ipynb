{
 "cells": [
  {
   "cell_type": "code",
   "execution_count": 12,
   "metadata": {},
   "outputs": [],
   "source": [
    "import numpy             as np\n",
    "import gvar              as gv\n",
    "import matplotlib.pyplot as plt\n",
    "import lsqfit"
   ]
  },
  {
   "cell_type": "code",
   "execution_count": 13,
   "metadata": {},
   "outputs": [],
   "source": [
    "from b2heavy import FnalHISQMetadata"
   ]
  },
  {
   "cell_type": "code",
   "execution_count": 14,
   "metadata": {},
   "outputs": [],
   "source": [
    "from b2heavy.TwoPointFunctions.utils     import correlation_diagnostics\n",
    "from b2heavy.TwoPointFunctions.types2pts import CorrelatorIO, plot_effective_coeffs\n",
    "from b2heavy.TwoPointFunctions.fitter    import StagFitter"
   ]
  },
  {
   "cell_type": "code",
   "execution_count": 15,
   "metadata": {},
   "outputs": [],
   "source": [
    "from b2heavy.ThreePointFunctions.types3pts  import Ratio, RatioIO\n",
    "from b2heavy.ThreePointFunctions.fitter3pts import RatioFitter"
   ]
  },
  {
   "cell_type": "markdown",
   "metadata": {},
   "source": [
    "Select a case for which we want to calculate the recoil parameter"
   ]
  },
  {
   "cell_type": "code",
   "execution_count": 16,
   "metadata": {},
   "outputs": [],
   "source": [
    "ENSEMBLE = 'Coarse-1'\n",
    "DATA_DIR = '/Users/pietro/code/data_analysis/BtoD/Alex/'\n",
    "\n",
    "BINSIZE  = {\n",
    "    'MediumCoarse': 13,\n",
    "    'Coarse-1': 11\n",
    "} \n",
    "\n",
    "COV_SPECS = dict(\n",
    "    diag   = False,\n",
    "    block  = False,\n",
    "    scale  = True,\n",
    "    shrink = True,\n",
    "    cutsvd = 0.01\n",
    ")"
   ]
  },
  {
   "cell_type": "code",
   "execution_count": 17,
   "metadata": {},
   "outputs": [],
   "source": [
    "mdata = FnalHISQMetadata.params(ENSEMBLE)\n",
    "LVOL   = mdata['L']\n",
    "alphas = mdata['alphaS'] "
   ]
  },
  {
   "cell_type": "markdown",
   "metadata": {},
   "source": [
    "## Two-pts functions"
   ]
  },
  {
   "cell_type": "code",
   "execution_count": 18,
   "metadata": {},
   "outputs": [],
   "source": [
    "MESON      = 'Dst'\n",
    "SMSLIST  = ['1S-1S','d-d','d-1S']\n",
    "MOM_LIST   = ['000','100','200','300','110','211']\n",
    "TRANGE_EFF = {\n",
    "    'Coarse-1': {\n",
    "        '000': (13,20),\n",
    "        '100': (13,20),\n",
    "        '200': (13,20),\n",
    "        '300': (10,17),\n",
    "        '110': (11,19),\n",
    "        '211': (11,19)\n",
    "    }\n",
    "}\n",
    "TRANGE     = {\n",
    "    'Coarse-1': {\n",
    "        '000': (5,26),\n",
    "        '100': (5,23),\n",
    "        '200': (5,21),\n",
    "        '300': (5,17),\n",
    "        '110': (5,23),\n",
    "        '211': (5,19)\n",
    "    }\n",
    "}"
   ]
  },
  {
   "cell_type": "code",
   "execution_count": 19,
   "metadata": {},
   "outputs": [],
   "source": [
    "# fits = {}\n",
    "# for mom in MOM_LIST:\n",
    "#     print(f'{ mom = :-^20}')\n",
    "\n",
    "#     io   = CorrelatorIO(ENSEMBLE,MESON,mom,PathToDataDir=DATA_DIR)\n",
    "#     stag = StagFitter(\n",
    "#         io       = io,\n",
    "#         jkBin    = BINSIZE[ENSEMBLE],\n",
    "#         smearing = SMSLIST\n",
    "#     )\n",
    "\n",
    "#     effm,effa = stag.meff(\n",
    "#         TRANGE_EFF[ENSEMBLE][mom],\n",
    "#         **COV_SPECS\n",
    "#     )\n",
    "\n",
    "#     fits[mom] = stag.fit(\n",
    "#         Nstates = 3,\n",
    "#         trange  = TRANGE[ENSEMBLE][mom],\n",
    "#         **COV_SPECS\n",
    "#     )"
   ]
  },
  {
   "cell_type": "code",
   "execution_count": 20,
   "metadata": {},
   "outputs": [],
   "source": [
    "if False:\n",
    "    params = {}\n",
    "    for mom in MOM_LIST:\n",
    "        print(f'{ mom = :-^20}')\n",
    "\n",
    "        io   = CorrelatorIO(ENSEMBLE,MESON,mom,PathToDataDir=DATA_DIR)\n",
    "        stag = StagFitter(\n",
    "            io       = io,\n",
    "            jkBin    = BINSIZE[ENSEMBLE],\n",
    "            smearing = SMSLIST\n",
    "        )\n",
    "\n",
    "        effm,effa = stag.meff(\n",
    "            TRANGE_EFF[ENSEMBLE][mom],\n",
    "            **COV_SPECS\n",
    "        )\n",
    "\n",
    "        jk = stag.fit(\n",
    "            Nstates = 3,\n",
    "            trange  = TRANGE[ENSEMBLE][mom],\n",
    "            jkfit   = True,\n",
    "            **COV_SPECS\n",
    "        )\n",
    "\n",
    "        params[mom] = jk\n",
    "\n",
    "    for m in params:\n",
    "        np.save(f'jkfit_{m}.npy',np.asarray(params[m]))"
   ]
  },
  {
   "cell_type": "code",
   "execution_count": 34,
   "metadata": {},
   "outputs": [],
   "source": [
    "params = {mom: np.load(f'jkfit_{mom}.npy') for mom in MOM_LIST}"
   ]
  },
  {
   "cell_type": "code",
   "execution_count": 22,
   "metadata": {},
   "outputs": [
    {
     "name": "stdout",
     "output_type": "stream",
     "text": [
      "Intel MKL WARNING: Support of Intel(R) Streaming SIMD Extensions 4.2 (Intel(R) SSE4.2) enabled only processors has been deprecated. Intel oneAPI Math Kernel Library 2025.0 will require Intel(R) Advanced Vector Extensions (Intel(R) AVX) instructions.\n"
     ]
    },
    {
     "name": "stderr",
     "output_type": "stream",
     "text": [
      "/Users/pietro/code/software/B2heavy/b2heavy/TwoPointFunctions/types2pts.py:38: RuntimeWarning: invalid value encountered in sqrt\n",
      "  m = np.arccosh( (y[(it+1)%len(y)]+y[(it-1)%len(y)])/y[it]/2 )\n",
      "/Users/pietro/code/software/B2heavy/b2heavy/TwoPointFunctions/types2pts.py:38: RuntimeWarning: invalid value encountered in log\n",
      "  m = np.arccosh( (y[(it+1)%len(y)]+y[(it-1)%len(y)])/y[it]/2 )\n",
      "/Users/pietro/code/software/B2heavy/b2heavy/TwoPointFunctions/types2pts.py:38: RuntimeWarning: invalid value encountered in arccosh\n",
      "  m = np.arccosh( (y[(it+1)%len(y)]+y[(it-1)%len(y)])/y[it]/2 )\n",
      "100%|██████████| 90/90 [00:40<00:00,  2.24it/s]\n"
     ]
    }
   ],
   "source": [
    "io   = CorrelatorIO(ENSEMBLE,MESON,'100',PathToDataDir=DATA_DIR)\n",
    "stag = StagFitter(\n",
    "    io       = io,\n",
    "    jkBin    = BINSIZE[ENSEMBLE],\n",
    "    smearing = SMSLIST\n",
    ")\n",
    "\n",
    "effm,effa = stag.meff(\n",
    "    TRANGE_EFF[ENSEMBLE]['100'],\n",
    "    **COV_SPECS\n",
    ")\n",
    "\n",
    "jk = stag.fit(\n",
    "    Nstates = 3,\n",
    "    trange  = TRANGE[ENSEMBLE]['100'],\n",
    "    jkfit   = True,\n",
    "    **COV_SPECS\n",
    ")"
   ]
  },
  {
   "cell_type": "code",
   "execution_count": 33,
   "metadata": {},
   "outputs": [],
   "source": [
    "m0   = params['000'][:,0]\n",
    "E0   = jk['E'][:,0]\n",
    "Zpar = jk['Z_1S_Par'][:,0]\n",
    "Zbot = jk['Z_1S_Bot'][:,0]"
   ]
  },
  {
   "cell_type": "markdown",
   "metadata": {},
   "source": [
    "## Three-pts functions"
   ]
  },
  {
   "cell_type": "code",
   "execution_count": 29,
   "metadata": {},
   "outputs": [],
   "source": [
    "RATIO  = 'R0'\n",
    "MOM    = '100'\n",
    "SMLIST = ['1S']\n",
    "\n",
    "Nstates = 1\n",
    "trange  = (3,11)"
   ]
  },
  {
   "cell_type": "code",
   "execution_count": 30,
   "metadata": {},
   "outputs": [],
   "source": [
    "energy = {mom: params[mom][:,0] for mom in params}"
   ]
  },
  {
   "cell_type": "code",
   "execution_count": 31,
   "metadata": {},
   "outputs": [
    {
     "data": {
      "text/plain": [
       "0.0160(83)"
      ]
     },
     "execution_count": 31,
     "metadata": {},
     "output_type": "execute_result"
    }
   ],
   "source": [
    "m0 = gv.gvar(energy['000'].mean(),energy['000'].std()*np.sqrt(len(energy['000']-1)))\n",
    "E0 = gv.gvar(energy[MOM].mean(),energy[MOM].std()*np.sqrt(len(energy[MOM]-1)))\n",
    "\n",
    "E0-m0"
   ]
  },
  {
   "cell_type": "markdown",
   "metadata": {},
   "source": [
    "Initialize ratio objects"
   ]
  },
  {
   "cell_type": "code",
   "execution_count": 32,
   "metadata": {},
   "outputs": [
    {
     "ename": "Exception",
     "evalue": "For R0 ratio, Z_1S_par and Z_1S_bot must be provided",
     "output_type": "error",
     "traceback": [
      "\u001b[0;31m---------------------------------------------------------------------------\u001b[0m",
      "\u001b[0;31mException\u001b[0m                                 Traceback (most recent call last)",
      "Cell \u001b[0;32mIn[32], line 2\u001b[0m\n\u001b[1;32m      1\u001b[0m io \u001b[38;5;241m=\u001b[39m RatioIO(ENSEMBLE,RATIO,MOM,PathToDataDir\u001b[38;5;241m=\u001b[39mDATA_DIR)\n\u001b[0;32m----> 2\u001b[0m ratio \u001b[38;5;241m=\u001b[39m \u001b[43mRatio\u001b[49m\u001b[43m(\u001b[49m\n\u001b[1;32m      3\u001b[0m \u001b[43m    \u001b[49m\u001b[43mio\u001b[49m\u001b[43m,\u001b[49m\n\u001b[1;32m      4\u001b[0m \u001b[43m    \u001b[49m\u001b[43mjkBin\u001b[49m\u001b[43m    \u001b[49m\u001b[38;5;241;43m=\u001b[39;49m\u001b[43m \u001b[49m\u001b[43mBINSIZE\u001b[49m\u001b[43m[\u001b[49m\u001b[43mENSEMBLE\u001b[49m\u001b[43m]\u001b[49m\u001b[43m,\u001b[49m\n\u001b[1;32m      5\u001b[0m \u001b[43m    \u001b[49m\u001b[43msmearing\u001b[49m\u001b[43m \u001b[49m\u001b[38;5;241;43m=\u001b[39;49m\u001b[43m \u001b[49m\u001b[43mSMLIST\u001b[49m\u001b[43m,\u001b[49m\n\u001b[1;32m      6\u001b[0m \u001b[43m    \u001b[49m\u001b[43mE0\u001b[49m\u001b[43m       \u001b[49m\u001b[38;5;241;43m=\u001b[39;49m\u001b[43m \u001b[49m\u001b[43menergy\u001b[49m\u001b[43m[\u001b[49m\u001b[43mMOM\u001b[49m\u001b[43m]\u001b[49m\u001b[38;5;241;43m.\u001b[39;49m\u001b[43mmean\u001b[49m\u001b[43m(\u001b[49m\u001b[43m)\u001b[49m\u001b[43m,\u001b[49m\n\u001b[1;32m      7\u001b[0m \u001b[43m    \u001b[49m\u001b[43mm0\u001b[49m\u001b[43m       \u001b[49m\u001b[38;5;241;43m=\u001b[39;49m\u001b[43m \u001b[49m\u001b[43menergy\u001b[49m\u001b[43m[\u001b[49m\u001b[38;5;124;43m'\u001b[39;49m\u001b[38;5;124;43m000\u001b[39;49m\u001b[38;5;124;43m'\u001b[39;49m\u001b[43m]\u001b[49m\u001b[38;5;241;43m.\u001b[39;49m\u001b[43mmean\u001b[49m\u001b[43m(\u001b[49m\u001b[43m)\u001b[49m\n\u001b[1;32m      8\u001b[0m \u001b[43m)\u001b[49m\n",
      "File \u001b[0;32m~/code/software/B2heavy/b2heavy/ThreePointFunctions/types3pts.py:475\u001b[0m, in \u001b[0;36mRatio.__init__\u001b[0;34m(self, io, jkBin, smearing, E0, m0, Zpar, Zbot, Z0, wrecoil, **kwargs)\u001b[0m\n\u001b[1;32m    473\u001b[0m \u001b[39mif\u001b[39;00m \u001b[39mself\u001b[39m\u001b[39m.\u001b[39minfo\u001b[39m.\u001b[39mratio \u001b[39min\u001b[39;00m [\u001b[39m'\u001b[39m\u001b[39mR0\u001b[39m\u001b[39m'\u001b[39m,\u001b[39m'\u001b[39m\u001b[39mR1\u001b[39m\u001b[39m'\u001b[39m]:\n\u001b[1;32m    474\u001b[0m     \u001b[39mif\u001b[39;00m Zpar \u001b[39mis\u001b[39;00m \u001b[39mNone\u001b[39;00m \u001b[39mor\u001b[39;00m Zbot \u001b[39mis\u001b[39;00m \u001b[39mNone\u001b[39;00m:\n\u001b[0;32m--> 475\u001b[0m         \u001b[39mraise\u001b[39;00m \u001b[39mException\u001b[39;00m(\u001b[39m'\u001b[39m\u001b[39mFor R0 ratio, Z_1S_par and Z_1S_bot must be provided\u001b[39m\u001b[39m'\u001b[39m) \n\u001b[1;32m    476\u001b[0m     \u001b[39melse\u001b[39;00m:\n\u001b[1;32m    477\u001b[0m         factor \u001b[39m=\u001b[39m np\u001b[39m.\u001b[39msqrt(Zbot\u001b[39m/\u001b[39mZpar)\n",
      "\u001b[0;31mException\u001b[0m: For R0 ratio, Z_1S_par and Z_1S_bot must be provided"
     ]
    }
   ],
   "source": [
    "io = RatioIO(ENSEMBLE,RATIO,MOM,PathToDataDir=DATA_DIR)\n",
    "data = io.ReadRatio(\n",
    "    jkBin= 11,\n",
    "    E0   = E0,\n",
    "    m0   = m0,\n",
    "    sms  = ['1S']\n",
    ")\n"
   ]
  },
  {
   "cell_type": "code",
   "execution_count": null,
   "metadata": {},
   "outputs": [],
   "source": [
    "ratio"
   ]
  }
 ],
 "metadata": {
  "kernelspec": {
   "display_name": "Python 3.11.4 ('stat')",
   "language": "python",
   "name": "python3"
  },
  "language_info": {
   "codemirror_mode": {
    "name": "ipython",
    "version": 3
   },
   "file_extension": ".py",
   "mimetype": "text/x-python",
   "name": "python",
   "nbconvert_exporter": "python",
   "pygments_lexer": "ipython3",
   "version": "3.11.4"
  },
  "orig_nbformat": 4,
  "vscode": {
   "interpreter": {
    "hash": "550906e9926f0f588aff226d3abadfa0c6a614c1c5eae7bfa21377021c1cb7ed"
   }
  }
 },
 "nbformat": 4,
 "nbformat_minor": 2
}
