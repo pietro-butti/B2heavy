{
 "cells": [
  {
   "cell_type": "code",
   "execution_count": 1,
   "metadata": {},
   "outputs": [],
   "source": [
    "import numpy             as np\n",
    "import gvar              as gv\n",
    "import matplotlib.pyplot as plt\n",
    "import lsqfit\n",
    "import itertools\n",
    "from tqdm import tqdm"
   ]
  },
  {
   "cell_type": "code",
   "execution_count": 2,
   "metadata": {},
   "outputs": [],
   "source": [
    "from b2heavy.FnalHISQMetadata import params as mData"
   ]
  },
  {
   "cell_type": "code",
   "execution_count": 3,
   "metadata": {},
   "outputs": [],
   "source": [
    "from b2heavy.ThreePointFunctions.types3pts  import Ratio, RatioIO, ratio_prerequisites\n",
    "from b2heavy.ThreePointFunctions.fitter3pts import RatioFitter, phys_energy_priors\n",
    "from b2heavy.ThreePointFunctions.utils      import read_config_fit, dump_fit_object"
   ]
  },
  {
   "cell_type": "code",
   "execution_count": 4,
   "metadata": {},
   "outputs": [],
   "source": [
    "DATA_DIR = '/Users/pietro/code/data_analysis/BtoD/Alex/'\n",
    "DATA_2PT = '/Users/pietro/code/data_analysis/data/QCDNf2p1stag/B2heavy/lattice24'\n",
    "\n",
    "BINSIZE  = {\n",
    "    'MediumCoarse':13,\n",
    "    'Coarse-2':    16,\n",
    "    'Coarse-1':    11,\n",
    "    'Coarse-Phys': 19,\n",
    "    'Fine-1':      16,\n",
    "    'Fine-Phys':   16,\n",
    "    'SuperFine':   22\n",
    "}"
   ]
  },
  {
   "cell_type": "code",
   "execution_count": 29,
   "metadata": {},
   "outputs": [],
   "source": [
    "ENSEMBLE = 'Fine-Phys'\n",
    "RATIO    = 'RA1'\n",
    "MOMENTUM = '100'\n",
    "\n",
    "# SMSLIST  = ['1S','RW']\n",
    "SMSLIST  = ['1S']"
   ]
  },
  {
   "cell_type": "code",
   "execution_count": 30,
   "metadata": {},
   "outputs": [],
   "source": [
    "# Correlation matrix specifics\n",
    "DIAG   = False\n",
    "BLOCK  = False\n",
    "SCALE  = True\n",
    "SHRINK = True\n",
    "SVD    = 1E-12"
   ]
  },
  {
   "cell_type": "code",
   "execution_count": 31,
   "metadata": {},
   "outputs": [],
   "source": [
    "# Specifics of the analysis\n",
    "TMIN    = 2\n",
    "NSTATES = 2\n",
    "WPRIORS = True\n",
    "JKFIT   = False"
   ]
  },
  {
   "cell_type": "markdown",
   "metadata": {},
   "source": [
    "In the following we look for requisites for the ratio calculation"
   ]
  },
  {
   "cell_type": "code",
   "execution_count": 32,
   "metadata": {},
   "outputs": [
    {
     "data": {
      "text/plain": [
       "{'E0': 0.8359044218191733,\n",
       " 'm0': 0.8268518179647764,\n",
       " 'Z0': {'1S': 3.4036585542162476, 'd': 0.01228810113574781},\n",
       " 'Zpar': {'1S': 3.503955955516256, 'd': 0.013262466924029019},\n",
       " 'Zbot': {'1S': 3.3724825579944953, 'd': 0.012864999706751564},\n",
       " 'Zp': {'1S': None, 'd': None},\n",
       " 'wrecoil': 1.010948278346511,\n",
       " 'jk': False}"
      ]
     },
     "execution_count": 32,
     "metadata": {},
     "output_type": "execute_result"
    }
   ],
   "source": [
    "requisites = ratio_prerequisites(\n",
    "    ens      = ENSEMBLE,\n",
    "    ratio    = RATIO,\n",
    "    mom      = MOMENTUM,\n",
    "    readfrom = DATA_2PT,\n",
    "    jk       = False\n",
    ")\n",
    "\n",
    "requisites"
   ]
  },
  {
   "cell_type": "markdown",
   "metadata": {},
   "source": [
    "Here we initialize the master object that contains a ratio at given momentum for a given ensemble"
   ]
  },
  {
   "cell_type": "code",
   "execution_count": 33,
   "metadata": {},
   "outputs": [],
   "source": [
    "io = RatioIO(ENSEMBLE,RATIO,MOMENTUM,PathToDataDir=DATA_DIR)\n",
    "robj = RatioFitter(\n",
    "    io,\n",
    "    jkBin     = BINSIZE[ENSEMBLE],\n",
    "    smearing  = SMSLIST,\n",
    "    readfrom  = DATA_2PT,\n",
    "    **requisites\n",
    ")"
   ]
  },
  {
   "cell_type": "code",
   "execution_count": 34,
   "metadata": {},
   "outputs": [
    {
     "data": {
      "image/png": "[encoded data removed]",
      "text/plain": [
       "<Figure size 500x300 with 1 Axes>"
      ]
     },
     "metadata": {},
     "output_type": "display_data"
    }
   ],
   "source": [
    "f, ax = plt.subplots(1,1,figsize=(5,3))\n",
    "robj.plot(ax)"
   ]
  },
  {
   "cell_type": "code",
   "execution_count": 11,
   "metadata": {},
   "outputs": [],
   "source": [
    "trange = (TMIN, robj.Ta-TMIN)"
   ]
  },
  {
   "cell_type": "markdown",
   "metadata": {},
   "source": [
    "Here we elaborate the optimal $\\epsilon$ cut for correlation matrix"
   ]
  },
  {
   "cell_type": "code",
   "execution_count": 13,
   "metadata": {},
   "outputs": [
    {
     "data": {
      "text/plain": [
       "{'diag': False, 'block': False, 'scale': True, 'shrink': True, 'cutsvd': 1e-12}"
      ]
     },
     "execution_count": 13,
     "metadata": {},
     "output_type": "execute_result"
    }
   ],
   "source": [
    "cov_specs = dict(\n",
    "    diag   = DIAG  ,\n",
    "    block  = BLOCK ,\n",
    "    scale  = SCALE ,\n",
    "    shrink = SHRINK,\n",
    "    # cutsvd = find_eps_cut(robj,trange)\n",
    "    cutsvd = 1E-12\n",
    ")\n",
    "\n",
    "cov_specs"
   ]
  },
  {
   "cell_type": "markdown",
   "metadata": {},
   "source": [
    "Here we compute fit priors"
   ]
  },
  {
   "cell_type": "code",
   "execution_count": 14,
   "metadata": {},
   "outputs": [
    {
     "data": {
      "text/plain": [
       "{'ratio': [0.50(10)],\n",
       " 'A_1S': [0 ± 1.0, 0 ± 1.0],\n",
       " 'B_1S': [0 ± 1.0, 0 ± 1.0],\n",
       " 'dE_src': [-1.11(50), -0.59(50)]}"
      ]
     },
     "execution_count": 14,
     "metadata": {},
     "output_type": "execute_result"
    }
   ],
   "source": [
    "dE_src = phys_energy_priors(ENSEMBLE,'D',MOMENTUM,NSTATES,readfrom=DATA_2PT,error=0.5)\n",
    "dE_snk = phys_energy_priors(ENSEMBLE,'B',MOMENTUM,NSTATES,readfrom=DATA_2PT,error=0.5)\n",
    "\n",
    "pr = robj.priors(NSTATES, dE_src=dE_src, dE_snk=dE_snk)\n",
    "pr"
   ]
  },
  {
   "cell_type": "markdown",
   "metadata": {},
   "source": [
    "Here we perform the fit"
   ]
  },
  {
   "cell_type": "code",
   "execution_count": 15,
   "metadata": {},
   "outputs": [
    {
     "name": "stdout",
     "output_type": "stream",
     "text": [
      "Intel MKL WARNING: Support of Intel(R) Streaming SIMD Extensions 4.2 (Intel(R) SSE4.2) enabled only processors has been deprecated. Intel oneAPI Math Kernel Library 2025.0 will require Intel(R) Advanced Vector Extensions (Intel(R) AVX) instructions.\n"
     ]
    }
   ],
   "source": [
    "fit = robj.fit(\n",
    "    Nstates = NSTATES,\n",
    "    trange  = trange,\n",
    "    priors  = pr,\n",
    "    verbose = False,\n",
    "    **cov_specs,\n",
    ")"
   ]
  },
  {
   "cell_type": "code",
   "execution_count": 16,
   "metadata": {},
   "outputs": [
    {
     "name": "stdout",
     "output_type": "stream",
     "text": [
      "# ---------- chi^2_exp analysis -------------\n",
      "# chi2_exp = 14.000000000017295 +/- 5.291502622129574 \n",
      "# p-value [eval] = 0.934\n",
      "# p-value [MC]   = 0.9337\n",
      "# ---------- 2+2 fit in (2, 15) for mes: RA1 of ens: Fine-1 for mom: 100 --------------\n",
      "Least Square Fit:\n",
      "  chi2/dof [dof] = 0.5 [14]    Q = 0.93    logGBF = 62.835\n",
      "\n",
      "Parameters:\n",
      "        ratio 0   0.506 (16)     [  0.50 (10) ]  \n",
      "         A_1S 0   -0.08 (15)     [    0 ± 1.0 ]  \n",
      "              1    0.14 (14)     [    0 ± 1.0 ]  \n",
      "         B_1S 0   -0.13 (23)     [    0 ± 1.0 ]  \n",
      "              1    0.29 (23)     [    0 ± 1.0 ]  \n",
      "       dE_src 0   -1.12 (49)     [ -1.11 (50) ]  \n",
      "              1   -0.51 (47)     [ -0.59 (50) ]  \n",
      "\n",
      "Settings:\n",
      "  svdcut/n = 0/0    tol = (1e-08,1e-10,1e-10*)    (itns/time = 9/0.2)\n",
      "  fitter = scipy_least_squares    method = trf\n",
      "\n",
      "# red chi2       = 6.88\n",
      "# aug chi2       = 7.03\n",
      "# chi2_exp       = 14.00\n",
      "# chi2/chi_exp   = 0.50\n",
      "# p-value (exp)  = 0.93\n",
      "# p-value (std)  = 0.53\n"
     ]
    }
   ],
   "source": [
    "res = robj.fit_result(\n",
    "    Nexc   = NSTATES,\n",
    "    trange = trange,\n",
    "    verbose = True,\n",
    "    priors = pr \n",
    ")"
   ]
  },
  {
   "cell_type": "code",
   "execution_count": 17,
   "metadata": {},
   "outputs": [
    {
     "name": "stderr",
     "output_type": "stream",
     "text": [
      "No artists with labels found to put in legend.  Note that artists whose label start with an underscore are ignored when legend() is called with no argument.\n"
     ]
    },
    {
     "data": {
      "image/png": "[encoded data removed]",
      "text/plain": [
       "<Figure size 600x600 with 1 Axes>"
      ]
     },
     "metadata": {},
     "output_type": "display_data"
    }
   ],
   "source": [
    "plt.rcParams['text.usetex'] = True\n",
    "plt.rcParams['font.size'] = 12\n",
    "\n",
    "# f, ax = plt.subplots(1,1,figsize=(8,4))\n",
    "f, ax = plt.subplots(1,1,figsize=(6,6))\n",
    "\n",
    "robj.plot_fit(ax,NSTATES,trange)\n",
    "\n",
    "f0 = pr['ratio'][0]\n",
    "ax.axhspan(ymin=f0.mean-f0.sdev,ymax=f0.mean+f0.sdev,alpha=0.1,color='gray')\n",
    "\n",
    "# ax.set_xlim(-0.5,18)\n",
    "ax.grid(alpha=0.2)\n",
    "ax.legend()\n",
    "ax.set_title(f'{ENSEMBLE}_{RATIO}_{MOMENTUM}')\n",
    "plt.tight_layout()\n",
    "# plt.savefig('/Users/pietro/Desktop/bad_ratio.pdf')"
   ]
  },
  {
   "cell_type": "markdown",
   "metadata": {},
   "source": [
    "# Model average for `Nstates` and trange"
   ]
  },
  {
   "cell_type": "code",
   "execution_count": 18,
   "metadata": {},
   "outputs": [
    {
     "name": "stdout",
     "output_type": "stream",
     "text": [
      "Nstates=1,tmin=1\n",
      "# ---------- chi^2_exp analysis -------------\n",
      "# chi2_exp = 15.999999999999671 +/- 5.6568542494928495 \n",
      "# p-value [eval] = 0.7873\n",
      "# p-value [MC]   = 0.7847999999999999\n",
      "Nstates=1,tmin=2\n",
      "# ---------- chi^2_exp analysis -------------\n",
      "# chi2_exp = 14.000000000000894 +/- 5.29150262212963 \n",
      "# p-value [eval] = 0.7359\n",
      "# p-value [MC]   = 0.7282\n",
      "Nstates=1,tmin=3\n",
      "# ---------- chi^2_exp analysis -------------\n",
      "# chi2_exp = 11.999999999999611 +/- 4.8989794855664615 \n",
      "# p-value [eval] = 0.7818\n",
      "# p-value [MC]   = 0.7709\n",
      "Nstates=1,tmin=4\n",
      "# ---------- chi^2_exp analysis -------------\n",
      "# chi2_exp = 10.000000000000878 +/- 4.47213595499974 \n",
      "# p-value [eval] = 0.8869\n",
      "# p-value [MC]   = 0.8942\n",
      "Nstates=2,tmin=1\n",
      "# ---------- chi^2_exp analysis -------------\n",
      "# chi2_exp = 16.000000000003652 +/- 5.656854249492798 \n",
      "# p-value [eval] = 0.8773\n",
      "# p-value [MC]   = 0.8813\n",
      "Nstates=2,tmin=2\n",
      "# ---------- chi^2_exp analysis -------------\n",
      "# chi2_exp = 13.999999999997238 +/- 5.291502622129536 \n",
      "# p-value [eval] = 0.9204\n",
      "# p-value [MC]   = 0.9169\n",
      "Nstates=2,tmin=3\n",
      "# ---------- chi^2_exp analysis -------------\n",
      "# chi2_exp = 11.999999999998394 +/- 4.898979485566366 \n",
      "# p-value [eval] = 0.8513\n",
      "# p-value [MC]   = 0.8495\n",
      "Nstates=2,tmin=4\n",
      "# ---------- chi^2_exp analysis -------------\n",
      "# chi2_exp = 9.99999999999916 +/- 4.472135954999773 \n",
      "# p-value [eval] = 0.9273\n",
      "# p-value [MC]   = 0.9247\n",
      "Nstates=3,tmin=1\n",
      "# ---------- chi^2_exp analysis -------------\n",
      "# chi2_exp = 15.999999999997108 +/- 5.656854249492708 \n",
      "# p-value [eval] = 0.9381\n",
      "# p-value [MC]   = 0.9381\n",
      "Nstates=3,tmin=2\n",
      "# ---------- chi^2_exp analysis -------------\n",
      "# chi2_exp = 13.999999999967855 +/- 5.291502622129013 \n",
      "# p-value [eval] = 0.9231\n",
      "# p-value [MC]   = 0.9251\n",
      "Nstates=3,tmin=3\n",
      "# ---------- chi^2_exp analysis -------------\n",
      "# chi2_exp = 12.00000000004572 +/- 4.898979485566725 \n",
      "# p-value [eval] = 0.8728\n",
      "# p-value [MC]   = 0.8734999999999999\n",
      "Nstates=3,tmin=4\n",
      "# ---------- chi^2_exp analysis -------------\n",
      "# chi2_exp = 10.000000000005128 +/- 4.472135954999637 \n",
      "# p-value [eval] = 0.9413\n",
      "# p-value [MC]   = 0.9385\n"
     ]
    }
   ],
   "source": [
    "TIC = {}\n",
    "pval = {}\n",
    "for Nstates in [1,2,3]:\n",
    "    dE_src = phys_energy_priors(ENSEMBLE,'Dst',MOMENTUM,Nstates,readfrom=DATA_2PT)\n",
    "    dE_snk = phys_energy_priors(ENSEMBLE,'B'  ,MOMENTUM,Nstates,readfrom=DATA_2PT)\n",
    "    x,ydata = robj.format(trange,flatten=True)\n",
    "    pr = robj.priors(Nstates, dE_src=dE_src, dE_snk=dE_snk)\n",
    "\n",
    "    for tmin in [1,2,3,4]:\n",
    "        print(f'{Nstates=},{tmin=}')\n",
    "\n",
    "        trange = (tmin, robj.Ta-tmin)\n",
    "\n",
    "        fit = robj.fit(\n",
    "            Nstates = Nstates,\n",
    "            trange  = trange,\n",
    "            priors  = pr,\n",
    "            verbose = False,\n",
    "            **cov_specs\n",
    "        )\n",
    "\n",
    "        res = robj.fit_result(\n",
    "            Nexc   = Nstates,\n",
    "            trange = trange,\n",
    "            priors = pr,\n",
    "            verbose = False\n",
    "        )\n",
    "        TIC[Nstates,trange] = float((res['chi2aug'] - 2*res['chiexp']))\n",
    "        pval[Nstates,trange] = res['pstd']"
   ]
  },
  {
   "cell_type": "code",
   "execution_count": 19,
   "metadata": {},
   "outputs": [
    {
     "data": {
      "text/plain": [
       "{(1, (1, 16)): -20.648140889935064,\n",
       " (1, (2, 15)): -17.551334452030016,\n",
       " (1, (3, 14)): -15.908932347404539,\n",
       " (1, (4, 13)): -14.97332807012101,\n",
       " (2, (1, 16)): -22.315548136493884,\n",
       " (2, (2, 15)): -20.543668682255756,\n",
       " (2, (3, 14)): -16.88207365584301,\n",
       " (2, (4, 13)): -15.626294054347902,\n",
       " (3, (1, 16)): -23.650200488809805,\n",
       " (3, (2, 15)): -20.683446210237502,\n",
       " (3, (3, 14)): -17.231466185523796,\n",
       " (3, (4, 13)): -15.816157925196332}"
      ]
     },
     "execution_count": 19,
     "metadata": {},
     "output_type": "execute_result"
    }
   ],
   "source": [
    "TIC"
   ]
  },
  {
   "cell_type": "code",
   "execution_count": 20,
   "metadata": {},
   "outputs": [
    {
     "name": "stdout",
     "output_type": "stream",
     "text": [
      "0.512(46) 0.010173535409181473\n"
     ]
    }
   ],
   "source": [
    "norm = np.exp(-np.array(list(TIC.values()))/2).sum()\n",
    "\n",
    "vals = np.array([f.p['ratio'][0] for k,f in robj.fits.items()])\n",
    "weig = np.array([np.exp(-TIC[k]/2)/norm for k in robj.fits]   )\n",
    "\n",
    "stat = sum(vals * weig)\n",
    "syst = np.sqrt(gv.mean(sum(weig*vals*vals) - (sum(weig*vals))**2))\n",
    "\n",
    "\n",
    "print(stat,syst)"
   ]
  },
  {
   "cell_type": "markdown",
   "metadata": {},
   "source": [
    "Print the results"
   ]
  },
  {
   "cell_type": "code",
   "execution_count": 21,
   "metadata": {},
   "outputs": [
    {
     "ename": "KeyError",
     "evalue": "(1, (1, 15))",
     "output_type": "error",
     "traceback": [
      "\u001b[0;31m---------------------------------------------------------------------------\u001b[0m",
      "\u001b[0;31mKeyError\u001b[0m                                  Traceback (most recent call last)",
      "Cell \u001b[0;32mIn[21], line 9\u001b[0m\n\u001b[1;32m      6\u001b[0m ax2 \u001b[38;5;241m=\u001b[39m ax[\u001b[38;5;241m1\u001b[39m]\u001b[38;5;241m.\u001b[39mtwinx()\n\u001b[1;32m      8\u001b[0m \u001b[38;5;28;01mfor\u001b[39;00m i,n \u001b[38;5;129;01min\u001b[39;00m \u001b[38;5;28menumerate\u001b[39m([\u001b[38;5;241m1\u001b[39m,\u001b[38;5;241m2\u001b[39m,\u001b[38;5;241m3\u001b[39m]):\n\u001b[0;32m----> 9\u001b[0m     f0 \u001b[38;5;241m=\u001b[39m \u001b[43m[\u001b[49m\u001b[43mrobj\u001b[49m\u001b[38;5;241;43m.\u001b[39;49m\u001b[43mfits\u001b[49m\u001b[43m[\u001b[49m\u001b[43mn\u001b[49m\u001b[43m,\u001b[49m\u001b[43mtr\u001b[49m\u001b[43m]\u001b[49m\u001b[38;5;241;43m.\u001b[39;49m\u001b[43mp\u001b[49m\u001b[43m[\u001b[49m\u001b[38;5;124;43m'\u001b[39;49m\u001b[38;5;124;43mratio\u001b[39;49m\u001b[38;5;124;43m'\u001b[39;49m\u001b[43m]\u001b[49m\u001b[43m[\u001b[49m\u001b[38;5;241;43m0\u001b[39;49m\u001b[43m]\u001b[49m\u001b[43m \u001b[49m\u001b[38;5;28;43;01mfor\u001b[39;49;00m\u001b[43m \u001b[49m\u001b[43mtr\u001b[49m\u001b[43m \u001b[49m\u001b[38;5;129;43;01min\u001b[39;49;00m\u001b[43m \u001b[49m\u001b[43mtranges\u001b[49m\u001b[43m]\u001b[49m\n\u001b[1;32m     10\u001b[0m     off \u001b[38;5;241m=\u001b[39m \u001b[38;5;241m-\u001b[39m\u001b[38;5;241m0.05\u001b[39m\u001b[38;5;241m*\u001b[39mi \u001b[38;5;241m+\u001b[39m \u001b[38;5;241m0.05\u001b[39m\n\u001b[1;32m     11\u001b[0m     ax[\u001b[38;5;241m0\u001b[39m]\u001b[38;5;241m.\u001b[39merrorbar(ts\u001b[38;5;241m+\u001b[39moff,gv\u001b[38;5;241m.\u001b[39mmean(f0),gv\u001b[38;5;241m.\u001b[39msdev(f0),fmt\u001b[38;5;241m=\u001b[39m\u001b[38;5;124m'\u001b[39m\u001b[38;5;124mo\u001b[39m\u001b[38;5;124m'\u001b[39m, color\u001b[38;5;241m=\u001b[39m\u001b[38;5;124mf\u001b[39m\u001b[38;5;124m'\u001b[39m\u001b[38;5;124mC\u001b[39m\u001b[38;5;132;01m{\u001b[39;00mi\u001b[38;5;132;01m}\u001b[39;00m\u001b[38;5;124m'\u001b[39m, capsize\u001b[38;5;241m=\u001b[39m\u001b[38;5;241m2.5\u001b[39m, label\u001b[38;5;241m=\u001b[39m\u001b[38;5;124mf\u001b[39m\u001b[38;5;124m'\u001b[39m\u001b[38;5;124m(\u001b[39m\u001b[38;5;132;01m{\u001b[39;00mn\u001b[38;5;241m+\u001b[39m\u001b[38;5;241m1\u001b[39m\u001b[38;5;132;01m}\u001b[39;00m\u001b[38;5;124m+\u001b[39m\u001b[38;5;132;01m{\u001b[39;00mn\u001b[38;5;241m+\u001b[39m\u001b[38;5;241m1\u001b[39m\u001b[38;5;132;01m}\u001b[39;00m\u001b[38;5;124m)\u001b[39m\u001b[38;5;124m'\u001b[39m)\n",
      "Cell \u001b[0;32mIn[21], line 9\u001b[0m, in \u001b[0;36m<listcomp>\u001b[0;34m(.0)\u001b[0m\n\u001b[1;32m      6\u001b[0m ax2 \u001b[38;5;241m=\u001b[39m ax[\u001b[38;5;241m1\u001b[39m]\u001b[38;5;241m.\u001b[39mtwinx()\n\u001b[1;32m      8\u001b[0m \u001b[38;5;28;01mfor\u001b[39;00m i,n \u001b[38;5;129;01min\u001b[39;00m \u001b[38;5;28menumerate\u001b[39m([\u001b[38;5;241m1\u001b[39m,\u001b[38;5;241m2\u001b[39m,\u001b[38;5;241m3\u001b[39m]):\n\u001b[0;32m----> 9\u001b[0m     f0 \u001b[38;5;241m=\u001b[39m [\u001b[43mrobj\u001b[49m\u001b[38;5;241;43m.\u001b[39;49m\u001b[43mfits\u001b[49m\u001b[43m[\u001b[49m\u001b[43mn\u001b[49m\u001b[43m,\u001b[49m\u001b[43mtr\u001b[49m\u001b[43m]\u001b[49m\u001b[38;5;241m.\u001b[39mp[\u001b[38;5;124m'\u001b[39m\u001b[38;5;124mratio\u001b[39m\u001b[38;5;124m'\u001b[39m][\u001b[38;5;241m0\u001b[39m] \u001b[38;5;28;01mfor\u001b[39;00m tr \u001b[38;5;129;01min\u001b[39;00m tranges]\n\u001b[1;32m     10\u001b[0m     off \u001b[38;5;241m=\u001b[39m \u001b[38;5;241m-\u001b[39m\u001b[38;5;241m0.05\u001b[39m\u001b[38;5;241m*\u001b[39mi \u001b[38;5;241m+\u001b[39m \u001b[38;5;241m0.05\u001b[39m\n\u001b[1;32m     11\u001b[0m     ax[\u001b[38;5;241m0\u001b[39m]\u001b[38;5;241m.\u001b[39merrorbar(ts\u001b[38;5;241m+\u001b[39moff,gv\u001b[38;5;241m.\u001b[39mmean(f0),gv\u001b[38;5;241m.\u001b[39msdev(f0),fmt\u001b[38;5;241m=\u001b[39m\u001b[38;5;124m'\u001b[39m\u001b[38;5;124mo\u001b[39m\u001b[38;5;124m'\u001b[39m, color\u001b[38;5;241m=\u001b[39m\u001b[38;5;124mf\u001b[39m\u001b[38;5;124m'\u001b[39m\u001b[38;5;124mC\u001b[39m\u001b[38;5;132;01m{\u001b[39;00mi\u001b[38;5;132;01m}\u001b[39;00m\u001b[38;5;124m'\u001b[39m, capsize\u001b[38;5;241m=\u001b[39m\u001b[38;5;241m2.5\u001b[39m, label\u001b[38;5;241m=\u001b[39m\u001b[38;5;124mf\u001b[39m\u001b[38;5;124m'\u001b[39m\u001b[38;5;124m(\u001b[39m\u001b[38;5;132;01m{\u001b[39;00mn\u001b[38;5;241m+\u001b[39m\u001b[38;5;241m1\u001b[39m\u001b[38;5;132;01m}\u001b[39;00m\u001b[38;5;124m+\u001b[39m\u001b[38;5;132;01m{\u001b[39;00mn\u001b[38;5;241m+\u001b[39m\u001b[38;5;241m1\u001b[39m\u001b[38;5;132;01m}\u001b[39;00m\u001b[38;5;124m)\u001b[39m\u001b[38;5;124m'\u001b[39m)\n",
      "\u001b[0;31mKeyError\u001b[0m: (1, (1, 15))"
     ]
    },
    {
     "data": {
      "image/png": "[encoded data removed]",
      "text/plain": [
       "<Figure size 400x400 with 3 Axes>"
      ]
     },
     "metadata": {},
     "output_type": "display_data"
    }
   ],
   "source": [
    "f, ax = plt.subplots(2,1,figsize=(4,4),gridspec_kw={'height_ratios': [3, 1]},sharex=True)\n",
    "\n",
    "ts      = np.array([1,2,3,4])\n",
    "tranges = [((t,robj.Ta-t-1)) for t in ts]\n",
    "\n",
    "ax2 = ax[1].twinx()\n",
    "\n",
    "for i,n in enumerate([1,2,3]):\n",
    "    f0 = [robj.fits[n,tr].p['ratio'][0] for tr in tranges]\n",
    "    off = -0.05*i + 0.05\n",
    "    ax[0].errorbar(ts+off,gv.mean(f0),gv.sdev(f0),fmt='o', color=f'C{i}', capsize=2.5, label=f'({n+1}+{n+1})')\n",
    "\n",
    "    tic = [np.exp(-TIC[n,tr]/2)/norm for tr in tranges]\n",
    "    ax[1].plot(ts,tic,alpha=0.1,color=f'C{i}')\n",
    "    # ax[1].scatter(ts,tic,marker='o',color=f'C{i}')\n",
    "\n",
    "    pv = [pval[n,tr] for tr in tranges]\n",
    "    ax2.scatter(ts,pv,color=f'C{i}',marker='.')\n",
    "\n",
    "\n",
    "ax[0].axhspan(ymin=stat.mean-stat.sdev,ymax=stat.mean+stat.sdev,color='gray',alpha=0.2,label='model average')\n",
    "err = np.sqrt(stat.sdev**2+syst**2)\n",
    "ax[0].axhline(stat.mean-err,color='gray',alpha=0.2,linestyle=':')\n",
    "ax[0].axhline(stat.mean+err,color='gray',alpha=0.2,linestyle=':')\n",
    "\n",
    "ax[0].grid(alpha=0.2)\n",
    "ax[0].legend(loc='lower right')\n",
    "ax[0].set_ylabel(r'$F_0$')\n",
    "\n",
    "ax[1].grid(alpha=0.2)\n",
    "# ax[1].set_ylim(-0.1,1.1)\n",
    "ax[1].set_ylabel(r'TIC weight')\n",
    "ax[1].set_xlabel(r'$\\frac{t_{min}}{a}$')\n",
    "\n",
    "ax2.set_ylabel(r'$p$-value')\n",
    "\n",
    "ax[0].set_title(f'{ENSEMBLE}_{RATIO}')\n",
    "\n",
    "plt.tight_layout()\n",
    "plt.savefig(f'/Users/pietro/Desktop/model_average_{ENSEMBLE}_{RATIO}_{MOMENTUM}.pdf')"
   ]
  },
  {
   "cell_type": "code",
   "execution_count": null,
   "metadata": {},
   "outputs": [],
   "source": []
  }
 ],
 "metadata": {
  "kernelspec": {
   "display_name": "Python 3.11.4 ('stat')",
   "language": "python",
   "name": "python3"
  },
  "language_info": {
   "codemirror_mode": {
    "name": "ipython",
    "version": 3
   },
   "file_extension": ".py",
   "mimetype": "text/x-python",
   "name": "python",
   "nbconvert_exporter": "python",
   "pygments_lexer": "ipython3",
   "version": "3.11.4"
  },
  "orig_nbformat": 4,
  "vscode": {
   "interpreter": {
    "hash": "550906e9926f0f588aff226d3abadfa0c6a614c1c5eae7bfa21377021c1cb7ed"
   }
  }
 },
 "nbformat": 4,
 "nbformat_minor": 2
}
