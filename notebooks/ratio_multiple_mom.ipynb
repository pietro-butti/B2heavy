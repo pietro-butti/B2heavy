{
 "cells": [
  {
   "cell_type": "code",
   "execution_count": 11,
   "metadata": {},
   "outputs": [],
   "source": [
    "import numpy             as np\n",
    "import gvar              as gv\n",
    "import matplotlib.pyplot as plt\n",
    "import lsqfit\n",
    "import itertools\n",
    "from tqdm import tqdm"
   ]
  },
  {
   "cell_type": "code",
   "execution_count": 12,
   "metadata": {},
   "outputs": [],
   "source": [
    "from b2heavy.FnalHISQMetadata import params as mData"
   ]
  },
  {
   "cell_type": "code",
   "execution_count": 13,
   "metadata": {},
   "outputs": [],
   "source": [
    "from b2heavy.ThreePointFunctions.types3pts  import Ratio, RatioIO, ratio_prerequisites, ratio_correction_factor\n",
    "from b2heavy.ThreePointFunctions.fitter3pts import RatioFitter, phys_energy_priors\n",
    "from b2heavy.ThreePointFunctions.utils      import read_config_fit, dump_fit_object"
   ]
  },
  {
   "cell_type": "code",
   "execution_count": 14,
   "metadata": {},
   "outputs": [],
   "source": [
    "DATA_DIR = '/Users/pietro/code/data_analysis/BtoD/Alex/'\n",
    "DATA_2PT = '/Users/pietro/code/data_analysis/data/QCDNf2p1stag/B2heavy/report'\n",
    "\n",
    "BINSIZE  = {\n",
    "    'MediumCoarse':13,\n",
    "    'Coarse-2':    16,\n",
    "    'Coarse-1':    11,\n",
    "    'Coarse-Phys': 19,\n",
    "    'Fine-1':      16,\n",
    "    'Fine-Phys':   16,\n",
    "    'SuperFine':   22\n",
    "}"
   ]
  },
  {
   "cell_type": "code",
   "execution_count": 20,
   "metadata": {},
   "outputs": [],
   "source": [
    "ENSEMBLE = 'Coarse-1'\n",
    "RATIO    = 'RA1'\n",
    "SMSLIST  = ['1S']\n",
    "# MOMLIST  = ['100','200','300','400']\n",
    "MOMLIST  = ['100','200','300']\n",
    "# MOMLIST  = ['000']"
   ]
  },
  {
   "cell_type": "code",
   "execution_count": 21,
   "metadata": {},
   "outputs": [],
   "source": [
    "TMIN    = 2\n",
    "NSTATES = 1"
   ]
  },
  {
   "cell_type": "code",
   "execution_count": 22,
   "metadata": {},
   "outputs": [
    {
     "name": "stdout",
     "output_type": "stream",
     "text": [
      "# ---------- chi^2_exp analysis -------------\n",
      "# chi2_exp = 8.271774765794092 +/- 3.914183967391282 \n",
      "# p-value [eval] = 0.9112\n",
      "# p-value [MC]   = 0.9117\n",
      "# ---------- 1+1 fit in (2, 10) for mes: RA1 of ens: Coarse-1 for mom: 100 --------------\n",
      "Least Square Fit:\n",
      "  chi2/dof [dof] = 0.41 [9]    Q = 0.93    logGBF = 32.393\n",
      "\n",
      "Parameters:\n",
      "        ratio 0   0.874 (39)     [  0.89 (10) ]  \n",
      "         A_1S 0   0.030 (40)     [    0 ± 1.0 ]  \n",
      "         B_1S 0   0.038 (45)     [    0 ± 1.0 ]  \n",
      "       dE_src 0   -1.54 (95)     [ -1.7 (1.0) ]  \n",
      "\n",
      "Settings:\n",
      "  svdcut/n = 0/0    tol = (1e-08,1e-10,1e-10*)    (itns/time = 9/0.0)\n",
      "  fitter = scipy_least_squares    method = trf\n",
      "\n",
      "# red chi2       = 3.60\n",
      "# aug chi2       = 3.67\n",
      "# chi2_exp       = 8.27\n",
      "# chi2/chi_exp   = 0.44\n",
      "# p-value (exp)  = 0.91\n",
      "# p-value (std)  = 0.64\n",
      "# ---------- chi^2_exp analysis -------------\n",
      "# chi2_exp = 8.287838925824346 +/- 3.924536107275474 \n",
      "# p-value [eval] = 0.9737\n",
      "# p-value [MC]   = 0.9701\n",
      "# ---------- 1+1 fit in (2, 10) for mes: RA1 of ens: Coarse-1 for mom: 200 --------------\n",
      "Least Square Fit:\n",
      "  chi2/dof [dof] = 0.29 [9]    Q = 0.98    logGBF = 32.036\n",
      "\n",
      "Parameters:\n",
      "        ratio 0    0.866 (64)     [  0.84 (10) ]  \n",
      "         A_1S 0   -0.080 (57)     [    0 ± 1.0 ]  \n",
      "         B_1S 0   -0.102 (60)     [    0 ± 1.0 ]  \n",
      "       dE_src 0    -1.42 (82)     [ -1.5 (1.0) ]  \n",
      "\n",
      "Settings:\n",
      "  svdcut/n = 0/0    tol = (1e-08,1e-10,1e-10*)    (itns/time = 13/0.0)\n",
      "  fitter = scipy_least_squares    method = trf\n",
      "\n",
      "# red chi2       = 2.54\n",
      "# aug chi2       = 2.63\n",
      "# chi2_exp       = 8.29\n",
      "# chi2/chi_exp   = 0.32\n",
      "# p-value (exp)  = 0.97\n",
      "# p-value (std)  = 0.79\n",
      "# ---------- chi^2_exp analysis -------------\n",
      "# chi2_exp = 8.322054594749591 +/- 3.9351674927973987 \n",
      "# p-value [eval] = 0.9597\n",
      "# p-value [MC]   = 0.9597\n",
      "# ---------- 1+1 fit in (2, 10) for mes: RA1 of ens: Coarse-1 for mom: 300 --------------\n",
      "Least Square Fit:\n",
      "  chi2/dof [dof] = 0.32 [9]    Q = 0.97    logGBF = 29.491\n",
      "\n",
      "Parameters:\n",
      "        ratio 0    0.868 (80)     [  0.84 (10) ]  \n",
      "         A_1S 0   -0.195 (86)     [    0 ± 1.0 ]  \n",
      "         B_1S 0    -0.27 (12)     [    0 ± 1.0 ]  \n",
      "       dE_src 0    -1.11 (69)     [ -1.5 (1.0) ]  \n",
      "\n",
      "Settings:\n",
      "  svdcut/n = 0/0    tol = (1e-08,1e-10,1e-10*)    (itns/time = 15/0.0)\n",
      "  fitter = scipy_least_squares    method = trf\n",
      "\n",
      "# red chi2       = 2.49\n",
      "# aug chi2       = 2.88\n",
      "# chi2_exp       = 8.32\n",
      "# chi2/chi_exp   = 0.35\n",
      "# p-value (exp)  = 0.96\n",
      "# p-value (std)  = 0.80\n"
     ]
    },
    {
     "data": {
      "text/plain": [
       "Text(0.5, 1.0, 'Coarse-1 RA1')"
      ]
     },
     "execution_count": 22,
     "metadata": {},
     "output_type": "execute_result"
    },
    {
     "data": {
      "image/png": "[encoded data removed]",
      "text/plain": [
       "<Figure size 500x500 with 1 Axes>"
      ]
     },
     "metadata": {},
     "output_type": "display_data"
    }
   ],
   "source": [
    "plt.rcParams['text.usetex'] = True\n",
    "plt.rcParams['font.size'] = 12\n",
    "\n",
    "f, ax = plt.subplots(1,1,figsize=(5,5))\n",
    "\n",
    "f0s = []\n",
    "for i,mom in enumerate(MOMLIST):\n",
    "    requisites = ratio_prerequisites(\n",
    "        ens      = ENSEMBLE,\n",
    "        ratio    = RATIO,\n",
    "        mom      = mom,\n",
    "        readfrom = DATA_2PT,\n",
    "        jk       = False\n",
    "    )\n",
    "\n",
    "    io = RatioIO(ENSEMBLE,RATIO,mom,PathToDataDir=DATA_DIR)\n",
    "    robj = RatioFitter(\n",
    "        io,\n",
    "        jkBin     = BINSIZE[ENSEMBLE],\n",
    "        smearing  = SMSLIST,\n",
    "        readfrom  = DATA_2PT,\n",
    "        **requisites\n",
    "    )\n",
    "\n",
    "    trange = (TMIN, robj.Ta-TMIN)\n",
    "\n",
    "    cov_specs = dict(\n",
    "        diag   = False,\n",
    "        block  = False,\n",
    "        scale  = False,\n",
    "        shrink = True,\n",
    "        cutsvd = 1E-12\n",
    "    )\n",
    "\n",
    "    dE_src = phys_energy_priors(ENSEMBLE,'Dst',mom,NSTATES,readfrom=DATA_2PT)\n",
    "    dE_snk = phys_energy_priors(ENSEMBLE,'B'  ,mom,NSTATES,readfrom=DATA_2PT)\n",
    "    x,ydata = robj.format(trange,flatten=True)\n",
    "    pr = robj.priors(NSTATES, dE_src=dE_src, dE_snk=dE_snk)\n",
    "\n",
    "    fit = robj.fit(\n",
    "        Nstates = NSTATES,\n",
    "        trange  = trange,\n",
    "        priors  = pr,\n",
    "        verbose = False,\n",
    "        **cov_specs\n",
    "    )\n",
    "\n",
    "    res = robj.fit_result(\n",
    "        Nexc   = NSTATES,\n",
    "        trange = trange,\n",
    "        priors = pr \n",
    "    )\n",
    "\n",
    "    alpha = 0.2 if mom=='400' else 1.\n",
    "    robj.plot_fit(ax,NSTATES,trange,color=f'C{i}',color_res=f'C{i}',alpha=alpha)\n",
    "\n",
    "    ax.scatter([],[], marker='o', color=f'C{i}', label=mom)\n",
    "\n",
    "\n",
    "    f0s.append(fit.p['ratio'][0])\n",
    "\n",
    "ax.errorbar([],[],[],fmt='o', ecolor='gray', mfc='w', color='gray', capsize=2.5, label='1S')\n",
    "ax.errorbar([],[],[],fmt='^', ecolor='gray', mfc='w', color='gray', capsize=2.5, label='d')\n",
    "\n",
    "# ax.set_xlim(-0.5,13)\n",
    "# ax.set_ylim(ymax=0.08)\n",
    "ax.grid(alpha=0.2)\n",
    "ax.legend()\n",
    "\n",
    "ax.set_xlabel(r'$t_{min}/a$')\n",
    "\n",
    "ax.set_title(f'{ENSEMBLE} {RATIO}')\n",
    "\n",
    "\n",
    "# plt.savefig(f'/Users/pietro/Desktop/{ENSEMBLE}_{RATIO}_multimom.pdf')"
   ]
  },
  {
   "cell_type": "code",
   "execution_count": null,
   "metadata": {},
   "outputs": [],
   "source": []
  }
 ],
 "metadata": {
  "kernelspec": {
   "display_name": "Python 3.11.4 ('stat')",
   "language": "python",
   "name": "python3"
  },
  "language_info": {
   "codemirror_mode": {
    "name": "ipython",
    "version": 3
   },
   "file_extension": ".py",
   "mimetype": "text/x-python",
   "name": "python",
   "nbconvert_exporter": "python",
   "pygments_lexer": "ipython3",
   "version": "3.11.4"
  },
  "orig_nbformat": 4,
  "vscode": {
   "interpreter": {
    "hash": "550906e9926f0f588aff226d3abadfa0c6a614c1c5eae7bfa21377021c1cb7ed"
   }
  }
 },
 "nbformat": 4,
 "nbformat_minor": 2
}
