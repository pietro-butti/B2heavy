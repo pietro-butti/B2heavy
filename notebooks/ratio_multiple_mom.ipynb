{
 "cells": [
  {
   "cell_type": "code",
   "execution_count": 1,
   "metadata": {},
   "outputs": [],
   "source": [
    "import numpy             as np\n",
    "import gvar              as gv\n",
    "import matplotlib.pyplot as plt\n",
    "import pandas            as pd\n",
    "import lsqfit\n",
    "import itertools\n",
    "from tqdm import tqdm"
   ]
  },
  {
   "cell_type": "code",
   "execution_count": 2,
   "metadata": {},
   "outputs": [],
   "source": [
    "from b2heavy.FnalHISQMetadata import params as mData"
   ]
  },
  {
   "cell_type": "code",
   "execution_count": 3,
   "metadata": {},
   "outputs": [],
   "source": [
    "from b2heavy.ThreePointFunctions.types3pts  import Ratio, RatioIO, ratio_prerequisites, ratio_correction_factor\n",
    "from b2heavy.ThreePointFunctions.fitter3pts import RatioFitter, phys_energy_priors\n",
    "from b2heavy.ThreePointFunctions.utils      import read_config_fit, dump_fit_object"
   ]
  },
  {
   "cell_type": "code",
   "execution_count": 4,
   "metadata": {},
   "outputs": [],
   "source": [
    "DATA_DIR = '/Users/pietro/code/data_analysis/BtoD/Alex/'\n",
    "DATA_2PT = '/Users/pietro/Desktop/lattice24/0.25/corr2_3'\n",
    "\n",
    "\n",
    "BINSIZE  = {\n",
    "    'MediumCoarse':13,\n",
    "    'Coarse-2':    16,\n",
    "    'Coarse-1':    11,\n",
    "    'Coarse-Phys': 19,\n",
    "    'Fine-1':      16,\n",
    "    'Fine-Phys':   16,\n",
    "    'SuperFine':   22\n",
    "}"
   ]
  },
  {
   "cell_type": "code",
   "execution_count": 5,
   "metadata": {},
   "outputs": [],
   "source": [
    "ENSEMBLE = 'Coarse-Phys'\n",
    "RATIO    = 'RA1'\n",
    "SMSLIST  = ['1S','RW']\n",
    "# SMSLIST  = ['1S']\n",
    "MOMLIST  = ['100','200','300','400']\n",
    "MOMLIST  = ['100','200','300']\n",
    "# MOMLIST  = ['000']"
   ]
  },
  {
   "cell_type": "code",
   "execution_count": 6,
   "metadata": {},
   "outputs": [],
   "source": [
    "if RATIO in ['RMINUS','RPLUS','QPLUS','XF']:\n",
    "    meson = 'D'\n",
    "else:\n",
    "    meson = 'Dst'"
   ]
  },
  {
   "cell_type": "code",
   "execution_count": 7,
   "metadata": {},
   "outputs": [],
   "source": [
    "TMIN    = 1\n",
    "NSTATES = 2"
   ]
  },
  {
   "cell_type": "code",
   "execution_count": 8,
   "metadata": {},
   "outputs": [],
   "source": [
    "JK = True"
   ]
  },
  {
   "cell_type": "code",
   "execution_count": 9,
   "metadata": {},
   "outputs": [
    {
     "name": "stdout",
     "output_type": "stream",
     "text": [
      "Intel MKL WARNING: Support of Intel(R) Streaming SIMD Extensions 4.2 (Intel(R) SSE4.2) enabled only processors has been deprecated. Intel oneAPI Math Kernel Library 2025.0 will require Intel(R) Advanced Vector Extensions (Intel(R) AVX) instructions.\n",
      "# ---------- chi^2_exp analysis -------------\n",
      "# chi2_exp = 22.000000000004857 +/- 6.633249580711485 \n",
      "# p-value [eval] = 0.0\n",
      "# p-value [MC]   = 0.0\n",
      "# ---------- 2+2 fit in (1, 11) for mes: RA1 of ens: Coarse-Phys for mom: 100 --------------\n",
      "Least Square Fit:\n",
      "  chi2/dof [dof] = 0.96 [22]    Q = 0.52    logGBF = 69.847\n",
      "\n",
      "Parameters:\n",
      "        ratio 0   0.788 (22)     [  0.86 (10) ]  \n",
      "         A_1S 0   -0.06 (13)     [    0 ± 1.0 ]  \n",
      "              1   0.089 (34)     [    0 ± 1.0 ]  \n",
      "         B_1S 0   -0.09 (14)     [    0 ± 1.0 ]  \n",
      "              1   0.090 (34)     [    0 ± 1.0 ]  \n",
      "         A_RW 0    0.62 (58)     [    0 ± 1.0 ]  \n",
      "              1   0.294 (51)     [    0 ± 1.0 ]  \n",
      "         B_RW 0    0.23 (24)     [    0 ± 1.0 ]  \n",
      "              1   0.272 (49)     [    0 ± 1.0 ]  \n",
      "       dE_src 0    1.13 (34)     [  1.09 (50) ]  \n",
      "              1   -1.37 (15)     [ -0.92 (50) ]  \n",
      "\n",
      "Settings:\n",
      "  svdcut/n = 0/0    tol = (1e-08,1e-10,1e-10*)    (itns/time = 26/0.2)\n",
      "  fitter = scipy_least_squares    method = trf\n",
      "\n",
      "# red chi2       = 19.13\n",
      "# aug chi2       = 21.04\n",
      "# chi2_exp       = 22.00\n",
      "# chi2/chi_exp   = 0.96\n",
      "# p-value (exp)  = 0.00\n",
      "# p-value (std)  = 0.23\n",
      "# ---------- chi^2_exp analysis -------------\n",
      "# chi2_exp = 22.000000000004345 +/- 6.63324958071097 \n",
      "# p-value [eval] = 0.0\n",
      "# p-value [MC]   = 0.0\n",
      "# ---------- 2+2 fit in (1, 11) for mes: RA1 of ens: Coarse-Phys for mom: 200 --------------\n",
      "Least Square Fit:\n",
      "  chi2/dof [dof] = 1 [22]    Q = 0.4    logGBF = 68.015\n",
      "\n",
      "Parameters:\n",
      "        ratio 0   0.767 (24)     [  0.82 (10) ]  \n",
      "         A_1S 0   -0.04 (14)     [    0 ± 1.0 ]  \n",
      "              1   0.055 (41)     [    0 ± 1.0 ]  \n",
      "         B_1S 0   -0.07 (17)     [    0 ± 1.0 ]  \n",
      "              1   0.057 (41)     [    0 ± 1.0 ]  \n",
      "         A_RW 0    0.58 (56)     [    0 ± 1.0 ]  \n",
      "              1   0.298 (55)     [    0 ± 1.0 ]  \n",
      "         B_RW 0    0.21 (24)     [    0 ± 1.0 ]  \n",
      "              1   0.276 (53)     [    0 ± 1.0 ]  \n",
      "       dE_src 0    1.12 (36)     [  1.11 (50) ]  \n",
      "              1   -1.34 (15)     [ -1.13 (50) ]  \n",
      "\n",
      "Settings:\n",
      "  svdcut/n = 0/0    tol = (1e-08,1e-10,1e-10*)    (itns/time = 23/0.0)\n",
      "  fitter = scipy_least_squares    method = trf\n",
      "\n",
      "# red chi2       = 21.99\n",
      "# aug chi2       = 23.04\n",
      "# chi2_exp       = 22.00\n",
      "# chi2/chi_exp   = 1.05\n",
      "# p-value (exp)  = 0.00\n",
      "# p-value (std)  = 0.15\n",
      "# ---------- chi^2_exp analysis -------------\n",
      "# chi2_exp = 22.0000000000205 +/- 6.633249580726424 \n",
      "# p-value [eval] = 0.0\n",
      "# p-value [MC]   = 0.0\n",
      "# ---------- 2+2 fit in (1, 11) for mes: RA1 of ens: Coarse-Phys for mom: 300 --------------\n",
      "Least Square Fit:\n",
      "  chi2/dof [dof] = 1.1 [22]    Q = 0.31    logGBF = 64.785\n",
      "\n",
      "Parameters:\n",
      "        ratio 0     0.730 (62)      [  0.83 (10) ]  *\n",
      "         A_1S 0     -0.03 (18)      [    0 ± 1.0 ]  \n",
      "              1   0.0006 (580)      [    0 ± 1.0 ]  \n",
      "         B_1S 0     -0.07 (20)      [    0 ± 1.0 ]  \n",
      "              1     0.004 (59)      [    0 ± 1.0 ]  \n",
      "         A_RW 0      0.54 (51)      [    0 ± 1.0 ]  \n",
      "              1     0.244 (70)      [    0 ± 1.0 ]  \n",
      "         B_RW 0      0.20 (24)      [    0 ± 1.0 ]  \n",
      "              1     0.225 (69)      [    0 ± 1.0 ]  \n",
      "       dE_src 0      1.06 (37)      [  1.13 (50) ]  \n",
      "              1     -1.30 (26)      [ -1.85 (50) ]  *\n",
      "\n",
      "Settings:\n",
      "  svdcut/n = 0/0    tol = (1e-08,1e-10,1e-10*)    (itns/time = 14/0.0)\n",
      "  fitter = scipy_least_squares    method = trf\n",
      "\n",
      "# red chi2       = 22.00\n",
      "# aug chi2       = 24.70\n",
      "# chi2_exp       = 22.00\n",
      "# chi2/chi_exp   = 1.12\n",
      "# p-value (exp)  = 0.00\n",
      "# p-value (std)  = 0.15\n"
     ]
    },
    {
     "data": {
      "text/plain": [
       "Text(0.5, 1.0, 'Coarse-Phys RA1')"
      ]
     },
     "execution_count": 9,
     "metadata": {},
     "output_type": "execute_result"
    },
    {
     "data": {
      "image/png": "[encoded data removed]",
      "text/plain": [
       "<Figure size 500x500 with 1 Axes>"
      ]
     },
     "metadata": {},
     "output_type": "display_data"
    }
   ],
   "source": [
    "plt.rcParams['text.usetex'] = True\n",
    "plt.rcParams['font.size'] = 12\n",
    "\n",
    "f, ax = plt.subplots(1,1,figsize=(5,5))\n",
    "\n",
    "fits = []\n",
    "f0s = []\n",
    "for i,mom in enumerate(MOMLIST):\n",
    "    requisites = ratio_prerequisites(\n",
    "        ens      = ENSEMBLE,\n",
    "        ratio    = RATIO,\n",
    "        mom      = mom,\n",
    "        readfrom = DATA_2PT,\n",
    "        jk       = JK\n",
    "    )\n",
    "\n",
    "    io = RatioIO(ENSEMBLE,RATIO,mom,PathToDataDir=DATA_DIR)\n",
    "    robj = RatioFitter(\n",
    "        io,\n",
    "        jkBin     = BINSIZE[ENSEMBLE],\n",
    "        smearing  = SMSLIST,\n",
    "        # readfrom  = DATA_2PT,\n",
    "        **requisites\n",
    "    )\n",
    "\n",
    "    trange = (TMIN, robj.Ta-TMIN)\n",
    "\n",
    "    cov_specs = dict(\n",
    "        diag   = False,\n",
    "        block  = False,\n",
    "        scale  = True,\n",
    "        shrink = True,\n",
    "        cutsvd = 1E-12\n",
    "    )\n",
    "\n",
    "    dE_src = phys_energy_priors(ENSEMBLE,meson,mom,NSTATES,readfrom=DATA_2PT, error=0.5)\n",
    "    dE_snk = phys_energy_priors(ENSEMBLE,'B'  ,mom,NSTATES,readfrom=DATA_2PT, error=0.5)\n",
    "    x,ydata = robj.format(trange,flatten=True)\n",
    "    pr = robj.priors(NSTATES, dE_src=dE_src, dE_snk=dE_snk)\n",
    "\n",
    "    fit = robj.fit(\n",
    "        Nstates = NSTATES,\n",
    "        trange  = trange,\n",
    "        priors  = pr,\n",
    "        verbose = False,\n",
    "        **cov_specs\n",
    "    )\n",
    "\n",
    "    res = robj.fit_result(\n",
    "        Nexc   = NSTATES,\n",
    "        trange = trange,\n",
    "        priors = pr \n",
    "    )\n",
    "\n",
    "    fits.append({\n",
    "        'ensemble': ENSEMBLE,\n",
    "        'ratio'   : RATIO,\n",
    "        'momentum': mom,\n",
    "        'f0'      : fit.p['ratio'][0],\n",
    "        'chiexp'  : res['chiexp'],\n",
    "        'pstd'    : res['pstd']\n",
    "    })\n",
    "\n",
    "\n",
    "    alpha = 0.2 if mom=='400' else 1.\n",
    "    robj.plot_fit(ax,NSTATES,trange,color=f'C{i}',color_res=f'C{i}',alpha=alpha,minus=False)\n",
    "\n",
    "    ax.scatter([],[], marker='o', color=f'C{i}', label=mom)\n",
    "\n",
    "\n",
    "    f0s.append(fit.p['ratio'][0])\n",
    "\n",
    "ax.errorbar([],[],[],fmt='o', ecolor='gray', mfc='w', color='gray', capsize=2.5, label='1S')\n",
    "ax.errorbar([],[],[],fmt='^', ecolor='gray', mfc='w', color='gray', capsize=2.5, label='d')\n",
    "\n",
    "# ax.set_xlim(-0.5,13)\n",
    "# ax.set_ylim(ymax=0.35,ymin=0.)\n",
    "ax.grid(alpha=0.2)\n",
    "ax.legend()\n",
    "\n",
    "ax.set_xlabel(r'$t_{min}/a$')\n",
    "\n",
    "ax.set_title(f'{ENSEMBLE} {RATIO}')\n",
    "\n",
    "# ax.set_ylabel(r'$Q_+$')\n",
    "# ax.set_ylabel(r'abs($x_f$)')\n",
    "\n",
    "\n",
    "# plt.savefig(f'/Users/pietro/Desktop/{ENSEMBLE}_{RATIO}_multimom.pdf')"
   ]
  },
  {
   "cell_type": "code",
   "execution_count": 10,
   "metadata": {},
   "outputs": [
    {
     "name": "stdout",
     "output_type": "stream",
     "text": [
      "                                   f0  chiexp      pstd\n",
      "ensemble    ratio momentum                             \n",
      "Coarse-Phys RA1   100       0.788(22)    22.0  0.227345\n",
      "                  200       0.767(24)    22.0  0.146243\n",
      "                  300       0.730(62)    22.0  0.145988\n"
     ]
    }
   ],
   "source": [
    "print(pd.DataFrame(fits).set_index(['ensemble','ratio','momentum']))"
   ]
  },
  {
   "cell_type": "code",
   "execution_count": null,
   "metadata": {},
   "outputs": [],
   "source": []
  }
 ],
 "metadata": {
  "kernelspec": {
   "display_name": "Python 3.11.4 ('stat')",
   "language": "python",
   "name": "python3"
  },
  "language_info": {
   "codemirror_mode": {
    "name": "ipython",
    "version": 3
   },
   "file_extension": ".py",
   "mimetype": "text/x-python",
   "name": "python",
   "nbconvert_exporter": "python",
   "pygments_lexer": "ipython3",
   "version": "3.11.4"
  },
  "orig_nbformat": 4,
  "vscode": {
   "interpreter": {
    "hash": "550906e9926f0f588aff226d3abadfa0c6a614c1c5eae7bfa21377021c1cb7ed"
   }
  }
 },
 "nbformat": 4,
 "nbformat_minor": 2
}
