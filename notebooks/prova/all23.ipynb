{
 "cells": [
  {
   "cell_type": "code",
   "execution_count": 1,
   "metadata": {},
   "outputs": [],
   "source": [
    "import copy\n",
    "import lsqfit\n",
    "import h5py\n",
    "import numpy             as np\n",
    "import gvar              as gv\n",
    "import matplotlib.pyplot as plt\n",
    "import corrfitter        as cf\n",
    "from scipy import linalg as la\n",
    "from tqdm  import tqdm\n",
    "\n",
    "import jax \n",
    "jax.config.update(\"jax_enable_x64\", True)"
   ]
  },
  {
   "cell_type": "code",
   "execution_count": 42,
   "metadata": {},
   "outputs": [],
   "source": [
    "from b2heavy.TwoPointFunctions.utils     import compute_covariance, Tmax, covariance_shrinking\n",
    "from b2heavy.TwoPointFunctions.types2pts import CorrelatorIO\n",
    "from b2heavy.TwoPointFunctions.fitter    import StagFitter\n",
    "\n",
    "from b2heavy.ThreePointFunctions.corr3pts import Correlator3, BINSIZE\n",
    "\n",
    "from b2heavy.FnalHISQMetadata import params"
   ]
  },
  {
   "cell_type": "code",
   "execution_count": 56,
   "metadata": {},
   "outputs": [],
   "source": [
    "ENSEMBLE = 'Coarse-1'\n",
    "MOMENTUM = '300'\n",
    "DATA_DIR = '/Users/pietro/code/data_analysis/BtoD/Alex/'\n",
    "\n",
    "cov_specs = dict(scale=True, shrink=True, cutsvd=1e-12)\n",
    "jkb       = BINSIZE[ENSEMBLE]\n",
    "\n",
    "tmin2 = {\n",
    "    'Dst': 0.631, \n",
    "    'B'  : 0.9\n",
    "} \n",
    "tmin3 = 0.3"
   ]
  },
  {
   "cell_type": "code",
   "execution_count": 57,
   "metadata": {},
   "outputs": [
    {
     "data": {
      "text/plain": [
       "({'Dst': 5, 'B': 7}, 2)"
      ]
     },
     "execution_count": 57,
     "metadata": {},
     "output_type": "execute_result"
    }
   ],
   "source": [
    "mdata = params(ENSEMBLE)\n",
    "\n",
    "Tmin2 = {k: int(tmin2[k]//mdata['aSpc'].mean) for k in tmin2}\n",
    "Tmin3 = int(tmin3//mdata['aSpc'].mean)\n",
    "\n",
    "Tmin2,Tmin3"
   ]
  },
  {
   "cell_type": "markdown",
   "metadata": {},
   "source": [
    "# Data gathering"
   ]
  },
  {
   "cell_type": "code",
   "execution_count": 58,
   "metadata": {},
   "outputs": [],
   "source": [
    "corr2 = {}\n",
    "corr2['Dst'] = CorrelatorIO(ENSEMBLE,'Dst',MOMENTUM,PathToDataDir=DATA_DIR)\n",
    "corr2['B']   = CorrelatorIO(ENSEMBLE,'B','000',PathToDataDir=DATA_DIR)\n",
    "\n",
    "corr2['Dst'].collect(jkBin=jkb)\n",
    "corr2['B'].collect(jkBin=jkb)"
   ]
  },
  {
   "cell_type": "code",
   "execution_count": 105,
   "metadata": {},
   "outputs": [],
   "source": [
    "corr3 = Correlator3( ENSEMBLE,PathToDataDir=DATA_DIR)\n",
    "\n",
    "not_founds = []\n",
    "for cur in ['A1','A2','A3','V1','V2','V3']:\n",
    "    for snk in ['A1','A2','A3','V1','V2','V3']:\n",
    "        for smr in ['1S','RW']:\n",
    "            if cur[-1]!=snk[-1]:\n",
    "                continue\n",
    "            try:\n",
    "                corr3.read('p5',cur,snk,smr,MOMENTUM)\n",
    "            except KeyError:\n",
    "                not_founds.append(f'P5_{cur}_{snk}')"
   ]
  },
  {
   "cell_type": "code",
   "execution_count": 106,
   "metadata": {},
   "outputs": [],
   "source": [
    "# merge\n",
    "data = {'binned':{}, 'full':{}}\n",
    "\n",
    "data['binned'].update(corr2['Dst'].data)\n",
    "data['binned'].update(corr2['B'  ].data)\n",
    "data['binned'].update(corr3.data)\n",
    "\n",
    "data['full'].update(corr2['Dst'].data_full)\n",
    "data['full'].update(corr2['B'  ].data_full)\n",
    "data['full'].update(corr3.data_full)"
   ]
  },
  {
   "cell_type": "markdown",
   "metadata": {},
   "source": [
    "# Compute covariance + data formatting"
   ]
  },
  {
   "cell_type": "code",
   "execution_count": 107,
   "metadata": {},
   "outputs": [],
   "source": [
    "ylist, treestruct = jax.tree_util.tree_flatten(data['binned'])\n",
    "ylist_full, _     = jax.tree_util.tree_flatten(data['full'])\n",
    "\n",
    "# rescaling\n",
    "ysample      = np.hstack(ylist)\n",
    "ysample_full = np.hstack(ylist_full)\n",
    "\n",
    "cov_jk   = np.cov(ysample     ,rowvar=False) * (ysample.shape[0]-1)\n",
    "cov_full = np.cov(ysample_full,rowvar=False) * (ysample.shape[0]-1)\n",
    "scale    = np.sqrt(np.diag(cov_jk)/np.diag(cov_full))\n",
    "cov      = cov_full * np.outer(scale,scale)\n",
    "\n",
    "avg = ysample_full.mean(axis=0)\n",
    "\n",
    "yout = gv.gvar(avg,cov)"
   ]
  },
  {
   "cell_type": "code",
   "execution_count": 108,
   "metadata": {},
   "outputs": [],
   "source": [
    "yout_list = []\n",
    "I = 0\n",
    "for y in ylist:\n",
    "    nt = y.shape[-1]\n",
    "    yout_list.append(yout[I:I+nt])\n",
    "    I=I+nt\n",
    "\n",
    "ydata = jax.tree_util.build_tree(treestruct,yout_list)"
   ]
  },
  {
   "cell_type": "code",
   "execution_count": 109,
   "metadata": {},
   "outputs": [
    {
     "data": {
      "text/plain": [
       "['[B]->[B].000.1S.1S.Unpol',\n",
       " '[B]->[B].000.d.1S.Unpol',\n",
       " '[B]->[B].000.d.d.Unpol',\n",
       " '[B]P5->A1->[Dst]V1.12.300.1S.Par',\n",
       " '[B]P5->A1->[Dst]V1.12.300.d.Par',\n",
       " '[B]P5->A1->[Dst]V1.13.300.1S.Par',\n",
       " '[B]P5->A1->[Dst]V1.13.300.d.Par',\n",
       " '[B]P5->A2->[Dst]V2.12.300.1S.Bot',\n",
       " '[B]P5->A2->[Dst]V2.12.300.d.Bot',\n",
       " '[B]P5->A2->[Dst]V2.13.300.1S.Bot',\n",
       " '[B]P5->A2->[Dst]V2.13.300.d.Bot',\n",
       " '[B]P5->A3->[Dst]V3.12.300.1S.Bot',\n",
       " '[B]P5->A3->[Dst]V3.12.300.d.Bot',\n",
       " '[B]P5->A3->[Dst]V3.13.300.1S.Bot',\n",
       " '[B]P5->A3->[Dst]V3.13.300.d.Bot',\n",
       " '[Dst]->[Dst].300.1S.1S.Bot',\n",
       " '[Dst]->[Dst].300.1S.1S.Par',\n",
       " '[Dst]->[Dst].300.d.1S.Bot',\n",
       " '[Dst]->[Dst].300.d.1S.Par',\n",
       " '[Dst]->[Dst].300.d.d.Bot',\n",
       " '[Dst]->[Dst].300.d.d.Par']"
      ]
     },
     "execution_count": 109,
     "metadata": {},
     "output_type": "execute_result"
    }
   ],
   "source": [
    "[k for k in ydata]"
   ]
  },
  {
   "cell_type": "markdown",
   "metadata": {},
   "source": [
    "# Model building"
   ]
  },
  {
   "cell_type": "code",
   "execution_count": 110,
   "metadata": {},
   "outputs": [],
   "source": [
    "def unpack(tag):\n",
    "    if tag.count('->')==1:\n",
    "        corr,mom,sm1,sm2,pol = tag.split('.')\n",
    "        mes = corr.split('[')[1].split(']')[0]\n",
    "        return mes,mom,sm1,sm2,pol\n",
    "\n",
    "    elif tag.count('->')==2:\n",
    "        corr,tt,mom,smr,pol = tag.split('.')\n",
    "\n",
    "        src,cur,snk = corr.split('->')\n",
    "\n",
    "        mes1,g1 = src.split('[')[1].split(']')      \n",
    "        mes2,g2 = snk.split('[')[1].split(']')   \n",
    "\n",
    "        return mes1,g1,cur,mes2,g2,tt,mom,smr,pol"
   ]
  },
  {
   "cell_type": "code",
   "execution_count": 111,
   "metadata": {},
   "outputs": [
    {
     "name": "stdout",
     "output_type": "stream",
     "text": [
      "[B]P5->A1->[Dst]V1.12.300.1S.Par\n",
      "[B]P5->A1->[Dst]V1.13.300.1S.Par\n",
      "[B]P5->A2->[Dst]V2.12.300.1S.Bot\n",
      "[B]P5->A2->[Dst]V2.13.300.1S.Bot\n"
     ]
    }
   ],
   "source": [
    "models = []\n",
    "for tag in ydata:\n",
    "    is3 = tag.count('->')==2\n",
    "\n",
    "    if is3:\n",
    "        mes1,g1,cur,mes2,g2,tt,mom,smr,pol = unpack(tag)\n",
    "\n",
    "        if smr=='d':\n",
    "            continue\n",
    "        if pol=='Bot' and cur[-1]=='3':\n",
    "            continue\n",
    "\n",
    "        print(tag)\n",
    "        fcn = cf.Corr3(\n",
    "            datatag = tag,\n",
    "            T       = int(tt),\n",
    "            tmin    = Tmin3,\n",
    "            dEa     = (f'dE.{mes1}',f'dE.{mes1}.o'),\n",
    "            dEb     = (f'dE.{mes2}',f'dE.{mes2}.o'),\n",
    "            a       = (f'Z.{mes1}.{smr}.Unpol',f'Z.{mes1}.{smr}.Unpol.o'),\n",
    "            b       = (f'Z.{mes2}.{smr}.{pol}',f'Z.{mes2}.{smr}.{pol}.o'),\n",
    "            sa      = (1.,-1.),\n",
    "            sb      = (1.,-1.),\n",
    "            Vnn     = f'Vnn.{cur}.{smr}.{pol}',\n",
    "            Von     = f'Von.{cur}.{smr}.{pol}',\n",
    "            Vno     = f'Vno.{cur}.{smr}.{pol}',\n",
    "            Voo     = f'Voo.{cur}.{smr}.{pol}',\n",
    "        )\n",
    "\n",
    "    else:\n",
    "        mes,mom,sm1,sm2,pol = unpack(tag)\n",
    "\n",
    "        fcn = cf.Corr2(\n",
    "            datatag = tag,\n",
    "            tp      = corr2[mes].Nt,\n",
    "            s       = (1.,-1.),\n",
    "            tdata   = np.arange(corr2[mes].Nt//2),\n",
    "            tmin    = Tmin2[mes1],\n",
    "            tmax    = Tmax(ydata[tag]),\n",
    "            dE      = (f'dE.{mes}',f'dE.{mes}.o'),\n",
    "            a       = (f'Z.{mes}.{sm1}.{pol}',f'Z.{mes}.{sm1}.{pol}.o'),\n",
    "            b       = (f'Z.{mes}.{sm2}.{pol}',f'Z.{mes}.{sm2}.{pol}.o')\n",
    "        )\n",
    "\n",
    "    models.append(fcn)"
   ]
  },
  {
   "cell_type": "markdown",
   "metadata": {},
   "source": [
    "# Priors"
   ]
  },
  {
   "cell_type": "code",
   "execution_count": 112,
   "metadata": {},
   "outputs": [],
   "source": [
    "Nstates = 3\n",
    "meff = {}\n",
    "aeff = {}"
   ]
  },
  {
   "cell_type": "code",
   "execution_count": 113,
   "metadata": {},
   "outputs": [
    {
     "name": "stderr",
     "output_type": "stream",
     "text": [
      "/Users/pietro/code/software/B2heavy/b2heavy/TwoPointFunctions/types2pts.py:38: RuntimeWarning: invalid value encountered in sqrt\n",
      "  m = np.arccosh( (y[(it+1)%len(y)]+y[(it-1)%len(y)])/y[it]/2 )\n",
      "/Users/pietro/code/software/B2heavy/b2heavy/TwoPointFunctions/types2pts.py:38: RuntimeWarning: invalid value encountered in log\n",
      "  m = np.arccosh( (y[(it+1)%len(y)]+y[(it-1)%len(y)])/y[it]/2 )\n",
      "/Users/pietro/code/software/B2heavy/b2heavy/TwoPointFunctions/types2pts.py:38: RuntimeWarning: invalid value encountered in arccosh\n",
      "  m = np.arccosh( (y[(it+1)%len(y)]+y[(it-1)%len(y)])/y[it]/2 )\n"
     ]
    }
   ],
   "source": [
    "dst = StagFitter(corr2['Dst'],jkBin=jkb,smearing=['d-d','1S-1S','d-1S'])\n",
    "m,a = dst.meff((10,18),**cov_specs)\n",
    "meff['Dst']=m\n",
    "aeff['Dst']=a"
   ]
  },
  {
   "cell_type": "code",
   "execution_count": 114,
   "metadata": {},
   "outputs": [
    {
     "name": "stderr",
     "output_type": "stream",
     "text": [
      "/Users/pietro/code/software/B2heavy/b2heavy/TwoPointFunctions/types2pts.py:38: RuntimeWarning: invalid value encountered in sqrt\n",
      "  m = np.arccosh( (y[(it+1)%len(y)]+y[(it-1)%len(y)])/y[it]/2 )\n",
      "/Users/pietro/code/software/B2heavy/b2heavy/TwoPointFunctions/types2pts.py:38: RuntimeWarning: invalid value encountered in log\n",
      "  m = np.arccosh( (y[(it+1)%len(y)]+y[(it-1)%len(y)])/y[it]/2 )\n",
      "/Users/pietro/code/software/B2heavy/b2heavy/TwoPointFunctions/types2pts.py:38: RuntimeWarning: invalid value encountered in arccosh\n",
      "  m = np.arccosh( (y[(it+1)%len(y)]+y[(it-1)%len(y)])/y[it]/2 )\n"
     ]
    }
   ],
   "source": [
    "b = StagFitter(corr2['B'],jkBin=jkb,smearing=['d-d','1S-1S','d-1S'])\n",
    "m,a = b.meff((10,18),**cov_specs)\n",
    "meff['B']=m\n",
    "aeff['B']=a"
   ]
  },
  {
   "cell_type": "code",
   "execution_count": 115,
   "metadata": {},
   "outputs": [],
   "source": [
    "pr = {}\n",
    "ampl = {\n",
    "    '1S': '1(1)',\n",
    "    'd' : '0.01(50)'\n",
    "}\n",
    "for mes in ['Dst','B']:\n",
    "    for smr,pol in aeff[mes]:\n",
    "        s1,s2 = smr.split('-')\n",
    "        if s1==s2:\n",
    "            aux = aeff[mes][smr,pol] # * 2 * effm\n",
    "\n",
    "            z0 = f'{aux.mean:.6f}({\"1.0\" if s1==\"1S\" else \"0.5\"})'\n",
    "\n",
    "            pr[f'Z.{mes}.{s1}.{pol}']    = ['1(1)' if s1=='1S' else '0.01(50)' for n in range(Nstates)]\n",
    "            pr[f'Z.{mes}.{s1}.{pol}'][0] = z0 \n",
    "            pr[f'Z.{mes}.{s1}.{pol}.o']  = ['1(1)' if s1=='1S' else '0.01(50)' for n in range(Nstates)]\n",
    "\n",
    "    pr[f'dE.{mes}']   = ['0.5(5)' for n in range(Nstates)]; pr[f'dE.{mes}'][0] = f'{meff[mes].mean:.2f}(0.5)'\n",
    "    pr[f'dE.{mes}.o'] = ['0.5(5)' for n in range(Nstates)]"
   ]
  },
  {
   "cell_type": "code",
   "execution_count": 137,
   "metadata": {},
   "outputs": [],
   "source": [
    "for k in ydata:\n",
    "    if k.count('->')==2:\n",
    "        mes1,g1,cur,mes2,g2,tt,mom,smr,pol = unpack(k)\n",
    "\n",
    "        tag = f'{cur}.{smr}.{pol}'\n",
    "        pr[f'Vnn.{tag}'] = np.reshape(['0.5(5)' for _ in range(Nstates**2)],(Nstates,Nstates))\n",
    "        pr[f'Von.{tag}'] = np.reshape(['0.5(5)' for _ in range(Nstates**2)],(Nstates,Nstates))\n",
    "        pr[f'Vno.{tag}'] = np.reshape(['0.5(5)' for _ in range(Nstates**2)],(Nstates,Nstates))\n",
    "        pr[f'Voo.{tag}'] = np.reshape(['0.5(5)' for _ in range(Nstates**2)],(Nstates,Nstates))\n"
   ]
  },
  {
   "cell_type": "code",
   "execution_count": 138,
   "metadata": {},
   "outputs": [],
   "source": [
    "prior = gv.BufferDict()\n",
    "for k,p in pr.items():\n",
    "    prior[k] = gv.gvar(p)"
   ]
  },
  {
   "cell_type": "markdown",
   "metadata": {},
   "source": [
    "# אֵלִ֣י אֵ֖לִי לָמָ֣ה עֲזַבְתָּ֑נִי"
   ]
  },
  {
   "cell_type": "code",
   "execution_count": 139,
   "metadata": {},
   "outputs": [],
   "source": [
    "fitter = cf.CorrFitter(models=models)"
   ]
  },
  {
   "cell_type": "code",
   "execution_count": 140,
   "metadata": {},
   "outputs": [],
   "source": [
    "fit = fitter.lsqfit(data=ydata,prior=prior)"
   ]
  },
  {
   "cell_type": "code",
   "execution_count": 141,
   "metadata": {},
   "outputs": [
    {
     "name": "stdout",
     "output_type": "stream",
     "text": [
      "Least Square Fit:\n",
      "  chi2/dof [dof] = 7.7 [159]    Q = 1.6e-163    logGBF = 2885.2\n",
      "\n",
      "Parameters:\n",
      "   Z.B.1S.Unpol 0     1.3907 (65)      [  1.7 (1.0) ]  \n",
      "                1      -0.52 (15)      [  1.0 (1.0) ]  *\n",
      "                2   -0.00013 (44)      [  1.0 (1.0) ]  *\n",
      "           dE.B 0     1.9200 (12)      [  1.91 (50) ]  \n",
      "                1      0.748 (27)      [  0.50 (50) ]  \n",
      "                2      -1.52 (28)      [  0.50 (50) ]  ****\n",
      " Z.B.1S.Unpol.o 0   -0.5(3.1)e-07      [  1.0 (1.0) ]  *\n",
      "                1     0.0028 (59)      [  1.0 (1.0) ]  \n",
      "                2      0.928 (44)      [  1.0 (1.0) ]  \n",
      "         dE.B.o 0       0.56 (38)      [  0.50 (50) ]  \n",
      "                1       0.90 (37)      [  0.50 (50) ]  \n",
      "                2       0.67 (24)      [  0.50 (50) ]  \n",
      "    Z.B.d.Unpol 0     0.1892 (11)      [  0.03 (50) ]  \n",
      "                1       1.17 (11)      [  0.01 (50) ]  **\n",
      "                2    0.9(2.6)e-05      [  0.01 (50) ]  \n",
      "  Z.B.d.Unpol.o 0   -1.8(8.6)e-08      [  0.01 (50) ]  \n",
      "                1    0.00021 (66)      [  0.01 (50) ]  \n",
      "                2     0.1660 (82)      [  0.01 (50) ]  \n",
      "   Z.Dst.1S.Par 0      1.222 (19)      [  1.1 (1.0) ]  \n",
      "                1       0.42 (36)      [  1.0 (1.0) ]  \n",
      "                2     0.0048 (74)      [  1.0 (1.0) ]  \n",
      " Z.Dst.1S.Par.o 0       0.09 (65)      [  1.0 (1.0) ]  \n",
      "                1      -1.18 (16)      [  1.0 (1.0) ]  **\n",
      "                2      0.287 (74)      [  1.0 (1.0) ]  \n",
      "         dE.Dst 0     1.2341 (46)      [  1.20 (50) ]  \n",
      "                1      0.510 (71)      [  0.50 (50) ]  \n",
      "                2      -1.12 (18)      [  0.50 (50) ]  ***\n",
      "       dE.Dst.o 0       1.45 (12)      [  0.50 (50) ]  *\n",
      "                1       0.05 (13)      [  0.50 (50) ]  \n",
      "                2     -0.320 (42)      [  0.50 (50) ]  *\n",
      "Vnn.A1.1S.Par 0,0     -0.178 (44)      [  0.50 (50) ]  *\n",
      "              0,1    -0.005 (498)      [  0.50 (50) ]  *\n",
      "              0,2      0.215 (67)      [  0.50 (50) ]  \n",
      "              1,0       0.28 (47)      [  0.50 (50) ]  \n",
      "              1,1       0.50 (50)      [  0.50 (50) ]  \n",
      "              1,2       1.68 (45)      [  0.50 (50) ]  **\n",
      "              2,0      -0.30 (50)      [  0.50 (50) ]  *\n",
      "              2,1       0.49 (50)      [  0.50 (50) ]  \n",
      "              2,2       0.91 (50)      [  0.50 (50) ]  \n",
      "Vno.A1.1S.Par 0,0       0.52 (50)      [  0.50 (50) ]  \n",
      "              0,1       0.53 (36)      [  0.50 (50) ]  \n",
      "              0,2      0.129 (59)      [  0.50 (50) ]  \n",
      "              1,0       0.47 (50)      [  0.50 (50) ]  \n",
      "              1,1       0.51 (50)      [  0.50 (50) ]  \n",
      "              1,2       0.37 (41)      [  0.50 (50) ]  \n",
      "              2,0       0.50 (50)      [  0.50 (50) ]  \n",
      "              2,1       0.37 (50)      [  0.50 (50) ]  \n",
      "              2,2       0.42 (50)      [  0.50 (50) ]  \n",
      "Von.A1.1S.Par 0,0       0.40 (50)      [  0.50 (50) ]  \n",
      "              0,1       0.56 (50)      [  0.50 (50) ]  \n",
      "              0,2      -0.28 (50)      [  0.50 (50) ]  *\n",
      "              1,0       0.72 (44)      [  0.50 (50) ]  \n",
      "              1,1       0.50 (50)      [  0.50 (50) ]  \n",
      "              1,2       0.32 (50)      [  0.50 (50) ]  \n",
      "              2,0     -0.049 (96)      [  0.50 (50) ]  *\n",
      "              2,1       0.54 (50)      [  0.50 (50) ]  \n",
      "              2,2     -0.006 (66)      [  0.50 (50) ]  *\n",
      "Voo.A1.1S.Par 0,0       0.51 (50)      [  0.50 (50) ]  \n",
      "              0,1       0.47 (50)      [  0.50 (50) ]  \n",
      "              0,2       0.59 (50)      [  0.50 (50) ]  \n",
      "              1,0       0.50 (50)      [  0.50 (50) ]  \n",
      "              1,1       0.52 (50)      [  0.50 (50) ]  \n",
      "              1,2       0.47 (49)      [  0.50 (50) ]  \n",
      "              2,0      -0.03 (50)      [  0.50 (50) ]  *\n",
      "              2,1       1.13 (40)      [  0.50 (50) ]  *\n",
      "              2,2       0.51 (15)      [  0.50 (50) ]  \n",
      "   Z.Dst.1S.Bot 0      1.034 (17)      [  0.8 (1.0) ]  \n",
      "                1       0.54 (34)      [  1.0 (1.0) ]  \n",
      "                2     0.0018 (35)      [  1.0 (1.0) ]  \n",
      " Z.Dst.1S.Bot.o 0       0.20 (68)      [  1.0 (1.0) ]  \n",
      "                1      -1.39 (18)      [  1.0 (1.0) ]  **\n",
      "                2       0.45 (10)      [  1.0 (1.0) ]  \n",
      "Vnn.A2.1S.Bot 0,0     -0.069 (26)      [  0.50 (50) ]  *\n",
      "              0,1       0.05 (49)      [  0.50 (50) ]  \n",
      "              0,2       0.19 (16)      [  0.50 (50) ]  \n",
      "              1,0       0.58 (48)      [  0.50 (50) ]  \n",
      "              1,1       0.50 (50)      [  0.50 (50) ]  \n",
      "              1,2       0.68 (48)      [  0.50 (50) ]  \n",
      "              2,0      -0.37 (50)      [  0.50 (50) ]  *\n",
      "              2,1       0.49 (50)      [  0.50 (50) ]  \n",
      "              2,2       0.23 (50)      [  0.50 (50) ]  \n",
      "Vno.A2.1S.Bot 0,0       0.46 (49)      [  0.50 (50) ]  \n",
      "              0,1       0.10 (27)      [  0.50 (50) ]  \n",
      "              0,2      0.003 (29)      [  0.50 (50) ]  \n",
      "              1,0       0.50 (50)      [  0.50 (50) ]  \n",
      "              1,1       0.54 (50)      [  0.50 (50) ]  \n",
      "              1,2      -0.19 (26)      [  0.50 (50) ]  *\n",
      "              2,0       0.50 (50)      [  0.50 (50) ]  \n",
      "              2,1       0.28 (50)      [  0.50 (50) ]  \n",
      "              2,2       0.70 (50)      [  0.50 (50) ]  \n",
      "Von.A2.1S.Bot 0,0      -0.24 (50)      [  0.50 (50) ]  *\n",
      "              0,1       0.45 (50)      [  0.50 (50) ]  \n",
      "              0,2       0.71 (50)      [  0.50 (50) ]  \n",
      "              1,0       0.79 (42)      [  0.50 (50) ]  \n",
      "              1,1       0.51 (50)      [  0.50 (50) ]  \n",
      "              1,2       0.59 (50)      [  0.50 (50) ]  \n",
      "              2,0     -0.115 (75)      [  0.50 (50) ]  *\n",
      "              2,1       0.48 (50)      [  0.50 (50) ]  \n",
      "              2,2       0.13 (21)      [  0.50 (50) ]  \n",
      "Voo.A2.1S.Bot 0,0       0.51 (50)      [  0.50 (50) ]  \n",
      "              0,1       0.56 (50)      [  0.50 (50) ]  \n",
      "              0,2       0.41 (50)      [  0.50 (50) ]  \n",
      "              1,0       0.49 (50)      [  0.50 (50) ]  \n",
      "              1,1       0.51 (50)      [  0.50 (50) ]  \n",
      "              1,2       0.50 (48)      [  0.50 (50) ]  \n",
      "              2,0       0.29 (50)      [  0.50 (50) ]  \n",
      "              2,1       0.79 (37)      [  0.50 (50) ]  \n",
      "              2,2      0.188 (74)      [  0.50 (50) ]  \n",
      "    Z.Dst.d.Bot 0     0.1542 (36)      [  0.02 (50) ]  \n",
      "                1     -0.280 (59)      [  0.01 (50) ]  \n",
      "                2    0.00030 (51)      [  0.01 (50) ]  \n",
      "  Z.Dst.d.Bot.o 0       0.08 (11)      [  0.01 (50) ]  \n",
      "                1     -0.187 (52)      [  0.01 (50) ]  \n",
      "                2      0.042 (10)      [  0.01 (50) ]  \n",
      "    Z.Dst.d.Par 0     0.1763 (41)      [  0.02 (50) ]  \n",
      "                1     -0.290 (60)      [  0.01 (50) ]  \n",
      "                2    0.00035 (61)      [  0.01 (50) ]  \n",
      "  Z.Dst.d.Par.o 0      -0.03 (10)      [  0.01 (50) ]  \n",
      "                1     -0.182 (27)      [  0.01 (50) ]  \n",
      "                2    -0.0016 (41)      [  0.01 (50) ]  \n",
      "\n",
      "Settings:\n",
      "  svdcut/n = 1e-12/0    tol = (1e-08*,1e-10,1e-10)    (itns/time = 48/0.6)\n",
      "  fitter = scipy_least_squares    method = trf\n",
      "\n"
     ]
    }
   ],
   "source": [
    "print(fit)"
   ]
  },
  {
   "cell_type": "code",
   "execution_count": null,
   "metadata": {},
   "outputs": [],
   "source": []
  }
 ],
 "metadata": {
  "kernelspec": {
   "display_name": "Python 3.11.4 ('stat')",
   "language": "python",
   "name": "python3"
  },
  "language_info": {
   "codemirror_mode": {
    "name": "ipython",
    "version": 3
   },
   "file_extension": ".py",
   "mimetype": "text/x-python",
   "name": "python",
   "nbconvert_exporter": "python",
   "pygments_lexer": "ipython3",
   "version": "3.11.4"
  },
  "orig_nbformat": 4,
  "vscode": {
   "interpreter": {
    "hash": "550906e9926f0f588aff226d3abadfa0c6a614c1c5eae7bfa21377021c1cb7ed"
   }
  }
 },
 "nbformat": 4,
 "nbformat_minor": 2
}
