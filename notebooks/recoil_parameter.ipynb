{
 "cells": [
  {
   "cell_type": "code",
   "execution_count": 35,
   "metadata": {},
   "outputs": [],
   "source": [
    "import numpy             as np\n",
    "import gvar              as gv\n",
    "import matplotlib.pyplot as plt\n",
    "import lsqfit"
   ]
  },
  {
   "cell_type": "code",
   "execution_count": 23,
   "metadata": {},
   "outputs": [],
   "source": [
    "from b2heavy import FnalHISQMetadata"
   ]
  },
  {
   "cell_type": "code",
   "execution_count": 24,
   "metadata": {},
   "outputs": [],
   "source": [
    "from b2heavy.TwoPointFunctions.utils     import correlation_diagnostics\n",
    "from b2heavy.TwoPointFunctions.types2pts import CorrelatorIO, plot_effective_coeffs\n",
    "from b2heavy.TwoPointFunctions.fitter    import StagFitter"
   ]
  },
  {
   "cell_type": "code",
   "execution_count": 25,
   "metadata": {},
   "outputs": [],
   "source": [
    "from b2heavy.ThreePointFunctions.types3pts  import Ratio, RatioIO\n",
    "from b2heavy.ThreePointFunctions.fitter3pts import RatioFitter"
   ]
  },
  {
   "cell_type": "markdown",
   "metadata": {},
   "source": [
    "Select a case for which we want to calculate the recoil parameter"
   ]
  },
  {
   "cell_type": "code",
   "execution_count": 26,
   "metadata": {},
   "outputs": [],
   "source": [
    "ENSEMBLE = 'Coarse-1'\n",
    "DATA_DIR = '/Users/pietro/code/data_analysis/BtoD/Alex/'\n",
    "\n",
    "BINSIZE  = {\n",
    "    'MediumCoarse': 13,\n",
    "    'Coarse-1': 11\n",
    "} \n",
    "SMSLIST  = ['1S-1S','d-d','d-1S']\n",
    "\n",
    "COV_SPECS = dict(\n",
    "    diag   = False,\n",
    "    block  = False,\n",
    "    scale  = True,\n",
    "    shrink = True,\n",
    "    cutsvd = 0.01\n",
    ")"
   ]
  },
  {
   "cell_type": "code",
   "execution_count": 27,
   "metadata": {},
   "outputs": [],
   "source": [
    "mdata = FnalHISQMetadata.params(ENSEMBLE)\n",
    "LVOL   = mdata['L']\n",
    "alphas = mdata['alphaS'] "
   ]
  },
  {
   "cell_type": "markdown",
   "metadata": {},
   "source": [
    "## Two-pts functions"
   ]
  },
  {
   "cell_type": "code",
   "execution_count": 28,
   "metadata": {},
   "outputs": [],
   "source": [
    "MESON      = 'Dst'\n",
    "MOM_LIST   = ['000','100','200','300','110','211']\n",
    "TRANGE_EFF = {\n",
    "    'Coarse-1': {\n",
    "        '000': (13,20),\n",
    "        '100': (13,20),\n",
    "        '200': (13,20),\n",
    "        '300': (10,17),\n",
    "        '110': (11,19),\n",
    "        '211': (11,19)\n",
    "    }\n",
    "}\n",
    "TRANGE     = {\n",
    "    'Coarse-1': {\n",
    "        '000': (5,26),\n",
    "        '100': (5,23),\n",
    "        '200': (5,21),\n",
    "        '300': (5,17),\n",
    "        '110': (5,23),\n",
    "        '211': (5,19)\n",
    "    }\n",
    "}"
   ]
  },
  {
   "cell_type": "markdown",
   "metadata": {},
   "source": [
    "Perform fit at each mom and collect fundamental energies"
   ]
  },
  {
   "cell_type": "code",
   "execution_count": null,
   "metadata": {},
   "outputs": [],
   "source": [
    "energies = {}\n",
    "for mom in MOM_LIST:\n",
    "    io   = CorrelatorIO(ENSEMBLE,MESON,mom,PathToDataDir=DATA_DIR)\n",
    "    stag = StagFitter(\n",
    "        io       = io,\n",
    "        jkBin    = BINSIZE[ENSEMBLE],\n",
    "        smearing = SMSLIST\n",
    "    )\n",
    "\n",
    "    effm,effa = stag.meff(\n",
    "        TRANGE_EFF[ENSEMBLE][mom],\n",
    "        **COV_SPECS\n",
    "    )\n",
    "\n",
    "    fit = stag.fit(\n",
    "        Nstates = 3,\n",
    "        trange  = TRANGE[ENSEMBLE][mom],\n",
    "        **COV_SPECS\n",
    "    )\n",
    "\n",
    "    energies[mom] = fit.p['E']\n",
    "\n",
    "E = {mom: energies[mom][0] for mom in energies}"
   ]
  },
  {
   "cell_type": "markdown",
   "metadata": {},
   "source": [
    "Define functions for dispersion relation"
   ]
  },
  {
   "cell_type": "code",
   "execution_count": 34,
   "metadata": {},
   "outputs": [],
   "source": [
    "def mom_to_p2(mom,L=2*np.pi):\n",
    "    return sum([(2*np.pi/L*float(px))**2 for px in mom])\n",
    "\n",
    "def dispersion_relation_lsqfit(pveclist,d):\n",
    "    M1,M2,M4,w4 = d['M1'],d['M2'],d['M4'],d['w4']\n",
    "\n",
    "    res = []\n",
    "    for pvec in pveclist:\n",
    "        p2  = sum(pvec**2)\n",
    "        p22 = p2**2\n",
    "        p4  = sum(pvec**4)\n",
    "\n",
    "        res.append(\n",
    "            M1**2 + (M1/M2 * p2) + ((1/M1**2 - M1/M4**3)/4 * p22) - (M1*w4/3 * p4)\n",
    "        )\n",
    "\n",
    "    return np.array(res)\n"
   ]
  },
  {
   "cell_type": "markdown",
   "metadata": {},
   "source": [
    "Fit the dispersion relation"
   ]
  },
  {
   "cell_type": "code",
   "execution_count": 39,
   "metadata": {},
   "outputs": [
    {
     "name": "stdout",
     "output_type": "stream",
     "text": [
      "Least Square Fit:\n",
      "  chi2/dof [dof] = 0.074 [6]    Q = 1    logGBF = 6.3723\n",
      "\n",
      "Parameters:\n",
      "             M1   1.0796 (51)     [  0.5 (1.5) ]  \n",
      "             M2     1.07 (24)     [  0.5 (1.5) ]  \n",
      "             M4     0.66 (21)     [  0.5 (1.5) ]  \n",
      "             w4     0.3 (1.4)     [  0.5 (1.5) ]  \n",
      "\n",
      "Settings:\n",
      "  svdcut/n = 1e-12/0    tol = (1e-08,1e-10,1e-10*)    (itns/time = 8/0.0)\n",
      "  fitter = scipy_least_squares    method = trf\n",
      "\n"
     ]
    },
    {
     "data": {
      "text/plain": [
       "1.0796(51)"
      ]
     },
     "execution_count": 39,
     "metadata": {},
     "output_type": "execute_result"
    }
   ],
   "source": [
    "psort = list(E.keys())\n",
    "psort.sort(key=lambda x: mom_to_p2(x,L=LVOL))\n",
    "\n",
    "pv = [2*np.pi/LVOL*np.array([float(px) for px in mom]) for mom in psort]\n",
    "p2 = [sum(np.array([float(px)*2*np.pi/LVOL for px in mom])**2) for mom in psort]\n",
    "E0 = np.asarray([E[kp] for kp in psort])    \n",
    "\n",
    "priors = dict(\n",
    "    M1 = gv.gvar(0.5,1.5),\n",
    "    M2 = gv.gvar(0.5,1.5),\n",
    "    M4 = gv.gvar(0.5,1.5),\n",
    "    w4 = gv.gvar(0.5,1.5)\n",
    ")\n",
    "fit = lsqfit.nonlinear_fit(\n",
    "    data  = (pv,E0**2),\n",
    "    fcn   = dispersion_relation_lsqfit,\n",
    "    prior = priors\n",
    ")\n",
    "\n",
    "print(fit)\n"
   ]
  },
  {
   "cell_type": "code",
   "execution_count": 40,
   "metadata": {},
   "outputs": [],
   "source": [
    "M1,M2 = fit.p['M1'], fit.p['M2']"
   ]
  },
  {
   "cell_type": "markdown",
   "metadata": {},
   "source": [
    "## Three-pts functions"
   ]
  },
  {
   "cell_type": "code",
   "execution_count": 107,
   "metadata": {},
   "outputs": [],
   "source": [
    "RATIO  = 'xfstpar'\n",
    "MOM    = '300'\n",
    "SMLIST = ['1S']\n",
    "\n",
    "Nstates = 1\n",
    "trange  = (3,11)"
   ]
  },
  {
   "cell_type": "markdown",
   "metadata": {},
   "source": [
    "Initialize ratio objects"
   ]
  },
  {
   "cell_type": "code",
   "execution_count": 108,
   "metadata": {},
   "outputs": [],
   "source": [
    "io = RatioIO(ENSEMBLE,RATIO,mom,PathToDataDir=DATA_DIR)\n",
    "ratio = RatioFitter(\n",
    "    io,\n",
    "    jkBin    = BINSIZE[ENSEMBLE],\n",
    "    smearing = SMLIST\n",
    ")\n"
   ]
  },
  {
   "cell_type": "markdown",
   "metadata": {},
   "source": [
    "Set priors with $\\Delta E$"
   ]
  },
  {
   "cell_type": "code",
   "execution_count": 109,
   "metadata": {},
   "outputs": [],
   "source": [
    "x,y = ratio.format()\n",
    "\n",
    "Kpr    = gv.gvar(y['1S'][x.tolist().index(ratio.Ta//2)].mean,0.05)\n",
    "dE_src = gv.gvar(\n",
    "    energies[mom][2].mean,\n",
    "    energies[mom][2].sdev*3\n",
    ")"
   ]
  },
  {
   "cell_type": "markdown",
   "metadata": {},
   "source": [
    "Perform the fit"
   ]
  },
  {
   "cell_type": "code",
   "execution_count": 110,
   "metadata": {},
   "outputs": [
    {
     "name": "stdout",
     "output_type": "stream",
     "text": [
      "Least Square Fit:\n",
      "  chi2/dof [dof] = 0.4 [9]    Q = 0.94    logGBF = 35.437\n",
      "\n",
      "Parameters:\n",
      "        ratio 0   -0.086 (25)     [ -0.074 (50) ]  \n",
      "       dE_src 0    -1.38 (85)     [  -1.5 (1.0) ]  \n",
      "         A_1S 0    -0.57 (20)     [     0 ± 1.0 ]  \n",
      "         B_1S 0    -0.23 (22)     [     0 ± 1.0 ]  \n",
      "\n",
      "Settings:\n",
      "  svdcut/n = 0/0    tol = (1e-08,1e-10,1e-10*)    (itns/time = 16/0.0)\n",
      "  fitter = scipy_least_squares    method = trf\n",
      "\n"
     ]
    }
   ],
   "source": [
    "fit = ratio.fit(\n",
    "    Nstates = Nstates,\n",
    "    trange  = trange,\n",
    "    priors  = ratio.priors(Nstates,K=Kpr),\n",
    "    **COV_SPECS\n",
    ")\n",
    "\n",
    "pr = fit.prior\n",
    "popt = dict(fit.pmean)\n",
    "fcov = gv.evalcov(fit.y)\n",
    "c2,ce,p = ratio.chi2exp(Nstates,trange,popt,fcov)"
   ]
  },
  {
   "cell_type": "code",
   "execution_count": 111,
   "metadata": {},
   "outputs": [],
   "source": [
    "XF = fit.p['ratio'][0]"
   ]
  },
  {
   "cell_type": "markdown",
   "metadata": {},
   "source": [
    "## Confront"
   ]
  },
  {
   "cell_type": "code",
   "execution_count": 112,
   "metadata": {},
   "outputs": [],
   "source": [
    "w1 = np.sqrt(1+mom_to_p2(MOM,L=LVOL)/M1**2)\n",
    "w2 = np.sqrt(1+mom_to_p2(MOM,L=LVOL)/M2**2)\n",
    "wr = (1+XF**2)/(1-XF**2)"
   ]
  },
  {
   "cell_type": "code",
   "execution_count": 113,
   "metadata": {},
   "outputs": [
    {
     "name": "stdout",
     "output_type": "stream",
     "text": [
      "w1 = 1.1392(12), w2 = 1.141(59), wr = 1.0148(88)\n"
     ]
    }
   ],
   "source": [
    "print(f'{w1 = }, {w2 = }, {wr = }')"
   ]
  },
  {
   "cell_type": "code",
   "execution_count": null,
   "metadata": {},
   "outputs": [],
   "source": []
  }
 ],
 "metadata": {
  "kernelspec": {
   "display_name": "Python 3.11.4 ('stat')",
   "language": "python",
   "name": "python3"
  },
  "language_info": {
   "codemirror_mode": {
    "name": "ipython",
    "version": 3
   },
   "file_extension": ".py",
   "mimetype": "text/x-python",
   "name": "python",
   "nbconvert_exporter": "python",
   "pygments_lexer": "ipython3",
   "version": "3.11.4"
  },
  "orig_nbformat": 4,
  "vscode": {
   "interpreter": {
    "hash": "550906e9926f0f588aff226d3abadfa0c6a614c1c5eae7bfa21377021c1cb7ed"
   }
  }
 },
 "nbformat": 4,
 "nbformat_minor": 2
}
