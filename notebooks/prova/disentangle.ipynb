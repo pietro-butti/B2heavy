{
 "cells": [
  {
   "cell_type": "code",
   "execution_count": 135,
   "metadata": {},
   "outputs": [],
   "source": [
    "from b2heavy.TwoPointFunctions.utils     import correlation_diagnostics\n",
    "from b2heavy.TwoPointFunctions.types2pts import CorrelatorIO,Correlator, plot_effective_coeffs\n",
    "from b2heavy.TwoPointFunctions.fitter    import StagFitter, p_value, standard_p\n",
    "\n",
    "import numpy             as np\n",
    "import gvar              as gv\n",
    "import matplotlib.pyplot as plt\n",
    "import pandas            as pd\n",
    "import lsqfit\n",
    "\n",
    "from tqdm import tqdm\n",
    "\n",
    "from scipy import linalg as la\n",
    "\n",
    "import copy\n",
    "import corrfitter as cf\n",
    "\n",
    "import h5py"
   ]
  },
  {
   "cell_type": "code",
   "execution_count": 136,
   "metadata": {},
   "outputs": [],
   "source": [
    "BINSIZE  = {\n",
    "    'MediumCoarse':13,\n",
    "    'Coarse-2':    16,\n",
    "    'Coarse-1':    11,\n",
    "    'Coarse-Phys': 19,\n",
    "    'Fine-1':      16,\n",
    "    'Fine-Phys':   16,\n",
    "    'SuperFine':   22\n",
    "}"
   ]
  },
  {
   "cell_type": "code",
   "execution_count": 137,
   "metadata": {},
   "outputs": [],
   "source": [
    "def Tmax(y,errmax=0.3):\n",
    "    for i,el in enumerate(y):\n",
    "        if abs(gv.sdev(el)/gv.mean(el))>errmax:\n",
    "            return i\n",
    "    return len(y)"
   ]
  },
  {
   "cell_type": "code",
   "execution_count": 138,
   "metadata": {},
   "outputs": [],
   "source": [
    "# Correlator specifics\n",
    "ENSEMBLE = 'Coarse-1'\n",
    "MESON    = 'Dst'\n",
    "MOMENTUM = '300'\n",
    "\n",
    "DATA_DIR = '/Users/pietro/code/data_analysis/BtoD/Alex/'\n",
    "\n",
    "SMSLIST  = ['1S-1S','d-d','d-1S']\n",
    "\n",
    "# Specifics of the analysis\n",
    "TRANGE_EFF = (10,20) \n",
    "TRANGE     = (5,20)\n",
    "NSTATES    = 3\n",
    "JKFIT      = False"
   ]
  },
  {
   "cell_type": "code",
   "execution_count": 139,
   "metadata": {},
   "outputs": [],
   "source": [
    "io   = CorrelatorIO(ENSEMBLE,MESON,MOMENTUM,PathToDataDir=DATA_DIR)\n",
    "stag = StagFitter(\n",
    "    io       = io,\n",
    "    jkBin    = BINSIZE[ENSEMBLE],\n",
    "    smearing = SMSLIST\n",
    ")\n",
    "cov_specs = dict(scale=True, shrink=True, cutsvd=1e-12)"
   ]
  },
  {
   "cell_type": "code",
   "execution_count": 181,
   "metadata": {},
   "outputs": [],
   "source": [
    "nconf = StagFitter(io,jkBin=1).data.shape[2]"
   ]
  },
  {
   "cell_type": "code",
   "execution_count": 140,
   "metadata": {},
   "outputs": [
    {
     "name": "stderr",
     "output_type": "stream",
     "text": [
      "/Users/pietro/code/software/B2heavy/b2heavy/TwoPointFunctions/types2pts.py:38: RuntimeWarning: invalid value encountered in sqrt\n",
      "  m = np.arccosh( (y[(it+1)%len(y)]+y[(it-1)%len(y)])/y[it]/2 )\n",
      "/Users/pietro/code/software/B2heavy/b2heavy/TwoPointFunctions/types2pts.py:38: RuntimeWarning: invalid value encountered in log\n",
      "  m = np.arccosh( (y[(it+1)%len(y)]+y[(it-1)%len(y)])/y[it]/2 )\n",
      "/Users/pietro/code/software/B2heavy/b2heavy/TwoPointFunctions/types2pts.py:38: RuntimeWarning: invalid value encountered in arccosh\n",
      "  m = np.arccosh( (y[(it+1)%len(y)]+y[(it-1)%len(y)])/y[it]/2 )\n"
     ]
    }
   ],
   "source": [
    "effm,effa = stag.meff(TRANGE_EFF,**cov_specs)"
   ]
  },
  {
   "cell_type": "code",
   "execution_count": 141,
   "metadata": {},
   "outputs": [],
   "source": [
    "NEXC = 3\n",
    "TMIN = 5"
   ]
  },
  {
   "cell_type": "code",
   "execution_count": 143,
   "metadata": {},
   "outputs": [],
   "source": [
    "xdata,ydata,yjk = stag.format(alljk=True,scale=True,shrink=True,svd=1e-12)\n",
    "\n",
    "xfit = {}\n",
    "yfit = {}\n",
    "yfitjk = {}\n",
    "for (sm,pl),y in ydata.items():\n",
    "    xfit[sm,pl] = xdata[TMIN:Tmax(y)]\n",
    "    yfit[sm,pl] = ydata[sm,pl][TMIN:Tmax(y)]\n",
    "    yfitjk[sm,pl] = yjk[sm,pl][:,TMIN:Tmax(y)]\n",
    "\n",
    "yfit_dict   = np.concatenate([yfit[k] for k in stag.keys])\n",
    "yfitjk_dict = np.hstack([yfitjk[k] for k in stag.keys])"
   ]
  },
  {
   "cell_type": "markdown",
   "metadata": {},
   "source": [
    "## linear"
   ]
  },
  {
   "cell_type": "code",
   "execution_count": 158,
   "metadata": {},
   "outputs": [],
   "source": [
    "def fexp(Nt):\n",
    "    return lambda t,E,Z: Z * ( np.exp(-E*t) + np.exp(-E*(Nt-t)) ) \n",
    "\n",
    "\n",
    "def corr2(mes,Nstates,Nt,sm,pol):\n",
    "    sm1,sm2 = sm.split('-')\n",
    "    mix = sm1!=sm2\n",
    "\n",
    "    def aux(t,p):\n",
    "        c2 = 0.\n",
    "        for n in range(Nstates):\n",
    "            Ephy = sum(p[f'dE.{mes}'][:n+1])\n",
    "            Z0   = p[f'Z.{mes}.{sm1}.{pol}'][n]   * p[f'Z.{mes}.{sm2}.{pol}'][n]\n",
    "            c2 += fexp(Nt)(t,Ephy,Z0)\n",
    "\n",
    "            Eosc = sum(p[f'dE.{mes}.o'][:n+1]) \n",
    "            Z1   = p[f'Z.{mes}.{sm1}.{pol}.o'][n] * p[f'Z.{mes}.{sm2}.{pol}.o'][n]\n",
    "            c2 += fexp(Nt)(t,Eosc,Z1) * (-1)**((t+1))\n",
    "\n",
    "        return c2\n",
    "\n",
    "    return aux"
   ]
  },
  {
   "cell_type": "code",
   "execution_count": 159,
   "metadata": {},
   "outputs": [],
   "source": [
    "def fitfcn(xdata,pdict):\n",
    "    aux = []\n",
    "    for smr,pol in stag.keys:\n",
    "        fcn = corr2(stag.info.meson,NEXC,stag.Nt,smr,pol)\n",
    "        aux.append(fcn(xdata[smr,pol],pdict))\n",
    "    return np.concatenate(aux)"
   ]
  },
  {
   "cell_type": "code",
   "execution_count": 160,
   "metadata": {},
   "outputs": [],
   "source": [
    "ampl = {\n",
    "    '1S': '1(1)',\n",
    "    'd' : '0.01(50)'\n",
    "}\n",
    "\n",
    "pr = {}\n",
    "for smr,pol in effa:\n",
    "    s1,s2 = smr.split('-')\n",
    "    if s1==s2:\n",
    "        aux = effa[smr,pol] # * 2 * effm\n",
    "\n",
    "        z0 = f'{aux.mean:.6f}({\"1.0\" if s1==\"1S\" else \"0.5\"})'\n",
    "\n",
    "        pr[f'Z.{MESON}.{s1}.{pol}']    = ['1(1)' if s1=='1S' else '0.01(50)' for n in range(NEXC)]\n",
    "        pr[f'Z.{MESON}.{s1}.{pol}'][0] = z0 \n",
    "        pr[f'Z.{MESON}.{s1}.{pol}.o']  = ['1(1)' if s1=='1S' else '0.01(50)' for n in range(NEXC)]\n",
    "\n",
    "pr[f'dE.{MESON}']   = ['0.5(5)' for n in range(NEXC)]; pr[f'dE.{MESON}'][0] = f'{effm.mean:.2f}(0.5)'\n",
    "pr[f'dE.{MESON}.o'] = ['0.5(5)' for n in range(NEXC)]\n",
    "\n",
    "logprior = gv.BufferDict()\n",
    "for k,p in pr.items():\n",
    "    logprior[f'log({k})'] = gv.log(gv.gvar(p))\n",
    "\n",
    "prior = gv.BufferDict()\n",
    "for k,p in pr.items():\n",
    "    prior[k] = gv.gvar(p)\n"
   ]
  },
  {
   "cell_type": "code",
   "execution_count": 161,
   "metadata": {},
   "outputs": [
    {
     "name": "stdout",
     "output_type": "stream",
     "text": [
      "Z.Dst.1S.Bot [0.8(1.0) 1.0(1.0) 1.0(1.0)]\n",
      "Z.Dst.1S.Bot.o [1.0(1.0) 1.0(1.0) 1.0(1.0)]\n",
      "Z.Dst.1S.Par [1.1(1.0) 1.0(1.0) 1.0(1.0)]\n",
      "Z.Dst.1S.Par.o [1.0(1.0) 1.0(1.0) 1.0(1.0)]\n",
      "Z.Dst.d.Bot [0.02(50) 0.01(50) 0.01(50)]\n",
      "Z.Dst.d.Bot.o [0.01(50) 0.01(50) 0.01(50)]\n",
      "Z.Dst.d.Par [0.02(50) 0.01(50) 0.01(50)]\n",
      "Z.Dst.d.Par.o [0.01(50) 0.01(50) 0.01(50)]\n",
      "dE.Dst [1.20(50) 0.50(50) 0.50(50)]\n",
      "dE.Dst.o [0.50(50) 0.50(50) 0.50(50)]\n"
     ]
    }
   ],
   "source": [
    "for k,p in prior.items():\n",
    "    print(k,p)"
   ]
  },
  {
   "cell_type": "code",
   "execution_count": 164,
   "metadata": {},
   "outputs": [
    {
     "name": "stdout",
     "output_type": "stream",
     "text": [
      "Least Square Fit:\n",
      "  chi2/dof [dof] = 0.79 [78]    Q = 0.92    logGBF = 1269.3\n",
      "\n",
      "Parameters:\n",
      "  Z.Dst.1S.Bot 0     0.896 (53)      [  0.8 (1.0) ]  \n",
      "               1     -0.82 (25)      [  1.0 (1.0) ]  *\n",
      "               2     0.933 (81)      [  1.0 (1.0) ]  \n",
      "Z.Dst.1S.Bot.o 0     0.272 (75)      [  1.0 (1.0) ]  \n",
      "               1     1.266 (68)      [  1.0 (1.0) ]  \n",
      "               2      0.30 (26)      [  1.0 (1.0) ]  \n",
      "  Z.Dst.1S.Par 0     1.059 (61)      [  1.1 (1.0) ]  \n",
      "               1     -0.77 (26)      [  1.0 (1.0) ]  *\n",
      "               2     1.089 (92)      [  1.0 (1.0) ]  \n",
      "Z.Dst.1S.Par.o 0     0.174 (53)      [  1.0 (1.0) ]  \n",
      "               1     0.983 (69)      [  1.0 (1.0) ]  \n",
      "               2      0.43 (21)      [  1.0 (1.0) ]  \n",
      "   Z.Dst.d.Bot 0    0.1417 (66)      [  0.02 (50) ]  \n",
      "               1    -0.623 (71)      [  0.01 (50) ]  *\n",
      "               2     0.051 (29)      [  0.01 (50) ]  \n",
      " Z.Dst.d.Bot.o 0    0.0280 (75)      [  0.01 (50) ]  \n",
      "               1     0.148 (17)      [  0.01 (50) ]  \n",
      "               2     0.292 (34)      [  0.01 (50) ]  \n",
      "   Z.Dst.d.Par 0    0.1610 (79)      [  0.02 (50) ]  \n",
      "               1    -0.638 (77)      [  0.01 (50) ]  *\n",
      "               2     0.082 (28)      [  0.01 (50) ]  \n",
      " Z.Dst.d.Par.o 0   -0.0061 (26)      [  0.01 (50) ]  \n",
      "               1     0.111 (20)      [  0.01 (50) ]  \n",
      "               2     0.304 (37)      [  0.01 (50) ]  \n",
      "        dE.Dst 0    1.2152 (80)      [  1.20 (50) ]  \n",
      "               1     0.725 (43)      [  0.50 (50) ]  \n",
      "               2    -0.467 (63)      [  0.50 (50) ]  *\n",
      "      dE.Dst.o 0     1.116 (35)      [  0.50 (50) ]  *\n",
      "               1     0.301 (29)      [  0.50 (50) ]  \n",
      "               2     0.375 (51)      [  0.50 (50) ]  \n",
      "\n",
      "Settings:\n",
      "  svdcut/n = 1e-12/0    tol = (1e-08,1e-10,1e-10*)    (itns/time = 89/0.3)\n",
      "  fitter = scipy_least_squares    method = trf\n",
      "\n"
     ]
    }
   ],
   "source": [
    "fit = lsqfit.nonlinear_fit(\n",
    "    data  = (xfit,yfit_dict),\n",
    "    fcn   = fitfcn,\n",
    "    prior = prior\n",
    ")\n",
    "print(fit)"
   ]
  },
  {
   "cell_type": "markdown",
   "metadata": {},
   "source": [
    "## reparameterized"
   ]
  },
  {
   "cell_type": "code",
   "execution_count": 166,
   "metadata": {},
   "outputs": [],
   "source": [
    "def fexp(Nt):\n",
    "    return lambda t,E,Z: Z * ( np.exp(-E*t) + np.exp(-E*(Nt-t)) ) \n",
    "\n",
    "\n",
    "def reparameterized(mes,Nstates,Nt,sm,pol):\n",
    "    sm1,sm2 = sm.split('-')\n",
    "    mix = sm1!=sm2\n",
    "\n",
    "    def aux(t,p):\n",
    "        c2 = 0.\n",
    "        for n in range(Nstates):\n",
    "            Ephy = sum(p[f'dE.{mes}'][:n+1])\n",
    "            Z0   = p[f'Z.{mes}.{sm1}.{pol}'  ][n]**2 * p[f'Z.{mes}.{sm2}.{pol}'  ][n]**2\n",
    "            c2 += fexp(Nt)(t,Ephy,Z0)\n",
    "\n",
    "            Eosc = sum(p[f'dE.{mes}.o'][:n+1]) \n",
    "            Z1   = p[f'Z.{mes}.{sm1}.{pol}.o'][n]**2 * p[f'Z.{mes}.{sm2}.{pol}.o'][n]**2\n",
    "            c2 += fexp(Nt)(t,Eosc,Z1) * (-1)**((t+1))\n",
    "\n",
    "        return c2\n",
    "\n",
    "    return aux\n",
    "\n",
    "def fitfcn(xdata,pdict):\n",
    "    aux = []\n",
    "    for smr,pol in stag.keys:\n",
    "        fcn = reparameterized(stag.info.meson,NEXC,stag.Nt,smr,pol)\n",
    "        aux.append(fcn(xdata[smr,pol],pdict))\n",
    "    return np.concatenate(aux)"
   ]
  },
  {
   "cell_type": "code",
   "execution_count": 215,
   "metadata": {},
   "outputs": [],
   "source": [
    "ampl = {\n",
    "    '1S': '1(1)',\n",
    "    'd' : '0.01(50)'\n",
    "}\n",
    "\n",
    "pr = {}\n",
    "for smr,pol in effa:\n",
    "    s1,s2 = smr.split('-')\n",
    "    if s1==s2:\n",
    "        aux = np.sqrt(effa[smr,pol])\n",
    "\n",
    "        # z0 = f'{aux.mean:.6f}({\"1.0\" if s1==\"1S\" else \"0.5\"})'\n",
    "        z0 = f'{aux.mean:.6f}(1.0)'\n",
    "\n",
    "        pr[f'Z.{MESON}.{s1}.{pol}']    = ['1(1)' if s1=='1S' else '0.01(50)' for n in range(NEXC)]\n",
    "        pr[f'Z.{MESON}.{s1}.{pol}'][0] = z0 \n",
    "        pr[f'Z.{MESON}.{s1}.{pol}.o']  = ['1(1)' if s1=='1S' else '0.01(50)' for n in range(NEXC)]\n",
    "\n",
    "pr[f'dE.{MESON}']   = ['0.5(5)' for n in range(NEXC)]; pr[f'dE.{MESON}'][0] = f'{effm.mean:.2f}(0.5)'\n",
    "pr[f'dE.{MESON}.o'] = ['0.5(5)' for n in range(NEXC)]"
   ]
  },
  {
   "cell_type": "code",
   "execution_count": 216,
   "metadata": {},
   "outputs": [],
   "source": [
    "prior = gv.BufferDict()\n",
    "for k,p in pr.items():\n",
    "    if k.startswith('dE'):\n",
    "        # prior[f'log({k})'] = gv.log(gv.gvar(p))\n",
    "        prior[k] = gv.gvar(p)\n",
    "    else:\n",
    "        prior[k] = gv.gvar(p)"
   ]
  },
  {
   "cell_type": "code",
   "execution_count": 217,
   "metadata": {},
   "outputs": [
    {
     "name": "stdout",
     "output_type": "stream",
     "text": [
      "`ftol` termination condition is satisfied.\n",
      "Function evaluations 84, initial cost 4.8426e+11, final cost 6.1337e+01, first-order optimality 4.02e-04.\n"
     ]
    }
   ],
   "source": [
    "fit = lsqfit.nonlinear_fit(\n",
    "    data  = (xfit,yfit_dict),\n",
    "    fcn   = fitfcn,\n",
    "    prior = prior,\n",
    "    verbose = True\n",
    ")"
   ]
  },
  {
   "cell_type": "code",
   "execution_count": 218,
   "metadata": {},
   "outputs": [
    {
     "name": "stdout",
     "output_type": "stream",
     "text": [
      "Least Square Fit:\n",
      "  chi2/dof [dof] = 1.6 [78]    Q = 0.00094    logGBF = 1245.5\n",
      "\n",
      "Parameters:\n",
      "  Z.Dst.1S.Bot 0   1.0416 (36)     [  0.9 (1.0) ]  \n",
      "               1     0.02 (98)     [  1.0 (1.0) ]  \n",
      "               2     0.70 (12)     [  1.0 (1.0) ]  \n",
      "Z.Dst.1S.Bot.o 0    0.636 (42)     [  1.0 (1.0) ]  \n",
      "               1    1.260 (20)     [  1.0 (1.0) ]  \n",
      "               2     0.16 (89)     [  1.0 (1.0) ]  \n",
      "  Z.Dst.1S.Par 0   1.1101 (51)     [  1.1 (1.0) ]  \n",
      "               1    0.624 (32)     [  1.0 (1.0) ]  \n",
      "               2     0.95 (13)     [  1.0 (1.0) ]  \n",
      "Z.Dst.1S.Par.o 0    0.541 (30)     [  1.0 (1.0) ]  \n",
      "               1     0.91 (19)     [  1.0 (1.0) ]  \n",
      "               2     1.13 (15)     [  1.0 (1.0) ]  \n",
      "   Z.Dst.d.Bot 0   0.3947 (25)     [  0.1 (1.0) ]  \n",
      "               1    0.245 (15)     [  0.01 (50) ]  \n",
      "               2   -1.123 (69)     [  0.01 (50) ]  **\n",
      " Z.Dst.d.Bot.o 0    0.204 (15)     [  0.01 (50) ]  \n",
      "               1   -0.447 (22)     [  0.01 (50) ]  \n",
      "               2   -0.402 (41)     [  0.01 (50) ]  \n",
      "   Z.Dst.d.Par 0   0.4309 (20)     [  0.2 (1.0) ]  \n",
      "               1   0.004 (496)     [  0.01 (50) ]  \n",
      "               2    1.166 (71)     [  0.01 (50) ]  **\n",
      " Z.Dst.d.Par.o 0   -0.078 (20)     [  0.01 (50) ]  \n",
      "               1   -0.448 (29)     [  0.01 (50) ]  \n",
      "               2    -0.28 (15)     [  0.01 (50) ]  \n",
      "        dE.Dst 0   1.2427 (23)     [  1.20 (50) ]  \n",
      "               1    0.054 (22)     [  0.50 (50) ]  \n",
      "               2    0.976 (50)     [  0.50 (50) ]  \n",
      "      dE.Dst.o 0    1.150 (24)     [  0.50 (50) ]  *\n",
      "               1    0.381 (20)     [  0.50 (50) ]  \n",
      "               2    0.118 (37)     [  0.50 (50) ]  \n",
      "\n",
      "Settings:\n",
      "  svdcut/n = 1e-12/0    tol = (1e-08,1e-10,1e-10*)    (itns/time = 84/0.3)\n",
      "  fitter = scipy_least_squares    method = trf\n",
      "\n"
     ]
    }
   ],
   "source": [
    "print(fit)"
   ]
  },
  {
   "cell_type": "markdown",
   "metadata": {},
   "source": [
    "## reparameterized (`E` also)"
   ]
  },
  {
   "cell_type": "code",
   "execution_count": 265,
   "metadata": {},
   "outputs": [],
   "source": [
    "def fexp(Nt):\n",
    "    return lambda t,E,Z: Z * ( np.exp(-E*t) + np.exp(-E*(Nt-t)) ) \n",
    "\n",
    "def reparameterizedE(mes,Nstates,Nt,sm,pol):\n",
    "    sm1,sm2 = sm.split('-')\n",
    "    mix = sm1!=sm2\n",
    "\n",
    "    def aux(t,p):\n",
    "        erg    = np.exp(p[f'dE.{mes}'])\n",
    "        ergo   = np.exp(p[f'dE.{mes}.o'])\n",
    "        erg[0] = p[f'dE.{mes}'][0]\n",
    "\n",
    "        c2 = 0.\n",
    "        for n in range(Nstates):\n",
    "            Ephy = sum(p[f'dE.{mes}'][:n+1])\n",
    "            Z0   = p[f'Z.{mes}.{sm1}.{pol}'  ][n]**2 * p[f'Z.{mes}.{sm2}.{pol}'  ][n]**2\n",
    "            c2 += fexp(Nt)(t,Ephy,Z0)\n",
    "\n",
    "            Eosc = sum(p[f'dE.{mes}.o'][:n+1]) \n",
    "            Z1   = p[f'Z.{mes}.{sm1}.{pol}.o'][n]**2 * p[f'Z.{mes}.{sm2}.{pol}.o'][n]**2\n",
    "            c2 += fexp(Nt)(t,Eosc,Z1) * (-1)**((t+1))\n",
    "\n",
    "        return c2\n",
    "    \n",
    "    return aux"
   ]
  },
  {
   "cell_type": "code",
   "execution_count": 282,
   "metadata": {},
   "outputs": [],
   "source": [
    "# Format and calculate covariance\n",
    "xdata,ydata,yjk = stag.format(alljk=True,scale=True,shrink=True,svd=1e-12)\n",
    "\n",
    "# Cut data withing desired fitting range\n",
    "tmaxs = {}\n",
    "xfit, yfit, yfitjk = {},{},{}\n",
    "for sm,pl in stag.keys:\n",
    "    y = ydata[sm,pl]\n",
    "    tmax = Tmax(y)\n",
    "\n",
    "    xfit[sm,pl] = xdata[TMIN:tmax]\n",
    "    yfit[sm,pl] = ydata[sm,pl][TMIN:tmax]\n",
    "    yfitjk[sm,pl] = yjk[sm,pl][:,TMIN:tmax]\n",
    "\n",
    "    tmaxs[sm,pl] = tmax\n",
    "\n",
    "# Flatten data\n",
    "yfit_dict   = np.concatenate([yfit[k] for k in stag.keys])\n",
    "yfitjk_dict = np.hstack([yfitjk[k] for k in stag.keys])\n",
    "\n",
    "# Define fitting function\n",
    "def fitfcn(xd,pdict):\n",
    "    aux = []\n",
    "    for smr,pol in stag.keys:\n",
    "        fcn = reparameterizedE(stag.info.meson,NEXC,stag.Nt,smr,pol)\n",
    "        aux.append(fcn(xd[smr,pol],pdict))\n",
    "    return np.concatenate(aux)"
   ]
  },
  {
   "cell_type": "code",
   "execution_count": 283,
   "metadata": {},
   "outputs": [],
   "source": [
    "pr = {}\n",
    "for smr,pol in effa:\n",
    "    s1,s2 = smr.split('-')\n",
    "    if s1==s2:\n",
    "        aux = np.sqrt(effa[smr,pol])\n",
    "\n",
    "        z0 = f'{aux.mean:.6f}(1.0)'\n",
    "\n",
    "        pr[f'Z.{MESON}.{s1}.{pol}']    = ['1(1)' if s1=='1S' else '0.01(50)' for n in range(NEXC)]\n",
    "        pr[f'Z.{MESON}.{s1}.{pol}'][0] = z0 \n",
    "        pr[f'Z.{MESON}.{s1}.{pol}.o']  = ['1(1)' if s1=='1S' else '0.01(50)' for n in range(NEXC)]\n",
    "\n",
    "pr[f'dE.{MESON}']   = ['-0.7(1.0)' for n in range(NEXC)]; pr[f'dE.{MESON}'][0] = f'{effm.mean:.2f}(0.5)'\n",
    "pr[f'dE.{MESON}.o'] = ['-0.7(1.0)' for n in range(NEXC)]\n",
    "\n",
    "prior = gv.BufferDict()\n",
    "for k,p in pr.items():\n",
    "    prior[k] = gv.gvar(p)"
   ]
  },
  {
   "cell_type": "code",
   "execution_count": 284,
   "metadata": {},
   "outputs": [
    {
     "name": "stdout",
     "output_type": "stream",
     "text": [
      "`xtol` termination condition is satisfied.\n",
      "Function evaluations 64, initial cost 7.3864e+117, final cost 1.1943e+07, first-order optimality 3.26e+18.\n"
     ]
    },
    {
     "name": "stderr",
     "output_type": "stream",
     "text": [
      "/Users/pietro/opt/anaconda3/envs/stat/lib/python3.11/site-packages/scipy/optimize/_lsq/common.py:115: RuntimeWarning: overflow encountered in power\n",
      "  phi_prime = -np.sum(suf ** 2 / denom**3) / p_norm\n",
      "/Users/pietro/opt/anaconda3/envs/stat/lib/python3.11/site-packages/scipy/optimize/_lsq/common.py:154: RuntimeWarning: divide by zero encountered in scalar divide\n",
      "  ratio = phi / phi_prime\n",
      "/Users/pietro/opt/anaconda3/envs/stat/lib/python3.11/site-packages/lsqfit/__init__.py:776: UserWarning: det(fit.cov) < 0 --- roundoff errors? Try an svd cut.\n",
      "  warnings.warn('det(fit.cov) < 0 --- roundoff errors? Try an svd cut.')\n"
     ]
    }
   ],
   "source": [
    "fit = lsqfit.nonlinear_fit(\n",
    "    data  = (xfit,yfit_dict),\n",
    "    fcn   = fitfcn,\n",
    "    prior = prior,\n",
    "    verbose = True\n",
    ")"
   ]
  },
  {
   "cell_type": "code",
   "execution_count": 285,
   "metadata": {},
   "outputs": [
    {
     "name": "stdout",
     "output_type": "stream",
     "text": [
      "Least Square Fit:\n",
      "  chi2/dof [dof] = 3.1e+05 [78]    Q = 0    logGBF = -1.1942e+07\n",
      "\n",
      "Parameters:\n",
      "  Z.Dst.1S.Bot 0      1.36701 (41)       [  0.9 (1.0) ]  \n",
      "               1      0.92123 (43)       [  1.0 (1.0) ]  \n",
      "               2      0.01265 (21)       [  1.0 (1.0) ]  \n",
      "Z.Dst.1S.Bot.o 0     0.004079 (27)       [  1.0 (1.0) ]  \n",
      "               1     -8.78(13)e-07       [  1.0 (1.0) ]  *\n",
      "               2      6.38(20)e-15       [  1.0 (1.0) ]  \n",
      "  Z.Dst.1S.Par 0      1.23723 (40)       [  1.1 (1.0) ]  \n",
      "               1      1.14375 (91)       [  1.0 (1.0) ]  \n",
      "               2      0.00886 (14)       [  1.0 (1.0) ]  \n",
      "Z.Dst.1S.Par.o 0     0.004070 (26)       [  1.0 (1.0) ]  \n",
      "               1      7.80(15)e-07       [  1.0 (1.0) ]  \n",
      "               2      5.82(27)e-15       [  1.0 (1.0) ]  \n",
      "   Z.Dst.d.Bot 0       0.6101 (11)       [  0.1 (1.0) ]  \n",
      "               1      0.53937 (37)       [  0.01 (50) ]  *\n",
      "               2     0.000157 (12)       [  0.01 (50) ]  \n",
      " Z.Dst.d.Bot.o 0    0.0002189 (18)       [  0.01 (50) ]  \n",
      "               1     5.244(74)e-07       [  0.01 (50) ]  \n",
      "               2     1.858(87)e-15       [  0.01 (50) ]  \n",
      "   Z.Dst.d.Par 0      0.66329 (98)       [  0.2 (1.0) ]  \n",
      "               1     -0.48130 (94)       [  0.01 (50) ]  \n",
      "               2      0.1(6.4)e-05       [  0.01 (50) ]  \n",
      " Z.Dst.d.Par.o 0    0.0002875 (20)       [  0.01 (50) ]  \n",
      "               1    -5.410(76)e-07       [  0.01 (50) ]  \n",
      "               2      7.0(3.1)e-16       [  0.01 (50) ]  \n",
      "        dE.Dst 0      1.59942 (27)       [  1.20 (50) ]  \n",
      "               1     -0.21670 (46)       [ -0.7 (1.0) ]  \n",
      "               2      -1.4625 (13)       [ -0.7 (1.0) ]  \n",
      "      dE.Dst.o 0     -0.17657 (54)       [ -0.7 (1.0) ]  \n",
      "               1      -0.5869 (12)       [ -0.7 (1.0) ]  \n",
      "               2   -1.2926443 (71)       [ -0.7 (1.0) ]  \n",
      "\n",
      "Settings:\n",
      "  svdcut/n = 1e-12/0    tol = (1e-08*,1e-10,1e-10)    (itns/time = 64/0.2)\n",
      "  fitter = scipy_least_squares    method = trf\n",
      "\n"
     ]
    }
   ],
   "source": [
    "print(fit)"
   ]
  },
  {
   "cell_type": "markdown",
   "metadata": {},
   "source": [
    "#### jk fit"
   ]
  },
  {
   "cell_type": "code",
   "execution_count": 235,
   "metadata": {},
   "outputs": [],
   "source": [
    "def firstel(dic):\n",
    "    return {k: dic[k][0] for k in dic}"
   ]
  },
  {
   "cell_type": "code",
   "execution_count": 238,
   "metadata": {},
   "outputs": [
    {
     "name": "stderr",
     "output_type": "stream",
     "text": [
      "100%|██████████| 90/90 [00:45<00:00,  1.97it/s]\n"
     ]
    }
   ],
   "source": [
    "cov = gv.evalcov(yfit_dict)\n",
    "\n",
    "res = []\n",
    "for ijk in tqdm(range(yfitjk_dict.shape[0])):\n",
    "    data = (xfit,yfitjk_dict[ijk,:],cov)\n",
    "    fit = lsqfit.nonlinear_fit(\n",
    "        data  = data,\n",
    "        fcn   = fitfcn,\n",
    "        prior = prior,\n",
    "    )\n",
    "    res.append(firstel(fit.pmean))"
   ]
  },
  {
   "cell_type": "code",
   "execution_count": 240,
   "metadata": {},
   "outputs": [
    {
     "data": {
      "text/plain": [
       "(90, 78)"
      ]
     },
     "execution_count": 240,
     "metadata": {},
     "output_type": "execute_result"
    }
   ],
   "source": [
    "yfitjk_dict.shape"
   ]
  },
  {
   "cell_type": "markdown",
   "metadata": {},
   "source": [
    "# with `corrfitter`"
   ]
  },
  {
   "cell_type": "code",
   "execution_count": 55,
   "metadata": {},
   "outputs": [],
   "source": [
    "xdata,ydata = stag.format(scale=True,shrink=True)\n",
    "\n",
    "mes = stag.info.meson\n",
    "\n",
    "models = []\n",
    "for smr,pol in ydata:\n",
    "    sm1,sm2 = smr.split('-')\n",
    "    fcn = cf.Corr2(\n",
    "        datatag = (smr,pol),\n",
    "        tp      = stag.Nt,\n",
    "        s       = (1.,-1.),\n",
    "        tdata   = xdata,\n",
    "        tmin    = TMIN,\n",
    "        tmax    = Tmax(ydata[smr,pol]),\n",
    "        dE      = (f'dE.{mes}',f'dE.{mes}.o'),\n",
    "        a       = (f'Z.{mes}.{sm1}.{pol}',f'Z.{mes}.{sm1}.{pol}.o'),\n",
    "        b       = (f'Z.{mes}.{sm2}.{pol}',f'Z.{mes}.{sm2}.{pol}.o')\n",
    "    )\n",
    "\n",
    "    models.append(fcn)"
   ]
  },
  {
   "cell_type": "code",
   "execution_count": 56,
   "metadata": {},
   "outputs": [],
   "source": [
    "fitter = cf.CorrFitter(models=models)\n",
    "cfit = fitter.lsqfit(data=ydata,prior=prior)"
   ]
  },
  {
   "cell_type": "code",
   "execution_count": 35,
   "metadata": {},
   "outputs": [
    {
     "name": "stdout",
     "output_type": "stream",
     "text": [
      "Least Square Fit:\n",
      "  chi2/dof [dof] = 0.85 [90]    Q = 0.84    logGBF = 1464.1\n",
      "\n",
      "Parameters:\n",
      "  Z.Dst.1S.Bot 0     0.914 (34)      [  0.8 (1.0) ]  \n",
      "               1    -0.983 (49)      [  1.0 (1.0) ]  *\n",
      "               2      0.78 (11)      [  1.0 (1.0) ]  \n",
      "        dE.Dst 0    1.2179 (56)      [  1.20 (50) ]  \n",
      "               1     0.290 (30)      [  0.50 (50) ]  \n",
      "               2     0.389 (32)      [  0.50 (50) ]  \n",
      "Z.Dst.1S.Bot.o 0     0.309 (56)      [  1.0 (1.0) ]  \n",
      "               1     1.164 (31)      [  1.0 (1.0) ]  \n",
      "               2     0.609 (82)      [  1.0 (1.0) ]  \n",
      "      dE.Dst.o 0     1.153 (25)      [  0.50 (50) ]  *\n",
      "               1     0.239 (25)      [  0.50 (50) ]  \n",
      "               2     0.458 (21)      [  0.50 (50) ]  \n",
      "  Z.Dst.1S.Par 0     1.095 (38)      [  1.1 (1.0) ]  \n",
      "               1     1.050 (60)      [  1.0 (1.0) ]  \n",
      "               2      0.80 (11)      [  1.0 (1.0) ]  \n",
      "Z.Dst.1S.Par.o 0     0.158 (39)      [  1.0 (1.0) ]  \n",
      "               1     0.940 (31)      [  1.0 (1.0) ]  \n",
      "               2    -0.667 (81)      [  1.0 (1.0) ]  *\n",
      "   Z.Dst.d.Bot 0    0.1434 (43)      [  0.02 (50) ]  \n",
      "               1    -0.045 (21)      [  0.01 (50) ]  \n",
      "               2     0.551 (21)      [  0.01 (50) ]  *\n",
      " Z.Dst.d.Bot.o 0    0.0363 (65)      [  0.01 (50) ]  \n",
      "               1    0.1262 (69)      [  0.01 (50) ]  \n",
      "               2     0.378 (14)      [  0.01 (50) ]  \n",
      "   Z.Dst.d.Par 0    0.1636 (50)      [  0.02 (50) ]  \n",
      "               1     0.065 (22)      [  0.01 (50) ]  \n",
      "               2     0.576 (24)      [  0.01 (50) ]  *\n",
      " Z.Dst.d.Par.o 0   -0.0126 (26)      [  0.01 (50) ]  \n",
      "               1    0.0991 (82)      [  0.01 (50) ]  \n",
      "               2    -0.370 (15)      [  0.01 (50) ]  \n",
      "\n",
      "Settings:\n",
      "  svdcut/n = 1e-12/0    tol = (1e-08,1e-10,1e-10*)    (itns/time = 58/0.2)\n",
      "  fitter = scipy_least_squares    method = trf\n",
      "\n"
     ]
    }
   ],
   "source": [
    "print(cfit)"
   ]
  },
  {
   "cell_type": "markdown",
   "metadata": {},
   "source": [
    "# with `b2heavy`"
   ]
  },
  {
   "cell_type": "code",
   "execution_count": 17,
   "metadata": {},
   "outputs": [],
   "source": [
    "priors = stag.priors(NEXC,Meff=effm,Aeff=effa)\n",
    "b2d = stag.fit(NEXC, (4,18), priors=priors,**cov_specs)"
   ]
  },
  {
   "cell_type": "code",
   "execution_count": 19,
   "metadata": {},
   "outputs": [
    {
     "ename": "KeyError",
     "evalue": "'undefined key: Z.d.Bot'",
     "output_type": "error",
     "traceback": [
      "\u001b[0;31m---------------------------------------------------------------------------\u001b[0m",
      "\u001b[0;31mKeyError\u001b[0m                                  Traceback (most recent call last)",
      "Cell \u001b[0;32mIn[19], line 1\u001b[0m\n\u001b[0;32m----> 1\u001b[0m \u001b[38;5;28mprint\u001b[39m(\u001b[43mcfit\u001b[49m\u001b[38;5;241;43m.\u001b[39;49m\u001b[43mp\u001b[49m\u001b[43m[\u001b[49m\u001b[38;5;124;43m'\u001b[39;49m\u001b[38;5;124;43mZ.d.Bot\u001b[39;49m\u001b[38;5;124;43m'\u001b[39;49m\u001b[43m]\u001b[49m[\u001b[38;5;241m0\u001b[39m], np\u001b[38;5;241m.\u001b[39mexp(b2d\u001b[38;5;241m.\u001b[39mp[\u001b[38;5;124m'\u001b[39m\u001b[38;5;124mZ.d.Bot\u001b[39m\u001b[38;5;124m'\u001b[39m][\u001b[38;5;241m0\u001b[39m]) )\n\u001b[1;32m      2\u001b[0m \u001b[38;5;28mprint\u001b[39m(cfit\u001b[38;5;241m.\u001b[39mp[\u001b[38;5;124m'\u001b[39m\u001b[38;5;124mZ.1S.Bot\u001b[39m\u001b[38;5;124m'\u001b[39m][\u001b[38;5;241m0\u001b[39m], np\u001b[38;5;241m.\u001b[39mexp(b2d\u001b[38;5;241m.\u001b[39mp[\u001b[38;5;124m'\u001b[39m\u001b[38;5;124mZ.1S.Bot\u001b[39m\u001b[38;5;124m'\u001b[39m][\u001b[38;5;241m0\u001b[39m]) )\n\u001b[1;32m      4\u001b[0m \u001b[38;5;28mprint\u001b[39m(cfit\u001b[38;5;241m.\u001b[39mp[\u001b[38;5;124m'\u001b[39m\u001b[38;5;124mZ.d.Par\u001b[39m\u001b[38;5;124m'\u001b[39m][\u001b[38;5;241m0\u001b[39m], np\u001b[38;5;241m.\u001b[39mexp(b2d\u001b[38;5;241m.\u001b[39mp[\u001b[38;5;124m'\u001b[39m\u001b[38;5;124mZ.d.Par\u001b[39m\u001b[38;5;124m'\u001b[39m][\u001b[38;5;241m0\u001b[39m]) )\n",
      "File \u001b[0;32msrc/gvar/_bufferdict.pyx:512\u001b[0m, in \u001b[0;36mgvar._bufferdict.BufferDict.__getitem__\u001b[0;34m()\u001b[0m\n",
      "\u001b[0;31mKeyError\u001b[0m: 'undefined key: Z.d.Bot'"
     ]
    }
   ],
   "source": [
    "print(cfit.p['Z.d.Bot'][0], np.exp(b2d.p['Z.d.Bot'][0]) )\n",
    "print(cfit.p['Z.1S.Bot'][0], np.exp(b2d.p['Z.1S.Bot'][0]) )\n",
    "\n",
    "print(cfit.p['Z.d.Par'][0], np.exp(b2d.p['Z.d.Par'][0]) )\n",
    "print(cfit.p['Z.1S.Par'][0], np.exp(b2d.p['Z.1S.Par'][0]) )\n",
    "\n",
    "print(cfit.p['dE'][0], b2d.p['E'][0] )"
   ]
  },
  {
   "cell_type": "markdown",
   "metadata": {},
   "source": [
    "# add 3 pt functions"
   ]
  },
  {
   "cell_type": "code",
   "execution_count": 375,
   "metadata": {},
   "outputs": [],
   "source": [
    "from b2heavy.FnalHISQMetadata import params\n",
    "from b2heavy.TwoPointFunctions.utils import jkCorr\n",
    "\n",
    "mdata = params(ENSEMBLE)\n",
    "\n",
    "data = h5py.File(f'/Users/pietro/code/data_analysis/BtoD/Alex/Ensembles/FnalHISQ/a{mdata[\"naSpc\"]}/{mdata[\"hdf5File2\"]}')\n",
    "data = data['data']"
   ]
  },
  {
   "cell_type": "code",
   "execution_count": 376,
   "metadata": {},
   "outputs": [],
   "source": [
    "s_he = 'k' + mdata['kBStr']\n",
    "s_li = 'k' + mdata['kDStr']\n",
    "s_qq = 'm' + mdata['mlStr']\n",
    "\n",
    "data3 = {}\n",
    "for k in data.keys():\n",
    "    st = k.split('_')\n",
    "    if len(st)==12:\n",
    "        src,cur,snk,tt,kh,s1,s2,s3,s4,mq,kl,pmom = st\n",
    "\n",
    "        B_to_Dst  = kh==s_he and mq==s_qq  and kl==s_li\n",
    "        collinear = cur[-1]==snk[-1]\n",
    "        par       = collinear and cur[-1]=='1'\n",
    "\n",
    "        if B_to_Dst and collinear and pmom=='p300':\n",
    "            pol = 'Par' if par else 'Bot'\n",
    "            smr = '1S' if s2=='1S' else 'd'\n",
    "            data3[f'{src}->{cur}->{snk}.{tt}.{smr}.{pol}'] = jkCorr(data[k][:],bsize=BINSIZE[ENSEMBLE])"
   ]
  },
  {
   "cell_type": "code",
   "execution_count": 377,
   "metadata": {},
   "outputs": [
    {
     "name": "stdout",
     "output_type": "stream",
     "text": [
      "P5->A1->V1.T12.1S.Par\n",
      "P5->A1->V1.T12.d.Par\n",
      "P5->A1->V1.T13.1S.Par\n",
      "P5->A1->V1.T13.d.Par\n",
      "P5->A2->V2.T12.1S.Bot\n",
      "P5->A2->V2.T12.d.Bot\n",
      "P5->A2->V2.T13.1S.Bot\n",
      "P5->A2->V2.T13.d.Bot\n",
      "P5->A3->V3.T12.1S.Bot\n",
      "P5->A3->V3.T12.d.Bot\n",
      "P5->A3->V3.T13.1S.Bot\n",
      "P5->A3->V3.T13.d.Bot\n"
     ]
    }
   ],
   "source": [
    "for k in data3:\n",
    "    print(k)"
   ]
  },
  {
   "cell_type": "code",
   "execution_count": 355,
   "metadata": {},
   "outputs": [],
   "source": [
    "model = []\n",
    "for k in data3:\n",
    "    corr,tt,smr,pol = k.split('.')\n",
    "    src,cur,snk     = corr.split('->')\n",
    "\n",
    "    if corr.endswith('3'):\n",
    "        continue\n",
    "    \n",
    "    if corr.endswith('2'):\n",
    "        othertag = f'{src}->{cur[0]}3->{snk[0]}3.{tt}.{smr}.{pol}'\n",
    "\n",
    "    fcn = cf.Corr3(\n",
    "        datatag   = k,\n",
    "        T         = int(tt[1:]),\n",
    "        tmin      = 2,\n",
    "        dEa       = (f'dE.B'  ,f'dE.B.o'),\n",
    "        dEb       = (f'dE.Dst',f'dE.Dst.o'),\n",
    "        # a         = (f'Z.B.1S.{pol}',f'Z.B.1S.{pol}.o'),\n",
    "        a         = (f'Z.B.1S.Unpol',f'Z.B.1S.Unpol.o'),\n",
    "        b         = (f'Z.Dst.{smr}.{pol}',f'Z.Dst.{smr}.{pol}.o'),\n",
    "        sa        = (1,-1),\n",
    "        sb        = (1,-1),\n",
    "        # otherdata = othertag if pol=='Bot' else None,\n",
    "        Vnn='Vnn', Vno='Vno', Von='Von', Voo='Voo',\n",
    "    )\n",
    "\n",
    "    model.append(fcn)"
   ]
  },
  {
   "cell_type": "code",
   "execution_count": 358,
   "metadata": {},
   "outputs": [
    {
     "data": {
      "text/plain": [
       "BufferDict({'Z.Dst.1S.Bot': array([0.8(1.0), 1.0(1.0), 1.0(1.0)], dtype=object), 'Z.Dst.1S.Bot.o': array([1.0(1.0), 1.0(1.0), 1.0(1.0)], dtype=object), 'Z.Dst.1S.Par': array([1.1(1.0), 1.0(1.0), 1.0(1.0)], dtype=object), 'Z.Dst.1S.Par.o': array([1.0(1.0), 1.0(1.0), 1.0(1.0)], dtype=object), 'Z.Dst.d.Bot': array([0.02(50), 0.01(50), 0.01(50)], dtype=object), 'Z.Dst.d.Bot.o': array([0.01(50), 0.01(50), 0.01(50)], dtype=object), 'Z.Dst.d.Par': array([0.02(50), 0.01(50), 0.01(50)], dtype=object), 'Z.Dst.d.Par.o': array([0.01(50), 0.01(50), 0.01(50)], dtype=object), 'dE.Dst': array([1.20(50), 0.50(50), 0.50(50)], dtype=object), 'dE.Dst.o': array([0.50(50), 0.50(50), 0.50(50)], dtype=object)})"
      ]
     },
     "execution_count": 358,
     "metadata": {},
     "output_type": "execute_result"
    }
   ],
   "source": [
    "prior"
   ]
  },
  {
   "cell_type": "code",
   "execution_count": 378,
   "metadata": {},
   "outputs": [],
   "source": [
    "ampl = {\n",
    "    '1S': '1(1)',\n",
    "    'd' : '0.01(50)'\n",
    "}\n",
    "\n",
    "pr = {}\n",
    "for smr,pol in effa:\n",
    "    s1,s2 = smr.split('-')\n",
    "    if s1==s2:\n",
    "        aux = effa[smr,pol]\n",
    "\n",
    "        z0 = f'{aux.mean:.6f}({\"1.0\" if s1==\"1S\" else \"0.5\"})'\n",
    "\n",
    "        pr[f'Z.{MESON}.{s1}.{pol}']    = ['1(1)' if s1=='1S' else '0.01(50)' for n in range(NEXC)]\n",
    "        pr[f'Z.{MESON}.{s1}.{pol}'][0] = z0 \n",
    "        pr[f'Z.{MESON}.{s1}.{pol}.o']  = ['1(1)' if s1=='1S' else '0.01(50)' for n in range(NEXC)]\n",
    "\n",
    "pr[f'dE.{MESON}']   = ['0.5(5)' for n in range(NEXC)]; pr[f'dE.{MESON}'][0] = f'{effm.mean:.2f}(0.5)'\n",
    "pr[f'dE.{MESON}.o'] = ['0.5(5)' for n in range(NEXC)]\n",
    "\n",
    "logprior = gv.BufferDict()\n",
    "for k,p in pr.items():\n",
    "    logprior[f'log({k})'] = gv.log(gv.gvar(p))\n",
    "\n",
    "prior = gv.BufferDict()\n",
    "for k,p in pr.items():\n",
    "    prior[k] = gv.gvar(p)"
   ]
  },
  {
   "cell_type": "code",
   "execution_count": null,
   "metadata": {},
   "outputs": [],
   "source": []
  }
 ],
 "metadata": {
  "kernelspec": {
   "display_name": "Python 3.11.4 ('stat')",
   "language": "python",
   "name": "python3"
  },
  "language_info": {
   "codemirror_mode": {
    "name": "ipython",
    "version": 3
   },
   "file_extension": ".py",
   "mimetype": "text/x-python",
   "name": "python",
   "nbconvert_exporter": "python",
   "pygments_lexer": "ipython3",
   "version": "3.11.4"
  },
  "orig_nbformat": 4,
  "vscode": {
   "interpreter": {
    "hash": "550906e9926f0f588aff226d3abadfa0c6a614c1c5eae7bfa21377021c1cb7ed"
   }
  }
 },
 "nbformat": 4,
 "nbformat_minor": 2
}
