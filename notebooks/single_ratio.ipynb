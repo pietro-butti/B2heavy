{
 "cells": [
  {
   "cell_type": "code",
   "execution_count": 1,
   "metadata": {},
   "outputs": [],
   "source": [
    "import numpy             as np\n",
    "import gvar              as gv\n",
    "import matplotlib.pyplot as plt\n",
    "import lsqfit\n",
    "import itertools\n",
    "from tqdm import tqdm"
   ]
  },
  {
   "cell_type": "code",
   "execution_count": 2,
   "metadata": {},
   "outputs": [],
   "source": [
    "from b2heavy.FnalHISQMetadata import params as mData"
   ]
  },
  {
   "cell_type": "code",
   "execution_count": 3,
   "metadata": {},
   "outputs": [],
   "source": [
    "from b2heavy.ThreePointFunctions.types3pts  import Ratio, RatioIO, ratio_prerequisites\n",
    "from b2heavy.ThreePointFunctions.fitter3pts import RatioFitter, phys_energy_priors\n",
    "from b2heavy.ThreePointFunctions.utils      import read_config_fit, dump_fit_object"
   ]
  },
  {
   "cell_type": "code",
   "execution_count": 4,
   "metadata": {},
   "outputs": [],
   "source": [
    "DATA_DIR = '/Users/pietro/code/data_analysis/BtoD/Alex/'\n",
    "# DATA_DIR = '/Users/pietro/code/data_analysis/data/QCDNf2p1stag/CORRELATORS'\n",
    "# DATA_2PT = '/Users/pietro/code/data_analysis/data/QCDNf2p1stag/B2heavy/lattice24'\n",
    "DATA_2PT = '/Users/pietro/Desktop/lattice24/0.25/corr2_3'\n",
    "\n",
    "BINSIZE  = {\n",
    "    'MediumCoarse':13,\n",
    "    'Coarse-2':    16,\n",
    "    'Coarse-1':    11,\n",
    "    'Coarse-Phys': 19,\n",
    "    'Fine-1':      16,\n",
    "    'Fine-Phys':   16,\n",
    "    'SuperFine':   22\n",
    "}"
   ]
  },
  {
   "cell_type": "code",
   "execution_count": 13,
   "metadata": {},
   "outputs": [],
   "source": [
    "ENSEMBLE = 'Coarse-1'\n",
    "RATIO    = 'RA1'\n",
    "MOMENTUM = '100'\n",
    "\n",
    "SMSLIST  = ['1S','RW']\n",
    "# SMSLIST  = ['1S']\n",
    "\n",
    "if RATIO in ['RMINUS','RPLUS','QPLUS','XF']:\n",
    "    meson = 'D'\n",
    "elif RATIO in ['RA1','ZRA1','XFSTPAR','XV','R0','R1']:\n",
    "    meson = 'Dst'\n",
    "elif RATIO in ['RA1S','ZRA1S','XFSSTPAR','XVS','R0S','R1S']:\n",
    "    meson = 'Dsst'"
   ]
  },
  {
   "cell_type": "code",
   "execution_count": 14,
   "metadata": {},
   "outputs": [],
   "source": [
    "# Correlation matrix specifics\n",
    "DIAG   = False\n",
    "BLOCK  = False\n",
    "SCALE  = True\n",
    "SHRINK = True\n",
    "SVD    = 1E-12"
   ]
  },
  {
   "cell_type": "code",
   "execution_count": 15,
   "metadata": {},
   "outputs": [],
   "source": [
    "# Specifics of the analysis\n",
    "TMIN    = 2\n",
    "NSTATES = 2\n",
    "WPRIORS = True"
   ]
  },
  {
   "cell_type": "markdown",
   "metadata": {},
   "source": [
    "In the following we look for requisites for the ratio calculation"
   ]
  },
  {
   "cell_type": "code",
   "execution_count": 16,
   "metadata": {},
   "outputs": [],
   "source": [
    "requisites = ratio_prerequisites(\n",
    "    ens      = ENSEMBLE,\n",
    "    ratio    = RATIO,\n",
    "    mom      = MOMENTUM,\n",
    "    readfrom = DATA_2PT,\n",
    "    jk       = True\n",
    ")"
   ]
  },
  {
   "cell_type": "markdown",
   "metadata": {},
   "source": [
    "Here we initialize the master object that contains a ratio at given momentum for a given ensemble"
   ]
  },
  {
   "cell_type": "code",
   "execution_count": 17,
   "metadata": {},
   "outputs": [],
   "source": [
    "io = RatioIO(ENSEMBLE,RATIO,MOMENTUM,PathToDataDir=DATA_DIR)\n",
    "robj = RatioFitter(\n",
    "    io,\n",
    "    jkBin     = BINSIZE[ENSEMBLE],\n",
    "    smearing  = SMSLIST,\n",
    "    **requisites\n",
    ")"
   ]
  },
  {
   "cell_type": "code",
   "execution_count": 18,
   "metadata": {},
   "outputs": [],
   "source": [
    "trange = (TMIN, robj.Ta-TMIN)"
   ]
  },
  {
   "cell_type": "code",
   "execution_count": 19,
   "metadata": {},
   "outputs": [
    {
     "data": {
      "text/plain": [
       "{'diag': False, 'block': False, 'scale': True, 'shrink': True, 'cutsvd': 1e-12}"
      ]
     },
     "execution_count": 19,
     "metadata": {},
     "output_type": "execute_result"
    }
   ],
   "source": [
    "cov_specs = dict(\n",
    "    diag   = DIAG  ,\n",
    "    block  = BLOCK ,\n",
    "    scale  = SCALE ,\n",
    "    shrink = SHRINK,\n",
    "    cutsvd = 1E-12\n",
    ")\n",
    "\n",
    "cov_specs"
   ]
  },
  {
   "cell_type": "markdown",
   "metadata": {},
   "source": [
    "Here we compute fit priors"
   ]
  },
  {
   "cell_type": "code",
   "execution_count": 20,
   "metadata": {},
   "outputs": [],
   "source": [
    "fit,p = read_config_fit(\n",
    "    tag  = f'fit2pt_config_{ENSEMBLE}_Dst_100',\n",
    "    path = DATA_2PT\n",
    ")"
   ]
  },
  {
   "cell_type": "code",
   "execution_count": 22,
   "metadata": {},
   "outputs": [
    {
     "data": {
      "text/plain": [
       "{'ratio': [0.66(10)],\n",
       " 'A_1S': [0 ± 1.0, 0 ± 1.0],\n",
       " 'B_1S': [0 ± 1.0, 0 ± 1.0],\n",
       " 'A_RW': [0 ± 1.0, 0 ± 1.0],\n",
       " 'B_RW': [0 ± 1.0, 0 ± 1.0],\n",
       " 'dE_src': [1.1(1.0), -1.8(1.0)]}"
      ]
     },
     "execution_count": 22,
     "metadata": {},
     "output_type": "execute_result"
    }
   ],
   "source": [
    "dE_src = phys_energy_priors(ENSEMBLE,meson,MOMENTUM,NSTATES,readfrom=DATA_2PT,error=1.0)\n",
    "dE_snk = phys_energy_priors(ENSEMBLE,'B',MOMENTUM,NSTATES,readfrom=DATA_2PT,error=1.0)\n",
    "\n",
    "pr = robj.priors(NSTATES, dE_src=dE_src, dE_snk=dE_snk)\n",
    "pr"
   ]
  },
  {
   "cell_type": "markdown",
   "metadata": {},
   "source": [
    "Here we perform the fit"
   ]
  },
  {
   "cell_type": "code",
   "execution_count": 23,
   "metadata": {},
   "outputs": [
    {
     "name": "stdout",
     "output_type": "stream",
     "text": [
      "Intel MKL WARNING: Support of Intel(R) Streaming SIMD Extensions 4.2 (Intel(R) SSE4.2) enabled only processors has been deprecated. Intel oneAPI Math Kernel Library 2025.0 will require Intel(R) Advanced Vector Extensions (Intel(R) AVX) instructions.\n"
     ]
    }
   ],
   "source": [
    "fit = robj.fit(\n",
    "    Nstates = NSTATES,\n",
    "    trange  = trange,\n",
    "    priors  = pr,\n",
    "    verbose = False,\n",
    "    **cov_specs,\n",
    ")"
   ]
  },
  {
   "cell_type": "code",
   "execution_count": 24,
   "metadata": {},
   "outputs": [
    {
     "name": "stdout",
     "output_type": "stream",
     "text": [
      "# ---------- chi^2_exp analysis -------------\n",
      "# chi2_exp = 17.99999999999914 +/- 6.000000000001915 \n",
      "# p-value [eval] = 0.0\n",
      "# p-value [MC]   = 0.0\n",
      "# ---------- 2+2 fit in (2, 10) for mes: RA1 of ens: Coarse-1 for mom: 100 --------------\n",
      "Least Square Fit:\n",
      "  chi2/dof [dof] = 0.87 [18]    Q = 0.62    logGBF = 60.861\n",
      "\n",
      "Parameters:\n",
      "        ratio 0      0.634 (38)      [  0.66 (10) ]  \n",
      "         A_1S 0      -0.10 (63)      [    0 ± 1.0 ]  \n",
      "              1   -0.0006 (681)      [    0 ± 1.0 ]  \n",
      "         B_1S 0       0.46 (80)      [    0 ± 1.0 ]  \n",
      "              1     -0.030 (88)      [    0 ± 1.0 ]  \n",
      "         A_RW 0       0.33 (82)      [    0 ± 1.0 ]  \n",
      "              1       0.21 (12)      [    0 ± 1.0 ]  \n",
      "         B_RW 0      -0.19 (80)      [    0 ± 1.0 ]  \n",
      "              1       0.24 (16)      [    0 ± 1.0 ]  \n",
      "       dE_src 0       0.75 (47)      [  1.1 (1.0) ]  \n",
      "              1      -0.32 (47)      [ -1.8 (1.0) ]  *\n",
      "\n",
      "Settings:\n",
      "  svdcut/n = 0/0    tol = (1e-08,1e-10,1e-10*)    (itns/time = 31/0.5)\n",
      "  fitter = scipy_least_squares    method = trf\n",
      "\n",
      "# red chi2       = 12.88\n",
      "# aug chi2       = 15.62\n",
      "# chi2_exp       = 18.00\n",
      "# chi2/chi_exp   = 0.87\n",
      "# p-value (exp)  = 0.00\n",
      "# p-value (std)  = 0.12\n"
     ]
    }
   ],
   "source": [
    "res = robj.fit_result(\n",
    "    Nexc   = NSTATES,\n",
    "    trange = trange,\n",
    "    verbose = True,\n",
    "    priors = pr \n",
    ")"
   ]
  },
  {
   "cell_type": "code",
   "execution_count": 25,
   "metadata": {},
   "outputs": [
    {
     "name": "stderr",
     "output_type": "stream",
     "text": [
      "No artists with labels found to put in legend.  Note that artists whose label start with an underscore are ignored when legend() is called with no argument.\n"
     ]
    },
    {
     "data": {
      "image/png": "[encoded data removed]",
      "text/plain": [
       "<Figure size 600x600 with 1 Axes>"
      ]
     },
     "metadata": {},
     "output_type": "display_data"
    }
   ],
   "source": [
    "plt.rcParams['text.usetex'] = True\n",
    "plt.rcParams['font.size'] = 12\n",
    "\n",
    "# f, ax = plt.subplots(1,1,figsize=(8,4))\n",
    "f, ax = plt.subplots(1,1,figsize=(6,6))\n",
    "\n",
    "robj.plot_fit(ax,NSTATES,trange)\n",
    "\n",
    "f0 = pr['ratio'][0]\n",
    "ax.axhspan(ymin=f0.mean-f0.sdev,ymax=f0.mean+f0.sdev,alpha=0.1,color='gray')\n",
    "\n",
    "# ax.set_xlim(-0.5,18)\n",
    "ax.grid(alpha=0.2)\n",
    "ax.legend()\n",
    "ax.set_title(f'{ENSEMBLE}_{RATIO}_{MOMENTUM}')\n",
    "plt.tight_layout()\n",
    "# plt.savefig('/Users/pietro/Desktop/bad_ratio.pdf')"
   ]
  },
  {
   "cell_type": "markdown",
   "metadata": {},
   "source": [
    "# Model average for `Nstates` and trange"
   ]
  },
  {
   "cell_type": "code",
   "execution_count": 26,
   "metadata": {},
   "outputs": [],
   "source": [
    "nstates = [1,2]\n",
    "tmins   = [1,2,3,4,5,6,7,8,9]"
   ]
  },
  {
   "cell_type": "code",
   "execution_count": 27,
   "metadata": {},
   "outputs": [
    {
     "name": "stdout",
     "output_type": "stream",
     "text": [
      "Nstates=1,tmin=1\n",
      "# ---------- chi^2_exp analysis -------------\n",
      "# chi2_exp = 22.000000000001492 +/- 6.633249580712614 \n",
      "# p-value [eval] = 0.0\n",
      "# p-value [MC]   = 0.0\n",
      "Nstates=1,tmin=2\n",
      "# ---------- chi^2_exp analysis -------------\n",
      "# chi2_exp = 17.999999999996597 +/- 6.0000000000011084 \n",
      "# p-value [eval] = 0.0\n",
      "# p-value [MC]   = 0.0\n",
      "Nstates=1,tmin=3\n",
      "# ---------- chi^2_exp analysis -------------\n",
      "# chi2_exp = 14.000000000000863 +/- 5.291502622129453 \n",
      "# p-value [eval] = 0.0006\n",
      "# p-value [MC]   = 0.0007000000000000339\n",
      "Nstates=1,tmin=4\n",
      "# ---------- chi^2_exp analysis -------------\n",
      "# chi2_exp = 10.000000000000075 +/- 4.472135954999033 \n",
      "# p-value [eval] = 0.7239\n",
      "# p-value [MC]   = 0.7293000000000001\n",
      "Nstates=1,tmin=5\n",
      "# ---------- chi^2_exp analysis -------------\n",
      "# chi2_exp = 6.000000000000085 +/- 3.464101615137991 \n",
      "# p-value [eval] = 0.8598\n",
      "# p-value [MC]   = 0.8661\n",
      "Nstates=1,tmin=6\n",
      "# ---------- chi^2_exp analysis -------------\n",
      "# chi2_exp = 1.9999999999999991 +/- 2.0 \n",
      "# p-value [eval] = 0.9885\n",
      "# p-value [MC]   = 0.989\n",
      "Nstates=1,tmin=7\n",
      "# ---------- chi^2_exp analysis -------------\n",
      "# chi2_exp = 6.000000000000085 +/- 3.464101615137991 \n",
      "# p-value [eval] = 0.8631\n",
      "# p-value [MC]   = 0.866\n",
      "Nstates=1,tmin=8\n",
      "# ---------- chi^2_exp analysis -------------\n",
      "# chi2_exp = 10.000000000000075 +/- 4.472135954999033 \n",
      "# p-value [eval] = 0.7237\n",
      "# p-value [MC]   = 0.7279\n",
      "Nstates=1,tmin=9\n",
      "# ---------- chi^2_exp analysis -------------\n",
      "# chi2_exp = 14.000000000000863 +/- 5.291502622129453 \n",
      "# p-value [eval] = 0.0004\n",
      "# p-value [MC]   = 0.00029999999999996696\n",
      "Nstates=2,tmin=1\n",
      "# ---------- chi^2_exp analysis -------------\n",
      "# chi2_exp = 22.00000000000631 +/- 6.633249580713484 \n",
      "# p-value [eval] = 0.0\n",
      "# p-value [MC]   = 0.0\n",
      "Nstates=2,tmin=2\n",
      "# ---------- chi^2_exp analysis -------------\n",
      "# chi2_exp = 17.99999999999914 +/- 6.000000000001915 \n",
      "# p-value [eval] = 0.0\n",
      "# p-value [MC]   = 0.0\n",
      "Nstates=2,tmin=3\n",
      "# ---------- chi^2_exp analysis -------------\n",
      "# chi2_exp = 13.999999999998021 +/- 5.29150262212898 \n",
      "# p-value [eval] = 0.0001\n",
      "# p-value [MC]   = 0.0\n",
      "Nstates=2,tmin=4\n",
      "# ---------- chi^2_exp analysis -------------\n",
      "# chi2_exp = 9.999999999999433 +/- 4.472135954998471 \n",
      "# p-value [eval] = 0.5404\n",
      "# p-value [MC]   = 0.5358\n",
      "Nstates=2,tmin=5\n",
      "# ---------- chi^2_exp analysis -------------\n",
      "# chi2_exp = 5.999999999998653 +/- 3.46410161513773 \n",
      "# p-value [eval] = 0.9036\n",
      "# p-value [MC]   = 0.905\n",
      "Nstates=2,tmin=6\n",
      "# ---------- chi^2_exp analysis -------------\n",
      "# chi2_exp = 2.000000000000063 +/- 2.0 \n",
      "# p-value [eval] = 0.9999\n",
      "# p-value [MC]   = 0.9998\n",
      "Nstates=2,tmin=7\n",
      "# ---------- chi^2_exp analysis -------------\n",
      "# chi2_exp = 5.999999999998653 +/- 3.46410161513773 \n",
      "# p-value [eval] = 0.9091\n",
      "# p-value [MC]   = 0.9001\n",
      "Nstates=2,tmin=8\n",
      "# ---------- chi^2_exp analysis -------------\n",
      "# chi2_exp = 9.999999999999433 +/- 4.472135954998471 \n",
      "# p-value [eval] = 0.5445\n",
      "# p-value [MC]   = 0.5319\n",
      "Nstates=2,tmin=9\n",
      "# ---------- chi^2_exp analysis -------------\n",
      "# chi2_exp = 13.999999999998021 +/- 5.29150262212898 \n",
      "# p-value [eval] = 0.0\n",
      "# p-value [MC]   = 0.0\n"
     ]
    }
   ],
   "source": [
    "TIC = {}\n",
    "pval = {}\n",
    "for Nstates in nstates:\n",
    "    dE_src = phys_energy_priors(ENSEMBLE,'Dst',MOMENTUM,Nstates,readfrom=DATA_2PT)\n",
    "    dE_snk = phys_energy_priors(ENSEMBLE,'B'  ,MOMENTUM,Nstates,readfrom=DATA_2PT)\n",
    "    x,ydata = robj.format(trange,flatten=True)\n",
    "    pr = robj.priors(Nstates, dE_src=dE_src, dE_snk=dE_snk)\n",
    "\n",
    "    for tmin in tmins:\n",
    "        print(f'{Nstates=},{tmin=}')\n",
    "\n",
    "        trange = (tmin, robj.Ta-tmin)\n",
    "\n",
    "        fit = robj.fit(\n",
    "            Nstates = Nstates,\n",
    "            trange  = trange,\n",
    "            priors  = pr,\n",
    "            verbose = False,\n",
    "            **cov_specs\n",
    "        )\n",
    "\n",
    "        res = robj.fit_result(\n",
    "            Nexc   = Nstates,\n",
    "            trange = trange,\n",
    "            priors = pr,\n",
    "            verbose = False\n",
    "        )\n",
    "        TIC[Nstates,trange] = float((res['chi2aug'] - 2*res['chiexp']))\n",
    "        pval[Nstates,trange] = res['pstd']"
   ]
  },
  {
   "cell_type": "code",
   "execution_count": 28,
   "metadata": {},
   "outputs": [
    {
     "data": {
      "text/plain": [
       "{(1, (1, 11)): -23.21386865329754,\n",
       " (1, (2, 10)): -17.116016962698954,\n",
       " (1, (3, 9)): -16.499262516016145,\n",
       " (1, (4, 8)): -13.006549429551775,\n",
       " (1, (5, 7)): -9.454691963414628,\n",
       " (1, (6, 6)): -3.9784786990005974,\n",
       " (1, (7, 5)): -9.454691963414628,\n",
       " (1, (8, 4)): -13.006549429551775,\n",
       " (1, (9, 3)): -16.499262516016145,\n",
       " (2, (1, 11)): -24.89058183704369,\n",
       " (2, (2, 10)): -20.37524975952514,\n",
       " (2, (3, 9)): -18.763290944160104,\n",
       " (2, (4, 8)): -15.013315930780943,\n",
       " (2, (5, 7)): -9.878303608437005,\n",
       " (2, (6, 6)): -3.999953307551468,\n",
       " (2, (7, 5)): -9.878303608437005,\n",
       " (2, (8, 4)): -15.013315930780943,\n",
       " (2, (9, 3)): -18.763290944160104}"
      ]
     },
     "execution_count": 28,
     "metadata": {},
     "output_type": "execute_result"
    }
   ],
   "source": [
    "TIC"
   ]
  },
  {
   "cell_type": "code",
   "execution_count": 29,
   "metadata": {},
   "outputs": [
    {
     "name": "stdout",
     "output_type": "stream",
     "text": [
      "0.647(52) 0.02670979321072935\n"
     ]
    }
   ],
   "source": [
    "norm = np.exp(-np.array(list(TIC.values()))/2).sum()\n",
    "\n",
    "vals = np.array([f.p['ratio'][0] for k,f in robj.fits.items()])\n",
    "weig = np.array([np.exp(-TIC[k]/2)/norm for k in robj.fits]   )\n",
    "\n",
    "stat = sum(vals * weig)\n",
    "syst = np.sqrt(gv.mean(sum(weig*vals*vals) - (sum(weig*vals))**2))\n",
    "\n",
    "\n",
    "print(stat,syst)"
   ]
  },
  {
   "cell_type": "markdown",
   "metadata": {},
   "source": [
    "Print the results"
   ]
  },
  {
   "cell_type": "code",
   "execution_count": 30,
   "metadata": {},
   "outputs": [
    {
     "data": {
      "image/png": "[encoded data removed]",
      "text/plain": [
       "<Figure size 450x600 with 3 Axes>"
      ]
     },
     "metadata": {},
     "output_type": "display_data"
    }
   ],
   "source": [
    "MINUS = -1.\n",
    "\n",
    "\n",
    "f, ax = plt.subplots(2,1,figsize=(4.5,6),gridspec_kw={'height_ratios': [3, 1]},sharex=True)\n",
    "\n",
    "# ts      = np.array([1,2,3,4])\n",
    "ts      = np.array(tmins)\n",
    "tranges = [((t,robj.Ta-t)) for t in ts]\n",
    "\n",
    "ax2 = ax[1].twinx()\n",
    "\n",
    "# for i,n in enumerate([1,2,3]):\n",
    "for i,n in enumerate(nstates):\n",
    "    f0 = [MINUS*robj.fits[n,tr].p['ratio'][0] for tr in tranges]\n",
    "    off = -0.05*i + 0.05\n",
    "    ax[0].errorbar(ts+off,gv.mean(f0),gv.sdev(f0),fmt='o', color=f'C{i}', capsize=2.5, label=f'({n+1}+{n+1})')\n",
    "\n",
    "    tic = [np.exp(-TIC[n,tr]/2)/norm for tr in tranges]\n",
    "    ax[1].plot(ts,tic,alpha=0.1,color=f'C{i}')\n",
    "    # ax[1].scatter(ts,tic,marker='o',color=f'C{i}')\n",
    "\n",
    "    pv = [pval[n,tr] for tr in tranges]\n",
    "    ax2.scatter(ts,pv,color=f'C{i}',marker='.',label='p')\n",
    "\n",
    "\n",
    "ax[0].axhspan(ymin=MINUS*stat.mean-stat.sdev,ymax=MINUS*stat.mean+stat.sdev,color='gray',alpha=0.2,label='model average')\n",
    "err = np.sqrt(stat.sdev**2+syst**2)\n",
    "ax[0].axhline(MINUS*stat.mean-err,color='gray',alpha=0.2,linestyle=':')\n",
    "ax[0].axhline(MINUS*stat.mean+err,color='gray',alpha=0.2,linestyle=':')\n",
    "\n",
    "ax[0].grid(alpha=0.2)\n",
    "ax[0].legend(loc='lower right')\n",
    "# ax[0].legend(loc='upper left')\n",
    "# ax[0].legend(loc='lower left')\n",
    "ax[0].set_ylabel(r'$F_0$')\n",
    "\n",
    "ax[1].grid(alpha=0.2)\n",
    "# ax[1].set_ylim(-0.1,1.1)\n",
    "ax[1].set_ylabel(r'TIC weight')\n",
    "ax[1].set_xlabel(r'$\\frac{t_{min}}{a}$')\n",
    "\n",
    "ax2.set_ylabel(r'$p$-value')\n",
    "\n",
    "ax[0].set_title(f'{ENSEMBLE}_{RATIO}')\n",
    "\n",
    "plt.tight_layout()\n",
    "plt.savefig(f'/Users/pietro/Desktop/model_average_{ENSEMBLE}_{RATIO}_{MOMENTUM}.pdf')"
   ]
  },
  {
   "cell_type": "code",
   "execution_count": null,
   "metadata": {},
   "outputs": [],
   "source": []
  }
 ],
 "metadata": {
  "kernelspec": {
   "display_name": "Python 3.11.4 ('stat')",
   "language": "python",
   "name": "python3"
  },
  "language_info": {
   "codemirror_mode": {
    "name": "ipython",
    "version": 3
   },
   "file_extension": ".py",
   "mimetype": "text/x-python",
   "name": "python",
   "nbconvert_exporter": "python",
   "pygments_lexer": "ipython3",
   "version": "3.11.4"
  },
  "orig_nbformat": 4,
  "vscode": {
   "interpreter": {
    "hash": "550906e9926f0f588aff226d3abadfa0c6a614c1c5eae7bfa21377021c1cb7ed"
   }
  }
 },
 "nbformat": 4,
 "nbformat_minor": 2
}
