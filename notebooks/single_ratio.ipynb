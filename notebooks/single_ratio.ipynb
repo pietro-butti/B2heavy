{
 "cells": [
  {
   "cell_type": "code",
   "execution_count": 1,
   "metadata": {},
   "outputs": [],
   "source": [
    "import numpy             as np\n",
    "import gvar              as gv\n",
    "import matplotlib.pyplot as plt\n",
    "import lsqfit\n",
    "import itertools\n",
    "from tqdm import tqdm"
   ]
  },
  {
   "cell_type": "code",
   "execution_count": 2,
   "metadata": {},
   "outputs": [],
   "source": [
    "from b2heavy.FnalHISQMetadata import params as mData"
   ]
  },
  {
   "cell_type": "code",
   "execution_count": 3,
   "metadata": {},
   "outputs": [],
   "source": [
    "from b2heavy.ThreePointFunctions.types3pts  import Ratio, RatioIO, ratio_prerequisites, find_eps_cut\n",
    "from b2heavy.ThreePointFunctions.fitter3pts import RatioFitter, phys_energy_priors\n",
    "from b2heavy.ThreePointFunctions.utils      import read_config_fit, dump_fit_object"
   ]
  },
  {
   "cell_type": "code",
   "execution_count": 4,
   "metadata": {},
   "outputs": [],
   "source": [
    "DATA_DIR = '/Users/pietro/code/data_analysis/BtoD/Alex/'\n",
    "DATA_2PT = '/Users/pietro/code/data_analysis/data/QCDNf2p1stag/B2heavy/report'\n",
    "\n",
    "BINSIZE  = {\n",
    "    'MediumCoarse':13,\n",
    "    'Coarse-2':    16,\n",
    "    'Coarse-1':    11,\n",
    "    'Coarse-Phys': 19,\n",
    "    'Fine-1':      16,\n",
    "    'Fine-Phys':   16,\n",
    "    'SuperFine':   22\n",
    "}"
   ]
  },
  {
   "cell_type": "code",
   "execution_count": 5,
   "metadata": {},
   "outputs": [],
   "source": [
    "ENSEMBLE = 'Coarse-1'\n",
    "RATIO    = 'RA1'\n",
    "MOMENTUM = '100'\n",
    "\n",
    "SMSLIST  = ['1S','RW']"
   ]
  },
  {
   "cell_type": "code",
   "execution_count": 6,
   "metadata": {},
   "outputs": [],
   "source": [
    "# Correlation matrix specifics\n",
    "DIAG   = False\n",
    "BLOCK  = False\n",
    "SCALE  = True\n",
    "SHRINK = True"
   ]
  },
  {
   "cell_type": "code",
   "execution_count": 7,
   "metadata": {},
   "outputs": [],
   "source": [
    "# Specifics of the analysis\n",
    "TMIN    = 2\n",
    "NSTATES = 1\n",
    "WPRIORS = True\n",
    "JKFIT   = False"
   ]
  },
  {
   "cell_type": "markdown",
   "metadata": {},
   "source": [
    "In the following we look for requisites for the ratio calculation"
   ]
  },
  {
   "cell_type": "code",
   "execution_count": 8,
   "metadata": {},
   "outputs": [
    {
     "data": {
      "text/plain": [
       "{'E0': 1.099096240996636,\n",
       " 'm0': 1.0806205264210942,\n",
       " 'Z0': {'1S': 2.2140008675524436, 'd': 0.20463708845828885},\n",
       " 'Zpar': None,\n",
       " 'Zbot': {'1S': 2.0953049517063236, 'd': 0.2084797387999871},\n",
       " 'wrecoil': 1.0171900293589244}"
      ]
     },
     "execution_count": 8,
     "metadata": {},
     "output_type": "execute_result"
    }
   ],
   "source": [
    "requisites = ratio_prerequisites(\n",
    "    ens      = ENSEMBLE,\n",
    "    ratio    = RATIO,\n",
    "    mom      = MOMENTUM,\n",
    "    readfrom = DATA_2PT,\n",
    "    jk       = JKFIT\n",
    ")\n",
    "\n",
    "requisites"
   ]
  },
  {
   "cell_type": "markdown",
   "metadata": {},
   "source": [
    "Here we initialize the master object that contains a ratio at given momentum for a given ensemble"
   ]
  },
  {
   "cell_type": "code",
   "execution_count": 9,
   "metadata": {},
   "outputs": [],
   "source": [
    "io = RatioIO(ENSEMBLE,RATIO,MOMENTUM,PathToDataDir=DATA_DIR)\n",
    "robj = RatioFitter(\n",
    "    io,\n",
    "    jkBin     = BINSIZE[ENSEMBLE],\n",
    "    smearing  = SMSLIST,\n",
    "    readfrom  = DATA_2PT,\n",
    "    **requisites\n",
    ")"
   ]
  },
  {
   "cell_type": "code",
   "execution_count": null,
   "metadata": {},
   "outputs": [],
   "source": []
  },
  {
   "cell_type": "code",
   "execution_count": 10,
   "metadata": {},
   "outputs": [],
   "source": [
    "trange = (TMIN, robj.Ta-TMIN-1)"
   ]
  },
  {
   "cell_type": "code",
   "execution_count": 11,
   "metadata": {},
   "outputs": [
    {
     "data": {
      "text/plain": [
       "(2, 9)"
      ]
     },
     "execution_count": 11,
     "metadata": {},
     "output_type": "execute_result"
    }
   ],
   "source": [
    "trange"
   ]
  },
  {
   "cell_type": "markdown",
   "metadata": {},
   "source": [
    "Here we elaborate the optimal $\\epsilon$ cut for correlation matrix"
   ]
  },
  {
   "cell_type": "code",
   "execution_count": 12,
   "metadata": {},
   "outputs": [
    {
     "data": {
      "text/plain": [
       "{'diag': False, 'block': False, 'scale': True, 'shrink': True, 'cutsvd': 1e-12}"
      ]
     },
     "execution_count": 12,
     "metadata": {},
     "output_type": "execute_result"
    }
   ],
   "source": [
    "cov_specs = dict(\n",
    "    diag   = DIAG  ,\n",
    "    block  = BLOCK ,\n",
    "    scale  = SCALE ,\n",
    "    shrink = SHRINK,\n",
    "    cutsvd = find_eps_cut(robj,trange)\n",
    ")\n",
    "\n",
    "cov_specs"
   ]
  },
  {
   "cell_type": "markdown",
   "metadata": {},
   "source": [
    "Here we compute fit priors"
   ]
  },
  {
   "cell_type": "code",
   "execution_count": 13,
   "metadata": {},
   "outputs": [
    {
     "data": {
      "text/plain": [
       "{'ratio': [0.00004(10000)],\n",
       " 'dE_src': [-1.4(1.0)],\n",
       " 'dE_snk': [-0.8(1.0)],\n",
       " 'A_1S': [0 ± 1.0],\n",
       " 'B_1S': [0 ± 1.0],\n",
       " 'A_RW': [0 ± 1.0],\n",
       " 'B_RW': [0 ± 1.0]}"
      ]
     },
     "execution_count": 13,
     "metadata": {},
     "output_type": "execute_result"
    }
   ],
   "source": [
    "dE_src = phys_energy_priors(ENSEMBLE,'Dst',MOMENTUM,NSTATES,readfrom=DATA_2PT)\n",
    "dE_snk = phys_energy_priors(ENSEMBLE,'B'  ,MOMENTUM,NSTATES,readfrom=DATA_2PT)\n",
    "\n",
    "x,ydata = robj.format(trange,flatten=True)\n",
    "f_0    = gv.gvar(np.mean(ydata).mean,0.1)\n",
    "# f_0    = gv.gvar(np.mean(ydata).mean,np.mean(ydata).sdev*3.)\n",
    "\n",
    "pr = robj.priors(NSTATES, K=f_0, dE_src=dE_src, dE_snk=dE_snk)\n",
    "\n",
    "pr"
   ]
  },
  {
   "cell_type": "markdown",
   "metadata": {},
   "source": [
    "Here we perform the fit"
   ]
  },
  {
   "cell_type": "code",
   "execution_count": 14,
   "metadata": {},
   "outputs": [
    {
     "name": "stdout",
     "output_type": "stream",
     "text": [
      "Intel MKL WARNING: Support of Intel(R) Streaming SIMD Extensions 4.2 (Intel(R) SSE4.2) enabled only processors has been deprecated. Intel oneAPI Math Kernel Library 2025.0 will require Intel(R) Advanced Vector Extensions (Intel(R) AVX) instructions.\n",
      "# ---------- 1+1 fit in (2, 9) for ratio: ZRA1 of ens: Coarse-1 for mom: 000 --------------\n",
      "Least Square Fit:\n",
      "  chi2/dof [dof] = 0.19 [16]    Q = 1    logGBF = 51.297\n",
      "\n",
      "Parameters:\n",
      "        ratio 0   -0.823 (26)     [ -0.84 (10) ]  \n",
      "       dE_src 0    -1.09 (88)     [ -1.3 (1.0) ]  \n",
      "       dE_snk 0    -1.31 (91)     [ -1.1 (1.0) ]  \n",
      "         A_1S 0    0.026 (36)     [    0 ± 1.0 ]  \n",
      "         B_1S 0    0.067 (72)     [    0 ± 1.0 ]  \n",
      "         A_RW 0   -0.021 (47)     [    0 ± 1.0 ]  \n",
      "         B_RW 0     0.12 (11)     [    0 ± 1.0 ]  \n",
      "\n",
      "Settings:\n",
      "  svdcut/n = 0/0    tol = (1e-08,1e-10,1e-10*)    (itns/time = 14/1.2)\n",
      "  fitter = scipy_least_squares    method = trf\n",
      "\n",
      "# red chi2      = 3.06\n",
      "# chi2_exp      = 13.75\n",
      "# chi2/chi_exp  = 0.22\n",
      "# p-value       = 1.00\n"
     ]
    }
   ],
   "source": [
    "fit = robj.fit(\n",
    "    Nstates = NSTATES,\n",
    "    trange  = trange,\n",
    "    priors  = pr,\n",
    "    verbose = False,\n",
    "    **cov_specs,\n",
    ")\n",
    "\n",
    "res = robj.fit_result(\n",
    "    Nexc   = NSTATES,\n",
    "    trange = trange,\n",
    "    verbose = True,\n",
    "    priors = pr \n",
    ")"
   ]
  },
  {
   "cell_type": "code",
   "execution_count": 15,
   "metadata": {},
   "outputs": [
    {
     "name": "stderr",
     "output_type": "stream",
     "text": [
      "No artists with labels found to put in legend.  Note that artists whose label start with an underscore are ignored when legend() is called with no argument.\n"
     ]
    },
    {
     "data": {
      "image/png": "[encoded data removed]",
      "text/plain": [
       "<Figure size 600x600 with 1 Axes>"
      ]
     },
     "metadata": {},
     "output_type": "display_data"
    }
   ],
   "source": [
    "plt.rcParams['text.usetex'] = True\n",
    "plt.rcParams['font.size'] = 12\n",
    "\n",
    "# f, ax = plt.subplots(1,1,figsize=(8,4))\n",
    "f, ax = plt.subplots(1,1,figsize=(6,6))\n",
    "\n",
    "robj.plot_fit(ax,NSTATES,trange)\n",
    "\n",
    "f0 = pr['ratio'][0]\n",
    "ax.axhspan(ymin=f0.mean-f0.sdev,ymax=f0.mean+f0.sdev,alpha=0.1,color='gray')\n",
    "\n",
    "# ax.set_xlim(-0.5,18)\n",
    "ax.grid(alpha=0.2)\n",
    "ax.legend()\n",
    "ax.set_title(f'{ENSEMBLE}_{RATIO}_{MOMENTUM}')\n",
    "plt.tight_layout()\n",
    "# plt.savefig('/Users/pietro/Desktop/bad_ratio.pdf')"
   ]
  },
  {
   "cell_type": "markdown",
   "metadata": {},
   "source": [
    "# Model average for `Nstates` and trange"
   ]
  },
  {
   "cell_type": "code",
   "execution_count": 17,
   "metadata": {},
   "outputs": [
    {
     "name": "stdout",
     "output_type": "stream",
     "text": [
      "Nstates=1,tmin=1\n",
      "Nstates=1,tmin=2\n",
      "Nstates=1,tmin=3\n",
      "Nstates=1,tmin=4\n",
      "Nstates=1,tmin=5\n",
      "Nstates=2,tmin=1\n",
      "Nstates=2,tmin=2\n",
      "Nstates=2,tmin=3\n",
      "Nstates=2,tmin=4\n",
      "Nstates=2,tmin=5\n",
      "Nstates=3,tmin=1\n",
      "Nstates=3,tmin=2\n",
      "Nstates=3,tmin=3\n",
      "Nstates=3,tmin=4\n",
      "Nstates=3,tmin=5\n"
     ]
    }
   ],
   "source": [
    "TIC = {}\n",
    "for Nstates in [1,2,3]:\n",
    "    dE_src = phys_energy_priors(ENSEMBLE,'Dst',MOMENTUM,Nstates,readfrom=DATA_2PT)\n",
    "    dE_snk = phys_energy_priors(ENSEMBLE,'B'  ,MOMENTUM,Nstates,readfrom=DATA_2PT)\n",
    "    x,ydata = robj.format(trange,flatten=True)\n",
    "    f_0    = gv.gvar(np.mean(ydata).mean,0.05)\n",
    "    pr = robj.priors(Nstates, K=f_0, dE_src=dE_src, dE_snk=dE_snk)\n",
    "\n",
    "    for tmin in [1,2,3,4,5]:\n",
    "        print(f'{Nstates=},{tmin=}')\n",
    "\n",
    "        trange = (tmin, robj.Ta-tmin-1)\n",
    "\n",
    "        fit = robj.fit(\n",
    "            Nstates = Nstates,\n",
    "            trange  = trange,\n",
    "            priors  = pr,\n",
    "            verbose = False,\n",
    "            **cov_specs\n",
    "        )\n",
    "\n",
    "        res = robj.fit_result(\n",
    "            Nexc   = Nstates,\n",
    "            trange = trange,\n",
    "            priors = pr,\n",
    "            verbose = False\n",
    "        )\n",
    "        TIC[Nstates,trange] = float((res['chi2'] - 2*res['chiexp']))"
   ]
  },
  {
   "cell_type": "code",
   "execution_count": 18,
   "metadata": {},
   "outputs": [
    {
     "name": "stdout",
     "output_type": "stream",
     "text": [
      "-0.845(27) 0.008827345704534967\n"
     ]
    }
   ],
   "source": [
    "norm = np.exp(-np.array(list(TIC.values()))/2).sum()\n",
    "\n",
    "vals = np.array([f.p['ratio'][0] for k,f in robj.fits.items()])\n",
    "weig = np.array([np.exp(-TIC[k]/2)/norm for k in robj.fits]   )\n",
    "\n",
    "stat = sum(vals * weig)\n",
    "syst = np.sqrt(gv.mean(sum(weig*vals*vals) - (sum(weig*vals))**2))\n",
    "\n",
    "\n",
    "print(stat,syst)"
   ]
  },
  {
   "cell_type": "markdown",
   "metadata": {},
   "source": [
    "Print the results"
   ]
  },
  {
   "cell_type": "code",
   "execution_count": 19,
   "metadata": {},
   "outputs": [
    {
     "data": {
      "image/png": "[encoded data removed]",
      "text/plain": [
       "<Figure size 400x400 with 2 Axes>"
      ]
     },
     "metadata": {},
     "output_type": "display_data"
    }
   ],
   "source": [
    "f, ax = plt.subplots(2,1,figsize=(4,4),gridspec_kw={'height_ratios': [3, 1]},sharex=True)\n",
    "\n",
    "ts      = np.array([1,2,3,4,5])\n",
    "tranges = [((t,robj.Ta-t-1)) for t in ts]\n",
    "\n",
    "for i,n in enumerate([1,2,3]):\n",
    "    f0 = [robj.fits[n,tr].p['ratio'][0] for tr in tranges]\n",
    "    off = -0.05*i + 0.05\n",
    "    ax[0].errorbar(ts+off,gv.mean(f0),gv.sdev(f0),fmt='o', color=f'C{i}', capsize=2.5, label=f'({n+1}+{n+1})')\n",
    "\n",
    "    tic = [np.exp(-TIC[n,tr]/2)/norm for tr in tranges]\n",
    "    ax[1].plot(ts,tic,alpha=0.2,color=f'C{i}')\n",
    "    ax[1].scatter(ts,tic,marker='o',color=f'C{i}')\n",
    "\n",
    "ax[0].axhspan(ymin=stat.mean-stat.sdev,ymax=stat.mean+stat.sdev,color='gray',alpha=0.2,label='model average')\n",
    "ax[0].axhspan(ymin=stat.mean-syst,ymax=stat.mean+syst,color='gray',alpha=0.2)\n",
    "\n",
    "ax[0].grid(alpha=0.2)\n",
    "ax[0].legend(loc='lower right')\n",
    "ax[0].set_ylabel(r'$F_0$')\n",
    "\n",
    "ax[1].grid(alpha=0.2)\n",
    "# ax[1].set_ylim(-0.1,1.1)\n",
    "ax[1].set_ylabel(r'TIC weight')\n",
    "ax[1].set_xlabel(r'$\\frac{t_{min}}{a}$')\n",
    "\n",
    "ax[0].set_title(f'{ENSEMBLE}_{RATIO}')\n",
    "plt.savefig(f'/Users/pietro/Desktop/model_average_{ENSEMBLE}_{RATIO}_{MOMENTUM}.pdf')"
   ]
  },
  {
   "cell_type": "code",
   "execution_count": null,
   "metadata": {},
   "outputs": [],
   "source": []
  }
 ],
 "metadata": {
  "kernelspec": {
   "display_name": "Python 3.11.4 ('stat')",
   "language": "python",
   "name": "python3"
  },
  "language_info": {
   "codemirror_mode": {
    "name": "ipython",
    "version": 3
   },
   "file_extension": ".py",
   "mimetype": "text/x-python",
   "name": "python",
   "nbconvert_exporter": "python",
   "pygments_lexer": "ipython3",
   "version": "3.11.4"
  },
  "orig_nbformat": 4,
  "vscode": {
   "interpreter": {
    "hash": "550906e9926f0f588aff226d3abadfa0c6a614c1c5eae7bfa21377021c1cb7ed"
   }
  }
 },
 "nbformat": 4,
 "nbformat_minor": 2
}
