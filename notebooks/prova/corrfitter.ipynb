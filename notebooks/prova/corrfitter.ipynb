{
 "cells": [
  {
   "cell_type": "code",
   "execution_count": 21,
   "metadata": {},
   "outputs": [],
   "source": [
    "import numpy             as np\n",
    "import gvar              as gv\n",
    "import matplotlib.pyplot as plt\n",
    "import lsqfit\n",
    "import itertools\n",
    "from tqdm import tqdm\n",
    "import copy\n",
    "\n",
    "import corrfitter as cf"
   ]
  },
  {
   "cell_type": "code",
   "execution_count": 22,
   "metadata": {},
   "outputs": [],
   "source": [
    "from b2heavy.FnalHISQMetadata import params as mData"
   ]
  },
  {
   "cell_type": "code",
   "execution_count": 23,
   "metadata": {},
   "outputs": [],
   "source": [
    "from b2heavy.ThreePointFunctions.types3pts  import Ratio, RatioIO, ratio_prerequisites\n",
    "from b2heavy.ThreePointFunctions.fitter3pts import RatioFitter, phys_energy_priors\n",
    "from b2heavy.ThreePointFunctions.utils      import read_config_fit, dump_fit_object"
   ]
  },
  {
   "cell_type": "code",
   "execution_count": 24,
   "metadata": {},
   "outputs": [],
   "source": [
    "from b2heavy.TwoPointFunctions.utils     import correlation_diagnostics\n",
    "from b2heavy.TwoPointFunctions.types2pts import CorrelatorIO, plot_effective_coeffs\n",
    "from b2heavy.TwoPointFunctions.fitter    import StagFitter"
   ]
  },
  {
   "cell_type": "code",
   "execution_count": 25,
   "metadata": {},
   "outputs": [],
   "source": [
    "def tmax(y,errmax=0.3):\n",
    "    for i,el in enumerate(y):\n",
    "        if abs(gv.sdev(el)/gv.mean(el))>errmax:\n",
    "            return i\n",
    "    return len(y)"
   ]
  },
  {
   "cell_type": "code",
   "execution_count": 51,
   "metadata": {},
   "outputs": [],
   "source": [
    "ENSEMBLE = 'Coarse-1'\n",
    "MESON    = 'Dst'\n",
    "MOMENTUM = '300'\n",
    "\n",
    "DATA_DIR = '/Users/pietro/code/data_analysis/BtoD/Alex/'\n",
    "DATA_2PT = '/Users/pietro/code/data_analysis/data/QCDNf2p1stag/B2heavy/lattice24'\n",
    "\n",
    "TRANGE_EFF = (10,18) \n",
    "\n",
    "BINSIZE  = {\n",
    "    'MediumCoarse':13,\n",
    "    'Coarse-2':    16,\n",
    "    'Coarse-1':    11,\n",
    "    'Coarse-Phys': 19,\n",
    "    'Fine-1':      16,\n",
    "    'Fine-Phys':   16,\n",
    "    'SuperFine':   22\n",
    "}\n",
    "\n",
    "NSTATES = 3"
   ]
  },
  {
   "cell_type": "code",
   "execution_count": 45,
   "metadata": {},
   "outputs": [],
   "source": [
    "io = CorrelatorIO(ENSEMBLE,MESON,MOMENTUM,PathToDataDir=DATA_DIR)\n",
    "stag = StagFitter(io, jkBin=BINSIZE[ENSEMBLE], smearing=['1S-1S','d-d','d-1S'])"
   ]
  },
  {
   "cell_type": "markdown",
   "metadata": {},
   "source": [
    "# Second try (better but still crap)"
   ]
  },
  {
   "cell_type": "code",
   "execution_count": 28,
   "metadata": {},
   "outputs": [],
   "source": [
    "xdata,ydata = stag.format(scale=True,shrink=True)\n",
    "\n",
    "models = []\n",
    "for smr,pol in ydata:\n",
    "    if smr=='d-1S':\n",
    "        continue\n",
    "    sm1,sm2 = smr.split('-')\n",
    "    fcn = cf.Corr2(\n",
    "        datatag = (smr,pol),\n",
    "        tp      = stag.Nt,\n",
    "        s       = (1.,-1.),\n",
    "        tdata   = xdata,\n",
    "        tmin    = 15,\n",
    "        tmax    = tmax(ydata[smr,pol]),\n",
    "        dE      = ('dE','dE_o'),\n",
    "        a       = (f'Z_{sm1}_{pol}',f'Z_{sm1}_{pol}_o'),\n",
    "        b       = (f'Z_{sm2}_{pol}',f'Z_{sm2}_{pol}_o')\n",
    "    )\n",
    "\n",
    "    models.append(fcn)"
   ]
  },
  {
   "cell_type": "code",
   "execution_count": 29,
   "metadata": {},
   "outputs": [
    {
     "name": "stderr",
     "output_type": "stream",
     "text": [
      "/Users/pietro/code/software/B2heavy/b2heavy/TwoPointFunctions/types2pts.py:38: RuntimeWarning: invalid value encountered in sqrt\n",
      "  m = np.arccosh( (y[(it+1)%len(y)]+y[(it-1)%len(y)])/y[it]/2 )\n",
      "/Users/pietro/code/software/B2heavy/b2heavy/TwoPointFunctions/types2pts.py:38: RuntimeWarning: invalid value encountered in log\n",
      "  m = np.arccosh( (y[(it+1)%len(y)]+y[(it-1)%len(y)])/y[it]/2 )\n",
      "/Users/pietro/code/software/B2heavy/b2heavy/TwoPointFunctions/types2pts.py:38: RuntimeWarning: invalid value encountered in arccosh\n",
      "  m = np.arccosh( (y[(it+1)%len(y)]+y[(it-1)%len(y)])/y[it]/2 )\n"
     ]
    }
   ],
   "source": [
    "meff, aeff = stag.meff((15,20))\n",
    "\n",
    "e0  = gv.gvar(meff.mean,0.2)\n",
    "de  = gv.gvar('0.5(5)')\n",
    "\n",
    "z1s = np.sqrt(aeff['1S-1S','Unpol']); z1s = gv.gvar(z1s.mean,0.5) \n",
    "zd  = np.sqrt(aeff['d-d',  'Unpol']); zd  = gv.gvar(zd.mean ,0.5) \n",
    "z   = gv.gvar('1(5)')\n",
    "\n",
    "\n",
    "priors = {\n",
    "    'dE'             : [e0     ],\n",
    "    'dE_o'           : [e0+de/2],\n",
    "    'Z_1S_Unpol'     : [z1s],\n",
    "    'Z_1S_Unpol_o'   : [z],\n",
    "    'Z_d_Unpol'      : [zd],\n",
    "    'Z_d_Unpol_o'    : [z],\n",
    "    # 'Z_d-1S_Unpol'   : [z1s*zd,z,z],\n",
    "    # 'Z_d-1S_Unpol_o' : [z1s*zd,z,z],\n",
    "}"
   ]
  },
  {
   "cell_type": "code",
   "execution_count": 30,
   "metadata": {},
   "outputs": [],
   "source": [
    "fitter = cf.CorrFitter(models=models)\n",
    "\n",
    "fit = fitter.lsqfit(data=ydata,prior=priors)"
   ]
  },
  {
   "cell_type": "code",
   "execution_count": 31,
   "metadata": {},
   "outputs": [
    {
     "name": "stdout",
     "output_type": "stream",
     "text": [
      "Least Square Fit:\n",
      "  chi2/dof [dof] = 1.2 [14]    Q = 0.28    logGBF = 312.46\n",
      "\n",
      "Parameters:\n",
      "   Z_1S_Unpol 0    1.09 (13)     [  0.88 (50) ]  \n",
      "           dE 0   1.143 (16)     [  1.12 (20) ]  \n",
      " Z_1S_Unpol_o 0    0.52 (92)     [  1.0 (5.0) ]  \n",
      "         dE_o 0    1.48 (23)     [  1.37 (32) ]  \n",
      "    Z_d_Unpol 0   0.213 (26)     [  0.18 (50) ]  \n",
      "  Z_d_Unpol_o 0    0.52 (92)     [  1.0 (5.0) ]  \n",
      "\n",
      "Settings:\n",
      "  svdcut/n = 1e-12/1    tol = (1e-08,1e-10,1e-10*)    (itns/time = 14/0.0)\n",
      "  fitter = scipy_least_squares    method = trf\n",
      "\n"
     ]
    }
   ],
   "source": [
    "print(fit)"
   ]
  },
  {
   "cell_type": "markdown",
   "metadata": {},
   "source": [
    "# GEVP with `EigenBasis` (nice, but not really)"
   ]
  },
  {
   "cell_type": "code",
   "execution_count": 32,
   "metadata": {},
   "outputs": [],
   "source": [
    "xdata,ydata = stag.format(scale=True,shrink=True)\n",
    "\n",
    "ydict = {}\n",
    "for sm,pol in ydata:\n",
    "    sm1,sm2 = sm.split('-')\n",
    "    k = f'{sm1}-{sm2}_{pol}'\n",
    "    ydict[k] = ydata[sm,pol]\n",
    "\n",
    "\n",
    "for pol in stag.data.polarization.values:\n",
    "    ydict[f'1S-d_{pol}'] = copy.deepcopy(ydict[f'd-1S_{pol}'])"
   ]
  },
  {
   "cell_type": "code",
   "execution_count": 33,
   "metadata": {},
   "outputs": [],
   "source": [
    "xdata,ydata = stag.format(scale=True,shrink=True)\n",
    "\n",
    "models = []\n",
    "for smr,pol in ydata:\n",
    "    sm1,sm2 = smr.split('-')\n",
    "    fcn = cf.Corr2(\n",
    "        datatag = (smr,pol),\n",
    "        tp      = stag.Nt,\n",
    "        s       = (1.,-1.),\n",
    "        tdata   = xdata,\n",
    "        tmin    = 15,\n",
    "        tmax    = tmax(ydata[smr,pol]),\n",
    "        dE      = ('m.dE','o.dE'),\n",
    "        a       = (f'm.{sm1}',f'o.{sm1}'),\n",
    "        b       = (f'm.{sm2}',f'o.{sm2}')\n",
    "    )\n",
    "    models.append(fcn)\n",
    "\n",
    "\n",
    "fitter = cf.CorrFitter(models=models)"
   ]
  },
  {
   "cell_type": "code",
   "execution_count": 34,
   "metadata": {},
   "outputs": [
    {
     "name": "stdout",
     "output_type": "stream",
     "text": [
      "m.1S [-1.63(49)]\n",
      "m.d [-0.285(95)]\n",
      "log(m.dE) [0.20(35)]\n",
      "o.1S [-0.4(1.7)]\n",
      "o.d [0.010(453)]\n",
      "log(o.dE) [0.20(35)]\n"
     ]
    }
   ],
   "source": [
    "basis = cf.EigenBasis(\n",
    "    ydict,\n",
    "    keyfmt = '{s1}-{s2}_Unpol',\n",
    "    srcs   = ['1S','d'],\n",
    "    t      = (7,5) ,\n",
    "    tdata  = xdata,\n",
    "    osc    = True\n",
    ")\n",
    "prior = basis.make_prior(nterm=1, keyfmt='m.{s1}')\n",
    "\n",
    "for k,p in prior.items():\n",
    "    print(k,p)"
   ]
  },
  {
   "cell_type": "code",
   "execution_count": 35,
   "metadata": {},
   "outputs": [
    {
     "name": "stdout",
     "output_type": "stream",
     "text": [
      "Least Square Fit:\n",
      "  chi2/dof [dof] = 0.76 [22]    Q = 0.77    logGBF = 509.32\n",
      "\n",
      "Parameters:\n",
      "         m.1S 0    -1.10 (13)     [  -1.63 (49) ]  *\n",
      "    log(m.dE) 0    0.138 (14)     [   0.20 (35) ]  \n",
      "         o.1S 0    -1.3 (1.3)     [  -0.4 (1.7) ]  \n",
      "    log(o.dE) 0     0.25 (10)     [   0.20 (35) ]  \n",
      "          m.d 0   -0.221 (26)     [ -0.285 (95) ]  \n",
      "          o.d 0    -0.14 (14)     [ 0.010 (453) ]  \n",
      "-------------------------------------------------\n",
      "         m.dE 0    1.148 (16)     [   1.22 (42) ]  \n",
      "         o.dE 0     1.28 (13)     [   1.22 (42) ]  \n",
      "\n",
      "Settings:\n",
      "  svdcut/n = 1e-12/0    tol = (1e-08,1e-10,1e-10*)    (itns/time = 14/0.0)\n",
      "  fitter = scipy_least_squares    method = trf\n",
      "\n"
     ]
    }
   ],
   "source": [
    "fit = fitter.lsqfit(data=ydata, prior=prior)\n",
    "print(fit)"
   ]
  },
  {
   "cell_type": "code",
   "execution_count": null,
   "metadata": {},
   "outputs": [],
   "source": []
  },
  {
   "cell_type": "code",
   "execution_count": null,
   "metadata": {},
   "outputs": [],
   "source": []
  }
 ],
 "metadata": {
  "kernelspec": {
   "display_name": "Python 3.11.4 ('stat')",
   "language": "python",
   "name": "python3"
  },
  "language_info": {
   "codemirror_mode": {
    "name": "ipython",
    "version": 3
   },
   "file_extension": ".py",
   "mimetype": "text/x-python",
   "name": "python",
   "nbconvert_exporter": "python",
   "pygments_lexer": "ipython3",
   "version": "3.11.4"
  },
  "orig_nbformat": 4,
  "vscode": {
   "interpreter": {
    "hash": "550906e9926f0f588aff226d3abadfa0c6a614c1c5eae7bfa21377021c1cb7ed"
   }
  }
 },
 "nbformat": 4,
 "nbformat_minor": 2
}
