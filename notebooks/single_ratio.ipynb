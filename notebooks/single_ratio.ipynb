{
 "cells": [
  {
   "cell_type": "code",
   "execution_count": 1,
   "metadata": {},
   "outputs": [],
   "source": [
    "import numpy             as np\n",
    "import gvar              as gv\n",
    "import matplotlib.pyplot as plt\n",
    "import lsqfit"
   ]
  },
  {
   "cell_type": "code",
   "execution_count": 2,
   "metadata": {},
   "outputs": [],
   "source": [
    "from b2heavy import FnalHISQMetadata"
   ]
  },
  {
   "cell_type": "code",
   "execution_count": 3,
   "metadata": {},
   "outputs": [],
   "source": [
    "from b2heavy.TwoPointFunctions.utils     import correlation_diagnostics\n",
    "from b2heavy.TwoPointFunctions.types2pts import CorrelatorIO, plot_effective_coeffs\n",
    "from b2heavy.TwoPointFunctions.fitter    import StagFitter"
   ]
  },
  {
   "cell_type": "code",
   "execution_count": 4,
   "metadata": {},
   "outputs": [],
   "source": [
    "from b2heavy.ThreePointFunctions.types3pts  import Ratio, RatioIO\n",
    "from b2heavy.ThreePointFunctions.fitter3pts import RatioFitter"
   ]
  },
  {
   "cell_type": "markdown",
   "metadata": {},
   "source": [
    "Select a case for which we want to calculate the recoil parameter"
   ]
  },
  {
   "cell_type": "code",
   "execution_count": 5,
   "metadata": {},
   "outputs": [],
   "source": [
    "ENSEMBLE = 'Coarse-1'\n",
    "DATA_DIR = '/Users/pietro/code/data_analysis/BtoD/Alex/'\n",
    "\n",
    "BINSIZE  = {\n",
    "    'MediumCoarse':13,\n",
    "    'Coarse-2':    16,\n",
    "    'Coarse-1':    11,\n",
    "    'Coarse-Phys': 19,\n",
    "    'Fine-1':      16,\n",
    "    'Fine-Phys':   16,\n",
    "    'SuperFine':   22\n",
    "}\n",
    "\n",
    "COV_SPECS = dict(\n",
    "    diag   = False,\n",
    "    block  = False,\n",
    "    scale  = True,\n",
    "    shrink = True,\n",
    "    cutsvd = 0.01\n",
    ")"
   ]
  },
  {
   "cell_type": "code",
   "execution_count": 6,
   "metadata": {},
   "outputs": [],
   "source": [
    "mdata = FnalHISQMetadata.params(ENSEMBLE)\n",
    "LVOL   = mdata['L']\n",
    "alphas = mdata['alphaS'] "
   ]
  },
  {
   "cell_type": "markdown",
   "metadata": {},
   "source": [
    "## Two-pts functions"
   ]
  },
  {
   "cell_type": "code",
   "execution_count": 7,
   "metadata": {},
   "outputs": [],
   "source": [
    "MESON      = 'Dst'\n",
    "SMSLIST  = ['1S-1S','d-d','d-1S']\n",
    "# MOM_LIST   = ['000','100','200','300','110','211']\n",
    "MOM_LIST   = ['000','100']\n",
    "TRANGE_EFF = {\n",
    "    'Coarse-1': {\n",
    "        '000': (13,20),\n",
    "        '100': (13,20),\n",
    "        '200': (13,20),\n",
    "        '300': (10,17),\n",
    "        '110': (11,19),\n",
    "        '211': (11,19)\n",
    "    }\n",
    "}\n",
    "TRANGE     = {\n",
    "    'Coarse-1': {\n",
    "        '000': (5,26),\n",
    "        '100': (5,23),\n",
    "        '200': (5,21),\n",
    "        '300': (5,17),\n",
    "        '110': (5,23),\n",
    "        '211': (5,19)\n",
    "    }\n",
    "}"
   ]
  },
  {
   "cell_type": "code",
   "execution_count": 8,
   "metadata": {},
   "outputs": [
    {
     "name": "stdout",
     "output_type": "stream",
     "text": [
      " mom = --------000---------\n",
      "Intel MKL WARNING: Support of Intel(R) Streaming SIMD Extensions 4.2 (Intel(R) SSE4.2) enabled only processors has been deprecated. Intel oneAPI Math Kernel Library 2025.0 will require Intel(R) Advanced Vector Extensions (Intel(R) AVX) instructions.\n"
     ]
    },
    {
     "name": "stderr",
     "output_type": "stream",
     "text": [
      "/Users/pietro/code/software/B2heavy/b2heavy/TwoPointFunctions/types2pts.py:38: RuntimeWarning: invalid value encountered in sqrt\n",
      "  m = np.arccosh( (y[(it+1)%len(y)]+y[(it-1)%len(y)])/y[it]/2 )\n",
      "/Users/pietro/code/software/B2heavy/b2heavy/TwoPointFunctions/types2pts.py:38: RuntimeWarning: invalid value encountered in log\n",
      "  m = np.arccosh( (y[(it+1)%len(y)]+y[(it-1)%len(y)])/y[it]/2 )\n",
      "/Users/pietro/code/software/B2heavy/b2heavy/TwoPointFunctions/types2pts.py:38: RuntimeWarning: invalid value encountered in arccosh\n",
      "  m = np.arccosh( (y[(it+1)%len(y)]+y[(it-1)%len(y)])/y[it]/2 )\n"
     ]
    },
    {
     "name": "stdout",
     "output_type": "stream",
     "text": [
      " mom = --------100---------\n"
     ]
    },
    {
     "name": "stderr",
     "output_type": "stream",
     "text": [
      "/Users/pietro/code/software/B2heavy/b2heavy/TwoPointFunctions/types2pts.py:38: RuntimeWarning: invalid value encountered in sqrt\n",
      "  m = np.arccosh( (y[(it+1)%len(y)]+y[(it-1)%len(y)])/y[it]/2 )\n",
      "/Users/pietro/code/software/B2heavy/b2heavy/TwoPointFunctions/types2pts.py:38: RuntimeWarning: invalid value encountered in log\n",
      "  m = np.arccosh( (y[(it+1)%len(y)]+y[(it-1)%len(y)])/y[it]/2 )\n",
      "/Users/pietro/code/software/B2heavy/b2heavy/TwoPointFunctions/types2pts.py:38: RuntimeWarning: invalid value encountered in arccosh\n",
      "  m = np.arccosh( (y[(it+1)%len(y)]+y[(it-1)%len(y)])/y[it]/2 )\n"
     ]
    }
   ],
   "source": [
    "fits = {}\n",
    "for mom in MOM_LIST:\n",
    "    print(f'{ mom = :-^20}')\n",
    "\n",
    "    io   = CorrelatorIO(ENSEMBLE,MESON,mom,PathToDataDir=DATA_DIR)\n",
    "    stag = StagFitter(\n",
    "        io       = io,\n",
    "        jkBin    = BINSIZE[ENSEMBLE],\n",
    "        smearing = SMSLIST\n",
    "    )\n",
    "\n",
    "    effm,effa = stag.meff(\n",
    "        TRANGE_EFF[ENSEMBLE][mom],\n",
    "        **COV_SPECS\n",
    "    )\n",
    "\n",
    "    fits[mom] = stag.fit(\n",
    "        Nstates = 3,\n",
    "        trange  = TRANGE[ENSEMBLE][mom],\n",
    "        **COV_SPECS\n",
    "    )"
   ]
  },
  {
   "cell_type": "code",
   "execution_count": 9,
   "metadata": {},
   "outputs": [
    {
     "name": "stdout",
     "output_type": "stream",
     "text": [
      " mom = --------000---------\n"
     ]
    },
    {
     "name": "stderr",
     "output_type": "stream",
     "text": [
      "/Users/pietro/code/software/B2heavy/b2heavy/TwoPointFunctions/types2pts.py:38: RuntimeWarning: invalid value encountered in sqrt\n",
      "  m = np.arccosh( (y[(it+1)%len(y)]+y[(it-1)%len(y)])/y[it]/2 )\n",
      "/Users/pietro/code/software/B2heavy/b2heavy/TwoPointFunctions/types2pts.py:38: RuntimeWarning: invalid value encountered in log\n",
      "  m = np.arccosh( (y[(it+1)%len(y)]+y[(it-1)%len(y)])/y[it]/2 )\n",
      "/Users/pietro/code/software/B2heavy/b2heavy/TwoPointFunctions/types2pts.py:38: RuntimeWarning: invalid value encountered in arccosh\n",
      "  m = np.arccosh( (y[(it+1)%len(y)]+y[(it-1)%len(y)])/y[it]/2 )\n",
      "100%|██████████| 90/90 [00:18<00:00,  4.90it/s]\n"
     ]
    },
    {
     "name": "stdout",
     "output_type": "stream",
     "text": [
      " mom = --------100---------\n"
     ]
    },
    {
     "name": "stderr",
     "output_type": "stream",
     "text": [
      "/Users/pietro/code/software/B2heavy/b2heavy/TwoPointFunctions/types2pts.py:38: RuntimeWarning: invalid value encountered in sqrt\n",
      "  m = np.arccosh( (y[(it+1)%len(y)]+y[(it-1)%len(y)])/y[it]/2 )\n",
      "/Users/pietro/code/software/B2heavy/b2heavy/TwoPointFunctions/types2pts.py:38: RuntimeWarning: invalid value encountered in log\n",
      "  m = np.arccosh( (y[(it+1)%len(y)]+y[(it-1)%len(y)])/y[it]/2 )\n",
      "/Users/pietro/code/software/B2heavy/b2heavy/TwoPointFunctions/types2pts.py:38: RuntimeWarning: invalid value encountered in arccosh\n",
      "  m = np.arccosh( (y[(it+1)%len(y)]+y[(it-1)%len(y)])/y[it]/2 )\n",
      "100%|██████████| 90/90 [00:38<00:00,  2.32it/s]\n"
     ]
    }
   ],
   "source": [
    "if True:\n",
    "    params = {}\n",
    "    for mom in MOM_LIST:\n",
    "        print(f'{ mom = :-^20}')\n",
    "\n",
    "        io   = CorrelatorIO(ENSEMBLE,MESON,mom,PathToDataDir=DATA_DIR)\n",
    "        stag = StagFitter(\n",
    "            io       = io,\n",
    "            jkBin    = BINSIZE[ENSEMBLE],\n",
    "            smearing = SMSLIST\n",
    "        )\n",
    "\n",
    "        effm,effa = stag.meff(\n",
    "            TRANGE_EFF[ENSEMBLE][mom],\n",
    "            **COV_SPECS\n",
    "        )\n",
    "\n",
    "        jk = stag.fit(\n",
    "            Nstates = 3,\n",
    "            trange  = TRANGE[ENSEMBLE][mom],\n",
    "            jkfit   = True,\n",
    "            **COV_SPECS\n",
    "        )\n",
    "\n",
    "        params[mom] = jk\n",
    "\n",
    "    for m in params:\n",
    "        np.save(f'jkfit_{m}.npy',np.asarray(params[m]))"
   ]
  },
  {
   "cell_type": "markdown",
   "metadata": {},
   "source": [
    "## Three-pts functions"
   ]
  },
  {
   "cell_type": "code",
   "execution_count": 10,
   "metadata": {},
   "outputs": [],
   "source": [
    "MOM    = '100'\n",
    "SMLIST = ['1S']\n",
    "\n",
    "Nstates = 1\n",
    "trange  = (3,11)"
   ]
  },
  {
   "cell_type": "markdown",
   "metadata": {},
   "source": [
    "### Recoil parameter"
   ]
  },
  {
   "cell_type": "markdown",
   "metadata": {},
   "source": [
    "First we need to calculate the recoil parameter defined by\n",
    "$$\n",
    "    w = \\frac{1+x_f^2}{1-x_f^2}\n",
    "$$"
   ]
  },
  {
   "cell_type": "code",
   "execution_count": 24,
   "metadata": {},
   "outputs": [],
   "source": [
    "RATIO  = 'xfstpar'\n",
    "\n",
    "io = RatioIO(ENSEMBLE,RATIO,MOM,PathToDataDir=DATA_DIR)\n",
    "ratio = RatioFitter(\n",
    "    io,\n",
    "    jkBin    = BINSIZE[ENSEMBLE],\n",
    "    smearing = SMLIST\n",
    ")"
   ]
  },
  {
   "cell_type": "code",
   "execution_count": 25,
   "metadata": {},
   "outputs": [],
   "source": [
    "x,y = ratio.format()\n",
    "\n",
    "Kpr    = gv.gvar(y['1S'][x.tolist().index(ratio.Ta//2)].mean,0.05)\n",
    "dE_src = gv.gvar(\n",
    "    params[MOM]['E'][:,2].mean(),\n",
    "    np.sqrt(params[MOM]['E'][:,2].var())*3\n",
    ")\n",
    "\n",
    "priors = ratio.priors(Nstates,K=Kpr)"
   ]
  },
  {
   "cell_type": "code",
   "execution_count": 26,
   "metadata": {},
   "outputs": [
    {
     "name": "stdout",
     "output_type": "stream",
     "text": [
      "Least Square Fit:\n",
      "  chi2/dof [dof] = 0.4 [9]    Q = 0.94    logGBF = 35.437\n",
      "\n",
      "Parameters:\n",
      "        ratio 0   -0.086 (25)     [ -0.074 (50) ]  \n",
      "       dE_src 0    -1.38 (85)     [  -1.5 (1.0) ]  \n",
      "         A_1S 0    -0.57 (20)     [     0 ± 1.0 ]  \n",
      "         B_1S 0    -0.23 (22)     [     0 ± 1.0 ]  \n",
      "\n",
      "Settings:\n",
      "  svdcut/n = 0/0    tol = (1e-08,1e-10,1e-10*)    (itns/time = 16/0.0)\n",
      "  fitter = scipy_least_squares    method = trf\n",
      "\n",
      "c2/ce = Array(0.76412095, dtype=float64)\n",
      "p = 0.5712\n"
     ]
    }
   ],
   "source": [
    "fit = ratio.fit(\n",
    "    Nstates = Nstates,\n",
    "    trange  = trange,\n",
    "    priors  = ratio.priors(Nstates,K=Kpr),\n",
    "    **COV_SPECS\n",
    ")\n",
    "\n",
    "pr = fit.prior\n",
    "popt = dict(fit.pmean)\n",
    "fcov = gv.evalcov(fit.y)\n",
    "c2,ce,p = ratio.chi2exp(Nstates,trange,popt,fcov)\n",
    "\n",
    "print(f'{c2/ce = }')\n",
    "print(f'{p = }')"
   ]
  },
  {
   "cell_type": "code",
   "execution_count": 30,
   "metadata": {},
   "outputs": [
    {
     "data": {
      "image/png": "[encoded data removed]",
      "text/plain": [
       "<Figure size 640x480 with 1 Axes>"
      ]
     },
     "metadata": {},
     "output_type": "display_data"
    }
   ],
   "source": [
    "fig, ax = plt.subplots()\n",
    "ratio.plot_fit(ax,Nstates,trange)\n",
    "plt.title('X_f[Par]')\n",
    "plt.show()"
   ]
  },
  {
   "cell_type": "code",
   "execution_count": 14,
   "metadata": {},
   "outputs": [
    {
     "name": "stdout",
     "output_type": "stream",
     "text": [
      "Least Square Fit:\n",
      "  chi2/dof [dof] = 0.4 [9]    Q = 0.94    logGBF = 35.437\n",
      "\n",
      "Parameters:\n",
      "        ratio 0   -0.086 (25)     [ -0.074 (50) ]  \n",
      "       dE_src 0    -1.38 (85)     [  -1.5 (1.0) ]  \n",
      "         A_1S 0    -0.57 (20)     [     0 ± 1.0 ]  \n",
      "         B_1S 0    -0.23 (22)     [     0 ± 1.0 ]  \n",
      "\n",
      "Settings:\n",
      "  svdcut/n = 0/0    tol = (1e-08,1e-10,1e-10*)    (itns/time = 16/0.0)\n",
      "  fitter = scipy_least_squares    method = trf\n",
      "\n"
     ]
    },
    {
     "name": "stderr",
     "output_type": "stream",
     "text": [
      "100%|██████████| 90/90 [00:00<00:00, 195.06it/s]\n"
     ]
    }
   ],
   "source": [
    "fit = ratio.fit(\n",
    "    Nstates = Nstates,\n",
    "    trange  = trange,\n",
    "    priors  = ratio.priors(Nstates,K=Kpr),\n",
    "    jkfit   = True,\n",
    "    **COV_SPECS\n",
    ")"
   ]
  },
  {
   "cell_type": "code",
   "execution_count": 15,
   "metadata": {},
   "outputs": [],
   "source": [
    "xf = fit['ratio']\n",
    "w_recoil = (1+xf**2)/(1-xf**2)"
   ]
  },
  {
   "cell_type": "markdown",
   "metadata": {},
   "source": [
    "### $X_0$ and $X_1$"
   ]
  },
  {
   "cell_type": "code",
   "execution_count": 1,
   "metadata": {},
   "outputs": [
    {
     "ename": "NameError",
     "evalue": "name 'params' is not defined",
     "output_type": "error",
     "traceback": [
      "\u001b[0;31m---------------------------------------------------------------------------\u001b[0m",
      "\u001b[0;31mNameError\u001b[0m                                 Traceback (most recent call last)",
      "Cell \u001b[0;32mIn[1], line 3\u001b[0m\n\u001b[1;32m      1\u001b[0m RATIO  \u001b[38;5;241m=\u001b[39m \u001b[38;5;124m'\u001b[39m\u001b[38;5;124mR0\u001b[39m\u001b[38;5;124m'\u001b[39m\n\u001b[0;32m----> 3\u001b[0m Zpar \u001b[38;5;241m=\u001b[39m \u001b[43mparams\u001b[49m[\u001b[38;5;124m'\u001b[39m\u001b[38;5;124m100\u001b[39m\u001b[38;5;124m'\u001b[39m][\u001b[38;5;124m'\u001b[39m\u001b[38;5;124mZ_1S_Par\u001b[39m\u001b[38;5;124m'\u001b[39m][:,\u001b[38;5;241m0\u001b[39m] \u001b[38;5;241m*\u001b[39m np\u001b[38;5;241m.\u001b[39msqrt(\u001b[38;5;241m2\u001b[39m\u001b[38;5;241m*\u001b[39mparams[\u001b[38;5;124m'\u001b[39m\u001b[38;5;124m100\u001b[39m\u001b[38;5;124m'\u001b[39m][\u001b[38;5;124m'\u001b[39m\u001b[38;5;124mE\u001b[39m\u001b[38;5;124m'\u001b[39m][:,\u001b[38;5;241m0\u001b[39m])\n\u001b[1;32m      4\u001b[0m Zbot \u001b[38;5;241m=\u001b[39m params[\u001b[38;5;124m'\u001b[39m\u001b[38;5;124m100\u001b[39m\u001b[38;5;124m'\u001b[39m][\u001b[38;5;124m'\u001b[39m\u001b[38;5;124mZ_1S_Bot\u001b[39m\u001b[38;5;124m'\u001b[39m][:,\u001b[38;5;241m0\u001b[39m] \u001b[38;5;241m*\u001b[39m np\u001b[38;5;241m.\u001b[39msqrt(\u001b[38;5;241m2\u001b[39m\u001b[38;5;241m*\u001b[39mparams[\u001b[38;5;124m'\u001b[39m\u001b[38;5;124m100\u001b[39m\u001b[38;5;124m'\u001b[39m][\u001b[38;5;124m'\u001b[39m\u001b[38;5;124mE\u001b[39m\u001b[38;5;124m'\u001b[39m][:,\u001b[38;5;241m0\u001b[39m])\n\u001b[1;32m      7\u001b[0m io \u001b[38;5;241m=\u001b[39m RatioIO(ENSEMBLE,RATIO,MOM,PathToDataDir\u001b[38;5;241m=\u001b[39mDATA_DIR)\n",
      "\u001b[0;31mNameError\u001b[0m: name 'params' is not defined"
     ]
    }
   ],
   "source": [
    "RATIO  = 'R0'\n",
    "\n",
    "Zpar = params['100']['Z_1S_Par'][:,0] * np.sqrt(2*params['100']['E'][:,0])\n",
    "Zbot = params['100']['Z_1S_Bot'][:,0] * np.sqrt(2*params['100']['E'][:,0])\n",
    "\n",
    "\n",
    "io = RatioIO(ENSEMBLE,RATIO,MOM,PathToDataDir=DATA_DIR)\n",
    "ratio = RatioFitter(\n",
    "    io,\n",
    "    jkBin    = BINSIZE[ENSEMBLE],\n",
    "    smearing = SMLIST,\n",
    "    Zpar = Zpar,\n",
    "    Zbot = Zbot\n",
    ")"
   ]
  },
  {
   "cell_type": "code",
   "execution_count": 33,
   "metadata": {},
   "outputs": [],
   "source": [
    "x,y = ratio.format()\n",
    "\n",
    "Kpr    = gv.gvar(y['1S'][x.tolist().index(ratio.Ta//2)].mean,0.05)\n",
    "dE_src = gv.gvar(\n",
    "    params[MOM]['E'][:,2].mean(),\n",
    "    np.sqrt(params[MOM]['E'][:,2].var())*3\n",
    ")\n",
    "\n",
    "priors = ratio.priors(Nstates,K=Kpr)"
   ]
  },
  {
   "cell_type": "code",
   "execution_count": 34,
   "metadata": {},
   "outputs": [
    {
     "name": "stdout",
     "output_type": "stream",
     "text": [
      "Least Square Fit:\n",
      "  chi2/dof [dof] = 0.63 [9]    Q = 0.77    logGBF = 39.421\n",
      "\n",
      "Parameters:\n",
      "        ratio 0   -0.075 (24)     [ -0.051 (50) ]  \n",
      "       dE_src 0    -1.97 (81)     [  -1.5 (1.0) ]  \n",
      "       dE_snk 0    -0.86 (72)     [  -1.5 (1.0) ]  \n",
      "         A_1S 0    -0.64 (14)     [     0 ± 1.0 ]  \n",
      "         B_1S 0    -0.39 (12)     [     0 ± 1.0 ]  \n",
      "\n",
      "Settings:\n",
      "  svdcut/n = 0/0    tol = (1e-08,1e-10,1e-10*)    (itns/time = 26/0.0)\n",
      "  fitter = scipy_least_squares    method = trf\n",
      "\n",
      "c2/ce = Array(1.30228208, dtype=float64)\n",
      "p = 0.2658\n"
     ]
    }
   ],
   "source": [
    "fit = ratio.fit(\n",
    "    Nstates = Nstates,\n",
    "    trange  = trange,\n",
    "    priors  = ratio.priors(Nstates,K=Kpr),\n",
    "    **COV_SPECS\n",
    ")\n",
    "\n",
    "pr = fit.prior\n",
    "popt = dict(fit.pmean)\n",
    "fcov = gv.evalcov(fit.y)\n",
    "c2,ce,p = ratio.chi2exp(Nstates,trange,popt,fcov)\n",
    "\n",
    "print(f'{c2/ce = }')\n",
    "print(f'{p = }')"
   ]
  },
  {
   "cell_type": "code",
   "execution_count": 35,
   "metadata": {},
   "outputs": [
    {
     "name": "stdout",
     "output_type": "stream",
     "text": [
      "Least Square Fit:\n",
      "  chi2/dof [dof] = 0.63 [9]    Q = 0.77    logGBF = 39.421\n",
      "\n",
      "Parameters:\n",
      "        ratio 0   -0.075 (24)     [ -0.051 (50) ]  \n",
      "       dE_src 0    -1.97 (81)     [  -1.5 (1.0) ]  \n",
      "       dE_snk 0    -0.86 (72)     [  -1.5 (1.0) ]  \n",
      "         A_1S 0    -0.64 (14)     [     0 ± 1.0 ]  \n",
      "         B_1S 0    -0.39 (12)     [     0 ± 1.0 ]  \n",
      "\n",
      "Settings:\n",
      "  svdcut/n = 0/0    tol = (1e-08,1e-10,1e-10*)    (itns/time = 26/0.0)\n",
      "  fitter = scipy_least_squares    method = trf\n",
      "\n"
     ]
    },
    {
     "name": "stderr",
     "output_type": "stream",
     "text": [
      "100%|██████████| 90/90 [00:00<00:00, 118.81it/s]\n"
     ]
    }
   ],
   "source": [
    "fit = ratio.fit(\n",
    "    Nstates = Nstates,\n",
    "    trange  = trange,\n",
    "    priors  = ratio.priors(Nstates,K=Kpr),\n",
    "    jkfit   = True,\n",
    "    **COV_SPECS\n",
    ")"
   ]
  },
  {
   "cell_type": "code",
   "execution_count": 37,
   "metadata": {},
   "outputs": [
    {
     "data": {
      "image/png": "[encoded data removed]",
      "text/plain": [
       "<Figure size 640x480 with 1 Axes>"
      ]
     },
     "metadata": {},
     "output_type": "display_data"
    }
   ],
   "source": [
    "fig, ax = plt.subplots()\n",
    "ratio.plot_fit(ax,Nstates,trange)\n",
    "plt.title('X_0')\n",
    "plt.show()"
   ]
  },
  {
   "cell_type": "code",
   "execution_count": null,
   "metadata": {},
   "outputs": [],
   "source": []
  }
 ],
 "metadata": {
  "kernelspec": {
   "display_name": "Python 3.11.4 ('stat')",
   "language": "python",
   "name": "python3"
  },
  "language_info": {
   "codemirror_mode": {
    "name": "ipython",
    "version": 3
   },
   "file_extension": ".py",
   "mimetype": "text/x-python",
   "name": "python",
   "nbconvert_exporter": "python",
   "pygments_lexer": "ipython3",
   "version": "3.11.4"
  },
  "orig_nbformat": 4,
  "vscode": {
   "interpreter": {
    "hash": "550906e9926f0f588aff226d3abadfa0c6a614c1c5eae7bfa21377021c1cb7ed"
   }
  }
 },
 "nbformat": 4,
 "nbformat_minor": 2
}
