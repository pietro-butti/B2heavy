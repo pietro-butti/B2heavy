{
 "cells": [
  {
   "cell_type": "code",
   "execution_count": 235,
   "metadata": {},
   "outputs": [],
   "source": [
    "\n",
    "import numpy             as np\n",
    "import gvar              as gv\n",
    "import matplotlib.pyplot as plt\n",
    "import pandas            as pd\n",
    "import lsqfit\n",
    "import itertools\n",
    "from tqdm import tqdm"
   ]
  },
  {
   "cell_type": "code",
   "execution_count": 138,
   "metadata": {},
   "outputs": [],
   "source": [
    "from b2heavy.FnalHISQMetadata import params as mData"
   ]
  },
  {
   "cell_type": "code",
   "execution_count": 139,
   "metadata": {},
   "outputs": [],
   "source": [
    "from b2heavy.TwoPointFunctions.utils        import compute_covariance\n",
    "from b2heavy.ThreePointFunctions.types3pts  import Ratio, RatioIO, ratio_prerequisites\n",
    "from b2heavy.ThreePointFunctions.fitter3pts import RatioFitter, phys_energy_priors\n",
    "from b2heavy.ThreePointFunctions.utils      import read_config_fit, dump_fit_object\n",
    "from b2heavy.ThreePointFunctions.corr3pts   import BINSIZE"
   ]
  },
  {
   "cell_type": "code",
   "execution_count": 140,
   "metadata": {},
   "outputs": [],
   "source": [
    "DATA_DIR = '/Users/pietro/code/data_analysis/BtoD/Alex/'\n",
    "DATA_2PT = '/Users/pietro/Desktop/lattice24/0.25/corr2_3'"
   ]
  },
  {
   "cell_type": "code",
   "execution_count": 141,
   "metadata": {},
   "outputs": [],
   "source": [
    "ENSEMBLE = 'Coarse-Phys'"
   ]
  },
  {
   "cell_type": "code",
   "execution_count": 142,
   "metadata": {},
   "outputs": [],
   "source": [
    "MOMLIST = ['000','100','200','300','400']\n",
    "RATLIST = ['XF','RMINUS','QPLUS','RPLUS']\n",
    "SMSLIST = ['1S','RW']\n",
    "\n",
    "Ta,Tb = mData(ENSEMBLE)['hSinks'] \n",
    "tmin = 2"
   ]
  },
  {
   "cell_type": "code",
   "execution_count": 143,
   "metadata": {},
   "outputs": [],
   "source": [
    "KEYS = []\n",
    "for mom,rat,sms in itertools.product(MOMLIST,RATLIST,SMSLIST):\n",
    "    if rat=='RPLUS' and mom!='000' or \\\n",
    "        rat!='RPLUS' and mom=='000':\n",
    "        continue\n",
    "    else:\n",
    "        KEYS.append((mom,rat,sms))"
   ]
  },
  {
   "cell_type": "code",
   "execution_count": 144,
   "metadata": {},
   "outputs": [],
   "source": [
    "cov_specs = dict(\n",
    "    diag   = False,\n",
    "    block  = False,\n",
    "    scale  = True,\n",
    "    shrink = True,\n",
    "    cutsvd = 1E-12\n",
    ")"
   ]
  },
  {
   "cell_type": "markdown",
   "metadata": {},
   "source": [
    "### Collect data"
   ]
  },
  {
   "cell_type": "code",
   "execution_count": 145,
   "metadata": {},
   "outputs": [],
   "source": [
    "xdata = {}\n",
    "rdata = {}\n",
    "objs  = {}\n",
    "for mom in MOMLIST:\n",
    "    rdata    [mom] = {}\n",
    "    xdata    [mom] = {}\n",
    "    objs     [mom] = {}\n",
    "    for ratio in RATLIST:\n",
    "        requisites = ratio_prerequisites(\n",
    "            ens      = ENSEMBLE,\n",
    "            ratio    = ratio,\n",
    "            mom      = mom,\n",
    "            readfrom = DATA_2PT,\n",
    "            jk       = True\n",
    "        )\n",
    "\n",
    "        if ratio=='RPLUS' and mom!='000' or \\\n",
    "            ratio!='RPLUS' and mom=='000':\n",
    "            continue\n",
    "\n",
    "        io = RatioIO(ENSEMBLE,ratio,mom,PathToDataDir=DATA_DIR)\n",
    "        robj = RatioFitter(\n",
    "            io,\n",
    "            jkBin     = BINSIZE[ENSEMBLE],\n",
    "            smearing  = SMSLIST,\n",
    "            **requisites\n",
    "        )\n",
    "        objs[mom][ratio] = robj\n",
    "\n",
    "        x,ydata,yall = robj.format(\n",
    "            trange = (tmin,robj.Ta-tmin),\n",
    "            alljk  = True,\n",
    "            **cov_specs\n",
    "        )\n",
    "\n",
    "        rdata    [mom][ratio] = {sm: ydata[sm] for sm in SMSLIST}\n",
    "        xdata    [mom][ratio] = {sm: x         for sm in SMSLIST}"
   ]
  },
  {
   "cell_type": "markdown",
   "metadata": {},
   "source": [
    "# QPLUS"
   ]
  },
  {
   "cell_type": "code",
   "execution_count": 202,
   "metadata": {},
   "outputs": [],
   "source": [
    "data = {}\n",
    "for mom in ['100','200','300','400']:\n",
    "    data[mom] = {\n",
    "        'XF'    : rdata[mom]['XF'    ],\n",
    "        'RMINUS': rdata[mom]['RMINUS'],\n",
    "        'QPLUS' : rdata[mom]['QPLUS'],\n",
    "    }"
   ]
  },
  {
   "cell_type": "code",
   "execution_count": 214,
   "metadata": {},
   "outputs": [],
   "source": [
    "def model_qplus(t,p,mom,smr):\n",
    "    # return p[f'qplus_{mom}_f0'] * np.exp(p[f'qplus_dm']*t) + \\\n",
    "    return p[f'qplus_{mom}_f0'] + \\\n",
    "        p[f'qplus_{mom}_{smr}'][0] * np.exp(-(   t))**p['dE_D'] + \\\n",
    "        p[f'qplus_{mom}_{smr}'][1] * np.exp(-(Ta-t))**p['dM_B'] + \\\n",
    "        p[f'qplus_{mom}_{smr}'][2] * np.exp(-(   t))**p['dM_D'] "
   ]
  },
  {
   "cell_type": "code",
   "execution_count": 218,
   "metadata": {},
   "outputs": [
    {
     "name": "stdout",
     "output_type": "stream",
     "text": [
      "Least Square Fit:\n",
      "  chi2/dof [dof] = 0.5 [18]    Q = 0.96    logGBF = 65.09\n",
      "\n",
      "Parameters:\n",
      "           dE_D     0.47 (12)     [  0.50 (50) ]  \n",
      "           dM_B     0.71 (42)     [  0.50 (50) ]  \n",
      "           dM_D     0.05 (22)     [  0.50 (50) ]  \n",
      "   qplus_300_f0     0.90 (22)     [  1.00 (50) ]  \n",
      " qplus_300_RW 0    0.002 (25)     [    0 ± 1.0 ]  \n",
      "              1    0.019 (14)     [    0 ± 1.0 ]  \n",
      "              2     0.07 (20)     [    0 ± 1.0 ]  \n",
      " qplus_300_1S 0   -0.095 (33)     [    0 ± 1.0 ]  \n",
      "              1    0.003 (14)     [    0 ± 1.0 ]  \n",
      "              2     0.08 (19)     [    0 ± 1.0 ]  \n",
      "\n",
      "Settings:\n",
      "  svdcut/n = 1e-12/0    tol = (1e-08,1e-10,1e-10*)    (itns/time = 51/0.1)\n",
      "  fitter = scipy_least_squares    method = trf\n",
      "\n"
     ]
    },
    {
     "data": {
      "image/png": "[encoded data removed]",
      "text/plain": [
       "<Figure size 640x480 with 1 Axes>"
      ]
     },
     "metadata": {},
     "output_type": "display_data"
    }
   ],
   "source": [
    "mom = '300'\n",
    "\n",
    "tmp = np.concatenate([v for x,v in data[mom]['QPLUS'].items()])\n",
    "yvec = gv.mean(tmp)\n",
    "cov  = gv.evalcov(tmp)\n",
    "\n",
    "\n",
    "def global_model(x,p):\n",
    "    aux = []\n",
    "    for smr in SMSLIST:\n",
    "        time = x[mom]['QPLUS'][smr]\n",
    "        aux.append(model_qplus(time,p,mom,smr))\n",
    "    return np.concatenate(aux)\n",
    "\n",
    "ps = {\n",
    "    'dE_D': '0.5(5)',\n",
    "    'dM_B': '0.5(5)',\n",
    "    'dM_D': '0.5(5)',\n",
    "}\n",
    "# ps[f'qplus_dm'] = '0.5(5)'\n",
    "ps[f'qplus_{mom}_f0'] = '1(.5)'\n",
    "ps[f'qplus_{mom}_RW'] = ['0(1)','0(1)','0(1)']\n",
    "ps[f'qplus_{mom}_1S'] = ['0(1)','0(1)','0(1)']\n",
    "params = gv.gvar(ps)\n",
    "\n",
    "fit = lsqfit.nonlinear_fit(\n",
    "    data  = (xdata,yvec,cov),\n",
    "    fcn   = global_model,\n",
    "    prior = params,\n",
    ")\n",
    "print(fit)\n",
    "\n",
    "\n",
    "for i,smr in enumerate(SMSLIST):\n",
    "    xplot = xdata[mom]['QPLUS'][smr]\n",
    "    yplot = rdata[mom]['QPLUS'][smr]\n",
    "    plt.errorbar(xplot,gv.mean(yplot),gv.sdev(yplot),fmt='.',color=f'C{i}')\n",
    "\n",
    "    plt.plot(xplot,model_qplus(xplot,fit.pmean,mom,smr),color=f'C{i}')\n"
   ]
  },
  {
   "cell_type": "markdown",
   "metadata": {},
   "source": [
    "# today"
   ]
  },
  {
   "cell_type": "code",
   "execution_count": 219,
   "metadata": {},
   "outputs": [],
   "source": [
    "MOMLIST = ['100','200','300','400']\n",
    "RATLIST = ['XF','RMINUS','QPLUS']\n",
    "SMSLIST = ['1S','RW']"
   ]
  },
  {
   "cell_type": "code",
   "execution_count": 243,
   "metadata": {},
   "outputs": [],
   "source": [
    "data = {}\n",
    "for mom in MOMLIST:\n",
    "    data[mom] = {rat: rdata[mom][rat] for rat in RATLIST}\n",
    "\n",
    "data['000'] = {'RPLUS': rdata['000']['RPLUS']}"
   ]
  },
  {
   "cell_type": "code",
   "execution_count": 257,
   "metadata": {},
   "outputs": [],
   "source": [
    "params = {\n",
    "    'dE_D': '0.5(5)',\n",
    "    'dM_B': '0.5(5)',\n",
    "    'dM_D': '0.5(5)',\n",
    "}\n",
    "# params[f'qplus_dm'] = '0.5(5)'\n",
    "\n",
    "for mom in MOMLIST:\n",
    "    params[f'xf_{mom}_f0'    ] = '0(1)'\n",
    "    params[f'xf_{mom}_1S'    ] = ['0(1)','0(1)']\n",
    "    params[f'xf_{mom}_RW'    ] = ['0(1)','0(1)']\n",
    "\n",
    "    params[f'rminus_{mom}_f0'] = '0(1)'\n",
    "    params[f'rminus_{mom}_1S'] = ['0(1)','0(1)']\n",
    "    params[f'rminus_{mom}_RW'] = ['0(1)','0(1)']\n",
    "\n",
    "    params[f'qplus_{mom}_f0'] = '1(1)'\n",
    "    params[f'qplus_{mom}_1S'] = ['0(1)','0(1)','0(1)']\n",
    "    params[f'qplus_{mom}_RW'] = ['0(1)','0(1)','0(1)']\n",
    "\n",
    "params[f'rplus_000_f0'] = '0(1)'\n",
    "params[f'rplus_000_1S'] = ['0(1)','0(1)','0(1)','0(1)']\n",
    "params[f'rplus_000_RW'] = ['0(1)','0(1)','0(1)','0(1)']\n",
    "\n",
    "params = gv.gvar(params)"
   ]
  },
  {
   "cell_type": "code",
   "execution_count": 259,
   "metadata": {},
   "outputs": [],
   "source": [
    "def model_xf(t,p,mom,smr):\n",
    "    return p[f'xf_{mom}_f0'] + \\\n",
    "        p[f'xf_{mom}_{smr}'][0] * np.exp(-(   t))**p['dE_D'] + \\\n",
    "        p[f'xf_{mom}_{smr}'][1] * np.exp(-(Ta-t))**p['dM_B'] \n",
    "    \n",
    "\n",
    "def model_rminus(t,p,mom,smr):\n",
    "    return p[f'rminus_{mom}_f0'] + \\\n",
    "        p[f'rminus_{mom}_{smr}'][0] * np.exp(-(   t))**p['dE_D'] + \\\n",
    "        p[f'rminus_{mom}_{smr}'][1] * np.exp(-(Ta-t))**p['dM_B'] \n",
    "\n",
    "def model_qplus(t,p,mom,smr):\n",
    "    return p[f'qplus_{mom}_f0'] + \\\n",
    "        p[f'qplus_{mom}_{smr}'][0] * np.exp(-(   t))**p['dE_D'] + \\\n",
    "        p[f'qplus_{mom}_{smr}'][1] * np.exp(-(Ta-t))**p['dM_B'] + \\\n",
    "        p[f'qplus_{mom}_{smr}'][2] * np.exp(-(   t))**p['dM_D'] \n",
    "\n",
    "def model_rplus(t,p,mom,smr):\n",
    "    return p[f'rplus_{mom}_f0'] + \\\n",
    "        p[f'rplus_{mom}_{smr}'][0] * np.exp(-(   t))**p['dE_D'] + \\\n",
    "        p[f'rplus_{mom}_{smr}'][1] * np.exp(-(Ta-t))**p['dM_B'] + \\\n",
    "        p[f'rplus_{mom}_{smr}'][2] * np.exp(-(   t))**p['dM_B'] + \\\n",
    "        p[f'rplus_{mom}_{smr}'][3] * np.exp(-(Ta-t))**p['dM_D'] * np.exp((   t))**p['dM_B']"
   ]
  },
  {
   "cell_type": "code",
   "execution_count": 260,
   "metadata": {},
   "outputs": [],
   "source": [
    "models = {\n",
    "    'xf'    : model_xf,\n",
    "    'rminus': model_rminus,\n",
    "    'qplus' : model_qplus,\n",
    "    'rplus' : model_rplus,\n",
    "}\n",
    "keys = list(itertools.product(MOMLIST,RATLIST,SMSLIST))\n",
    "keys.append(('000','RPLUS','1S'))\n",
    "keys.append(('000','RPLUS','RW'))\n",
    "\n",
    "def global_model(x,p): # x shall be a tree\n",
    "    aux = []\n",
    "    for mom,rat,smr in keys:\n",
    "        time = x[mom][rat][smr]\n",
    "        aux.append(\n",
    "            models[rat.lower()](time,p,mom,smr)\n",
    "        )\n",
    "    return np.concatenate(aux)\n"
   ]
  },
  {
   "cell_type": "code",
   "execution_count": 261,
   "metadata": {},
   "outputs": [],
   "source": [
    "tmp = []\n",
    "for mom,rat,smr in keys:\n",
    "    tmp.append(data[mom][rat][smr])\n",
    "tmp = np.concatenate(tmp)\n",
    "\n",
    "yvec = gv.mean(tmp)\n",
    "cov  = gv.evalcov(tmp)"
   ]
  },
  {
   "cell_type": "code",
   "execution_count": 262,
   "metadata": {},
   "outputs": [
    {
     "name": "stdout",
     "output_type": "stream",
     "text": [
      "`ftol` termination condition is satisfied.\n",
      "Function evaluations 57, initial cost 1.6817e+07, final cost 7.8656e+01, first-order optimality 4.11e+00.\n"
     ]
    }
   ],
   "source": [
    "fit = lsqfit.nonlinear_fit(\n",
    "    data  = (xdata,yvec,cov),\n",
    "    fcn   = global_model,\n",
    "    prior = params,\n",
    "    verbose = True\n",
    ")"
   ]
  },
  {
   "cell_type": "code",
   "execution_count": 263,
   "metadata": {},
   "outputs": [
    {
     "name": "stdout",
     "output_type": "stream",
     "text": [
      "Least Square Fit:\n",
      "  chi2/dof [dof] = 0.67 [234]    Q = 1    logGBF = 891.74\n",
      "\n",
      "Parameters:\n",
      "           dE_D      0.429 (19)      [  0.50 (50) ]  \n",
      "           dM_B       0.93 (21)      [  0.50 (50) ]  \n",
      "           dM_D      0.195 (87)      [  0.50 (50) ]  \n",
      "      xf_100_f0   -0.06212 (94)      [    0 ± 1.0 ]  \n",
      "    xf_100_1S 0     0.0276 (35)      [    0 ± 1.0 ]  \n",
      "              1     0.0222 (90)      [    0 ± 1.0 ]  \n",
      "    xf_100_RW 0    -0.0093 (33)      [    0 ± 1.0 ]  \n",
      "              1     0.0234 (96)      [    0 ± 1.0 ]  \n",
      "  rminus_100_f0    -0.0690 (11)      [    0 ± 1.0 ]  \n",
      "rminus_100_1S 0     0.0290 (71)      [    0 ± 1.0 ]  \n",
      "              1     0.0137 (72)      [    0 ± 1.0 ]  \n",
      "rminus_100_RW 0     0.0004 (66)      [    0 ± 1.0 ]  \n",
      "              1     0.0146 (78)      [    0 ± 1.0 ]  \n",
      "   qplus_100_f0     0.9991 (59)      [  1.0 (1.0) ]  \n",
      " qplus_100_1S 0     -0.013 (12)      [    0 ± 1.0 ]  \n",
      "              1     0.0067 (42)      [    0 ± 1.0 ]  \n",
      "              2   -0.0003 (198)      [    0 ± 1.0 ]  \n",
      " qplus_100_RW 0      0.009 (11)      [    0 ± 1.0 ]  \n",
      "              1     0.0086 (36)      [    0 ± 1.0 ]  \n",
      "              2     -0.016 (17)      [    0 ± 1.0 ]  \n",
      "      xf_200_f0    -0.1205 (12)      [    0 ± 1.0 ]  \n",
      "    xf_200_1S 0     0.0579 (44)      [    0 ± 1.0 ]  \n",
      "              1      0.027 (12)      [    0 ± 1.0 ]  \n",
      "    xf_200_RW 0    -0.0207 (38)      [    0 ± 1.0 ]  \n",
      "              1      0.032 (13)      [    0 ± 1.0 ]  \n",
      "  rminus_200_f0    -0.1332 (14)      [    0 ± 1.0 ]  \n",
      "rminus_200_1S 0     0.0485 (78)      [    0 ± 1.0 ]  \n",
      "              1     0.0199 (94)      [    0 ± 1.0 ]  \n",
      "rminus_200_RW 0    -0.0008 (79)      [    0 ± 1.0 ]  \n",
      "              1      0.021 (10)      [    0 ± 1.0 ]  \n",
      "   qplus_200_f0     0.9818 (65)      [  1.0 (1.0) ]  \n",
      " qplus_200_1S 0     -0.046 (20)      [    0 ± 1.0 ]  \n",
      "              1     0.0087 (78)      [    0 ± 1.0 ]  \n",
      "              2      0.006 (29)      [    0 ± 1.0 ]  \n",
      " qplus_200_RW 0      0.011 (17)      [    0 ± 1.0 ]  \n",
      "              1     0.0178 (69)      [    0 ± 1.0 ]  \n",
      "              2     -0.015 (23)      [    0 ± 1.0 ]  \n",
      "      xf_300_f0    -0.1747 (15)      [    0 ± 1.0 ]  \n",
      "    xf_300_1S 0     0.0904 (57)      [    0 ± 1.0 ]  \n",
      "              1      0.025 (15)      [    0 ± 1.0 ]  \n",
      "    xf_300_RW 0    -0.0299 (44)      [    0 ± 1.0 ]  \n",
      "              1      0.033 (15)      [    0 ± 1.0 ]  \n",
      "  rminus_300_f0    -0.1930 (20)      [    0 ± 1.0 ]  \n",
      "rminus_300_1S 0      0.073 (10)      [    0 ± 1.0 ]  \n",
      "              1      0.030 (15)      [    0 ± 1.0 ]  \n",
      "rminus_300_RW 0     0.0013 (99)      [    0 ± 1.0 ]  \n",
      "              1      0.025 (13)      [    0 ± 1.0 ]  \n",
      "   qplus_300_f0      0.938 (12)      [  1.0 (1.0) ]  \n",
      " qplus_300_1S 0     -0.127 (46)      [    0 ± 1.0 ]  \n",
      "              1   -0.0008 (142)      [    0 ± 1.0 ]  \n",
      "              2      0.068 (48)      [    0 ± 1.0 ]  \n",
      " qplus_300_RW 0     -0.016 (32)      [    0 ± 1.0 ]  \n",
      "              1      0.019 (12)      [    0 ± 1.0 ]  \n",
      "              2      0.047 (37)      [    0 ± 1.0 ]  \n",
      "      xf_400_f0    -0.2238 (22)      [    0 ± 1.0 ]  \n",
      "    xf_400_1S 0     0.1221 (72)      [    0 ± 1.0 ]  \n",
      "              1      0.013 (23)      [    0 ± 1.0 ]  \n",
      "    xf_400_RW 0    -0.0385 (54)      [    0 ± 1.0 ]  \n",
      "              1      0.028 (19)      [    0 ± 1.0 ]  \n",
      "  rminus_400_f0    -0.2458 (31)      [    0 ± 1.0 ]  \n",
      "rminus_400_1S 0      0.092 (14)      [    0 ± 1.0 ]  \n",
      "              1      0.033 (25)      [    0 ± 1.0 ]  \n",
      "rminus_400_RW 0      0.004 (13)      [    0 ± 1.0 ]  \n",
      "              1      0.025 (19)      [    0 ± 1.0 ]  \n",
      "   qplus_400_f0      0.880 (25)      [  1.0 (1.0) ]  \n",
      " qplus_400_1S 0     -0.213 (85)      [    0 ± 1.0 ]  \n",
      "              1     -0.031 (27)      [    0 ± 1.0 ]  \n",
      "              2      0.142 (80)      [    0 ± 1.0 ]  \n",
      " qplus_400_RW 0     -0.048 (68)      [    0 ± 1.0 ]  \n",
      "              1      0.011 (19)      [    0 ± 1.0 ]  \n",
      "              2      0.131 (67)      [    0 ± 1.0 ]  \n",
      "   rplus_000_f0     1.0111 (44)      [    0 ± 1.0 ]  *\n",
      " rplus_000_1S 0     -0.002 (18)      [    0 ± 1.0 ]  \n",
      "              1      -0.08 (14)      [    0 ± 1.0 ]  \n",
      "              2     -0.009 (29)      [    0 ± 1.0 ]  \n",
      "              3    1.3(3.4)e-06      [    0 ± 1.0 ]  \n",
      " rplus_000_RW 0     -0.073 (35)      [    0 ± 1.0 ]  \n",
      "              1      -0.07 (19)      [    0 ± 1.0 ]  \n",
      "              2      0.072 (53)      [    0 ± 1.0 ]  \n",
      "              3    1.4(4.6)e-06      [    0 ± 1.0 ]  \n",
      "\n",
      "Settings:\n",
      "  svdcut/n = 1e-12/0    tol = (1e-08,1e-10,1e-10*)    (itns/time = 57/0.6)\n",
      "  fitter = scipy_least_squares    method = trf\n",
      "\n"
     ]
    }
   ],
   "source": [
    "print(fit)"
   ]
  },
  {
   "cell_type": "code",
   "execution_count": 267,
   "metadata": {},
   "outputs": [
    {
     "data": {
      "image/png": "[encoded data removed]",
      "text/plain": [
       "<Figure size 640x480 with 1 Axes>"
      ]
     },
     "metadata": {},
     "output_type": "display_data"
    }
   ],
   "source": [
    "ratio = 'XF'\n",
    "for i,mom in enumerate(MOMLIST):\n",
    "    robj = objs[mom][ratio]\n",
    "    xd,yd = robj.format()\n",
    "\n",
    "    for smr in SMSLIST:\n",
    "        xplot = xdata[mom][ratio][smr]\n",
    "        \n",
    "        mask = np.array([x in xplot for x in xd] )\n",
    "        plt.errorbar(\n",
    "            xd[mask],\n",
    "            gv.mean(yd[smr][mask]),\n",
    "            gv.sdev(yd[smr][mask]),\n",
    "            fmt='.',\n",
    "            color=f'C{i}'\n",
    "        )\n",
    "\n",
    "        plt.errorbar(\n",
    "            xd[~mask],\n",
    "            gv.mean(yd[smr][~mask]),\n",
    "            gv.sdev(yd[smr][~mask]),\n",
    "            fmt='.',\n",
    "            color=f'C{i}',\n",
    "            alpha = 0.2\n",
    "        )\n",
    "        \n",
    "        plt.plot(\n",
    "            xplot,\n",
    "            models[ratio.lower()](xplot,fit.pmean,mom,smr),\n",
    "            linestyle=':',\n",
    "            color=f'C{i}'\n",
    "        )\n",
    "\n",
    "        f0 = fit.p[f'{ratio.lower()}_{mom}_f0']\n",
    "        plt.axhspan(\n",
    "            f0.mean-f0.sdev,f0.mean+f0.sdev,\n",
    "            color = f'C{i}',\n",
    "            alpha=0.2\n",
    "        )"
   ]
  },
  {
   "cell_type": "code",
   "execution_count": 269,
   "metadata": {},
   "outputs": [
    {
     "data": {
      "text/html": [
       "<div>\n",
       "<style scoped>\n",
       "    .dataframe tbody tr th:only-of-type {\n",
       "        vertical-align: middle;\n",
       "    }\n",
       "\n",
       "    .dataframe tbody tr th {\n",
       "        vertical-align: top;\n",
       "    }\n",
       "\n",
       "    .dataframe thead th {\n",
       "        text-align: right;\n",
       "    }\n",
       "</style>\n",
       "<table border=\"1\" class=\"dataframe\">\n",
       "  <thead>\n",
       "    <tr style=\"text-align: right;\">\n",
       "      <th></th>\n",
       "      <th></th>\n",
       "      <th>f0</th>\n",
       "    </tr>\n",
       "    <tr>\n",
       "      <th>mom</th>\n",
       "      <th>ratio</th>\n",
       "      <th></th>\n",
       "    </tr>\n",
       "  </thead>\n",
       "  <tbody>\n",
       "    <tr>\n",
       "      <th rowspan=\"3\" valign=\"top\">100</th>\n",
       "      <th>XF</th>\n",
       "      <td>-0.06212(94)</td>\n",
       "    </tr>\n",
       "    <tr>\n",
       "      <th>RMINUS</th>\n",
       "      <td>-0.0690(11)</td>\n",
       "    </tr>\n",
       "    <tr>\n",
       "      <th>QPLUS</th>\n",
       "      <td>0.9991(59)</td>\n",
       "    </tr>\n",
       "    <tr>\n",
       "      <th rowspan=\"3\" valign=\"top\">200</th>\n",
       "      <th>XF</th>\n",
       "      <td>-0.1205(12)</td>\n",
       "    </tr>\n",
       "    <tr>\n",
       "      <th>RMINUS</th>\n",
       "      <td>-0.1332(14)</td>\n",
       "    </tr>\n",
       "    <tr>\n",
       "      <th>QPLUS</th>\n",
       "      <td>0.9818(65)</td>\n",
       "    </tr>\n",
       "    <tr>\n",
       "      <th rowspan=\"3\" valign=\"top\">300</th>\n",
       "      <th>XF</th>\n",
       "      <td>-0.1747(15)</td>\n",
       "    </tr>\n",
       "    <tr>\n",
       "      <th>RMINUS</th>\n",
       "      <td>-0.1930(20)</td>\n",
       "    </tr>\n",
       "    <tr>\n",
       "      <th>QPLUS</th>\n",
       "      <td>0.938(12)</td>\n",
       "    </tr>\n",
       "    <tr>\n",
       "      <th rowspan=\"3\" valign=\"top\">400</th>\n",
       "      <th>XF</th>\n",
       "      <td>-0.2238(22)</td>\n",
       "    </tr>\n",
       "    <tr>\n",
       "      <th>RMINUS</th>\n",
       "      <td>-0.2458(31)</td>\n",
       "    </tr>\n",
       "    <tr>\n",
       "      <th>QPLUS</th>\n",
       "      <td>0.880(25)</td>\n",
       "    </tr>\n",
       "    <tr>\n",
       "      <th>000</th>\n",
       "      <th>RPLUS</th>\n",
       "      <td>1.0111(44)</td>\n",
       "    </tr>\n",
       "  </tbody>\n",
       "</table>\n",
       "</div>"
      ],
      "text/plain": [
       "                      f0\n",
       "mom ratio               \n",
       "100 XF      -0.06212(94)\n",
       "    RMINUS   -0.0690(11)\n",
       "    QPLUS     0.9991(59)\n",
       "200 XF       -0.1205(12)\n",
       "    RMINUS   -0.1332(14)\n",
       "    QPLUS     0.9818(65)\n",
       "300 XF       -0.1747(15)\n",
       "    RMINUS   -0.1930(20)\n",
       "    QPLUS      0.938(12)\n",
       "400 XF       -0.2238(22)\n",
       "    RMINUS   -0.2458(31)\n",
       "    QPLUS      0.880(25)\n",
       "000 RPLUS     1.0111(44)"
      ]
     },
     "execution_count": 269,
     "metadata": {},
     "output_type": "execute_result"
    }
   ],
   "source": [
    "tmp = []\n",
    "for mom in MOMLIST:\n",
    "    for rat in RATLIST:\n",
    "        df = {\n",
    "            'mom': mom,\n",
    "            'ratio': rat,\n",
    "            'f0': fit.p[f'{rat.lower()}_{mom}_f0']\n",
    "        }\n",
    "        tmp.append(df)\n",
    "\n",
    "tmp.append({\n",
    "    'mom': '000',\n",
    "    'ratio': 'RPLUS',\n",
    "    'f0': fit.p[f'rplus_000_f0']\n",
    "})\n",
    "\n",
    "pd.DataFrame(tmp).set_index(['mom','ratio'])"
   ]
  }
 ],
 "metadata": {
  "kernelspec": {
   "display_name": "Python 3.11.4 ('stat')",
   "language": "python",
   "name": "python3"
  },
  "language_info": {
   "codemirror_mode": {
    "name": "ipython",
    "version": 3
   },
   "file_extension": ".py",
   "mimetype": "text/x-python",
   "name": "python",
   "nbconvert_exporter": "python",
   "pygments_lexer": "ipython3",
   "version": "3.11.4"
  },
  "orig_nbformat": 4,
  "vscode": {
   "interpreter": {
    "hash": "550906e9926f0f588aff226d3abadfa0c6a614c1c5eae7bfa21377021c1cb7ed"
   }
  }
 },
 "nbformat": 4,
 "nbformat_minor": 2
}
