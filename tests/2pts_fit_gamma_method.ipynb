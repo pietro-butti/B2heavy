{
 "cells": [
  {
   "cell_type": "code",
   "execution_count": 1,
   "metadata": {},
   "outputs": [],
   "source": [
    "from b2heavy.TwoPointFunctions.types2pts  import CorrelatorIO, Correlator\n",
    "from b2heavy.TwoPointFunctions.fitter     import CorrFitter\n",
    "from b2heavy.TwoPointFunctions.utils      import NplusN2ptModel, PeriodicExpDecay"
   ]
  },
  {
   "cell_type": "code",
   "execution_count": 2,
   "metadata": {},
   "outputs": [],
   "source": [
    "import numpy             as np\n",
    "import autograd.numpy    as anp\n",
    "import xarray            as xr\n",
    "import gvar              as gv\n",
    "import pyerrors          as pr\n",
    "import matplotlib.pyplot as plt\n",
    "\n",
    "from scipy.optimize import curve_fit"
   ]
  },
  {
   "cell_type": "code",
   "execution_count": 3,
   "metadata": {},
   "outputs": [],
   "source": [
    "ens = 'Coarse-1'\n",
    "mes = 'Dsst'\n",
    "mom = '100'\n",
    "binsize = 11\n",
    "\n",
    "data_dir = '/Users/pietro/code/data_analysis/BtoD/Alex/'"
   ]
  },
  {
   "cell_type": "markdown",
   "metadata": {},
   "source": [
    "# New structure"
   ]
  },
  {
   "cell_type": "code",
   "execution_count": 4,
   "metadata": {},
   "outputs": [],
   "source": [
    "class CorrObs(Correlator):\n",
    "    def __init__(self, io:CorrelatorIO, smearing=None, polarization=None, **kwargs):\n",
    "        super().__init__(io,jkBin=0)\n",
    "\n",
    "        SMR = smearing     if not smearing==None     else list(self.data.smearing.values)\n",
    "        POL = polarization if not polarization==None else list(self.data.polarization.values)\n",
    "\n",
    "        self.smearing = SMR\n",
    "        self.polarization = POL \n",
    "        self.keys = sorted([(smr,pol) for smr in SMR for pol in POL])\n",
    "\n",
    "        xd = {}\n",
    "        for (smr,pol) in self.keys:\n",
    "            xd[smr,pol] = pr.Corr(\n",
    "                [\n",
    "                    pr.Obs([self.data.loc[smr,pol,:,t].to_numpy()],[ens]) \n",
    "                    for t in self.data.timeslice\n",
    "                ]\n",
    "        ) \n",
    "\n",
    "        self.pycorr = xd\n",
    "        return"
   ]
  },
  {
   "cell_type": "code",
   "execution_count": 5,
   "metadata": {},
   "outputs": [],
   "source": [
    "io = CorrelatorIO(ens,mes,mom,PathToDataDir=data_dir)\n",
    "self = CorrObs(io,smearing=['d-d','1S-1S','d-1S'])"
   ]
  },
  {
   "cell_type": "markdown",
   "metadata": {},
   "source": [
    "# New fit"
   ]
  },
  {
   "cell_type": "code",
   "execution_count": 230,
   "metadata": {},
   "outputs": [],
   "source": [
    "Nstates = 3\n",
    "Nt      = self.Nt\n",
    "Npol    = len(self.polarization)\n",
    "\n",
    "def model_single(p,t):\n",
    "    rlen = 2*Nstates\n",
    "    ans  = anp.exp(p[rlen  ])**2   * ( anp.exp(-p[0] * t) + anp.exp(-p[0] * (Nt-t)) )\n",
    "\n",
    "    erg = [p[0]]\n",
    "    for n in range(1,2*Nstates):\n",
    "        En = anp.exp(p[n]) + erg[n - (1 if n==1 else 2)]\n",
    "        ans += anp.exp(p[rlen+n])**2 * ( anp.exp(-En*t) + anp.exp(-En*(Nt-t)) ) * (-1)**(n*(t+1))\n",
    "        erg.append(En)\n",
    "\n",
    "    return ans\n",
    "\n",
    "def model_mixed(p,t):\n",
    "    rlen = 2*Nstates\n",
    "\n",
    "    e0,e1 = p[0],p[0]+anp.exp(p[1])\n",
    "    ans  = anp.exp(p[rlen  ]) * anp.exp(p[2*rlen  ])   * ( anp.exp(-e0 * t) + anp.exp(-e0 * (Nt-t)) )\n",
    "    ans += anp.exp(p[rlen+1]) * anp.exp(p[2*rlen+1])   * ( anp.exp(-e1 * t) + anp.exp(-e1 * (Nt-t)) ) * (-1)**(t+1)\n",
    "\n",
    "    erg = [e0,e1]\n",
    "    for n in range(2,2*Nstates):\n",
    "        En = anp.exp(p[n]) + erg[n-2]\n",
    "        ans += anp.exp(p[3*rlen+(n-2)])**2 * ( anp.exp(-En*t) + anp.exp(-En*(Nt-t)) ) * (-1)**(n*(t+1))\n",
    "\n",
    "        erg.append(En)\n",
    "    \n",
    "    return ans\n",
    "\n",
    "func = {}\n",
    "for i,(sm,pol) in enumerate(self.keys):\n",
    "    sm1,sm2 = sm.split('-')\n",
    "    mix = sm1!=sm2\n",
    "    k = f'{sm}_{pol}'\n",
    "\n",
    "    def _model(p,t):\n",
    "        rlen = 2*Nstates\n",
    "        pars = anp.array(p[:rlen])\n",
    "        if mix:\n",
    "            i1 = rlen + (i%Npol)*rlen\n",
    "            pars = anp.append(pars,p[i1:(i1+rlen)])\n",
    "\n",
    "            i2 = i1 + Npol*rlen\n",
    "            pars = anp.append(pars,p[i2:(i2+rlen)])\n",
    "\n",
    "            im = rlen + 2*Npol*rlen + (i%Npol)*(rlen-2)\n",
    "            pars = anp.append(pars,p[im:im+(rlen-2)])\n",
    "\n",
    "            return model_mixed(anp.array(pars),t)\n",
    "            \n",
    "        else:\n",
    "            I = rlen + (i if i<Npol else i-2)*rlen            \n",
    "            pars = anp.append(pars,p[I:(I+rlen)])\n",
    "            \n",
    "            return model_single(anp.array(pars),t)\n",
    "\n",
    "    func[k] = _model\n"
   ]
  },
  {
   "cell_type": "code",
   "execution_count": 231,
   "metadata": {},
   "outputs": [
    {
     "ename": "TypeError",
     "evalue": "model_mixed() missing 2 required positional arguments: 'p' and 't'",
     "output_type": "error",
     "traceback": [
      "\u001b[0;31m---------------------------------------------------------------------------\u001b[0m",
      "\u001b[0;31mTypeError\u001b[0m                                 Traceback (most recent call last)",
      "Cell \u001b[0;32mIn[231], line 4\u001b[0m\n\u001b[1;32m      1\u001b[0m k \u001b[38;5;241m=\u001b[39m \u001b[38;5;124m'\u001b[39m\u001b[38;5;124md-1S_Bot\u001b[39m\u001b[38;5;124m'\u001b[39m\n\u001b[0;32m----> 4\u001b[0m \u001b[43mmodel_mixed\u001b[49m\u001b[43m(\u001b[49m\u001b[43m)\u001b[49m\n",
      "\u001b[0;31mTypeError\u001b[0m: model_mixed() missing 2 required positional arguments: 'p' and 't'"
     ]
    }
   ],
   "source": [
    "k = 'd-1S_Bot'\n",
    "\n",
    "\n",
    "model_mixed()"
   ]
  },
  {
   "cell_type": "code",
   "execution_count": 232,
   "metadata": {},
   "outputs": [],
   "source": [
    "fitter = CorrFitter(self,smearing=['d-d','1S-1S','d-1S'])\n",
    "prior = gv.mean(fitter.set_priors_phys(Nstates))\n",
    "\n",
    "PARS = [p for p in prior['E']]\n",
    "PARS.extend(prior['Z_1S_Bot'])\n",
    "PARS.extend(prior['Z_1S_Par'])\n",
    "PARS.extend(prior['Z_d_Bot'])\n",
    "PARS.extend(prior['Z_d_Par'])\n",
    "PARS.extend(prior['Z_d-1S_Bot'])\n",
    "PARS.extend(prior['Z_d-1S_Par'])"
   ]
  },
  {
   "cell_type": "code",
   "execution_count": 233,
   "metadata": {},
   "outputs": [],
   "source": [
    "# Coefficients are passed to the model_<...> functions in this way\n",
    "# \n",
    "# ... = single\n",
    "# [E0, E1, E2, E3,      Z_1S_0, Z_1S_1, Z_1S_2, Z_1S_3]\n",
    "#  0   1   2   3        4       5       6       7           \n",
    "# \n",
    "# ... = mixed\n",
    "# [E0, E1, E2, E3,      Z_1S_0, Z_1S_1, Z_1S_2, Z_1S_3,       Z_d_0, Z_d_1, Z_d_2, Z_d_3,        Z_d-1S_1, Z_d-1S_2 ]\n",
    "#  0   1   2   3        4       5       6       7             8      9      10     11            12        13\n",
    "# \n",
    "# \n",
    "# Coefficient will be fed to the fitting function in this order\n",
    "# \n",
    "# p = [\n",
    "#     'E0          ', 'E1          ', 'E2        ',    'E3        ',\n",
    "#     'Z_1S_0_Bot  ', 'Z_1S_1_Bot  ', 'Z_1S_2_Bot',    'Z_1S_3_Bot', \n",
    "#     'Z_1S_0_Par  ', 'Z_1S_1_Par  ', 'Z_1S_2_Par',    'Z_1S_3_Par',\n",
    "#     'Z_d_0_Bot   ', 'Z_d_1_Bot   ', 'Z_d_2_Bot ',    'Z_d_3_Bot ',\n",
    "#     'Z_d_0_Par   ', 'Z_d_1_Par   ', 'Z_d_2_Par ',    'Z_d_3_Par ',\n",
    "#     'Z_d-1S_1_Bot', 'Z_d-1S_2_Bot',\n",
    "#     'Z_d-1S_1_Par', 'Z_d-1S_2_Par',\n",
    "# ]"
   ]
  },
  {
   "cell_type": "code",
   "execution_count": 234,
   "metadata": {},
   "outputs": [
    {
     "data": {
      "text/plain": [
       "[('1S-1S', 'Bot'),\n",
       " ('1S-1S', 'Par'),\n",
       " ('d-1S', 'Bot'),\n",
       " ('d-1S', 'Par'),\n",
       " ('d-d', 'Bot'),\n",
       " ('d-d', 'Par')]"
      ]
     },
     "execution_count": 234,
     "metadata": {},
     "output_type": "execute_result"
    }
   ],
   "source": [
    "self.keys"
   ]
  },
  {
   "cell_type": "markdown",
   "metadata": {},
   "source": [
    "### Prepare data"
   ]
  },
  {
   "cell_type": "code",
   "execution_count": 235,
   "metadata": {},
   "outputs": [],
   "source": [
    "tmin = 10\n",
    "tmax = 19\n",
    "\n",
    "x_fit = {f'{sm}_{pol}': self.data.timeslice[tmin:tmax+1].values for (sm,pol) in self.pycorr}\n",
    "y_fit = {f'{sm}_{pol}': [C[it] for it in x_fit[f'{sm}_{pol}']] for (sm,pol),C in self.pycorr.items()}\n",
    "\n",
    "\n",
    "for k in y_fit:\n",
    "    for y in y_fit[k]:\n",
    "        y.gamma_method() "
   ]
  },
  {
   "cell_type": "code",
   "execution_count": 236,
   "metadata": {},
   "outputs": [
    {
     "name": "stdout",
     "output_type": "stream",
     "text": [
      "[9.88279795e-07 2.94076156e-07 6.01673699e-08 1.70132437e-08\n",
      " 3.93973409e-09 1.10434447e-09 2.82910295e-10 8.06975278e-11\n",
      " 2.23127047e-11 6.53450901e-12]\n",
      "[9.88279795e-07 2.94076156e-07 6.01673699e-08 1.70132437e-08\n",
      " 3.93973409e-09 1.10434447e-09 2.82910295e-10 8.06975278e-11\n",
      " 2.23127047e-11 6.53450901e-12]\n",
      "[9.88279795e-07 2.94076156e-07 6.01673699e-08 1.70132437e-08\n",
      " 3.93973409e-09 1.10434447e-09 2.82910295e-10 8.06975278e-11\n",
      " 2.23127047e-11 6.53450901e-12]\n",
      "[9.88279795e-07 2.94076156e-07 6.01673699e-08 1.70132437e-08\n",
      " 3.93973409e-09 1.10434447e-09 2.82910295e-10 8.06975278e-11\n",
      " 2.23127047e-11 6.53450901e-12]\n",
      "[9.88279795e-07 2.94076156e-07 6.01673699e-08 1.70132437e-08\n",
      " 3.93973409e-09 1.10434447e-09 2.82910295e-10 8.06975278e-11\n",
      " 2.23127047e-11 6.53450901e-12]\n",
      "[9.88279795e-07 2.94076156e-07 6.01673699e-08 1.70132437e-08\n",
      " 3.93973409e-09 1.10434447e-09 2.82910295e-10 8.06975278e-11\n",
      " 2.23127047e-11 6.53450901e-12]\n"
     ]
    }
   ],
   "source": [
    "for k in func:\n",
    "    print(func[k](PARS,x_fit[k]))"
   ]
  },
  {
   "cell_type": "code",
   "execution_count": 237,
   "metadata": {},
   "outputs": [
    {
     "name": "stdout",
     "output_type": "stream",
     "text": [
      "Fit with 30 parameters\n",
      "Method: Levenberg-Marquardt\n",
      "`ftol` termination condition is satisfied.\n",
      "chisquare/d.o.f.: 58596.75469366629\n",
      "fit parameters [  1.13047297  -1.46837973  -2.66243024   1.83137068 -10.92080459\n",
      "   0.1          0.1          0.1          0.1          0.1\n",
      "   0.1          0.1          0.1          0.1          0.1\n",
      "   0.1          0.1          0.1          0.1          0.1\n",
      "   0.1          0.1          0.1          0.1         -2.13471354\n",
      "  -2.12700907  -1.91082626   0.1        -15.35252647   0.1       ]\n"
     ]
    },
    {
     "ename": "Exception",
     "evalue": "Cannot invert hessian matrix.",
     "output_type": "error",
     "traceback": [
      "\u001b[0;31m---------------------------------------------------------------------------\u001b[0m",
      "\u001b[0;31mLinAlgError\u001b[0m                               Traceback (most recent call last)",
      "File \u001b[0;32m~/opt/anaconda3/envs/stat/lib/python3.11/site-packages/pyerrors/fits.py:417\u001b[0m, in \u001b[0;36mleast_squares\u001b[0;34m(x, y, func, priors, silent, **kwargs)\u001b[0m\n\u001b[1;32m    416\u001b[0m \u001b[39mtry\u001b[39;00m:\n\u001b[0;32m--> 417\u001b[0m     deriv_y \u001b[39m=\u001b[39m \u001b[39m-\u001b[39mscipy\u001b[39m.\u001b[39;49mlinalg\u001b[39m.\u001b[39;49msolve(hess, jac_jac_y[:n_parms, n_parms:])\n\u001b[1;32m    418\u001b[0m \u001b[39mexcept\u001b[39;00m np\u001b[39m.\u001b[39mlinalg\u001b[39m.\u001b[39mLinAlgError:\n",
      "File \u001b[0;32m~/opt/anaconda3/envs/stat/lib/python3.11/site-packages/scipy/linalg/_basic.py:220\u001b[0m, in \u001b[0;36msolve\u001b[0;34m(a, b, lower, overwrite_a, overwrite_b, check_finite, assume_a, transposed)\u001b[0m\n\u001b[1;32m    219\u001b[0m lu, ipvt, info \u001b[39m=\u001b[39m getrf(a1, overwrite_a\u001b[39m=\u001b[39moverwrite_a)\n\u001b[0;32m--> 220\u001b[0m _solve_check(n, info)\n\u001b[1;32m    221\u001b[0m x, info \u001b[39m=\u001b[39m getrs(lu, ipvt, b1,\n\u001b[1;32m    222\u001b[0m                 trans\u001b[39m=\u001b[39mtrans, overwrite_b\u001b[39m=\u001b[39moverwrite_b)\n",
      "File \u001b[0;32m~/opt/anaconda3/envs/stat/lib/python3.11/site-packages/scipy/linalg/_basic.py:41\u001b[0m, in \u001b[0;36m_solve_check\u001b[0;34m(n, info, lamch, rcond)\u001b[0m\n\u001b[1;32m     40\u001b[0m \u001b[39melif\u001b[39;00m \u001b[39m0\u001b[39m \u001b[39m<\u001b[39m info:\n\u001b[0;32m---> 41\u001b[0m     \u001b[39mraise\u001b[39;00m LinAlgError(\u001b[39m'\u001b[39m\u001b[39mMatrix is singular.\u001b[39m\u001b[39m'\u001b[39m)\n\u001b[1;32m     43\u001b[0m \u001b[39mif\u001b[39;00m lamch \u001b[39mis\u001b[39;00m \u001b[39mNone\u001b[39;00m:\n",
      "\u001b[0;31mLinAlgError\u001b[0m: Matrix is singular.",
      "\nDuring handling of the above exception, another exception occurred:\n",
      "\u001b[0;31mException\u001b[0m                                 Traceback (most recent call last)",
      "Cell \u001b[0;32mIn[237], line 1\u001b[0m\n\u001b[0;32m----> 1\u001b[0m \u001b[43mpr\u001b[49m\u001b[38;5;241;43m.\u001b[39;49m\u001b[43mfits\u001b[49m\u001b[38;5;241;43m.\u001b[39;49m\u001b[43mleast_squares\u001b[49m\u001b[43m(\u001b[49m\u001b[43mx_fit\u001b[49m\u001b[43m,\u001b[49m\u001b[43my_fit\u001b[49m\u001b[43m,\u001b[49m\u001b[43mfunc\u001b[49m\u001b[43m)\u001b[49m\n",
      "File \u001b[0;32m~/opt/anaconda3/envs/stat/lib/python3.11/site-packages/pyerrors/fits.py:419\u001b[0m, in \u001b[0;36mleast_squares\u001b[0;34m(x, y, func, priors, silent, **kwargs)\u001b[0m\n\u001b[1;32m    417\u001b[0m     deriv_y \u001b[39m=\u001b[39m \u001b[39m-\u001b[39mscipy\u001b[39m.\u001b[39mlinalg\u001b[39m.\u001b[39msolve(hess, jac_jac_y[:n_parms, n_parms:])\n\u001b[1;32m    418\u001b[0m \u001b[39mexcept\u001b[39;00m np\u001b[39m.\u001b[39mlinalg\u001b[39m.\u001b[39mLinAlgError:\n\u001b[0;32m--> 419\u001b[0m     \u001b[39mraise\u001b[39;00m \u001b[39mException\u001b[39;00m(\u001b[39m\"\u001b[39m\u001b[39mCannot invert hessian matrix.\u001b[39m\u001b[39m\"\u001b[39m)\n\u001b[1;32m    421\u001b[0m result \u001b[39m=\u001b[39m []\n\u001b[1;32m    422\u001b[0m \u001b[39mfor\u001b[39;00m i \u001b[39min\u001b[39;00m \u001b[39mrange\u001b[39m(n_parms):\n",
      "\u001b[0;31mException\u001b[0m: Cannot invert hessian matrix."
     ]
    }
   ],
   "source": [
    "pr.fits.least_squares(x_fit,y_fit,func)"
   ]
  },
  {
   "cell_type": "markdown",
   "metadata": {},
   "source": [
    "# Fitting function"
   ]
  },
  {
   "cell_type": "code",
   "execution_count": 6,
   "metadata": {},
   "outputs": [],
   "source": [
    "corr   = Correlator(io,jkBin=11,CrossSmearing=True)\n",
    "fitter = CorrFitter(corr,smearing=['d-d','1S-1S','d-1S'])"
   ]
  },
  {
   "cell_type": "code",
   "execution_count": 40,
   "metadata": {},
   "outputs": [
    {
     "data": {
      "text/plain": [
       "[('1S-1S', 'Bot'),\n",
       " ('1S-1S', 'Par'),\n",
       " ('d-1S', 'Bot'),\n",
       " ('d-1S', 'Par'),\n",
       " ('d-d', 'Bot'),\n",
       " ('d-d', 'Par')]"
      ]
     },
     "execution_count": 40,
     "metadata": {},
     "output_type": "execute_result"
    }
   ],
   "source": [
    "self.keys"
   ]
  },
  {
   "cell_type": "code",
   "execution_count": 7,
   "metadata": {},
   "outputs": [],
   "source": [
    "prior = fitter.set_priors_phys(3)"
   ]
  },
  {
   "cell_type": "code",
   "execution_count": 8,
   "metadata": {},
   "outputs": [],
   "source": [
    "Nstates = 3\n",
    "\n",
    "pars = [gv.mean(prior['E'])]\n",
    "for (s,p) in self.keys:\n",
    "    sm1,sm2 = s.split('-')\n",
    "    mix = sm1!=sm2\n",
    "\n",
    "    k = f'Z_{sm1 if not mix else s}_{p}'\n",
    "    aux = np.insert(gv.mean(prior[k]),0,[0,0] if mix else [])\n",
    "\n",
    "    pars.append(aux)\n",
    "pars = np.array(pars)"
   ]
  },
  {
   "cell_type": "code",
   "execution_count": 9,
   "metadata": {},
   "outputs": [
    {
     "data": {
      "text/plain": [
       "array([[ 1.16470637, -1.65940441, -1.12040791, -1.12040791, -1.12040791,\n",
       "        -1.12040791],\n",
       "       [ 0.        , -1.2       ,  0.5       ,  0.5       ,  0.5       ,\n",
       "         0.5       ],\n",
       "       [ 0.        , -1.2       ,  0.5       ,  0.5       ,  0.5       ,\n",
       "         0.5       ],\n",
       "       [ 0.        ,  0.        ,  0.5       ,  0.5       ,  0.5       ,\n",
       "         0.5       ],\n",
       "       [ 0.        ,  0.        ,  0.5       ,  0.5       ,  0.5       ,\n",
       "         0.5       ],\n",
       "       [-1.93240238, -3.        ,  0.5       ,  0.5       ,  0.5       ,\n",
       "         0.5       ],\n",
       "       [-1.93240238, -5.5       ,  0.5       ,  0.5       ,  0.5       ,\n",
       "         0.5       ]])"
      ]
     },
     "execution_count": 9,
     "metadata": {},
     "output_type": "execute_result"
    }
   ],
   "source": [
    "pars"
   ]
  },
  {
   "cell_type": "code",
   "execution_count": 122,
   "metadata": {},
   "outputs": [],
   "source": [
    "# I=0  ('1S-1S', 'Bot'),\n",
    "# I=1  ('1S-1S', 'Par'),\n",
    "# I=2  ('d-1S' , 'Bot'),\n",
    "# I=3  ('d-1S' , 'Par'),\n",
    "# I=4  ('d-d'  , 'Bot'),\n",
    "# I=5  ('d-d'  , 'Par')\n",
    "\n",
    "\n",
    "#  'E':          [1.165(28), -1.66(57), -1.1(1.0), -1.1(1.0), -1.1(1.0), -1.1(1.0)],\n",
    "#  'Z_1S_Bot':   [0 ± 1.2,   -1.2(1.2),  0.5(1.5),  0.5(1.5),  0.5(3.0),  0.5(3.0)],\n",
    "#  'Z_1S_Par':   [0 ± 1.2,   -1.2(1.2),  0.5(1.5),  0.5(1.5),  0.5(3.0),  0.5(3.0)],\n",
    "#  'Z_d-1S_Bot': [_        , _        ,  0.5(1.7),  0.5(1.7),  0.5(1.7),  0.5(1.7)],\n",
    "#  'Z_d-1S_Par': [_        , _        ,  0.5(1.7),  0.5(1.7),  0.5(1.7),  0.5(1.7)],\n",
    "#  'Z_d_Bot':    [-1.93(40), -3.0(1.5),  0.5(1.5),  0.5(1.5),  0.5(3.0),  0.5(3.0)],\n",
    "#  'Z_d_Par':    [-1.93(40), -5.5(2.0),  0.5(1.5),  0.5(1.5),  0.5(3.0),  0.5(3.0)]\n",
    "\n",
    "def _model(Nstates,Nt,Npol,t,p):\n",
    "    E = [p[0,0],p[0,0]+np.exp(p[0,1])]\n",
    "    for i in range(2,2*Nstates):\n",
    "        Ei = E[i-2] + np.exp(p[0,i])\n",
    "        E.append(Ei)\n",
    "\n",
    "    aux = []\n",
    "    for i,(sm,pol) in enumerate(self.keys):\n",
    "        sm1,sm2 = sm.split('-')\n",
    "        mix = sm1!=sm2\n",
    "        \n",
    "        I  = i+1\n",
    "        I1 = I                                   if not mix else I-Npol\n",
    "        I2 = (I+2*Npol if I<=Npol else I-2*Npol) if not mix else I+Npol\n",
    "\n",
    "        ans = np.zeros(len(t))\n",
    "        ans += PeriodicExpDecay(Nt)(t,E[0],np.exp(p[I1,0])+np.exp(p[I2,0]))\n",
    "        ans += PeriodicExpDecay(Nt)(t,E[1],np.exp(p[I1,1])+np.exp(p[I2,1])) * (-1)**(t+1)\n",
    "\n",
    "        for n in range(2,2*Nstates):\n",
    "            # ans += PeriodicExpDecay(Nt)(t,E[n],p[I][n-2 if mix else n]**2) * (-1)**(n*(t+1))\n",
    "            ans += PeriodicExpDecay(Nt)(t,E[n],p[I,n]**2) * (-1)**(n*(t+1))\n",
    "\n",
    "        aux.append(ans)\n",
    "    \n",
    "    return np.array(aux)\n",
    "\n",
    "def NplusN2ptModelFlat(Nstates,Nt,Npol):\n",
    "    return lambda  t,p: _model(Nstates,Nt,Npol,t,p)\n"
   ]
  },
  {
   "cell_type": "code",
   "execution_count": 124,
   "metadata": {},
   "outputs": [],
   "source": [
    "model = NplusN2ptModelFlat(3,self.Nt,2)\n",
    "\n",
    "T = self.data.timeslice.to_numpy()\n",
    "model(T,pars);"
   ]
  },
  {
   "cell_type": "code",
   "execution_count": 127,
   "metadata": {},
   "outputs": [],
   "source": [
    "ydata = []\n",
    "for sm,pol in self.keys:\n",
    "    ydata.append(self.pycorr[sm,pol])"
   ]
  },
  {
   "cell_type": "markdown",
   "metadata": {},
   "source": [
    "# Simultaneous fit"
   ]
  },
  {
   "cell_type": "code",
   "execution_count": 121,
   "metadata": {},
   "outputs": [],
   "source": [
    "tmin = 10\n",
    "tmax = 19"
   ]
  },
  {
   "cell_type": "code",
   "execution_count": 137,
   "metadata": {},
   "outputs": [],
   "source": [
    "for k,item in self.pycorr.items():\n",
    "    for v in item:\n",
    "        v.gamma_method()\n",
    "\n",
    "x = {}\n",
    "y = {}\n",
    "for (sm,pol) in self.keys:\n",
    "    x[f'{sm}_{pol}'] = np.array(self.data.timeslice.values[tmin:tmax+1])\n",
    "    y[f'{sm}_{pol}'] = [xx for xx in np.array(self.pycorr[sm,pol][tmin:tmax+1]).T]"
   ]
  },
  {
   "cell_type": "code",
   "execution_count": 138,
   "metadata": {},
   "outputs": [],
   "source": [
    "# i=0  ('1S-1S', 'Bot'),\n",
    "# i=1  ('1S-1S', 'Par'),\n",
    "# i=2  ('d-1S' , 'Bot'),\n",
    "# i=3  ('d-1S' , 'Par'),\n",
    "# i=4  ('d-d'  , 'Bot'),\n",
    "# i=5  ('d-d'  , 'Par')\n",
    "\n",
    "# 'E':          [1.165(28), -1.66(57), -1.1(1.0), -1.1(1.0), -1.1(1.0), -1.1(1.0)],\n",
    "# 'Z_1S_Bot':   [0 ± 1.2,   -1.2(1.2),  0.5(1.5),  0.5(1.5),  0.5(3.0),  0.5(3.0)],\n",
    "# 'Z_1S_Par':   [0 ± 1.2,   -1.2(1.2),  0.5(1.5),  0.5(1.5),  0.5(3.0),  0.5(3.0)],\n",
    "# 'Z_d-1S_Bot': [_        , _        ,  0.5(1.7),  0.5(1.7),  0.5(1.7),  0.5(1.7)],\n",
    "# 'Z_d-1S_Par': [_        , _        ,  0.5(1.7),  0.5(1.7),  0.5(1.7),  0.5(1.7)],\n",
    "# 'Z_d_Bot':    [-1.93(40), -3.0(1.5),  0.5(1.5),  0.5(1.5),  0.5(3.0),  0.5(3.0)],\n",
    "# 'Z_d_Par':    [-1.93(40), -5.5(2.0),  0.5(1.5),  0.5(1.5),  0.5(3.0),  0.5(3.0)]\n",
    "\n",
    "\n",
    "\n",
    "# i=0  ('1S-1S', 'Unpol'),\n",
    "# i=1  ('d-1S' , 'Unpol'),\n",
    "# i=2  ('d-d'  , 'Unpol'),\n",
    "\n",
    "\n",
    "# 'E':            [1.165(28), -1.66(57), -1.1(1.0), -1.1(1.0), -1.1(1.0), -1.1(1.0)],\n",
    "# 'Z_1S_Unpol':   [0 ± 1.2,   -1.2(1.2),  0.5(1.5),  0.5(1.5),  0.5(3.0),  0.5(3.0)],\n",
    "# 'Z_d-1S_Unpol': [_        , _        ,  0.5(1.7),  0.5(1.7),  0.5(1.7),  0.5(1.7)],\n",
    "# 'Z_d_Unpol':    [-1.93(40), -3.0(1.5),  0.5(1.5),  0.5(1.5),  0.5(3.0),  0.5(3.0)],"
   ]
  },
  {
   "cell_type": "code",
   "execution_count": 139,
   "metadata": {},
   "outputs": [],
   "source": [
    "Nstates = 3\n",
    "rowlen  = 2*Nstates\n",
    "\n",
    "Npol = len(self.polarization)\n",
    "Nt   = self.Nt\n",
    "\n",
    "func = {}\n",
    "for i,(sm,pol) in enumerate(self.keys):\n",
    "    sm1,sm2 = sm.split('-')\n",
    "    mix = sm1!=sm2\n",
    "\n",
    "    I  = (i+1)*rowlen\n",
    "    I1 = (i+1)*rowlen if not mix else (i+1-Npol)*rowlen\n",
    "    I2 = (i+1+2*Npol if (i+1)<=Npol else i+1-2*Npol)*rowlen if not mix else (i+1+Npol)*rowlen\n",
    "    # I2 = (I+2*Npol if I<=Npol else I-2*Npol) if not mix else I+Npol\n",
    "\n",
    "    def _model(p,x):\n",
    "        E = [p[0],p[0]+np.exp(p[1])]\n",
    "        for i in range(2,2*Nstates):\n",
    "            Ei = E[i-2] + np.exp(p[i])\n",
    "            E.append(Ei)\n",
    "\n",
    "        ans = np.zeros(len(x)) if isinstance(x,np.ndarray) else 0.\n",
    "        ans += PeriodicExpDecay(Nt)(x,E[0],np.exp(p[I1])+np.exp(p[I2]))\n",
    "        ans += PeriodicExpDecay(Nt)(x,E[1],np.exp(p[I1+1])+np.exp(p[I2+1])) * (-1)**(x+1)\n",
    "\n",
    "        for n in range(2,2*Nstates):\n",
    "            # ans += PeriodicExpDecay(Nt)(t,E[n],p[I][n-2 if mix else n]**2) * (-1)**(n*(t+1))\n",
    "            ans += PeriodicExpDecay(Nt)(x,E[n],p[I+n]**2) * (-1)**(n*(x+1))\n",
    "\n",
    "        return list(ans) if isinstance(x,np.ndarray) else ans\n",
    "\n",
    "    func[f'{sm}_{pol}'] = _model"
   ]
  },
  {
   "cell_type": "code",
   "execution_count": 140,
   "metadata": {},
   "outputs": [
    {
     "ename": "AttributeError",
     "evalue": "'numpy.ndarray' object has no attribute 'value'",
     "output_type": "error",
     "traceback": [
      "\u001b[0;31m---------------------------------------------------------------------------\u001b[0m",
      "\u001b[0;31mAttributeError\u001b[0m                            Traceback (most recent call last)",
      "Cell \u001b[0;32mIn[140], line 1\u001b[0m\n\u001b[0;32m----> 1\u001b[0m \u001b[43mpr\u001b[49m\u001b[38;5;241;43m.\u001b[39;49m\u001b[43mfits\u001b[49m\u001b[38;5;241;43m.\u001b[39;49m\u001b[43mleast_squares\u001b[49m\u001b[43m(\u001b[49m\u001b[43mx\u001b[49m\u001b[43m,\u001b[49m\u001b[43my\u001b[49m\u001b[43m,\u001b[49m\u001b[43mfunc\u001b[49m\u001b[43m)\u001b[49m\n",
      "File \u001b[0;32m~/opt/anaconda3/envs/stat/lib/python3.11/site-packages/pyerrors/fits.py:203\u001b[0m, in \u001b[0;36mleast_squares\u001b[0;34m(x, y, func, priors, silent, **kwargs)\u001b[0m\n\u001b[1;32m    200\u001b[0m x_all \u001b[39m=\u001b[39m np\u001b[39m.\u001b[39mconcatenate([np\u001b[39m.\u001b[39marray(xd[key]) \u001b[39mfor\u001b[39;00m key \u001b[39min\u001b[39;00m key_ls])\n\u001b[1;32m    201\u001b[0m y_all \u001b[39m=\u001b[39m np\u001b[39m.\u001b[39mconcatenate([np\u001b[39m.\u001b[39marray(yd[key]) \u001b[39mfor\u001b[39;00m key \u001b[39min\u001b[39;00m key_ls])\n\u001b[0;32m--> 203\u001b[0m y_f \u001b[39m=\u001b[39m [o\u001b[39m.\u001b[39;49mvalue \u001b[39mfor\u001b[39;49;00m o \u001b[39min\u001b[39;49;00m y_all]\n\u001b[1;32m    204\u001b[0m dy_f \u001b[39m=\u001b[39m [o\u001b[39m.\u001b[39mdvalue \u001b[39mfor\u001b[39;00m o \u001b[39min\u001b[39;00m y_all]\n\u001b[1;32m    206\u001b[0m \u001b[39mif\u001b[39;00m \u001b[39mlen\u001b[39m(x_all\u001b[39m.\u001b[39mshape) \u001b[39m>\u001b[39m \u001b[39m2\u001b[39m:\n",
      "File \u001b[0;32m~/opt/anaconda3/envs/stat/lib/python3.11/site-packages/pyerrors/fits.py:203\u001b[0m, in \u001b[0;36m<listcomp>\u001b[0;34m(.0)\u001b[0m\n\u001b[1;32m    200\u001b[0m x_all \u001b[39m=\u001b[39m np\u001b[39m.\u001b[39mconcatenate([np\u001b[39m.\u001b[39marray(xd[key]) \u001b[39mfor\u001b[39;00m key \u001b[39min\u001b[39;00m key_ls])\n\u001b[1;32m    201\u001b[0m y_all \u001b[39m=\u001b[39m np\u001b[39m.\u001b[39mconcatenate([np\u001b[39m.\u001b[39marray(yd[key]) \u001b[39mfor\u001b[39;00m key \u001b[39min\u001b[39;00m key_ls])\n\u001b[0;32m--> 203\u001b[0m y_f \u001b[39m=\u001b[39m [o\u001b[39m.\u001b[39;49mvalue \u001b[39mfor\u001b[39;00m o \u001b[39min\u001b[39;00m y_all]\n\u001b[1;32m    204\u001b[0m dy_f \u001b[39m=\u001b[39m [o\u001b[39m.\u001b[39mdvalue \u001b[39mfor\u001b[39;00m o \u001b[39min\u001b[39;00m y_all]\n\u001b[1;32m    206\u001b[0m \u001b[39mif\u001b[39;00m \u001b[39mlen\u001b[39m(x_all\u001b[39m.\u001b[39mshape) \u001b[39m>\u001b[39m \u001b[39m2\u001b[39m:\n",
      "\u001b[0;31mAttributeError\u001b[0m: 'numpy.ndarray' object has no attribute 'value'"
     ]
    }
   ],
   "source": [
    "pr.fits.least_squares(x,y,func)"
   ]
  },
  {
   "cell_type": "code",
   "execution_count": 141,
   "metadata": {},
   "outputs": [],
   "source": [
    "xd = {key: np.asarray(x[key]) for key in x}\n",
    "yd = y\n",
    "funcd = func\n",
    "\n",
    "key_ls = sorted(list(xd.keys()))"
   ]
  },
  {
   "cell_type": "code",
   "execution_count": 142,
   "metadata": {},
   "outputs": [],
   "source": [
    "x_all = np.concatenate([np.array(xd[key]) for key in key_ls])\n",
    "y_all = np.concatenate([np.array(yd[key]) for key in key_ls])"
   ]
  },
  {
   "cell_type": "code",
   "execution_count": 147,
   "metadata": {},
   "outputs": [
    {
     "data": {
      "text/plain": [
       "array(0.000023727(67), dtype=object)"
      ]
     },
     "execution_count": 147,
     "metadata": {},
     "output_type": "execute_result"
    }
   ],
   "source": [
    "y_all[0]"
   ]
  },
  {
   "cell_type": "code",
   "execution_count": 74,
   "metadata": {},
   "outputs": [
    {
     "data": {
      "text/plain": [
       "42"
      ]
     },
     "execution_count": 74,
     "metadata": {},
     "output_type": "execute_result"
    }
   ],
   "source": [
    "len(PARS)"
   ]
  },
  {
   "cell_type": "code",
   "execution_count": 78,
   "metadata": {},
   "outputs": [
    {
     "ename": "TypeError",
     "evalue": "'numpy.float64' object is not iterable",
     "output_type": "error",
     "traceback": [
      "\u001b[0;31m---------------------------------------------------------------------------\u001b[0m",
      "\u001b[0;31mTypeError\u001b[0m                                 Traceback (most recent call last)",
      "Cell \u001b[0;32mIn[78], line 1\u001b[0m\n\u001b[0;32m----> 1\u001b[0m \u001b[43mfuncd\u001b[49m\u001b[43m[\u001b[49m\u001b[38;5;124;43m'\u001b[39;49m\u001b[38;5;124;43m1S-1S_Bot\u001b[39;49m\u001b[38;5;124;43m'\u001b[39;49m\u001b[43m]\u001b[49m\u001b[43m(\u001b[49m\u001b[43mnp\u001b[49m\u001b[38;5;241;43m.\u001b[39;49m\u001b[43marange\u001b[49m\u001b[43m(\u001b[49m\u001b[38;5;241;43m42\u001b[39;49m\u001b[43m)\u001b[49m\u001b[43m,\u001b[49m\u001b[38;5;241;43m0\u001b[39;49m\u001b[43m)\u001b[49m\n",
      "Cell \u001b[0;32mIn[51], line 31\u001b[0m, in \u001b[0;36m_model\u001b[0;34m(p, x)\u001b[0m\n\u001b[1;32m     27\u001b[0m \u001b[38;5;28;01mfor\u001b[39;00m n \u001b[38;5;129;01min\u001b[39;00m \u001b[38;5;28mrange\u001b[39m(\u001b[38;5;241m2\u001b[39m,\u001b[38;5;241m2\u001b[39m\u001b[38;5;241m*\u001b[39mNstates):\n\u001b[1;32m     28\u001b[0m     \u001b[38;5;66;03m# ans += PeriodicExpDecay(Nt)(t,E[n],p[I][n-2 if mix else n]**2) * (-1)**(n*(t+1))\u001b[39;00m\n\u001b[1;32m     29\u001b[0m     ans \u001b[38;5;241m+\u001b[39m\u001b[38;5;241m=\u001b[39m PeriodicExpDecay(Nt)(x,E[n],p[I\u001b[38;5;241m+\u001b[39mn]\u001b[38;5;241m*\u001b[39m\u001b[38;5;241m*\u001b[39m\u001b[38;5;241m2\u001b[39m) \u001b[38;5;241m*\u001b[39m (\u001b[38;5;241m-\u001b[39m\u001b[38;5;241m1\u001b[39m)\u001b[38;5;241m*\u001b[39m\u001b[38;5;241m*\u001b[39m(n\u001b[38;5;241m*\u001b[39m(x\u001b[38;5;241m+\u001b[39m\u001b[38;5;241m1\u001b[39m))\n\u001b[0;32m---> 31\u001b[0m \u001b[38;5;28;01mreturn\u001b[39;00m \u001b[38;5;28mlist\u001b[39m(ans)\n",
      "\u001b[0;31mTypeError\u001b[0m: 'numpy.float64' object is not iterable"
     ]
    }
   ],
   "source": [
    "funcd['1S-1S_Bot'](np.arange(42),0)"
   ]
  },
  {
   "cell_type": "code",
   "execution_count": 68,
   "metadata": {},
   "outputs": [
    {
     "name": "stdout",
     "output_type": "stream",
     "text": [
      "99\n",
      "99\n",
      "99\n",
      "99\n",
      "99\n",
      "99\n"
     ]
    }
   ],
   "source": [
    "for key in key_ls:\n",
    "    for n_loc in range(100):\n",
    "        try:\n",
    "            funcd[key](np.arange(n_loc),0)\n",
    "        except TypeError:\n",
    "            continue\n",
    "        except IndexError:\n",
    "            continue\n",
    "        else:\n",
    "            break\n",
    "    \n",
    "    print(n_loc)"
   ]
  },
  {
   "cell_type": "code",
   "execution_count": 58,
   "metadata": {},
   "outputs": [],
   "source": [
    "for key in key_ls:\n",
    "    for n_loc in range(100):\n",
    "            f\n",
    "            funcd[key](np.arange(n_loc), x_all.T[0])\n"
   ]
  },
  {
   "cell_type": "code",
   "execution_count": 62,
   "metadata": {},
   "outputs": [
    {
     "data": {
      "text/plain": [
       "10"
      ]
     },
     "execution_count": 62,
     "metadata": {},
     "output_type": "execute_result"
    }
   ],
   "source": [
    "x_all.T[0]"
   ]
  },
  {
   "cell_type": "code",
   "execution_count": null,
   "metadata": {},
   "outputs": [],
   "source": []
  }
 ],
 "metadata": {
  "kernelspec": {
   "display_name": "Python 3.11.4 ('stat')",
   "language": "python",
   "name": "python3"
  },
  "language_info": {
   "codemirror_mode": {
    "name": "ipython",
    "version": 3
   },
   "file_extension": ".py",
   "mimetype": "text/x-python",
   "name": "python",
   "nbconvert_exporter": "python",
   "pygments_lexer": "ipython3",
   "version": "3.11.4"
  },
  "orig_nbformat": 4,
  "vscode": {
   "interpreter": {
    "hash": "550906e9926f0f588aff226d3abadfa0c6a614c1c5eae7bfa21377021c1cb7ed"
   }
  }
 },
 "nbformat": 4,
 "nbformat_minor": 2
}
