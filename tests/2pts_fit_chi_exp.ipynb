{
 "cells": [
  {
   "cell_type": "code",
   "execution_count": 2,
   "metadata": {},
   "outputs": [],
   "source": [
    "from b2heavy.TwoPointFunctions.types2pts  import CorrelatorIO, Correlator\n",
    "from b2heavy.TwoPointFunctions.fitter     import CorrFitter\n",
    "from b2heavy.TwoPointFunctions.utils      import NplusN2ptModel, PeriodicExpDecay"
   ]
  },
  {
   "cell_type": "code",
   "execution_count": 3,
   "metadata": {},
   "outputs": [],
   "source": [
    "import math\n",
    "import autograd\n",
    "import autograd.numpy    as anp\n",
    "import numpy             as np\n",
    "import xarray            as xr\n",
    "import gvar              as gv\n",
    "import pyerrors          as pr\n",
    "import matplotlib.pyplot as plt\n",
    "\n",
    "from scipy.optimize import curve_fit"
   ]
  },
  {
   "cell_type": "code",
   "execution_count": 4,
   "metadata": {},
   "outputs": [],
   "source": [
    "ens = 'Coarse-1'\n",
    "mes = 'Dst'\n",
    "mom = '200'\n",
    "binsize = 11\n",
    "\n",
    "data_dir = '/Users/pietro/code/data_analysis/BtoD/Alex/'"
   ]
  },
  {
   "cell_type": "code",
   "execution_count": 5,
   "metadata": {},
   "outputs": [],
   "source": [
    "io     = CorrelatorIO(ens,mes,mom,PathToDataDir=data_dir)\n",
    "corr   = Correlator(io,jkBin=binsize)\n",
    "fitter = CorrFitter(corr,smearing=['d-d','1S-1S','d-1S'])"
   ]
  },
  {
   "cell_type": "code",
   "execution_count": 28,
   "metadata": {},
   "outputs": [],
   "source": [
    "NEXC = 2\n",
    "TLIM = (10,17)"
   ]
  },
  {
   "cell_type": "code",
   "execution_count": 29,
   "metadata": {},
   "outputs": [
    {
     "name": "stdout",
     "output_type": "stream",
     "text": [
      "1.1413(13)\n"
     ]
    },
    {
     "name": "stderr",
     "output_type": "stream",
     "text": [
      "/Users/pietro/opt/anaconda3/envs/stat/lib/python3.11/site-packages/autograd/tracer.py:48: RuntimeWarning: invalid value encountered in log\n",
      "  return f_raw(*args, **kwargs)\n"
     ]
    }
   ],
   "source": [
    "(X,meff,aeff), MEFF,AEFF, m_pr, apr = corr.EffectiveCoeff(trange=TLIM,covariance=False)"
   ]
  },
  {
   "cell_type": "code",
   "execution_count": 31,
   "metadata": {},
   "outputs": [
    {
     "name": "stdout",
     "output_type": "stream",
     "text": [
      "---------- 2+2 fit in (10, 17) for mes: Dst of ens: Coarse-1 for mom: 200 --------------\n",
      " De-augmented chi2/ndof [ndof] = 0.6 [25] with p-value = 0.9567649773296425\n",
      "Least Square Fit:\n",
      "  chi2/dof [dof] = 0.37 [48]    Q = 1    logGBF = 871.65\n",
      "\n",
      "Parameters:\n",
      "            E 0   1.1411 (13)     [ 1.1413 (13) ]  \n",
      "              1    -2.56 (37)     [  -1.81 (58) ]  *\n",
      "              2    -1.11 (51)     [  -1.09 (80) ]  \n",
      "              3    -2.07 (68)     [  -2.4 (2.5) ]  \n",
      "     Z_1S_Bot 0    0.165 (15)     [   0.13 (45) ]  \n",
      "              1    -0.14 (23)     [  -1.2 (1.2) ]  \n",
      "              2     0.71 (90)     [   0.5 (1.5) ]  \n",
      "              3     0.2 (1.3)     [   0.5 (1.5) ]  \n",
      "     Z_1S_Par 0    0.240 (17)     [   0.24 (39) ]  \n",
      "              1    -0.50 (35)     [  -1.2 (1.2) ]  \n",
      "              2     1.21 (94)     [   0.5 (1.5) ]  \n",
      "              3     0.4 (1.0)     [   0.5 (1.5) ]  \n",
      "   Z_d-1S_Bot 0     0.36 (27)     [   0.5 (1.7) ]  \n",
      "              1     0.28 (13)     [   0.5 (1.7) ]  \n",
      "   Z_d-1S_Par 0     0.41 (31)     [   0.5 (1.7) ]  \n",
      "              1     0.32 (14)     [   0.5 (1.7) ]  \n",
      "      Z_d_Bot 0   -1.994 (17)     [  -2.00 (28) ]  \n",
      "              1    -2.84 (47)     [  -3.0 (1.5) ]  \n",
      "              2     0.19 (15)     [   0.5 (1.5) ]  \n",
      "              3    0.116 (44)     [   0.5 (1.5) ]  \n",
      "      Z_d_Par 0   -1.909 (15)     [  -1.91 (28) ]  \n",
      "              1    -5.5 (2.0)     [  -5.5 (2.0) ]  \n",
      "              2     0.14 (12)     [   0.5 (1.5) ]  \n",
      "              3    0.120 (53)     [   0.5 (1.5) ]  \n",
      "\n",
      "Settings:\n",
      "  svdcut/n = 1e-12/0    tol = (1e-08,1e-10,1e-10*)    (itns/time = 33/0.1)\n",
      "  fitter = scipy_least_squares    method = trf\n",
      "\n"
     ]
    }
   ],
   "source": [
    "fitter.fit(\n",
    "    Nstates           = NEXC,\n",
    "    trange            = TLIM,\n",
    "    verbose           = True,\n",
    "    priors            = fitter.set_priors_phys(NEXC,Meff=MEFF,Aeff=AEFF),\n",
    "    # scale_covariance  = True,\n",
    "    # shrink_covariance = True,\n",
    "    covariance        = False,\n",
    "    override          = True\n",
    ")"
   ]
  },
  {
   "cell_type": "markdown",
   "metadata": {},
   "source": [
    "# New function"
   ]
  },
  {
   "cell_type": "code",
   "execution_count": 15,
   "metadata": {},
   "outputs": [],
   "source": [
    "def _model_single(t,p,Nstates,Nt):\n",
    "    rlen = 2*Nstates\n",
    "    ans  = anp.exp(p[rlen  ])**2   * ( anp.exp(-p[0] * t) + anp.exp(-p[0] * (Nt-t)) )\n",
    "\n",
    "    erg = [p[0]]\n",
    "    for n in range(1,2*Nstates):\n",
    "        En = anp.exp(p[n]) + erg[n - (1 if n==1 else 2)]\n",
    "        ans += anp.exp(p[rlen+n])**2 * ( anp.exp(-En*t) + anp.exp(-En*(Nt-t)) ) * (-1)**(n*(t+1))\n",
    "        erg.append(En)\n",
    "\n",
    "    return ans\n",
    "\n",
    "def model_single(Nstates,Nt):\n",
    "    return lambda x,p : _model_single(x,p,Nstates,Nt)"
   ]
  },
  {
   "cell_type": "code",
   "execution_count": 16,
   "metadata": {},
   "outputs": [],
   "source": [
    "def _model_mixed(t,p,Nstates,Nt):\n",
    "    rlen = 2*Nstates\n",
    "\n",
    "    e0,e1 = p[0],p[0]+anp.exp(p[1])\n",
    "    ans  = anp.exp(p[rlen  ]) * anp.exp(p[2*rlen  ])   * ( anp.exp(-e0 * t) + anp.exp(-e0 * (Nt-t)) )\n",
    "    ans += anp.exp(p[rlen+1]) * anp.exp(p[2*rlen+1])   * ( anp.exp(-e1 * t) + anp.exp(-e1 * (Nt-t)) ) * (-1)**(t+1)\n",
    "\n",
    "    erg = [e0,e1]\n",
    "    for n in range(2,2*Nstates):\n",
    "        En = anp.exp(p[n]) + erg[n-2]\n",
    "        ans += anp.exp(p[3*rlen+(n-2)])**2 * ( anp.exp(-En*t) + anp.exp(-En*(Nt-t)) ) * (-1)**(n*(t+1))\n",
    "\n",
    "        erg.append(En)\n",
    "    \n",
    "    return ans\n",
    "\n",
    "def model_mixed(Nstates,Nt):\n",
    "    return lambda x,p : _model_mixed(x,p,Nstates,Nt)"
   ]
  },
  {
   "cell_type": "code",
   "execution_count": 50,
   "metadata": {},
   "outputs": [],
   "source": [
    "Nstates = NEXC\n",
    "Nt      = corr.Nt\n",
    "Npol    = len(corr.data.polarization)\n",
    "\n",
    "func = {}\n",
    "for i,(sm,pol) in enumerate(fitter.keys):\n",
    "    sm1,sm2 = sm.split('-')\n",
    "    mix = sm1!=sm2\n",
    "\n",
    "    def _model(t,p):\n",
    "        rlen = 2*Nstates\n",
    "        pars = anp.array(p[:rlen])\n",
    "        if mix:\n",
    "            i1 = rlen + (i%Npol)*rlen\n",
    "            pars = anp.append(pars,p[i1:(i1+rlen)])\n",
    "\n",
    "            i2 = i1 + Npol*rlen\n",
    "            pars = anp.append(pars,p[i2:(i2+rlen)])\n",
    "\n",
    "            im = rlen + 2*Npol*rlen + (i%Npol)*(rlen-2)\n",
    "            pars = anp.append(pars,p[im:im+(rlen-2)])\n",
    "\n",
    "            return model_mixed(Nstates,Nt)(t,anp.array(pars))\n",
    "            \n",
    "        else:\n",
    "            I = rlen + (i if i<Npol else i-2)*rlen            \n",
    "            pars = anp.append(pars,p[I:(I+rlen)])\n",
    "            \n",
    "            return model_single(Nstates,Nt)(t,anp.array(pars))\n",
    "\n",
    "    func[sm,pol] = _model"
   ]
  },
  {
   "cell_type": "code",
   "execution_count": 51,
   "metadata": {},
   "outputs": [],
   "source": [
    "def dict_to_array(pdict):\n",
    "    pars = [pdict['E']]\n",
    "\n",
    "    smr = set()\n",
    "    pol = set()\n",
    "    for k in pdict:\n",
    "        if k.startswith('Z'):\n",
    "            _,sm,pl = k.split('_')\n",
    "            smr.add(sm)\n",
    "            pol.add(pl)\n",
    "\n",
    "    for s in sorted(smr):\n",
    "        for p in sorted(pol):\n",
    "            pars.append(pdict[f'Z_{s}_{p}'])\n",
    "\n",
    "    return np.concatenate(pars)\n",
    "\n",
    "pars = dict_to_array(fit.p)"
   ]
  },
  {
   "cell_type": "code",
   "execution_count": 56,
   "metadata": {},
   "outputs": [],
   "source": [
    "xdata,ydata = corr.format(trange=TLIM,smearing=['d-d','d-1S','1S-1S'])"
   ]
  },
  {
   "cell_type": "code",
   "execution_count": 78,
   "metadata": {},
   "outputs": [
    {
     "data": {
      "text/plain": [
       "array([2.73381706e-08, 5.28787046e-08, 2.87201771e-09, 2.46090569e-09,\n",
       "       2.52281889e-10, 1.30345178e-10, 2.02557759e-11, 7.75621136e-12,\n",
       "       1.55039171e-12, 5.02064484e-13, 2.73381706e-08, 5.28787046e-08,\n",
       "       2.87201771e-09, 2.46090569e-09, 2.52281889e-10, 1.30345178e-10,\n",
       "       2.02557759e-11, 7.75621136e-12, 1.55039171e-12, 5.02064484e-13,\n",
       "       2.73381706e-08, 5.28787046e-08, 2.87201771e-09, 2.46090569e-09,\n",
       "       2.52281889e-10, 1.30345178e-10, 2.02557759e-11, 7.75621136e-12,\n",
       "       1.55039171e-12, 5.02064484e-13, 2.73381706e-08, 5.28787046e-08,\n",
       "       2.87201771e-09, 2.46090569e-09, 2.52281889e-10, 1.30345178e-10,\n",
       "       2.02557759e-11, 7.75621136e-12, 1.55039171e-12, 5.02064484e-13,\n",
       "       2.73381706e-08, 5.28787046e-08, 2.87201771e-09, 2.46090569e-09,\n",
       "       2.52281889e-10, 1.30345178e-10, 2.02557759e-11, 7.75621136e-12,\n",
       "       1.55039171e-12, 5.02064484e-13, 2.73381706e-08, 5.28787046e-08,\n",
       "       2.87201771e-09, 2.46090569e-09, 2.52281889e-10, 1.30345178e-10,\n",
       "       2.02557759e-11, 7.75621136e-12, 1.55039171e-12, 5.02064484e-13])"
      ]
     },
     "execution_count": 78,
     "metadata": {},
     "output_type": "execute_result"
    }
   ],
   "source": [
    "k = ('1S-1S','Par')\n",
    "\n",
    "\n",
    "np.concatenate([func[k](xdata[k],gv.mean(pars)) for k in fitter.keys])"
   ]
  },
  {
   "cell_type": "code",
   "execution_count": 81,
   "metadata": {},
   "outputs": [
    {
     "data": {
      "text/plain": [
       "array([1.3138(26), -2.28(43), -0.93(34), -1.43(67), 0.136(20), -0.29(33),\n",
       "       1.8(1.1), 0.9(1.1), 0.231(15), -0.45(25), 0.2(1.5), 0.2(1.5),\n",
       "       -1.811(22), -2.41(38), 0.43(26), 0.17(16), -1.737(20), -6.0(2.0),\n",
       "       0.38(24), 0.28(24), 0.91(52), 0.42(34), 0.68(42), 0.67(56)],\n",
       "      dtype=object)"
      ]
     },
     "execution_count": 81,
     "metadata": {},
     "output_type": "execute_result"
    }
   ],
   "source": [
    "pars"
   ]
  },
  {
   "cell_type": "markdown",
   "metadata": {},
   "source": [
    "# New new function"
   ]
  },
  {
   "cell_type": "code",
   "execution_count": 76,
   "metadata": {},
   "outputs": [],
   "source": [
    "Nstates = NEXC\n",
    "trange  = TLIM\n",
    "Nt      = corr.Nt"
   ]
  },
  {
   "cell_type": "code",
   "execution_count": 77,
   "metadata": {},
   "outputs": [],
   "source": [
    "def _model(t,E0,Z0a,Z0b, E1,Z1a,Z1b, *high):\n",
    "    C_t  = anp.exp(Z0a) * anp.exp(Z0b) * (anp.exp(-E0*t) + anp.exp(-E0*(Nt-t)))\n",
    "    C_t += anp.exp(Z1a) * anp.exp(Z1b) * (anp.exp(-E1*t) + anp.exp(-E1*(Nt-t))) * (-1)**(t+1)\n",
    "    for n in range(2*Nstates-2):\n",
    "        C_t += high[2*n+1]**2 * ( anp.exp(-high[2*n]*t) + anp.exp(-high[2*n]*(Nt-t))) * (-1)**(n*(t+1))\n",
    "    return C_t"
   ]
  },
  {
   "cell_type": "code",
   "execution_count": 78,
   "metadata": {},
   "outputs": [],
   "source": [
    "def Smr(sm):\n",
    "    s1,s2 = sm.split('-')\n",
    "    return s1 if s1==s2 else sm \n",
    "\n",
    "def Energies(Evec):\n",
    "    erg = [Evec[0]]\n",
    "    for n in range(1,len(Evec)):\n",
    "        erg.append(anp.exp(Evec[n]) + erg[n-(1 if n==1 else 2)])\n",
    "    return erg"
   ]
  },
  {
   "cell_type": "code",
   "execution_count": 79,
   "metadata": {},
   "outputs": [],
   "source": [
    "pars_keys = ['E',*[f'Z_{Smr(sm)}_{pol}' for sm,pol in fitter.keys]]"
   ]
  },
  {
   "cell_type": "code",
   "execution_count": 86,
   "metadata": {},
   "outputs": [],
   "source": [
    "keys = [(k,exc) for exc in range(2*Nstates) for k in pars_keys if not ('-' in k and exc<2)]"
   ]
  },
  {
   "cell_type": "code",
   "execution_count": 87,
   "metadata": {},
   "outputs": [
    {
     "data": {
      "text/plain": [
       "[('E', 0),\n",
       " ('Z_1S_Bot', 0),\n",
       " ('Z_1S_Par', 0),\n",
       " ('Z_d_Bot', 0),\n",
       " ('Z_d_Par', 0),\n",
       " ('E', 1),\n",
       " ('Z_1S_Bot', 1),\n",
       " ('Z_1S_Par', 1),\n",
       " ('Z_d_Bot', 1),\n",
       " ('Z_d_Par', 1),\n",
       " ('E', 2),\n",
       " ('Z_1S_Bot', 2),\n",
       " ('Z_1S_Par', 2),\n",
       " ('Z_d-1S_Bot', 2),\n",
       " ('Z_d-1S_Par', 2),\n",
       " ('Z_d_Bot', 2),\n",
       " ('Z_d_Par', 2),\n",
       " ('E', 3),\n",
       " ('Z_1S_Bot', 3),\n",
       " ('Z_1S_Par', 3),\n",
       " ('Z_d-1S_Bot', 3),\n",
       " ('Z_d-1S_Par', 3),\n",
       " ('Z_d_Bot', 3),\n",
       " ('Z_d_Par', 3),\n",
       " ('E', 4),\n",
       " ('Z_1S_Bot', 4),\n",
       " ('Z_1S_Par', 4),\n",
       " ('Z_d-1S_Bot', 4),\n",
       " ('Z_d-1S_Par', 4),\n",
       " ('Z_d_Bot', 4),\n",
       " ('Z_d_Par', 4),\n",
       " ('E', 5),\n",
       " ('Z_1S_Bot', 5),\n",
       " ('Z_1S_Par', 5),\n",
       " ('Z_d-1S_Bot', 5),\n",
       " ('Z_d-1S_Par', 5),\n",
       " ('Z_d_Bot', 5),\n",
       " ('Z_d_Par', 5)]"
      ]
     },
     "execution_count": 87,
     "metadata": {},
     "output_type": "execute_result"
    }
   ],
   "source": [
    "keys"
   ]
  },
  {
   "cell_type": "markdown",
   "metadata": {},
   "source": []
  },
  {
   "cell_type": "code",
   "execution_count": 81,
   "metadata": {},
   "outputs": [],
   "source": [
    "def pars_from_dict(pdict):\n",
    "    erg = Energies(pdict['E'])\n",
    "    return anp.array([erg[n] if k=='E' else pdict[k][n-(2 if '-' in k else 0)] for k,n in keys])"
   ]
  },
  {
   "cell_type": "code",
   "execution_count": 103,
   "metadata": {},
   "outputs": [],
   "source": [
    "xdata,ydata = corr.format(trange=TLIM,smearing=['1S-1S','d-d','d-1S'])\n",
    "\n",
    "def flat_timeslices(xdict):\n",
    "    aux = [xdata[k]*(10**i) for i,k in enumerate(fitter.keys)]\n",
    "    return np.concatenate(aux)\n",
    "\n",
    "# print(int(math.log(x,10))-1)"
   ]
  },
  {
   "cell_type": "code",
   "execution_count": null,
   "metadata": {},
   "outputs": [],
   "source": [
    "def new_model(flatT,params):\n"
   ]
  },
  {
   "cell_type": "code",
   "execution_count": 85,
   "metadata": {},
   "outputs": [],
   "source": [
    "def flatten_model(T, params):\n",
    "    ymodel = []\n",
    "    for ik,(sm,pol) in enumerate(fitter.keys):\n",
    "        sm1,sm2 = sm.split('-')\n",
    "        \n",
    "        iipars = [ # Collect parameters for fund_phys and fund_osc\n",
    "            keys.index(('E',0)),keys.index((f'Z_{sm1}_{pol}',0)),keys.index((f'Z_{sm2}_{pol}',0)),\n",
    "            keys.index(('E',1)),keys.index((f'Z_{sm1}_{pol}',1)),keys.index((f'Z_{sm2}_{pol}',1))\n",
    "        ]\n",
    "        for exc in range(2,2*Nstates): # Collect parameters for excited states\n",
    "            iipars.extend([keys.index(('E',exc)),keys.index((f'Z_{sm if sm1!=sm2 else sm1}_{pol}',exc))])\n",
    "\n",
    "        pars = anp.array(params)[iipars]\n",
    "        park = [keys[i] for i in iipars]\n",
    "\n",
    "        ymodel.extend(_model(T[sm,pol],*pars))\n",
    "\n",
    "    return anp.array(ymodel)\n",
    "\n",
    "def wrapper_flatten_model(T,*params):\n",
    "    return wrapper_flatten_model(T,params)"
   ]
  },
  {
   "cell_type": "code",
   "execution_count": 83,
   "metadata": {},
   "outputs": [],
   "source": [
    "xdata,ydict = corr.format(trange=TLIM)\n",
    "p0 = pars_from_dict(fit.pmean)\n",
    "wrapper_flatten_model(xdata,*p0);"
   ]
  },
  {
   "cell_type": "code",
   "execution_count": 84,
   "metadata": {},
   "outputs": [
    {
     "ename": "TypeError",
     "evalue": "Grad only applies to real scalar-output functions. Try jacobian, elementwise_grad or holomorphic_grad.",
     "output_type": "error",
     "traceback": [
      "\u001b[0;31m---------------------------------------------------------------------------\u001b[0m",
      "\u001b[0;31mTypeError\u001b[0m                                 Traceback (most recent call last)",
      "Cell \u001b[0;32mIn[84], line 6\u001b[0m\n\u001b[1;32m      3\u001b[0m     dfdp\u001b[38;5;241m.\u001b[39mappend(autograd\u001b[38;5;241m.\u001b[39mgrad(wrapper_flatten_model,i))\n\u001b[1;32m      5\u001b[0m \u001b[38;5;28;01mfor\u001b[39;00m f \u001b[38;5;129;01min\u001b[39;00m dfdp:\n\u001b[0;32m----> 6\u001b[0m     \u001b[43mf\u001b[49m\u001b[43m(\u001b[49m\u001b[43mxdata\u001b[49m\u001b[43m,\u001b[49m\u001b[38;5;241;43m*\u001b[39;49m\u001b[43mp0\u001b[49m\u001b[43m)\u001b[49m\n",
      "File \u001b[0;32m~/opt/anaconda3/envs/stat/lib/python3.11/site-packages/autograd/wrap_util.py:20\u001b[0m, in \u001b[0;36munary_to_nary.<locals>.nary_operator.<locals>.nary_f\u001b[0;34m(*args, **kwargs)\u001b[0m\n\u001b[1;32m     18\u001b[0m \u001b[39melse\u001b[39;00m:\n\u001b[1;32m     19\u001b[0m     x \u001b[39m=\u001b[39m \u001b[39mtuple\u001b[39m(args[i] \u001b[39mfor\u001b[39;00m i \u001b[39min\u001b[39;00m argnum)\n\u001b[0;32m---> 20\u001b[0m \u001b[39mreturn\u001b[39;00m unary_operator(unary_f, x, \u001b[39m*\u001b[39;49mnary_op_args, \u001b[39m*\u001b[39;49m\u001b[39m*\u001b[39;49mnary_op_kwargs)\n",
      "File \u001b[0;32m~/opt/anaconda3/envs/stat/lib/python3.11/site-packages/autograd/differential_operators.py:30\u001b[0m, in \u001b[0;36mgrad\u001b[0;34m(fun, x)\u001b[0m\n\u001b[1;32m     28\u001b[0m vjp, ans \u001b[39m=\u001b[39m _make_vjp(fun, x)\n\u001b[1;32m     29\u001b[0m \u001b[39mif\u001b[39;00m \u001b[39mnot\u001b[39;00m vspace(ans)\u001b[39m.\u001b[39msize \u001b[39m==\u001b[39m \u001b[39m1\u001b[39m:\n\u001b[0;32m---> 30\u001b[0m     \u001b[39mraise\u001b[39;00m \u001b[39mTypeError\u001b[39;00m(\u001b[39m\"\u001b[39m\u001b[39mGrad only applies to real scalar-output functions. \u001b[39m\u001b[39m\"\u001b[39m\n\u001b[1;32m     31\u001b[0m                     \u001b[39m\"\u001b[39m\u001b[39mTry jacobian, elementwise_grad or holomorphic_grad.\u001b[39m\u001b[39m\"\u001b[39m)\n\u001b[1;32m     32\u001b[0m \u001b[39mreturn\u001b[39;00m vjp(vspace(ans)\u001b[39m.\u001b[39mones())\n",
      "\u001b[0;31mTypeError\u001b[0m: Grad only applies to real scalar-output functions. Try jacobian, elementwise_grad or holomorphic_grad."
     ]
    }
   ],
   "source": [
    "dfdp = []\n",
    "for i in range(1,len(p0)+1):\n",
    "    dfdp.append(autograd.grad(wrapper_flatten_model,i))\n",
    "\n",
    "for f in dfdp:\n",
    "    f(xdata,*p0)"
   ]
  },
  {
   "cell_type": "markdown",
   "metadata": {},
   "source": [
    "# New New implementation"
   ]
  },
  {
   "cell_type": "code",
   "execution_count": 33,
   "metadata": {},
   "outputs": [],
   "source": [
    "Nstates = NEXC\n",
    "trange  = TLIM\n",
    "Nt      = corr.Nt\n",
    "\n",
    "def _model(t,E0,Z0, E1,Z1, *high):\n",
    "    C_t  = Z0 * (anp.exp(-E0*t) + anp.exp(-E0*(Nt-t)))\n",
    "    C_t += Z1 * (anp.exp(-E1*t) + anp.exp(-E1*(Nt-t))) * (-1)**(t+1)\n",
    "    for n in range(2*Nstates-2):\n",
    "        C_t += high[2*n+1] * ( anp.exp(-high[2*n]*t) + anp.exp(-high[2*n]*(Nt-t))) * (-1)**(n*(t+1))\n",
    "    return C_t"
   ]
  },
  {
   "cell_type": "code",
   "execution_count": 34,
   "metadata": {},
   "outputs": [],
   "source": [
    "def Smr(sm):\n",
    "    s1,s2 = sm.split('-')\n",
    "    return s1 if s1==s2 else sm \n",
    "    \n",
    "pars_keys = ['E',*[f'Z_{Smr(sm)}_{pol}' for sm,pol in fitter.keys]]\n",
    "fpars = [(k,exc) for exc in range(2*Nstates) for k in pars_keys if not ('-' in k and exc<2)]"
   ]
  },
  {
   "cell_type": "code",
   "execution_count": 35,
   "metadata": {},
   "outputs": [],
   "source": [
    "fit = fitter.fits[Nstates,trange]\n",
    "fitpars = [fit.p[k][n-2 if ('-' in k and n>1) else n] for k,n in fpars] # questi sono tutti i parameteri srotolati"
   ]
  },
  {
   "cell_type": "code",
   "execution_count": 47,
   "metadata": {},
   "outputs": [
    {
     "data": {
      "text/plain": [
       "0.71(90)"
      ]
     },
     "execution_count": 47,
     "metadata": {},
     "output_type": "execute_result"
    }
   ],
   "source": [
    "idx = fpars.index(('Z_1S_Bot',2))\n",
    "fitpars[idx]"
   ]
  },
  {
   "cell_type": "code",
   "execution_count": 48,
   "metadata": {},
   "outputs": [
    {
     "data": {
      "text/plain": [
       "array([0.165(15), -0.14(23), 0.71(90), 0.2(1.3)], dtype=object)"
      ]
     },
     "execution_count": 48,
     "metadata": {},
     "output_type": "execute_result"
    }
   ],
   "source": [
    "fit.p['Z_1S_Bot']"
   ]
  },
  {
   "cell_type": "code",
   "execution_count": 49,
   "metadata": {},
   "outputs": [
    {
     "data": {
      "text/plain": [
       "[1.1411(13),\n",
       " 1.617(55),\n",
       " 1.218(28),\n",
       " 0.36(25),\n",
       " 1.47(17),\n",
       " 11(21),\n",
       " 1.344(80),\n",
       " 2.2(4.5)]"
      ]
     },
     "execution_count": 49,
     "metadata": {},
     "output_type": "execute_result"
    }
   ],
   "source": [
    "# dato una chiave (sm,pol) devo chiamare _model() con i parametri giusti\n",
    "def pars_from_key(sm,pol):\n",
    "    sm1,sm2 = sm.split('-')\n",
    "    \n",
    "    E0  = fitpars[fpars.index(('E',0))]\n",
    "    z0a = fitpars[fpars.index((f'Z_{sm1}_{pol}',0))]\n",
    "    z0b = fitpars[fpars.index((f'Z_{sm2}_{pol}',0))]\n",
    "    Z0 = anp.exp( z0a ) * anp.exp( z0b )\n",
    "   \n",
    "    E1 = E0 + anp.exp(fitpars[fpars.index(('E',1))])\n",
    "    z1a = fitpars[fpars.index((f'Z_{sm1}_{pol}',1))]\n",
    "    z1b = fitpars[fpars.index((f'Z_{sm2}_{pol}',1))]\n",
    "    Z1 = anp.exp( z1a ) * anp.exp( z1b )\n",
    "    \n",
    "    erg = [E0,E1]\n",
    "\n",
    "    p = [E0,Z0,E1,Z1]\n",
    "    for n in range(2,2*Nstates):\n",
    "        erg.append(\n",
    "            erg[n-2] + anp.exp(fitpars[fpars.index(('E',n))])\n",
    "        )\n",
    "        Zn = anp.exp( fitpars[fpars.index((f'Z_{sm if sm1!=sm2 else sm1}_{pol}',n))] )**2\n",
    "        p.extend([erg[-1],Zn])\n",
    "\n",
    "    return p\n",
    "\n"
   ]
  },
  {
   "cell_type": "code",
   "execution_count": 53,
   "metadata": {},
   "outputs": [
    {
     "data": {
      "text/plain": [
       "array([1.74(65)e-05, 8.2(2.2)e-06, 1.69(41)e-06, 7.4(1.3)e-07,\n",
       "       1.70(27)e-07, 7.06(84)e-08, 1.74(18)e-08, 6.87(53)e-09],\n",
       "      dtype=object)"
      ]
     },
     "execution_count": 53,
     "metadata": {},
     "output_type": "execute_result"
    }
   ],
   "source": [
    "_model(fit.x[0],*pars_from_key('1S-1S','Par'))"
   ]
  },
  {
   "cell_type": "code",
   "execution_count": 54,
   "metadata": {},
   "outputs": [
    {
     "data": {
      "text/plain": [
       "array([1.165(18)e-05, 6.127(78)e-06, 1.238(23)e-06, 6.056(92)e-07,\n",
       "       1.309(35)e-07, 6.02(14)e-08, 1.378(44)e-08, 6.01(17)e-09,\n",
       "       1.641(20)e-05, 6.469(77)e-06, 1.680(27)e-06, 6.43(10)e-07,\n",
       "       1.728(40)e-07, 6.45(15)e-08, 1.780(50)e-08, 6.49(19)e-09,\n",
       "       1.459(17)e-06, 6.864(75)e-07, 1.538(17)e-07, 6.732(73)e-08,\n",
       "       1.615(24)e-08, 6.67(10)e-09, 1.687(31)e-09, 6.66(13)e-10,\n",
       "       1.992(21)e-06, 7.262(83)e-07, 2.052(21)e-07, 7.192(81)e-08,\n",
       "       2.113(28)e-08, 7.20(10)e-09, 2.173(33)e-09, 7.26(12)e-10,\n",
       "       1.830(16)e-07, 7.925(78)e-08, 1.886(22)e-08, 7.671(95)e-09,\n",
       "       1.954(32)e-09, 7.56(14)e-10, 2.024(41)e-10, 7.53(17)e-11,\n",
       "       2.302(19)e-07, 8.513(86)e-08, 2.382(26)e-08, 8.41(10)e-09,\n",
       "       2.459(38)e-09, 8.41(15)e-10, 2.531(44)e-10, 8.47(17)e-11],\n",
       "      dtype=object)"
      ]
     },
     "execution_count": 54,
     "metadata": {},
     "output_type": "execute_result"
    }
   ],
   "source": [
    "fit.fcn(fit.x,fit.p)"
   ]
  },
  {
   "cell_type": "markdown",
   "metadata": {},
   "source": [
    "# New implementation"
   ]
  },
  {
   "cell_type": "code",
   "execution_count": 8,
   "metadata": {},
   "outputs": [],
   "source": []
  },
  {
   "cell_type": "code",
   "execution_count": 84,
   "metadata": {},
   "outputs": [],
   "source": [
    "def _model_other(t,E0,Z0a,Z0b, E1,Z1a,Z1b, *high):\n",
    "    C_t  = anp.exp(Z0a) * anp.exp(Z0b) * (anp.exp(-E0*t) + anp.exp(-E0*(Nt-t)))\n",
    "    C_t += anp.exp(Z1a) * anp.exp(Z1b) * (anp.exp(-E1*t) + anp.exp(-E1*(Nt-t))) * (-1)**(t+1)\n",
    "    for n in range(2*Nstates-2):\n",
    "        C_t += high[2*n+1]**2 * ( anp.exp(-high[2*n]*t) + anp.exp(-high[2*n]*(Nt-t))) * (-1)**(n*(t+1))\n",
    "    return C_t"
   ]
  },
  {
   "cell_type": "code",
   "execution_count": 9,
   "metadata": {},
   "outputs": [],
   "source": [
    "def Smr(sm):\n",
    "    s1,s2 = sm.split('-')\n",
    "    return s1 if s1==s2 else sm \n",
    "    \n",
    "pars_keys = ['E',*[f'Z_{Smr(sm)}_{pol}' for sm,pol in fitter.keys]]\n",
    "flat_pars = [(k,exc) for exc in range(2*Nstates) for k in pars_keys if not ('-' in k and exc<2)]"
   ]
  },
  {
   "cell_type": "code",
   "execution_count": 55,
   "metadata": {},
   "outputs": [],
   "source": [
    "def flat_model(tau,p):\n",
    "    ik = int(math.log10(tau))-1 # fitter.keys[ik] gives (smr,pol)\n",
    "\n",
    "    sm,pol = fitter.keys[ik]\n",
    "    s1,s2 = sm.split('-')\n",
    "    mix = s1!=s2\n",
    "\n",
    "    # Fetch and build energies from p\n",
    "    En = [p[flat_pars.index(('E',0))]]\n",
    "    for n in range(1,2*Nstates):\n",
    "        En.append(\n",
    "            En[0 if n==1 else n-2] + anp.exp( p[flat_pars.index(('E',n))] )\n",
    "        )\n",
    "\n",
    "    # Fetch and build overlap coeffs from p\n",
    "    Z0 = anp.exp(p[flat_pars.index( (f'Z_{s1}_{pol}',0) )]) * anp.exp(p[flat_pars.index( (f'Z_{s2}_{pol}',0) )])\n",
    "    Z1 = anp.exp(p[flat_pars.index( (f'Z_{s1}_{pol}',1) )]) * anp.exp(p[flat_pars.index( (f'Z_{s2}_{pol}',1) )])\n",
    "\n",
    "    high = []\n",
    "    for n in range(2,2*Nstates):\n",
    "        Z = anp.exp(p[flat_pars.index( (f'Z_{sm if mix else s1}_{pol}',n) )])\n",
    "        high.extend([En[n],Z**2])\n",
    "\n",
    "    # Rebuild original time\n",
    "    t = tau/10**ik\n",
    "\n",
    "    # return _model(t,En[0],Z0,En[1],Z1,*high) \n",
    "    return [En[0],Z0,En[1],Z1,*high]   "
   ]
  },
  {
   "cell_type": "code",
   "execution_count": 79,
   "metadata": {},
   "outputs": [
    {
     "name": "stdout",
     "output_type": "stream",
     "text": [
      "1S-1S Bot\n"
     ]
    }
   ],
   "source": [
    "fit = fitter.fits[Nstates,trange]\n",
    "pp = [fit.p[k][n-2 if ('-' in k and n>1) else n] for k,n in flat_pars]\n",
    "\n",
    "E0,Z0,E1,Z1,E2,Z2,E3,Z3,E4,Z4,E5,Z5 = flat_model(10,pp)"
   ]
  },
  {
   "cell_type": "code",
   "execution_count": 81,
   "metadata": {},
   "outputs": [],
   "source": [
    "def flat_timeslices(xdict):\n",
    "    aux = [xdata[k]*(10**i) for i,k in enumerate(fitter.keys)]\n",
    "    return np.concatenate(aux)"
   ]
  },
  {
   "cell_type": "code",
   "execution_count": 82,
   "metadata": {},
   "outputs": [
    {
     "data": {
      "text/plain": [
       "array([1.166(18)e-05, 6.120(78)e-06, 1.231(24)e-06, 6.082(92)e-07,\n",
       "       1.298(36)e-07, 6.07(14)e-08, 1.365(45)e-08, 6.09(17)e-09,\n",
       "       1.430(53)e-09, 6.12(20)e-10, 1.640(20)e-05, 6.468(76)e-06,\n",
       "       1.682(27)e-06, 6.473(95)e-07, 1.736(38)e-07, 6.52(14)e-08,\n",
       "       1.793(47)e-08, 6.59(17)e-09, 1.851(53)e-09, 6.68(19)e-10,\n",
       "       1.457(17)e-06, 6.865(77)e-07, 1.546(25)e-07, 6.746(95)e-08,\n",
       "       1.620(32)e-08, 6.73(13)e-09, 1.687(37)e-09, 6.77(15)e-10,\n",
       "       1.752(42)e-10, 6.83(16)e-11, 1.991(22)e-06, 7.263(85)e-07,\n",
       "       2.059(30)e-07, 7.20(11)e-08, 2.121(38)e-08, 7.25(14)e-09,\n",
       "       2.180(42)e-09, 7.36(16)e-10, 2.239(44)e-10, 7.48(16)e-11,\n",
       "       1.830(16)e-07, 7.920(80)e-08, 1.884(27)e-08, 7.69(11)e-09,\n",
       "       1.947(34)e-09, 7.65(15)e-10, 2.014(48)e-10, 7.70(18)e-11,\n",
       "       2.082(62)e-11, 7.78(21)e-12, 2.303(19)e-07, 8.512(87)e-08,\n",
       "       2.377(31)e-08, 8.41(12)e-09, 2.449(40)e-09, 8.46(16)e-10,\n",
       "       2.520(51)e-10, 8.57(18)e-11, 2.591(60)e-11, 8.71(20)e-12],\n",
       "      dtype=object)"
      ]
     },
     "execution_count": 82,
     "metadata": {},
     "output_type": "execute_result"
    }
   ],
   "source": [
    "fit.fcn(fit.x,fit.p)"
   ]
  },
  {
   "cell_type": "code",
   "execution_count": null,
   "metadata": {},
   "outputs": [],
   "source": []
  }
 ],
 "metadata": {
  "kernelspec": {
   "display_name": "Python 3.11.4 ('stat')",
   "language": "python",
   "name": "python3"
  },
  "language_info": {
   "codemirror_mode": {
    "name": "ipython",
    "version": 3
   },
   "file_extension": ".py",
   "mimetype": "text/x-python",
   "name": "python",
   "nbconvert_exporter": "python",
   "pygments_lexer": "ipython3",
   "version": "3.11.4"
  },
  "orig_nbformat": 4,
  "vscode": {
   "interpreter": {
    "hash": "550906e9926f0f588aff226d3abadfa0c6a614c1c5eae7bfa21377021c1cb7ed"
   }
  }
 },
 "nbformat": 4,
 "nbformat_minor": 2
}
