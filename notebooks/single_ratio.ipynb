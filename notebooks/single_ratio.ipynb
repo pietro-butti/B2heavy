{
 "cells": [
  {
   "cell_type": "code",
   "execution_count": 50,
   "metadata": {},
   "outputs": [],
   "source": [
    "import numpy             as np\n",
    "import gvar              as gv\n",
    "import matplotlib.pyplot as plt\n",
    "import lsqfit\n",
    "import itertools\n",
    "from tqdm import tqdm"
   ]
  },
  {
   "cell_type": "code",
   "execution_count": 51,
   "metadata": {},
   "outputs": [],
   "source": [
    "from b2heavy.FnalHISQMetadata import params as mData"
   ]
  },
  {
   "cell_type": "code",
   "execution_count": 52,
   "metadata": {},
   "outputs": [],
   "source": [
    "from b2heavy.ThreePointFunctions.types3pts  import Ratio, RatioIO, ratio_prerequisites, find_eps_cut\n",
    "from b2heavy.ThreePointFunctions.fitter3pts import RatioFitter, phys_energy_priors\n",
    "from b2heavy.ThreePointFunctions.utils      import read_config_fit, dump_fit_object"
   ]
  },
  {
   "cell_type": "code",
   "execution_count": 53,
   "metadata": {},
   "outputs": [],
   "source": [
    "DATA_DIR = '/Users/pietro/code/data_analysis/BtoD/Alex/'\n",
    "DATA_2PT = '/Users/pietro/code/data_analysis/data/QCDNf2p1stag/B2heavy/report'\n",
    "\n",
    "BINSIZE  = {\n",
    "    'MediumCoarse':13,\n",
    "    'Coarse-2':    16,\n",
    "    'Coarse-1':    11,\n",
    "    'Coarse-Phys': 19,\n",
    "    'Fine-1':      16,\n",
    "    'Fine-Phys':   16,\n",
    "    'SuperFine':   22\n",
    "}"
   ]
  },
  {
   "cell_type": "code",
   "execution_count": 75,
   "metadata": {},
   "outputs": [],
   "source": [
    "ENSEMBLE = 'Coarse-Phys'\n",
    "RATIO    = 'xfstpar'\n",
    "MOMENTUM = '100'\n",
    "\n",
    "# SMSLIST  = ['1S','RW']\n",
    "SMSLIST  = ['1S', 'RW']"
   ]
  },
  {
   "cell_type": "code",
   "execution_count": 76,
   "metadata": {},
   "outputs": [],
   "source": [
    "# Correlation matrix specifics\n",
    "DIAG   = False\n",
    "BLOCK  = False\n",
    "SCALE  = True\n",
    "SHRINK = True\n",
    "SVD    = 1E-12"
   ]
  },
  {
   "cell_type": "code",
   "execution_count": 77,
   "metadata": {},
   "outputs": [],
   "source": [
    "# Specifics of the analysis\n",
    "TMIN    = 3\n",
    "NSTATES = 2\n",
    "WPRIORS = True\n",
    "JKFIT   = False"
   ]
  },
  {
   "cell_type": "markdown",
   "metadata": {},
   "source": [
    "In the following we look for requisites for the ratio calculation"
   ]
  },
  {
   "cell_type": "code",
   "execution_count": 78,
   "metadata": {},
   "outputs": [
    {
     "data": {
      "text/plain": [
       "{'E0': None,\n",
       " 'm0': None,\n",
       " 'Z0': None,\n",
       " 'Zpar': None,\n",
       " 'Zbot': None,\n",
       " 'wrecoil': None}"
      ]
     },
     "execution_count": 78,
     "metadata": {},
     "output_type": "execute_result"
    }
   ],
   "source": [
    "requisites = ratio_prerequisites(\n",
    "    ens      = ENSEMBLE,\n",
    "    ratio    = RATIO,\n",
    "    mom      = MOMENTUM,\n",
    "    readfrom = DATA_2PT,\n",
    "    jk       = JKFIT\n",
    ")\n",
    "\n",
    "requisites"
   ]
  },
  {
   "cell_type": "markdown",
   "metadata": {},
   "source": [
    "Here we initialize the master object that contains a ratio at given momentum for a given ensemble"
   ]
  },
  {
   "cell_type": "code",
   "execution_count": 79,
   "metadata": {},
   "outputs": [],
   "source": [
    "io = RatioIO(ENSEMBLE,RATIO,MOMENTUM,PathToDataDir=DATA_DIR)\n",
    "robj = RatioFitter(\n",
    "    io,\n",
    "    jkBin     = BINSIZE[ENSEMBLE],\n",
    "    smearing  = SMSLIST,\n",
    "    readfrom  = DATA_2PT,\n",
    "    **requisites\n",
    ")"
   ]
  },
  {
   "cell_type": "code",
   "execution_count": 80,
   "metadata": {},
   "outputs": [],
   "source": [
    "trange = (TMIN, robj.Ta-TMIN-1)"
   ]
  },
  {
   "cell_type": "markdown",
   "metadata": {},
   "source": [
    "Here we elaborate the optimal $\\epsilon$ cut for correlation matrix"
   ]
  },
  {
   "cell_type": "code",
   "execution_count": 81,
   "metadata": {},
   "outputs": [
    {
     "data": {
      "text/plain": [
       "{'diag': False, 'block': False, 'scale': True, 'shrink': True, 'cutsvd': 1e-12}"
      ]
     },
     "execution_count": 81,
     "metadata": {},
     "output_type": "execute_result"
    }
   ],
   "source": [
    "cov_specs = dict(\n",
    "    diag   = DIAG  ,\n",
    "    block  = BLOCK ,\n",
    "    scale  = SCALE ,\n",
    "    shrink = SHRINK,\n",
    "    # cutsvd = find_eps_cut(robj,trange)\n",
    "    cutsvd = 1E-12\n",
    ")\n",
    "\n",
    "cov_specs"
   ]
  },
  {
   "cell_type": "markdown",
   "metadata": {},
   "source": [
    "Here we compute fit priors"
   ]
  },
  {
   "cell_type": "code",
   "execution_count": 82,
   "metadata": {},
   "outputs": [
    {
     "data": {
      "text/plain": [
       "{'ratio': [-0.05(10)],\n",
       " 'dE_src': [-0.9(1.0), -0.5(1.0)],\n",
       " 'A_1S': [0 ± 1.0, 0 ± 1.0],\n",
       " 'B_1S': [0 ± 1.0, 0 ± 1.0],\n",
       " 'A_RW': [0 ± 1.0, 0 ± 1.0],\n",
       " 'B_RW': [0 ± 1.0, 0 ± 1.0]}"
      ]
     },
     "execution_count": 82,
     "metadata": {},
     "output_type": "execute_result"
    }
   ],
   "source": [
    "dE_src = phys_energy_priors(ENSEMBLE,'Dst',MOMENTUM,NSTATES,readfrom=DATA_2PT)\n",
    "dE_snk = phys_energy_priors(ENSEMBLE,'B'  ,MOMENTUM,NSTATES,readfrom=DATA_2PT)\n",
    "\n",
    "x,ydata = robj.format(trange,flatten=True)\n",
    "f_0    = gv.gvar(np.mean(ydata).mean,0.1)\n",
    "# f_0    = gv.gvar(np.mean(ydata).mean,np.mean(ydata).sdev*3.)\n",
    "\n",
    "pr = robj.priors(NSTATES, K=f_0, dE_src=dE_src, dE_snk=dE_snk)\n",
    "\n",
    "pr"
   ]
  },
  {
   "cell_type": "markdown",
   "metadata": {},
   "source": [
    "Here we perform the fit"
   ]
  },
  {
   "cell_type": "code",
   "execution_count": 83,
   "metadata": {},
   "outputs": [
    {
     "name": "stdout",
     "output_type": "stream",
     "text": [
      "# ---------- chi^2_exp analysis -------------\n",
      "# chi2_exp = 11.999999999999824 +/- 4.898979485566362 \n",
      "# p-value [eval] = 0.8758\n",
      "# p-value [MC]   = 0.8784\n",
      "# ---------- 2+2 fit in (3, 8) for mes: XFSTPAR of ens: Coarse-Phys for mom: 100 --------------\n",
      "Least Square Fit:\n",
      "  chi2/dof [dof] = 0.56 [12]    Q = 0.88    logGBF = 48.557\n",
      "\n",
      "Parameters:\n",
      "        ratio 0   -0.0528 (84)      [ -0.05 (10) ]  \n",
      "       dE_src 0     -1.28 (85)      [ -0.9 (1.0) ]  \n",
      "              1     -0.43 (89)      [ -0.5 (1.0) ]  \n",
      "         A_1S 0     -0.26 (49)      [    0 ± 1.0 ]  \n",
      "              1     -0.01 (80)      [    0 ± 1.0 ]  \n",
      "         B_1S 0      0.10 (56)      [    0 ± 1.0 ]  \n",
      "              1      0.03 (97)      [    0 ± 1.0 ]  \n",
      "         A_RW 0     -0.08 (61)      [    0 ± 1.0 ]  \n",
      "              1      0.74 (83)      [    0 ± 1.0 ]  \n",
      "         B_RW 0      0.33 (67)      [    0 ± 1.0 ]  \n",
      "              1     -0.03 (97)      [    0 ± 1.0 ]  \n",
      "\n",
      "Settings:\n",
      "  svdcut/n = 0/0    tol = (1e-08,1e-10,1e-10*)    (itns/time = 36/0.0)\n",
      "  fitter = scipy_least_squares    method = trf\n",
      "\n",
      "# red chi2       = 5.84\n",
      "# aug chi2       = 6.71\n",
      "# chi2_exp       = 12.00\n",
      "# chi2/chi_exp   = 0.56\n",
      "# p-value (exp)  = 0.88\n",
      "# p-value (std)  = 0.02\n"
     ]
    }
   ],
   "source": [
    "fit = robj.fit(\n",
    "    Nstates = NSTATES,\n",
    "    trange  = trange,\n",
    "    priors  = pr,\n",
    "    verbose = False,\n",
    "    **cov_specs,\n",
    ")\n",
    "\n",
    "res = robj.fit_result(\n",
    "    Nexc   = NSTATES,\n",
    "    trange = trange,\n",
    "    verbose = True,\n",
    "    priors = pr \n",
    ")"
   ]
  },
  {
   "cell_type": "code",
   "execution_count": 84,
   "metadata": {},
   "outputs": [
    {
     "name": "stderr",
     "output_type": "stream",
     "text": [
      "No artists with labels found to put in legend.  Note that artists whose label start with an underscore are ignored when legend() is called with no argument.\n"
     ]
    },
    {
     "data": {
      "image/png": "[encoded data removed]",
      "text/plain": [
       "<Figure size 600x600 with 1 Axes>"
      ]
     },
     "metadata": {},
     "output_type": "display_data"
    }
   ],
   "source": [
    "plt.rcParams['text.usetex'] = True\n",
    "plt.rcParams['font.size'] = 12\n",
    "\n",
    "# f, ax = plt.subplots(1,1,figsize=(8,4))\n",
    "f, ax = plt.subplots(1,1,figsize=(6,6))\n",
    "\n",
    "robj.plot_fit(ax,NSTATES,trange)\n",
    "\n",
    "f0 = pr['ratio'][0]\n",
    "ax.axhspan(ymin=f0.mean-f0.sdev,ymax=f0.mean+f0.sdev,alpha=0.1,color='gray')\n",
    "\n",
    "# ax.set_xlim(-0.5,18)\n",
    "ax.grid(alpha=0.2)\n",
    "ax.legend()\n",
    "ax.set_title(f'{ENSEMBLE}_{RATIO}_{MOMENTUM}')\n",
    "plt.tight_layout()\n",
    "# plt.savefig('/Users/pietro/Desktop/bad_ratio.pdf')"
   ]
  },
  {
   "cell_type": "markdown",
   "metadata": {},
   "source": [
    "# Model average for `Nstates` and trange"
   ]
  },
  {
   "cell_type": "code",
   "execution_count": 85,
   "metadata": {},
   "outputs": [
    {
     "name": "stdout",
     "output_type": "stream",
     "text": [
      "Nstates=1,tmin=1\n",
      "# ---------- chi^2_exp analysis -------------\n",
      "# chi2_exp = 19.99999999999999 +/- 6.324555320336728 \n",
      "# p-value [eval] = 0.9809\n",
      "# p-value [MC]   = 0.9779\n",
      "Nstates=1,tmin=2\n",
      "# ---------- chi^2_exp analysis -------------\n",
      "# chi2_exp = 16.000000000000007 +/- 5.656854249492386 \n",
      "# p-value [eval] = 0.9608\n",
      "# p-value [MC]   = 0.9605\n",
      "Nstates=1,tmin=3\n",
      "# ---------- chi^2_exp analysis -------------\n",
      "# chi2_exp = 12.000000000000007 +/- 4.898979485566363 \n",
      "# p-value [eval] = 0.8374\n",
      "# p-value [MC]   = 0.8352999999999999\n",
      "Nstates=1,tmin=4\n",
      "# ---------- chi^2_exp analysis -------------\n",
      "# chi2_exp = 7.999999999999979 +/- 4.000000000000008 \n",
      "# p-value [eval] = 0.9863\n",
      "# p-value [MC]   = 0.9874\n",
      "Nstates=2,tmin=1\n",
      "# ---------- chi^2_exp analysis -------------\n",
      "# chi2_exp = 20.00000000000067 +/- 6.324555320336736 \n",
      "# p-value [eval] = 0.9889\n",
      "# p-value [MC]   = 0.99\n",
      "Nstates=2,tmin=2\n",
      "# ---------- chi^2_exp analysis -------------\n",
      "# chi2_exp = 15.999999999999787 +/- 5.656854249492387 \n",
      "# p-value [eval] = 0.9632\n",
      "# p-value [MC]   = 0.9666\n",
      "Nstates=2,tmin=3\n",
      "# ---------- chi^2_exp analysis -------------\n",
      "# chi2_exp = 11.999999999999824 +/- 4.898979485566362 \n",
      "# p-value [eval] = 0.8709\n",
      "# p-value [MC]   = 0.8747\n",
      "Nstates=2,tmin=4\n",
      "# ---------- chi^2_exp analysis -------------\n",
      "# chi2_exp = 7.999999999999792 +/- 4.000000000000008 \n",
      "# p-value [eval] = 0.9886\n",
      "# p-value [MC]   = 0.9862\n",
      "Nstates=3,tmin=1\n",
      "# ---------- chi^2_exp analysis -------------\n",
      "# chi2_exp = 20.00000000000269 +/- 6.324555320336736 \n",
      "# p-value [eval] = 0.9918\n",
      "# p-value [MC]   = 0.9931\n",
      "Nstates=3,tmin=2\n",
      "# ---------- chi^2_exp analysis -------------\n",
      "# chi2_exp = 16.000000000000632 +/- 5.656854249492385 \n",
      "# p-value [eval] = 0.971\n",
      "# p-value [MC]   = 0.9709\n",
      "Nstates=3,tmin=3\n",
      "# ---------- chi^2_exp analysis -------------\n",
      "# chi2_exp = 11.999999999999895 +/- 4.898979485566362 \n",
      "# p-value [eval] = 0.9207\n",
      "# p-value [MC]   = 0.9148000000000001\n",
      "Nstates=3,tmin=4\n",
      "# ---------- chi^2_exp analysis -------------\n",
      "# chi2_exp = 7.999999999999853 +/- 4.000000000000007 \n",
      "# p-value [eval] = 0.9933\n",
      "# p-value [MC]   = 0.9935\n"
     ]
    }
   ],
   "source": [
    "TIC = {}\n",
    "pval = {}\n",
    "for Nstates in [1,2,3]:\n",
    "    dE_src = phys_energy_priors(ENSEMBLE,'Dst',MOMENTUM,Nstates,readfrom=DATA_2PT)\n",
    "    dE_snk = phys_energy_priors(ENSEMBLE,'B'  ,MOMENTUM,Nstates,readfrom=DATA_2PT)\n",
    "    x,ydata = robj.format(trange,flatten=True)\n",
    "    f_0    = gv.gvar(np.mean(ydata).mean,0.05)\n",
    "    pr = robj.priors(Nstates, K=f_0, dE_src=dE_src, dE_snk=dE_snk)\n",
    "\n",
    "    for tmin in [1,2,3,4]:\n",
    "        print(f'{Nstates=},{tmin=}')\n",
    "\n",
    "        trange = (tmin, robj.Ta-tmin-1)\n",
    "\n",
    "        fit = robj.fit(\n",
    "            Nstates = Nstates,\n",
    "            trange  = trange,\n",
    "            priors  = pr,\n",
    "            verbose = False,\n",
    "            **cov_specs\n",
    "        )\n",
    "\n",
    "        res = robj.fit_result(\n",
    "            Nexc   = Nstates,\n",
    "            trange = trange,\n",
    "            priors = pr,\n",
    "            verbose = False\n",
    "        )\n",
    "        TIC[Nstates,trange] = float((res['chi2aug'] - 2*res['chiexp']))\n",
    "        pval[Nstates,trange] = res['pstd']"
   ]
  },
  {
   "cell_type": "code",
   "execution_count": 86,
   "metadata": {},
   "outputs": [
    {
     "name": "stdout",
     "output_type": "stream",
     "text": [
      "-0.0560(72) 0.0015014913363078726\n"
     ]
    }
   ],
   "source": [
    "norm = np.exp(-np.array(list(TIC.values()))/2).sum()\n",
    "\n",
    "vals = np.array([f.p['ratio'][0] for k,f in robj.fits.items()])\n",
    "weig = np.array([np.exp(-TIC[k]/2)/norm for k in robj.fits]   )\n",
    "\n",
    "stat = sum(vals * weig)\n",
    "syst = np.sqrt(gv.mean(sum(weig*vals*vals) - (sum(weig*vals))**2))\n",
    "\n",
    "\n",
    "print(stat,syst)"
   ]
  },
  {
   "cell_type": "markdown",
   "metadata": {},
   "source": [
    "Print the results"
   ]
  },
  {
   "cell_type": "code",
   "execution_count": 87,
   "metadata": {},
   "outputs": [
    {
     "data": {
      "image/png": "[encoded data removed]",
      "text/plain": [
       "<Figure size 400x400 with 3 Axes>"
      ]
     },
     "metadata": {},
     "output_type": "display_data"
    }
   ],
   "source": [
    "f, ax = plt.subplots(2,1,figsize=(4,4),gridspec_kw={'height_ratios': [3, 1]},sharex=True)\n",
    "\n",
    "ts      = np.array([1,2,3,4])\n",
    "tranges = [((t,robj.Ta-t-1)) for t in ts]\n",
    "\n",
    "ax2 = ax[1].twinx()\n",
    "\n",
    "for i,n in enumerate([1,2,3]):\n",
    "    f0 = [robj.fits[n,tr].p['ratio'][0] for tr in tranges]\n",
    "    off = -0.05*i + 0.05\n",
    "    ax[0].errorbar(ts+off,gv.mean(f0),gv.sdev(f0),fmt='o', color=f'C{i}', capsize=2.5, label=f'({n+1}+{n+1})')\n",
    "\n",
    "    tic = [np.exp(-TIC[n,tr]/2)/norm for tr in tranges]\n",
    "    ax[1].plot(ts,tic,alpha=0.1,color=f'C{i}')\n",
    "    # ax[1].scatter(ts,tic,marker='o',color=f'C{i}')\n",
    "\n",
    "    pv = [pval[n,tr] for tr in tranges]\n",
    "    ax2.scatter(ts,pv,color=f'C{i}',marker='.')\n",
    "\n",
    "\n",
    "ax[0].axhspan(ymin=stat.mean-stat.sdev,ymax=stat.mean+stat.sdev,color='gray',alpha=0.2,label='model average')\n",
    "err = np.sqrt(stat.sdev**2+syst**2)\n",
    "ax[0].axhline(stat.mean-err,color='gray',alpha=0.2,linestyle=':')\n",
    "ax[0].axhline(stat.mean+err,color='gray',alpha=0.2,linestyle=':')\n",
    "\n",
    "ax[0].grid(alpha=0.2)\n",
    "ax[0].legend(loc='lower right')\n",
    "ax[0].set_ylabel(r'$F_0$')\n",
    "\n",
    "ax[1].grid(alpha=0.2)\n",
    "# ax[1].set_ylim(-0.1,1.1)\n",
    "ax[1].set_ylabel(r'TIC weight')\n",
    "ax[1].set_xlabel(r'$\\frac{t_{min}}{a}$')\n",
    "\n",
    "ax2.set_ylabel(r'$p$-value')\n",
    "\n",
    "ax[0].set_title(f'{ENSEMBLE}_{RATIO}')\n",
    "\n",
    "plt.tight_layout()\n",
    "plt.savefig(f'/Users/pietro/Desktop/model_average_{ENSEMBLE}_{RATIO}_{MOMENTUM}.pdf')"
   ]
  },
  {
   "cell_type": "code",
   "execution_count": null,
   "metadata": {},
   "outputs": [],
   "source": []
  }
 ],
 "metadata": {
  "kernelspec": {
   "display_name": "Python 3.11.4 ('stat')",
   "language": "python",
   "name": "python3"
  },
  "language_info": {
   "codemirror_mode": {
    "name": "ipython",
    "version": 3
   },
   "file_extension": ".py",
   "mimetype": "text/x-python",
   "name": "python",
   "nbconvert_exporter": "python",
   "pygments_lexer": "ipython3",
   "version": "3.11.4"
  },
  "orig_nbformat": 4,
  "vscode": {
   "interpreter": {
    "hash": "550906e9926f0f588aff226d3abadfa0c6a614c1c5eae7bfa21377021c1cb7ed"
   }
  }
 },
 "nbformat": 4,
 "nbformat_minor": 2
}
